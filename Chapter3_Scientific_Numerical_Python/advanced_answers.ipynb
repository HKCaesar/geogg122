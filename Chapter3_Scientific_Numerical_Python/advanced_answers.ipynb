{
 "metadata": {
  "name": ""
 },
 "nbformat": 3,
 "nbformat_minor": 0,
 "worksheets": [
  {
   "cells": [
    {
     "cell_type": "heading",
     "level": 2,
     "metadata": {},
     "source": [
      "E3.3: Exercise: Improved Solar Radiation Modelling"
     ]
    },
    {
     "cell_type": "markdown",
     "metadata": {},
     "source": [
      "Using the material above and the global albedo datasets from the main class material, **calculate an improved estimate of the total absorbed power per unit area per month (MJ per m^2 per month) for the Earth land surface**.\n",
      "\n",
      "You should do this with a function that will take as input the 1-D numpy arrays `lat` and `lon` that in this case will be of shape `(360)` and `(720)`, and the albedo array `albedo` that in this case will be shape `(12,360,720)` (though obviously, your function should work with any sized 3-D and associated 1-D arrays). It will also need to know the year.\n",
      "\n",
      "You might have an optional argument `minute_step` to control the resolution of the calculation as above.\n",
      "\n",
      "You could then use this to derive latitudinal variations in annual and latitudinal total absorbed power per unit area."
     ]
    },
    {
     "cell_type": "heading",
     "level": 2,
     "metadata": {},
     "source": [
      "AE3.3 Answer: Improved Solar Radiation Modelling"
     ]
    },
    {
     "cell_type": "markdown",
     "metadata": {},
     "source": [
      "The function definition should look something like:"
     ]
    },
    {
     "cell_type": "code",
     "collapsed": false,
     "input": [
      "def absorbed_power_density(lat,lon,albedo,year,minute_step=30):\n",
      "    '''Function to calculate the monthly total absorbed solar radiation\n",
      "        power density in MJ / m^2 for a given year\n",
      "        given an input dataset albedo and associated lat and lon\n",
      "        information (in degrees).\n",
      "        \n",
      "        The shape of the albedo dataset is: (12,nlat,nlon)\n",
      "        \n",
      "        Aguments:\n",
      "        \n",
      "        lat   : numpy array of shape (nlat) with the latitude\n",
      "                in degrees.\n",
      "        lon   : numpy array of shape (nlon) with the longitude \n",
      "                in degrees\n",
      "        albedo: albedo dataset with shape (12,nlat,nlon)\n",
      "        year  : integer of the year\n",
      "        \n",
      "        Options:\n",
      "        \n",
      "        minute_step : integer: resolution of steps in minutes. Must be\n",
      "                      a divisor of 60 (e.g. 10, 15, 30, 60)\n",
      "    '''\n",
      "    "
     ],
     "language": "python",
     "metadata": {},
     "outputs": [],
     "prompt_number": 1
    },
    {
     "cell_type": "markdown",
     "metadata": {},
     "source": [
      "The first thing to do is sort out the `lat` and `lon` arrays to be the same shape as `albedo`.\n",
      "\n",
      "Before that, we'd better read in the `albedo`, `lat` and `lon` datasets here though:"
     ]
    },
    {
     "cell_type": "code",
     "collapsed": false,
     "input": [
      "import sys\n",
      "sys.path.insert(0,'files/python')\n",
      "# modification of masked.py\n",
      "from masked2 import masked\n",
      "import numpy as np\n",
      "\n",
      "year = 2010\n",
      "\n",
      "data = masked(dataset=['lat','lon','BHR_SW'],year=year)\n"
     ],
     "language": "python",
     "metadata": {},
     "outputs": [],
     "prompt_number": 27
    },
    {
     "cell_type": "code",
     "collapsed": false,
     "input": [
      "# take the first lat and lon only as they are all the same\n",
      "lat = data['lat'][0]\n",
      "lon = data['lon'][0]\n",
      "albedo = data['BHR_SW']\n",
      "s = albedo.shape\n",
      "print s"
     ],
     "language": "python",
     "metadata": {},
     "outputs": [
      {
       "output_type": "stream",
       "stream": "stdout",
       "text": [
        "(12, 360, 720)\n"
       ]
      }
     ],
     "prompt_number": 28
    },
    {
     "cell_type": "code",
     "collapsed": false,
     "input": [
      "#\u00a0pad out the lat and lon arrays\n",
      "# this is a bit tricky so test this in parts\n",
      "# we dont need this repeated for each month though\n",
      "lat2 = np.array( [lat] *s[2]).T\n",
      "lon2 = np.array([lon] * s[1])"
     ],
     "language": "python",
     "metadata": {},
     "outputs": [],
     "prompt_number": 29
    },
    {
     "cell_type": "code",
     "collapsed": false,
     "input": [
      "print lat2.shape\n",
      "print lon2.shape"
     ],
     "language": "python",
     "metadata": {},
     "outputs": [
      {
       "output_type": "stream",
       "stream": "stdout",
       "text": [
        "(360, 720)\n",
        "(360, 720)\n"
       ]
      }
     ],
     "prompt_number": 30
    },
    {
     "cell_type": "markdown",
     "metadata": {},
     "source": [
      "Now put together the code for solar radiation modelling for a given lat/lon"
     ]
    },
    {
     "cell_type": "code",
     "collapsed": false,
     "input": [
      "import Pysolar\n",
      "from datetime import datetime\n",
      "\n",
      "def solar(year, month, day, hour, lat_deg, lon_deg, minute=0, second=0):\n",
      "    '''Return solar zenith and clear sky radiation\n",
      "       for given lat, lon and time/date\n",
      "    '''\n",
      "    from datetime import datetime\n",
      "    import Pysolar\n",
      "    \n",
      "    d = datetime(year, month, day, hour, minute, second) \n",
      "    altitude_deg = Pysolar.GetAltitude(lat_deg, lon_deg, d)\n",
      "    # W m^-2\n",
      "    solar_rad = Pysolar.solar.radiation.GetRadiationDirect(d, altitude_deg)\n",
      "    return 90. - altitude_deg,solar_rad\n",
      "\n",
      "def radiation(year, month, day, lat, lon,minute_step=30):\n",
      "    rad = []\n",
      "    for hour in xrange(24):\n",
      "        for minute in xrange(0,60,minute_step):\n",
      "            thr = hour + minute/60.\n",
      "            # append data line as tuple\n",
      "            rad.append((thr,) + \\\n",
      "                     solar(year, month, day, hour, lat, lon, minute=minute) +\\\n",
      "                     (month, day, lat, lon))\n",
      "    # convert to numpy array\n",
      "    # transpose so access eg zenith as \n",
      "    # rad[0]\n",
      "    rad = np.array(rad).T\n",
      "    return rad\n",
      "\n",
      "def days_in_month(month,year=2013):\n",
      "    ''' number of days in month'''\n",
      "    import calendar\n",
      "    return calendar.monthrange(year,month)[1]\n"
     ],
     "language": "python",
     "metadata": {},
     "outputs": [],
     "prompt_number": 33
    },
    {
     "cell_type": "code",
     "collapsed": false,
     "input": [
      "# UCL lat/lon\n",
      "lat = 51.5248\n",
      "lon = -0.1336\n",
      "\n",
      "year = 2013\n",
      "\n",
      "pd = []\n",
      "for month in xrange(12):\n",
      "    pd_month = []\n",
      "    ndays = days_in_month(month+1,year=year)\n",
      "    print month,ndays\n",
      "    for day in xrange(ndays):\n",
      "        rad = radiation(year, month+1, day+1, lat, lon)\n",
      "        pd_month.append([rad[2].sum() * 60 * 30])\n",
      "    pd_month = np.array(pd_month).T\n",
      "    pd.append([month,pd_month.sum()])\n",
      "pd = np.array(pd).T"
     ],
     "language": "python",
     "metadata": {},
     "outputs": [
      {
       "output_type": "stream",
       "stream": "stdout",
       "text": [
        "0 31\n",
        "1"
       ]
      },
      {
       "output_type": "stream",
       "stream": "stdout",
       "text": [
        " 28\n",
        "2"
       ]
      },
      {
       "output_type": "stream",
       "stream": "stdout",
       "text": [
        " 31\n",
        "3"
       ]
      },
      {
       "output_type": "stream",
       "stream": "stdout",
       "text": [
        " 30\n",
        "4"
       ]
      },
      {
       "output_type": "stream",
       "stream": "stdout",
       "text": [
        " 31\n",
        "5"
       ]
      },
      {
       "output_type": "stream",
       "stream": "stdout",
       "text": [
        " 30\n",
        "6"
       ]
      },
      {
       "output_type": "stream",
       "stream": "stdout",
       "text": [
        " 31\n",
        "7"
       ]
      },
      {
       "output_type": "stream",
       "stream": "stdout",
       "text": [
        " 31\n",
        "8"
       ]
      },
      {
       "output_type": "stream",
       "stream": "stdout",
       "text": [
        " 30\n",
        "9"
       ]
      },
      {
       "output_type": "stream",
       "stream": "stdout",
       "text": [
        " 31\n",
        "10"
       ]
      },
      {
       "output_type": "stream",
       "stream": "stdout",
       "text": [
        " 30\n",
        "11"
       ]
      },
      {
       "output_type": "stream",
       "stream": "stdout",
       "text": [
        " 31\n"
       ]
      }
     ],
     "prompt_number": 34
    },
    {
     "cell_type": "markdown",
     "metadata": {},
     "source": [
      "Putiing that all together now:"
     ]
    },
    {
     "cell_type": "code",
     "collapsed": false,
     "input": [
      "# functions so far\n",
      "\n",
      "import sys\n",
      "sys.path.insert(0,'files/python')\n",
      "# modification of masked.py\n",
      "from masked2 import masked\n",
      "import numpy as np\n",
      "import Pysolar\n",
      "from datetime import datetime\n",
      "\n",
      "def solar(year, month, day, hour, lat_deg, lon_deg, minute=0, second=0):\n",
      "    '''Return solar zenith and clear sky radiation\n",
      "       for given lat, lon and time/date\n",
      "    '''\n",
      "    from datetime import datetime\n",
      "    import Pysolar\n",
      "    \n",
      "    d = datetime(year, month, day, hour, minute, second) \n",
      "    altitude_deg = Pysolar.GetAltitude(lat_deg, lon_deg, d)\n",
      "    # W m^-2\n",
      "    solar_rad = Pysolar.solar.radiation.GetRadiationDirect(d, altitude_deg)\n",
      "    return 90. - altitude_deg,solar_rad\n",
      "\n",
      "def radiation(year, month, day, lat, lon,minute_step=30):\n",
      "    rad = []\n",
      "    for hour in xrange(24):\n",
      "        for minute in xrange(0,60,minute_step):\n",
      "            thr = hour + minute/60.\n",
      "            # append data line as tuple\n",
      "            rad.append((thr,) + \\\n",
      "                     solar(year, month, day, hour, lat, lon, minute=minute) +\\\n",
      "                     (month, day, lat, lon))\n",
      "    # convert to numpy array\n",
      "    # transpose so access eg zenith as \n",
      "    # rad[0]\n",
      "    rad = np.array(rad).T\n",
      "    return rad\n",
      "\n",
      "def days_in_month(month,year=2013):\n",
      "    ''' number of days in month'''\n",
      "    import calendar\n",
      "    return calendar.monthrange(year,month)[1]\n",
      "\n"
     ],
     "language": "python",
     "metadata": {},
     "outputs": [],
     "prompt_number": 51
    },
    {
     "cell_type": "code",
     "collapsed": false,
     "input": [
      "'''\n",
      "Processing -- test for one lat/long\n",
      "'''\n",
      "\n",
      "year = 2010\n",
      "\n",
      "minute_step = 60\n",
      "\n",
      "data = masked(dataset=['lat','lon','BHR_SW'],year=year)\n",
      "\n",
      "lat = data['lat'][0]\n",
      "lon = data['lon'][0]\n",
      "albedo = data['BHR_SW']\n",
      "s = albedo.shape\n",
      "lat = ma.array( [lat] *s[2]).T\n",
      "lon = ma.array([lon] * s[1])\n",
      "\n",
      "# array for output\n",
      "absorbed = ma.array(np.zeros_like(albedo),mask=albedo.mask)\n",
      "# \n",
      "\n",
      "#for i in xrange(lat.shape[0]):\n",
      "#    for j in xrange(lat.shape[1]):\n",
      "\n",
      "# try it out for one sample only\n",
      "ww = np.where(albedo>0)\n",
      "i,j = ww[1][0],ww[2][0]\n",
      "print i,j\n",
      "\n",
      "pd = []\n",
      "# loop over month\n",
      "for month in xrange(12):\n",
      "    pd_month = []\n",
      "    ndays = days_in_month(month+1,year=year)\n",
      "    print i,j,month,ndays\n",
      "    # loop over days\n",
      "    for day in xrange(ndays):\n",
      "        # solar radiation for that day\n",
      "        rad = radiation(year, month+1, day+1, \\\n",
      "                        lat[i,j], lon[i,j],minute_step=minute_step)\n",
      "        pd_month.append([rad[2].sum() * 60 * minute_step])\n",
      "    pd_month = np.array(pd_month).T\n",
      "    pd.append([pd_month.sum()])\n",
      "pd = np.array(pd).T\n",
      "# pd is the power density for each month\n",
      "\n",
      "absorbed[:,i,j] = pd * (1 - albedo[:,i,j]) / 10** 6 #\u00a0Mj per m2\n"
     ],
     "language": "python",
     "metadata": {},
     "outputs": [
      {
       "output_type": "stream",
       "stream": "stdout",
       "text": [
        "13 274\n",
        "13 274 0 31\n",
        "13"
       ]
      },
      {
       "output_type": "stream",
       "stream": "stdout",
       "text": [
        " 274 1 28\n",
        "13"
       ]
      },
      {
       "output_type": "stream",
       "stream": "stdout",
       "text": [
        " 274 2 31\n",
        "13"
       ]
      },
      {
       "output_type": "stream",
       "stream": "stdout",
       "text": [
        " 274 3 30\n",
        "13"
       ]
      },
      {
       "output_type": "stream",
       "stream": "stdout",
       "text": [
        " 274 4 31\n",
        "13"
       ]
      },
      {
       "output_type": "stream",
       "stream": "stdout",
       "text": [
        " 274 5 30\n",
        "13"
       ]
      },
      {
       "output_type": "stream",
       "stream": "stdout",
       "text": [
        " 274 6 31\n",
        "13"
       ]
      },
      {
       "output_type": "stream",
       "stream": "stdout",
       "text": [
        " 274 7 31\n",
        "13"
       ]
      },
      {
       "output_type": "stream",
       "stream": "stdout",
       "text": [
        " 274 8 30\n",
        "13"
       ]
      },
      {
       "output_type": "stream",
       "stream": "stdout",
       "text": [
        " 274 9 31\n",
        "13"
       ]
      },
      {
       "output_type": "stream",
       "stream": "stdout",
       "text": [
        " 274 10 30\n",
        "13"
       ]
      },
      {
       "output_type": "stream",
       "stream": "stdout",
       "text": [
        " 274 11 31\n"
       ]
      }
     ],
     "prompt_number": 52
    },
    {
     "cell_type": "code",
     "collapsed": false,
     "input": [
      "print absorbed[:,i,j]"
     ],
     "language": "python",
     "metadata": {},
     "outputs": [
      {
       "output_type": "stream",
       "stream": "stdout",
       "text": [
        "[0.0 0.0 77.39283752441406 435.597900390625 721.2518310546875 749.658203125\n",
        " 739.9719848632812 673.8375244140625 198.09326171875 1.3788892030715942 0.0\n",
        " 0.0]\n",
        "0\n"
       ]
      }
     ],
     "prompt_number": 56
    },
    {
     "cell_type": "markdown",
     "metadata": {},
     "source": [
      "Putting this into a function (in this case, reading the albedo, lat and long internally):"
     ]
    },
    {
     "cell_type": "code",
     "collapsed": false,
     "input": [
      "def absorbed_power_density(year,minute_step=60,sub=8):\n",
      "    '''Function to calculate the monthly total absorbed solar radiation\n",
      "        power density in MJ / m^2 for a given year\n",
      "        given an input dataset albedo and associated lat and lon\n",
      "        information (in degrees).\n",
      "        \n",
      "        The shape of the albedo dataset is: (12,nlat,nlon)\n",
      "        \n",
      "        Aguments:\n",
      "        \n",
      "        year  : integer of the year\n",
      "        \n",
      "        Options:\n",
      "        \n",
      "        minute_step : integer: resolution of steps in minutes. Must be\n",
      "                      a divisor of 60 (e.g. 10, 15, 30, 60)\n",
      "        sub          : sub sampling\n",
      "    '''\n",
      "\n",
      "    data = masked(dataset=['lat','lon','BHR_SW'],year=year)\n",
      "    \n",
      "    lat = data['lat'][0]\n",
      "    lon = data['lon'][0]\n",
      "    albedo = data['BHR_SW']\n",
      "    s = albedo.shape\n",
      "    lat = ma.array( [lat] *s[2]).T\n",
      "    lon = ma.array([lon] * s[1])\n",
      "    \n",
      "    # array for output\n",
      "    absorbed = ma.array(np.zeros_like(albedo),mask=albedo.mask)\n",
      "    power_density = ma.array(np.zeros_like(albedo),mask=albedo.mask)\n",
      "    # \n",
      "    \n",
      "    for i in xrange(0,lat.shape[0],sub):\n",
      "        print 'lat',lat[i,0]\n",
      "        for j in xrange(0,lat.shape[1],sub):\n",
      "            pd = []\n",
      "            # loop over month\n",
      "            for month in xrange(12):\n",
      "                pd_month = []\n",
      "                ndays = days_in_month(month+1,year=year)\n",
      "                # loop over days\n",
      "                for day in xrange(ndays):\n",
      "                    # solar radiation for that day\n",
      "                    rad = radiation(year, month+1, day+1, \\\n",
      "                                    lat[i,j], lon[i,j],minute_step=minute_step)\n",
      "                    pd_month.append([rad[2].sum() * 60 * minute_step])\n",
      "                pd_month = np.array(pd_month).T\n",
      "                pd.append([pd_month.sum()])\n",
      "            pd = np.array(pd).T\n",
      "            # pd is the power density for each month\n",
      "            power_density[:,i,j] = pd\n",
      "    absorbed = pd * (1 - albedo) / 10** 6 # MJ per m2\n",
      "    return absorbed,power_density"
     ],
     "language": "python",
     "metadata": {},
     "outputs": [],
     "prompt_number": 70
    },
    {
     "cell_type": "code",
     "collapsed": false,
     "input": [
      "# warning: this will take some time (hours) to run\n",
      "# and would be a good candidate for parallelisation\n",
      "# so you should probably save the file afterwards and load\n",
      "# it to demonstrate running.\n",
      "# Also, we would expect the variation with latitude to vary only slowly\n",
      "# (in the model used in the main notes, it doesn't vary at all with\n",
      "# longitude) so this would be much more efficient if it were\n",
      "# only calculated every N points and then interpolated\n",
      "# here, we try to load a saved file before bothering\n",
      "# to run\n",
      "try:\n",
      "    f = np.load('files/data/absorbed.npz')\n",
      "    absorbed,power_density = f['absorbed'],f['power_density']\n",
      "except:\n",
      "    absorbed,power_density = absorbed_power_density(year,minute_step=60)"
     ],
     "language": "python",
     "metadata": {},
     "outputs": [],
     "prompt_number": "*"
    },
    {
     "cell_type": "code",
     "collapsed": false,
     "input": [
      "# this is how you can save a numpy array\n",
      "np.savez('files/data/absorbed.npz',absorbed=absorbed,power_density=power_density)"
     ],
     "language": "python",
     "metadata": {},
     "outputs": []
    },
    {
     "cell_type": "code",
     "collapsed": false,
     "input": [
      "import pylab as plt\n",
      "\n",
      "cmap = plt.get_cmap('Spectral')\n",
      "vmax = absorbed.max()\n",
      "vmin = absorbed.min()\n",
      "\n",
      "for m in xrange(12):\n",
      "    plt.figure(figsize=(7,7))\n",
      "    plt.title('Month %02d %d'%(m,year))\n",
      "    plt.imshow(absorbed[m],cmap=cmap,interpolation='none',vmin=vmin,vmax=vmax)\n",
      "    plt.colorbar()"
     ],
     "language": "python",
     "metadata": {},
     "outputs": []
    },
    {
     "cell_type": "markdown",
     "metadata": {},
     "source": [
      "This code is very slow. \n",
      "\n",
      "You should look it over and see how you might make it more efficient.\n",
      "\n",
      "Some ideas:\n",
      "\n",
      "- interpolate the radiation field (over longitude for sure) and possibly ovewr latitude\n",
      "- when calculating daily integrals, don;t start the calculations until the sun is above the horizon (and the same for sunset).\n",
      "\n",
      "The exercise asks you to perform summations over latitude. This should be simple enough, being of the form:\n",
      "\n",
      "    absorbed.sum(axis=(0,2))\n",
      "\n",
      "which will sum over axes 0 (month) and 2 (longitude).\n",
      "\n",
      "Total absorbed involves working out the area for each sample pixel and including that in teh calculation. That is left as an exercise here."
     ]
    }
   ],
   "metadata": {}
  }
 ]
}