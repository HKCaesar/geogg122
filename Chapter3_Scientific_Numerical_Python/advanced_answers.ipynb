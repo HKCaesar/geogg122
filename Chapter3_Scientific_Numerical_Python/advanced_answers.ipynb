{
 "metadata": {
  "name": "advanced_answers"
 },
 "nbformat": 3,
 "nbformat_minor": 0,
 "worksheets": [
  {
   "cells": [
    {
     "cell_type": "heading",
     "level": 2,
     "metadata": {},
     "source": [
      "E3.3: Exercise: Improved Solar Radiation Modelling"
     ]
    },
    {
     "cell_type": "markdown",
     "metadata": {},
     "source": [
      "Using the material above and the global albedo datasets from the main class material, **calculate an improved estimate of the total absorbed power per unit area per month (MJ per m^2 per month) for the Earth land surface**.\n",
      "\n",
      "You should do this with a function that will take as input the year and returns the monthly total absorbed power density (MJ m^-2 per month) and the monthly total power density (MJ m^-2 per month). \n",
      "\n",
      "You might have an optional argument `minute_step` to control the resolution of the calculation as above.\n",
      "\n",
      "You could then use this to derive latitudinal variations in annual and latitudinal total absorbed power per unit area."
     ]
    },
    {
     "cell_type": "heading",
     "level": 2,
     "metadata": {},
     "source": [
      "AE3.3 Answer: Improved Solar Radiation Modelling"
     ]
    },
    {
     "cell_type": "markdown",
     "metadata": {},
     "source": [
      "The function definition should look something like:"
     ]
    },
    {
     "cell_type": "code",
     "collapsed": false,
     "input": [
      "def absorbed_power_density(year,minute_step=60):\n",
      "    '''Function to calculate the monthly total absorbed solar radiation\n",
      "        power density in MJ / m^2 for a given year\n",
      "        given an input dataset albedo and associated lat and lon\n",
      "        information (in degrees).\n",
      "        \n",
      "        The shape of the albedo dataset is: (12,nlat,nlon)\n",
      "        \n",
      "        Aguments:\n",
      "        \n",
      "        year  : integer of the year\n",
      "        \n",
      "        Options:\n",
      "        \n",
      "        minute_step : integer: resolution of steps in minutes. Must be\n",
      "                      a divisor of 60 (e.g. 10, 15, 30, 60)\n",
      "\n",
      "    '''\n"
     ],
     "language": "python",
     "metadata": {},
     "outputs": [],
     "prompt_number": 3
    },
    {
     "cell_type": "markdown",
     "metadata": {},
     "source": [
      "The first thing to do is sort out the `lat` and `lon` arrays to be the same shape as `albedo`.\n",
      "\n",
      "Before that, we'd better read in the `albedo`, `lat` and `lon` datasets here though:"
     ]
    },
    {
     "cell_type": "code",
     "collapsed": false,
     "input": [
      "import sys\n",
      "sys.path.insert(0,'files/python')\n",
      "# modification of masked.py\n",
      "from masked2 import masked\n",
      "import numpy as np\n",
      "\n",
      "year = 2010\n",
      "\n",
      "data = masked(dataset=['lat','lon','BHR_SW'],year=year)\n"
     ],
     "language": "python",
     "metadata": {},
     "outputs": [],
     "prompt_number": 4
    },
    {
     "cell_type": "code",
     "collapsed": false,
     "input": [
      "# take the first lat and lon only as they are all the same\n",
      "lat = data['lat'][0]\n",
      "lon = data['lon'][0]\n",
      "albedo = data['BHR_SW']\n",
      "s = albedo.shape\n",
      "print s"
     ],
     "language": "python",
     "metadata": {},
     "outputs": [
      {
       "output_type": "stream",
       "stream": "stdout",
       "text": [
        "(12, 360, 720)\n"
       ]
      }
     ],
     "prompt_number": 5
    },
    {
     "cell_type": "code",
     "collapsed": false,
     "input": [
      "#\u00a0pad out the lat and lon arrays\n",
      "# this is a bit tricky so test this in parts\n",
      "# we dont need this repeated for each month though\n",
      "lat2 = np.array([lat] * s[2]).T\n",
      "lon2 = np.array([lon] * s[1])"
     ],
     "language": "python",
     "metadata": {},
     "outputs": [],
     "prompt_number": 6
    },
    {
     "cell_type": "code",
     "collapsed": false,
     "input": [
      "print lat2.shape\n",
      "print lon2.shape"
     ],
     "language": "python",
     "metadata": {},
     "outputs": [
      {
       "output_type": "stream",
       "stream": "stdout",
       "text": [
        "(360, 720)\n",
        "(360, 720)\n"
       ]
      }
     ],
     "prompt_number": 7
    },
    {
     "cell_type": "markdown",
     "metadata": {},
     "source": [
      "Now put together the code for solar radiation modelling for a given lat/lon"
     ]
    },
    {
     "cell_type": "code",
     "collapsed": false,
     "input": [
      "import Pysolar\n",
      "from datetime import datetime\n",
      "\n",
      "def solar(year, month, day, hour, lat_deg, lon_deg, minute=0, second=0):\n",
      "    '''Return solar zenith and clear sky radiation\n",
      "       for given lat, lon and time/date\n",
      "    '''\n",
      "    from datetime import datetime\n",
      "    import Pysolar\n",
      "    \n",
      "    d = datetime(year, month, day, hour, minute, second) \n",
      "    altitude_deg = Pysolar.GetAltitude(lat_deg, lon_deg, d)\n",
      "    # W m^-2\n",
      "    solar_rad = Pysolar.solar.radiation.GetRadiationDirect(d, altitude_deg)\n",
      "    return 90. - altitude_deg,solar_rad\n",
      "\n",
      "def radiation(year, month, day, lat, lon,minute_step=30):\n",
      "    rad = []\n",
      "    for hour in xrange(24):\n",
      "        for minute in xrange(0,60,minute_step):\n",
      "            thr = hour + minute/60.\n",
      "            # append data line as tuple\n",
      "            rad.append((thr,) + \\\n",
      "                     solar(year, month, day, hour, lat, lon, minute=minute) +\\\n",
      "                     (month, day, lat, lon))\n",
      "    # convert to numpy array\n",
      "    # transpose so access eg zenith as \n",
      "    # rad[0]\n",
      "    rad = np.array(rad).T\n",
      "    return rad\n",
      "\n",
      "def days_in_month(month,year=2013):\n",
      "    ''' number of days in month'''\n",
      "    import calendar\n",
      "    return calendar.monthrange(year,month)[1]\n"
     ],
     "language": "python",
     "metadata": {},
     "outputs": [],
     "prompt_number": 8
    },
    {
     "cell_type": "code",
     "collapsed": false,
     "input": [
      "# UCL lat/lon\n",
      "lat = 51.5248\n",
      "lon = -0.1336\n",
      "\n",
      "year = 2013\n",
      "\n",
      "pd = []\n",
      "for month in xrange(12):\n",
      "    pd_month = []\n",
      "    ndays = days_in_month(month+1,year=year)\n",
      "    print month,ndays\n",
      "    for day in xrange(ndays):\n",
      "        rad = radiation(year, month+1, day+1, lat, lon)\n",
      "        pd_month.append([rad[2].sum() * 60 * 30])\n",
      "    pd_month = np.array(pd_month).T\n",
      "    pd.append([month,pd_month.sum()])\n",
      "pd = np.array(pd).T"
     ],
     "language": "python",
     "metadata": {},
     "outputs": [
      {
       "output_type": "stream",
       "stream": "stdout",
       "text": [
        "0 31\n",
        "1"
       ]
      },
      {
       "output_type": "stream",
       "stream": "stdout",
       "text": [
        " 28\n",
        "2"
       ]
      },
      {
       "output_type": "stream",
       "stream": "stdout",
       "text": [
        " 31\n",
        "3"
       ]
      },
      {
       "output_type": "stream",
       "stream": "stdout",
       "text": [
        " 30\n",
        "4"
       ]
      },
      {
       "output_type": "stream",
       "stream": "stdout",
       "text": [
        " 31\n",
        "5"
       ]
      },
      {
       "output_type": "stream",
       "stream": "stdout",
       "text": [
        " 30\n",
        "6"
       ]
      },
      {
       "output_type": "stream",
       "stream": "stdout",
       "text": [
        " 31\n",
        "7"
       ]
      },
      {
       "output_type": "stream",
       "stream": "stdout",
       "text": [
        " 31\n",
        "8"
       ]
      },
      {
       "output_type": "stream",
       "stream": "stdout",
       "text": [
        " 30\n",
        "9"
       ]
      },
      {
       "output_type": "stream",
       "stream": "stdout",
       "text": [
        " 31\n",
        "10"
       ]
      },
      {
       "output_type": "stream",
       "stream": "stdout",
       "text": [
        " 30\n",
        "11"
       ]
      },
      {
       "output_type": "stream",
       "stream": "stdout",
       "text": [
        " 31\n"
       ]
      }
     ],
     "prompt_number": 9
    },
    {
     "cell_type": "markdown",
     "metadata": {},
     "source": [
      "Putiing that all together now:"
     ]
    },
    {
     "cell_type": "code",
     "collapsed": false,
     "input": [
      "# functions so far\n",
      "\n",
      "import sys\n",
      "sys.path.insert(0,'files/python')\n",
      "# modification of masked.py\n",
      "from masked2 import masked\n",
      "import numpy as np\n",
      "import Pysolar\n",
      "from datetime import datetime\n",
      "\n",
      "def solar(year, month, day, hour, lat_deg, lon_deg, minute=0, second=0):\n",
      "    '''Return solar zenith and clear sky radiation\n",
      "       for given lat, lon and time/date\n",
      "    '''\n",
      "    from datetime import datetime\n",
      "    import Pysolar\n",
      "    \n",
      "    d = datetime(year, month, day, hour, minute, second) \n",
      "    altitude_deg = Pysolar.GetAltitude(lat_deg, lon_deg, d)\n",
      "    # W m^-2\n",
      "    solar_rad = Pysolar.solar.radiation.GetRadiationDirect(d, altitude_deg)\n",
      "    return 90. - altitude_deg,solar_rad\n",
      "\n",
      "def radiation(year, month, day, lat, lon,minute_step=30):\n",
      "    rad = []\n",
      "    for hour in xrange(24):\n",
      "        for minute in xrange(0,60,minute_step):\n",
      "            thr = hour + minute/60.\n",
      "            # append data line as tuple\n",
      "            rad.append((thr,) + \\\n",
      "                     solar(year, month, day, hour, lat, lon, minute=minute) +\\\n",
      "                     (month, day, lat, lon))\n",
      "    # convert to numpy array\n",
      "    # transpose so access eg zenith as \n",
      "    # rad[0]\n",
      "    rad = np.array(rad).T\n",
      "    return rad\n",
      "\n",
      "def days_in_month(month,year=2013):\n",
      "    ''' number of days in month'''\n",
      "    import calendar\n",
      "    return calendar.monthrange(year,month)[1]\n",
      "\n"
     ],
     "language": "python",
     "metadata": {},
     "outputs": [],
     "prompt_number": 10
    },
    {
     "cell_type": "markdown",
     "metadata": {},
     "source": [
      "Before proceeding, let us examine the variation in total monthly power density with latitude.\n",
      "\n",
      "With the model developed in the main notes, we would expect no varition with longitude (it was a function of latitude only).\n",
      "\n",
      "In this more precise model, we would expect only small variation,  but we should examine this:"
     ]
    },
    {
     "cell_type": "code",
     "collapsed": false,
     "input": [
      "'''\n",
      "Processing -- test for several lat/long\n",
      "'''\n",
      "\n",
      "year = 2010\n",
      "\n",
      "minute_step = 60\n",
      "\n",
      "data = masked(dataset=['lat','lon','BHR_SW'],year=year)\n",
      "\n",
      "lat = data['lat'][0]\n",
      "lon = data['lon'][0]\n",
      "albedo = data['BHR_SW']\n",
      "s = albedo.shape\n",
      "lat = ma.array( [lat] *s[2]).T\n",
      "lon = ma.array([lon] * s[1])\n",
      "\n",
      "# array for output\n",
      "absorbed = ma.array(np.zeros_like(albedo),mask=albedo.mask)\n",
      "# \n",
      "\n",
      "#for i in xrange(lat.shape[0]):\n",
      "#    for j in xrange(lat.shape[1]):\n",
      "\n",
      "# try it out for 6 samples in longitude, including first and last\n",
      "lons = range(0,lon.shape[1],lon.shape[1]/5) + [lon.shape[1]-1]\n",
      "\n",
      "# an array to hold the sample pd for the sample\n",
      "# longitudes\n",
      "all_pd = []\n",
      "\n",
      "i = lon.shape[0]/2\n",
      "for j in lons:\n",
      "    pd = []\n",
      "    # loop over month\n",
      "    for month in xrange(12):\n",
      "        pd_month = []\n",
      "        ndays = days_in_month(month+1,year=year)\n",
      "        print i,j,month,ndays\n",
      "        # loop over days\n",
      "        for day in xrange(ndays):\n",
      "            # solar radiation for that day\n",
      "            rad = radiation(year, month+1, day+1, \\\n",
      "                            lat[i,j], lon[i,j],minute_step=minute_step)\n",
      "            pd_month.append([rad[2].sum() * 60 * minute_step])\n",
      "        pd_month = np.array(pd_month).T\n",
      "        pd.append([pd_month.sum()])\n",
      "    # pd is the power density for each month\n",
      "    all_pd.append(pd)\n",
      "    \n",
      "# MJ per m2\n",
      "all_pd = np.array(all_pd).squeeze()\n"
     ],
     "language": "python",
     "metadata": {},
     "outputs": [
      {
       "output_type": "stream",
       "stream": "stdout",
       "text": [
        "180 0 0 31\n",
        "180"
       ]
      },
      {
       "output_type": "stream",
       "stream": "stdout",
       "text": [
        " 0 1 28\n",
        "180"
       ]
      },
      {
       "output_type": "stream",
       "stream": "stdout",
       "text": [
        " 0 2 31\n",
        "180"
       ]
      },
      {
       "output_type": "stream",
       "stream": "stdout",
       "text": [
        " 0 3 30\n",
        "180"
       ]
      },
      {
       "output_type": "stream",
       "stream": "stdout",
       "text": [
        " 0 4 31\n",
        "180"
       ]
      },
      {
       "output_type": "stream",
       "stream": "stdout",
       "text": [
        " 0 5 30\n",
        "180"
       ]
      },
      {
       "output_type": "stream",
       "stream": "stdout",
       "text": [
        " 0 6 31\n",
        "180"
       ]
      },
      {
       "output_type": "stream",
       "stream": "stdout",
       "text": [
        " 0 7 31\n",
        "180"
       ]
      },
      {
       "output_type": "stream",
       "stream": "stdout",
       "text": [
        " 0 8 30\n",
        "180"
       ]
      },
      {
       "output_type": "stream",
       "stream": "stdout",
       "text": [
        " 0 9 31\n",
        "180"
       ]
      },
      {
       "output_type": "stream",
       "stream": "stdout",
       "text": [
        " 0 10 30\n",
        "180"
       ]
      },
      {
       "output_type": "stream",
       "stream": "stdout",
       "text": [
        " 0 11 31\n",
        "180"
       ]
      },
      {
       "output_type": "stream",
       "stream": "stdout",
       "text": [
        " 144 0 31\n",
        "180"
       ]
      },
      {
       "output_type": "stream",
       "stream": "stdout",
       "text": [
        " 144 1 28\n",
        "180"
       ]
      },
      {
       "output_type": "stream",
       "stream": "stdout",
       "text": [
        " 144 2 31\n",
        "180"
       ]
      },
      {
       "output_type": "stream",
       "stream": "stdout",
       "text": [
        " 144 3 30\n",
        "180"
       ]
      },
      {
       "output_type": "stream",
       "stream": "stdout",
       "text": [
        " 144 4 31\n",
        "180"
       ]
      },
      {
       "output_type": "stream",
       "stream": "stdout",
       "text": [
        " 144 5 30\n",
        "180"
       ]
      },
      {
       "output_type": "stream",
       "stream": "stdout",
       "text": [
        " 144 6 31\n",
        "180"
       ]
      },
      {
       "output_type": "stream",
       "stream": "stdout",
       "text": [
        " 144 7 31\n",
        "180"
       ]
      },
      {
       "output_type": "stream",
       "stream": "stdout",
       "text": [
        " 144 8 30\n",
        "180"
       ]
      },
      {
       "output_type": "stream",
       "stream": "stdout",
       "text": [
        " 144 9 31\n",
        "180"
       ]
      },
      {
       "output_type": "stream",
       "stream": "stdout",
       "text": [
        " 144 10 30\n",
        "180"
       ]
      },
      {
       "output_type": "stream",
       "stream": "stdout",
       "text": [
        " 144 11 31\n",
        "180"
       ]
      },
      {
       "output_type": "stream",
       "stream": "stdout",
       "text": [
        " 288 0 31\n",
        "180"
       ]
      },
      {
       "output_type": "stream",
       "stream": "stdout",
       "text": [
        " 288 1 28\n",
        "180"
       ]
      },
      {
       "output_type": "stream",
       "stream": "stdout",
       "text": [
        " 288 2 31\n",
        "180"
       ]
      },
      {
       "output_type": "stream",
       "stream": "stdout",
       "text": [
        " 288 3 30\n",
        "180"
       ]
      },
      {
       "output_type": "stream",
       "stream": "stdout",
       "text": [
        " 288 4 31\n",
        "180"
       ]
      },
      {
       "output_type": "stream",
       "stream": "stdout",
       "text": [
        " 288 5 30\n",
        "180"
       ]
      },
      {
       "output_type": "stream",
       "stream": "stdout",
       "text": [
        " 288 6 31\n",
        "180"
       ]
      },
      {
       "output_type": "stream",
       "stream": "stdout",
       "text": [
        " 288 7 31\n",
        "180"
       ]
      },
      {
       "output_type": "stream",
       "stream": "stdout",
       "text": [
        " 288 8 30\n",
        "180"
       ]
      },
      {
       "output_type": "stream",
       "stream": "stdout",
       "text": [
        " 288 9 31\n",
        "180"
       ]
      },
      {
       "output_type": "stream",
       "stream": "stdout",
       "text": [
        " 288 10 30\n",
        "180"
       ]
      },
      {
       "output_type": "stream",
       "stream": "stdout",
       "text": [
        " 288 11 31\n",
        "180"
       ]
      },
      {
       "output_type": "stream",
       "stream": "stdout",
       "text": [
        " 432 0 31\n",
        "180"
       ]
      },
      {
       "output_type": "stream",
       "stream": "stdout",
       "text": [
        " 432 1 28\n",
        "180"
       ]
      },
      {
       "output_type": "stream",
       "stream": "stdout",
       "text": [
        " 432 2 31\n",
        "180"
       ]
      },
      {
       "output_type": "stream",
       "stream": "stdout",
       "text": [
        " 432 3 30\n",
        "180"
       ]
      },
      {
       "output_type": "stream",
       "stream": "stdout",
       "text": [
        " 432 4 31\n",
        "180"
       ]
      },
      {
       "output_type": "stream",
       "stream": "stdout",
       "text": [
        " 432 5 30\n",
        "180"
       ]
      },
      {
       "output_type": "stream",
       "stream": "stdout",
       "text": [
        " 432 6 31\n",
        "180"
       ]
      },
      {
       "output_type": "stream",
       "stream": "stdout",
       "text": [
        " 432 7 31\n",
        "180"
       ]
      },
      {
       "output_type": "stream",
       "stream": "stdout",
       "text": [
        " 432 8 30\n",
        "180"
       ]
      },
      {
       "output_type": "stream",
       "stream": "stdout",
       "text": [
        " 432 9 31\n",
        "180"
       ]
      },
      {
       "output_type": "stream",
       "stream": "stdout",
       "text": [
        " 432 10 30\n",
        "180"
       ]
      },
      {
       "output_type": "stream",
       "stream": "stdout",
       "text": [
        " 432 11 31\n",
        "180"
       ]
      },
      {
       "output_type": "stream",
       "stream": "stdout",
       "text": [
        " 576 0 31\n",
        "180"
       ]
      },
      {
       "output_type": "stream",
       "stream": "stdout",
       "text": [
        " 576 1 28\n",
        "180"
       ]
      },
      {
       "output_type": "stream",
       "stream": "stdout",
       "text": [
        " 576 2 31\n",
        "180"
       ]
      },
      {
       "output_type": "stream",
       "stream": "stdout",
       "text": [
        " 576 3 30\n",
        "180"
       ]
      },
      {
       "output_type": "stream",
       "stream": "stdout",
       "text": [
        " 576 4 31\n",
        "180"
       ]
      },
      {
       "output_type": "stream",
       "stream": "stdout",
       "text": [
        " 576 5 30\n",
        "180"
       ]
      },
      {
       "output_type": "stream",
       "stream": "stdout",
       "text": [
        " 576 6 31\n",
        "180"
       ]
      },
      {
       "output_type": "stream",
       "stream": "stdout",
       "text": [
        " 576 7 31\n",
        "180"
       ]
      },
      {
       "output_type": "stream",
       "stream": "stdout",
       "text": [
        " 576 8 30\n",
        "180"
       ]
      },
      {
       "output_type": "stream",
       "stream": "stdout",
       "text": [
        " 576 9 31\n",
        "180"
       ]
      },
      {
       "output_type": "stream",
       "stream": "stdout",
       "text": [
        " 576 10 30\n",
        "180"
       ]
      },
      {
       "output_type": "stream",
       "stream": "stdout",
       "text": [
        " 576 11 31\n",
        "180"
       ]
      },
      {
       "output_type": "stream",
       "stream": "stdout",
       "text": [
        " 719 0 31\n",
        "180"
       ]
      },
      {
       "output_type": "stream",
       "stream": "stdout",
       "text": [
        " 719 1 28\n",
        "180"
       ]
      },
      {
       "output_type": "stream",
       "stream": "stdout",
       "text": [
        " 719 2 31\n",
        "180"
       ]
      },
      {
       "output_type": "stream",
       "stream": "stdout",
       "text": [
        " 719 3 30\n",
        "180"
       ]
      },
      {
       "output_type": "stream",
       "stream": "stdout",
       "text": [
        " 719 4 31\n",
        "180"
       ]
      },
      {
       "output_type": "stream",
       "stream": "stdout",
       "text": [
        " 719 5 30\n",
        "180"
       ]
      },
      {
       "output_type": "stream",
       "stream": "stdout",
       "text": [
        " 719 6 31\n",
        "180"
       ]
      },
      {
       "output_type": "stream",
       "stream": "stdout",
       "text": [
        " 719 7 31\n",
        "180"
       ]
      },
      {
       "output_type": "stream",
       "stream": "stdout",
       "text": [
        " 719 8 30\n",
        "180"
       ]
      },
      {
       "output_type": "stream",
       "stream": "stdout",
       "text": [
        " 719 9 31\n",
        "180"
       ]
      },
      {
       "output_type": "stream",
       "stream": "stdout",
       "text": [
        " 719 10 30\n",
        "180"
       ]
      },
      {
       "output_type": "stream",
       "stream": "stdout",
       "text": [
        " 719 11 31\n"
       ]
      }
     ],
     "prompt_number": 17
    },
    {
     "cell_type": "code",
     "collapsed": false,
     "input": [
      "import pylab as plt\n",
      "plt.plot(lon[0,lons],all_pd)\n",
      "plt.xlim(-180.,180.)\n",
      "plt.xlabel('latitude')\n",
      "plt.ylabel('power density total per month')"
     ],
     "language": "python",
     "metadata": {},
     "outputs": [
      {
       "output_type": "pyout",
       "prompt_number": 18,
       "text": [
        "<matplotlib.text.Text at 0x10c562050>"
       ]
      },
      {
       "output_type": "display_data",
       "png": "[encoded data removed]"
      }
     ],
     "prompt_number": 18
    },
    {
     "cell_type": "markdown",
     "metadata": {},
     "source": [
      "So, with this in mind, let's just take a single value per latitude as otherwise the processing cost will be rather high."
     ]
    },
    {
     "cell_type": "markdown",
     "metadata": {},
     "source": [
      "Putting this into a function (in this case, reading the albedo, lat and long internally):"
     ]
    },
    {
     "cell_type": "code",
     "collapsed": false,
     "input": [
      "def absorbed_power_density(year,minute_step=60):\n",
      "    '''Function to calculate the monthly total absorbed solar radiation\n",
      "        power density in MJ / m^2 for a given year\n",
      "        given an input dataset albedo and associated lat and lon\n",
      "        information (in degrees).\n",
      "        \n",
      "        The shape of the albedo dataset is: (12,nlat,nlon)\n",
      "        \n",
      "        Aguments:\n",
      "        \n",
      "        year  : integer of the year\n",
      "        \n",
      "        Options:\n",
      "        \n",
      "        minute_step : integer: resolution of steps in minutes. Must be\n",
      "                      a divisor of 60 (e.g. 10, 15, 30, 60)\n",
      "\n",
      "    '''\n",
      "\n",
      "    data = masked(dataset=['lat','lon','BHR_SW'],year=year)\n",
      "    \n",
      "    lat = data['lat'][0]\n",
      "    lon = data['lon'][0]\n",
      "    albedo = data['BHR_SW']\n",
      "    s = albedo.shape\n",
      "    lat = ma.array( [lat] *s[2]).T\n",
      "    lon = ma.array([lon] * s[1])\n",
      "    \n",
      "    # array for output\n",
      "    absorbed = ma.array(np.zeros_like(albedo),mask=albedo.mask)\n",
      "    power_density = ma.array(np.zeros_like(albedo),mask=albedo.mask)\n",
      "    # \n",
      "    \n",
      "    for i in xrange(0,lat.shape[0]):\n",
      "        print 'lat',lat[i,0]\n",
      "        # single longitude\n",
      "        for j in [lat.shape[1]/2]:\n",
      "            pd = []\n",
      "            # loop over month\n",
      "            for month in xrange(12):\n",
      "                pd_month = []\n",
      "                ndays = days_in_month(month+1,year=year)\n",
      "                # loop over days\n",
      "                for day in xrange(ndays):\n",
      "                    # solar radiation for that day\n",
      "                    rad = radiation(year, month+1, day+1, \\\n",
      "                                    lat[i,j], lon[i,j],minute_step=minute_step)\n",
      "                    pd_month.append([rad[2].sum() * 60 * minute_step])\n",
      "                pd_month = np.array(pd_month).T\n",
      "                pd.append([pd_month.sum()])\n",
      "            pd = np.array(pd).squeeze().T\n",
      "            \n",
      "            # pd is the power density for each month\n",
      "            # load this into all longitudes\n",
      "            for k in xrange(power_density.shape[0]):\n",
      "                power_density[k,i,:] = pd[k]\n",
      "    power_density /= 10.**6 # MJ per m2\n",
      "    absorbed = pd * (1 - albedo) \n",
      "    return absorbed,power_density"
     ],
     "language": "python",
     "metadata": {},
     "outputs": [],
     "prompt_number": 24
    },
    {
     "cell_type": "code",
     "collapsed": false,
     "input": [
      "# this will still take some minutes to calculate\n",
      "absorbed,power_density = absorbed_power_density(year,minute_step=60)"
     ],
     "language": "python",
     "metadata": {},
     "outputs": [
      {
       "output_type": "stream",
       "stream": "stdout",
       "text": [
        "lat 89.6957\n",
        "lat"
       ]
      },
      {
       "output_type": "stream",
       "stream": "stdout",
       "text": [
        " 89.196\n",
        "lat"
       ]
      },
      {
       "output_type": "stream",
       "stream": "stdout",
       "text": [
        " 88.6963\n",
        "lat"
       ]
      },
      {
       "output_type": "stream",
       "stream": "stdout",
       "text": [
        " 88.1966\n",
        "lat"
       ]
      },
      {
       "output_type": "stream",
       "stream": "stdout",
       "text": [
        " 87.6969\n",
        "lat"
       ]
      },
      {
       "output_type": "stream",
       "stream": "stdout",
       "text": [
        " 87.1972\n",
        "lat"
       ]
      },
      {
       "output_type": "stream",
       "stream": "stdout",
       "text": [
        " 86.6975\n",
        "lat"
       ]
      },
      {
       "output_type": "stream",
       "stream": "stdout",
       "text": [
        " 86.1978\n",
        "lat"
       ]
      },
      {
       "output_type": "stream",
       "stream": "stdout",
       "text": [
        " 85.6981\n",
        "lat"
       ]
      },
      {
       "output_type": "stream",
       "stream": "stdout",
       "text": [
        " 85.1984\n",
        "lat"
       ]
      },
      {
       "output_type": "stream",
       "stream": "stdout",
       "text": [
        " 84.6987\n",
        "lat"
       ]
      },
      {
       "output_type": "stream",
       "stream": "stdout",
       "text": [
        " 84.1991\n",
        "lat"
       ]
      },
      {
       "output_type": "stream",
       "stream": "stdout",
       "text": [
        " 83.6994\n",
        "lat"
       ]
      },
      {
       "output_type": "stream",
       "stream": "stdout",
       "text": [
        " 83.1997\n",
        "lat"
       ]
      },
      {
       "output_type": "stream",
       "stream": "stdout",
       "text": [
        " 82.7\n",
        "lat"
       ]
      },
      {
       "output_type": "stream",
       "stream": "stdout",
       "text": [
        " 82.2003\n",
        "lat"
       ]
      },
      {
       "output_type": "stream",
       "stream": "stdout",
       "text": [
        " 81.7006\n",
        "lat"
       ]
      },
      {
       "output_type": "stream",
       "stream": "stdout",
       "text": [
        " 81.2009\n",
        "lat"
       ]
      },
      {
       "output_type": "stream",
       "stream": "stdout",
       "text": [
        " 80.7012\n",
        "lat"
       ]
      },
      {
       "output_type": "stream",
       "stream": "stdout",
       "text": [
        " 80.2015\n",
        "lat"
       ]
      },
      {
       "output_type": "stream",
       "stream": "stdout",
       "text": [
        " 79.7018\n",
        "lat"
       ]
      },
      {
       "output_type": "stream",
       "stream": "stdout",
       "text": [
        " 79.2021\n",
        "lat"
       ]
      },
      {
       "output_type": "stream",
       "stream": "stdout",
       "text": [
        " 78.7024\n",
        "lat"
       ]
      },
      {
       "output_type": "stream",
       "stream": "stdout",
       "text": [
        " 78.2027\n",
        "lat"
       ]
      },
      {
       "output_type": "stream",
       "stream": "stdout",
       "text": [
        " 77.703\n",
        "lat"
       ]
      },
      {
       "output_type": "stream",
       "stream": "stdout",
       "text": [
        " 77.2033\n",
        "lat"
       ]
      },
      {
       "output_type": "stream",
       "stream": "stdout",
       "text": [
        " 76.7036\n",
        "lat"
       ]
      },
      {
       "output_type": "stream",
       "stream": "stdout",
       "text": [
        " 76.2039\n",
        "lat"
       ]
      },
      {
       "output_type": "stream",
       "stream": "stdout",
       "text": [
        " 75.7042\n",
        "lat"
       ]
      },
      {
       "output_type": "stream",
       "stream": "stdout",
       "text": [
        " 75.2045\n",
        "lat"
       ]
      },
      {
       "output_type": "stream",
       "stream": "stdout",
       "text": [
        " 74.7048\n",
        "lat"
       ]
      },
      {
       "output_type": "stream",
       "stream": "stdout",
       "text": [
        " 74.2051\n",
        "lat"
       ]
      },
      {
       "output_type": "stream",
       "stream": "stdout",
       "text": [
        " 73.7054\n",
        "lat"
       ]
      },
      {
       "output_type": "stream",
       "stream": "stdout",
       "text": [
        " 73.2057\n",
        "lat"
       ]
      },
      {
       "output_type": "stream",
       "stream": "stdout",
       "text": [
        " 72.706\n",
        "lat"
       ]
      },
      {
       "output_type": "stream",
       "stream": "stdout",
       "text": [
        " 72.2063\n",
        "lat"
       ]
      },
      {
       "output_type": "stream",
       "stream": "stdout",
       "text": [
        " 71.7066\n",
        "lat"
       ]
      },
      {
       "output_type": "stream",
       "stream": "stdout",
       "text": [
        " 71.2069\n",
        "lat"
       ]
      },
      {
       "output_type": "stream",
       "stream": "stdout",
       "text": [
        " 70.7072\n",
        "lat"
       ]
      },
      {
       "output_type": "stream",
       "stream": "stdout",
       "text": [
        " 70.2075\n",
        "lat"
       ]
      },
      {
       "output_type": "stream",
       "stream": "stdout",
       "text": [
        " 69.7078\n",
        "lat"
       ]
      },
      {
       "output_type": "stream",
       "stream": "stdout",
       "text": [
        " 69.2081\n",
        "lat"
       ]
      },
      {
       "output_type": "stream",
       "stream": "stdout",
       "text": [
        " 68.7084\n",
        "lat"
       ]
      },
      {
       "output_type": "stream",
       "stream": "stdout",
       "text": [
        " 68.2087\n",
        "lat"
       ]
      },
      {
       "output_type": "stream",
       "stream": "stdout",
       "text": [
        " 67.709\n",
        "lat"
       ]
      },
      {
       "output_type": "stream",
       "stream": "stdout",
       "text": [
        " 67.2093\n",
        "lat"
       ]
      },
      {
       "output_type": "stream",
       "stream": "stdout",
       "text": [
        " 66.7096\n",
        "lat"
       ]
      },
      {
       "output_type": "stream",
       "stream": "stdout",
       "text": [
        " 66.2099\n",
        "lat"
       ]
      },
      {
       "output_type": "stream",
       "stream": "stdout",
       "text": [
        " 65.7102\n",
        "lat"
       ]
      },
      {
       "output_type": "stream",
       "stream": "stdout",
       "text": [
        " 65.2105\n",
        "lat"
       ]
      },
      {
       "output_type": "stream",
       "stream": "stdout",
       "text": [
        " 64.7108\n",
        "lat"
       ]
      },
      {
       "output_type": "stream",
       "stream": "stdout",
       "text": [
        " 64.2111\n",
        "lat"
       ]
      },
      {
       "output_type": "stream",
       "stream": "stdout",
       "text": [
        " 63.7114\n",
        "lat"
       ]
      },
      {
       "output_type": "stream",
       "stream": "stdout",
       "text": [
        " 63.2118\n",
        "lat"
       ]
      },
      {
       "output_type": "stream",
       "stream": "stdout",
       "text": [
        " 62.7121\n",
        "lat"
       ]
      },
      {
       "output_type": "stream",
       "stream": "stdout",
       "text": [
        " 62.2124\n",
        "lat"
       ]
      },
      {
       "output_type": "stream",
       "stream": "stdout",
       "text": [
        " 61.7127\n",
        "lat"
       ]
      },
      {
       "output_type": "stream",
       "stream": "stdout",
       "text": [
        " 61.213\n",
        "lat"
       ]
      },
      {
       "output_type": "stream",
       "stream": "stdout",
       "text": [
        " 60.7133\n",
        "lat"
       ]
      },
      {
       "output_type": "stream",
       "stream": "stdout",
       "text": [
        " 60.2136\n",
        "lat"
       ]
      },
      {
       "output_type": "stream",
       "stream": "stdout",
       "text": [
        " 59.7139\n",
        "lat"
       ]
      },
      {
       "output_type": "stream",
       "stream": "stdout",
       "text": [
        " 59.2142\n",
        "lat"
       ]
      },
      {
       "output_type": "stream",
       "stream": "stdout",
       "text": [
        " 58.7145\n",
        "lat"
       ]
      },
      {
       "output_type": "stream",
       "stream": "stdout",
       "text": [
        " 58.2148\n",
        "lat"
       ]
      },
      {
       "output_type": "stream",
       "stream": "stdout",
       "text": [
        " 57.7151\n",
        "lat"
       ]
      },
      {
       "output_type": "stream",
       "stream": "stdout",
       "text": [
        " 57.2154\n",
        "lat"
       ]
      },
      {
       "output_type": "stream",
       "stream": "stdout",
       "text": [
        " 56.7157\n",
        "lat"
       ]
      },
      {
       "output_type": "stream",
       "stream": "stdout",
       "text": [
        " 56.216\n",
        "lat"
       ]
      },
      {
       "output_type": "stream",
       "stream": "stdout",
       "text": [
        " 55.7163\n",
        "lat"
       ]
      },
      {
       "output_type": "stream",
       "stream": "stdout",
       "text": [
        " 55.2166\n",
        "lat"
       ]
      },
      {
       "output_type": "stream",
       "stream": "stdout",
       "text": [
        " 54.7169\n",
        "lat"
       ]
      },
      {
       "output_type": "stream",
       "stream": "stdout",
       "text": [
        " 54.2172\n",
        "lat"
       ]
      },
      {
       "output_type": "stream",
       "stream": "stdout",
       "text": [
        " 53.7175\n",
        "lat"
       ]
      },
      {
       "output_type": "stream",
       "stream": "stdout",
       "text": [
        " 53.2178\n",
        "lat"
       ]
      },
      {
       "output_type": "stream",
       "stream": "stdout",
       "text": [
        " 52.7181\n",
        "lat"
       ]
      },
      {
       "output_type": "stream",
       "stream": "stdout",
       "text": [
        " 52.2184\n",
        "lat"
       ]
      },
      {
       "output_type": "stream",
       "stream": "stdout",
       "text": [
        " 51.7187\n",
        "lat"
       ]
      },
      {
       "output_type": "stream",
       "stream": "stdout",
       "text": [
        " 51.219\n",
        "lat"
       ]
      },
      {
       "output_type": "stream",
       "stream": "stdout",
       "text": [
        " 50.7193\n",
        "lat"
       ]
      },
      {
       "output_type": "stream",
       "stream": "stdout",
       "text": [
        " 50.2196\n",
        "lat"
       ]
      },
      {
       "output_type": "stream",
       "stream": "stdout",
       "text": [
        " 49.7199\n",
        "lat"
       ]
      },
      {
       "output_type": "stream",
       "stream": "stdout",
       "text": [
        " 49.2202\n",
        "lat"
       ]
      },
      {
       "output_type": "stream",
       "stream": "stdout",
       "text": [
        " 48.7205\n",
        "lat"
       ]
      },
      {
       "output_type": "stream",
       "stream": "stdout",
       "text": [
        " 48.2208\n",
        "lat"
       ]
      },
      {
       "output_type": "stream",
       "stream": "stdout",
       "text": [
        " 47.7211\n",
        "lat"
       ]
      },
      {
       "output_type": "stream",
       "stream": "stdout",
       "text": [
        " 47.2214\n",
        "lat"
       ]
      },
      {
       "output_type": "stream",
       "stream": "stdout",
       "text": [
        " 46.7217\n",
        "lat"
       ]
      },
      {
       "output_type": "stream",
       "stream": "stdout",
       "text": [
        " 46.222\n",
        "lat"
       ]
      },
      {
       "output_type": "stream",
       "stream": "stdout",
       "text": [
        " 45.7223\n",
        "lat"
       ]
      },
      {
       "output_type": "stream",
       "stream": "stdout",
       "text": [
        " 45.2226\n",
        "lat"
       ]
      },
      {
       "output_type": "stream",
       "stream": "stdout",
       "text": [
        " 44.7229\n",
        "lat"
       ]
      },
      {
       "output_type": "stream",
       "stream": "stdout",
       "text": [
        " 44.2232\n",
        "lat"
       ]
      },
      {
       "output_type": "stream",
       "stream": "stdout",
       "text": [
        " 43.7235\n",
        "lat"
       ]
      },
      {
       "output_type": "stream",
       "stream": "stdout",
       "text": [
        " 43.2238\n",
        "lat"
       ]
      },
      {
       "output_type": "stream",
       "stream": "stdout",
       "text": [
        " 42.7241\n",
        "lat"
       ]
      },
      {
       "output_type": "stream",
       "stream": "stdout",
       "text": [
        " 42.2245\n",
        "lat"
       ]
      },
      {
       "output_type": "stream",
       "stream": "stdout",
       "text": [
        " 41.7248\n",
        "lat"
       ]
      },
      {
       "output_type": "stream",
       "stream": "stdout",
       "text": [
        " 41.2251\n",
        "lat"
       ]
      },
      {
       "output_type": "stream",
       "stream": "stdout",
       "text": [
        " 40.7254\n",
        "lat"
       ]
      },
      {
       "output_type": "stream",
       "stream": "stdout",
       "text": [
        " 40.2257\n",
        "lat"
       ]
      },
      {
       "output_type": "stream",
       "stream": "stdout",
       "text": [
        " 39.726\n",
        "lat"
       ]
      },
      {
       "output_type": "stream",
       "stream": "stdout",
       "text": [
        " 39.2263\n",
        "lat"
       ]
      },
      {
       "output_type": "stream",
       "stream": "stdout",
       "text": [
        " 38.7266\n",
        "lat"
       ]
      },
      {
       "output_type": "stream",
       "stream": "stdout",
       "text": [
        " 38.2269\n",
        "lat"
       ]
      },
      {
       "output_type": "stream",
       "stream": "stdout",
       "text": [
        " 37.7272\n",
        "lat"
       ]
      },
      {
       "output_type": "stream",
       "stream": "stdout",
       "text": [
        " 37.2275\n",
        "lat"
       ]
      },
      {
       "output_type": "stream",
       "stream": "stdout",
       "text": [
        " 36.7278\n",
        "lat"
       ]
      },
      {
       "output_type": "stream",
       "stream": "stdout",
       "text": [
        " 36.2281\n",
        "lat"
       ]
      },
      {
       "output_type": "stream",
       "stream": "stdout",
       "text": [
        " 35.7284\n",
        "lat"
       ]
      },
      {
       "output_type": "stream",
       "stream": "stdout",
       "text": [
        " 35.2287\n",
        "lat"
       ]
      },
      {
       "output_type": "stream",
       "stream": "stdout",
       "text": [
        " 34.729\n",
        "lat"
       ]
      },
      {
       "output_type": "stream",
       "stream": "stdout",
       "text": [
        " 34.2293\n",
        "lat"
       ]
      },
      {
       "output_type": "stream",
       "stream": "stdout",
       "text": [
        " 33.7296\n",
        "lat"
       ]
      },
      {
       "output_type": "stream",
       "stream": "stdout",
       "text": [
        " 33.2299\n",
        "lat"
       ]
      },
      {
       "output_type": "stream",
       "stream": "stdout",
       "text": [
        " 32.7302\n",
        "lat"
       ]
      },
      {
       "output_type": "stream",
       "stream": "stdout",
       "text": [
        " 32.2305\n",
        "lat"
       ]
      },
      {
       "output_type": "stream",
       "stream": "stdout",
       "text": [
        " 31.7308\n",
        "lat"
       ]
      },
      {
       "output_type": "stream",
       "stream": "stdout",
       "text": [
        " 31.2311\n",
        "lat"
       ]
      },
      {
       "output_type": "stream",
       "stream": "stdout",
       "text": [
        " 30.7314\n",
        "lat"
       ]
      },
      {
       "output_type": "stream",
       "stream": "stdout",
       "text": [
        " 30.2317\n",
        "lat"
       ]
      },
      {
       "output_type": "stream",
       "stream": "stdout",
       "text": [
        " 29.732\n",
        "lat"
       ]
      },
      {
       "output_type": "stream",
       "stream": "stdout",
       "text": [
        " 29.2323\n",
        "lat"
       ]
      },
      {
       "output_type": "stream",
       "stream": "stdout",
       "text": [
        " 28.7326\n",
        "lat"
       ]
      },
      {
       "output_type": "stream",
       "stream": "stdout",
       "text": [
        " 28.2329\n",
        "lat"
       ]
      },
      {
       "output_type": "stream",
       "stream": "stdout",
       "text": [
        " 27.7332\n",
        "lat"
       ]
      },
      {
       "output_type": "stream",
       "stream": "stdout",
       "text": [
        " 27.2335\n",
        "lat"
       ]
      },
      {
       "output_type": "stream",
       "stream": "stdout",
       "text": [
        " 26.7338\n",
        "lat"
       ]
      },
      {
       "output_type": "stream",
       "stream": "stdout",
       "text": [
        " 26.2341\n",
        "lat"
       ]
      },
      {
       "output_type": "stream",
       "stream": "stdout",
       "text": [
        " 25.7344\n",
        "lat"
       ]
      },
      {
       "output_type": "stream",
       "stream": "stdout",
       "text": [
        " 25.2347\n",
        "lat"
       ]
      },
      {
       "output_type": "stream",
       "stream": "stdout",
       "text": [
        " 24.735\n",
        "lat"
       ]
      },
      {
       "output_type": "stream",
       "stream": "stdout",
       "text": [
        " 24.2353\n",
        "lat"
       ]
      },
      {
       "output_type": "stream",
       "stream": "stdout",
       "text": [
        " 23.7356\n",
        "lat"
       ]
      },
      {
       "output_type": "stream",
       "stream": "stdout",
       "text": [
        " 23.2359\n",
        "lat"
       ]
      },
      {
       "output_type": "stream",
       "stream": "stdout",
       "text": [
        " 22.7362\n",
        "lat"
       ]
      },
      {
       "output_type": "stream",
       "stream": "stdout",
       "text": [
        " 22.2365\n",
        "lat"
       ]
      },
      {
       "output_type": "stream",
       "stream": "stdout",
       "text": [
        " 21.7369\n",
        "lat"
       ]
      },
      {
       "output_type": "stream",
       "stream": "stdout",
       "text": [
        " 21.2372\n",
        "lat"
       ]
      },
      {
       "output_type": "stream",
       "stream": "stdout",
       "text": [
        " 20.7375\n",
        "lat"
       ]
      },
      {
       "output_type": "stream",
       "stream": "stdout",
       "text": [
        " 20.2378\n",
        "lat"
       ]
      },
      {
       "output_type": "stream",
       "stream": "stdout",
       "text": [
        " 19.7381\n",
        "lat"
       ]
      },
      {
       "output_type": "stream",
       "stream": "stdout",
       "text": [
        " 19.2384\n",
        "lat"
       ]
      },
      {
       "output_type": "stream",
       "stream": "stdout",
       "text": [
        " 18.7387\n",
        "lat"
       ]
      },
      {
       "output_type": "stream",
       "stream": "stdout",
       "text": [
        " 18.239\n",
        "lat"
       ]
      },
      {
       "output_type": "stream",
       "stream": "stdout",
       "text": [
        " 17.7393\n",
        "lat"
       ]
      },
      {
       "output_type": "stream",
       "stream": "stdout",
       "text": [
        " 17.2396\n",
        "lat"
       ]
      },
      {
       "output_type": "stream",
       "stream": "stdout",
       "text": [
        " 16.7399\n",
        "lat"
       ]
      },
      {
       "output_type": "stream",
       "stream": "stdout",
       "text": [
        " 16.2402\n",
        "lat"
       ]
      },
      {
       "output_type": "stream",
       "stream": "stdout",
       "text": [
        " 15.7405\n",
        "lat"
       ]
      },
      {
       "output_type": "stream",
       "stream": "stdout",
       "text": [
        " 15.2408\n",
        "lat"
       ]
      },
      {
       "output_type": "stream",
       "stream": "stdout",
       "text": [
        " 14.7411\n",
        "lat"
       ]
      },
      {
       "output_type": "stream",
       "stream": "stdout",
       "text": [
        " 14.2414\n",
        "lat"
       ]
      },
      {
       "output_type": "stream",
       "stream": "stdout",
       "text": [
        " 13.7417\n",
        "lat"
       ]
      },
      {
       "output_type": "stream",
       "stream": "stdout",
       "text": [
        " 13.242\n",
        "lat"
       ]
      },
      {
       "output_type": "stream",
       "stream": "stdout",
       "text": [
        " 12.7423\n",
        "lat"
       ]
      },
      {
       "output_type": "stream",
       "stream": "stdout",
       "text": [
        " 12.2426\n",
        "lat"
       ]
      },
      {
       "output_type": "stream",
       "stream": "stdout",
       "text": [
        " 11.7429\n",
        "lat"
       ]
      },
      {
       "output_type": "stream",
       "stream": "stdout",
       "text": [
        " 11.2432\n",
        "lat"
       ]
      },
      {
       "output_type": "stream",
       "stream": "stdout",
       "text": [
        " 10.7435\n",
        "lat"
       ]
      },
      {
       "output_type": "stream",
       "stream": "stdout",
       "text": [
        " 10.2438\n",
        "lat"
       ]
      },
      {
       "output_type": "stream",
       "stream": "stdout",
       "text": [
        " 9.74411\n",
        "lat"
       ]
      },
      {
       "output_type": "stream",
       "stream": "stdout",
       "text": [
        " 9.24441\n",
        "lat"
       ]
      },
      {
       "output_type": "stream",
       "stream": "stdout",
       "text": [
        " 8.74471\n",
        "lat"
       ]
      },
      {
       "output_type": "stream",
       "stream": "stdout",
       "text": [
        " 8.24501\n",
        "lat"
       ]
      },
      {
       "output_type": "stream",
       "stream": "stdout",
       "text": [
        " 7.74532\n",
        "lat"
       ]
      },
      {
       "output_type": "stream",
       "stream": "stdout",
       "text": [
        " 7.24562\n",
        "lat"
       ]
      },
      {
       "output_type": "stream",
       "stream": "stdout",
       "text": [
        " 6.74592\n",
        "lat"
       ]
      },
      {
       "output_type": "stream",
       "stream": "stdout",
       "text": [
        " 6.24622\n",
        "lat"
       ]
      },
      {
       "output_type": "stream",
       "stream": "stdout",
       "text": [
        " 5.74653\n",
        "lat"
       ]
      },
      {
       "output_type": "stream",
       "stream": "stdout",
       "text": [
        " 5.24683\n",
        "lat"
       ]
      },
      {
       "output_type": "stream",
       "stream": "stdout",
       "text": [
        " 4.74713\n",
        "lat"
       ]
      },
      {
       "output_type": "stream",
       "stream": "stdout",
       "text": [
        " 4.24743\n",
        "lat"
       ]
      },
      {
       "output_type": "stream",
       "stream": "stdout",
       "text": [
        " 3.74774\n",
        "lat"
       ]
      },
      {
       "output_type": "stream",
       "stream": "stdout",
       "text": [
        " 3.24804\n",
        "lat"
       ]
      },
      {
       "output_type": "stream",
       "stream": "stdout",
       "text": [
        " 2.74834\n",
        "lat"
       ]
      },
      {
       "output_type": "stream",
       "stream": "stdout",
       "text": [
        " 2.24864\n",
        "lat"
       ]
      },
      {
       "output_type": "stream",
       "stream": "stdout",
       "text": [
        " 1.74895\n",
        "lat"
       ]
      },
      {
       "output_type": "stream",
       "stream": "stdout",
       "text": [
        " 1.24925\n",
        "lat"
       ]
      },
      {
       "output_type": "stream",
       "stream": "stdout",
       "text": [
        " 0.74955\n",
        "lat"
       ]
      },
      {
       "output_type": "stream",
       "stream": "stdout",
       "text": [
        " 0.249853\n",
        "lat"
       ]
      },
      {
       "output_type": "stream",
       "stream": "stdout",
       "text": [
        " -0.249845\n",
        "lat"
       ]
      },
      {
       "output_type": "stream",
       "stream": "stdout",
       "text": [
        " -0.749542\n",
        "lat"
       ]
      },
      {
       "output_type": "stream",
       "stream": "stdout",
       "text": [
        " -1.24924\n",
        "lat"
       ]
      },
      {
       "output_type": "stream",
       "stream": "stdout",
       "text": [
        " -1.74894\n",
        "lat"
       ]
      },
      {
       "output_type": "stream",
       "stream": "stdout",
       "text": [
        " -2.24864\n",
        "lat"
       ]
      },
      {
       "output_type": "stream",
       "stream": "stdout",
       "text": [
        " -2.74833\n",
        "lat"
       ]
      },
      {
       "output_type": "stream",
       "stream": "stdout",
       "text": [
        " -3.24803\n",
        "lat"
       ]
      },
      {
       "output_type": "stream",
       "stream": "stdout",
       "text": [
        " -3.74773\n",
        "lat"
       ]
      },
      {
       "output_type": "stream",
       "stream": "stdout",
       "text": [
        " -4.24743\n",
        "lat"
       ]
      },
      {
       "output_type": "stream",
       "stream": "stdout",
       "text": [
        " -4.74712\n",
        "lat"
       ]
      },
      {
       "output_type": "stream",
       "stream": "stdout",
       "text": [
        " -5.24682\n",
        "lat"
       ]
      },
      {
       "output_type": "stream",
       "stream": "stdout",
       "text": [
        " -5.74652\n",
        "lat"
       ]
      },
      {
       "output_type": "stream",
       "stream": "stdout",
       "text": [
        " -6.24622\n",
        "lat"
       ]
      },
      {
       "output_type": "stream",
       "stream": "stdout",
       "text": [
        " -6.74591\n",
        "lat"
       ]
      },
      {
       "output_type": "stream",
       "stream": "stdout",
       "text": [
        " -7.24561\n",
        "lat"
       ]
      },
      {
       "output_type": "stream",
       "stream": "stdout",
       "text": [
        " -7.74531\n",
        "lat"
       ]
      },
      {
       "output_type": "stream",
       "stream": "stdout",
       "text": [
        " -8.24501\n",
        "lat"
       ]
      },
      {
       "output_type": "stream",
       "stream": "stdout",
       "text": [
        " -8.7447\n",
        "lat"
       ]
      },
      {
       "output_type": "stream",
       "stream": "stdout",
       "text": [
        " -9.2444\n",
        "lat"
       ]
      },
      {
       "output_type": "stream",
       "stream": "stdout",
       "text": [
        " -9.7441\n",
        "lat"
       ]
      },
      {
       "output_type": "stream",
       "stream": "stdout",
       "text": [
        " -10.2438\n",
        "lat"
       ]
      },
      {
       "output_type": "stream",
       "stream": "stdout",
       "text": [
        " -10.7435\n",
        "lat"
       ]
      },
      {
       "output_type": "stream",
       "stream": "stdout",
       "text": [
        " -11.2432\n",
        "lat"
       ]
      },
      {
       "output_type": "stream",
       "stream": "stdout",
       "text": [
        " -11.7429\n",
        "lat"
       ]
      },
      {
       "output_type": "stream",
       "stream": "stdout",
       "text": [
        " -12.2426\n",
        "lat"
       ]
      },
      {
       "output_type": "stream",
       "stream": "stdout",
       "text": [
        " -12.7423\n",
        "lat"
       ]
      },
      {
       "output_type": "stream",
       "stream": "stdout",
       "text": [
        " -13.242\n",
        "lat"
       ]
      },
      {
       "output_type": "stream",
       "stream": "stdout",
       "text": [
        " -13.7417\n",
        "lat"
       ]
      },
      {
       "output_type": "stream",
       "stream": "stdout",
       "text": [
        " -14.2414\n",
        "lat"
       ]
      },
      {
       "output_type": "stream",
       "stream": "stdout",
       "text": [
        " -14.7411\n",
        "lat"
       ]
      },
      {
       "output_type": "stream",
       "stream": "stdout",
       "text": [
        " -15.2408\n",
        "lat"
       ]
      },
      {
       "output_type": "stream",
       "stream": "stdout",
       "text": [
        " -15.7405\n",
        "lat"
       ]
      },
      {
       "output_type": "stream",
       "stream": "stdout",
       "text": [
        " -16.2402\n",
        "lat"
       ]
      },
      {
       "output_type": "stream",
       "stream": "stdout",
       "text": [
        " -16.7399\n",
        "lat"
       ]
      },
      {
       "output_type": "stream",
       "stream": "stdout",
       "text": [
        " -17.2396\n",
        "lat"
       ]
      },
      {
       "output_type": "stream",
       "stream": "stdout",
       "text": [
        " -17.7393\n",
        "lat"
       ]
      },
      {
       "output_type": "stream",
       "stream": "stdout",
       "text": [
        " -18.239\n",
        "lat"
       ]
      },
      {
       "output_type": "stream",
       "stream": "stdout",
       "text": [
        " -18.7387\n",
        "lat"
       ]
      },
      {
       "output_type": "stream",
       "stream": "stdout",
       "text": [
        " -19.2384\n",
        "lat"
       ]
      },
      {
       "output_type": "stream",
       "stream": "stdout",
       "text": [
        " -19.7381\n",
        "lat"
       ]
      },
      {
       "output_type": "stream",
       "stream": "stdout",
       "text": [
        " -20.2377\n",
        "lat"
       ]
      },
      {
       "output_type": "stream",
       "stream": "stdout",
       "text": [
        " -20.7374\n",
        "lat"
       ]
      },
      {
       "output_type": "stream",
       "stream": "stdout",
       "text": [
        " -21.2371\n",
        "lat"
       ]
      },
      {
       "output_type": "stream",
       "stream": "stdout",
       "text": [
        " -21.7368\n",
        "lat"
       ]
      },
      {
       "output_type": "stream",
       "stream": "stdout",
       "text": [
        " -22.2365\n",
        "lat"
       ]
      },
      {
       "output_type": "stream",
       "stream": "stdout",
       "text": [
        " -22.7362\n",
        "lat"
       ]
      },
      {
       "output_type": "stream",
       "stream": "stdout",
       "text": [
        " -23.2359\n",
        "lat"
       ]
      },
      {
       "output_type": "stream",
       "stream": "stdout",
       "text": [
        " -23.7356\n",
        "lat"
       ]
      },
      {
       "output_type": "stream",
       "stream": "stdout",
       "text": [
        " -24.2353\n",
        "lat"
       ]
      },
      {
       "output_type": "stream",
       "stream": "stdout",
       "text": [
        " -24.735\n",
        "lat"
       ]
      },
      {
       "output_type": "stream",
       "stream": "stdout",
       "text": [
        " -25.2347\n",
        "lat"
       ]
      },
      {
       "output_type": "stream",
       "stream": "stdout",
       "text": [
        " -25.7344\n",
        "lat"
       ]
      },
      {
       "output_type": "stream",
       "stream": "stdout",
       "text": [
        " -26.2341\n",
        "lat"
       ]
      },
      {
       "output_type": "stream",
       "stream": "stdout",
       "text": [
        " -26.7338\n",
        "lat"
       ]
      },
      {
       "output_type": "stream",
       "stream": "stdout",
       "text": [
        " -27.2335\n",
        "lat"
       ]
      },
      {
       "output_type": "stream",
       "stream": "stdout",
       "text": [
        " -27.7332\n",
        "lat"
       ]
      },
      {
       "output_type": "stream",
       "stream": "stdout",
       "text": [
        " -28.2329\n",
        "lat"
       ]
      },
      {
       "output_type": "stream",
       "stream": "stdout",
       "text": [
        " -28.7326\n",
        "lat"
       ]
      },
      {
       "output_type": "stream",
       "stream": "stdout",
       "text": [
        " -29.2323\n",
        "lat"
       ]
      },
      {
       "output_type": "stream",
       "stream": "stdout",
       "text": [
        " -29.732\n",
        "lat"
       ]
      },
      {
       "output_type": "stream",
       "stream": "stdout",
       "text": [
        " -30.2317\n",
        "lat"
       ]
      },
      {
       "output_type": "stream",
       "stream": "stdout",
       "text": [
        " -30.7314\n",
        "lat"
       ]
      },
      {
       "output_type": "stream",
       "stream": "stdout",
       "text": [
        " -31.2311\n",
        "lat"
       ]
      },
      {
       "output_type": "stream",
       "stream": "stdout",
       "text": [
        " -31.7308\n",
        "lat"
       ]
      },
      {
       "output_type": "stream",
       "stream": "stdout",
       "text": [
        " -32.2305\n",
        "lat"
       ]
      },
      {
       "output_type": "stream",
       "stream": "stdout",
       "text": [
        " -32.7302\n",
        "lat"
       ]
      },
      {
       "output_type": "stream",
       "stream": "stdout",
       "text": [
        " -33.2299\n",
        "lat"
       ]
      },
      {
       "output_type": "stream",
       "stream": "stdout",
       "text": [
        " -33.7296\n",
        "lat"
       ]
      },
      {
       "output_type": "stream",
       "stream": "stdout",
       "text": [
        " -34.2293\n",
        "lat"
       ]
      },
      {
       "output_type": "stream",
       "stream": "stdout",
       "text": [
        " -34.729\n",
        "lat"
       ]
      },
      {
       "output_type": "stream",
       "stream": "stdout",
       "text": [
        " -35.2287\n",
        "lat"
       ]
      },
      {
       "output_type": "stream",
       "stream": "stdout",
       "text": [
        " -35.7284\n",
        "lat"
       ]
      },
      {
       "output_type": "stream",
       "stream": "stdout",
       "text": [
        " -36.2281\n",
        "lat"
       ]
      },
      {
       "output_type": "stream",
       "stream": "stdout",
       "text": [
        " -36.7278\n",
        "lat"
       ]
      },
      {
       "output_type": "stream",
       "stream": "stdout",
       "text": [
        " -37.2275\n",
        "lat"
       ]
      },
      {
       "output_type": "stream",
       "stream": "stdout",
       "text": [
        " -37.7272\n",
        "lat"
       ]
      },
      {
       "output_type": "stream",
       "stream": "stdout",
       "text": [
        " -38.2269\n",
        "lat"
       ]
      },
      {
       "output_type": "stream",
       "stream": "stdout",
       "text": [
        " -38.7266\n",
        "lat"
       ]
      },
      {
       "output_type": "stream",
       "stream": "stdout",
       "text": [
        " -39.2263\n",
        "lat"
       ]
      },
      {
       "output_type": "stream",
       "stream": "stdout",
       "text": [
        " -39.726\n",
        "lat"
       ]
      },
      {
       "output_type": "stream",
       "stream": "stdout",
       "text": [
        " -40.2257\n",
        "lat"
       ]
      },
      {
       "output_type": "stream",
       "stream": "stdout",
       "text": [
        " -40.7253\n",
        "lat"
       ]
      },
      {
       "output_type": "stream",
       "stream": "stdout",
       "text": [
        " -41.225\n",
        "lat"
       ]
      },
      {
       "output_type": "stream",
       "stream": "stdout",
       "text": [
        " -41.7247\n",
        "lat"
       ]
      },
      {
       "output_type": "stream",
       "stream": "stdout",
       "text": [
        " -42.2244\n",
        "lat"
       ]
      },
      {
       "output_type": "stream",
       "stream": "stdout",
       "text": [
        " -42.7241\n",
        "lat"
       ]
      },
      {
       "output_type": "stream",
       "stream": "stdout",
       "text": [
        " -43.2238\n",
        "lat"
       ]
      },
      {
       "output_type": "stream",
       "stream": "stdout",
       "text": [
        " -43.7235\n",
        "lat"
       ]
      },
      {
       "output_type": "stream",
       "stream": "stdout",
       "text": [
        " -44.2232\n",
        "lat"
       ]
      },
      {
       "output_type": "stream",
       "stream": "stdout",
       "text": [
        " -44.7229\n",
        "lat"
       ]
      },
      {
       "output_type": "stream",
       "stream": "stdout",
       "text": [
        " -45.2226\n",
        "lat"
       ]
      },
      {
       "output_type": "stream",
       "stream": "stdout",
       "text": [
        " -45.7223\n",
        "lat"
       ]
      },
      {
       "output_type": "stream",
       "stream": "stdout",
       "text": [
        " -46.222\n",
        "lat"
       ]
      },
      {
       "output_type": "stream",
       "stream": "stdout",
       "text": [
        " -46.7217\n",
        "lat"
       ]
      },
      {
       "output_type": "stream",
       "stream": "stdout",
       "text": [
        " -47.2214\n",
        "lat"
       ]
      },
      {
       "output_type": "stream",
       "stream": "stdout",
       "text": [
        " -47.7211\n",
        "lat"
       ]
      },
      {
       "output_type": "stream",
       "stream": "stdout",
       "text": [
        " -48.2208\n",
        "lat"
       ]
      },
      {
       "output_type": "stream",
       "stream": "stdout",
       "text": [
        " -48.7205\n",
        "lat"
       ]
      },
      {
       "output_type": "stream",
       "stream": "stdout",
       "text": [
        " -49.2202\n",
        "lat"
       ]
      },
      {
       "output_type": "stream",
       "stream": "stdout",
       "text": [
        " -49.7199\n",
        "lat"
       ]
      },
      {
       "output_type": "stream",
       "stream": "stdout",
       "text": [
        " -50.2196\n",
        "lat"
       ]
      },
      {
       "output_type": "stream",
       "stream": "stdout",
       "text": [
        " -50.7193\n",
        "lat"
       ]
      },
      {
       "output_type": "stream",
       "stream": "stdout",
       "text": [
        " -51.219\n",
        "lat"
       ]
      },
      {
       "output_type": "stream",
       "stream": "stdout",
       "text": [
        " -51.7187\n",
        "lat"
       ]
      },
      {
       "output_type": "stream",
       "stream": "stdout",
       "text": [
        " -52.2184\n",
        "lat"
       ]
      },
      {
       "output_type": "stream",
       "stream": "stdout",
       "text": [
        " -52.7181\n",
        "lat"
       ]
      },
      {
       "output_type": "stream",
       "stream": "stdout",
       "text": [
        " -53.2178\n",
        "lat"
       ]
      },
      {
       "output_type": "stream",
       "stream": "stdout",
       "text": [
        " -53.7175\n",
        "lat"
       ]
      },
      {
       "output_type": "stream",
       "stream": "stdout",
       "text": [
        " -54.2172\n",
        "lat"
       ]
      },
      {
       "output_type": "stream",
       "stream": "stdout",
       "text": [
        " -54.7169\n",
        "lat"
       ]
      },
      {
       "output_type": "stream",
       "stream": "stdout",
       "text": [
        " -55.2166\n",
        "lat"
       ]
      },
      {
       "output_type": "stream",
       "stream": "stdout",
       "text": [
        " -55.7163\n",
        "lat"
       ]
      },
      {
       "output_type": "stream",
       "stream": "stdout",
       "text": [
        " -56.216\n",
        "lat"
       ]
      },
      {
       "output_type": "stream",
       "stream": "stdout",
       "text": [
        " -56.7157\n",
        "lat"
       ]
      },
      {
       "output_type": "stream",
       "stream": "stdout",
       "text": [
        " -57.2154\n",
        "lat"
       ]
      },
      {
       "output_type": "stream",
       "stream": "stdout",
       "text": [
        " -57.7151\n",
        "lat"
       ]
      },
      {
       "output_type": "stream",
       "stream": "stdout",
       "text": [
        " -58.2148\n",
        "lat"
       ]
      },
      {
       "output_type": "stream",
       "stream": "stdout",
       "text": [
        " -58.7145\n",
        "lat"
       ]
      },
      {
       "output_type": "stream",
       "stream": "stdout",
       "text": [
        " -59.2142\n",
        "lat"
       ]
      },
      {
       "output_type": "stream",
       "stream": "stdout",
       "text": [
        " -59.7139\n",
        "lat"
       ]
      },
      {
       "output_type": "stream",
       "stream": "stdout",
       "text": [
        " -60.2136\n",
        "lat"
       ]
      },
      {
       "output_type": "stream",
       "stream": "stdout",
       "text": [
        " -60.7133\n",
        "lat"
       ]
      },
      {
       "output_type": "stream",
       "stream": "stdout",
       "text": [
        " -61.213\n",
        "lat"
       ]
      },
      {
       "output_type": "stream",
       "stream": "stdout",
       "text": [
        " -61.7127\n",
        "lat"
       ]
      },
      {
       "output_type": "stream",
       "stream": "stdout",
       "text": [
        " -62.2123\n",
        "lat"
       ]
      },
      {
       "output_type": "stream",
       "stream": "stdout",
       "text": [
        " -62.712\n",
        "lat"
       ]
      },
      {
       "ename": "KeyboardInterrupt",
       "evalue": "",
       "output_type": "pyerr",
       "traceback": [
        "\u001b[0;31m---------------------------------------------------------------------------\u001b[0m\n\u001b[0;31mKeyboardInterrupt\u001b[0m                         Traceback (most recent call last)",
        "\u001b[0;32m<ipython-input-25-d153e7751ab4>\u001b[0m in \u001b[0;36m<module>\u001b[0;34m()\u001b[0m\n\u001b[1;32m      3\u001b[0m     \u001b[0mabsorbed\u001b[0m\u001b[0;34m,\u001b[0m\u001b[0mpower_density\u001b[0m \u001b[0;34m=\u001b[0m \u001b[0mf\u001b[0m\u001b[0;34m[\u001b[0m\u001b[0;34m'absorbed'\u001b[0m\u001b[0;34m]\u001b[0m\u001b[0;34m,\u001b[0m\u001b[0mf\u001b[0m\u001b[0;34m[\u001b[0m\u001b[0;34m'power_density'\u001b[0m\u001b[0;34m]\u001b[0m\u001b[0;34m\u001b[0m\u001b[0m\n\u001b[1;32m      4\u001b[0m \u001b[0;32mexcept\u001b[0m\u001b[0;34m:\u001b[0m\u001b[0;34m\u001b[0m\u001b[0m\n\u001b[0;32m----> 5\u001b[0;31m     \u001b[0mabsorbed\u001b[0m\u001b[0;34m,\u001b[0m\u001b[0mpower_density\u001b[0m \u001b[0;34m=\u001b[0m \u001b[0mabsorbed_power_density\u001b[0m\u001b[0;34m(\u001b[0m\u001b[0myear\u001b[0m\u001b[0;34m,\u001b[0m\u001b[0mminute_step\u001b[0m\u001b[0;34m=\u001b[0m\u001b[0;36m60\u001b[0m\u001b[0;34m)\u001b[0m\u001b[0;34m\u001b[0m\u001b[0m\n\u001b[0m",
        "\u001b[0;32m<ipython-input-24-9e9ac1ba96b4>\u001b[0m in \u001b[0;36mabsorbed_power_density\u001b[0;34m(year, minute_step, sub)\u001b[0m\n\u001b[1;32m     45\u001b[0m                     \u001b[0;31m# solar radiation for that day\u001b[0m\u001b[0;34m\u001b[0m\u001b[0;34m\u001b[0m\u001b[0m\n\u001b[1;32m     46\u001b[0m                     rad = radiation(year, month+1, day+1, \\\n\u001b[0;32m---> 47\u001b[0;31m                                     lat[i,j], lon[i,j],minute_step=minute_step)\n\u001b[0m\u001b[1;32m     48\u001b[0m                     \u001b[0mpd_month\u001b[0m\u001b[0;34m.\u001b[0m\u001b[0mappend\u001b[0m\u001b[0;34m(\u001b[0m\u001b[0;34m[\u001b[0m\u001b[0mrad\u001b[0m\u001b[0;34m[\u001b[0m\u001b[0;36m2\u001b[0m\u001b[0;34m]\u001b[0m\u001b[0;34m.\u001b[0m\u001b[0msum\u001b[0m\u001b[0;34m(\u001b[0m\u001b[0;34m)\u001b[0m \u001b[0;34m*\u001b[0m \u001b[0;36m60\u001b[0m \u001b[0;34m*\u001b[0m \u001b[0mminute_step\u001b[0m\u001b[0;34m]\u001b[0m\u001b[0;34m)\u001b[0m\u001b[0;34m\u001b[0m\u001b[0m\n\u001b[1;32m     49\u001b[0m                 \u001b[0mpd_month\u001b[0m \u001b[0;34m=\u001b[0m \u001b[0mnp\u001b[0m\u001b[0;34m.\u001b[0m\u001b[0marray\u001b[0m\u001b[0;34m(\u001b[0m\u001b[0mpd_month\u001b[0m\u001b[0;34m)\u001b[0m\u001b[0;34m.\u001b[0m\u001b[0mT\u001b[0m\u001b[0;34m\u001b[0m\u001b[0m\n",
        "\u001b[0;32m<ipython-input-10-e2eac36016bf>\u001b[0m in \u001b[0;36mradiation\u001b[0;34m(year, month, day, lat, lon, minute_step)\u001b[0m\n\u001b[1;32m     29\u001b[0m             \u001b[0;31m# append data line as tuple\u001b[0m\u001b[0;34m\u001b[0m\u001b[0;34m\u001b[0m\u001b[0m\n\u001b[1;32m     30\u001b[0m             rad.append((thr,) + \\\n\u001b[0;32m---> 31\u001b[0;31m                      \u001b[0msolar\u001b[0m\u001b[0;34m(\u001b[0m\u001b[0myear\u001b[0m\u001b[0;34m,\u001b[0m \u001b[0mmonth\u001b[0m\u001b[0;34m,\u001b[0m \u001b[0mday\u001b[0m\u001b[0;34m,\u001b[0m \u001b[0mhour\u001b[0m\u001b[0;34m,\u001b[0m \u001b[0mlat\u001b[0m\u001b[0;34m,\u001b[0m \u001b[0mlon\u001b[0m\u001b[0;34m,\u001b[0m \u001b[0mminute\u001b[0m\u001b[0;34m=\u001b[0m\u001b[0mminute\u001b[0m\u001b[0;34m)\u001b[0m \u001b[0;34m+\u001b[0m\u001b[0;31m\\\u001b[0m\u001b[0;34m\u001b[0m\u001b[0m\n\u001b[0m\u001b[1;32m     32\u001b[0m                      (month, day, lat, lon))\n\u001b[1;32m     33\u001b[0m     \u001b[0;31m# convert to numpy array\u001b[0m\u001b[0;34m\u001b[0m\u001b[0;34m\u001b[0m\u001b[0m\n",
        "\u001b[0;32m<ipython-input-10-e2eac36016bf>\u001b[0m in \u001b[0;36msolar\u001b[0;34m(year, month, day, hour, lat_deg, lon_deg, minute, second)\u001b[0m\n\u001b[1;32m     17\u001b[0m \u001b[0;34m\u001b[0m\u001b[0m\n\u001b[1;32m     18\u001b[0m     \u001b[0md\u001b[0m \u001b[0;34m=\u001b[0m \u001b[0mdatetime\u001b[0m\u001b[0;34m(\u001b[0m\u001b[0myear\u001b[0m\u001b[0;34m,\u001b[0m \u001b[0mmonth\u001b[0m\u001b[0;34m,\u001b[0m \u001b[0mday\u001b[0m\u001b[0;34m,\u001b[0m \u001b[0mhour\u001b[0m\u001b[0;34m,\u001b[0m \u001b[0mminute\u001b[0m\u001b[0;34m,\u001b[0m \u001b[0msecond\u001b[0m\u001b[0;34m)\u001b[0m\u001b[0;34m\u001b[0m\u001b[0m\n\u001b[0;32m---> 19\u001b[0;31m     \u001b[0maltitude_deg\u001b[0m \u001b[0;34m=\u001b[0m \u001b[0mPysolar\u001b[0m\u001b[0;34m.\u001b[0m\u001b[0mGetAltitude\u001b[0m\u001b[0;34m(\u001b[0m\u001b[0mlat_deg\u001b[0m\u001b[0;34m,\u001b[0m \u001b[0mlon_deg\u001b[0m\u001b[0;34m,\u001b[0m \u001b[0md\u001b[0m\u001b[0;34m)\u001b[0m\u001b[0;34m\u001b[0m\u001b[0m\n\u001b[0m\u001b[1;32m     20\u001b[0m     \u001b[0;31m# W m^-2\u001b[0m\u001b[0;34m\u001b[0m\u001b[0;34m\u001b[0m\u001b[0m\n\u001b[1;32m     21\u001b[0m     \u001b[0msolar_rad\u001b[0m \u001b[0;34m=\u001b[0m \u001b[0mPysolar\u001b[0m\u001b[0;34m.\u001b[0m\u001b[0msolar\u001b[0m\u001b[0;34m.\u001b[0m\u001b[0mradiation\u001b[0m\u001b[0;34m.\u001b[0m\u001b[0mGetRadiationDirect\u001b[0m\u001b[0;34m(\u001b[0m\u001b[0md\u001b[0m\u001b[0;34m,\u001b[0m \u001b[0maltitude_deg\u001b[0m\u001b[0;34m)\u001b[0m\u001b[0;34m\u001b[0m\u001b[0m\n",
        "\u001b[0;32m/Library/Frameworks/EPD64.framework/Versions/7.3/lib/python2.7/site-packages/Pysolar-0.5-py2.7.egg/Pysolar/solar.pyc\u001b[0m in \u001b[0;36mGetAltitude\u001b[0;34m(latitude_deg, longitude_deg, utc_datetime, elevation, temperature_celsius, pressure_millibars)\u001b[0m\n\u001b[1;32m     67\u001b[0m         \u001b[0maberration_correction\u001b[0m \u001b[0;34m=\u001b[0m \u001b[0mGetAberrationCorrection\u001b[0m\u001b[0;34m(\u001b[0m\u001b[0mradius_vector\u001b[0m\u001b[0;34m)\u001b[0m\u001b[0;34m\u001b[0m\u001b[0m\n\u001b[1;32m     68\u001b[0m         \u001b[0mequatorial_horizontal_parallax\u001b[0m \u001b[0;34m=\u001b[0m \u001b[0mGetEquatorialHorizontalParallax\u001b[0m\u001b[0;34m(\u001b[0m\u001b[0mradius_vector\u001b[0m\u001b[0;34m)\u001b[0m\u001b[0;34m\u001b[0m\u001b[0m\n\u001b[0;32m---> 69\u001b[0;31m         \u001b[0mnutation\u001b[0m \u001b[0;34m=\u001b[0m \u001b[0mGetNutation\u001b[0m\u001b[0;34m(\u001b[0m\u001b[0mjde\u001b[0m\u001b[0;34m)\u001b[0m\u001b[0;34m\u001b[0m\u001b[0m\n\u001b[0m\u001b[1;32m     70\u001b[0m         \u001b[0mapparent_sidereal_time\u001b[0m \u001b[0;34m=\u001b[0m \u001b[0mGetApparentSiderealTime\u001b[0m\u001b[0;34m(\u001b[0m\u001b[0mjd\u001b[0m\u001b[0;34m,\u001b[0m \u001b[0mjme\u001b[0m\u001b[0;34m,\u001b[0m \u001b[0mnutation\u001b[0m\u001b[0;34m)\u001b[0m\u001b[0;34m\u001b[0m\u001b[0m\n\u001b[1;32m     71\u001b[0m         \u001b[0mtrue_ecliptic_obliquity\u001b[0m \u001b[0;34m=\u001b[0m \u001b[0mGetTrueEclipticObliquity\u001b[0m\u001b[0;34m(\u001b[0m\u001b[0mjme\u001b[0m\u001b[0;34m,\u001b[0m \u001b[0mnutation\u001b[0m\u001b[0;34m)\u001b[0m\u001b[0;34m\u001b[0m\u001b[0m\n",
        "\u001b[0;32m/Library/Frameworks/EPD64.framework/Versions/7.3/lib/python2.7/site-packages/Pysolar-0.5-py2.7.egg/Pysolar/solar.pyc\u001b[0m in \u001b[0;36mGetNutation\u001b[0;34m(jde)\u001b[0m\n\u001b[1;32m    252\u001b[0m \u001b[0;34m\u001b[0m\u001b[0m\n\u001b[1;32m    253\u001b[0m         \u001b[0;32mfor\u001b[0m \u001b[0mi\u001b[0m \u001b[0;32min\u001b[0m \u001b[0mrange\u001b[0m\u001b[0;34m(\u001b[0m\u001b[0mlen\u001b[0m\u001b[0;34m(\u001b[0m\u001b[0mabcd\u001b[0m\u001b[0;34m)\u001b[0m\u001b[0;34m)\u001b[0m\u001b[0;34m:\u001b[0m\u001b[0;34m\u001b[0m\u001b[0m\n\u001b[0;32m--> 254\u001b[0;31m                 \u001b[0msigmaxy\u001b[0m \u001b[0;34m=\u001b[0m \u001b[0mGetNutationAberrationXY\u001b[0m\u001b[0;34m(\u001b[0m\u001b[0mjce\u001b[0m\u001b[0;34m,\u001b[0m \u001b[0mi\u001b[0m\u001b[0;34m,\u001b[0m \u001b[0mx\u001b[0m\u001b[0;34m)\u001b[0m\u001b[0;34m\u001b[0m\u001b[0m\n\u001b[0m\u001b[1;32m    255\u001b[0m                 \u001b[0mnutation_long\u001b[0m\u001b[0;34m.\u001b[0m\u001b[0mappend\u001b[0m\u001b[0;34m(\u001b[0m\u001b[0;34m(\u001b[0m\u001b[0mabcd\u001b[0m\u001b[0;34m[\u001b[0m\u001b[0mi\u001b[0m\u001b[0;34m]\u001b[0m\u001b[0;34m[\u001b[0m\u001b[0;36m0\u001b[0m\u001b[0;34m]\u001b[0m \u001b[0;34m+\u001b[0m \u001b[0;34m(\u001b[0m\u001b[0mabcd\u001b[0m\u001b[0;34m[\u001b[0m\u001b[0mi\u001b[0m\u001b[0;34m]\u001b[0m\u001b[0;34m[\u001b[0m\u001b[0;36m1\u001b[0m\u001b[0;34m]\u001b[0m \u001b[0;34m*\u001b[0m \u001b[0mjce\u001b[0m\u001b[0;34m)\u001b[0m\u001b[0;34m)\u001b[0m \u001b[0;34m*\u001b[0m \u001b[0mmath\u001b[0m\u001b[0;34m.\u001b[0m\u001b[0msin\u001b[0m\u001b[0;34m(\u001b[0m\u001b[0mmath\u001b[0m\u001b[0;34m.\u001b[0m\u001b[0mradians\u001b[0m\u001b[0;34m(\u001b[0m\u001b[0msigmaxy\u001b[0m\u001b[0;34m)\u001b[0m\u001b[0;34m)\u001b[0m\u001b[0;34m)\u001b[0m\u001b[0;34m\u001b[0m\u001b[0m\n\u001b[1;32m    256\u001b[0m                 \u001b[0mnutation_oblique\u001b[0m\u001b[0;34m.\u001b[0m\u001b[0mappend\u001b[0m\u001b[0;34m(\u001b[0m\u001b[0;34m(\u001b[0m\u001b[0mabcd\u001b[0m\u001b[0;34m[\u001b[0m\u001b[0mi\u001b[0m\u001b[0;34m]\u001b[0m\u001b[0;34m[\u001b[0m\u001b[0;36m2\u001b[0m\u001b[0;34m]\u001b[0m \u001b[0;34m+\u001b[0m \u001b[0;34m(\u001b[0m\u001b[0mabcd\u001b[0m\u001b[0;34m[\u001b[0m\u001b[0mi\u001b[0m\u001b[0;34m]\u001b[0m\u001b[0;34m[\u001b[0m\u001b[0;36m3\u001b[0m\u001b[0;34m]\u001b[0m \u001b[0;34m*\u001b[0m \u001b[0mjce\u001b[0m\u001b[0;34m)\u001b[0m\u001b[0;34m)\u001b[0m \u001b[0;34m*\u001b[0m \u001b[0mmath\u001b[0m\u001b[0;34m.\u001b[0m\u001b[0mcos\u001b[0m\u001b[0;34m(\u001b[0m\u001b[0mmath\u001b[0m\u001b[0;34m.\u001b[0m\u001b[0mradians\u001b[0m\u001b[0;34m(\u001b[0m\u001b[0msigmaxy\u001b[0m\u001b[0;34m)\u001b[0m\u001b[0;34m)\u001b[0m\u001b[0;34m)\u001b[0m\u001b[0;34m\u001b[0m\u001b[0m\n",
        "\u001b[0;31mKeyboardInterrupt\u001b[0m: "
       ]
      },
      {
       "output_type": "stream",
       "stream": "stdout",
       "text": [
        " -63.2117\n"
       ]
      }
     ],
     "prompt_number": 25
    },
    {
     "cell_type": "code",
     "collapsed": false,
     "input": [
      "# this is how you can save a numpy array\n",
      "np.savez('files/data/absorbed.npz',absorbed=absorbed,power_density=power_density)"
     ],
     "language": "python",
     "metadata": {},
     "outputs": []
    },
    {
     "cell_type": "code",
     "collapsed": false,
     "input": [
      "# now next time we should be able to load it\n",
      "try:\n",
      "    f = np.load('files/data/absorbed.npz')\n",
      "    absorbed,power_density = f['absorbed'],f['power_density']\n",
      "except:\n",
      "    absorbed,power_density = absorbed_power_density(year,minute_step=60)"
     ],
     "language": "python",
     "metadata": {},
     "outputs": []
    },
    {
     "cell_type": "code",
     "collapsed": false,
     "input": [
      "import pylab as plt\n",
      "\n",
      "cmap = plt.get_cmap('Spectral')\n",
      "vmax = absorbed.max()\n",
      "vmin = absorbed.min()\n",
      "\n",
      "for m in xrange(12):\n",
      "    plt.figure(figsize=(7,7))\n",
      "    plt.title('Month %02d %d'%(m,year))\n",
      "    plt.imshow(absorbed[m],cmap=cmap,interpolation='none',vmin=vmin,vmax=vmax)\n",
      "    plt.colorbar()"
     ],
     "language": "python",
     "metadata": {},
     "outputs": []
    },
    {
     "cell_type": "markdown",
     "metadata": {},
     "source": [
      "This code is still quite slow (even for a single longitude).\n",
      "\n",
      "You should look it over and see how you might make it more efficient.\n",
      "\n",
      "Some ideas:\n",
      "\n",
      "- interpolate the radiation field (over latitude?) and possibly improve by sub sampling over longitude and interpolating that as well\n",
      "- when calculating daily integrals, don't start the calculations until the sun is above the horizon (and the same for sunset).\n",
      "\n",
      "The exercise asks you to perform summations over latitude. This should be simple enough, being of the form:\n",
      "\n",
      "    absorbed.sum(axis=(0,2))\n",
      "\n",
      "which will sum over axes 0 (month) and 2 (longitude).\n",
      "\n",
      "Total absorbed involves working out the area for each sample pixel and including that in teh calculation. That is left as an exercise here."
     ]
    }
   ],
   "metadata": {}
  }
 ]
}