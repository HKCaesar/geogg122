{
 "metadata": {
  "name": ""
 },
 "nbformat": 3,
 "nbformat_minor": 0,
 "worksheets": [
  {
   "cells": [
    {
     "cell_type": "heading",
     "level": 2,
     "metadata": {},
     "source": [
      "E3.3: Exercise: Improved Solar Radiation Modelling"
     ]
    },
    {
     "cell_type": "markdown",
     "metadata": {},
     "source": [
      "Using the material above and the global albedo datasets from the main class material, **calculate an improved estimate of the total absorbed power per unit area per month (MJ per m^2 per month) for the Earth land surface**.\n",
      "\n",
      "You should do this with a function that will take as input the year and returns the monthly total absorbed power density (MJ m^-2 per month) and the monthly total power density (MJ m^-2 per month). \n",
      "\n",
      "You might have an optional argument `minute_step` to control the resolution of the calculation as above.\n",
      "\n",
      "You could then use this to derive latitudinal variations in annual and latitudinal total absorbed power per unit area."
     ]
    },
    {
     "cell_type": "heading",
     "level": 2,
     "metadata": {},
     "source": [
      "AE3.3 Answer: Improved Solar Radiation Modelling"
     ]
    },
    {
     "cell_type": "markdown",
     "metadata": {},
     "source": [
      "The function definition should look something like:"
     ]
    },
    {
     "cell_type": "code",
     "collapsed": false,
     "input": [
      "def absorbed_power_density(year,minute_step=60):\n",
      "    '''Function to calculate the monthly total absorbed solar radiation\n",
      "        power density in MJ / m^2 for a given year\n",
      "        given an input dataset albedo and associated lat and lon\n",
      "        information (in degrees).\n",
      "        \n",
      "        The shape of the albedo dataset is: (12,nlat,nlon)\n",
      "        \n",
      "        Aguments:\n",
      "        \n",
      "        year  : integer of the year\n",
      "        \n",
      "        Options:\n",
      "        \n",
      "        minute_step : integer: resolution of steps in minutes. Must be\n",
      "                      a divisor of 60 (e.g. 10, 15, 30, 60)\n",
      "\n",
      "    '''\n"
     ],
     "language": "python",
     "metadata": {},
     "outputs": [],
     "prompt_number": 1
    },
    {
     "cell_type": "markdown",
     "metadata": {},
     "source": [
      "The first thing to do is sort out the `lat` and `lon` arrays to be the same shape as `albedo`.\n",
      "\n",
      "Before that, we'd better read in the `albedo`, `lat` and `lon` datasets here though:"
     ]
    },
    {
     "cell_type": "code",
     "collapsed": false,
     "input": [
      "import sys\n",
      "sys.path.insert(0,'files/python')\n",
      "# modification of masked.py\n",
      "from masked2 import masked\n",
      "import numpy as np\n",
      "\n",
      "year = 2010\n",
      "\n",
      "data = masked(dataset=['lat','lon','BHR_SW'],year=year)\n"
     ],
     "language": "python",
     "metadata": {},
     "outputs": [],
     "prompt_number": 2
    },
    {
     "cell_type": "code",
     "collapsed": false,
     "input": [
      "# take the first lat and lon only as they are all the same\n",
      "lat = data['lat'][0]\n",
      "lon = data['lon'][0]\n",
      "albedo = data['BHR_SW']\n",
      "s = albedo.shape\n",
      "print s"
     ],
     "language": "python",
     "metadata": {},
     "outputs": [
      {
       "output_type": "stream",
       "stream": "stdout",
       "text": [
        "(12, 360, 720)\n"
       ]
      }
     ],
     "prompt_number": 3
    },
    {
     "cell_type": "code",
     "collapsed": false,
     "input": [
      "#\u00a0pad out the lat and lon arrays\n",
      "# this is a bit tricky so test this in parts\n",
      "# we dont need this repeated for each month though\n",
      "lat2 = np.array([lat] * s[2]).T\n",
      "lon2 = np.array([lon] * s[1])"
     ],
     "language": "python",
     "metadata": {},
     "outputs": [],
     "prompt_number": 4
    },
    {
     "cell_type": "code",
     "collapsed": false,
     "input": [
      "print lat2.shape\n",
      "print lon2.shape"
     ],
     "language": "python",
     "metadata": {},
     "outputs": [
      {
       "output_type": "stream",
       "stream": "stdout",
       "text": [
        "(360, 720)\n",
        "(360, 720)\n"
       ]
      }
     ],
     "prompt_number": 5
    },
    {
     "cell_type": "markdown",
     "metadata": {},
     "source": [
      "Now put together the code for solar radiation modelling for a given lat/lon"
     ]
    },
    {
     "cell_type": "code",
     "collapsed": false,
     "input": [
      "import Pysolar\n",
      "from datetime import datetime\n",
      "\n",
      "def solar(year, month, day, hour, lat_deg, lon_deg, minute=0, second=0):\n",
      "    '''Return solar zenith and clear sky radiation\n",
      "       for given lat, lon and time/date\n",
      "    '''\n",
      "    from datetime import datetime\n",
      "    import Pysolar\n",
      "    \n",
      "    d = datetime(year, month, day, hour, minute, second) \n",
      "    altitude_deg = Pysolar.GetAltitude(lat_deg, lon_deg, d)\n",
      "    # W m^-2\n",
      "    solar_rad = Pysolar.solar.radiation.GetRadiationDirect(d, altitude_deg)\n",
      "    return 90. - altitude_deg,solar_rad\n",
      "\n",
      "def radiation(year, month, day, lat, lon,minute_step=30):\n",
      "    rad = []\n",
      "    for hour in xrange(24):\n",
      "        for minute in xrange(0,60,minute_step):\n",
      "            thr = hour + minute/60.\n",
      "            # append data line as tuple\n",
      "            rad.append((thr,) + \\\n",
      "                     solar(year, month, day, hour, lat, lon, minute=minute) +\\\n",
      "                     (month, day, lat, lon))\n",
      "    # convert to numpy array\n",
      "    # transpose so access eg zenith as \n",
      "    # rad[0]\n",
      "    rad = np.array(rad).T\n",
      "    return rad\n",
      "\n",
      "def days_in_month(month,year=2013):\n",
      "    ''' number of days in month'''\n",
      "    import calendar\n",
      "    return calendar.monthrange(year,month)[1]\n"
     ],
     "language": "python",
     "metadata": {},
     "outputs": [],
     "prompt_number": 6
    },
    {
     "cell_type": "code",
     "collapsed": false,
     "input": [
      "# UCL lat/lon\n",
      "lat = 51.5248\n",
      "lon = -0.1336\n",
      "\n",
      "year = 2013\n",
      "\n",
      "pd = []\n",
      "for month in xrange(12):\n",
      "    pd_month = []\n",
      "    ndays = days_in_month(month+1,year=year)\n",
      "    print month,ndays\n",
      "    for day in xrange(ndays):\n",
      "        rad = radiation(year, month+1, day+1, lat, lon)\n",
      "        pd_month.append([rad[2].sum() * 60 * 30])\n",
      "    pd_month = np.array(pd_month).T\n",
      "    pd.append([month,pd_month.sum()])\n",
      "pd = np.array(pd).T"
     ],
     "language": "python",
     "metadata": {},
     "outputs": [
      {
       "output_type": "stream",
       "stream": "stdout",
       "text": [
        "0 31\n",
        "1"
       ]
      },
      {
       "output_type": "stream",
       "stream": "stdout",
       "text": [
        " 28\n",
        "2"
       ]
      },
      {
       "output_type": "stream",
       "stream": "stdout",
       "text": [
        " 31\n",
        "3"
       ]
      },
      {
       "output_type": "stream",
       "stream": "stdout",
       "text": [
        " 30\n",
        "4"
       ]
      },
      {
       "output_type": "stream",
       "stream": "stdout",
       "text": [
        " 31\n",
        "5"
       ]
      },
      {
       "output_type": "stream",
       "stream": "stdout",
       "text": [
        " 30\n",
        "6"
       ]
      },
      {
       "output_type": "stream",
       "stream": "stdout",
       "text": [
        " 31\n",
        "7"
       ]
      },
      {
       "output_type": "stream",
       "stream": "stdout",
       "text": [
        " 31\n",
        "8"
       ]
      },
      {
       "output_type": "stream",
       "stream": "stdout",
       "text": [
        " 30\n",
        "9"
       ]
      },
      {
       "output_type": "stream",
       "stream": "stdout",
       "text": [
        " 31\n",
        "10"
       ]
      },
      {
       "output_type": "stream",
       "stream": "stdout",
       "text": [
        " 30\n",
        "11"
       ]
      },
      {
       "output_type": "stream",
       "stream": "stdout",
       "text": [
        " 31\n"
       ]
      }
     ],
     "prompt_number": 7
    },
    {
     "cell_type": "markdown",
     "metadata": {},
     "source": [
      "Putiing that all together now:"
     ]
    },
    {
     "cell_type": "code",
     "collapsed": false,
     "input": [
      "# functions so far\n",
      "\n",
      "import sys\n",
      "sys.path.insert(0,'files/python')\n",
      "# modification of masked.py\n",
      "from masked2 import masked\n",
      "import numpy as np\n",
      "import Pysolar\n",
      "from datetime import datetime\n",
      "\n",
      "def solar(year, month, day, hour, lat_deg, lon_deg, minute=0, second=0):\n",
      "    '''Return solar zenith and clear sky radiation\n",
      "       for given lat, lon and time/date\n",
      "    '''\n",
      "    from datetime import datetime\n",
      "    import Pysolar\n",
      "    \n",
      "    d = datetime(year, month, day, hour, minute, second) \n",
      "    altitude_deg = Pysolar.GetAltitude(lat_deg, lon_deg, d)\n",
      "    # W m^-2\n",
      "    solar_rad = Pysolar.solar.radiation.GetRadiationDirect(d, altitude_deg)\n",
      "    return 90. - altitude_deg,solar_rad\n",
      "\n",
      "def radiation(year, month, day, lat, lon,minute_step=30):\n",
      "    rad = []\n",
      "    for hour in xrange(24):\n",
      "        for minute in xrange(0,60,minute_step):\n",
      "            thr = hour + minute/60.\n",
      "            # append data line as tuple\n",
      "            rad.append((thr,) + \\\n",
      "                     solar(year, month, day, hour, lat, lon, minute=minute) +\\\n",
      "                     (month, day, lat, lon))\n",
      "    # convert to numpy array\n",
      "    # transpose so access eg zenith as \n",
      "    # rad[0]\n",
      "    rad = np.array(rad).T\n",
      "    return rad\n",
      "\n",
      "def days_in_month(month,year=2013):\n",
      "    ''' number of days in month'''\n",
      "    import calendar\n",
      "    return calendar.monthrange(year,month)[1]\n",
      "\n"
     ],
     "language": "python",
     "metadata": {},
     "outputs": [],
     "prompt_number": 8
    },
    {
     "cell_type": "markdown",
     "metadata": {},
     "source": [
      "Before proceeding, let us examine the variation in total monthly power density with latitude.\n",
      "\n",
      "With the model developed in the main notes, we would expect no varition with longitude (it was a function of latitude only).\n",
      "\n",
      "In this more precise model, we would expect only small variation,  but we should examine this:"
     ]
    },
    {
     "cell_type": "code",
     "collapsed": false,
     "input": [
      "'''\n",
      "Processing -- test for several lat/long\n",
      "'''\n",
      "\n",
      "import numpy.ma as ma\n",
      "\n",
      "year = 2010\n",
      "\n",
      "minute_step = 60\n",
      "\n",
      "data = masked(dataset=['lat','lon','BHR_SW'],year=year)\n",
      "\n",
      "lat = data['lat'][0]\n",
      "lon = data['lon'][0]\n",
      "albedo = data['BHR_SW']\n",
      "s = albedo.shape\n",
      "lat = ma.array( [lat] *s[2]).T\n",
      "lon = ma.array([lon] * s[1])\n",
      "\n",
      "# array for output\n",
      "absorbed = ma.array(np.zeros_like(albedo),mask=albedo.mask)\n",
      "# \n",
      "\n",
      "#for i in xrange(lat.shape[0]):\n",
      "#    for j in xrange(lat.shape[1]):\n",
      "\n",
      "# try it out for 6 samples in longitude, including first and last\n",
      "lons = range(0,lon.shape[1],lon.shape[1]/5) + [lon.shape[1]-1]\n",
      "\n",
      "# an array to hold the sample pd for the sample\n",
      "# longitudes\n",
      "all_pd = []\n",
      "\n",
      "i = lon.shape[0]/2\n",
      "for j in lons:\n",
      "    pd = []\n",
      "    # loop over month\n",
      "    for month in xrange(12):\n",
      "        pd_month = []\n",
      "        ndays = days_in_month(month+1,year=year)\n",
      "        print i,j,month,ndays\n",
      "        # loop over days\n",
      "        for day in xrange(ndays):\n",
      "            # solar radiation for that day\n",
      "            rad = radiation(year, month+1, day+1, \\\n",
      "                            lat[i,j], lon[i,j],minute_step=minute_step)\n",
      "            pd_month.append([rad[2].sum() * 60 * minute_step])\n",
      "        pd_month = np.array(pd_month).T\n",
      "        pd.append([pd_month.sum()])\n",
      "    # pd is the power density for each month\n",
      "    all_pd.append(pd)\n",
      "    \n",
      "# MJ per m2\n",
      "all_pd = np.array(all_pd).squeeze()\n"
     ],
     "language": "python",
     "metadata": {},
     "outputs": [
      {
       "output_type": "stream",
       "stream": "stdout",
       "text": [
        "180 0 0 31\n",
        "180"
       ]
      },
      {
       "output_type": "stream",
       "stream": "stdout",
       "text": [
        " 0 1 28\n",
        "180"
       ]
      },
      {
       "output_type": "stream",
       "stream": "stdout",
       "text": [
        " 0 2 31\n",
        "180"
       ]
      },
      {
       "output_type": "stream",
       "stream": "stdout",
       "text": [
        " 0 3 30\n",
        "180"
       ]
      },
      {
       "output_type": "stream",
       "stream": "stdout",
       "text": [
        " 0 4 31\n",
        "180"
       ]
      },
      {
       "output_type": "stream",
       "stream": "stdout",
       "text": [
        " 0 5 30\n",
        "180"
       ]
      },
      {
       "output_type": "stream",
       "stream": "stdout",
       "text": [
        " 0 6 31\n",
        "180"
       ]
      },
      {
       "output_type": "stream",
       "stream": "stdout",
       "text": [
        " 0 7 31\n",
        "180"
       ]
      },
      {
       "output_type": "stream",
       "stream": "stdout",
       "text": [
        " 0 8 30\n",
        "180"
       ]
      },
      {
       "output_type": "stream",
       "stream": "stdout",
       "text": [
        " 0 9 31\n",
        "180"
       ]
      },
      {
       "output_type": "stream",
       "stream": "stdout",
       "text": [
        " 0 10 30\n",
        "180"
       ]
      },
      {
       "output_type": "stream",
       "stream": "stdout",
       "text": [
        " 0 11 31\n",
        "180"
       ]
      },
      {
       "output_type": "stream",
       "stream": "stdout",
       "text": [
        " 144 0 31\n",
        "180"
       ]
      },
      {
       "output_type": "stream",
       "stream": "stdout",
       "text": [
        " 144 1 28\n",
        "180"
       ]
      },
      {
       "output_type": "stream",
       "stream": "stdout",
       "text": [
        " 144 2 31\n",
        "180"
       ]
      },
      {
       "output_type": "stream",
       "stream": "stdout",
       "text": [
        " 144 3 30\n",
        "180"
       ]
      },
      {
       "output_type": "stream",
       "stream": "stdout",
       "text": [
        " 144 4 31\n",
        "180"
       ]
      },
      {
       "output_type": "stream",
       "stream": "stdout",
       "text": [
        " 144 5 30\n",
        "180"
       ]
      },
      {
       "output_type": "stream",
       "stream": "stdout",
       "text": [
        " 144 6 31\n",
        "180"
       ]
      },
      {
       "output_type": "stream",
       "stream": "stdout",
       "text": [
        " 144 7 31\n",
        "180"
       ]
      },
      {
       "output_type": "stream",
       "stream": "stdout",
       "text": [
        " 144 8 30\n",
        "180"
       ]
      },
      {
       "output_type": "stream",
       "stream": "stdout",
       "text": [
        " 144 9 31\n",
        "180"
       ]
      },
      {
       "output_type": "stream",
       "stream": "stdout",
       "text": [
        " 144 10 30\n",
        "180"
       ]
      },
      {
       "output_type": "stream",
       "stream": "stdout",
       "text": [
        " 144 11 31\n",
        "180"
       ]
      },
      {
       "output_type": "stream",
       "stream": "stdout",
       "text": [
        " 288 0 31\n",
        "180"
       ]
      },
      {
       "output_type": "stream",
       "stream": "stdout",
       "text": [
        " 288 1 28\n",
        "180"
       ]
      },
      {
       "output_type": "stream",
       "stream": "stdout",
       "text": [
        " 288 2 31\n",
        "180"
       ]
      },
      {
       "output_type": "stream",
       "stream": "stdout",
       "text": [
        " 288 3 30\n",
        "180"
       ]
      },
      {
       "output_type": "stream",
       "stream": "stdout",
       "text": [
        " 288 4 31\n",
        "180"
       ]
      },
      {
       "output_type": "stream",
       "stream": "stdout",
       "text": [
        " 288 5 30\n",
        "180"
       ]
      },
      {
       "output_type": "stream",
       "stream": "stdout",
       "text": [
        " 288 6 31\n",
        "180"
       ]
      },
      {
       "output_type": "stream",
       "stream": "stdout",
       "text": [
        " 288 7 31\n",
        "180"
       ]
      },
      {
       "output_type": "stream",
       "stream": "stdout",
       "text": [
        " 288 8 30\n",
        "180"
       ]
      },
      {
       "output_type": "stream",
       "stream": "stdout",
       "text": [
        " 288 9 31\n",
        "180"
       ]
      },
      {
       "output_type": "stream",
       "stream": "stdout",
       "text": [
        " 288 10 30\n",
        "180"
       ]
      },
      {
       "output_type": "stream",
       "stream": "stdout",
       "text": [
        " 288 11 31\n",
        "180"
       ]
      },
      {
       "output_type": "stream",
       "stream": "stdout",
       "text": [
        " 432 0 31\n",
        "180"
       ]
      },
      {
       "output_type": "stream",
       "stream": "stdout",
       "text": [
        " 432 1 28\n",
        "180"
       ]
      },
      {
       "output_type": "stream",
       "stream": "stdout",
       "text": [
        " 432 2 31\n",
        "180"
       ]
      },
      {
       "output_type": "stream",
       "stream": "stdout",
       "text": [
        " 432 3 30\n",
        "180"
       ]
      },
      {
       "output_type": "stream",
       "stream": "stdout",
       "text": [
        " 432 4 31\n",
        "180"
       ]
      },
      {
       "output_type": "stream",
       "stream": "stdout",
       "text": [
        " 432 5 30\n",
        "180"
       ]
      },
      {
       "output_type": "stream",
       "stream": "stdout",
       "text": [
        " 432 6 31\n",
        "180"
       ]
      },
      {
       "output_type": "stream",
       "stream": "stdout",
       "text": [
        " 432 7 31\n",
        "180"
       ]
      },
      {
       "output_type": "stream",
       "stream": "stdout",
       "text": [
        " 432 8 30\n",
        "180"
       ]
      },
      {
       "output_type": "stream",
       "stream": "stdout",
       "text": [
        " 432 9 31\n",
        "180"
       ]
      },
      {
       "output_type": "stream",
       "stream": "stdout",
       "text": [
        " 432 10 30\n",
        "180"
       ]
      },
      {
       "output_type": "stream",
       "stream": "stdout",
       "text": [
        " 432 11 31\n",
        "180"
       ]
      },
      {
       "output_type": "stream",
       "stream": "stdout",
       "text": [
        " 576 0 31\n",
        "180"
       ]
      },
      {
       "output_type": "stream",
       "stream": "stdout",
       "text": [
        " 576 1 28\n",
        "180"
       ]
      },
      {
       "output_type": "stream",
       "stream": "stdout",
       "text": [
        " 576 2 31\n",
        "180"
       ]
      },
      {
       "output_type": "stream",
       "stream": "stdout",
       "text": [
        " 576 3 30\n",
        "180"
       ]
      },
      {
       "output_type": "stream",
       "stream": "stdout",
       "text": [
        " 576 4 31\n",
        "180"
       ]
      },
      {
       "output_type": "stream",
       "stream": "stdout",
       "text": [
        " 576 5 30\n",
        "180"
       ]
      },
      {
       "output_type": "stream",
       "stream": "stdout",
       "text": [
        " 576 6 31\n",
        "180"
       ]
      },
      {
       "output_type": "stream",
       "stream": "stdout",
       "text": [
        " 576 7 31\n",
        "180"
       ]
      },
      {
       "output_type": "stream",
       "stream": "stdout",
       "text": [
        " 576 8 30\n",
        "180"
       ]
      },
      {
       "output_type": "stream",
       "stream": "stdout",
       "text": [
        " 576 9 31\n",
        "180"
       ]
      },
      {
       "output_type": "stream",
       "stream": "stdout",
       "text": [
        " 576 10 30\n",
        "180"
       ]
      },
      {
       "output_type": "stream",
       "stream": "stdout",
       "text": [
        " 576 11 31\n",
        "180"
       ]
      },
      {
       "output_type": "stream",
       "stream": "stdout",
       "text": [
        " 719 0 31\n",
        "180"
       ]
      },
      {
       "output_type": "stream",
       "stream": "stdout",
       "text": [
        " 719 1 28\n",
        "180"
       ]
      },
      {
       "output_type": "stream",
       "stream": "stdout",
       "text": [
        " 719 2 31\n",
        "180"
       ]
      },
      {
       "output_type": "stream",
       "stream": "stdout",
       "text": [
        " 719 3 30\n",
        "180"
       ]
      },
      {
       "output_type": "stream",
       "stream": "stdout",
       "text": [
        " 719 4 31\n",
        "180"
       ]
      },
      {
       "output_type": "stream",
       "stream": "stdout",
       "text": [
        " 719 5 30\n",
        "180"
       ]
      },
      {
       "output_type": "stream",
       "stream": "stdout",
       "text": [
        " 719 6 31\n",
        "180"
       ]
      },
      {
       "output_type": "stream",
       "stream": "stdout",
       "text": [
        " 719 7 31\n",
        "180"
       ]
      },
      {
       "output_type": "stream",
       "stream": "stdout",
       "text": [
        " 719 8 30\n",
        "180"
       ]
      },
      {
       "output_type": "stream",
       "stream": "stdout",
       "text": [
        " 719 9 31\n",
        "180"
       ]
      },
      {
       "output_type": "stream",
       "stream": "stdout",
       "text": [
        " 719 10 30\n",
        "180"
       ]
      },
      {
       "output_type": "stream",
       "stream": "stdout",
       "text": [
        " 719 11 31\n"
       ]
      }
     ],
     "prompt_number": 9
    },
    {
     "cell_type": "code",
     "collapsed": false,
     "input": [
      "import pylab as plt\n",
      "plt.plot(lon[0,lons],all_pd)\n",
      "plt.xlim(-180.,180.)\n",
      "plt.xlabel('latitude')\n",
      "plt.ylabel('power density total per month')"
     ],
     "language": "python",
     "metadata": {},
     "outputs": [
      {
       "metadata": {},
       "output_type": "pyout",
       "prompt_number": 10,
       "text": [
        "<matplotlib.text.Text at 0x108fc52d0>"
       ]
      },
      {
       "metadata": {},
       "output_type": "display_data",
       "png": "[encoded data removed]",
       "text": [
        "<matplotlib.figure.Figure at 0x1062daf90>"
       ]
      }
     ],
     "prompt_number": 10
    },
    {
     "cell_type": "markdown",
     "metadata": {},
     "source": [
      "So, with this in mind, let's just take a single value per latitude as otherwise the processing cost will be rather high."
     ]
    },
    {
     "cell_type": "markdown",
     "metadata": {},
     "source": [
      "Putting this into a function (in this case, reading the albedo, lat and long internally):"
     ]
    },
    {
     "cell_type": "code",
     "collapsed": false,
     "input": [
      "def absorbed_power_density(year,minute_step=60):\n",
      "    '''Function to calculate the monthly total absorbed solar radiation\n",
      "        power density in MJ / m^2 for a given year\n",
      "        given an input dataset albedo and associated lat and lon\n",
      "        information (in degrees).\n",
      "        \n",
      "        The shape of the albedo dataset is: (12,nlat,nlon)\n",
      "        \n",
      "        Aguments:\n",
      "        \n",
      "        year  : integer of the year\n",
      "        \n",
      "        Options:\n",
      "        \n",
      "        minute_step : integer: resolution of steps in minutes. Must be\n",
      "                      a divisor of 60 (e.g. 10, 15, 30, 60)\n",
      "\n",
      "    '''\n",
      "\n",
      "    data = masked(dataset=['lat','lon','BHR_SW'],year=year)\n",
      "    \n",
      "    lat = data['lat'][0]\n",
      "    lon = data['lon'][0]\n",
      "    albedo = data['BHR_SW']\n",
      "    s = albedo.shape\n",
      "    lat = ma.array( [lat] *s[2]).T\n",
      "    lon = ma.array([lon] * s[1])\n",
      "    \n",
      "    # array for output\n",
      "    absorbed = ma.array(np.zeros_like(albedo),mask=albedo.mask)\n",
      "    power_density = ma.array(np.zeros_like(albedo),mask=albedo.mask)\n",
      "    # \n",
      "    \n",
      "    for i in xrange(0,lat.shape[0]):\n",
      "        print 'lat',lat[i,0]\n",
      "        # single longitude\n",
      "        for j in [lat.shape[1]/2]:\n",
      "            pd = []\n",
      "            # loop over month\n",
      "            for month in xrange(12):\n",
      "                pd_month = []\n",
      "                ndays = days_in_month(month+1,year=year)\n",
      "                # loop over days\n",
      "                for day in xrange(ndays):\n",
      "                    # solar radiation for that day\n",
      "                    rad = radiation(year, month+1, day+1, \\\n",
      "                                    lat[i,j], lon[i,j],minute_step=minute_step)\n",
      "                    # get rid of -ves \n",
      "                    rad[rad<0] = 0\n",
      "                    pd_month.append([rad[2].sum() * 60 * minute_step])\n",
      "                pd_month = np.array(pd_month).T\n",
      "                pd.append([pd_month.sum()])\n",
      "            pd = np.array(pd).squeeze().T\n",
      "            \n",
      "            # pd is the power density for each month\n",
      "            # load this into all longitudes\n",
      "            for k in xrange(power_density.shape[0]):\n",
      "                power_density[k,i,:] = pd[k]\n",
      "    power_density /= 10.**6 # MJ per m2\n",
      "    absorbed = power_density * (1 - albedo) \n",
      "    return absorbed,power_density"
     ],
     "language": "python",
     "metadata": {},
     "outputs": [],
     "prompt_number": 17
    },
    {
     "cell_type": "code",
     "collapsed": false,
     "input": [
      "# this will still take some minutes to calculate\n",
      "absorbed,power_density = absorbed_power_density(year,minute_step=60)"
     ],
     "language": "python",
     "metadata": {},
     "outputs": [
      {
       "output_type": "stream",
       "stream": "stdout",
       "text": [
        "lat 89.6957\n",
        "lat"
       ]
      },
      {
       "output_type": "stream",
       "stream": "stdout",
       "text": [
        " 89.196\n",
        "lat"
       ]
      },
      {
       "output_type": "stream",
       "stream": "stdout",
       "text": [
        " 88.6963\n",
        "lat"
       ]
      },
      {
       "output_type": "stream",
       "stream": "stdout",
       "text": [
        " 88.1966\n",
        "lat"
       ]
      },
      {
       "output_type": "stream",
       "stream": "stdout",
       "text": [
        " 87.6969\n",
        "lat"
       ]
      },
      {
       "output_type": "stream",
       "stream": "stdout",
       "text": [
        " 87.1972\n",
        "lat"
       ]
      },
      {
       "output_type": "stream",
       "stream": "stdout",
       "text": [
        " 86.6975\n",
        "lat"
       ]
      },
      {
       "output_type": "stream",
       "stream": "stdout",
       "text": [
        " 86.1978\n",
        "lat"
       ]
      },
      {
       "output_type": "stream",
       "stream": "stdout",
       "text": [
        " 85.6981\n",
        "lat"
       ]
      },
      {
       "output_type": "stream",
       "stream": "stdout",
       "text": [
        " 85.1984\n",
        "lat"
       ]
      },
      {
       "output_type": "stream",
       "stream": "stdout",
       "text": [
        " 84.6987\n",
        "lat"
       ]
      },
      {
       "output_type": "stream",
       "stream": "stdout",
       "text": [
        " 84.1991\n",
        "lat"
       ]
      },
      {
       "output_type": "stream",
       "stream": "stdout",
       "text": [
        " 83.6994\n",
        "lat"
       ]
      },
      {
       "output_type": "stream",
       "stream": "stdout",
       "text": [
        " 83.1997\n",
        "lat"
       ]
      },
      {
       "output_type": "stream",
       "stream": "stdout",
       "text": [
        " 82.7\n",
        "lat"
       ]
      },
      {
       "output_type": "stream",
       "stream": "stdout",
       "text": [
        " 82.2003\n",
        "lat"
       ]
      },
      {
       "output_type": "stream",
       "stream": "stdout",
       "text": [
        " 81.7006\n",
        "lat"
       ]
      },
      {
       "output_type": "stream",
       "stream": "stdout",
       "text": [
        " 81.2009\n",
        "lat"
       ]
      },
      {
       "output_type": "stream",
       "stream": "stdout",
       "text": [
        " 80.7012\n",
        "lat"
       ]
      },
      {
       "output_type": "stream",
       "stream": "stdout",
       "text": [
        " 80.2015\n",
        "lat"
       ]
      },
      {
       "output_type": "stream",
       "stream": "stdout",
       "text": [
        " 79.7018\n",
        "lat"
       ]
      },
      {
       "output_type": "stream",
       "stream": "stdout",
       "text": [
        " 79.2021\n",
        "lat"
       ]
      },
      {
       "output_type": "stream",
       "stream": "stdout",
       "text": [
        " 78.7024\n",
        "lat"
       ]
      },
      {
       "output_type": "stream",
       "stream": "stdout",
       "text": [
        " 78.2027\n",
        "lat"
       ]
      },
      {
       "output_type": "stream",
       "stream": "stdout",
       "text": [
        " 77.703\n",
        "lat"
       ]
      },
      {
       "output_type": "stream",
       "stream": "stdout",
       "text": [
        " 77.2033\n",
        "lat"
       ]
      },
      {
       "output_type": "stream",
       "stream": "stdout",
       "text": [
        " 76.7036\n",
        "lat"
       ]
      },
      {
       "output_type": "stream",
       "stream": "stdout",
       "text": [
        " 76.2039\n",
        "lat"
       ]
      },
      {
       "output_type": "stream",
       "stream": "stdout",
       "text": [
        " 75.7042\n",
        "lat"
       ]
      },
      {
       "output_type": "stream",
       "stream": "stdout",
       "text": [
        " 75.2045\n",
        "lat"
       ]
      },
      {
       "output_type": "stream",
       "stream": "stdout",
       "text": [
        " 74.7048\n",
        "lat"
       ]
      },
      {
       "output_type": "stream",
       "stream": "stdout",
       "text": [
        " 74.2051\n",
        "lat"
       ]
      },
      {
       "output_type": "stream",
       "stream": "stdout",
       "text": [
        " 73.7054\n",
        "lat"
       ]
      },
      {
       "output_type": "stream",
       "stream": "stdout",
       "text": [
        " 73.2057\n",
        "lat"
       ]
      },
      {
       "output_type": "stream",
       "stream": "stdout",
       "text": [
        " 72.706\n",
        "lat"
       ]
      },
      {
       "output_type": "stream",
       "stream": "stdout",
       "text": [
        " 72.2063\n",
        "lat"
       ]
      },
      {
       "output_type": "stream",
       "stream": "stdout",
       "text": [
        " 71.7066\n",
        "lat"
       ]
      },
      {
       "output_type": "stream",
       "stream": "stdout",
       "text": [
        " 71.2069\n",
        "lat"
       ]
      },
      {
       "output_type": "stream",
       "stream": "stdout",
       "text": [
        " 70.7072\n",
        "lat"
       ]
      },
      {
       "output_type": "stream",
       "stream": "stdout",
       "text": [
        " 70.2075\n",
        "lat"
       ]
      },
      {
       "output_type": "stream",
       "stream": "stdout",
       "text": [
        " 69.7078\n",
        "lat"
       ]
      },
      {
       "output_type": "stream",
       "stream": "stdout",
       "text": [
        " 69.2081\n",
        "lat"
       ]
      },
      {
       "output_type": "stream",
       "stream": "stdout",
       "text": [
        " 68.7084\n",
        "lat"
       ]
      },
      {
       "output_type": "stream",
       "stream": "stdout",
       "text": [
        " 68.2087\n",
        "lat"
       ]
      },
      {
       "output_type": "stream",
       "stream": "stdout",
       "text": [
        " 67.709\n",
        "lat"
       ]
      },
      {
       "output_type": "stream",
       "stream": "stdout",
       "text": [
        " 67.2093\n",
        "lat"
       ]
      },
      {
       "output_type": "stream",
       "stream": "stdout",
       "text": [
        " 66.7096\n",
        "lat"
       ]
      },
      {
       "output_type": "stream",
       "stream": "stdout",
       "text": [
        " 66.2099\n",
        "lat"
       ]
      },
      {
       "output_type": "stream",
       "stream": "stdout",
       "text": [
        " 65.7102\n",
        "lat"
       ]
      },
      {
       "output_type": "stream",
       "stream": "stdout",
       "text": [
        " 65.2105\n",
        "lat"
       ]
      },
      {
       "output_type": "stream",
       "stream": "stdout",
       "text": [
        " 64.7108\n",
        "lat"
       ]
      },
      {
       "output_type": "stream",
       "stream": "stdout",
       "text": [
        " 64.2111\n",
        "lat"
       ]
      },
      {
       "output_type": "stream",
       "stream": "stdout",
       "text": [
        " 63.7114\n",
        "lat"
       ]
      },
      {
       "output_type": "stream",
       "stream": "stdout",
       "text": [
        " 63.2118\n",
        "lat"
       ]
      },
      {
       "output_type": "stream",
       "stream": "stdout",
       "text": [
        " 62.7121\n",
        "lat"
       ]
      },
      {
       "output_type": "stream",
       "stream": "stdout",
       "text": [
        " 62.2124\n",
        "lat"
       ]
      },
      {
       "output_type": "stream",
       "stream": "stdout",
       "text": [
        " 61.7127\n",
        "lat"
       ]
      },
      {
       "output_type": "stream",
       "stream": "stdout",
       "text": [
        " 61.213\n",
        "lat"
       ]
      },
      {
       "output_type": "stream",
       "stream": "stdout",
       "text": [
        " 60.7133\n",
        "lat"
       ]
      },
      {
       "output_type": "stream",
       "stream": "stdout",
       "text": [
        " 60.2136\n",
        "lat"
       ]
      },
      {
       "output_type": "stream",
       "stream": "stdout",
       "text": [
        " 59.7139\n",
        "lat"
       ]
      },
      {
       "output_type": "stream",
       "stream": "stdout",
       "text": [
        " 59.2142\n",
        "lat"
       ]
      },
      {
       "output_type": "stream",
       "stream": "stdout",
       "text": [
        " 58.7145\n",
        "lat"
       ]
      },
      {
       "output_type": "stream",
       "stream": "stdout",
       "text": [
        " 58.2148\n",
        "lat"
       ]
      },
      {
       "output_type": "stream",
       "stream": "stdout",
       "text": [
        " 57.7151\n",
        "lat"
       ]
      },
      {
       "output_type": "stream",
       "stream": "stdout",
       "text": [
        " 57.2154\n",
        "lat"
       ]
      },
      {
       "output_type": "stream",
       "stream": "stdout",
       "text": [
        " 56.7157\n",
        "lat"
       ]
      },
      {
       "output_type": "stream",
       "stream": "stdout",
       "text": [
        " 56.216\n",
        "lat"
       ]
      },
      {
       "output_type": "stream",
       "stream": "stdout",
       "text": [
        " 55.7163\n",
        "lat"
       ]
      },
      {
       "output_type": "stream",
       "stream": "stdout",
       "text": [
        " 55.2166\n",
        "lat"
       ]
      },
      {
       "output_type": "stream",
       "stream": "stdout",
       "text": [
        " 54.7169\n",
        "lat"
       ]
      },
      {
       "output_type": "stream",
       "stream": "stdout",
       "text": [
        " 54.2172\n",
        "lat"
       ]
      },
      {
       "output_type": "stream",
       "stream": "stdout",
       "text": [
        " 53.7175\n",
        "lat"
       ]
      },
      {
       "output_type": "stream",
       "stream": "stdout",
       "text": [
        " 53.2178\n",
        "lat"
       ]
      },
      {
       "output_type": "stream",
       "stream": "stdout",
       "text": [
        " 52.7181\n",
        "lat"
       ]
      },
      {
       "output_type": "stream",
       "stream": "stdout",
       "text": [
        " 52.2184\n",
        "lat"
       ]
      },
      {
       "output_type": "stream",
       "stream": "stdout",
       "text": [
        " 51.7187\n",
        "lat"
       ]
      },
      {
       "output_type": "stream",
       "stream": "stdout",
       "text": [
        " 51.219\n",
        "lat"
       ]
      },
      {
       "output_type": "stream",
       "stream": "stdout",
       "text": [
        " 50.7193\n",
        "lat"
       ]
      },
      {
       "output_type": "stream",
       "stream": "stdout",
       "text": [
        " 50.2196\n",
        "lat"
       ]
      },
      {
       "output_type": "stream",
       "stream": "stdout",
       "text": [
        " 49.7199\n",
        "lat"
       ]
      }
     ],
     "prompt_number": "*"
    },
    {
     "cell_type": "code",
     "collapsed": false,
     "input": [
      "# this is how you can save a numpy array\n",
      "np.savez('files/data/absorbed.npz',absorbed=np.array(absorbed),\\\n",
      "         power_density=np.array(power_density),mask=absorbed.mask)"
     ],
     "language": "python",
     "metadata": {},
     "outputs": [],
     "prompt_number": "*"
    },
    {
     "cell_type": "code",
     "collapsed": false,
     "input": [
      "# now next time we should be able to load it\n",
      "try:\n",
      "    f = np.load('files/data/absorbed.npz')\n",
      "    mask = f['mask']\n",
      "    absorbed,power_density = ma.array(f['absorbed'],mask=mask),\\\n",
      "                             ma.array(f['power_density'],mask=mask)\n",
      "except:\n",
      "    absorbed,power_density = absorbed_power_density(year,minute_step=60)"
     ],
     "language": "python",
     "metadata": {},
     "outputs": [],
     "prompt_number": "*"
    },
    {
     "cell_type": "code",
     "collapsed": false,
     "input": [
      "import pylab as plt\n",
      "\n",
      "cmap = plt.get_cmap('Spectral')\n",
      "vmax = absorbed.max()\n",
      "vmin = 0.\n",
      "\n",
      "for m in xrange(12):\n",
      "    plt.figure(figsize=(10,7))\n",
      "    plt.title('Month %02d %d'%(m,year))\n",
      "    plt.imshow(absorbed[m],cmap=cmap,interpolation='none',vmin=vmin,vmax=vmax)\n",
      "    plt.colorbar()"
     ],
     "language": "python",
     "metadata": {},
     "outputs": [],
     "prompt_number": "*"
    },
    {
     "cell_type": "markdown",
     "metadata": {},
     "source": [
      "This code is still quite slow (even for a single longitude).\n",
      "\n",
      "You should look it over and see how you might make it more efficient.\n",
      "\n",
      "Some ideas:\n",
      "\n",
      "- interpolate the radiation field (over latitude?) and possibly improve by sub sampling over longitude and interpolating that as well\n",
      "- when calculating daily integrals, don't start the calculations until the sun is above the horizon (and the same for sunset).\n",
      "\n",
      "The exercise asks you to perform summations over latitude. This should be simple enough, being of the form:\n",
      "\n",
      "    absorbed.sum(axis=(0,2))\n",
      "\n",
      "which will sum over axes 0 (month) and 2 (longitude).\n",
      "\n",
      "Total absorbed involves working out the area for each sample pixel and including that in teh calculation. That is left as an exercise here."
     ]
    }
   ],
   "metadata": {}
  }
 ]
}