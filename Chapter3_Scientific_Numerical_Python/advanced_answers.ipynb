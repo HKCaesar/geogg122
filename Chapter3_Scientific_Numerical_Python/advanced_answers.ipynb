{
 "metadata": {
  "name": ""
 },
 "nbformat": 3,
 "nbformat_minor": 0,
 "worksheets": [
  {
   "cells": [
    {
     "cell_type": "heading",
     "level": 2,
     "metadata": {},
     "source": [
      "E3.3: Exercise: Improved Solar Radiation Modelling"
     ]
    },
    {
     "cell_type": "markdown",
     "metadata": {},
     "source": [
      "Using the material above and the global albedo datasets from the main class material, **calculate an improved estimate of the total absorbed power per unit area per month (MJ per m^2 per month) for the Earth land surface**\n",
      "\n",
      "You could then use this to derive latitudinal variations in annual and latitudinal total absorbed power per unit area."
     ]
    },
    {
     "cell_type": "heading",
     "level": 2,
     "metadata": {},
     "source": [
      "AE3.3 Answer: Improved Solar Radiation Modelling"
     ]
    },
    {
     "cell_type": "code",
     "collapsed": false,
     "input": [],
     "language": "python",
     "metadata": {},
     "outputs": []
    }
   ],
   "metadata": {}
  }
 ]
}