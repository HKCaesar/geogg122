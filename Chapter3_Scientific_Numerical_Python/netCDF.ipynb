{
 "cells": [
  {
   "cell_type": "markdown",
   "metadata": {},
   "source": [
    "# How to read netCDF files if the format is not included in gdal"
   ]
  },
  {
   "cell_type": "markdown",
   "metadata": {},
   "source": [
    "On the whole, we use `gdal` in these notes for consistency. The package understands many file formats, but is generally *not* compiled with netCDF. You *can* recompile the library, but it is often easier to use a different package to read netCDF files.\n",
    "\n",
    "First, we will see if `gdal` is working as we wish:"
   ]
  },
  {
   "cell_type": "code",
   "execution_count": 2,
   "metadata": {
    "collapsed": false
   },
   "outputs": [
    {
     "name": "stdout",
     "output_type": "stream",
     "text": [
      "data/GlobAlbedo.200901.mosaic.5.nc\n",
      "unable to open netcdf file\n"
     ]
    }
   ],
   "source": [
    "import gdal\n",
    "# example filename : use formatting string:\n",
    "# %d%02d\n",
    "layer = 'DHR_VIS'\n",
    "year = 2009\n",
    "month = 1\n",
    "filename = 'data/GlobAlbedo.%d%02d.mosaic.5.nc'%(year,month)\n",
    "template = 'NETCDF:\"%s\":%s'%(filename,layer)\n",
    "\n",
    "print filename\n",
    "\n",
    "# this is is way we read a data layer using gdal\n",
    "try:\n",
    "    data = gdal.Open(template).ReadAsArray()\n",
    "except:\n",
    "    print 'unable to open netcdf file'\n"
   ]
  },
  {
   "cell_type": "markdown",
   "metadata": {},
   "source": [
    "So, let's try an alternative."
   ]
  },
  {
   "cell_type": "code",
   "execution_count": 3,
   "metadata": {
    "collapsed": false
   },
   "outputs": [
    {
     "name": "stdout",
     "output_type": "stream",
     "text": [
      "data/GlobAlbedo.200901.mosaic.5.nc\n",
      "<scipy.io.netcdf.netcdf_variable object at 0x10a828910>\n"
     ]
    }
   ],
   "source": [
    "from scipy.io import netcdf\n",
    "\n",
    "# example filename : use formatting string:\n",
    "# %d%02d\n",
    "layer = 'DHR_VIS'\n",
    "year = 2009\n",
    "month = 1\n",
    "filename = 'data/GlobAlbedo.%d%02d.mosaic.5.nc'%(year,month)\n",
    "print filename\n",
    "\n",
    "data = netcdf.netcdf_file(filename,'r').variables[layer]\n",
    "\n",
    "print data"
   ]
  },
  {
   "cell_type": "markdown",
   "metadata": {},
   "source": [
    "which does work with defalt packages and settings.\n",
    "\n",
    "Note that at this point, the contents are not yet read from disk into the array `data`. If we want to force that, use:"
   ]
  },
  {
   "cell_type": "code",
   "execution_count": 4,
   "metadata": {
    "collapsed": false
   },
   "outputs": [],
   "source": [
    "data = netcdf.netcdf_file(filename,'r').variables[layer][:]"
   ]
  },
  {
   "cell_type": "markdown",
   "metadata": {},
   "source": [
    "If you want to wrap this up into a `readGA` method as in the notes, but still try `gdal`:"
   ]
  },
  {
   "cell_type": "code",
   "execution_count": 1,
   "metadata": {
    "collapsed": false
   },
   "outputs": [],
   "source": [
    "import gdal\n",
    "\n",
    "def readGA(root='data/',year=2009,month=1,layer = 'BHR_VIS'\\\n",
    "           ,filename=None):\n",
    "    '''\n",
    "    Method to read a GlobAlbedo file\n",
    "    '''\n",
    "    file_template = 'NETCDF:\"%s\":%s'\n",
    "\n",
    "    filename = filename or root + 'GlobAlbedo.%d%02d.mosaic.5.nc'%(year,month)\n",
    "\n",
    "    try:\n",
    "        # try gdal\n",
    "        data = gdal.Open (  file_template % ( filename, layer ) ).ReadAsArray()\n",
    "    except:\n",
    "        # nope ... so try netcdf library\n",
    "        from scipy.io import netcdf\n",
    "        data = netcdf.netcdf_file(filename,'r').variables[layer][:]\n",
    "        \n",
    "    # return a numpy array\n",
    "    return(np.array(data))"
   ]
  },
  {
   "cell_type": "code",
   "execution_count": null,
   "metadata": {
    "collapsed": false
   },
   "outputs": [],
   "source": [
    "data = readGA()"
   ]
  }
 ],
 "metadata": {},
 "nbformat": 4,
 "nbformat_minor": 0
}