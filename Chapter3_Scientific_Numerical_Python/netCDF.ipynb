{
 "metadata": {
  "name": "",
  "signature": "sha256:daafd3b7ec74a46c0393a93bfacd12cb79036df8a4a158d05b47f28304f0ad2a"
 },
 "nbformat": 3,
 "nbformat_minor": 0,
 "worksheets": [
  {
   "cells": [
    {
     "cell_type": "heading",
     "level": 1,
     "metadata": {},
     "source": [
      "How to read netCDF files if the format is not included in gdal"
     ]
    },
    {
     "cell_type": "markdown",
     "metadata": {},
     "source": [
      "On the whole, we use `gdal` in these notes for consistency. The package understands many file formats, but is generally *not* compiled with netCDF. You *can* recompile the library, but it is often easier to use a different package to read netCDF files.\n",
      "\n",
      "First, we will see if `gdal` is working as we wish:"
     ]
    },
    {
     "cell_type": "code",
     "collapsed": false,
     "input": [
      "import gdal\n",
      "# example filename : use formatting string:\n",
      "# %d%02d\n",
      "layer = 'DHR_VIS'\n",
      "year = 2009\n",
      "month = 1\n",
      "filename = 'data/GlobAlbedo.%d%02d.mosaic.5.nc'%(year,month)\n",
      "template = 'NETCDF:\"%s\":%s'%(filename,layer)\n",
      "\n",
      "print filename\n",
      "\n",
      "# this is is way we read a data layer using gdal\n",
      "try:\n",
      "    data = gdal.Open(template).ReadAsArray()\n",
      "except:\n",
      "    print 'unable to open netcdf file'\n"
     ],
     "language": "python",
     "metadata": {},
     "outputs": [
      {
       "output_type": "stream",
       "stream": "stdout",
       "text": [
        "data/GlobAlbedo.200901.mosaic.5.nc\n",
        "unable to open netcdf file\n"
       ]
      }
     ],
     "prompt_number": 2
    },
    {
     "cell_type": "markdown",
     "metadata": {},
     "source": [
      "So, let's try an alternative."
     ]
    },
    {
     "cell_type": "code",
     "collapsed": false,
     "input": [
      "from scipy.io import netcdf\n",
      "\n",
      "# example filename : use formatting string:\n",
      "# %d%02d\n",
      "layer = 'DHR_VIS'\n",
      "year = 2009\n",
      "month = 1\n",
      "filename = 'data/GlobAlbedo.%d%02d.mosaic.5.nc'%(year,month)\n",
      "print filename\n",
      "\n",
      "data = netcdf.netcdf_file(filename,'r').variables[layer]\n",
      "\n",
      "print data"
     ],
     "language": "python",
     "metadata": {},
     "outputs": [
      {
       "output_type": "stream",
       "stream": "stdout",
       "text": [
        "data/GlobAlbedo.200901.mosaic.5.nc\n",
        "<scipy.io.netcdf.netcdf_variable object at 0x10a828910>"
       ]
      },
      {
       "output_type": "stream",
       "stream": "stdout",
       "text": [
        "\n"
       ]
      }
     ],
     "prompt_number": 3
    },
    {
     "cell_type": "markdown",
     "metadata": {},
     "source": [
      "which does work with defalt packages and settings.\n",
      "\n",
      "Note that at this point, the contents are not yet read from disk into the array `data`. If we want to force that, use:"
     ]
    },
    {
     "cell_type": "code",
     "collapsed": false,
     "input": [
      "data = netcdf.netcdf_file(filename,'r').variables[layer][:]"
     ],
     "language": "python",
     "metadata": {},
     "outputs": [],
     "prompt_number": 4
    },
    {
     "cell_type": "markdown",
     "metadata": {},
     "source": [
      "If you want to wrap this up into a `readGA` method as in the notes, but still try `gdal`:"
     ]
    },
    {
     "cell_type": "code",
     "collapsed": false,
     "input": [
      "import gdal\n",
      "\n",
      "def readGA(root='data/',year=2009,month=1,layer = 'BHR_VIS'\\\n",
      "           ,filename=None):\n",
      "    '''\n",
      "    Method to read a GlobAlbedo file\n",
      "    '''\n",
      "    file_template = 'NETCDF:\"%s\":%s'\n",
      "\n",
      "    filename = filename or root + 'GlobAlbedo.%d%02d.mosaic.5.nc'%(year,month)\n",
      "\n",
      "    try:\n",
      "        # try gdal\n",
      "        data = gdal.Open (  file_template % ( filename, layer ) ).ReadAsArray()\n",
      "    except:\n",
      "        # nope ... so try netcdf library\n",
      "        from scipy.io import netcdf\n",
      "        data = netcdf.netcdf_file(filename,'r').variables[layer][:]\n",
      "        \n",
      "    # return a numpy array\n",
      "    return(np.array(data))"
     ],
     "language": "python",
     "metadata": {},
     "outputs": [],
     "prompt_number": 1
    },
    {
     "cell_type": "code",
     "collapsed": false,
     "input": [
      "data = readGA()"
     ],
     "language": "python",
     "metadata": {},
     "outputs": []
    }
   ],
   "metadata": {}
  }
 ]
}