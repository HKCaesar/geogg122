{
 "metadata": {
  "name": ""
 },
 "nbformat": 3,
 "nbformat_minor": 0,
 "worksheets": [
  {
   "cells": [
    {
     "cell_type": "heading",
     "level": 1,
     "metadata": {},
     "source": [
      "3. Scientific and Numerical Python"
     ]
    },
    {
     "cell_type": "heading",
     "level": 2,
     "metadata": {},
     "source": [
      "3.1 In this session"
     ]
    },
    {
     "cell_type": "markdown",
     "metadata": {},
     "source": [
      "In this session, we will introduce and use some packages that you will commonly use in scientific programming.\n",
      "\n",
      "These are:\n",
      "\n",
      "- [numpy](http://www.numpy.org/): NumPy is the fundamental package for scientific computing with Python  \n",
      "- [scipy](http://www.scipy.org/): SciPy contains additional routines needed in scientific work   \n",
      "- [matplotlib](http://matplotlib.org/): Python 2D plotting library  \n",
      "\n",
      "We will also introduce some additional programming concepts."
     ]
    },
    {
     "cell_type": "heading",
     "level": 3,
     "metadata": {},
     "source": [
      "3.2.1 Getting Started"
     ]
    },
    {
     "cell_type": "markdown",
     "metadata": {},
     "source": [
      "To get started for this session, you should go to your `Data` area and download or update your material for this course.\n",
      "\n",
      "If you haven't previously downloaded the course, type the following at the unix prompt (illustrated by `berlin%` here):\n",
      "\n",
      "`berlin% cd Data`  \n",
      "`berlin% git clone https://github.com/profLewis/geogg122.git`  \n",
      "`berlin% cd geogg122/Chapter3_Scientific_Numerical_Python`  \n",
      "\n",
      "If you already have a clone of the course repository (which you should have from last week):\n",
      "\n",
      "`berlin% cd Data/geogg122`  \n"
     ]
    },
    {
     "cell_type": "heading",
     "level": 2,
     "metadata": {},
     "source": [
      "3.2 Getting some data"
     ]
    },
    {
     "cell_type": "markdown",
     "metadata": {},
     "source": [
      "Before we start to use those packages, we will start by getting some data for you to use and show you how to read it in.\n",
      "\n",
      "Today, we will be using the [ESA GlobAlbedo data](http://www.globalbedo.org).\n",
      "\n",
      "These data come in different spatial resolutions, but here we will use the global product at 0.5 degrees.\n",
      "\n",
      "The files are acessible via `http` in the directory:\n",
      "\n",
      "`http://www.globalbedo.org/GlobAlbedo78/mosaics/2011/0.5/monthly`  \n",
      "\n",
      "The filenames are of the pattern:\n",
      "\n",
      "`GlobAlbedo.YYYYMM.mosaic.5.nc.gz`\n",
      "\n",
      "where `YYYY` is the year (e.g. 2011) and MM is the month (`01` is January, `12` is December)."
     ]
    },
    {
     "cell_type": "markdown",
     "metadata": {},
     "source": []
    },
    {
     "cell_type": "code",
     "collapsed": false,
     "input": [
      "http://www.globalbedo.org/GlobAlbedo78/mosaics/2011/0.5/monthly/GlobAlbedo.201101.mosaic.5.nc.gz"
     ],
     "language": "python",
     "metadata": {},
     "outputs": []
    },
    {
     "cell_type": "heading",
     "level": 2,
     "metadata": {},
     "source": [
      "3.2 NumPy"
     ]
    },
    {
     "cell_type": "markdown",
     "metadata": {},
     "source": []
    }
   ],
   "metadata": {}
  }
 ]
}