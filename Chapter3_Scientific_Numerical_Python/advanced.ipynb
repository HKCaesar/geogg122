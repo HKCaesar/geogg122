{
 "metadata": {
  "name": ""
 },
 "nbformat": 3,
 "nbformat_minor": 0,
 "worksheets": [
  {
   "cells": [
    {
     "cell_type": "heading",
     "level": 1,
     "metadata": {},
     "source": [
      "A3. Advanced notes: Scientific and Numerical Python"
     ]
    },
    {
     "cell_type": "heading",
     "level": 2,
     "metadata": {},
     "source": [
      "A3.1 Pulling Compressed netCDF Files"
     ]
    },
    {
     "cell_type": "markdown",
     "metadata": {},
     "source": [
      "Sometimes, such as when we want to pull data from netCDF files from some data site such as [`http://www.globalbedo.org`](http://www.globalbedo.org), we might find that 'older style' formats have been used, such as netCDF3 which might not have internal compression.\n",
      "\n",
      "To save storage space, it is common to compress such files extrenally (i.e. to `gzip` a file).\n",
      "\n",
      "That makes direct reading from a url a bit more tricky, and in such cases, we may as well uncompress the file to a local temporary file."
     ]
    },
    {
     "cell_type": "heading",
     "level": 3,
     "metadata": {},
     "source": [
      "Doing this in Python"
     ]
    },
    {
     "cell_type": "markdown",
     "metadata": {},
     "source": [
      "What we are going to do is to write a class to download a gzipped file from a url and return a filename that can be read by other functions. \n",
      "\n",
      "The file is available as [`gzurl.py`](files/python/gzurl.py), in the directory `files/python`.\n",
      "\n",
      "To be able to import this, we have to put `files/python` in the path where Python looks for modules:\n"
     ]
    },
    {
     "cell_type": "code",
     "collapsed": false,
     "input": [
      "import sys,os\n",
      "# put the local directory 'python' in the path\n",
      "# i.e. where we look for modules\n",
      "sys.path.insert(0,os.path.abspath('files%spython')%os.sep)\n",
      "\n",
      "from gzurl import gzurl"
     ],
     "language": "python",
     "metadata": {},
     "outputs": [],
     "prompt_number": 2
    },
    {
     "cell_type": "code",
     "collapsed": false,
     "input": [
      "help(gzurl)"
     ],
     "language": "python",
     "metadata": {},
     "outputs": [
      {
       "output_type": "stream",
       "stream": "stdout",
       "text": [
        "Help on class gzurl in module gzurl:\n",
        "\n",
        "class gzurl(__builtin__.object)\n",
        " |  Download gzipped url to a local file or string\n",
        " |  \n",
        " |  Prof. P. Lewis, UCL, \n",
        " |  Thu 10 Oct 2013 12:01:00 BST\n",
        " |  p.lewis@ucl.ac.uk\n",
        " |  \n",
        " |  Methods defined here:\n",
        " |  \n",
        " |  __del__(self)\n",
        " |      Destriuctor\n",
        " |      \n",
        " |      Tidy up\n",
        " |  \n",
        " |  __init__(self, url, filename=None, store=False, file=True)\n",
        " |      initialise class instance\n",
        " |      \n",
        " |      Parameters:\n",
        " |      \n",
        " |      url   : url of gzipped file\n",
        " |      \n",
        " |      Options:\n",
        " |      \n",
        " |      filename:\n",
        " |              specify a filename explicitly, rather than\n",
        " |              a temporary file (default None) \n",
        " |      store : boolean flag to store the uncompressed\n",
        " |              data in self.data (default false)\n",
        " |      file  : boolean flag to store data to a file\n",
        " |              (default True)\n",
        " |  \n",
        " |  close(self)\n",
        " |      Tidy up\n",
        " |  \n",
        " |  read(self, url)\n",
        " |      read gzipped data from url\n",
        " |      and uncompress\n",
        " |  \n",
        " |  ----------------------------------------------------------------------\n",
        " |  Data descriptors defined here:\n",
        " |  \n",
        " |  __dict__\n",
        " |      dictionary for instance variables (if defined)\n",
        " |  \n",
        " |  __weakref__\n",
        " |      list of weak references to the object (if defined)\n",
        "\n"
       ]
      }
     ],
     "prompt_number": 3
    },
    {
     "cell_type": "markdown",
     "metadata": {},
     "source": [
      "You can look through the file  [`gzurl.py`](files/python/gzurl.py) at your leisure, but it is of interest to see how we have done this.\n",
      "\n",
      "We need to load the following modules to do this:\n",
      "\n",
      "`urllib2, io, gzip, tempfile`:\n"
     ]
    },
    {
     "cell_type": "code",
     "collapsed": false,
     "input": [
      "import urllib2, io, gzip, tempfile"
     ],
     "language": "python",
     "metadata": {},
     "outputs": [],
     "prompt_number": 4
    },
    {
     "cell_type": "markdown",
     "metadata": {},
     "source": [
      "The first thing we do is to attempt to open the url:"
     ]
    },
    {
     "cell_type": "code",
     "collapsed": false,
     "input": [
      "XX = {1998:95,1999:95,2000:97,2001:97,2002:26,2003:66,2004:54,2005:54,\\\n",
      "      2006:29,2007:25,2008:53,2009:56,2010:56,2011:78}\n",
      "\n",
      "year = 2009\n",
      "\n",
      "root = 'http://www.globalbedo.org/GlobAlbedo%d/mosaics/%d/0.5/monthly/'%(XX[year],year)\n",
      "\n",
      "# example filename : use formatting string:\n",
      "# %d%02d\n",
      "month = 1\n",
      "url = root + '/GlobAlbedo.%d%02d.mosaic.5.nc.gz'%(year,month)\n",
      "print url\n",
      "\n",
      "f = urllib2.urlopen(url)"
     ],
     "language": "python",
     "metadata": {},
     "outputs": [
      {
       "output_type": "stream",
       "stream": "stdout",
       "text": [
        "http://www.globalbedo.org/GlobAlbedo56/mosaics/2009/0.5/monthly//GlobAlbedo.200901.mosaic.5.nc.gz\n"
       ]
      }
     ],
     "prompt_number": 22
    },
    {
     "cell_type": "markdown",
     "metadata": {},
     "source": [
      "We then read data from that with the statement:"
     ]
    },
    {
     "cell_type": "code",
     "collapsed": false,
     "input": [
      "bdata = f.read()\n",
      "\n",
      "# which looks like this:\n",
      "bdata[:50]"
     ],
     "language": "python",
     "metadata": {},
     "outputs": [
      {
       "metadata": {},
       "output_type": "pyout",
       "prompt_number": 6,
       "text": [
        "'\\x1f\\x8b\\x08\\x08p92R\\x00\\x03GlobAlbedo.201101.mosaic.5.nc\\x00\\xec\\xbd\\x07\\x80\\x1eU\\xd57.M'"
       ]
      }
     ],
     "prompt_number": 6
    },
    {
     "cell_type": "markdown",
     "metadata": {},
     "source": [
      "We then create a buffered I/O stream from this using `io.BytesIO`, which is the form we want the information in for the next part:"
     ]
    },
    {
     "cell_type": "code",
     "collapsed": false,
     "input": [
      "f = urllib2.urlopen(url)\n",
      "fileobj=io.BytesIO(f.read())"
     ],
     "language": "python",
     "metadata": {},
     "outputs": [],
     "prompt_number": 7
    },
    {
     "cell_type": "markdown",
     "metadata": {},
     "source": [
      "Next, we use the module `gzip.GzipFile` which simulates the methods of a gzip file:"
     ]
    },
    {
     "cell_type": "code",
     "collapsed": false,
     "input": [
      "gzip.GzipFile(fileobj=fileobj)"
     ],
     "language": "python",
     "metadata": {},
     "outputs": [
      {
       "metadata": {},
       "output_type": "pyout",
       "prompt_number": 8,
       "text": [
        "<gzip _io.BytesIO object at 0x104fe01d0 0x1052ea210>"
       ]
      }
     ],
     "prompt_number": 8
    },
    {
     "cell_type": "markdown",
     "metadata": {},
     "source": [
      "And then we read from this:"
     ]
    },
    {
     "cell_type": "code",
     "collapsed": false,
     "input": [
      "f = urllib2.urlopen(url)\n",
      "data=gzip.GzipFile(fileobj=io.BytesIO(f.read())).read()"
     ],
     "language": "python",
     "metadata": {},
     "outputs": [],
     "prompt_number": 9
    },
    {
     "cell_type": "markdown",
     "metadata": {},
     "source": [
      "This is now binary of netCDF format in this case.\n",
      "\n",
      "Next, we need to write these data to a file. In this case, we don't want to really save the data anywhere, so we want to use a temporary file.\n",
      "\n",
      "In Python, you can create a temporary file using the module tempfile, which creates a temporary (unique) file on the system."
     ]
    },
    {
     "cell_type": "code",
     "collapsed": false,
     "input": [
      "tmp = tempfile.NamedTemporaryFile(delete=False)\n",
      "print tmp.name"
     ],
     "language": "python",
     "metadata": {},
     "outputs": [
      {
       "output_type": "stream",
       "stream": "stdout",
       "text": [
        "/var/folders/pt/z0y8dmcd7d77cs_0hnygpwh80000gn/T/tmp2mK1MD\n"
       ]
      }
     ],
     "prompt_number": 10
    },
    {
     "cell_type": "markdown",
     "metadata": {},
     "source": [
      "So we write the data to this file:"
     ]
    },
    {
     "cell_type": "code",
     "collapsed": false,
     "input": [
      "tmp.write(data)"
     ],
     "language": "python",
     "metadata": {},
     "outputs": [],
     "prompt_number": 11
    },
    {
     "cell_type": "markdown",
     "metadata": {},
     "source": [
      "Then, after we have done something with the data, we will want to tidy up and delete the file:"
     ]
    },
    {
     "cell_type": "code",
     "collapsed": false,
     "input": [
      "tmp.unlink(tmp.name)"
     ],
     "language": "python",
     "metadata": {},
     "outputs": [],
     "prompt_number": 12
    },
    {
     "cell_type": "markdown",
     "metadata": {},
     "source": [
      "To use this module then:"
     ]
    },
    {
     "cell_type": "code",
     "collapsed": false,
     "input": [
      "XX = {1998:95,1999:95,2000:97,2001:97,2002:26,2003:66,2004:54,2005:54,\\\n",
      "      2006:29,2007:25,2008:53,2009:56,2010:56,2011:78}\n",
      "\n",
      "year = 2009\n",
      "\n",
      "root = 'http://www.globalbedo.org/GlobAlbedo%d/mosaics/%d/0.5/monthly/'%(XX[year],year)\n",
      "\n",
      "# example filename : use formatting string:\n",
      "# %d%02d\n",
      "month = 1\n",
      "url = root + '/GlobAlbedo.%d%02d.mosaic.5.nc.gz'%(year,month)\n",
      "\n",
      "import sys\n",
      "# put the local directory 'python' in the path\n",
      "# i.e. where we look for modules\n",
      "sys.path.append('files/python')\n",
      "# we can now import gzurl\n",
      "from gzurl import gzurl\n",
      "\n",
      "# read the gzipped data from url into f.filename\n",
      "f = gzurl(url)\n",
      "from netCDF4 import Dataset\n",
      "\n",
      "# load the netCDF data from the file f.filename\n",
      "nc = Dataset(f.filename,'r')\n",
      "# close\n",
      "f.close()\n"
     ],
     "language": "python",
     "metadata": {},
     "outputs": [],
     "prompt_number": 19
    },
    {
     "cell_type": "markdown",
     "metadata": {},
     "source": [
      "Alternatively, to read all of the files into the directory `files/data` for the year 2011 and keep them:"
     ]
    },
    {
     "cell_type": "code",
     "collapsed": false,
     "input": [
      "import sys,os\n",
      "# put the local directory 'python' in the path\n",
      "# i.e. where we look for modules\n",
      "sys.path.append('files/python')\n",
      "# we can now import gzurl\n",
      "from gzurl import gzurl\n",
      "from netCDF4 import Dataset\n",
      "\n",
      "XX = {1998:95,1999:95,2000:97,2001:97,2002:26,2003:66,2004:54,2005:54,\\\n",
      "      2006:29,2007:25,2008:53,2009:56,2010:56,2011:78}\n",
      "\n",
      "year = 2009\n",
      "\n",
      "root = 'http://www.globalbedo.org/GlobAlbedo%d/mosaics/%d/0.5/monthly/'%(XX[year],year)\n",
      "\n",
      "for month in xrange(1,13):\n",
      "    base = 'GlobAlbedo.%d%02d.mosaic.5.nc'%(year,month)\n",
      "    \n",
      "    # this is a better way to create pathnames\n",
      "    url = os.path.join(root,base+'.gz')\n",
      "    local = os.path.join('files%sdata'%os.sep,base)\n",
      "\n",
      "    # read the gzipped data from url into f.filename\n",
      "    f = gzurl(url,filename=local)\n",
      "    print local"
     ],
     "language": "python",
     "metadata": {},
     "outputs": [
      {
       "output_type": "stream",
       "stream": "stdout",
       "text": [
        "files/data/GlobAlbedo.200901.mosaic.5.nc\n",
        "files/data/GlobAlbedo.200902.mosaic.5.nc"
       ]
      },
      {
       "output_type": "stream",
       "stream": "stdout",
       "text": [
        "\n",
        "files/data/GlobAlbedo.200903.mosaic.5.nc"
       ]
      },
      {
       "output_type": "stream",
       "stream": "stdout",
       "text": [
        "\n",
        "files/data/GlobAlbedo.200904.mosaic.5.nc"
       ]
      },
      {
       "output_type": "stream",
       "stream": "stdout",
       "text": [
        "\n",
        "files/data/GlobAlbedo.200905.mosaic.5.nc"
       ]
      },
      {
       "output_type": "stream",
       "stream": "stdout",
       "text": [
        "\n",
        "files/data/GlobAlbedo.200906.mosaic.5.nc"
       ]
      },
      {
       "output_type": "stream",
       "stream": "stdout",
       "text": [
        "\n",
        "files/data/GlobAlbedo.200907.mosaic.5.nc"
       ]
      },
      {
       "output_type": "stream",
       "stream": "stdout",
       "text": [
        "\n",
        "files/data/GlobAlbedo.200908.mosaic.5.nc"
       ]
      },
      {
       "output_type": "stream",
       "stream": "stdout",
       "text": [
        "\n",
        "files/data/GlobAlbedo.200909.mosaic.5.nc"
       ]
      },
      {
       "output_type": "stream",
       "stream": "stdout",
       "text": [
        "\n",
        "files/data/GlobAlbedo.200910.mosaic.5.nc"
       ]
      },
      {
       "output_type": "stream",
       "stream": "stdout",
       "text": [
        "\n",
        "files/data/GlobAlbedo.200911.mosaic.5.nc"
       ]
      },
      {
       "output_type": "stream",
       "stream": "stdout",
       "text": [
        "\n",
        "files/data/GlobAlbedo.200912.mosaic.5.nc"
       ]
      },
      {
       "output_type": "stream",
       "stream": "stdout",
       "text": [
        "\n"
       ]
      }
     ],
     "prompt_number": 23
    },
    {
     "cell_type": "heading",
     "level": 3,
     "metadata": {},
     "source": [
      "Doing this in unix"
     ]
    },
    {
     "cell_type": "markdown",
     "metadata": {},
     "source": [
      "That's not too complicated, but you might often do this sort of thing from unix instead:"
     ]
    },
    {
     "cell_type": "code",
     "collapsed": false,
     "input": [
      "!wget -O files/data/GlobAlbedo.201101.mosaic.5.nc.gz \\\n",
      "    http://www.globalbedo.org/GlobAlbedo78/mosaics/2011/0.5/monthly//GlobAlbedo.201101.mosaic.5.nc.gz"
     ],
     "language": "python",
     "metadata": {},
     "outputs": [
      {
       "output_type": "stream",
       "stream": "stdout",
       "text": [
        "--2013-10-10 13:37:41--  http://www.globalbedo.org/GlobAlbedo78/mosaics/2011/0.5/monthly//GlobAlbedo.201101.mosaic.5.nc.gz\r\n",
        "Resolving www.globalbedo.org... 128.40.73.100\r\n",
        "Connecting to www.globalbedo.org|128.40.73.100|:80... "
       ]
      },
      {
       "output_type": "stream",
       "stream": "stdout",
       "text": [
        "connected.\r\n",
        "HTTP request sent, awaiting response... 200 OK\r\n",
        "Length: 4620226 (4.4M) [application/x-gzip]\r\n",
        "Saving to: `files/data/GlobAlbedo.201101.mosaic.5.nc.gz'\r\n",
        "\r\n",
        "\r",
        " 0% [                                       ] 0           --.-K/s              "
       ]
      },
      {
       "output_type": "stream",
       "stream": "stdout",
       "text": [
        "\r",
        "15% [=====>                                 ] 714,584     3.41M/s              "
       ]
      },
      {
       "output_type": "stream",
       "stream": "stdout",
       "text": [
        "\r",
        "38% [=============>                         ] 1,773,044   4.22M/s              "
       ]
      },
      {
       "output_type": "stream",
       "stream": "stdout",
       "text": [
        "\r",
        "68% [=========================>             ] 3,179,264   5.05M/s              "
       ]
      },
      {
       "output_type": "stream",
       "stream": "stdout",
       "text": [
        "\r",
        "100%[======================================>] 4,620,226   5.69M/s   in 0.8s    \r\n",
        "\r\n",
        "2013-10-10 13:37:41 (5.69 MB/s) - `files/data/GlobAlbedo.201101.mosaic.5.nc.gz' saved [4620226/4620226]\r\n",
        "\r\n"
       ]
      }
     ],
     "prompt_number": 24
    },
    {
     "cell_type": "code",
     "collapsed": false,
     "input": [
      "!gunzip files/data/GlobAlbedo.201101.mosaic.5.nc.gz\n",
      "!ls -l files/data/GlobAlbedo.201101.mosaic.5.nc"
     ],
     "language": "python",
     "metadata": {},
     "outputs": [
      {
       "output_type": "stream",
       "stream": "stdout",
       "text": [
        "-rw-r--r--  1 plewis  staff  18758652 12 Sep 23:00 files/data/GlobAlbedo.201101.mosaic.5.nc\r\n"
       ]
      }
     ],
     "prompt_number": 25
    },
    {
     "cell_type": "code",
     "collapsed": false,
     "input": [
      "# now delete it (once we've finished)\n",
      "!rm -f files/data/GlobAlbedo.201101.mosaic.5.nc"
     ],
     "language": "python",
     "metadata": {},
     "outputs": [],
     "prompt_number": 26
    }
   ],
   "metadata": {}
  }
 ]
}