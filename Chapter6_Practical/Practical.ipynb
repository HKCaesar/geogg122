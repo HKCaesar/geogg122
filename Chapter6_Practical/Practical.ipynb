{
 "metadata": {
  "name": ""
 },
 "nbformat": 3,
 "nbformat_minor": 0,
 "worksheets": [
  {
   "cells": [
    {
     "cell_type": "markdown",
     "metadata": {},
     "source": [
      "6. Assessed Practical"
     ]
    },
    {
     "cell_type": "markdown",
     "metadata": {},
     "source": [
      "The "
     ]
    }
   ],
   "metadata": {}
  }
 ]
}