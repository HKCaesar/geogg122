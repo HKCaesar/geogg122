{
 "metadata": {
  "name": ""
 },
 "nbformat": 3,
 "nbformat_minor": 0,
 "worksheets": [
  {
   "cells": [
    {
     "cell_type": "markdown",
     "metadata": {},
     "source": [
      "<table border=0 width=90%><tr><td border=\"\" bgcolor=\"#232323\"><img src=\"files/images/logo.png\" /></td><tr><td bgcolor=\"#9ABAE2\" border=\"\"></tr></table>"
     ]
    },
    {
     "cell_type": "markdown",
     "metadata": {},
     "source": [
      "<table border=\"0\">\n",
      "<tr>\n",
      "  <td>[<a href=\"http://nbviewer.ipython.org/urls/raw.github.com/profLewis/geogg122/master/index.ipynb\">Prev</a>]\n",
      "  <td>[<a href=\"http://nbviewer.ipython.org/urls/raw.github.com/profLewis/geogg122/master/index.ipynb\">Home</a>]\n",
      "  <td>[<a href=\"https://github.com/profLewis/geogg122\">GitHub</a>]\n",
      "  <td>[<a href=\"http://nbviewer.ipython.org/urls/raw.github.com/profLewis/geogg122/master/unix_intro.ipynb\">Next</a>]\n",
      "</table>"
     ]
    },
    {
     "cell_type": "heading",
     "level": 1,
     "metadata": {},
     "source": [
      "Introduction to GeogG122 Scientific Computing"
     ]
    },
    {
     "cell_type": "markdown",
     "metadata": {},
     "source": [
      "\n",
      "\n",
      "\n",
      "\n",
      "## Purpose of this course\n",
      "\n",
      "This course, GeogG122 Scientific Computing, is a term 1 MSc module worth 15 credits (25% of the term 1 credits) that aims to:\n",
      "\n",
      "* impart an understanding of scientific computing\n",
      "* give students a grounding in the basic principles of algorithm development and program construction\n",
      "* to introduce principles of computer-based image analysis and model development\n",
      "\n",
      "It is open to students from a number of [MSc courses](http://www.geog.ucl.ac.uk/admissions-and-teaching/postgraduates)  run by the [Department of Geography](http://www.geog.ucl.ac.uk) [UCL](www.ucl.ac.uk), but the material should be of wider value to others wishing to make use of scientific computing.\n",
      "\n",
      "The module will cover:\n",
      "\n",
      "* Introduction to programming (algorithms, data structures, control structures, I/O, languages and pseudocode)\n",
      "* Introduction to linux environment (login, shell, file systems) and hardware\n",
      "* Compilation and debugging\n",
      "* Computing for image analysis (with reference to software such as ENVI/IDL)\n",
      "* Computing in Python\n",
      "* Computing for environmental modelling\n",
      "* Data visualisation for scientific applications\n",
      "\n",
      "## Learning Outcomes\n",
      "\n",
      "\n",
      "At the end of the module, students should:\n",
      "\n",
      "* have a working knowledge of linux / unix operating systems and have the knowledge and confidence to obtain, compile and install commonly available scientific software packages\n",
      "* have an understanding of algorithm development and be able to use widely used scientific computing software to manipulate datasets and accomplish analytical tasks\n",
      "* have an understanding of the technical issues specific to image-based analysis, model implementation and scientific visualisation\n",
      "\n",
      "## Timetable\n",
      "\n",
      "The course takes place over 10 weeks in term 1, on Wednesdays usually from 10:00 to 13:00 (09:00-13:00 in t5he first two sessions) in the Geography Department Unix Computing Lab (PB110) in the [Pearson Building, UCL](http://www.ucl.ac.uk/efd/roombooking/building-location/?id=003). Classes take place from the second week of term to the final week of term, other than Reading week. See [UCL term dates for further information](http://www.ucl.ac.uk/transition/joining/all-students/term-dates).\n",
      "\n",
      "## Assessment\n",
      "\n",
      "Assessment is through one piece of coursework that is submitted in both paper form and electronically via Moodle. See the [Moodle page](http://moodle.ucl.ac.uk/course/view.php?id=13891) for more details.\n",
      "\n",
      "## Structure of the Course\n",
      "\n",
      "\n",
      "* 06\t3 Oct\t09:00-13:00\t4 hrs\tIntroduction to Unix\t110\tPL\n",
      "* 07\t10 Oct\t09:00-13:00\t4 hrs\tIntroduction to Python\t110\tPL\n",
      "* 08\t17 Oct\t10:00-13:00\t3 hrs\tPython coding\t110\tQW\n",
      "* 09\t24 Oct\t10:00-13:00\t3 hrs\tPython coding\t110\tQW\n",
      "* 10\t31 Oct\t10:00-13:00\t3 hrs\tRaster and vector data \t110\tPL\n",
      "* 11\t\t\t\tREADING WEEK (ENVI)\t\t\n",
      "* 12\t14 Nov\t10:00-13:00\t3 hrs\tRaster and vector data\t110\tPL\n",
      "* 13\t21 Nov\t10:00-13:00\t3 hrs\tBuilding and calibrating a model\t110\tQW\n",
      "* 14\t28 Nov\t10:00-13:00\t3 hrs\tBuilding and calibrating a model\t110\tPL\n",
      "* 15\t5 Dec\t10:00-13:00\t3 hrs\tGroup practical\t110\tPL\n",
      "* 16\t12 Dec\t10:00-13:00\t3 hrs\tGroup practical\t110\tPL\n",
      "\n",
      "Total scheduled hours: 32 hours\n",
      "\n",
      "QW = Dr Qingling Wu \n",
      "PL = Prof Philip Lewis\n",
      "\n",
      "Rooms: PB110 = Pearson Building Unix Lab, Room 110, 1st floor\n",
      "\n"
     ]
    },
    {
     "cell_type": "markdown",
     "metadata": {},
     "source": [
      "<table border=\"0\">\n",
      "<tr>\n",
      "  <td>[<a href=\"http://nbviewer.ipython.org/urls/raw.github.com/profLewis/geogg122/master/index.ipynb\">Prev</a>]\n",
      "  <td>[<a href=\"http://nbviewer.ipython.org/urls/raw.github.com/profLewis/geogg122/master/index.ipynb\">Home</a>]\n",
      "  <td>[<a href=\"https://github.com/profLewis/geogg122\">GitHub</a>]\n",
      "  <td>[<a href=\"http://nbviewer.ipython.org/urls/raw.github.com/profLewis/geogg122/master/unix_intro.ipynb\">Next</a>]\n",
      "</table>"
     ]
    }
   ],
   "metadata": {}
  }
 ]
}