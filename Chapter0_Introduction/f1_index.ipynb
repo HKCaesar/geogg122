{
 "metadata": {
  "name": ""
 },
 "nbformat": 3,
 "nbformat_minor": 0,
 "worksheets": [
  {
   "cells": [
    {
     "cell_type": "markdown",
     "metadata": {},
     "source": [
      "# Welcome to GeogG122: Scientific Computing (Univeristy College London)\n",
      "\n",
      "## Course information\n",
      "\n",
      "### Course Convenor\n",
      "\n",
      "[Prof P. Lewis](http://www.geog.ucl.ac.uk/~plewis)\n",
      "\n",
      "### Course Staff\n",
      "[Prof P. Lewis](http://www.geog.ucl.ac.uk/~plewis)  \n",
      "[Dr. Qingling Wu](http://www.geog.ucl.ac.uk/about-the-department/people/academic-staff/qingling-wu)  \n",
      "        \n",
      "\n",
      "### Useful links\n",
      "\n",
      "[Course Moodle page](http://moodle.ucl.ac.uk/course/view.php?id=13891)  \n",
      "\n",
      "[A useful reading list for basic and advanced Unix.](http://www.ee.surrey.ac.uk/Teaching/Unix/books-uk.html)  \n",
      "\n",
      "- **0.0 Introduction **  \n",
      "  [Introductory notes](http://nbviewer.ipython.org/urls/raw.github.com/profLewis/geogg122/master/Chapter0_Introduction/f1_index.ipynb)  \n",
      "  \n",
      "  \n",
      "- **1.0 Unix**  \n",
      "  [Unix notes](http://nbviewer.ipython.org/urls/raw.github.com/profLewis/geogg122/master/Chapter1_Unix/f3_1_unix_intro.ipynb)  \n",
      "  [Unix exercises](http://nbviewer.ipython.org/urls/raw.github.com/profLewis/geogg122/master/Chapter1_Unix/f3_1a_unix_intro_answers.ipynb)  \n",
      "  \n",
      "  \n",
      "- **2.0 Python 101**  \n",
      "\n",
      "   The aim of this Chapter is to introduce you to some of the fundamental concepts in Python. Mainly, this is based around fundamental data types in Python (`int`, `float`, `str`, `bool` etc.) and ways to group them (`tuple`, `list` and `dict`).  We then learn about how to loop over groups of things, which gives us control to iterate some process. We need to spend a little time on strings, as you will likely to quite a bit of string processing in Scientific Computing (e.g. reading/writing data to/from ASCII text files). Although some of the examples we use are very simple to explain a concept, the more developed ones should be directly applicable to the sort of programming you are likely to need to do. A set of exercises is developed throughout the chapter, with worked answers available to you once you have had a go yourself. In addition, a more advanced section of the chapter is available, that goes into some more detail and complications. This too has a set of exercises with worked examples.  \n",
      "\n",
      "    [Course Notes](http://nbviewer.ipython.org/urls/raw.github.com/profLewis/geogg122/master/Chapter2_Python_intro/python101.ipynb)  \n",
      "    [Answers](http://nbviewer.ipython.org/urls/raw.github.com/profLewis/geogg122/master/Chapter2_Python_intro/main_answers.ipynb)  \n",
      "    [Advanced](http://nbviewer.ipython.org/urls/raw.github.com/profLewis/geogg122/master/Chapter2_Python_intro/advanced.ipynb)  \n",
      "    [Advanced Answers](http://nbviewer.ipython.org/urls/raw.github.com/profLewis/geogg122/master/Chapter2_Python_intro/advanced_answers.ipynb)  \n",
      " \n",
      " \n",
      "- **3.0 Plotting and Numerical Python**\n",
      "\n",
      "    In this session, we will introduce and use some packages that you will commonly use in scientific programming.  \n",
      "    \n",
      "    These are:  \n",
      "    \n",
      "    [numpy](http://www.numpy.org/): NumPy is the fundamental package for scientific computing with Python  \n",
      "    [matplotlib](http://matplotlib.org/): Python 2D plotting library  \n",
      "    \n",
      "    We will also introduce some additional programming concepts, and set an exercise that you can do and get feedback on.  \n",
      "    \n",
      "    [Course Notes](http://nbviewer.ipython.org/urls/raw.github.com/profLewis/geogg122/master/Chapter3_Scientific_Numerical_Python/Scientific_Numerical_Python.ipynb)  \n",
      "    [Answers](http://nbviewer.ipython.org/urls/raw.github.com/profLewis/geogg122/master/Chapter3_Scientific_Numerical_Python/answers.ipynb)  \n",
      "    [Advanced](http://nbviewer.ipython.org/urls/raw.github.com/profLewis/geogg122/master/Chapter3_Scientific_Numerical_Python/advanced.ipynb)\n",
      "    \n",
      "    "
     ]
    },
    {
     "cell_type": "markdown",
     "metadata": {},
     "source": [
      "\n",
      "\n",
      "\n",
      "\n",
      "## Purpose of this course\n",
      "\n",
      "This course, GeogG122 Scientific Computing, is a term 1 MSc module worth 15 credits (25% of the term 1 credits) that aims to:\n",
      "\n",
      "* impart an understanding of scientific computing\n",
      "* give students a grounding in the basic principles of algorithm development and program construction\n",
      "* to introduce principles of computer-based image analysis and model development\n",
      "\n",
      "It is open to students from a number of [MSc courses](http://www.geog.ucl.ac.uk/admissions-and-teaching/postgraduates)  run by the [Department of Geography](http://www.geog.ucl.ac.uk) [UCL](www.ucl.ac.uk), but the material should be of wider value to others wishing to make use of scientific computing.\n",
      "\n",
      "The module will cover:\n",
      "\n",
      "* Introduction to programming (algorithms, data structures, control structures, I/O, languages and pseudocode)\n",
      "* Introduction to linux environment (login, shell, file systems) and hardware\n",
      "* Compilation and debugging\n",
      "* Computing for image analysis (with reference to software such as ENVI/IDL)\n",
      "* Computing in Python\n",
      "* Computing for environmental modelling\n",
      "* Data visualisation for scientific applications\n",
      "\n",
      "## Learning Outcomes\n",
      "\n",
      "\n",
      "At the end of the module, students should:\n",
      "\n",
      "* have a working knowledge of linux / unix operating systems and have the knowledge and confidence to obtain, compile and install commonly available scientific software packages\n",
      "* have an understanding of algorithm development and be able to use widely used scientific computing software to manipulate datasets and accomplish analytical tasks\n",
      "* have an understanding of the technical issues specific to image-based analysis, model implementation and scientific visualisation\n",
      "\n",
      "## Timetable\n",
      "\n",
      "The course takes place over 10 weeks in term 1, on Wednesdays usually from 10:00 to 13:00 (09:00-13:00 in t5he first two sessions) in the Geography Department Unix Computing Lab (PB110) in the [Pearson Building, UCL](http://www.ucl.ac.uk/efd/roombooking/building-location/?id=003). Classes take place from the second week of term to the final week of term, other than Reading week. See [UCL term dates for further information](http://www.ucl.ac.uk/transition/joining/all-students/term-dates).\n",
      "\n",
      "## Assessment\n",
      "\n",
      "Assessment is through one piece of coursework that is submitted in both paper form and electronically via Moodle. See the [Moodle page](http://moodle.ucl.ac.uk/course/view.php?id=13891) for more details.\n",
      "\n",
      "## Structure of the Course\n",
      "\n",
      "\n",
      "* 06\t3 Oct\t09:00-13:00\t4 hrs\tIntroduction to Unix\t110\tPL\n",
      "* 07\t10 Oct\t09:00-13:00\t4 hrs\tPython 101\t110\tPL\n",
      "* 08\t17 Oct\t10:00-13:00\t4 hrs\tPlotting and Numerical Python 110\tQW\n",
      "* 09\t24 Oct\t10:00-13:00\t3 hrs\tRaster and vector data\t110\tPL\n",
      "* 10\t31 Oct\t10:00-13:00\t3 hrs\tRaster and vector data \t110\tPL\n",
      "* 11\t\t\t\tREADING WEEK (ENVI)\t\t\n",
      "* 12\t14 Nov\t10:00-13:00\t3 hrs\tRaster and vector data\t110\tPL\n",
      "* 13\t21 Nov\t10:00-13:00\t3 hrs\tBuilding and calibrating a model\t110\tQW\n",
      "* 14\t28 Nov\t10:00-13:00\t3 hrs\tBuilding and calibrating a model\t110\tPL\n",
      "* 15\t5 Dec\t10:00-13:00\t3 hrs\tGroup practical\t110\tPL\n",
      "* 16\t12 Dec\t10:00-13:00\t3 hrs\tGroup practical\t110\tPL\n",
      "\n",
      "Total scheduled hours: 32 hours\n",
      "\n",
      "QW = Dr Qingling Wu \n",
      "PL = Prof Philip Lewis\n",
      "\n",
      "Rooms: PB110 = Pearson Building Unix Lab, Room 110, 1st floor\n",
      "\n"
     ]
    },
    {
     "cell_type": "heading",
     "level": 2,
     "metadata": {},
     "source": [
      "Using these notes"
     ]
    },
    {
     "cell_type": "markdown",
     "metadata": {},
     "source": [
      "There are several ways you can access this course material.\n",
      "\n",
      "These notes are created in [ipython notebooks](http://ipython.org/ipython-doc/dev/interactive/notebook.html).\n",
      "\n",
      "The course is all stored online in [github](https://github.com/profLewis/geogg122), so you can just navigate to that site and download the files as you like.\n",
      "\n",
      "Probably the easiest option is to access the html version of the notes from notebook links in the README on [github](https://github.com/profLewis/geogg122/blob/master/README.md) or above on this page. You can access *notebook* links, which are guaranteed to be up to date, or *html* links, which should be (but not guaranteed).\n",
      "\n",
      "Another option is to access individual notebooks online through the [IPython Notebook Viewer](http://nbviewer.ipython.org/).\n",
      "\n",
      "For example, to view the notebook `https://github.com/profLewis/geogg122/blob/master/f2_intro.ipynb`, you use the web address [`http://nbviewer.ipython.org/urls/raw.github.com/profLewis/geogg122/master/Chapter0_Introduction/f2_intro.ipynb`](http://nbviewer.ipython.org/urls/raw.github.com/profLewis/geogg122/master/Chapter0_Introduction/f2_intro.ipynb).\n",
      "    \n",
      "From these viewers, you can download the notebook if you like, using the *Download Notebook* button (top right of the page).\n",
      "\n",
      "Provided you have a relatively up to date version of [`ipython`](http://ipython.org/ipython-doc/dev/interactive/nbconvert.html#nbconvert) and a few other tools such as [`pandoc`](http://johnmacfarlane.net/pandoc/installing.html) you can convert your own notebooks to other formats using `ipython`, e.g.:\n",
      "    \n",
      "`berlin% ipython nbconvert --to html f2_intro.ipynb`\n",
      "\n",
      "You can also convert the notebooks to other [formats](http://ipython.org/ipython-doc/rel-1.0.0/interactive/nbconvert.html) though you might need some other tools as well for this. If you have a working copy of `LaTeX` on your system (e.g. [MacTeX](http://tug.org/mactex/downloading.html) on OS X), you can convert the notebooks to pdf format:\n",
      "\n",
      "`berlin% ipython nbconvert --to latex --post PDF f2_intro.ipynb`"
     ]
    },
    {
     "cell_type": "heading",
     "level": 3,
     "metadata": {},
     "source": [
      "Obtaining the course material"
     ]
    },
    {
     "cell_type": "markdown",
     "metadata": {},
     "source": [
      "\n",
      "Alternatively, you can obtain the whole course from [github](https://github.com/profLewis/geogg122).\n",
      "\n",
      "To download the whole course, you can:\n",
      "    \n",
      "1. **using git**  \n",
      "\n",
      "   use the command [`git`](http://en.wikipedia.org/wiki/Git_%28software%29), if available:  \n",
      "     Create a place on the system that you want to work in (N.B., don't type `berlin%`: that represents the command line prompt), e.g.:  \n",
      "        \n",
      "   `berlin% mkdir -p ~/Data/msc`  \n",
      "   `berlin% cd ~/Data/msc`  \n",
      "   `berlin% git clone https://github.com/profLewis/geogg122.git`  \n",
      "   `berlin% cd ~/Data/msc/geogg122`\n",
      "            \n",
      "   This will create a directory `~/Data/msc/geogg122` which has the current versions of the notebooks for the course and associated files.\n",
      "            \n",
      "   If the course notes change at all (e.g. are updated), you can update your copy with:\n",
      "                \n",
      "   `berlin% git pull`\n",
      "   \n",
      "   To find out more about using `git`, type `git --help`, get [help online](http://www.siteground.com/tutorials/git/commands.htm) or download and use a [gui tool](http://git-scm.com/downloads).  \n",
      "   \n",
      "   \n",
      "   If you set up an account on [github](https://github.com/edu), you can fork the [course repository](https://github.com/profLewis/geogg122) to make your own version of the course notes, and add in your own comments and examples, if that helps you learn or remember things.\n",
      "\n",
      "   <p>\n",
      "   \n",
      "2. **using a zip file**  \n",
      "\n",
      "   Download the course as a zip file:\n",
      "        \n",
      "   `berlin% mkdir -p ~/Data/msc`  \n",
      "   `berlin% cd ~/Data/msc`  \n",
      "   `berlin% wget -O geogg122.zip https://github.com/profLewis/geogg122/archive/master.zip`  \n",
      "   `berlin% unzip geogg122.zip`  \n",
      "   `berlin% cd ~/Data/msc/geogg122-master`\n",
      "            \n"
     ]
    },
    {
     "cell_type": "markdown",
     "metadata": {},
     "source": [
      "You can directly use the notebooks, or you can open the `html` files, e.g. opening\n",
      "\n",
      "[file:///home/plewis/Data/geogg122/Chapter1_Unix/f3_1_unix_intro.html](/home/plewis/Data/geogg122/Chapter1_Unix/f3_1_unix_intro.html) in a browser (obviously changing the username and path as appropriate)."
     ]
    },
    {
     "cell_type": "heading",
     "level": 3,
     "metadata": {},
     "source": [
      "Using the course material"
     ]
    },
    {
     "cell_type": "markdown",
     "metadata": {},
     "source": [
      "Once you have copied the course material as described above (and have changed directory to where you have put the course (e.g. `~/Data/msc/geogg122-master` or `~/Data/msc/geogg122`) then `cd` to the chapter you want, e.g.:\n",
      "\n",
      "`berlin% cd ~/Data/msc/geogg122/Chapter0_Introduction`\n",
      "\n",
      "and you can start the notebooks with:\n",
      "                                                             \n",
      "`berlin% ipython notebook`\n",
      "\n",
      "This should launch a web browser with the address `http://127.0.0.1:8888/` or similar with links to the notebooks you have available. "
     ]
    },
    {
     "cell_type": "markdown",
     "metadata": {},
     "source": [
      "To load a *specific* notebook, you can type e.g.:\n",
      "    \n",
      "`berlin% ipython notebook f1_index.ipynb`"
     ]
    },
    {
     "cell_type": "heading",
     "level": 3,
     "metadata": {},
     "source": [
      "Python"
     ]
    },
    {
     "cell_type": "markdown",
     "metadata": {},
     "source": [
      "For most users wanting to install a working python environment, Anaconda appears to be far easier and overall quite nice to use: <https://store.continuum.io/cshop/anaconda/>. Comes with Python notebooks, spyder and a wealth of other things not in some other releases."
     ]
    },
    {
     "cell_type": "heading",
     "level": 3,
     "metadata": {},
     "source": [
      "System access"
     ]
    },
    {
     "cell_type": "markdown",
     "metadata": {},
     "source": [
      "You should be able to install python on a windows operating system and so could run most of the class material from any windows computer that you have. As we have noted above, you can download all of the class notes as python notebooks or other formats (such as html).\n",
      "\n",
      "For windows users, it's probably best if you just use http://mobaxterm.mobatek.net/ to connect to the UCL system (you don't need exceed, it's free, got SFTP, etc).\n",
      "\n",
      "For linux and OS X machines, it's very straightforward as you already have a unix system. For OS X, you can find the terminal in the `Utilities` folder under `Applications`. For `X windows` on OS X, you may need to [install this](http://support.apple.com/kb/HT5293) if you have a recent version of the operating system.\n",
      "\n",
      "Another approach is to use the [UCL WTS](http://www.ucl.ac.uk/isd/students/windows/wts/access/remote) system, where you have access to some software called `exceed` to allow you to log on to the system.\n",
      "\n",
      "Using any of these (or other!) approaches, you want to be able to use the command `ssh` (or similar) to log on to the gateway machine `shankly.geog.ucl.ac.uk`:\n",
      "\n",
      "This will normally be:\n",
      "\n",
      "`ssh -X username@shankly.geog.ucl.ac.uk`\n",
      "\n",
      "From there, you should log in (with `ssh`) to another computer in the lab (or else everyone will be on the same computer).\n",
      "\n",
      "From OS X, you use:\n",
      "\n",
      "`ssh -Y username@shankly.geog.ucl.ac.uk`\n",
      "\n",
      "but then the usual `-X` option once you get on to shankly. An alternative gateway, if `shankly` is down or busy is `lyon.geog.ucl.ac.uk`. "
     ]
    }
   ],
   "metadata": {}
  }
 ]
}