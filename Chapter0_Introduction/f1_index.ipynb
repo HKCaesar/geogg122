{
 "metadata": {
  "name": ""
 },
 "nbformat": 3,
 "nbformat_minor": 0,
 "worksheets": [
  {
   "cells": [
    {
     "cell_type": "markdown",
     "metadata": {},
     "source": [
      "<table border=0 width=100%><tr><td border=\"\" bgcolor=\"#232323\"><img src=\"files/images/logo.png\"  align=\"left\"></td><tr><td bgcolor=\"#9ABAE2\" border=\"\"></tr></table>"
     ]
    },
    {
     "cell_type": "markdown",
     "metadata": {},
     "source": [
      "<table border=\"0\">\n",
      "<tr>\n",
      "  <td>[<a href=\"http://nbviewer.ipython.org/urls/raw.github.com/profLewis/geogg122/master/Chapter0_Introduction/f1_index.ipynb\">Prev</a>]\n",
      "  <td>[<a href=\"http://nbviewer.ipython.org/urls/raw.github.com/profLewis/geogg122/master/Chapter0_Introduction/f1_index.ipynb\">Home</a>]\n",
      "  <td>[<a href=\"https://github.com/profLewis/geogg122\">GitHub</a>]\n",
      "  <td>[<a href=\"http://nbviewer.ipython.org/urls/raw.github.com/profLewis/geogg122/master/Chapter0_Introduction/f2_intro.ipynb\">Next</a>]\n",
      "</table>"
     ]
    },
    {
     "cell_type": "markdown",
     "metadata": {},
     "source": [
      "# Welcome to GeogG122: Scientific Computing\n",
      "\n",
      "## Course information\n",
      "\n",
      "### Course Convenor\n",
      "\n",
      "[Prof P. Lewis](http://www.geog.ucl.ac.uk/~plewis)\n",
      "\n",
      "### Course Staff\n",
      "[Prof P. Lewis](http://www.geog.ucl.ac.uk/~plewis)  \n",
      "[Dr. Qingling Wu](http://www.geog.ucl.ac.uk/about-the-department/people/academic-staff/qingling-wu)  \n",
      "        \n",
      "\n",
      "### Useful links\n",
      "\n",
      "[Course Moodle page](http://moodle.ucl.ac.uk/course/view.php?id=13891)  \n",
      "\n",
      "[A useful reading list for basic and advanced Unix.](http://www.ee.surrey.ac.uk/Teaching/Unix/books-uk.html)  \n",
      "\n",
      "## Course notes\n",
      "\n",
      "* <a href=\"http://nbviewer.ipython.org/urls/raw.github.com/profLewis/geogg122/master/Chapter0_Introduction/f1_index.ipynb\">Introduction to the Course</a>\n",
      "\n",
      "    + The Structure of the Course<structure>\n",
      "   Introduction to Unix<unix_intro>    \n",
      "   Some Unix Tools and Concepts<unix_two>"
     ]
    },
    {
     "cell_type": "heading",
     "level": 2,
     "metadata": {},
     "source": [
      "Using these notes"
     ]
    },
    {
     "cell_type": "markdown",
     "metadata": {},
     "source": [
      "There are several ways you can access this course material.\n",
      "\n",
      "These notes are created in [ipython notebooks](http://ipython.org/ipython-doc/dev/interactive/notebook.html).\n",
      "\n",
      "The course is all stored online in [github](https://github.com/profLewis/geogg122), so you can just navigate to that site and download the files as you like.\n",
      "\n",
      "One option is to access individual notebooks online through the [IPython Notebook Viewer](http://nbviewer.ipython.org/).\n",
      "\n",
      "For example, to view the notebook `https://github.com/profLewis/geogg122/blob/master/f2_intro.ipynb`, you use the web address [`http://nbviewer.ipython.org/urls/raw.github.com/profLewis/geogg122/master/Chapter0_Introduction/f2_intro.ipynb`](http://nbviewer.ipython.org/urls/raw.github.com/profLewis/geogg122/master/Chapter0_Introduction/f2_intro.ipynb).\n",
      "    \n",
      "From these viewers, you can download the notebook if you like, using the *Download Notebook* button (top right of the page).\n",
      "\n",
      "Provided you have a relatively up to date version of [`ipython`](http://ipython.org/ipython-doc/dev/interactive/nbconvert.html#nbconvert) and a few other tools such as [`pandoc`](http://johnmacfarlane.net/pandoc/installing.html) you can convert your own notebooks to other formats using `ipython`, e.g.:\n",
      "    \n",
      "`berlin% ipython nbconvert --to html f2_intro.ipynb`\n",
      "\n",
      "You can also convert the notebooks to other [formats](http://ipython.org/ipython-doc/rel-1.0.0/interactive/nbconvert.html) though you might need some other tools as well for this. If you have a working copy of `LaTeX` on your system (e.g. [MacTeX](http://tug.org/mactex/downloading.html) on OS X), you can convert the notebooks to pdf format:\n",
      "\n",
      "`berlin% ipython nbconvert --to latex --post PDF f2_intro.ipynb`"
     ]
    },
    {
     "cell_type": "heading",
     "level": 3,
     "metadata": {},
     "source": [
      "Obtaining the course material"
     ]
    },
    {
     "cell_type": "markdown",
     "metadata": {},
     "source": [
      "\n",
      "Alternatively, you can obtain the whole course from [github](https://github.com/profLewis/geogg122).\n",
      "\n",
      "To download the whole course, you can:\n",
      "    \n",
      "1. **using git**  \n",
      "\n",
      "   use the command [`git`](http://en.wikipedia.org/wiki/Git_%28software%29), if available:  \n",
      "     Create a place on the system that you want to work in (N.B., don't type `berlin%`: that represents the command line prompt), e.g.:  \n",
      "        \n",
      "   `berlin% mkdir -p ~/Data/msc`  \n",
      "   `berlin% cd ~/Data/msc`  \n",
      "   `berlin% git clone https://github.com/profLewis/geogg122.git`  \n",
      "   `berlin% cd ~/Data/msc/geogg122`\n",
      "            \n",
      "   This will create a directory `~/Data/msc/geogg122` which has the current versions of the notebooks for the course and associated files.\n",
      "            \n",
      "   If the course notes change at all (e.g. are updated), you can update your copy with:\n",
      "                \n",
      "   `berlin% git pull`\n",
      "   \n",
      "   To find out more about using `git`, type `git --help`, get [help online](http://www.siteground.com/tutorials/git/commands.htm) or download and use a [gui tool](http://git-scm.com/downloads).  \n",
      "   \n",
      "   \n",
      "   If you set up an account on [github](https://github.com/edu), you can fork the [course repository](https://github.com/profLewis/geogg122) to make your own version of the course notes, and add in your own comments and examples, if that helps you learn or remember things.\n",
      "\n",
      "   <p>\n",
      "   \n",
      "2. **using a zip file**  \n",
      "\n",
      "   Download the course as a zip file:\n",
      "        \n",
      "   `berlin% mkdir -p ~/Data/msc`  \n",
      "   `berlin% cd ~/Data/msc`  \n",
      "   `berlin% wget -O geogg122.zip https://github.com/profLewis/geogg122/archive/master.zip`  \n",
      "   `berlin% unzip geogg122.zip`  \n",
      "   `berlin% cd ~/Data/msc/geogg122-master`\n",
      "            \n"
     ]
    },
    {
     "cell_type": "markdown",
     "metadata": {},
     "source": [
      "In the course, you will find the following notebooks:"
     ]
    },
    {
     "cell_type": "heading",
     "level": 3,
     "metadata": {},
     "source": [
      "Using the course material"
     ]
    },
    {
     "cell_type": "markdown",
     "metadata": {},
     "source": [
      "Once you have copied the course material as described above (and have changed directory to where you have put the course (e.g. `~/Data/msc/geogg122-master` or `~/Data/msc/geogg122`) then `cd` to the chapter you want, e.g.:\n",
      "\n",
      "`berlin% cd ~/Data/msc/geogg122/Chapter0_Introduction`\n",
      "\n",
      "and you can start the notebooks with:\n",
      "                                                             \n",
      "`berlin% ipython notebook`\n",
      "\n",
      "This should launch a web browser with the address `http://127.0.0.1:8888/` or similar with links to the notebooks you have available. "
     ]
    },
    {
     "cell_type": "markdown",
     "metadata": {},
     "source": [
      "To load a *specific* notebook, you can type e.g.:\n",
      "    \n",
      "`berlin% ipython notebook f1_index.ipynb`"
     ]
    },
    {
     "cell_type": "heading",
     "level": 3,
     "metadata": {},
     "source": [
      "Formatting"
     ]
    },
    {
     "cell_type": "markdown",
     "metadata": {},
     "source": [
      "If you want to modify the formating of the notebooks, there are various [useful posts on the matter](http://nbviewer.ipython.org/urls/raw.github.com/Carreau/posts/master/Blog1.ipynb)"
     ]
    },
    {
     "cell_type": "markdown",
     "metadata": {},
     "source": [
      "<table border=\"0\">\n",
      "<tr>\n",
      "  <td>[<a href=\"http://nbviewer.ipython.org/urls/raw.github.com/profLewis/geogg122/master/Chapter0_Introduction/f1_index.ipynb\">Prev</a>]\n",
      "  <td>[<a href=\"http://nbviewer.ipython.org/urls/raw.github.com/profLewis/geogg122/master/Chapter0_Introduction/f1_index.ipynb\">Home</a>]\n",
      "  <td>[<a href=\"https://github.com/profLewis/geogg122\">GitHub</a>]\n",
      "  <td>[<a href=\"http://nbviewer.ipython.org/urls/raw.github.com/profLewis/geogg122/master/Chapter0_Introduction/f2_intro.ipynb\">Next</a>]\n",
      "</table>"
     ]
    },
    {
     "cell_type": "code",
     "collapsed": false,
     "input": [
      "# Nicer style\n",
      "from IPython.core.display import HTML\n",
      "def css_styling():\n",
      "    styles = open(\"../styles/custom.css\", \"r\").read()\n",
      "    return HTML(styles)\n",
      "css_styling()"
     ],
     "language": "python",
     "metadata": {},
     "outputs": [
      {
       "html": [
        "<style>\n",
        "    @font-face {\n",
        "        font-family: \"Computer Modern\";\n",
        "        src: url('http://mirrors.ctan.org/fonts/cm-unicode/fonts/otf/cmunss.otf');\n",
        "    }\n",
        "    body {background-image:url(\"../images/logo.gif\");}\n",
        "    div.cell{\n",
        "        width:800px;\n",
        "        margin-left:16% !important;\n",
        "        margin-right:auto;\n",
        "    }\n",
        "    h1 {\n",
        "        font-family: Helvetica, serif;\n",
        "    }\n",
        "    h4{\n",
        "        margin-top:12px;\n",
        "        margin-bottom: 3px;\n",
        "       }\n",
        "    div.text_cell_render{\n",
        "        font-family: Computer Modern, \"Helvetica Neue\", Arial, Helvetica, Geneva, sans-serif;\n",
        "        line-height: 145%;\n",
        "        font-size: 130%;\n",
        "        width:800px;\n",
        "        margin-left:auto;\n",
        "        margin-right:auto;\n",
        "    }\n",
        "    .CodeMirror{\n",
        "            font-family: \"Source Code Pro\", source-code-pro,Consolas, monospace;\n",
        "    }\n",
        "    .prompt{\n",
        "        display: None;\n",
        "    }\n",
        "    .text_cell_render h5 {\n",
        "        font-weight: 300;\n",
        "        font-size: 22pt;\n",
        "        color: #4057A1;\n",
        "        font-style: italic;\n",
        "        margin-bottom: .5em;\n",
        "        margin-top: 0.5em;\n",
        "        display: block;\n",
        "    }\n",
        "    \n",
        "    .warning{\n",
        "        color: rgb( 240, 20, 20 )\n",
        "        }  \n",
        "</style>\n",
        "<script>\n",
        "    MathJax.Hub.Config({\n",
        "                        TeX: {\n",
        "                           extensions: [\"AMSmath.js\"]\n",
        "                           },\n",
        "                tex2jax: {\n",
        "                    inlineMath: [ ['$','$'], [\"\\\\(\",\"\\\\)\"] ],\n",
        "                    displayMath: [ ['$$','$$'], [\"\\\\[\",\"\\\\]\"] ]\n",
        "                },\n",
        "                displayAlign: 'center', // Change this to 'center' to center equations.\n",
        "                \"HTML-CSS\": {\n",
        "                    styles: {'.MathJax_Display': {\"margin\": 4}}\n",
        "                }\n",
        "        });\n",
        "</script>\n"
       ],
       "metadata": {},
       "output_type": "pyout",
       "prompt_number": 4,
       "text": [
        "<IPython.core.display.HTML at 0x107fc9550>"
       ]
      }
     ],
     "prompt_number": 4
    },
    {
     "cell_type": "code",
     "collapsed": false,
     "input": [],
     "language": "python",
     "metadata": {},
     "outputs": []
    }
   ],
   "metadata": {}
  }
 ]
}