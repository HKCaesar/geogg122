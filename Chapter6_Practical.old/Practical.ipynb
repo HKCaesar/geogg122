{
 "metadata": {
  "name": "",
  "signature": "sha256:1706387d2b1c59125e1ca62d733c30cee231254a720791f8382ec7474de5d4b3"
 },
 "nbformat": 3,
 "nbformat_minor": 0,
 "worksheets": [
  {
   "cells": [
    {
     "cell_type": "markdown",
     "metadata": {},
     "source": [
      "6. Assessed Practical"
     ]
    },
    {
     "cell_type": "markdown",
     "metadata": {},
     "source": [
      "The "
     ]
    },
    {
     "cell_type": "code",
     "collapsed": false,
     "input": [],
     "language": "python",
     "metadata": {},
     "outputs": []
    }
   ],
   "metadata": {}
  }
 ]
}