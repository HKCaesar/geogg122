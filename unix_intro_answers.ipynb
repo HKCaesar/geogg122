{
 "metadata": {
  "name": "unix_intro_answers"
 },
 "nbformat": 3,
 "nbformat_minor": 0,
 "worksheets": [
  {
   "cells": [
    {
     "cell_type": "heading",
     "level": 3,
     "metadata": {},
     "source": [
      "Exercise Unix-1 answers"
     ]
    },
    {
     "cell_type": "markdown",
     "metadata": {},
     "source": [
      "If you get 'lost' or confused in any part of this exercise, don't panic, just use these basic tools to make sure you know where you are on the system (`pwd`) and/or change directory back to your home (`cd ~`) and start again."
     ]
    },
    {
     "cell_type": "markdown",
     "metadata": {},
     "source": [
      "Your session for the exercise with `cd`, `ls` and `pwd` should have gone something like this:"
     ]
    },
    {
     "cell_type": "heading",
     "level": 4,
     "metadata": {},
     "source": [
      "Using ~ to mean 'home':"
     ]
    },
    {
     "cell_type": "code",
     "collapsed": false,
     "input": [
      "cd ~"
     ],
     "language": "python",
     "metadata": {},
     "outputs": [
      {
       "output_type": "stream",
       "stream": "stdout",
       "text": [
        "/Users/plewis\n"
       ]
      }
     ],
     "prompt_number": 1
    },
    {
     "cell_type": "code",
     "collapsed": false,
     "input": [
      "pwd"
     ],
     "language": "python",
     "metadata": {},
     "outputs": [
      {
       "output_type": "pyout",
       "prompt_number": 2,
       "text": [
        "u'/Users/plewis'"
       ]
      }
     ],
     "prompt_number": 2
    },
    {
     "cell_type": "markdown",
     "metadata": {},
     "source": [
      "Now, let's make sure we understand *dot* `.`:"
     ]
    },
    {
     "cell_type": "code",
     "collapsed": false,
     "input": [
      "cd ."
     ],
     "language": "python",
     "metadata": {},
     "outputs": [
      {
       "output_type": "stream",
       "stream": "stdout",
       "text": [
        "/Users/plewis\n"
       ]
      }
     ],
     "prompt_number": 3
    },
    {
     "cell_type": "markdown",
     "metadata": {},
     "source": [
      "Get a listing (this will be different for different users!):"
     ]
    },
    {
     "cell_type": "code",
     "collapsed": false,
     "input": [
      "ls"
     ],
     "language": "python",
     "metadata": {},
     "outputs": [
      {
       "output_type": "stream",
       "stream": "stdout",
       "text": [
        "\u001b[34mDesktop\u001b[m\u001b[m/     \u001b[34mDropbox\u001b[m\u001b[m/     \u001b[34mMusic\u001b[m\u001b[m/       \u001b[34mSites\u001b[m\u001b[m/       \u001b[34mstuff\u001b[m\u001b[m/\r\n",
        "\u001b[34mDocuments\u001b[m\u001b[m/   \u001b[34mLibrary\u001b[m\u001b[m/     \u001b[34mPictures\u001b[m\u001b[m/    \u001b[34mgeogg122\u001b[m\u001b[m/\r\n",
        "\u001b[34mDownloads\u001b[m\u001b[m/   \u001b[34mMovies\u001b[m\u001b[m/      \u001b[34mPublic\u001b[m\u001b[m/      \u001b[34mpublic_html\u001b[m\u001b[m/\r\n"
       ]
      }
     ],
     "prompt_number": 4
    },
    {
     "cell_type": "code",
     "collapsed": false,
     "input": [
      "cd ~ucfajlg"
     ],
     "language": "python",
     "metadata": {},
     "outputs": [
      {
       "output_type": "stream",
       "stream": "stdout",
       "text": [
        "/Users/ucfajlg\n"
       ]
      }
     ],
     "prompt_number": 5
    },
    {
     "cell_type": "code",
     "collapsed": false,
     "input": [
      "pwd"
     ],
     "language": "python",
     "metadata": {},
     "outputs": [
      {
       "output_type": "pyout",
       "prompt_number": 6,
       "text": [
        "u'/Users/ucfajlg'"
       ]
      }
     ],
     "prompt_number": 6
    },
    {
     "cell_type": "code",
     "collapsed": false,
     "input": [
      "ls"
     ],
     "language": "python",
     "metadata": {},
     "outputs": [
      {
       "output_type": "stream",
       "stream": "stdout",
       "text": [
        "\u001b[34mDesktop\u001b[m\u001b[m/   \u001b[34mDownloads\u001b[m\u001b[m/ \u001b[34mMovies\u001b[m\u001b[m/    \u001b[34mPictures\u001b[m\u001b[m/  \u001b[34mSites\u001b[m\u001b[m/\r\n",
        "\u001b[34mDocuments\u001b[m\u001b[m/ \u001b[34mLibrary\u001b[m\u001b[m/   \u001b[34mMusic\u001b[m\u001b[m/     \u001b[34mPublic\u001b[m\u001b[m/\r\n"
       ]
      }
     ],
     "prompt_number": 7
    },
    {
     "cell_type": "markdown",
     "metadata": {},
     "source": [
      "Or, get a listing without changing directory:"
     ]
    },
    {
     "cell_type": "code",
     "collapsed": false,
     "input": [
      "ls ~plewis"
     ],
     "language": "python",
     "metadata": {},
     "outputs": [
      {
       "output_type": "stream",
       "stream": "stdout",
       "text": [
        "\u001b[34mDesktop\u001b[m\u001b[m/     \u001b[34mDropbox\u001b[m\u001b[m/     \u001b[34mMusic\u001b[m\u001b[m/       \u001b[34mSites\u001b[m\u001b[m/       \u001b[34mstuff\u001b[m\u001b[m/\r\n",
        "\u001b[34mDocuments\u001b[m\u001b[m/   \u001b[34mLibrary\u001b[m\u001b[m/     \u001b[34mPictures\u001b[m\u001b[m/    \u001b[34mgeogg122\u001b[m\u001b[m/\r\n",
        "\u001b[34mDownloads\u001b[m\u001b[m/   \u001b[34mMovies\u001b[m\u001b[m/      \u001b[34mPublic\u001b[m\u001b[m/      \u001b[34mpublic_html\u001b[m\u001b[m/\r\n"
       ]
      }
     ],
     "prompt_number": 8
    },
    {
     "cell_type": "code",
     "collapsed": false,
     "input": [
      "ls ~ucfajlg"
     ],
     "language": "python",
     "metadata": {},
     "outputs": [
      {
       "output_type": "stream",
       "stream": "stdout",
       "text": [
        "\u001b[34mDesktop\u001b[m\u001b[m/   \u001b[34mDownloads\u001b[m\u001b[m/ \u001b[34mMovies\u001b[m\u001b[m/    \u001b[34mPictures\u001b[m\u001b[m/  \u001b[34mSites\u001b[m\u001b[m/\r\n",
        "\u001b[34mDocuments\u001b[m\u001b[m/ \u001b[34mLibrary\u001b[m\u001b[m/   \u001b[34mMusic\u001b[m\u001b[m/     \u001b[34mPublic\u001b[m\u001b[m/\r\n"
       ]
      }
     ],
     "prompt_number": 9
    },
    {
     "cell_type": "code",
     "collapsed": false,
     "input": [
      "ls ~plewis/Music"
     ],
     "language": "python",
     "metadata": {},
     "outputs": [
      {
       "output_type": "stream",
       "stream": "stdout",
       "text": [
        "\u001b[34miTunes\u001b[m\u001b[m/\r\n"
       ]
      }
     ],
     "prompt_number": 10
    },
    {
     "cell_type": "heading",
     "level": 4,
     "metadata": {},
     "source": [
      "Using absolute path names:"
     ]
    },
    {
     "cell_type": "code",
     "collapsed": false,
     "input": [
      "cd /Users/plewis"
     ],
     "language": "python",
     "metadata": {},
     "outputs": [
      {
       "output_type": "stream",
       "stream": "stdout",
       "text": [
        "/Users/plewis\n"
       ]
      }
     ],
     "prompt_number": 11
    },
    {
     "cell_type": "code",
     "collapsed": false,
     "input": [
      "pwd"
     ],
     "language": "python",
     "metadata": {},
     "outputs": [
      {
       "output_type": "pyout",
       "prompt_number": 12,
       "text": [
        "u'/Users/plewis'"
       ]
      }
     ],
     "prompt_number": 12
    },
    {
     "cell_type": "code",
     "collapsed": false,
     "input": [
      "cd /Users/ucfajlg"
     ],
     "language": "python",
     "metadata": {},
     "outputs": [
      {
       "output_type": "stream",
       "stream": "stdout",
       "text": [
        "/Users/ucfajlg\n"
       ]
      }
     ],
     "prompt_number": 13
    },
    {
     "cell_type": "markdown",
     "metadata": {},
     "source": [
      "Not get a listing of the contents:"
     ]
    },
    {
     "cell_type": "code",
     "collapsed": false,
     "input": [
      "ls /Users/plewis"
     ],
     "language": "python",
     "metadata": {},
     "outputs": [
      {
       "output_type": "stream",
       "stream": "stdout",
       "text": [
        "\u001b[34mDesktop\u001b[m\u001b[m/     \u001b[34mDropbox\u001b[m\u001b[m/     \u001b[34mMusic\u001b[m\u001b[m/       \u001b[34mSites\u001b[m\u001b[m/       \u001b[34mstuff\u001b[m\u001b[m/\r\n",
        "\u001b[34mDocuments\u001b[m\u001b[m/   \u001b[34mLibrary\u001b[m\u001b[m/     \u001b[34mPictures\u001b[m\u001b[m/    \u001b[34mgeogg122\u001b[m\u001b[m/\r\n",
        "\u001b[34mDownloads\u001b[m\u001b[m/   \u001b[34mMovies\u001b[m\u001b[m/      \u001b[34mPublic\u001b[m\u001b[m/      \u001b[34mpublic_html\u001b[m\u001b[m/\r\n"
       ]
      }
     ],
     "prompt_number": 14
    },
    {
     "cell_type": "code",
     "collapsed": false,
     "input": [
      "ls ."
     ],
     "language": "python",
     "metadata": {},
     "outputs": [
      {
       "output_type": "stream",
       "stream": "stdout",
       "text": [
        "\u001b[34mDesktop\u001b[m\u001b[m/   \u001b[34mDownloads\u001b[m\u001b[m/ \u001b[34mMovies\u001b[m\u001b[m/    \u001b[34mPictures\u001b[m\u001b[m/  \u001b[34mSites\u001b[m\u001b[m/\r\n",
        "\u001b[34mDocuments\u001b[m\u001b[m/ \u001b[34mLibrary\u001b[m\u001b[m/   \u001b[34mMusic\u001b[m\u001b[m/     \u001b[34mPublic\u001b[m\u001b[m/\r\n"
       ]
      }
     ],
     "prompt_number": 15
    },
    {
     "cell_type": "heading",
     "level": 4,
     "metadata": {},
     "source": [
      "Using relative pathnames. First make sure you are in your home directory:"
     ]
    },
    {
     "cell_type": "code",
     "collapsed": false,
     "input": [
      "cd ~"
     ],
     "language": "python",
     "metadata": {},
     "outputs": [
      {
       "output_type": "stream",
       "stream": "stdout",
       "text": [
        "/Users/plewis\n"
       ]
      }
     ],
     "prompt_number": 16
    },
    {
     "cell_type": "code",
     "collapsed": false,
     "input": [
      "pwd"
     ],
     "language": "python",
     "metadata": {},
     "outputs": [
      {
       "output_type": "pyout",
       "prompt_number": 17,
       "text": [
        "u'/Users/plewis'"
       ]
      }
     ],
     "prompt_number": 17
    },
    {
     "cell_type": "code",
     "collapsed": false,
     "input": [
      "ls"
     ],
     "language": "python",
     "metadata": {},
     "outputs": [
      {
       "output_type": "stream",
       "stream": "stdout",
       "text": [
        "\u001b[34mDesktop\u001b[m\u001b[m/     \u001b[34mDropbox\u001b[m\u001b[m/     \u001b[34mMusic\u001b[m\u001b[m/       \u001b[34mSites\u001b[m\u001b[m/       \u001b[34mstuff\u001b[m\u001b[m/\r\n",
        "\u001b[34mDocuments\u001b[m\u001b[m/   \u001b[34mLibrary\u001b[m\u001b[m/     \u001b[34mPictures\u001b[m\u001b[m/    \u001b[34mgeogg122\u001b[m\u001b[m/\r\n",
        "\u001b[34mDownloads\u001b[m\u001b[m/   \u001b[34mMovies\u001b[m\u001b[m/      \u001b[34mPublic\u001b[m\u001b[m/      \u001b[34mpublic_html\u001b[m\u001b[m/\r\n"
       ]
      }
     ],
     "prompt_number": 18
    },
    {
     "cell_type": "markdown",
     "metadata": {},
     "source": [
      "Now we will move relative to this:"
     ]
    },
    {
     "cell_type": "code",
     "collapsed": false,
     "input": [
      "cd ../ucfajlg"
     ],
     "language": "python",
     "metadata": {},
     "outputs": [
      {
       "output_type": "stream",
       "stream": "stdout",
       "text": [
        "/Users/ucfajlg\n"
       ]
      }
     ],
     "prompt_number": 19
    },
    {
     "cell_type": "code",
     "collapsed": false,
     "input": [
      "pwd"
     ],
     "language": "python",
     "metadata": {},
     "outputs": [
      {
       "output_type": "pyout",
       "prompt_number": 20,
       "text": [
        "u'/Users/ucfajlg'"
       ]
      }
     ],
     "prompt_number": 20
    },
    {
     "cell_type": "code",
     "collapsed": false,
     "input": [
      "ls"
     ],
     "language": "python",
     "metadata": {},
     "outputs": [
      {
       "output_type": "stream",
       "stream": "stdout",
       "text": [
        "\u001b[34mDesktop\u001b[m\u001b[m/   \u001b[34mDownloads\u001b[m\u001b[m/ \u001b[34mMovies\u001b[m\u001b[m/    \u001b[34mPictures\u001b[m\u001b[m/  \u001b[34mSites\u001b[m\u001b[m/\r\n",
        "\u001b[34mDocuments\u001b[m\u001b[m/ \u001b[34mLibrary\u001b[m\u001b[m/   \u001b[34mMusic\u001b[m\u001b[m/     \u001b[34mPublic\u001b[m\u001b[m/\r\n"
       ]
      }
     ],
     "prompt_number": 21
    },
    {
     "cell_type": "code",
     "collapsed": false,
     "input": [
      "ls ../ucfajlg"
     ],
     "language": "python",
     "metadata": {},
     "outputs": [
      {
       "output_type": "stream",
       "stream": "stdout",
       "text": [
        "\u001b[34mDesktop\u001b[m\u001b[m/   \u001b[34mDownloads\u001b[m\u001b[m/ \u001b[34mMovies\u001b[m\u001b[m/    \u001b[34mPictures\u001b[m\u001b[m/  \u001b[34mSites\u001b[m\u001b[m/\r\n",
        "\u001b[34mDocuments\u001b[m\u001b[m/ \u001b[34mLibrary\u001b[m\u001b[m/   \u001b[34mMusic\u001b[m\u001b[m/     \u001b[34mPublic\u001b[m\u001b[m/\r\n"
       ]
      }
     ],
     "prompt_number": 22
    },
    {
     "cell_type": "code",
     "collapsed": false,
     "input": [
      "cd ../plewis"
     ],
     "language": "python",
     "metadata": {},
     "outputs": [
      {
       "output_type": "stream",
       "stream": "stdout",
       "text": [
        "/Users/plewis\n"
       ]
      }
     ],
     "prompt_number": 23
    },
    {
     "cell_type": "code",
     "collapsed": false,
     "input": [
      "pwd"
     ],
     "language": "python",
     "metadata": {},
     "outputs": [
      {
       "output_type": "pyout",
       "prompt_number": 24,
       "text": [
        "u'/Users/plewis'"
       ]
      }
     ],
     "prompt_number": 24
    },
    {
     "cell_type": "markdown",
     "metadata": {},
     "source": [
      "<table border=\"0\">\n",
      "<tr>\n",
      "  <td>[<a href=\"http://nbviewer.ipython.org/urls/raw.github.com/profLewis/geogg122/master/unix_intro.ipynb\">Prev</a>]\n",
      "  <td>[<a href=\"http://nbviewer.ipython.org/urls/raw.github.com/profLewis/geogg122/master/index.ipynb\">Home</a>]\n",
      "  <td>[<a href=\"https://github.com/profLewis/geogg122\">GitHub</a>]\n",
      "  <td>[<a href=\"http://nbviewer.ipython.org/urls/raw.github.com/profLewis/geogg122/master/unix_intro2.ipynb\">Next</a>]\n",
      "</table>"
     ]
    }
   ],
   "metadata": {}
  }
 ]
}