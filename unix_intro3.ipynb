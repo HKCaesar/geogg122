{
 "metadata": {
  "name": "unix_intro3"
 },
 "nbformat": 3,
 "nbformat_minor": 0,
 "worksheets": [
  {
   "cells": [
    {
     "cell_type": "heading",
     "level": 1,
     "metadata": {},
     "source": [
      "Some more Unix and associated tools"
     ]
    },
    {
     "cell_type": "heading",
     "level": 2,
     "metadata": {},
     "source": [
      "UNIX Command Structure, Data Flow and File Manipulation"
     ]
    },
    {
     "cell_type": "markdown",
     "metadata": {},
     "source": [
      "The previous section dealt with the basic tools of Unix. Now, we will look at a few useful tools you have access to and some slightly more advanced concepts that again enable you to do more with the computer."
     ]
    },
    {
     "cell_type": "heading",
     "level": 3,
     "metadata": {},
     "source": [
      "Data Flow : stdin and stdout"
     ]
    },
    {
     "cell_type": "markdown",
     "metadata": {},
     "source": [
      "Within unix all information is stored in files. Programs are told to read from and write to these files either by redirecting their input and output, or by modifying their action through the use of command line arguments or options. The channels through which the data flows to or from are known as streams. In the special case where data flows directly from one program into another, these channels are known as pipes.\n",
      "\n",
      "By default, with no options or arguments to specify otherwise, most commands will read their input form the keyboard and write their output to the screen. The data channels which attach the keyboard and the screen to the program are known as the standard input (stdin) and the standard output (stdout) respectively.\n",
      "\n",
      "Stdin and stdout can be redirected to and from files rather than the keyboard or screen using the unix `<` (\u201cread from\") and `>` (\u201cwrite to\u201d) symbols:"
     ]
    },
    {
     "cell_type": "code",
     "collapsed": false,
     "input": [
      "ls -l ~plewis/Data/msc > listing"
     ],
     "language": "python",
     "metadata": {},
     "outputs": [],
     "prompt_number": 17
    },
    {
     "cell_type": "code",
     "collapsed": false,
     "input": [
      "cat listing"
     ],
     "language": "python",
     "metadata": {},
     "outputs": [
      {
       "output_type": "stream",
       "stream": "stdout",
       "text": [
        "total 1288\r\n",
        "-rw-r--r--  1 plewis  staff   57460 30 Sep 11:27 atm.dat\r\n",
        "-rw-r--r--  1 plewis  staff     356 30 Sep 11:27 country.dat\r\n",
        "-rw-r--r--  1 plewis  staff    2261 30 Sep 11:27 dem.dat\r\n",
        "-rw-r--r--  1 plewis  staff    1046 30 Sep 11:27 forest.dat\r\n",
        "-rw-r--r--  1 plewis  staff     375 30 Sep 11:27 head.dat\r\n",
        "-rw-r--r--  1 plewis  staff      84 30 Sep 11:27 header.dat\r\n",
        "-rw-r--r--  1 plewis  staff      14 30 Sep 11:27 hello.dat\r\n",
        "-rw-r--r--  1 plewis  staff      13 30 Sep 11:27 helloWorld.dat\r\n",
        "-rw-r--r--  1 plewis  staff  524603 30 Sep 11:27 landsat.dat\r\n",
        "-rw-r--r--  1 plewis  staff   22786 30 Sep 11:27 listing.dat\r\n",
        "-rw-r--r--  1 plewis  staff    2295 30 Sep 11:27 max.dat\r\n",
        "-rw-r--r--  1 plewis  staff     452 30 Sep 11:27 ndvi.awk\r\n",
        "-rw-r--r--  1 plewis  staff      75 30 Sep 11:27 points.dat\r\n",
        "-rw-r--r--  1 plewis  staff     355 30 Sep 11:27 popden.dat\r\n"
       ]
      }
     ],
     "prompt_number": 18
    },
    {
     "cell_type": "code",
     "collapsed": false,
     "input": [
      "cat < listing"
     ],
     "language": "python",
     "metadata": {},
     "outputs": [
      {
       "output_type": "stream",
       "stream": "stdout",
       "text": [
        "total 1288\r\n",
        "-rw-r--r--  1 plewis  staff   57460 30 Sep 11:27 atm.dat\r\n",
        "-rw-r--r--  1 plewis  staff     356 30 Sep 11:27 country.dat\r\n",
        "-rw-r--r--  1 plewis  staff    2261 30 Sep 11:27 dem.dat\r\n",
        "-rw-r--r--  1 plewis  staff    1046 30 Sep 11:27 forest.dat\r\n",
        "-rw-r--r--  1 plewis  staff     375 30 Sep 11:27 head.dat\r\n",
        "-rw-r--r--  1 plewis  staff      84 30 Sep 11:27 header.dat\r\n",
        "-rw-r--r--  1 plewis  staff      14 30 Sep 11:27 hello.dat\r\n",
        "-rw-r--r--  1 plewis  staff      13 30 Sep 11:27 helloWorld.dat\r\n",
        "-rw-r--r--  1 plewis  staff  524603 30 Sep 11:27 landsat.dat\r\n",
        "-rw-r--r--  1 plewis  staff   22786 30 Sep 11:27 listing.dat\r\n",
        "-rw-r--r--  1 plewis  staff    2295 30 Sep 11:27 max.dat\r\n",
        "-rw-r--r--  1 plewis  staff     452 30 Sep 11:27 ndvi.awk\r\n",
        "-rw-r--r--  1 plewis  staff      75 30 Sep 11:27 points.dat\r\n",
        "-rw-r--r--  1 plewis  staff     355 30 Sep 11:27 popden.dat\r\n"
       ]
      }
     ],
     "prompt_number": 19
    },
    {
     "cell_type": "code",
     "collapsed": false,
     "input": [],
     "language": "python",
     "metadata": {},
     "outputs": []
    }
   ],
   "metadata": {}
  }
 ]
}