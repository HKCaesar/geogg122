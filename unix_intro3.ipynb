{
 "metadata": {
  "name": "unix_intro3"
 },
 "nbformat": 3,
 "nbformat_minor": 0,
 "worksheets": [
  {
   "cells": [
    {
     "cell_type": "heading",
     "level": 1,
     "metadata": {},
     "source": [
      "Some more Unix and associated tools"
     ]
    },
    {
     "cell_type": "heading",
     "level": 2,
     "metadata": {},
     "source": [
      "UNIX Command Structure, Data Flow and File Manipulation"
     ]
    },
    {
     "cell_type": "markdown",
     "metadata": {},
     "source": [
      "The previous sections dealt with the basic tools of Unix. Now, we will look at a few useful tools you have access to and some slightly more advanced concepts that again enable you to do more with the computer."
     ]
    },
    {
     "cell_type": "markdown",
     "metadata": {},
     "source": [
      "Before starting this section, let's create a directory in your `Data` area called `unix`:"
     ]
    },
    {
     "cell_type": "code",
     "collapsed": false,
     "input": [
      "mkdir -p ~/Data/unix"
     ],
     "language": "python",
     "metadata": {},
     "outputs": [],
     "prompt_number": 1
    },
    {
     "cell_type": "markdown",
     "metadata": {},
     "source": [
      "Remember that commands below that start with `!` (bang) should not have this symbol when you type them at the unix prompt: it is only because we are going through a python interpreter in these notes."
     ]
    },
    {
     "cell_type": "heading",
     "level": 3,
     "metadata": {},
     "source": [
      "Data Flow : stdin and stdout"
     ]
    },
    {
     "cell_type": "heading",
     "level": 4,
     "metadata": {},
     "source": [
      "streams"
     ]
    },
    {
     "cell_type": "markdown",
     "metadata": {},
     "source": [
      "Within unix all information is stored in files. Programs are 'told' (by the operating system) to read from and write to these files either by redirecting their input and output, or by modifying their action through the use of command line arguments or options. The channels through which the data flows to or from are known as *streams*. \n",
      "\n",
      "In the special case where data flows directly from one program into another, these channels are known as *pipes*.\n",
      "\n",
      "By default, with no options or arguments to specify otherwise, most commands will read their input form the keyboard and write their output to the screen. The data channels which attach the keyboard and the screen to the program are known as the standard input (stdin) and the standard output (stdout) respectively.\n",
      "\n",
      "Stdin and stdout can be redirected to and from files rather than the keyboard or screen using the unix `<` (\u201cread from\") and `>` (\u201cwrite to\u201d) symbols."
     ]
    },
    {
     "cell_type": "heading",
     "level": 4,
     "metadata": {},
     "source": [
      "echo"
     ]
    },
    {
     "cell_type": "markdown",
     "metadata": {},
     "source": [
      "The *shell* command `echo` will display text that you type after the command in the terminal (by default), e.g.:"
     ]
    },
    {
     "cell_type": "code",
     "collapsed": false,
     "input": [
      "!echo \"my home is $HOME and my name is $USER\""
     ],
     "language": "python",
     "metadata": {},
     "outputs": [
      {
       "output_type": "stream",
       "stream": "stdout",
       "text": [
        "my home is /Users/plewis and my name is plewis\r\n"
       ]
      }
     ],
     "prompt_number": 13
    },
    {
     "cell_type": "markdown",
     "metadata": {},
     "source": [
      "Here, `HOME` is an *environment variable* that is passed through to programs to give contextual information about a users's environment (i.e. how things are set up). \n",
      "\n",
      "`USER` is another environment variable that gives your username ('login' or 'account' name). \n",
      "\n",
      "In unix shells, we refer to the *value* of an environment variable with a `$` symbol. Environment variables tend to be in upper case (capital letters) whereas another type of variable, shell variables (that refer only to a particular shell) are in lower case (small letters)."
     ]
    },
    {
     "cell_type": "markdown",
     "metadata": {},
     "source": [
      "Often, we would put quotes around the text:"
     ]
    },
    {
     "cell_type": "code",
     "collapsed": false,
     "input": [
      "!echo \"hello world $USER\""
     ],
     "language": "python",
     "metadata": {},
     "outputs": [
      {
       "output_type": "stream",
       "stream": "stdout",
       "text": [
        "hello world plewis\r\n"
       ]
      }
     ],
     "prompt_number": 14
    },
    {
     "cell_type": "markdown",
     "metadata": {},
     "source": [
      "This makes it a bit neater to see what we are doing, but is not strictly necessary in this case. \n",
      "\n",
      "There are different quites that we use in unix. The double quote `\"` allows shell variables to be interpreted in the *string* enclosed by the quotes, but a single quote `'` does not."
     ]
    },
    {
     "cell_type": "code",
     "collapsed": false,
     "input": [
      "!echo 'hello world $USER'"
     ],
     "language": "python",
     "metadata": {},
     "outputs": [
      {
       "output_type": "stream",
       "stream": "stdout",
       "text": [
        "hello world $USER\r\n"
       ]
      }
     ],
     "prompt_number": 16
    },
    {
     "cell_type": "heading",
     "level": 4,
     "metadata": {},
     "source": [
      "stdout"
     ]
    },
    {
     "cell_type": "markdown",
     "metadata": {},
     "source": [
      "So, when we use the unix command `echo`, the *result* of running that command appears in the terminal we are using.\n",
      "\n",
      "In fact, it is directed to the standard output channel `stdout`, which allows us to redirect it, e.g. to a file:"
     ]
    },
    {
     "cell_type": "code",
     "collapsed": false,
     "input": [
      "!echo \"hello world\" > ~/Data/unix/hello.dat"
     ],
     "language": "python",
     "metadata": {},
     "outputs": [],
     "prompt_number": 18
    },
    {
     "cell_type": "markdown",
     "metadata": {},
     "source": [
      "Now, nothing should have appeared in the terminal ... the text resulting from the `echo` command went instead to the file `~/Data/unix/hello.dat`. \n",
      "\n",
      "We can check to see how big this file is to see if that makes sense:"
     ]
    },
    {
     "cell_type": "code",
     "collapsed": false,
     "input": [
      "ls -lh ~/Data/unix/hello.dat"
     ],
     "language": "python",
     "metadata": {},
     "outputs": [
      {
       "output_type": "stream",
       "stream": "stdout",
       "text": [
        "-rw-r--r--  1 plewis  staff    12B 30 Sep 12:12 /Users/plewis/Data/unix/hello.dat\r\n"
       ]
      }
     ],
     "prompt_number": 20
    },
    {
     "cell_type": "markdown",
     "metadata": {},
     "source": [
      "We see that the file *exists* and is of size 12 bytes. "
     ]
    },
    {
     "cell_type": "heading",
     "level": 4,
     "metadata": {},
     "source": [
      "wc"
     ]
    },
    {
     "cell_type": "markdown",
     "metadata": {},
     "source": [
      "We could count up the number of characters in `\"hello world\"` and see that it has 11 (including the space). We might infer from that that the file representation uses 1 byte per character for text, which is in fact the case. The *encoding* used is normally the [ASCII character set](http://en.wikipedia.org/wiki/ASCII).\n",
      "\n",
      "Why is the file 12 bytes though? The answer is that there is an additional character at the end of the file that tells the operating system that this is the end of the file. Not surprisingly, this is called the end of file marker or more properly, end of transmission `EOT`. This is represented as by the character `^D` (`control D`) in the [ASCII character set](http://en.wikipedia.org/wiki/ASCII).\n",
      "\n",
      "Sometimes it's too much effort to count up the characters in a string or a file. In unix, we can use the command `wc` (word count):"
     ]
    },
    {
     "cell_type": "code",
     "collapsed": false,
     "input": [
      "!wc < ~/Data/unix/hello.dat"
     ],
     "language": "python",
     "metadata": {},
     "outputs": [
      {
       "output_type": "stream",
       "stream": "stdout",
       "text": [
        "       1       2      12\r\n"
       ]
      }
     ],
     "prompt_number": 28
    },
    {
     "cell_type": "markdown",
     "metadata": {},
     "source": [
      "By default, this displays the number of *lines* (`1` here), *words* (`2` here) and *bytes (`12` here) in the file.\n",
      "\n",
      "Useful modifcations of behaviour are e.g.:"
     ]
    },
    {
     "cell_type": "code",
     "collapsed": false,
     "input": [
      "!wc -l < ~/Data/unix/hello.dat"
     ],
     "language": "python",
     "metadata": {},
     "outputs": [
      {
       "output_type": "stream",
       "stream": "stdout",
       "text": [
        "       1\r\n"
       ]
      }
     ],
     "prompt_number": 27
    },
    {
     "cell_type": "heading",
     "level": 4,
     "metadata": {},
     "source": [
      "stdin"
     ]
    },
    {
     "cell_type": "markdown",
     "metadata": {},
     "source": [
      "which reports only the number of lines (similarly `wc -w` for words or `wc -c` for characters).\n",
      "\n",
      "You may have noticed that we used the `stdin` symbol `<` here, which redirects the contents of the file `~/Data/unix/hello.dat` *into* the command `wc`."
     ]
    },
    {
     "cell_type": "heading",
     "level": 4,
     "metadata": {},
     "source": [
      "pipe"
     ]
    },
    {
     "cell_type": "markdown",
     "metadata": {},
     "source": [
      "One powerful concept in unix is the idea of *pipes*. This allows us to take the `stdout` resulting from one program and direct it to the `stdin` of another. \n",
      "\n",
      "This means we can e.g. avoid writing files out where all we want to do with the information is to pass it to another program.\n",
      "\n",
      "So, for the examples above, we could write:"
     ]
    },
    {
     "cell_type": "code",
     "collapsed": false,
     "input": [
      "!echo \"hello world\" | wc -c"
     ],
     "language": "python",
     "metadata": {},
     "outputs": [
      {
       "output_type": "stream",
       "stream": "stdout",
       "text": [
        "      12\r\n"
       ]
      }
     ],
     "prompt_number": 30
    },
    {
     "cell_type": "markdown",
     "metadata": {},
     "source": [
      "where `|` is the `pipe` symbol."
     ]
    },
    {
     "cell_type": "heading",
     "level": 4,
     "metadata": {},
     "source": [
      "sed"
     ]
    },
    {
     "cell_type": "markdown",
     "metadata": {},
     "source": [
      "This sort of idea is very useful if a sequence of programs (unix commands) that you want to run essentially work as 'filters'. \n",
      "\n",
      "The command `sed` (stream editor) can be very useful in this regard for dealing with text. The syntax of `sed` can be a little awkward for users to begin with, but we will just show a few examples here."
     ]
    },
    {
     "cell_type": "code",
     "collapsed": false,
     "input": [
      "!echo \"welcome $USER to using a computer\""
     ],
     "language": "python",
     "metadata": {},
     "outputs": [
      {
       "output_type": "stream",
       "stream": "stdout",
       "text": [
        "welcome plewis to using a computer\r\n"
       ]
      }
     ],
     "prompt_number": 33
    },
    {
     "cell_type": "code",
     "collapsed": false,
     "input": [
      "!echo \"welcome $USER to using a computer\" | sed 's/a computer/unix/'"
     ],
     "language": "python",
     "metadata": {},
     "outputs": [
      {
       "output_type": "stream",
       "stream": "stdout",
       "text": [
        "welcome plewis to using unix\r\n"
       ]
      }
     ],
     "prompt_number": 34
    },
    {
     "cell_type": "markdown",
     "metadata": {},
     "source": [
      "The `s` part of the `sed` command means 'substitute'. It then changes an occurrence of the string `a computer` into the string `unix`.\n",
      "\n",
      "If you wanted to change *all* occurrences of the string, use a `g` at the end, e.g.:"
     ]
    },
    {
     "cell_type": "code",
     "collapsed": false,
     "input": [
      "!echo \"welcome $USER to using a computer. How do you like using a computer?\" | sed 's/a computer/unix/'"
     ],
     "language": "python",
     "metadata": {},
     "outputs": [
      {
       "output_type": "stream",
       "stream": "stdout",
       "text": [
        "welcome plewis to using unix. How do you like using a computer?\r\n"
       ]
      }
     ],
     "prompt_number": 36
    },
    {
     "cell_type": "code",
     "collapsed": false,
     "input": [
      "!echo \"welcome $USER to using a computer. How do you like using a computer?\" | sed 's/a computer/unix/g'"
     ],
     "language": "python",
     "metadata": {},
     "outputs": []
    },
    {
     "cell_type": "heading",
     "level": 4,
     "metadata": {},
     "source": [
      "awk"
     ]
    },
    {
     "cell_type": "markdown",
     "metadata": {},
     "source": [
      "You are not limited to a single pipe of course, but can pipe through multiple commands.\n",
      "\n",
      "To illustrate this, we introduce a new command `awk` that is a pattern scanning and interpretation language. You can use `awk` (or variants such as `nawk` or `gawk`) for many things but it is particularly useful for doing operations on columns of text or data that are in ASCII (i.e. text) format. For example:"
     ]
    },
    {
     "cell_type": "code",
     "collapsed": false,
     "input": [
      "!echo \"1 2 3 4 5\" | awk '{print $1+$3}'"
     ],
     "language": "python",
     "metadata": {},
     "outputs": [
      {
       "output_type": "stream",
       "stream": "stdout",
       "text": [
        "4\r\n"
       ]
      }
     ],
     "prompt_number": 38
    },
    {
     "cell_type": "markdown",
     "metadata": {},
     "source": [
      "will output the sum of numbers in columns 1 and 3. To use it below, we can note here that the term `$0` refers to the complete input string and that there is a reasonably rich syntax for performing operations on columsn of data."
     ]
    },
    {
     "cell_type": "code",
     "collapsed": false,
     "input": [
      "!echo \"1 2 3 4 5\""
     ],
     "language": "python",
     "metadata": {},
     "outputs": [
      {
       "output_type": "stream",
       "stream": "stdout",
       "text": [
        "1 2 3 4 5\r\n"
       ]
      }
     ],
     "prompt_number": 49
    },
    {
     "cell_type": "code",
     "collapsed": false,
     "input": [
      "!echo \"1 2 3 4 5\" | awk '{for(i=1;i<=NF;i++)sum+=$i} END{print \"the sum is\",sum}'"
     ],
     "language": "python",
     "metadata": {},
     "outputs": [
      {
       "output_type": "stream",
       "stream": "stdout",
       "text": [
        "the sum is 15\r\n"
       ]
      }
     ],
     "prompt_number": 53
    },
    {
     "cell_type": "code",
     "collapsed": false,
     "input": [
      "!echo \"1 2 3 4 5\" | sed 's/1/one/'"
     ],
     "language": "python",
     "metadata": {},
     "outputs": []
    },
    {
     "cell_type": "code",
     "collapsed": false,
     "input": [
      "!echo \"1 2 3 4 5\" | sed 's/1/one/' | sed 's/2/two/' | sed 's/3/three/' | sed 's/4/four/' | sed 's/5/five/' | awk '{print $0 \", once I caught a fish alive\"}'"
     ],
     "language": "python",
     "metadata": {},
     "outputs": [
      {
       "output_type": "stream",
       "stream": "stdout",
       "text": [
        "one two three four five, once I caught a fish alive\r\n"
       ]
      }
     ],
     "prompt_number": 58
    },
    {
     "cell_type": "heading",
     "level": 4,
     "metadata": {},
     "source": [
      "cat"
     ]
    },
    {
     "cell_type": "markdown",
     "metadata": {},
     "source": [
      "The unix command `cat` (concatenate) is used for a variety of purposes, but normally you will use it to *concatenate* (join together) files.\n",
      "\n",
      "If you specify a filename as `-` then the information of `stdin` is used, e.g.:"
     ]
    },
    {
     "cell_type": "code",
     "collapsed": false,
     "input": [
      "!echo \"hello\" | cat -"
     ],
     "language": "python",
     "metadata": {},
     "outputs": [
      {
       "output_type": "stream",
       "stream": "stdout",
       "text": [
        "hello\r\n"
       ]
      }
     ],
     "prompt_number": 71
    },
    {
     "cell_type": "markdown",
     "metadata": {},
     "source": [
      "Let's create some files of one line and join them together."
     ]
    },
    {
     "cell_type": "code",
     "collapsed": false,
     "input": [
      "!echo \"hello $USER\" > ~/Data/unix/hello.dat"
     ],
     "language": "python",
     "metadata": {},
     "outputs": [],
     "prompt_number": 64
    },
    {
     "cell_type": "code",
     "collapsed": false,
     "input": [
      "!echo \"welcome to the world of unix\" > ~/Data/unix/hello2.dat"
     ],
     "language": "python",
     "metadata": {},
     "outputs": [],
     "prompt_number": 65
    },
    {
     "cell_type": "heading",
     "level": 4,
     "metadata": {},
     "source": [
      "date"
     ]
    },
    {
     "cell_type": "code",
     "collapsed": false,
     "input": [
      "!date | cat - ~/Data/unix/hello.dat ~/Data/unix/hello2.dat "
     ],
     "language": "python",
     "metadata": {},
     "outputs": [
      {
       "output_type": "stream",
       "stream": "stdout",
       "text": [
        "Mon 30 Sep 2013 12:59:41 BST\r\n",
        "hello plewis\r\n",
        "welcome to the world of unix\r\n"
       ]
      }
     ],
     "prompt_number": 70
    },
    {
     "cell_type": "markdown",
     "metadata": {},
     "source": [
      "Here, we ran the command `date` that prints the current date (time) to `stdout`, concatenated the files `~/Data/unix/hello.dat` and `~/Data/unix/hello2.dat` to the end of this and sent the result to `stdout` (the terminal).\n",
      "\n",
      "If we wanted to send this to another file, we would simply redirect the output:"
     ]
    },
    {
     "cell_type": "code",
     "collapsed": false,
     "input": [
      "!date | cat - ~/Data/unix/hello.dat ~/Data/unix/hello2.dat > ~/Data/unix/helloWorld.dat"
     ],
     "language": "python",
     "metadata": {},
     "outputs": [],
     "prompt_number": 75
    },
    {
     "cell_type": "markdown",
     "metadata": {},
     "source": [
      "We can also use the command `cat` to simply put the contents of its `stdin` channel to `stdout`, which is one way to display the contents of an ASCII file at the terminal."
     ]
    },
    {
     "cell_type": "code",
     "collapsed": false,
     "input": [
      "!cat < ~/Data/unix/helloWorld.dat"
     ],
     "language": "python",
     "metadata": {},
     "outputs": [
      {
       "output_type": "stream",
       "stream": "stdout",
       "text": [
        "Mon 30 Sep 2013 13:02:45 BST\r\n",
        "hello plewis\r\n",
        "welcome to the world of unix\r\n"
       ]
      }
     ],
     "prompt_number": 78
    },
    {
     "cell_type": "heading",
     "level": 4,
     "metadata": {},
     "source": [
      "appending"
     ]
    },
    {
     "cell_type": "markdown",
     "metadata": {},
     "source": [
      "When we redirect `stdout` using the `>` symbol, this will create a file if it doesn't already exist, but will overwrite one if it does exist:"
     ]
    },
    {
     "cell_type": "code",
     "collapsed": false,
     "input": [
      "!echo \"now you see me\" > ~/Data/unix/test.dat"
     ],
     "language": "python",
     "metadata": {},
     "outputs": [],
     "prompt_number": 79
    },
    {
     "cell_type": "code",
     "collapsed": false,
     "input": [
      "!cat ~/Data/unix/test.dat"
     ],
     "language": "python",
     "metadata": {},
     "outputs": [
      {
       "output_type": "stream",
       "stream": "stdout",
       "text": [
        "now you see me\r\n"
       ]
      }
     ],
     "prompt_number": 80
    },
    {
     "cell_type": "code",
     "collapsed": false,
     "input": [
      "!echo \"now you don't\" > ~/Data/unix/test.dat"
     ],
     "language": "python",
     "metadata": {},
     "outputs": [],
     "prompt_number": 81
    },
    {
     "cell_type": "code",
     "collapsed": false,
     "input": [
      "!cat ~/Data/unix/test.dat"
     ],
     "language": "python",
     "metadata": {},
     "outputs": [
      {
       "output_type": "stream",
       "stream": "stdout",
       "text": [
        "now you don't\r\n"
       ]
      }
     ],
     "prompt_number": 82
    },
    {
     "cell_type": "markdown",
     "metadata": {},
     "source": [
      "If you want to *append* to a file, rather than writing over the contents, you can use the `>>` symbol:"
     ]
    },
    {
     "cell_type": "code",
     "collapsed": false,
     "input": [
      "!echo \"now you see me\" > ~/Data/unix/test.dat"
     ],
     "language": "python",
     "metadata": {},
     "outputs": [],
     "prompt_number": 83
    },
    {
     "cell_type": "code",
     "collapsed": false,
     "input": [
      "!cat ~/Data/unix/test.dat"
     ],
     "language": "python",
     "metadata": {},
     "outputs": [
      {
       "output_type": "stream",
       "stream": "stdout",
       "text": [
        "now you see me\r\n"
       ]
      }
     ],
     "prompt_number": 84
    },
    {
     "cell_type": "code",
     "collapsed": false,
     "input": [
      "!echo \"now you still see me\" >> ~/Data/unix/test.dat"
     ],
     "language": "python",
     "metadata": {},
     "outputs": [],
     "prompt_number": 85
    },
    {
     "cell_type": "code",
     "collapsed": false,
     "input": [
      "!cat ~/Data/unix/test.dat"
     ],
     "language": "python",
     "metadata": {},
     "outputs": [
      {
       "output_type": "stream",
       "stream": "stdout",
       "text": [
        "now you see me\r\n",
        "now you still see me\r\n"
       ]
      }
     ],
     "prompt_number": 86
    },
    {
     "cell_type": "heading",
     "level": 4,
     "metadata": {},
     "source": [
      "stderr"
     ]
    },
    {
     "cell_type": "markdown",
     "metadata": {},
     "source": [
      "Some commands make use of the `stderr` channel for reporting information to the shell (or e.g. a log file) whilst not interfering with information going to `stdout`.\n",
      "\n",
      "To redirect the `stderr` channel to a file, use `>&` in `csh` or `tcsh` but `2>` in [`bash`](http://tldp.org/HOWTO/Bash-Prog-Intro-HOWTO-3.html) and similar shells."
     ]
    },
    {
     "cell_type": "code",
     "collapsed": false,
     "input": [],
     "language": "python",
     "metadata": {},
     "outputs": []
    }
   ],
   "metadata": {}
  }
 ]
}