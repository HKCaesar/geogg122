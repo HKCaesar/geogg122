{
 "metadata": {
  "name": "unix_intro3"
 },
 "nbformat": 3,
 "nbformat_minor": 0,
 "worksheets": [
  {
   "cells": [
    {
     "cell_type": "heading",
     "level": 1,
     "metadata": {},
     "source": [
      "Some more Unix and associated tools"
     ]
    },
    {
     "cell_type": "heading",
     "level": 2,
     "metadata": {},
     "source": [
      "UNIX Command Structure, Data Flow and File Manipulation"
     ]
    },
    {
     "cell_type": "markdown",
     "metadata": {},
     "source": [
      "The previous sections dealt with the basic tools of Unix. Now, we will look at a few useful tools you have access to and some slightly more advanced concepts that again enable you to do more with the computer."
     ]
    },
    {
     "cell_type": "markdown",
     "metadata": {},
     "source": [
      "Before starting this section, let's create a directory in your `Data` area called `unix`:"
     ]
    },
    {
     "cell_type": "code",
     "collapsed": false,
     "input": [
      "mkdir -p ~/Data/unix"
     ],
     "language": "python",
     "metadata": {},
     "outputs": [],
     "prompt_number": 1
    },
    {
     "cell_type": "markdown",
     "metadata": {},
     "source": [
      "Remember that commands below that start with `!` (bang) should not have this symbol when you type them at the unix prompt: it is only because we are going through a python interpreter in these notes."
     ]
    },
    {
     "cell_type": "heading",
     "level": 3,
     "metadata": {},
     "source": [
      "Data Flow : stdin and stdout"
     ]
    },
    {
     "cell_type": "heading",
     "level": 4,
     "metadata": {},
     "source": [
      "streams"
     ]
    },
    {
     "cell_type": "markdown",
     "metadata": {},
     "source": [
      "Within unix all information is stored in files. Programs are 'told' (by the operating system) to read from and write to these files either by redirecting their input and output, or by modifying their action through the use of command line arguments or options. The channels through which the data flows to or from are known as *streams*. \n",
      "\n",
      "In the special case where data flows directly from one program into another, these channels are known as *pipes*.\n",
      "\n",
      "By default, with no options or arguments to specify otherwise, most commands will read their input form the keyboard and write their output to the screen. The data channels which attach the keyboard and the screen to the program are known as the standard input (stdin) and the standard output (stdout) respectively.\n",
      "\n",
      "Stdin and stdout can be redirected to and from files rather than the keyboard or screen using the unix `<` (\u201cread from\") and `>` (\u201cwrite to\u201d) symbols."
     ]
    },
    {
     "cell_type": "heading",
     "level": 4,
     "metadata": {},
     "source": [
      "echo"
     ]
    },
    {
     "cell_type": "markdown",
     "metadata": {},
     "source": [
      "The *shell* command `echo` will display text that you type after the command in the terminal (by default), e.g.:"
     ]
    },
    {
     "cell_type": "code",
     "collapsed": false,
     "input": [
      "!echo \"my home is $HOME and my name is $USER\""
     ],
     "language": "python",
     "metadata": {},
     "outputs": [
      {
       "output_type": "stream",
       "stream": "stdout",
       "text": [
        "my home is /Users/plewis and my name is plewis\r\n"
       ]
      }
     ],
     "prompt_number": 13
    },
    {
     "cell_type": "markdown",
     "metadata": {},
     "source": [
      "Here, `HOME` is an *environment variable* that is passed through to programs to give contextual information about a users's environment (i.e. how things are set up). \n",
      "\n",
      "`USER` is another environment variable that gives your username ('login' or 'account' name). \n",
      "\n",
      "In unix shells, we refer to the *value* of an environment variable with a `$` symbol. Environment variables tend to be in upper case (capital letters) whereas another type of variable, shell variables (that refer only to a particular shell) are in lower case (small letters)."
     ]
    },
    {
     "cell_type": "markdown",
     "metadata": {},
     "source": [
      "Often, we would put quotes around the text:"
     ]
    },
    {
     "cell_type": "code",
     "collapsed": false,
     "input": [
      "!echo \"hello world $USER\""
     ],
     "language": "python",
     "metadata": {},
     "outputs": [
      {
       "output_type": "stream",
       "stream": "stdout",
       "text": [
        "hello world plewis\r\n"
       ]
      }
     ],
     "prompt_number": 14
    },
    {
     "cell_type": "markdown",
     "metadata": {},
     "source": [
      "This makes it a bit neater to see what we are doing, but is not strictly necessary in this case. \n",
      "\n",
      "There are different quites that we use in unix. The double quote `\"` allows shell variables to be interpreted in the *string* enclosed by the quotes, but a single quote `'` does not."
     ]
    },
    {
     "cell_type": "code",
     "collapsed": false,
     "input": [
      "!echo 'hello world $USER'"
     ],
     "language": "python",
     "metadata": {},
     "outputs": [
      {
       "output_type": "stream",
       "stream": "stdout",
       "text": [
        "hello world $USER\r\n"
       ]
      }
     ],
     "prompt_number": 16
    },
    {
     "cell_type": "heading",
     "level": 4,
     "metadata": {},
     "source": [
      "stdout"
     ]
    },
    {
     "cell_type": "markdown",
     "metadata": {},
     "source": [
      "So, when we use the unix command `echo`, the *result* of running that command appears in the terminal we are using.\n",
      "\n",
      "In fact, it is directed to the standard output channel `stdout`, which allows us to redirect it, e.g. to a file:"
     ]
    },
    {
     "cell_type": "code",
     "collapsed": false,
     "input": [
      "!echo \"hello world\" > ~/Data/unix/hello.dat"
     ],
     "language": "python",
     "metadata": {},
     "outputs": [],
     "prompt_number": 18
    },
    {
     "cell_type": "markdown",
     "metadata": {},
     "source": [
      "Now, nothing should have appeared in the terminal ... the text resulting from the `echo` command went instead to the file `~/Data/unix/hello.dat`. \n",
      "\n",
      "We can check to see how big this file is to see if that makes sense:"
     ]
    },
    {
     "cell_type": "code",
     "collapsed": false,
     "input": [
      "ls -lh ~/Data/unix/hello.dat"
     ],
     "language": "python",
     "metadata": {},
     "outputs": [
      {
       "output_type": "stream",
       "stream": "stdout",
       "text": [
        "-rw-r--r--  1 plewis  staff    12B 30 Sep 12:12 /Users/plewis/Data/unix/hello.dat\r\n"
       ]
      }
     ],
     "prompt_number": 20
    },
    {
     "cell_type": "markdown",
     "metadata": {},
     "source": [
      "We see that the file *exists* and is of size 12 bytes. "
     ]
    },
    {
     "cell_type": "heading",
     "level": 4,
     "metadata": {},
     "source": [
      "wc"
     ]
    },
    {
     "cell_type": "markdown",
     "metadata": {},
     "source": [
      "We could count up the number of characters in `\"hello world\"` and see that it has 11 (including the space). We might infer from that that the file representation uses 1 byte per character for text, which is in fact the case. The *encoding* used is normally the [ASCII character set](http://en.wikipedia.org/wiki/ASCII).\n",
      "\n",
      "Why is the file 12 bytes though? The answer is that there is an additional character at the end of the file that tells the operating system that this is the end of the file. Not surprisingly, this is called the end of file marker or more properly, end of transmission `EOT`. This is represented as by the character `^D` (`control D`) in the [ASCII character set](http://en.wikipedia.org/wiki/ASCII).\n",
      "\n",
      "Sometimes it's too much effort to count up the characters in a string or a file. In unix, we can use the command `wc` (word count):"
     ]
    },
    {
     "cell_type": "code",
     "collapsed": false,
     "input": [
      "!wc < ~/Data/unix/hello.dat"
     ],
     "language": "python",
     "metadata": {},
     "outputs": [
      {
       "output_type": "stream",
       "stream": "stdout",
       "text": [
        "       1       2      12\r\n"
       ]
      }
     ],
     "prompt_number": 28
    },
    {
     "cell_type": "markdown",
     "metadata": {},
     "source": [
      "By default, this displays the number of *lines* (`1` here), *words* (`2` here) and *bytes (`12` here) in the file.\n",
      "\n",
      "Useful modifcations of behaviour are e.g.:"
     ]
    },
    {
     "cell_type": "code",
     "collapsed": false,
     "input": [
      "!wc -l < ~/Data/unix/hello.dat"
     ],
     "language": "python",
     "metadata": {},
     "outputs": [
      {
       "output_type": "stream",
       "stream": "stdout",
       "text": [
        "       1\r\n"
       ]
      }
     ],
     "prompt_number": 27
    },
    {
     "cell_type": "heading",
     "level": 4,
     "metadata": {},
     "source": [
      "stdin"
     ]
    },
    {
     "cell_type": "markdown",
     "metadata": {},
     "source": [
      "which reports only the number of lines (similarly `wc -w` for words or `wc -c` for characters).\n",
      "\n",
      "You may have noticed that we used the `stdin` symbol `<` here, which redirects the contents of the file `~/Data/unix/hello.dat` *into* the command `wc`."
     ]
    },
    {
     "cell_type": "heading",
     "level": 4,
     "metadata": {},
     "source": [
      "pipe"
     ]
    },
    {
     "cell_type": "markdown",
     "metadata": {},
     "source": [
      "One powerful concept in unix is the idea of *pipes*. This allows us to take the `stdout` resulting from one program and direct it to the `stdin` of another. \n",
      "\n",
      "This means we can e.g. avoid writing files out where all we want to do with the information is to pass it to another program.\n",
      "\n",
      "So, for the examples above, we could write:"
     ]
    },
    {
     "cell_type": "code",
     "collapsed": false,
     "input": [
      "!echo \"hello world\" | wc -c"
     ],
     "language": "python",
     "metadata": {},
     "outputs": [
      {
       "output_type": "stream",
       "stream": "stdout",
       "text": [
        "      12\r\n"
       ]
      }
     ],
     "prompt_number": 30
    },
    {
     "cell_type": "markdown",
     "metadata": {},
     "source": [
      "where `|` is the `pipe` symbol."
     ]
    },
    {
     "cell_type": "heading",
     "level": 4,
     "metadata": {},
     "source": [
      "sed"
     ]
    },
    {
     "cell_type": "markdown",
     "metadata": {},
     "source": [
      "This sort of idea is very useful if a sequence of programs (unix commands) that you want to run essentially work as 'filters'. \n",
      "\n",
      "The command `sed` (stream editor) can be very useful in this regard for dealing with text. The syntax of `sed` can be a little awkward for users to begin with, but we will just show a few examples here."
     ]
    },
    {
     "cell_type": "code",
     "collapsed": false,
     "input": [
      "!echo \"welcome $USER to using a computer\""
     ],
     "language": "python",
     "metadata": {},
     "outputs": [
      {
       "output_type": "stream",
       "stream": "stdout",
       "text": [
        "welcome plewis to using a computer\r\n"
       ]
      }
     ],
     "prompt_number": 33
    },
    {
     "cell_type": "code",
     "collapsed": false,
     "input": [
      "!echo \"welcome $USER to using a computer\" | sed 's/a computer/unix/'"
     ],
     "language": "python",
     "metadata": {},
     "outputs": [
      {
       "output_type": "stream",
       "stream": "stdout",
       "text": [
        "welcome plewis to using unix\r\n"
       ]
      }
     ],
     "prompt_number": 34
    },
    {
     "cell_type": "markdown",
     "metadata": {},
     "source": [
      "The `s` part of the `sed` command means 'substitute'. It then changes an occurrence of the string `a computer` into the string `unix`.\n",
      "\n",
      "If you wanted to change *all* occurrences of the string, use a `g` at the end, e.g.:"
     ]
    },
    {
     "cell_type": "code",
     "collapsed": false,
     "input": [
      "!echo \"welcome $USER to using a computer. How do you like using a computer?\" | sed 's/a computer/unix/'"
     ],
     "language": "python",
     "metadata": {},
     "outputs": [
      {
       "output_type": "stream",
       "stream": "stdout",
       "text": [
        "welcome plewis to using unix. How do you like using a computer?\r\n"
       ]
      }
     ],
     "prompt_number": 36
    },
    {
     "cell_type": "code",
     "collapsed": false,
     "input": [
      "!echo \"welcome $USER to using a computer. How do you like using a computer?\" | sed 's/a computer/unix/g'"
     ],
     "language": "python",
     "metadata": {},
     "outputs": [
      {
       "output_type": "stream",
       "stream": "stdout",
       "text": [
        "welcome plewis to using unix. How do you like using unix?\r\n"
       ]
      }
     ],
     "prompt_number": 89
    },
    {
     "cell_type": "heading",
     "level": 4,
     "metadata": {},
     "source": [
      "awk"
     ]
    },
    {
     "cell_type": "markdown",
     "metadata": {},
     "source": [
      "You are not limited to a single pipe of course, but can pipe through multiple commands.\n",
      "\n",
      "To illustrate this, we introduce a new command `awk` that is a pattern scanning and interpretation language. You can use `awk` (or variants such as `nawk` or `gawk`) for many things but it is particularly useful for doing operations on columns of text or data that are in ASCII (i.e. text) format. For example:"
     ]
    },
    {
     "cell_type": "code",
     "collapsed": false,
     "input": [
      "!echo \"1 2 3 4 5\" | awk '{print $1+$3}'"
     ],
     "language": "python",
     "metadata": {},
     "outputs": [
      {
       "output_type": "stream",
       "stream": "stdout",
       "text": [
        "4\r\n"
       ]
      }
     ],
     "prompt_number": 38
    },
    {
     "cell_type": "markdown",
     "metadata": {},
     "source": [
      "will output the sum of numbers in columns 1 and 3. To use it below, we can note here that the term `$0` refers to the complete input string and that there is a reasonably rich syntax for performing operations on columsn of data."
     ]
    },
    {
     "cell_type": "code",
     "collapsed": false,
     "input": [
      "!echo \"1 2 3 4 5\""
     ],
     "language": "python",
     "metadata": {},
     "outputs": [
      {
       "output_type": "stream",
       "stream": "stdout",
       "text": [
        "1 2 3 4 5\r\n"
       ]
      }
     ],
     "prompt_number": 49
    },
    {
     "cell_type": "code",
     "collapsed": false,
     "input": [
      "!echo \"1 2 3 4 5\" | awk '{for(i=1;i<=NF;i++)sum+=$i} END{print \"the sum is\",sum}'"
     ],
     "language": "python",
     "metadata": {},
     "outputs": [
      {
       "output_type": "stream",
       "stream": "stdout",
       "text": [
        "the sum is 15\r\n"
       ]
      }
     ],
     "prompt_number": 53
    },
    {
     "cell_type": "code",
     "collapsed": false,
     "input": [
      "!echo \"1 2 3 4 5\" | sed 's/1/one/'"
     ],
     "language": "python",
     "metadata": {},
     "outputs": []
    },
    {
     "cell_type": "code",
     "collapsed": false,
     "input": [
      "!echo \"1 2 3 4 5\" | sed 's/1/one/' | sed 's/2/two/' | sed 's/3/three/' | sed 's/4/four/' | sed 's/5/five/' | awk '{print $0 \", once I caught a fish alive\"}'"
     ],
     "language": "python",
     "metadata": {},
     "outputs": [
      {
       "output_type": "stream",
       "stream": "stdout",
       "text": [
        "one two three four five, once I caught a fish alive\r\n"
       ]
      }
     ],
     "prompt_number": 58
    },
    {
     "cell_type": "heading",
     "level": 4,
     "metadata": {},
     "source": [
      "cat"
     ]
    },
    {
     "cell_type": "markdown",
     "metadata": {},
     "source": [
      "The unix command `cat` (concatenate) is used for a variety of purposes, but normally you will use it to *concatenate* (join together) files.\n",
      "\n",
      "If you specify a filename as `-` then the information of `stdin` is used, e.g.:"
     ]
    },
    {
     "cell_type": "code",
     "collapsed": false,
     "input": [
      "!echo \"hello\" | cat -"
     ],
     "language": "python",
     "metadata": {},
     "outputs": [
      {
       "output_type": "stream",
       "stream": "stdout",
       "text": [
        "hello\r\n"
       ]
      }
     ],
     "prompt_number": 71
    },
    {
     "cell_type": "markdown",
     "metadata": {},
     "source": [
      "Let's create some files of one line and join them together."
     ]
    },
    {
     "cell_type": "code",
     "collapsed": false,
     "input": [
      "!echo \"hello $USER\" > ~/Data/unix/hello.dat"
     ],
     "language": "python",
     "metadata": {},
     "outputs": [],
     "prompt_number": 64
    },
    {
     "cell_type": "code",
     "collapsed": false,
     "input": [
      "!echo \"welcome to the world of unix\" > ~/Data/unix/hello2.dat"
     ],
     "language": "python",
     "metadata": {},
     "outputs": [],
     "prompt_number": 65
    },
    {
     "cell_type": "heading",
     "level": 4,
     "metadata": {},
     "source": [
      "date"
     ]
    },
    {
     "cell_type": "code",
     "collapsed": false,
     "input": [
      "!date | cat - ~/Data/unix/hello.dat ~/Data/unix/hello2.dat "
     ],
     "language": "python",
     "metadata": {},
     "outputs": [
      {
       "output_type": "stream",
       "stream": "stdout",
       "text": [
        "Mon 30 Sep 2013 12:59:41 BST\r\n",
        "hello plewis\r\n",
        "welcome to the world of unix\r\n"
       ]
      }
     ],
     "prompt_number": 70
    },
    {
     "cell_type": "markdown",
     "metadata": {},
     "source": [
      "Here, we ran the command `date` that prints the current date (time) to `stdout`, concatenated the files `~/Data/unix/hello.dat` and `~/Data/unix/hello2.dat` to the end of this and sent the result to `stdout` (the terminal).\n",
      "\n",
      "If we wanted to send this to another file, we would simply redirect the output:"
     ]
    },
    {
     "cell_type": "code",
     "collapsed": false,
     "input": [
      "!date | cat - ~/Data/unix/hello.dat ~/Data/unix/hello2.dat > ~/Data/unix/helloWorld.dat"
     ],
     "language": "python",
     "metadata": {},
     "outputs": [],
     "prompt_number": 75
    },
    {
     "cell_type": "markdown",
     "metadata": {},
     "source": [
      "We can also use the command `cat` to simply put the contents of its `stdin` channel to `stdout`, which is one way to display the contents of an ASCII file at the terminal."
     ]
    },
    {
     "cell_type": "code",
     "collapsed": false,
     "input": [
      "!cat < ~/Data/unix/helloWorld.dat"
     ],
     "language": "python",
     "metadata": {},
     "outputs": [
      {
       "output_type": "stream",
       "stream": "stdout",
       "text": [
        "Mon 30 Sep 2013 13:02:45 BST\r\n",
        "hello plewis\r\n",
        "welcome to the world of unix\r\n"
       ]
      }
     ],
     "prompt_number": 78
    },
    {
     "cell_type": "heading",
     "level": 4,
     "metadata": {},
     "source": [
      "appending"
     ]
    },
    {
     "cell_type": "markdown",
     "metadata": {},
     "source": [
      "When we redirect `stdout` using the `>` symbol, this will create a file if it doesn't already exist, but will overwrite one if it does exist:"
     ]
    },
    {
     "cell_type": "code",
     "collapsed": false,
     "input": [
      "!echo \"Now you see me\" > ~/Data/unix/test.dat"
     ],
     "language": "python",
     "metadata": {},
     "outputs": [],
     "prompt_number": 101
    },
    {
     "cell_type": "code",
     "collapsed": false,
     "input": [
      "!cat ~/Data/unix/test.dat"
     ],
     "language": "python",
     "metadata": {},
     "outputs": [
      {
       "output_type": "stream",
       "stream": "stdout",
       "text": [
        "Now you see me\r\n"
       ]
      }
     ],
     "prompt_number": 102
    },
    {
     "cell_type": "code",
     "collapsed": false,
     "input": [
      "!echo \"now you don't\" > ~/Data/unix/test.dat"
     ],
     "language": "python",
     "metadata": {},
     "outputs": [],
     "prompt_number": 103
    },
    {
     "cell_type": "code",
     "collapsed": false,
     "input": [
      "!cat ~/Data/unix/test.dat"
     ],
     "language": "python",
     "metadata": {},
     "outputs": [
      {
       "output_type": "stream",
       "stream": "stdout",
       "text": [
        "now you don't\r\n"
       ]
      }
     ],
     "prompt_number": 104
    },
    {
     "cell_type": "markdown",
     "metadata": {},
     "source": [
      "If you want to *append* to a file, rather than writing over the contents, you can use the `>>` symbol:"
     ]
    },
    {
     "cell_type": "code",
     "collapsed": false,
     "input": [
      "!echo \"Now you see me\" > ~/Data/unix/test.dat"
     ],
     "language": "python",
     "metadata": {},
     "outputs": [],
     "prompt_number": 108
    },
    {
     "cell_type": "code",
     "collapsed": false,
     "input": [
      "!cat ~/Data/unix/test.dat"
     ],
     "language": "python",
     "metadata": {},
     "outputs": [
      {
       "output_type": "stream",
       "stream": "stdout",
       "text": [
        "Now you see me\r\n"
       ]
      }
     ],
     "prompt_number": 109
    },
    {
     "cell_type": "code",
     "collapsed": false,
     "input": [
      "!echo \"now you still see me\" >> ~/Data/unix/test.dat"
     ],
     "language": "python",
     "metadata": {},
     "outputs": [],
     "prompt_number": 110
    },
    {
     "cell_type": "markdown",
     "metadata": {},
     "source": [
      "and you can continue adding lines in this way:"
     ]
    },
    {
     "cell_type": "code",
     "collapsed": false,
     "input": [
      "!echo \"ad nauseam\" >> ~/Data/unix/test.dat"
     ],
     "language": "python",
     "metadata": {},
     "outputs": [],
     "prompt_number": 111
    },
    {
     "cell_type": "code",
     "collapsed": false,
     "input": [
      "!cat ~/Data/unix/test.dat"
     ],
     "language": "python",
     "metadata": {},
     "outputs": [
      {
       "output_type": "stream",
       "stream": "stdout",
       "text": [
        "Now you see me\r\n",
        "now you still see me\r\n",
        "ad nauseam\r\n"
       ]
      }
     ],
     "prompt_number": 112
    },
    {
     "cell_type": "heading",
     "level": 4,
     "metadata": {},
     "source": [
      "grep"
     ]
    },
    {
     "cell_type": "markdown",
     "metadata": {},
     "source": [
      "Another very useful utility is `grep` ('globally search a regular expression and print'). You will commonly use this to find lines in a file that match some pattern. E.g.:"
     ]
    },
    {
     "cell_type": "code",
     "collapsed": false,
     "input": [
      "!grep see < ~/Data/unix/test.dat"
     ],
     "language": "python",
     "metadata": {},
     "outputs": [
      {
       "output_type": "stream",
       "stream": "stdout",
       "text": [
        "Now you see me\r\n",
        "now you still see me\r\n"
       ]
      }
     ],
     "prompt_number": 113
    },
    {
     "cell_type": "markdown",
     "metadata": {},
     "source": [
      "We told `grep` to return (i.e. put on `stdout`) lines of input that contain the string `see` in this case.\n",
      "\n",
      "By default, the pattern we search for is case sensitive (so, `Now` is different from `now`).\n",
      "\n",
      "We can use the `-v` option to ignore the case (i.e. whether it is lower case or upper case):"
     ]
    },
    {
     "cell_type": "code",
     "collapsed": false,
     "input": [
      "!grep now < ~/Data/unix/test.dat"
     ],
     "language": "python",
     "metadata": {},
     "outputs": [
      {
       "output_type": "stream",
       "stream": "stdout",
       "text": [
        "now you still see me\r\n"
       ]
      }
     ],
     "prompt_number": 114
    },
    {
     "cell_type": "code",
     "collapsed": false,
     "input": [
      "!grep -i now < ~/Data/unix/test.dat"
     ],
     "language": "python",
     "metadata": {},
     "outputs": [
      {
       "output_type": "stream",
       "stream": "stdout",
       "text": [
        "Now you see me\r\n",
        "now you still see me\r\n"
       ]
      }
     ],
     "prompt_number": 116
    },
    {
     "cell_type": "markdown",
     "metadata": {},
     "source": [
      "Usefully, we can also return lines that *don't* match the pattern using the `-v` option:"
     ]
    },
    {
     "cell_type": "code",
     "collapsed": false,
     "input": [
      "!grep -v see < ~/Data/unix/test.dat"
     ],
     "language": "python",
     "metadata": {},
     "outputs": [
      {
       "output_type": "stream",
       "stream": "stdout",
       "text": [
        "ad nauseam\r\n"
       ]
      }
     ],
     "prompt_number": 117
    },
    {
     "cell_type": "heading",
     "level": 4,
     "metadata": {},
     "source": [
      "stderr"
     ]
    },
    {
     "cell_type": "markdown",
     "metadata": {},
     "source": [
      "Some commands make use of the `stderr` channel for reporting information to the shell (or e.g. a log file) whilst not interfering with information going to `stdout`.\n",
      "\n",
      "To redirect the `stderr` channel to a file, use `>&` in `csh` or `tcsh` but `2>` in [`bash`](http://tldp.org/HOWTO/Bash-Prog-Intro-HOWTO-3.html) and similar shells."
     ]
    },
    {
     "cell_type": "heading",
     "level": 2,
     "metadata": {},
     "source": [
      "Creating and editing text files"
     ]
    },
    {
     "cell_type": "heading",
     "level": 3,
     "metadata": {},
     "source": [
      "Creating text files with cat"
     ]
    },
    {
     "cell_type": "markdown",
     "metadata": {},
     "source": [
      "A common thing you will want to do is create or edit a text file (ASCII text file).\n",
      "\n",
      "We have seen that you can redirect the standard output of unix commands to a file, so if the commands output ASCII, this is obviously one way you can create a file.\n",
      "\n",
      "We have also mentioned that the default input for `stdin` is what you type at the keyboard, so we can use that to create some text in a file.\n",
      "\n",
      "We can use the command `cat` for this.\n",
      "\n",
      "If you type `cat` at the prompt:\n",
      "\n",
      "`%berlin cat`\n",
      "\n",
      "then what you type after that will be read into `cat` and sent to `stdout`.\n",
      "\n",
      "Try that now. \n",
      "\n",
      "To end the input (end the file) we type a `^D` character (the `control` and `D` keys together).\n",
      "\n",
      "for example, type or copy and paste some text such as:"
     ]
    },
    {
     "cell_type": "markdown",
     "metadata": {},
     "source": [
      "``%berlin cat\n",
      "Gallia est omnis divisa in partes tres; unam\n",
      "partem incolunt Belgae, aliam Aquitani, tertiam\n",
      "qui ipsorum lingua Celtae, nostra Galli, appellantur.\n",
      "^D  ``"
     ]
    },
    {
     "cell_type": "markdown",
     "metadata": {},
     "source": [
      "You should find that the lines you type are 'echoed' to the terminal when you hit `return` at the end of each line. This is because you are sending information to `cat` from the keyboard (visualised in the terminal so you can see what you are typing) on `stdin` and the output is also going to the terminal on `stdout`.\n",
      "\n",
      "If you wanted to type information that will go into a file, you can redirect the output of `cat` to a file:"
     ]
    },
    {
     "cell_type": "markdown",
     "metadata": {},
     "source": [
      "``%berlin cat > ~/Data/unix/gettysburg.dat\n",
      "The world will little note, \n",
      "nor long remember what we say here, \n",
      "but it can never forget what they did here.\n",
      "^D  ``"
     ]
    },
    {
     "cell_type": "markdown",
     "metadata": {},
     "source": [
      "This will now be stored in the file `~/Data/unix/gettysburg.dat`.\n",
      "\n",
      "That's all very well, and often you will use this methbod to create some text in a file, but if you make a mistake, you will find that you can't easily edit it, which can be rather inconvenient."
     ]
    },
    {
     "cell_type": "heading",
     "level": 3,
     "metadata": {},
     "source": [
      "text editing"
     ]
    },
    {
     "cell_type": "markdown",
     "metadata": {},
     "source": [
      "There are many text editors available for unix, and what you use day-to-day will depend a lot on personal preferences.\n",
      "\n",
      "A short tutorial introducing some of these is available [here](https://github.com/profLewis/geogg122/blob/master/Text%20processing.pdf?raw=true).\n",
      "\n",
      "Most of these will open a new 'window', which will then have buttons and menus and other convenient gizmos, much like a word processor. Although you obviously *can* type and `process` `words` in such tools, you should remember that these are *not* really the same as word processors as the aim is to type and manipulate text represented as ASCII characters (i.e. not in MS word or rtf format or whatever). That said, some texteditors *can* store files in formats other than ASCII (e.g. rtf), and also some word processing formats are simply ASCII text representations."
     ]
    },
    {
     "cell_type": "markdown",
     "metadata": {},
     "source": [
      "In these notes and the associated lecture, we will introduce you to one of the **most basic** unix text editors, `vi` (which is similar to its varaint `vim` that you will sometimes come across).\n",
      "\n",
      "Whilst there is some learning overhead on this, two very good reasons for knowing the bare bones of this are:\n",
      "\n",
      "1. it is available on *any* unix system\n",
      "2. you use it through a terminal, so it doesn't require any windowing system\n",
      "\n",
      "This latter point could become important to you e.g. if you had broken or corrupted your unix installation or e.g. if you were working remotely over a connection that was slow.\n",
      "\n",
      "It is worthwhile then learning these basics,but you can also follow a good short tutorial on this called [vi for smarties](http://jerrywang.net/vi/)."
     ]
    },
    {
     "cell_type": "markdown",
     "metadata": {},
     "source": [
      "##### vi commands  \n",
      "`:w` - write  \n",
      "`:q` - quit  \n",
      "`:w somethingElse.dat` - write to file `somethingElse.dat`  \n",
      "`:wq` - write and quit  \n",
      "`:q!` - force quite (without saving)  \n",
      "`:u` - undo\n",
      "\n",
      "##### escape (and general panic button)\n",
      "`ESC` - exit insert mode (escape key)\n",
      "\n",
      "##### navigation (or use arrow keys)\n",
      "`h` - left  \n",
      "`j` - down  \n",
      "`k` - up  \n",
      "`l` - right  \n",
      "\n",
      "##### other\n",
      "`/` - search for (regular expression), e.g. `/here`  \n",
      "`n` - next (regular expression)  \n",
      "\n",
      "##### insert/delete\n",
      "`i` - insert (before). N.B. puts you into insert mode, until you hit `ESC`.  \n",
      "`a` - insert (after) (i.e. append) N.B. puts you into insert mode, until you hit `ESC`.\n",
      "`x` - delete current character  \n",
      "`10x` - delete next 10 characters (etc.)  \n",
      "`dw` - delete word (so, `10dw` etc)  \n",
      "`dd` - delete line (do `10dd` etc.)  \n",
      "`J` - delete end of line (so bring next line up)"
     ]
    },
    {
     "cell_type": "heading",
     "level": 3,
     "metadata": {},
     "source": [
      "Exercise"
     ]
    },
    {
     "cell_type": "markdown",
     "metadata": {},
     "source": [
      "Use `vi` now to edit a file you have created, e.g.\n",
      "\n",
      "``berlin% vi ~/Data/unix/gettysburg.dat``\n",
      "\n",
      "Practice adding some more lines, changing the words etc. (e.g. to write your own Gettysburg Address), and save your edited file to `~/Data/unix/myGettysburg.dat`"
     ]
    },
    {
     "cell_type": "heading",
     "level": 1,
     "metadata": {},
     "source": [
      "Process control"
     ]
    },
    {
     "cell_type": "heading",
     "level": 3,
     "metadata": {},
     "source": [
      "Foreground and background"
     ]
    },
    {
     "cell_type": "heading",
     "level": 4,
     "metadata": {},
     "source": [
      "foreground"
     ]
    },
    {
     "cell_type": "markdown",
     "metadata": {},
     "source": [
      "When you start a process that opens another window, you may have noticed that no prompt was returned and that any subsequent typing in the parent window was ignored until you exited the command (or it finished some other way). This was because tool you started has taken over input to and output from the parent window, or more accurately, the shell running the window. In this state the program you started is said to be running in the foreground - that is no further processes can be started from that window/shell until textedit relinquishes control.\n",
      "\n",
      "As an example, try:\n",
      "\n",
      "`berlin% xv ~plewis/msc/sar.jpg`\n",
      "\n",
      "This should open a window on your computer and display a SAR image (of Barton Bendish in Norfolk).\n",
      "\n",
      "![](https://raw.github.com/profLewis/geogg122/master/sar.jpg)"
     ]
    },
    {
     "cell_type": "markdown",
     "metadata": {},
     "source": [
      "The problem you will find is that if you go back to the terminal you ran the command from, you will now longer be able to run any other commands.\n",
      "\n",
      "Try typing `ls` for example, your terminal will *seem* to be 'stuck':\n",
      "\n",
      "``berlin% xv ~plewis/msc/sar.jpg\n",
      "ls``\n",
      "\n",
      "The reason for this is that the terminal will not accept any further commands until you quit the current process (or job, we might call it), which is `xv` here.\n",
      "\n",
      "Quit `xv` by hitting `q` with the mouse over the `xv` window.\n",
      "\n",
      "Now, any commands that you had stacked up will run ... which probably isn't what you wanted to happen.\n",
      "\n",
      "When we run a process in this way, we say that it is in the *foreground*."
     ]
    },
    {
     "cell_type": "heading",
     "level": 4,
     "metadata": {},
     "source": [
      "background"
     ]
    },
    {
     "cell_type": "markdown",
     "metadata": {},
     "source": [
      "Sometimes then, we want to run a job in the *background*. This effectively means that the process will run independently of the shell, which means that the shell prompt will be freed up for further commands.  \n",
      "\n",
      "We do this by putting an ampersand (`&`) at the end of the command:\n",
      "\n",
      "``berlin% ~plewis/msc/sar.jpg &\n",
      "berlin%``\n",
      "\n",
      "And now you should see the command line prompt appear again (so you can nbow type `ls` if thats what you wanted to do).\n",
      "\n",
      "You should also have notices something else appearing which would be something like:\n",
      "\n",
      "``[1] 3568``\n",
      "\n",
      "The [n] indicates this is the nth job to be started in this shell, and n is the unique job number by which the process may be referenced within that shell (window). The second number on the line (3568) is known as the process ID (PID) of the program. This is the number by which the central processor of the workstation refers to the job. This number is unique to the program you have started, and may be used in any window to refer to this process, as will be see."
     ]
    },
    {
     "cell_type": "heading",
     "level": 4,
     "metadata": {},
     "source": [
      "bg"
     ]
    },
    {
     "cell_type": "markdown",
     "metadata": {},
     "source": [
      "If the process you wish to place in the background is already running, it can be stopped using `^Z` (`Control Z`). \n",
      "\n",
      "The prompt will then return, and the job is placed in the background using the `bg` command (note: all *you* type here (after typing `xv ~plewis/msc/sar.jpg`) is `^Z` and `bg`):\n",
      "\n",
      "`berlin% xv ~plewis/msc/sar.jpg  `  \n",
      "`^Z`  \n",
      "` `  \n",
      "`Suspended`  \n",
      "`berlin% bg`  \n",
      "`[1] 3568`    \n",
      "`berlin%`  \n",
      "\n",
      "so xv is now running in the background, and the prompt should appear again so you can type new commands."
     ]
    },
    {
     "cell_type": "heading",
     "level": 2,
     "metadata": {},
     "source": [
      "Killing a job running in the foreground"
     ]
    },
    {
     "cell_type": "markdown",
     "metadata": {},
     "source": [
      "Normally, you can terminate a job running in the foreground with `^C` (`control` and `c`). If that does not work, try `^Z` as above, followed by `jobs` to see the number of the job to be killed, then kill it (see below)."
     ]
    },
    {
     "cell_type": "heading",
     "level": 3,
     "metadata": {},
     "source": [
      "Job control within the Shell"
     ]
    },
    {
     "cell_type": "heading",
     "level": 4,
     "metadata": {},
     "source": [
      "fg"
     ]
    },
    {
     "cell_type": "markdown",
     "metadata": {},
     "source": [
      "Within its parent window, a job may be referred to in certain commands a `%n`, where `n` is the number that was given in square brackets when the process was started.\n",
      "\n",
      "The job may be brought back into the foreground using:\n",
      "\n",
      "`berlin% fg %n`  \n",
      "\n",
      "no prompt will be returned until either the job finishes or is placed back into the background."
     ]
    },
    {
     "cell_type": "heading",
     "level": 4,
     "metadata": {},
     "source": [
      "kill"
     ]
    },
    {
     "cell_type": "markdown",
     "metadata": {},
     "source": [
      "The job may be killled using:\n",
      "\n",
      "`berlin% kill %n`  \n",
      "\n",
      "or \n",
      "\n",
      "`berlin% kill -9 %n`\n",
      "\n",
      "if it refuses to die the first time.\n",
      "\n",
      "The priority of the job may be changed to let other people share the workstation:\n",
      "\n",
      "`berlin% renice +19 %n\n",
      "0: old priority 0, new priority 19`"
     ]
    },
    {
     "cell_type": "heading",
     "level": 4,
     "metadata": {},
     "source": [
      "jobs"
     ]
    },
    {
     "cell_type": "markdown",
     "metadata": {},
     "source": [
      "A list of jobs currently running within the shell may be obtained using the `jobs` command. On some systems, `jobs -l` will give the most useful information. e.g.:\n",
      "\n",
      "`berlin% xv ~plewis/msc/sar.jpg`  \n",
      "`^Z`  \n",
      "` `  \n",
      "`Suspended`  \n",
      "`berlin% jobs -l`  \n",
      "`[1]  +  9524 Suspended                     xv ~plewis/msc/sar.jpg`"
     ]
    },
    {
     "cell_type": "heading",
     "level": 3,
     "metadata": {},
     "source": [
      "Killing or changing the priority of a job from outside its parent shell"
     ]
    },
    {
     "cell_type": "markdown",
     "metadata": {},
     "source": [
      "If you made a note of the `PID` of each process when it started, then `kill` and `renice` can be used as before, but using the `PID` instead of job number:\n",
      "\n",
      "```berlin% renice +19 3568\n",
      "3568 : old priority 0, new priority 19\n",
      "berlin% kill 3568```\n",
      "\n",
      "If you didn\u2019t note the PID, there are two ways to find it:\n",
      "\n",
      "* run the `top` command in another window and look at the process in the display\n",
      "* use `ps` (e.g. `ps auxww`)\n"
     ]
    },
    {
     "cell_type": "heading",
     "level": 4,
     "metadata": {},
     "source": [
      "top"
     ]
    },
    {
     "cell_type": "markdown",
     "metadata": {},
     "source": [
      "`top` is a program used to display the processes currently using the most CPU (processing capacity) on a workstation. Typing `top` in a shelltool should result in a display similar to:\n",
      "\n",
      "`last pid : 3609; load averages : 0.00, 0.00, 0.00 03:47:19`  \n",
      "` `  \n",
      "`49 processes : 48 sleeping, 1 running`  \n",
      "` `  \n",
      "`Cpu states : % user, % nice, % system, % idle`  \n",
      "` `  \n",
      "`Memory : 11984K available, 11812K in use, 172K free, 2572K locked`  \n",
      "` `  \n",
      "`PID Username PRI NICE SIZE RES STATE TIME WCPU CPU COMMAND`  \n",
      "` `  \n",
      "`3598 plewis   15 19 125K 99K run 9:20 12:49% 0.95% xv`  \n",
      "`3609 plewis   26 0 225K 472K run 10:29 7.69% 0.22% textedit`  \n",
      "`3607 plewis   36 0 422K 432K sleep 0.00 3.23% 0.12% csh`"
     ]
    },
    {
     "cell_type": "markdown",
     "metadata": {},
     "source": [
      "Look for your program in the far right column, and get its PID from the far left column (in this format). Typing `i` may reveal more processes if yours is not shown. Typing `u` and then your username will show only your jobs. Jobs can be killed (`k`) and reniced (`r`) from inside `top` - see `?`? for more details."
     ]
    },
    {
     "cell_type": "heading",
     "level": 4,
     "metadata": {},
     "source": [
      "ps"
     ]
    },
    {
     "cell_type": "markdown",
     "metadata": {},
     "source": [
      "`ps` is similar to `top`, but just lists the processes rather than providing a continuously updated display:  \n",
      "```\n",
      "berlin% ps auxww | less\n",
      "USER       PID %CPU %MEM    VSZ   RSS TTY      STAT START   TIME COMMAND\n",
      "root         1  0.0  0.0  10368   696 ?        Ss   Sep13   0:04 init [5]\n",
      "rpcuser   4034  0.0  0.0  10180   796 ?        Ss   Sep13   0:00 rpc.statd\n",
      "```"
     ]
    },
    {
     "cell_type": "heading",
     "level": 4,
     "metadata": {},
     "source": [
      "nice"
     ]
    },
    {
     "cell_type": "markdown",
     "metadata": {},
     "source": [
      "Whenever a job that will either use a lot of the machines processing power (such as an image processing command) or take a long time to run is started, it must be \u2018nice\u2019d up\u2019. That is, the priority of the job must be set so that other users can make use of the workstation whilst your job is running. This is achieved using either the `renice` command, as above, or preferably by using the `nice` command as the job is started:\n",
      "\n",
      "```\n",
      "berlin% nice +19 xv ~plewis/msc/sar.jpg &\n",
      "[2] 3610\n",
      "```\n",
      "\n",
      "This starts `xv` in the background, and sets its priority to allow fair use of the machine by other people. In fact, xv is not a process that would normally need to be niced, as, unless image processing operations are being performed it usually takes virtually no processing power. It is used here simply as an example."
     ]
    },
    {
     "cell_type": "heading",
     "level": 3,
     "metadata": {},
     "source": [
      "remote access"
     ]
    },
    {
     "cell_type": "heading",
     "level": 4,
     "metadata": {},
     "source": [
      "ping"
     ]
    },
    {
     "cell_type": "markdown",
     "metadata": {},
     "source": [
      "`ping` sends some test packets to a remote computer and reports on what is returned. Normally, e.g. to check the status of a machine called `socrates.ucl.ac.uk` you just type:\n",
      "\n",
      "`ping socrates.ucl.ac.uk`  \n",
      "\n",
      "which will report e.g.:\n",
      "\n",
      "`PING socrates.ucl.ac.uk (144.82.110.1) 56(84) bytes of data.`  \n",
      "`64 bytes from socrates.ucl.ac.uk (144.82.110.1): icmp_seq=1 ttl=252 time=0.527 ms`  \n",
      "`64 bytes from socrates.ucl.ac.uk (144.82.110.1): icmp_seq=2 ttl=252 time=0.342 ms`  \n",
      "`64 bytes from socrates.ucl.ac.uk (144.82.110.1): icmp_seq=3 ttl=252 time=0.355 ms`  \n",
      "``  \n",
      "`--- socrates.ucl.ac.uk ping statistics ---` \n",
      "`3 packets transmitted, 3 received, 0% packet loss, time 2001ms` \n",
      "`rtt min/avg/max/mdev = 0.342/0.408/0.527/0.084 ms`  \n",
      "``\n",
      "\n",
      "Use `^C` to quite `ping`.\n",
      "\n",
      "If nothing happens for some time, the machine is probably not available (because it is down or the network in unreachable). You can wait for a timeout, or use `^C` (`Control` and `C`) at the same time) to quit the command. To limit the call to a certain number of attempts, use:\n",
      "\n",
      "`ping -c 10 socrates.ucl.ac.uk`\n",
      "\n",
      "If the response is:\n",
      "\n",
      "`--- socrates.ucl.ac.uk ping statistics ---`  \n",
      "`10 packets transmitted, 0 packets received, 100.0% packet loss`\n",
      "\n",
      "Then you can\u2019t currently access the machine."
     ]
    },
    {
     "cell_type": "heading",
     "level": 4,
     "metadata": {},
     "source": [
      "sftp"
     ]
    },
    {
     "cell_type": "markdown",
     "metadata": {},
     "source": [
      "Secure file transfer using `ssh` protocols. If working from a terminal (shell) and you want to transfer files from your local machine to a machine e.g. `shankly.geog.ucl.ac.uk`, `cd` to where the files are on the local machine, then type:\n",
      "\n",
      "`sftp shankly.geog.ucl.ac.uk`\n",
      "\n",
      "at which point you will normally be prompted for a password. If the username on the local and remote machines are different, you should use:\n",
      "\n",
      "`sftp plewis@shankly.geog.ucl.ac.uk`\n",
      "\n",
      "You can then use the [limited command set](http://kb.iu.edu/data/akqg.html) within `sftp` to change directory etc. and copy the files to or from the remote machine. A typical session then would be something along the lines of:\n",
      "\n",
      "`sftp> cd whereIWantToPutTheData`  \n",
      "`sftp> put theFileIWantToTransfer.dat`\n",
      "\n",
      "to copy the local file `theFileIWantToTransfer.dat` into the directory `whereIWantToPutTheData` on the remote machine. Similarly to pull a file from the remote machine, use `get` rather than `put`.\n",
      "\n",
      "Use `exit` to exit the `sftp` session."
     ]
    },
    {
     "cell_type": "heading",
     "level": 4,
     "metadata": {},
     "source": [
      "ssh"
     ]
    },
    {
     "cell_type": "markdown",
     "metadata": {},
     "source": [
      "Securely connect (\u2018log in\u2019) to a shell on a remote computer. To set up an interactive session, from a terminal or `ssh` client type:\n",
      "\n",
      "`home% ssh plewis@shankly.geog.ucl.ac.uk`  \n",
      "\n",
      "and respond to any confirmation request (the first time you connect two machines) and the request for your password.\n",
      "\n",
      "If you wish to run a session that uses X11, you need to set X11 tunneling:\n",
      "\n",
      "`home% ssh -X plewis@shankly.geog.ucl.ac.uk`  \n",
      "\n",
      "on most unix/linux machines, or:\n",
      "\n",
      "`home% ssh -Y ucfaabc@shankly.geog.ucl.ac.uk`  \n",
      "\n",
      "from OS X.\n",
      "\n",
      "From a Windows machine, you should be able to connect using a client such as `putty`, but this does not directly allow `X11` sessions. To do that, you need some `X11` software (on the Windows machine) such as `exceed`. You can purchase that software, or at no cost, use a WTS session (see above) to start up [exceed](http://faq.rutgers.edu/?q=node/836) and then use e.g. `putty` (or tools in exceed) with `X11` forwarding. \n",
      "\n",
      "There are several alternatives to this from a Windows machine, one of which is to set up a unix environment within windows using `cygwin` but that might be too complex for novice users. \n",
      "\n",
      "Another is to make your Windows computer dual boot and install a linux system such as `ubuntu` on it. \n",
      "\n",
      "Yet another is to run linux as a virtual machine on top of Windows (or the other way around!). \n",
      "\n",
      "Another alternative is `Xming` that will run X11 on top of windows. \n",
      "\n",
      "Please note that whilst there are all of these potential solutions, we do not endorse or provide support for any particular solution. If you want to be able to do this and think it would be useful, try it out yourself and use the internet for resources to help you solve any problems you come across. If you have particular problems you think are connected with the UCL end of things, you can try asking the Geography System Manager, or ISD (if it is a UCL issue), or at a push, Professor Lewis in his office hours.\n",
      "\n",
      "**Important**: Note that you cannot use `ssh` (or `sftp`) to connect to *any* of the UCL Geography computers, as we only have a small number open to the UCL firewall (such as `shankly.geog.ucl.ac.uk`) and the machines we do have open are not ones you would normally want to do any processing on (or at least, we don\u2019t want everyone processing on these gateway machines, as noone else will be able to get in). \n",
      "\n",
      "You will normally have to use `ssh` to get on to one of these firewall gateway machines, then `ssh` (normally `ssh -X` if you want to maintain X11 port forwarding) from there to a machine (e.g. one in the classroom) to do any processing. This might seem a little \u2018roundabout\u2019, but you will soon get used to it and it is like this for good security reasons.\n",
      "\n",
      "N.B. if your username is different on the two machines, use e.g. `ssh -X ucfaabc@socrates.ucl.ac.uk` or `ssh -X socrates.ucl.ac.uk -l ucfaabc` to give the correct username for the remote machine (the one you are trying to log on to), otherwise you can just use `ssh -X socrates.ucl.ac.uk`.\n",
      "\n",
      "Once you (think you have) established a remote session with X11, you should test it out, trying to open a simple application such as `xclock` or `xv` or `xeyes` from the remote machine onto your local machine.\n",
      "\n",
      "If you are sure you are on a secure machine, you can set things up so that you don\u2019t have to keep typing the password when you connect (see here) but remember that anybody else will be able to connect those machines without a password.\n",
      "\n",
      "Finally, if what you want to do with `ssh` is not to run an interactive session, but to run a process on the remote machine (e.g. for some parallel processing), then you would normally use `ssh -f` for this, with the option `-X` (or `-Y` for OS X) if the processing requires `X11`. A simple example would be, get a listing of your home directory:\n",
      "\n",
      "`home% ssh -f ucfaabc@shankly.geog.ucl.ac.uk \"ls -l /home/plewis\"`\n",
      "\n",
      "This will execute the sequence of commands in quotes on the remote machine, then, when completed, terminate the session (that is what the `-f` flag does). If you want to ssh from that machine onto another (to run a process) that is a little more involved.\n",
      "\n",
      "One way to do this would be e.g.:\n",
      "\n",
      "`home% ssh -f shankly.geog.ucl.ac.uk 'ssh -f berlin.geog.ucl.ac.uk \"uname -a;pwd; cd /home/plewis ; ls -l\"'`\n",
      "\n",
      "which will `ssh` onto `shankly.geog.ucl.ac.uk` and from there run an `ssh` process onto `berlin` and then run the requested sequence of commands. Note that in this case you will have needed to previously ssh'd from `shankly` to `berlin` to have responded to the authentification request. This is a littler convoluted, especially the use of quotes here but is it feasible and sometimes useful to do this. You are much more likely to make use of this sort of command directly from within the UCL Geography system, in which case you do not need multiple levels of `ssh` calls to get through the firewall.\n",
      "\n"
     ]
    }
   ],
   "metadata": {}
  }
 ]
}