{
 "metadata": {
  "name": ""
 },
 "nbformat": 3,
 "nbformat_minor": 0,
 "worksheets": [
  {
   "cells": [
    {
     "cell_type": "heading",
     "level": 1,
     "metadata": {},
     "source": [
      "5. Function fitting and Interpolation"
     ]
    },
    {
     "cell_type": "markdown",
     "metadata": {},
     "source": [
      "In today's session, we will be using some of the LAI datasets we examined last week (masked by national boundaries) and doing some analysis on them.\n",
      "\n",
      "\n"
     ]
    },
    {
     "cell_type": "heading",
     "level": 2,
     "metadata": {},
     "source": [
      "5.1 Making 3D datasets and Movies"
     ]
    },
    {
     "cell_type": "markdown",
     "metadata": {},
     "source": [
      "First though, we will briefly go over once more the work we did on downloading data (ussssing `wget`), generating 3D masked datasets, and making movies.\n",
      "\n",
      "This time, we will concentrate more on generating functions that we can re-use for other purposes.\n",
      "\n",
      "### 5.1.1 Downloading data\n",
      "\n",
      "We start by filtering the file `files/data/robot.txt` to get only lines (containing urls) for a particular tile and year.\n",
      "\n",
      "We might easily do this in unix:"
     ]
    },
    {
     "cell_type": "code",
     "collapsed": false,
     "input": [
      "%%bash\n",
      "\n",
      "# filter LAI MODIS files for this year and tile (in bash)\n",
      "tile='h17v03'\n",
      "year='2005'\n",
      "ofile=files/data/modis_lai_${tile}_${year}.txt\n",
      "\n",
      "grep $tile < files/data/robot.txt | grep \\/$year > $ofile\n",
      "\n",
      "# have a look at the first few\n",
      "head -4 < $ofile"
     ],
     "language": "python",
     "metadata": {},
     "outputs": [
      {
       "output_type": "stream",
       "stream": "stdout",
       "text": [
        "http://e4ftl01.cr.usgs.gov/MODIS_Composites/MOTA/MCD15A2.005/2005.01.01/MCD15A2.A2005001.h17v03.005.2007350235547.hdf\n",
        "http://e4ftl01.cr.usgs.gov/MODIS_Composites/MOTA/MCD15A2.005/2005.01.09/MCD15A2.A2005009.h17v03.005.2007351235445.hdf\n",
        "http://e4ftl01.cr.usgs.gov/MODIS_Composites/MOTA/MCD15A2.005/2005.01.17/MCD15A2.A2005017.h17v03.005.2007352033411.hdf\n",
        "http://e4ftl01.cr.usgs.gov/MODIS_Composites/MOTA/MCD15A2.005/2005.01.25/MCD15A2.A2005025.h17v03.005.2007353055037.hdf\n"
       ]
      }
     ],
     "prompt_number": 1
    },
    {
     "cell_type": "markdown",
     "metadata": {},
     "source": [
      "Now download the datasets:"
     ]
    },
    {
     "cell_type": "code",
     "collapsed": false,
     "input": [
      "%%bash\n",
      "\n",
      "tile='h17v03'\n",
      "year='2005'\n",
      "ofile=files/data/modis_lai_${tile}_${year}.txt\n",
      "\n",
      "# go into the directory we want the data\n",
      "pushd files/data\n",
      "# get the urls from the file \n",
      "# --cut-dirs=4 this time as there are 4 laters of directory we\n",
      "# wish to ignore with this dataset\n",
      "wget --quiet -nc -nH --cut-dirs=4 -i ../$ofile\n",
      "# go back to where we were\n",
      "popd"
     ],
     "language": "python",
     "metadata": {},
     "outputs": [
      {
       "output_type": "stream",
       "stream": "stdout",
       "text": [
        "/archive/rsu_raid_0/plewis/public_html/geogg122_local/geogg122/Chapter5_Interpolation/files/data /archive/rsu_raid_0/plewis/public_html/geogg122_local/geogg122/Chapter5_Interpolation\n",
        "/archive/rsu_raid_0/plewis/public_html/geogg122_local/geogg122/Chapter5_Interpolation\n"
       ]
      }
     ],
     "prompt_number": 2
    },
    {
     "cell_type": "markdown",
     "metadata": {},
     "source": [
      "### 5.1.2 Read from an ASCII file\n",
      "\n",
      "The ASCII file `files/data/modis_lai_${tile}_${year}.txt` contains lines of urls. \n",
      "\n",
      "Each line (each url) is a string such as:\n",
      "\n",
      "`http://e4ftl01.cr.usgs.gov/MODIS_Composites/MOTA/MCD15A2.005/2005.01.25/MCD15A2.A2005025.h17v03.005.2007353055037.hdf`\n",
      "\n",
      "The *filename* here is `MCD15A2.A2005025.h17v03.005.2007353055037.hdf`, so we can split the url on the field `/` to get this:\n",
      "\n",
      "Let's read the filenames from the text file that has the urls in it and load it into a list that we will call `filelist`:"
     ]
    },
    {
     "cell_type": "code",
     "collapsed": false,
     "input": [
      "import numpy as np\n",
      "\n",
      "tile = 'h17v03'\n",
      "year = '2005'\n",
      "\n",
      "# specify the file with the urls in\n",
      "ifile= 'files/data/modis_lai_%s_%s.txt'%(tile,year)\n",
      "\n",
      "# one way to read the data from the file\n",
      "fp = open(ifile)\n",
      "lines = fp.readlines()\n",
      "filelist = []\n",
      "for url in lines:\n",
      "    filename = url.split('/')[-1].strip()\n",
      "    filelist.append(filename)\n",
      "fp.close()\n",
      "\n",
      "# show the first few\n",
      "print filelist[:5]"
     ],
     "language": "python",
     "metadata": {},
     "outputs": [
      {
       "output_type": "stream",
       "stream": "stdout",
       "text": [
        "['MCD15A2.A2005001.h17v03.005.2007350235547.hdf', 'MCD15A2.A2005009.h17v03.005.2007351235445.hdf', 'MCD15A2.A2005017.h17v03.005.2007352033411.hdf', 'MCD15A2.A2005025.h17v03.005.2007353055037.hdf', 'MCD15A2.A2005033.h17v03.005.2007355050158.hdf']\n"
       ]
      }
     ],
     "prompt_number": 3
    },
    {
     "cell_type": "code",
     "collapsed": false,
     "input": [
      "# a neater way:\n",
      "fp = open(ifile)\n",
      "filelist = [url.split('/')[-1].strip() for url in fp.readlines()]\n",
      "fp.close()\n",
      "\n",
      "# show the first few\n",
      "print filelist[:5]"
     ],
     "language": "python",
     "metadata": {},
     "outputs": [
      {
       "output_type": "stream",
       "stream": "stdout",
       "text": [
        "['MCD15A2.A2005001.h17v03.005.2007350235547.hdf', 'MCD15A2.A2005009.h17v03.005.2007351235445.hdf', 'MCD15A2.A2005017.h17v03.005.2007352033411.hdf', 'MCD15A2.A2005025.h17v03.005.2007353055037.hdf', 'MCD15A2.A2005033.h17v03.005.2007355050158.hdf']\n"
       ]
      }
     ],
     "prompt_number": 4
    },
    {
     "cell_type": "code",
     "collapsed": false,
     "input": [
      "# an even neater way using np.loadtxt\n",
      "# But don't worry if you don't quite get this one yet!\n",
      "\n",
      "# define a function get_filename(f)\n",
      "# When a function is 'small' its easier to use a lambda definition!\n",
      "get_filename = lambda f: f.split('/')[-1]\n",
      "filelist = np.loadtxt(ifile,dtype='str',converters={0:get_filename})\n",
      "\n",
      "print filelist[:5]"
     ],
     "language": "python",
     "metadata": {},
     "outputs": [
      {
       "output_type": "stream",
       "stream": "stdout",
       "text": [
        "['MCD15A2.A2005001.h17v03.005.2007350235547.hdf'\n",
        " 'MCD15A2.A2005009.h17v03.005.2007351235445.hdf'\n",
        " 'MCD15A2.A2005017.h17v03.005.2007352033411.hdf'\n",
        " 'MCD15A2.A2005025.h17v03.005.2007353055037.hdf'\n",
        " 'MCD15A2.A2005033.h17v03.005.2007355050158.hdf']\n"
       ]
      }
     ],
     "prompt_number": 5
    },
    {
     "cell_type": "markdown",
     "metadata": {},
     "source": [
      "### 5.1.3 Read the data\n",
      "\n",
      "Last time, we generated a function to read MODIS LAI data.\n",
      "\n",
      "We have now included such a function in the directory [`files/python`](files/python) called [`get_lai.py`](files/python/get_lai.py):"
     ]
    },
    {
     "cell_type": "code",
     "collapsed": false,
     "input": [
      "# Now we have a list of filenames\n",
      "# load read_lai\n",
      "import sys\n",
      "sys.path.insert(0,'files/python')\n",
      "\n",
      "from get_lai import get_lai\n",
      "\n",
      "help(get_lai)"
     ],
     "language": "python",
     "metadata": {},
     "outputs": [
      {
       "output_type": "stream",
       "stream": "stdout",
       "text": [
        "Help on function get_lai in module get_lai:\n",
        "\n",
        "get_lai(filename, qc_layer='FparLai_QC', scale=[0.1, 0.1], selected_layers=['Lai_1km', 'LaiStdDev_1km'])\n",
        "\n"
       ]
      }
     ],
     "prompt_number": 6
    },
    {
     "cell_type": "code",
     "collapsed": false,
     "input": [
      "# e.g. for reading a single file:\n",
      "\n",
      "lai_file0 = get_lai('files/data/%s'%filelist[0])"
     ],
     "language": "python",
     "metadata": {},
     "outputs": [],
     "prompt_number": 7
    },
    {
     "cell_type": "code",
     "collapsed": false,
     "input": [
      "print type(lai_file0)\n",
      "print lai_file0.keys()"
     ],
     "language": "python",
     "metadata": {},
     "outputs": [
      {
       "output_type": "stream",
       "stream": "stdout",
       "text": [
        "<type 'dict'>\n",
        "['Lai_1km', 'LaiStdDev_1km']\n"
       ]
      }
     ],
     "prompt_number": 8
    },
    {
     "cell_type": "markdown",
     "metadata": {},
     "source": [
      "The function returns a dictionary with has keys `['Lai_1km', 'LaiStdDev_1km', 'FparLai_QC']`:"
     ]
    },
    {
     "cell_type": "code",
     "collapsed": false,
     "input": [
      "print lai_file0['Lai_1km'].shape"
     ],
     "language": "python",
     "metadata": {},
     "outputs": [
      {
       "output_type": "stream",
       "stream": "stdout",
       "text": [
        "(1200, 1200)\n"
       ]
      }
     ],
     "prompt_number": 9
    },
    {
     "cell_type": "markdown",
     "metadata": {},
     "source": [
      "Each of these datasets is of shape `(1200, 1200)`, which is what we would expect.\n",
      "\n",
      "We should be used to writing loops around such functions.\n",
      "\n",
      "In this case, we read *all* of the files in `filelist` and put the data into the dictionary called `lai` here.\n",
      "\n",
      "Because there are multiple layers in the datasets, we loop over layer and append to each list indiviually:"
     ]
    },
    {
     "cell_type": "code",
     "collapsed": false,
     "input": [
      "# load 'em all ...\n",
      "import numpy.ma as ma\n",
      "\n",
      "# make a dictionay with some empty lists\n",
      "fields = {'LaiStdDev_1km':[],'Lai_1km':[]}\n",
      "\n",
      "# make a dictionary\n",
      "lai = {'filenames':np.sort(filelist)}\n",
      "# this joins the two dictionaries together\n",
      "lai.update(fields)\n",
      "\n",
      "for f in np.sort(lai['filenames']):\n",
      "    this_lai = get_lai('files/data/%s'%f)\n",
      "    for layer in fields.keys():\n",
      "        lai[layer].append(this_lai[layer])\n",
      "        "
     ],
     "language": "python",
     "metadata": {},
     "outputs": [],
     "prompt_number": 10
    },
    {
     "cell_type": "code",
     "collapsed": false,
     "input": [
      "# have a look at one of these\n",
      "\n",
      "i = 20\n",
      "\n",
      "import pylab as plt\n",
      "\n",
      "# just see what the shape is ...\n",
      "print lai['Lai_1km'][i].shape\n",
      "\n",
      "root = 'files/images/lai_uk'\n",
      "\n",
      "cmap = plt.cm.Greens\n",
      "\n",
      "f = lai['filenames'][i]\n",
      "fig = plt.figure(figsize=(7,7))\n",
      "# get some info from filename\n",
      "file_id = f.split('/')[-1].split('.')[-5][1:]\n",
      "print file_id\n",
      "plt.imshow(lai['Lai_1km'][i],cmap=cmap,interpolation='none',vmax=4.,vmin=0.0)\n",
      "# plot a jpg\n",
      "plt.title(file_id)\n",
      "plt.colorbar()\n",
      "plt.savefig('files/images/lai_uk_%s.jpg'%file_id)"
     ],
     "language": "python",
     "metadata": {},
     "outputs": [
      {
       "output_type": "stream",
       "stream": "stdout",
       "text": [
        "(1200, 1200)\n",
        "2005161\n"
       ]
      },
      {
       "metadata": {},
       "output_type": "display_data",
       "png": "[encoded data removed]",
       "text": [
        "<matplotlib.figure.Figure at 0xc864990>"
       ]
      }
     ],
     "prompt_number": 11
    },
    {
     "cell_type": "markdown",
     "metadata": {},
     "source": [
      "As a recap, we can use the function `raster_mask` that we gave you last time to develop a raster mask (!) from an ESRI shapefile (`files/data/world.shp` here).\n",
      "\n",
      "We can then combine this mask with the QC-derived mask in the LAI dataset.\n",
      "\n",
      "The LAI mask (that will be `masked.mask` in the code below) is `False` for good data, as is the coutry mask.\n",
      "\n",
      "To combine them, we want some operator `X` for which:\n",
      "\n",
      "`True  X True  == True`  \n",
      "`True  X False == True`  \n",
      "`False X True  == True`  \n",
      "`False X False == False`  \n",
      "\n",
      "The operator to use then is an *or*, here, a bitwise or, `|`.\n"
     ]
    },
    {
     "cell_type": "code",
     "collapsed": false,
     "input": [
      "from raster_mask import raster_mask\n",
      "\n",
      "# make a raster mask\n",
      "# from the layer IRELAND in world.shp\n",
      "filename = lai['filenames'][0]\n",
      "file_template = 'HDF4_EOS:EOS_GRID:\"%s\":MOD_Grid_MOD15A2:%s'\n",
      "file_spec = file_template%('files/data/%s'%filename,'Lai_1km')\n",
      "                           \n",
      "mask = raster_mask(file_spec,\\\n",
      "                   target_vector_file = \"files/data/world.shp\",\\\n",
      "                   attribute_filter = \"NAME = 'IRELAND'\")\n",
      "\n",
      "# put the mask in\n",
      "for layer in fields.keys():\n",
      "    # first convert the list to a masked array\n",
      "    masked = ma.array(lai[layer])\n",
      "    #\u00a0then and it with the country mask\n",
      "    lai[layer] = ma.array(lai[layer],mask=(mask | masked.mask))"
     ],
     "language": "python",
     "metadata": {},
     "outputs": [],
     "prompt_number": 12
    },
    {
     "cell_type": "code",
     "collapsed": false,
     "input": [
      "# have a look at one of these\n",
      "\n",
      "i = 20\n",
      "\n",
      "import pylab as plt\n",
      "\n",
      "# just see what the shape is ...\n",
      "print lai['Lai_1km'][i].shape\n",
      "\n",
      "root = 'files/images/lai_eire'\n",
      "\n",
      "cmap = plt.cm.Greens\n",
      "\n",
      "f = lai['filenames'][i]\n",
      "fig = plt.figure(figsize=(7,7))\n",
      "# get some info from filename\n",
      "file_id = f.split('/')[-1].split('.')[-5][1:]\n",
      "print file_id\n",
      "plt.imshow(lai['Lai_1km'][i],cmap=cmap,interpolation='none',vmax=4.,vmin=0.0)\n",
      "# plot a jpg\n",
      "plt.title(file_id)\n",
      "plt.colorbar()\n",
      "plt.savefig('%s_%s.jpg'%(root,file_id))"
     ],
     "language": "python",
     "metadata": {},
     "outputs": [
      {
       "output_type": "stream",
       "stream": "stdout",
       "text": [
        "(1200, 1200)\n",
        "2005161\n"
       ]
      },
      {
       "metadata": {},
       "output_type": "display_data",
       "png": "[encoded data removed]",
       "text": [
        "<matplotlib.figure.Figure at 0x1009c610>"
       ]
      }
     ],
     "prompt_number": 13
    },
    {
     "cell_type": "code",
     "collapsed": false,
     "input": [
      "# thats quite good, so put as a function:\n",
      "import numpy.ma as ma\n",
      "import numpy as np\n",
      "import sys\n",
      "sys.path.insert(0,'files/python')\n",
      "from get_lai import get_lai\n",
      "from raster_mask import raster_mask\n",
      "\n",
      "\n",
      "def read_lai(filelist,datadir='files/data',country=None):\n",
      "    '''\n",
      "    Read MODIS LAI data from a set of files\n",
      "    in the list filelist. Data assumed to be in\n",
      "    directory datadir.\n",
      "    \n",
      "    Parameters:\n",
      "    filelist : list of LAI files\n",
      "    \n",
      "    Options:\n",
      "    datadir  : data directory\n",
      "    country  : country name (in files/data/world.shp)\n",
      "    \n",
      "    Returns:\n",
      "    lai dictionary\n",
      "    '''\n",
      "    fields = {'LaiStdDev_1km':[],'Lai_1km':[]}\n",
      "    \n",
      "    # make a dictionary\n",
      "    lai = {'filenames':np.sort(filelist)}\n",
      "    lai.update(fields)\n",
      "    \n",
      "    for f in np.sort(lai['filenames']):\n",
      "        this_lai = get_lai('files/data/%s'%f)\n",
      "        for layer in fields.keys():\n",
      "            lai[layer].append(this_lai[layer])\n",
      "    \n",
      "    # make a raster mask\n",
      "    # from the layer IRELAND in world.shp\n",
      "    filename = lai['filenames'][0]\n",
      "    file_template = 'HDF4_EOS:EOS_GRID:\"%s\":MOD_Grid_MOD15A2:%s'\n",
      "    file_spec = file_template%('files/data/%s'%filename,'Lai_1km')\n",
      "                            \n",
      "    if country:\n",
      "        mask = raster_mask(file_spec,\\\n",
      "                       target_vector_file = \"files/data/world.shp\",\\\n",
      "                       attribute_filter = \"NAME = '%s'\"%country)\n",
      "    \n",
      "    # put the mask in\n",
      "    for layer in fields.keys():\n",
      "        # first convert the list to a masked array\n",
      "        masked = ma.array(lai[layer])\n",
      "        if country:\n",
      "            # then and it with the country mask\n",
      "            lai[layer] = ma.array(lai[layer],mask=(mask | masked.mask)) \n",
      "        else:\n",
      "            lai[layer] = masked\n",
      "    return lai"
     ],
     "language": "python",
     "metadata": {},
     "outputs": [],
     "prompt_number": 14
    },
    {
     "cell_type": "code",
     "collapsed": false,
     "input": [
      "# test this\n",
      "\n",
      "lai = read_lai(filelist,country='IRELAND')\n",
      "\n",
      "# have a look at one of these\n",
      "\n",
      "i = 20\n",
      "\n",
      "# just see what the shape is ...\n",
      "print lai['Lai_1km'][i].shape\n",
      "\n",
      "root = 'files/images/lai_eire'\n",
      "\n",
      "cmap = plt.cm.Greens\n",
      "\n",
      "f = lai['filenames'][i]\n",
      "fig = plt.figure(figsize=(7,7))\n",
      "# get some info from filename\n",
      "file_id = f.split('/')[-1].split('.')[-5][1:]\n",
      "print file_id\n",
      "plt.imshow(lai['Lai_1km'][i],cmap=cmap,interpolation='none',vmax=4.,vmin=0.0)\n",
      "# plot a jpg\n",
      "plt.title(file_id)\n",
      "plt.colorbar()\n",
      "plt.savefig('%s_%s.jpg'%(root,file_id))"
     ],
     "language": "python",
     "metadata": {},
     "outputs": [
      {
       "output_type": "stream",
       "stream": "stdout",
       "text": [
        "(1200, 1200)\n",
        "2005161\n"
       ]
      },
      {
       "metadata": {},
       "output_type": "display_data",
       "png": "[encoded data removed]",
       "text": [
        "<matplotlib.figure.Figure at 0xcace510>"
       ]
      }
     ],
     "prompt_number": 15
    },
    {
     "cell_type": "code",
     "collapsed": false,
     "input": [
      "# make a movie\n",
      "\n",
      "import pylab as plt\n",
      "import os\n",
      "\n",
      "# just see what the shape is ...\n",
      "print lai['Lai_1km'].shape\n",
      "\n",
      "root = 'files/images/lai_eire'\n",
      "\n",
      "cmap = plt.cm.Greens\n",
      "\n",
      "for i,f in enumerate(lai['filenames']):\n",
      "    fig = plt.figure(figsize=(7,7))\n",
      "    # get some info from filename\n",
      "    file_id = f.split('/')[-1].split('.')[-5][1:]\n",
      "    print file_id\n",
      "    plt.imshow(lai['Lai_1km'][i],cmap=cmap,interpolation='none',vmax=4.,vmin=0.0)\n",
      "    # plot a jpg\n",
      "    plt.title(file_id)\n",
      "    plt.colorbar()\n",
      "    plt.savefig('%s_%s.jpg'%(root,file_id))\n",
      "    plt.close(fig)\n",
      "    \n",
      "cmd = 'convert -delay 100 -loop 0 {0}_*.jpg {0}_movie.gif'.format(root)\n",
      "os.system(cmd)"
     ],
     "language": "python",
     "metadata": {},
     "outputs": [
      {
       "output_type": "stream",
       "stream": "stdout",
       "text": [
        "(46, 1200, 1200)\n",
        "2005001\n",
        "2005009"
       ]
      },
      {
       "output_type": "stream",
       "stream": "stdout",
       "text": [
        "\n",
        "2005017"
       ]
      },
      {
       "output_type": "stream",
       "stream": "stdout",
       "text": [
        "\n",
        "2005025"
       ]
      },
      {
       "output_type": "stream",
       "stream": "stdout",
       "text": [
        "\n",
        "2005033"
       ]
      },
      {
       "output_type": "stream",
       "stream": "stdout",
       "text": [
        "\n",
        "2005041"
       ]
      },
      {
       "output_type": "stream",
       "stream": "stdout",
       "text": [
        "\n",
        "2005049"
       ]
      },
      {
       "output_type": "stream",
       "stream": "stdout",
       "text": [
        "\n",
        "2005057"
       ]
      },
      {
       "output_type": "stream",
       "stream": "stdout",
       "text": [
        "\n",
        "2005065"
       ]
      },
      {
       "output_type": "stream",
       "stream": "stdout",
       "text": [
        "\n",
        "2005073"
       ]
      },
      {
       "output_type": "stream",
       "stream": "stdout",
       "text": [
        "\n",
        "2005081"
       ]
      },
      {
       "output_type": "stream",
       "stream": "stdout",
       "text": [
        "\n",
        "2005089"
       ]
      },
      {
       "output_type": "stream",
       "stream": "stdout",
       "text": [
        "\n",
        "2005097"
       ]
      },
      {
       "output_type": "stream",
       "stream": "stdout",
       "text": [
        "\n",
        "2005105"
       ]
      },
      {
       "output_type": "stream",
       "stream": "stdout",
       "text": [
        "\n",
        "2005113"
       ]
      },
      {
       "output_type": "stream",
       "stream": "stdout",
       "text": [
        "\n",
        "2005121"
       ]
      },
      {
       "output_type": "stream",
       "stream": "stdout",
       "text": [
        "\n",
        "2005129"
       ]
      },
      {
       "output_type": "stream",
       "stream": "stdout",
       "text": [
        "\n",
        "2005137"
       ]
      },
      {
       "output_type": "stream",
       "stream": "stdout",
       "text": [
        "\n",
        "2005145"
       ]
      },
      {
       "output_type": "stream",
       "stream": "stdout",
       "text": [
        "\n",
        "2005153"
       ]
      },
      {
       "output_type": "stream",
       "stream": "stdout",
       "text": [
        "\n",
        "2005161"
       ]
      },
      {
       "output_type": "stream",
       "stream": "stdout",
       "text": [
        "\n",
        "2005169"
       ]
      },
      {
       "output_type": "stream",
       "stream": "stdout",
       "text": [
        "\n",
        "2005177"
       ]
      },
      {
       "output_type": "stream",
       "stream": "stdout",
       "text": [
        "\n",
        "2005185"
       ]
      },
      {
       "output_type": "stream",
       "stream": "stdout",
       "text": [
        "\n",
        "2005193"
       ]
      },
      {
       "output_type": "stream",
       "stream": "stdout",
       "text": [
        "\n",
        "2005201"
       ]
      },
      {
       "output_type": "stream",
       "stream": "stdout",
       "text": [
        "\n",
        "2005209"
       ]
      },
      {
       "output_type": "stream",
       "stream": "stdout",
       "text": [
        "\n",
        "2005217"
       ]
      },
      {
       "output_type": "stream",
       "stream": "stdout",
       "text": [
        "\n",
        "2005225"
       ]
      },
      {
       "output_type": "stream",
       "stream": "stdout",
       "text": [
        "\n",
        "2005233"
       ]
      },
      {
       "output_type": "stream",
       "stream": "stdout",
       "text": [
        "\n",
        "2005241"
       ]
      },
      {
       "output_type": "stream",
       "stream": "stdout",
       "text": [
        "\n",
        "2005249"
       ]
      },
      {
       "output_type": "stream",
       "stream": "stdout",
       "text": [
        "\n",
        "2005257"
       ]
      },
      {
       "output_type": "stream",
       "stream": "stdout",
       "text": [
        "\n",
        "2005265"
       ]
      },
      {
       "output_type": "stream",
       "stream": "stdout",
       "text": [
        "\n",
        "2005273"
       ]
      },
      {
       "output_type": "stream",
       "stream": "stdout",
       "text": [
        "\n",
        "2005281"
       ]
      },
      {
       "output_type": "stream",
       "stream": "stdout",
       "text": [
        "\n",
        "2005289"
       ]
      },
      {
       "output_type": "stream",
       "stream": "stdout",
       "text": [
        "\n",
        "2005297"
       ]
      },
      {
       "output_type": "stream",
       "stream": "stdout",
       "text": [
        "\n",
        "2005305"
       ]
      },
      {
       "output_type": "stream",
       "stream": "stdout",
       "text": [
        "\n",
        "2005313"
       ]
      },
      {
       "output_type": "stream",
       "stream": "stdout",
       "text": [
        "\n",
        "2005321"
       ]
      },
      {
       "output_type": "stream",
       "stream": "stdout",
       "text": [
        "\n",
        "2005329"
       ]
      },
      {
       "output_type": "stream",
       "stream": "stdout",
       "text": [
        "\n",
        "2005337"
       ]
      },
      {
       "output_type": "stream",
       "stream": "stdout",
       "text": [
        "\n",
        "2005345"
       ]
      },
      {
       "output_type": "stream",
       "stream": "stdout",
       "text": [
        "\n",
        "2005353"
       ]
      },
      {
       "output_type": "stream",
       "stream": "stdout",
       "text": [
        "\n",
        "2005361"
       ]
      },
      {
       "output_type": "stream",
       "stream": "stdout",
       "text": [
        "\n"
       ]
      },
      {
       "metadata": {},
       "output_type": "pyout",
       "prompt_number": 16,
       "text": [
        "0"
       ]
      }
     ],
     "prompt_number": 16
    },
    {
     "cell_type": "markdown",
     "metadata": {},
     "source": [
      "![](files/images/lai_eire_movie.gif)"
     ]
    },
    {
     "cell_type": "code",
     "collapsed": false,
     "input": [
      "# The movie making works, so pack that into a function\n",
      "\n",
      "import pylab as plt\n",
      "import os\n",
      "\n",
      "root = 'files/images/lai_eire'\n",
      "\n",
      "def make_movie(lai,root,layer='Lai_1km',vmax=4.,vmin=0.,do_plot=False):\n",
      "    '''\n",
      "    Make an animated gif from MODIS LAI data in\n",
      "    dictionary 'lai'.\n",
      "    \n",
      "    Parameters:\n",
      "    lai    : data dictionary\n",
      "    root   : root file /directory name of frames and movie\n",
      "    \n",
      "    layer  : data layer to plot \n",
      "    vmax   : max value for plotting\n",
      "    vmin   : min value for plotting\n",
      "    do_plot: set True if you want the individual plots\n",
      "             to display\n",
      "    \n",
      "    Returns:\n",
      "    movie name    \n",
      "    \n",
      "    '''\n",
      "    cmap = plt.cm.Greens\n",
      "    \n",
      "    for i,f in enumerate(lai['filenames']):\n",
      "        fig = plt.figure(figsize=(7,7))\n",
      "        # get some info from filename\n",
      "        file_id = f.split('/')[-1].split('.')[-5][1:]\n",
      "        print file_id\n",
      "        plt.imshow(lai[layer][i],cmap=cmap,interpolation='none',\\\n",
      "                   vmax=vmax,vmin=vmin)\n",
      "        # plot a jpg\n",
      "        plt.title(file_id)\n",
      "        plt.colorbar()\n",
      "        plt.savefig('%s_%s.jpg'%(root,file_id))\n",
      "        if not do_plot:\n",
      "            plt.close(fig)\n",
      "        \n",
      "    cmd = 'convert -delay 100 -loop 0 {0}_*.jpg {0}_movie.gif'.format(root)\n",
      "    os.system(cmd)\n",
      "    return '{0}_movie.gif'.format(root)"
     ],
     "language": "python",
     "metadata": {},
     "outputs": [],
     "prompt_number": 17
    },
    {
     "cell_type": "code",
     "collapsed": false,
     "input": [
      "# check country names ... those begining with U\n",
      "\n",
      "from osgeo import ogr\n",
      "\n",
      "g = ogr.Open( \"files/data/world.shp\" )\n",
      "for feat in g.GetLayer( 0 ):\n",
      "    name = feat.GetField('NAME')\n",
      "    if name and name[0] == 'U': print name"
     ],
     "language": "python",
     "metadata": {},
     "outputs": [
      {
       "output_type": "stream",
       "stream": "stdout",
       "text": [
        "URUGUAY\n",
        "UGANDA\n",
        "UZBEKISTAN\n",
        "UKRAINE\n",
        "UNITED ARAB EMIRATES\n",
        "UNITED KINGDOM\n",
        "UNITED STATES\n"
       ]
      },
      {
       "output_type": "stream",
       "stream": "stderr",
       "text": [
        "Exception in thread Thread-2:\n",
        "Traceback (most recent call last):\n",
        "  File \"/opt/anaconda/lib/python2.7/threading.py\", line 808, in __bootstrap_inner\n",
        "    self.run()\n",
        "  File \"/opt/anaconda/lib/python2.7/site-packages/IPython/kernel/zmq/heartbeat.py\", line 55, in run\n",
        "    zmq.device(zmq.FORWARDER, self.socket, self.socket)\n",
        "  File \"device.pyx\", line 55, in zmq.core.device.device (zmq/core/device.c:854)\n",
        "ZMQError: Interrupted system call\n",
        "\n"
       ]
      }
     ],
     "prompt_number": 18
    },
    {
     "cell_type": "code",
     "collapsed": false,
     "input": [
      "# test it\n",
      "\n",
      "lai_uk = read_lai(filelist,country='UNITED KINGDOM')\n",
      "root = 'files/images/lai_uk'\n",
      "movie = make_movie(lai_uk,root)\n",
      "print movie"
     ],
     "language": "python",
     "metadata": {},
     "outputs": [
      {
       "output_type": "stream",
       "stream": "stdout",
       "text": [
        "2005001\n",
        "2005009"
       ]
      },
      {
       "output_type": "stream",
       "stream": "stdout",
       "text": [
        "\n",
        "2005017"
       ]
      },
      {
       "output_type": "stream",
       "stream": "stdout",
       "text": [
        "\n",
        "2005025"
       ]
      },
      {
       "output_type": "stream",
       "stream": "stdout",
       "text": [
        "\n",
        "2005033"
       ]
      },
      {
       "output_type": "stream",
       "stream": "stdout",
       "text": [
        "\n",
        "2005041"
       ]
      },
      {
       "output_type": "stream",
       "stream": "stdout",
       "text": [
        "\n",
        "2005049"
       ]
      },
      {
       "output_type": "stream",
       "stream": "stdout",
       "text": [
        "\n",
        "2005057"
       ]
      },
      {
       "output_type": "stream",
       "stream": "stdout",
       "text": [
        "\n",
        "2005065"
       ]
      },
      {
       "output_type": "stream",
       "stream": "stdout",
       "text": [
        "\n",
        "2005073"
       ]
      },
      {
       "output_type": "stream",
       "stream": "stdout",
       "text": [
        "\n",
        "2005081"
       ]
      },
      {
       "output_type": "stream",
       "stream": "stdout",
       "text": [
        "\n",
        "2005089"
       ]
      },
      {
       "output_type": "stream",
       "stream": "stdout",
       "text": [
        "\n",
        "2005097"
       ]
      },
      {
       "output_type": "stream",
       "stream": "stdout",
       "text": [
        "\n",
        "2005105"
       ]
      },
      {
       "output_type": "stream",
       "stream": "stdout",
       "text": [
        "\n",
        "2005113"
       ]
      },
      {
       "output_type": "stream",
       "stream": "stdout",
       "text": [
        "\n",
        "2005121"
       ]
      },
      {
       "output_type": "stream",
       "stream": "stdout",
       "text": [
        "\n",
        "2005129"
       ]
      },
      {
       "output_type": "stream",
       "stream": "stdout",
       "text": [
        "\n",
        "2005137"
       ]
      },
      {
       "output_type": "stream",
       "stream": "stdout",
       "text": [
        "\n",
        "2005145"
       ]
      },
      {
       "output_type": "stream",
       "stream": "stdout",
       "text": [
        "\n",
        "2005153"
       ]
      },
      {
       "output_type": "stream",
       "stream": "stdout",
       "text": [
        "\n",
        "2005161"
       ]
      },
      {
       "output_type": "stream",
       "stream": "stdout",
       "text": [
        "\n",
        "2005169"
       ]
      },
      {
       "output_type": "stream",
       "stream": "stdout",
       "text": [
        "\n",
        "2005177"
       ]
      },
      {
       "output_type": "stream",
       "stream": "stdout",
       "text": [
        "\n",
        "2005185"
       ]
      },
      {
       "output_type": "stream",
       "stream": "stdout",
       "text": [
        "\n",
        "2005193"
       ]
      },
      {
       "output_type": "stream",
       "stream": "stdout",
       "text": [
        "\n",
        "2005201"
       ]
      },
      {
       "output_type": "stream",
       "stream": "stdout",
       "text": [
        "\n",
        "2005209"
       ]
      },
      {
       "output_type": "stream",
       "stream": "stdout",
       "text": [
        "\n",
        "2005217"
       ]
      },
      {
       "output_type": "stream",
       "stream": "stdout",
       "text": [
        "\n",
        "2005225"
       ]
      },
      {
       "output_type": "stream",
       "stream": "stdout",
       "text": [
        "\n",
        "2005233"
       ]
      },
      {
       "output_type": "stream",
       "stream": "stdout",
       "text": [
        "\n",
        "2005241"
       ]
      },
      {
       "output_type": "stream",
       "stream": "stdout",
       "text": [
        "\n",
        "2005249"
       ]
      },
      {
       "output_type": "stream",
       "stream": "stdout",
       "text": [
        "\n",
        "2005257"
       ]
      },
      {
       "output_type": "stream",
       "stream": "stdout",
       "text": [
        "\n",
        "2005265"
       ]
      },
      {
       "output_type": "stream",
       "stream": "stdout",
       "text": [
        "\n",
        "2005273"
       ]
      },
      {
       "output_type": "stream",
       "stream": "stdout",
       "text": [
        "\n",
        "2005281"
       ]
      },
      {
       "output_type": "stream",
       "stream": "stdout",
       "text": [
        "\n",
        "2005289"
       ]
      },
      {
       "output_type": "stream",
       "stream": "stdout",
       "text": [
        "\n",
        "2005297"
       ]
      },
      {
       "output_type": "stream",
       "stream": "stdout",
       "text": [
        "\n",
        "2005305"
       ]
      },
      {
       "output_type": "stream",
       "stream": "stdout",
       "text": [
        "\n",
        "2005313"
       ]
      },
      {
       "output_type": "stream",
       "stream": "stdout",
       "text": [
        "\n",
        "2005321"
       ]
      },
      {
       "output_type": "stream",
       "stream": "stdout",
       "text": [
        "\n",
        "2005329"
       ]
      },
      {
       "output_type": "stream",
       "stream": "stdout",
       "text": [
        "\n",
        "2005337"
       ]
      },
      {
       "output_type": "stream",
       "stream": "stdout",
       "text": [
        "\n",
        "2005345"
       ]
      },
      {
       "output_type": "stream",
       "stream": "stdout",
       "text": [
        "\n",
        "2005353"
       ]
      },
      {
       "output_type": "stream",
       "stream": "stdout",
       "text": [
        "\n",
        "2005361"
       ]
      },
      {
       "output_type": "stream",
       "stream": "stdout",
       "text": [
        "\n",
        "files/images/lai_uk_movie.gif"
       ]
      },
      {
       "output_type": "stream",
       "stream": "stdout",
       "text": [
        "\n"
       ]
      }
     ],
     "prompt_number": 19
    },
    {
     "cell_type": "markdown",
     "metadata": {},
     "source": [
      "![](files/images/lai_uk_movie.gif)"
     ]
    },
    {
     "cell_type": "heading",
     "level": 2,
     "metadata": {},
     "source": [
      "5.2 Interpolation"
     ]
    },
    {
     "cell_type": "markdown",
     "metadata": {},
     "source": [
      "So, we can load the data we want from multiple MODIS hdf files that we have downloaded from the NASA server into a 3D masked numpy array, with a country boundary mask (projected int the raster data coordinate system) from a vector dataset.\n",
      "\n",
      "Let's start to explore the data then.\n",
      "\n",
      "You should have an array of LAI for Ireland:"
     ]
    },
    {
     "cell_type": "code",
     "collapsed": false,
     "input": [
      "type(lai['Lai_1km'])"
     ],
     "language": "python",
     "metadata": {},
     "outputs": [
      {
       "metadata": {},
       "output_type": "pyout",
       "prompt_number": 20,
       "text": [
        "numpy.ma.core.MaskedArray"
       ]
      }
     ],
     "prompt_number": 20
    },
    {
     "cell_type": "markdown",
     "metadata": {},
     "source": [
      "Let's plot the LAI for some given pixels.\n",
      "\n",
      "First, we might like to identify which pixels actually have any data.\n",
      "\n",
      "A convenient function for this would be `np.where` that returns the indices of items that are `True`.\n",
      "\n",
      "Since the data mask is `False` for good data, we take the complement `~` so that good data are `True:"
     ]
    },
    {
     "cell_type": "code",
     "collapsed": false,
     "input": [
      "data = lai['Lai_1km']\n",
      "np.where(~data.mask)"
     ],
     "language": "python",
     "metadata": {},
     "outputs": [
      {
       "metadata": {},
       "output_type": "pyout",
       "prompt_number": 21,
       "text": [
        "(array([ 3,  3,  3, ..., 39, 39, 39]),\n",
        " array([ 874,  876,  877, ..., 1020, 1020, 1023]),\n",
        " array([504, 567, 505, ..., 508, 509, 473]))"
       ]
      }
     ],
     "prompt_number": 21
    },
    {
     "cell_type": "markdown",
     "metadata": {},
     "source": [
      "An example good pixel this is (3,877,505). Let's look at this for all time periods:"
     ]
    },
    {
     "cell_type": "code",
     "collapsed": false,
     "input": [
      "data = lai['Lai_1km']\n",
      "\n",
      "r = 877\n",
      "c = 505\n",
      "\n",
      "pixel = data[:,r,c]\n",
      "\n",
      "# plot red stars at the data points\n",
      "plt.plot(np.arange(len(pixel))*8,pixel,'r*')\n",
      "# plot a black (k) dashed line (--)\n",
      "plt.plot(np.arange(len(pixel))*8,pixel,'k--')\n",
      "plt.xlabel('doy')\n",
      "plt.ylabel('LAI')\n",
      "plt.title('pixel %03d %03d'%(r,c))"
     ],
     "language": "python",
     "metadata": {},
     "outputs": [
      {
       "metadata": {},
       "output_type": "pyout",
       "prompt_number": 22,
       "text": [
        "<matplotlib.text.Text at 0x16e58150>"
       ]
      },
      {
       "metadata": {},
       "output_type": "display_data",
       "png": "[encoded data removed]",
       "text": [
        "<matplotlib.figure.Figure at 0x16e2f690>"
       ]
      }
     ],
     "prompt_number": 22
    },
    {
     "cell_type": "markdown",
     "metadata": {},
     "source": [
      "The data follow the trend of what we might expect for LAI development, but they are clearly a little noisy.\n",
      "\n",
      "We also have access to uncertainty information (standard deviation):"
     ]
    },
    {
     "cell_type": "code",
     "collapsed": false,
     "input": [
      "# copy the data in case we change it any\n",
      "\n",
      "data = lai['Lai_1km'].copy()\n",
      "sd   = lai['LaiStdDev_1km'].copy()\n",
      "\n",
      "r = 877\n",
      "c = 505\n",
      "\n",
      "pixel    = data[:,r,c]\n",
      "pixel_sd =   sd[:,r,c]\n",
      "\n",
      "x = np.arange(len(pixel))*8\n",
      "\n",
      "# plot red stars at the data points\n",
      "plt.plot(x,pixel,'r*')\n",
      "# plot a black (k) dashed line (--)\n",
      "plt.plot(x,pixel,'k--')\n",
      "# plot error bars:\n",
      "# 1.96 because that is the 95% confidence interval\n",
      "plt.errorbar(x,pixel,yerr=pixel_sd*1.96)\n",
      "plt.xlabel('doy')\n",
      "plt.ylabel('LAI')\n",
      "plt.title('pixel %03d %03d'%(r,c))"
     ],
     "language": "python",
     "metadata": {},
     "outputs": [
      {
       "metadata": {},
       "output_type": "pyout",
       "prompt_number": 24,
       "text": [
        "<matplotlib.text.Text at 0xcaba190>"
       ]
      },
      {
       "metadata": {},
       "output_type": "display_data",
       "png": "[encoded data removed]",
       "text": [
        "<matplotlib.figure.Figure at 0xcace8d0>"
       ]
      }
     ],
     "prompt_number": 24
    },
    {
     "cell_type": "markdown",
     "metadata": {},
     "source": [
      "We would generally expect LAI to be quite smoothly varying over time. Visualising the data with 95% confidence intervals is quite useful as we can now 'imagine' some smooth line that would generally go within these bounds.\n",
      "\n",
      "Some of the uncertainty estimates are really rather small though, which are probably not reliable.\n",
      "\n",
      "Let's inflate them:\n",
      "\n"
     ]
    },
    {
     "cell_type": "code",
     "collapsed": false,
     "input": [
      "\n",
      "data = lai['Lai_1km'].copy()\n",
      "sd   = lai['LaiStdDev_1km'].copy()\n",
      "\n",
      "r = 877\n",
      "c = 505\n",
      "\n",
      "pixel    = data[:,r,c]\n",
      "pixel_sd =   sd[:,r,c]\n",
      "# threshold\n",
      "thresh = 0.1\n",
      "pixel_sd[pixel_sd<thresh] = thresh\n",
      "\n",
      "x = np.arange(len(pixel))*8\n",
      "\n",
      "# plot red stars at the data points\n",
      "plt.plot(x,pixel,'r*')\n",
      "# plot a black (k) dashed line (--)\n",
      "plt.plot(x,pixel,'k--')\n",
      "# plot error bars:\n",
      "# 1.96 because that is the 95% confidence interval\n",
      "plt.errorbar(x,pixel,yerr=pixel_sd*1.96)\n",
      "plt.xlabel('doy')\n",
      "plt.ylabel('LAI')\n",
      "plt.title('pixel %03d %03d'%(r,c))"
     ],
     "language": "python",
     "metadata": {},
     "outputs": [
      {
       "metadata": {},
       "output_type": "pyout",
       "prompt_number": 26,
       "text": [
        "<matplotlib.text.Text at 0x100a29d0>"
       ]
      },
      {
       "metadata": {},
       "output_type": "display_data",
       "png": "[encoded data removed]",
       "text": [
        "<matplotlib.figure.Figure at 0x4a38ba90>"
       ]
      }
     ],
     "prompt_number": 26
    },
    {
     "cell_type": "markdown",
     "metadata": {},
     "source": [
      "This is perhaps a bit more realistic ..."
     ]
    },
    {
     "cell_type": "code",
     "collapsed": false,
     "input": [],
     "language": "python",
     "metadata": {},
     "outputs": []
    }
   ],
   "metadata": {}
  }
 ]
}