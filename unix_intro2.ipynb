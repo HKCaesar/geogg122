{
 "metadata": {
  "name": "unix_intro2"
 },
 "nbformat": 3,
 "nbformat_minor": 0,
 "worksheets": [
  {
   "cells": [
    {
     "cell_type": "heading",
     "level": 1,
     "metadata": {},
     "source": [
      "Making and breaking things in Unix"
     ]
    },
    {
     "cell_type": "heading",
     "level": 3,
     "metadata": {},
     "source": [
      "In this section"
     ]
    },
    {
     "cell_type": "markdown",
     "metadata": {},
     "source": [
      "In this section, you will be been introduced to ....\n",
      "\n",
      "You should have an understanding of:\n",
      "\n",
      "\n",
      "If you run through this exercise multiple times, you will probably want to delete the directory `~/Data/foo` and its contents before starting:"
     ]
    },
    {
     "cell_type": "code",
     "collapsed": false,
     "input": [
      "rm -rf ~/Data/foo"
     ],
     "language": "python",
     "metadata": {},
     "outputs": [],
     "prompt_number": 1
    },
    {
     "cell_type": "heading",
     "level": 2,
     "metadata": {},
     "source": [
      "Making and removing directories"
     ]
    },
    {
     "cell_type": "heading",
     "level": 4,
     "metadata": {},
     "source": [
      "mkdir - make directory"
     ]
    },
    {
     "cell_type": "markdown",
     "metadata": {},
     "source": [
      "The command `mkdir` is used to create ('make') a directory. You will want to do this to organise your files (e.g. put all of the files for a practical in one place). \n",
      "\n",
      "In the unix system you have here, there is (should be) a data directory (called `Data` or `DATA`). This is a large storage disk that you can use to put large exercises and data. Note that this disk is not so regularly backed up as your home directory, but it is much larger (and does not have a quota, as your home area does).\n",
      "\n",
      "Lets first move to the data directory:"
     ]
    },
    {
     "cell_type": "code",
     "collapsed": false,
     "input": [
      "cd ~/Data"
     ],
     "language": "python",
     "metadata": {},
     "outputs": [
      {
       "output_type": "stream",
       "stream": "stdout",
       "text": [
        "/Users/plewis/Data"
       ]
      },
      {
       "output_type": "stream",
       "stream": "stdout",
       "text": [
        "\n"
       ]
      }
     ],
     "prompt_number": 2
    },
    {
     "cell_type": "markdown",
     "metadata": {},
     "source": [
      "and check where we are:"
     ]
    },
    {
     "cell_type": "code",
     "collapsed": false,
     "input": [
      "pwd"
     ],
     "language": "python",
     "metadata": {},
     "outputs": [
      {
       "output_type": "pyout",
       "prompt_number": 3,
       "text": [
        "u'/Users/plewis/Data'"
       ]
      }
     ],
     "prompt_number": 3
    },
    {
     "cell_type": "markdown",
     "metadata": {},
     "source": [
      "Now let's create a directory that we might call `foo`, and move (i.e. change directory) into it:"
     ]
    },
    {
     "cell_type": "code",
     "collapsed": false,
     "input": [
      "mkdir foo"
     ],
     "language": "python",
     "metadata": {},
     "outputs": [],
     "prompt_number": 4
    },
    {
     "cell_type": "code",
     "collapsed": false,
     "input": [
      "cd foo"
     ],
     "language": "python",
     "metadata": {},
     "outputs": [
      {
       "output_type": "stream",
       "stream": "stdout",
       "text": [
        "/Users/plewis/Data/foo"
       ]
      },
      {
       "output_type": "stream",
       "stream": "stdout",
       "text": [
        "\n"
       ]
      }
     ],
     "prompt_number": 5
    },
    {
     "cell_type": "markdown",
     "metadata": {},
     "source": [
      "or alternatively, to go straight there:"
     ]
    },
    {
     "cell_type": "code",
     "collapsed": false,
     "input": [
      "cd ~/Data/foo"
     ],
     "language": "python",
     "metadata": {},
     "outputs": [
      {
       "output_type": "stream",
       "stream": "stdout",
       "text": [
        "/Users/plewis/Data/foo\n"
       ]
      }
     ],
     "prompt_number": 6
    },
    {
     "cell_type": "code",
     "collapsed": false,
     "input": [
      "ls"
     ],
     "language": "python",
     "metadata": {},
     "outputs": [],
     "prompt_number": 7
    },
    {
     "cell_type": "markdown",
     "metadata": {},
     "source": [
      "There should be no files in this new directory, so `ls` will tell us that.\n",
      "\n",
      "It is instructive to see what happens if we try to create a directory that already exists:"
     ]
    },
    {
     "cell_type": "code",
     "collapsed": false,
     "input": [
      "mkdir ~/Data/foo"
     ],
     "language": "python",
     "metadata": {},
     "outputs": [
      {
       "output_type": "stream",
       "stream": "stdout",
       "text": [
        "mkdir: /Users/plewis/Data/foo: File exists\r\n"
       ]
      }
     ],
     "prompt_number": 8
    },
    {
     "cell_type": "markdown",
     "metadata": {},
     "source": [
      "So, the command *complains* that the file already exists.\n",
      "\n",
      "If we want to avoid this behaviour and create it is it doesn't exist or just leave it if it already does, we can use the *command line option* `-p` for `mkdir`:"
     ]
    },
    {
     "cell_type": "code",
     "collapsed": false,
     "input": [
      "mkdir -p ~/Data/foo"
     ],
     "language": "python",
     "metadata": {},
     "outputs": [],
     "prompt_number": 9
    },
    {
     "cell_type": "markdown",
     "metadata": {},
     "source": [
      "Command line options (that are normally preceeded by a `-` character or `--` in some cases) change the behaviour of a command."
     ]
    },
    {
     "cell_type": "heading",
     "level": 4,
     "metadata": {},
     "source": [
      "rmdir - remove directory"
     ]
    },
    {
     "cell_type": "markdown",
     "metadata": {},
     "source": [
      "Now suppose we don't want the directory any more. \n",
      "\n",
      "To remove an *empty* directory, we use the command `rmdir` (remove directory).\n",
      "\n",
      "Its not a good idea to try to remove the directory we are in, so let's `cd` home first:"
     ]
    },
    {
     "cell_type": "code",
     "collapsed": false,
     "input": [
      "cd ~"
     ],
     "language": "python",
     "metadata": {},
     "outputs": [
      {
       "output_type": "stream",
       "stream": "stdout",
       "text": [
        "/Users/plewis"
       ]
      },
      {
       "output_type": "stream",
       "stream": "stdout",
       "text": [
        "\n"
       ]
      }
     ],
     "prompt_number": 10
    },
    {
     "cell_type": "code",
     "collapsed": false,
     "input": [
      "rmdir ~/Data/foo"
     ],
     "language": "python",
     "metadata": {},
     "outputs": [],
     "prompt_number": 11
    },
    {
     "cell_type": "code",
     "collapsed": false,
     "input": [
      "ls ~/Data/"
     ],
     "language": "python",
     "metadata": {},
     "outputs": [],
     "prompt_number": 12
    },
    {
     "cell_type": "markdown",
     "metadata": {},
     "source": [
      "Using the command `ls` we should be able to confirm that the directory has gone."
     ]
    },
    {
     "cell_type": "markdown",
     "metadata": {},
     "source": [
      "Again, it is instructive to see what happens if things 'go wrong', so let's create a directory that is *not* empty, and try to use `rmdir` to delete it:"
     ]
    },
    {
     "cell_type": "code",
     "collapsed": false,
     "input": [
      "mkdir -p ~/Data/foo/bar"
     ],
     "language": "python",
     "metadata": {},
     "outputs": [],
     "prompt_number": 13
    },
    {
     "cell_type": "markdown",
     "metadata": {},
     "source": [
      "We can see that another use of the `-p` option in `mkdir` is to allow us to create a hierarchy of directories at one shot, so now, in the directory `~/Data/foo` we have a sub-directory `~/Data/foo/bar':"
     ]
    },
    {
     "cell_type": "code",
     "collapsed": false,
     "input": [
      "ls ~/Data/foo"
     ],
     "language": "python",
     "metadata": {},
     "outputs": [
      {
       "output_type": "stream",
       "stream": "stdout",
       "text": [
        "\u001b[34mbar\u001b[m\u001b[m/\r\n"
       ]
      }
     ],
     "prompt_number": 14
    },
    {
     "cell_type": "code",
     "collapsed": false,
     "input": [
      "rmdir ~/Data/foo"
     ],
     "language": "python",
     "metadata": {},
     "outputs": [
      {
       "output_type": "stream",
       "stream": "stdout",
       "text": [
        "rmdir: /Users/plewis/Data/foo: Directory not empty\r\n"
       ]
      }
     ],
     "prompt_number": 15
    },
    {
     "cell_type": "markdown",
     "metadata": {},
     "source": [
      "So, `rmdir` complains that the directory is not empty, and so doesn't delete it. We will see below that we use another command in this case."
     ]
    },
    {
     "cell_type": "heading",
     "level": 2,
     "metadata": {},
     "source": [
      "Wildcards"
     ]
    },
    {
     "cell_type": "markdown",
     "metadata": {},
     "source": [
      "Very often, we don't want to have to refer to the *full* file or directory name. Equally, we might often want to refer to multiple filenames or directories.\n",
      "\n",
      "To do this in unix, we use *wildcards*. The wildcard symbols are: `*` and `?`.\n",
      "\n",
      "`*` is interpreted as *zero or more characters*\n",
      "`?` is a single (wildcard) character\n",
      "\n",
      "We use these to form *patterns* of filenames.\n",
      "\n",
      "So, if we wanted to get a listing of all of the files in the directory `~plewis/msc` that end with the suffix `.dat` we would type:"
     ]
    },
    {
     "cell_type": "code",
     "collapsed": false,
     "input": [
      "ls ~plewis/msc/*.dat"
     ],
     "language": "python",
     "metadata": {},
     "outputs": [
      {
       "output_type": "stream",
       "stream": "stdout",
       "text": [
        "/Users/plewis/msc/atm.dat         /Users/plewis/msc/helloWorld.dat\r\n",
        "/Users/plewis/msc/country.dat     /Users/plewis/msc/landsat.dat\r\n",
        "/Users/plewis/msc/dem.dat         /Users/plewis/msc/listing.dat\r\n",
        "/Users/plewis/msc/forest.dat      /Users/plewis/msc/max.dat\r\n",
        "/Users/plewis/msc/head.dat        /Users/plewis/msc/points.dat\r\n",
        "/Users/plewis/msc/header.dat      /Users/plewis/msc/popden.dat\r\n",
        "/Users/plewis/msc/hello.dat\r\n"
       ]
      }
     ],
     "prompt_number": 16
    },
    {
     "cell_type": "markdown",
     "metadata": {},
     "source": [
      "If we wanted only files that had three characters, then the suffix `.dat`, we would type:"
     ]
    },
    {
     "cell_type": "code",
     "collapsed": false,
     "input": [
      "ls ~plewis/msc/???.dat"
     ],
     "language": "python",
     "metadata": {},
     "outputs": [
      {
       "output_type": "stream",
       "stream": "stdout",
       "text": [
        "/Users/plewis/msc/atm.dat  /Users/plewis/msc/max.dat\r\n",
        "/Users/plewis/msc/dem.dat\r\n"
       ]
      }
     ],
     "prompt_number": 17
    },
    {
     "cell_type": "markdown",
     "metadata": {},
     "source": [
      "You can use these ideas in combination to refine what it is that you want to refer to, e.g.:"
     ]
    },
    {
     "cell_type": "code",
     "collapsed": false,
     "input": [
      "ls ~plewis/*/l*.dat"
     ],
     "language": "python",
     "metadata": {},
     "outputs": [
      {
       "output_type": "stream",
       "stream": "stdout",
       "text": [
        "/Users/plewis/msc/landsat.dat  /Users/plewis/msc/listing.dat\r\n"
       ]
      }
     ],
     "prompt_number": 18
    },
    {
     "cell_type": "code",
     "collapsed": false,
     "input": [
      "ls ~plewis/m??/l*n?.dat"
     ],
     "language": "python",
     "metadata": {},
     "outputs": [
      {
       "output_type": "stream",
       "stream": "stdout",
       "text": [
        "/Users/plewis/msc/listing.dat\r\n"
       ]
      }
     ],
     "prompt_number": 19
    },
    {
     "cell_type": "heading",
     "level": 2,
     "metadata": {},
     "source": [
      "Copying, moving and deleting files"
     ]
    },
    {
     "cell_type": "heading",
     "level": 4,
     "metadata": {},
     "source": [
      "cp - copy"
     ]
    },
    {
     "cell_type": "markdown",
     "metadata": {},
     "source": [
      "The command for copying a file is `cp`, e.g.:"
     ]
    },
    {
     "cell_type": "code",
     "collapsed": false,
     "input": [
      "mkdir -p ~/Data/foo"
     ],
     "language": "python",
     "metadata": {},
     "outputs": [],
     "prompt_number": 20
    },
    {
     "cell_type": "code",
     "collapsed": false,
     "input": [
      "cp -n ~plewis/msc/hello.dat ~/Data/foo"
     ],
     "language": "python",
     "metadata": {},
     "outputs": [],
     "prompt_number": 24
    },
    {
     "cell_type": "markdown",
     "metadata": {},
     "source": [
      "First, we created the directory `~/Data/foo`, then we used the command `cp` to copy a file *from* `~plewis/msc/hello.dat` *to* the directory `~/Data/foo`.\n",
      "\n",
      "*Usually* you will be able to simply type:\n",
      "\n",
      "`cp ~plewis/msc/hello.dat ~/Data/foo`\n",
      "\n",
      "i.e. without the `-n` option we have put here, but on some systems / setups you will find that `cp` miught complain if one or more of the files you are trying to copy to already exist (this is a safety mechanism to stop you overwriting something you might not have meant to!).\n",
      "\n",
      "The `-n` option makes `cp` copy the files, but not overwrite an existing file.\n",
      "\n",
      "Note that if `cp` detects an attempt to copy a file to itself, the copy will fail."
     ]
    },
    {
     "cell_type": "markdown",
     "metadata": {},
     "source": [
      "**Check that the file has been correctly copied using an appropriate command.** \n",
      "\n",
      "Note the *whitespace* between the command `cp` and the two *arguments* `~plewis/msc/hello.dat` and `~/Data/foo`, as well as the use of the `-n` option here.\n",
      "\n",
      "A common mistake people make when first using this command is not giving two (actually, two or more) arguments, but if you think about what information you would need to give to the computer to copy a file from somewhere to somewhere else, you will soon learn that you need at least two arguments.\n",
      "\n",
      "We can copy more than one file at a time using wildcard characters. \n",
      "\n",
      "To explore this, lets get a listing of all of the files that end with `.dat` but start with `h` in the directory `~plewis/msc`:"
     ]
    },
    {
     "cell_type": "code",
     "collapsed": false,
     "input": [
      "ls ~plewis/msc/h*.dat"
     ],
     "language": "python",
     "metadata": {},
     "outputs": [
      {
       "output_type": "stream",
       "stream": "stdout",
       "text": [
        "/Users/plewis/msc/head.dat        /Users/plewis/msc/hello.dat\r\n",
        "/Users/plewis/msc/header.dat      /Users/plewis/msc/helloWorld.dat\r\n"
       ]
      }
     ],
     "prompt_number": 25
    },
    {
     "cell_type": "markdown",
     "metadata": {},
     "source": [
      "To copy multiple files to the same place then, we could simply list the names:"
     ]
    },
    {
     "cell_type": "code",
     "collapsed": false,
     "input": [
      "cp -n ~plewis/msc/hello.dat ~plewis/msc/helloWorld.dat ~/Data/foo"
     ],
     "language": "python",
     "metadata": {},
     "outputs": [],
     "prompt_number": 29
    },
    {
     "cell_type": "markdown",
     "metadata": {},
     "source": [
      "In this case, the command has three arguments. The final argument (`~/Data/foo`) is interpreted as the place we want to copy the files *to*, and everything before that is a list of files we want to copy there\n",
      "\n",
      "If we knew we'd want all of the files `h*.dat`, then we can more simply type:"
     ]
    },
    {
     "cell_type": "code",
     "collapsed": false,
     "input": [
      "cp -n ~plewis/msc/h*.dat ~/Data/foo"
     ],
     "language": "python",
     "metadata": {},
     "outputs": [],
     "prompt_number": 30
    },
    {
     "cell_type": "markdown",
     "metadata": {},
     "source": [
      "Again, after you have done this, check to see what files are in the directory `~/Data/foo`."
     ]
    },
    {
     "cell_type": "code",
     "collapsed": false,
     "input": [
      "ls ~/Data/foo"
     ],
     "language": "python",
     "metadata": {},
     "outputs": [
      {
       "output_type": "stream",
       "stream": "stdout",
       "text": [
        "\u001b[34mbar\u001b[m\u001b[m/            head.dat        header.dat      hello.dat       helloWorld.dat\r\n"
       ]
      }
     ],
     "prompt_number": 31
    },
    {
     "cell_type": "heading",
     "level": 4,
     "metadata": {},
     "source": [
      "rm - remove"
     ]
    },
    {
     "cell_type": "markdown",
     "metadata": {},
     "source": [
      "The command `rm` is used to remove (delete) a file. For new users, we normally set the default behaviour of this (through something called an *alias*) to `rm -i` which then prompts the user about whether they *really* wanted to delete that file.\n",
      "\n",
      "The opposite of this (i.e. force a delete) is `rm -f` that we will illustrate here."
     ]
    },
    {
     "cell_type": "code",
     "collapsed": false,
     "input": [
      "rm -f ~/Data/foo/header.dat"
     ],
     "language": "python",
     "metadata": {},
     "outputs": [],
     "prompt_number": 32
    },
    {
     "cell_type": "code",
     "collapsed": false,
     "input": [
      "ls ~/Data/foo"
     ],
     "language": "python",
     "metadata": {},
     "outputs": [
      {
       "output_type": "stream",
       "stream": "stdout",
       "text": [
        "\u001b[34mbar\u001b[m\u001b[m/            head.dat        hello.dat       helloWorld.dat\r\n"
       ]
      }
     ],
     "prompt_number": 33
    },
    {
     "cell_type": "markdown",
     "metadata": {},
     "source": [
      "so we see the file has gone from that directory.\n",
      "\n",
      "Use `rm` and wildcards to delete all of the files in `~/Data/foo` that start with `hel` and end in `.dat`, and confirm that what you wanted to happen actually has."
     ]
    },
    {
     "cell_type": "code",
     "collapsed": false,
     "input": [
      "rm -f ~/Data/foo/hel*.dat"
     ],
     "language": "python",
     "metadata": {},
     "outputs": [],
     "prompt_number": 34
    },
    {
     "cell_type": "code",
     "collapsed": false,
     "input": [
      "ls ~/Data/foo"
     ],
     "language": "python",
     "metadata": {},
     "outputs": [
      {
       "output_type": "stream",
       "stream": "stdout",
       "text": [
        "\u001b[34mbar\u001b[m\u001b[m/      head.dat\r\n"
       ]
      }
     ],
     "prompt_number": 35
    },
    {
     "cell_type": "markdown",
     "metadata": {},
     "source": [
      "You can use the option `-R` to make `rm` do a hierarchical ('recursive') deletion, e.g. delete everything from some directory downwards.\n",
      "\n",
      "This can be rather a dangerous command to use, as you might (if you are not careful) delete everything on your system, but of course it is of great practical use."
     ]
    },
    {
     "cell_type": "code",
     "collapsed": false,
     "input": [],
     "language": "python",
     "metadata": {},
     "outputs": []
    },
    {
     "cell_type": "heading",
     "level": 4,
     "metadata": {},
     "source": [
      "mv - move"
     ]
    },
    {
     "cell_type": "code",
     "collapsed": false,
     "input": [],
     "language": "python",
     "metadata": {},
     "outputs": []
    }
   ],
   "metadata": {}
  }
 ]
}