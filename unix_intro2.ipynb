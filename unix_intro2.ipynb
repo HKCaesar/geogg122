{
 "metadata": {
  "name": "unix_intro2"
 },
 "nbformat": 3,
 "nbformat_minor": 0,
 "worksheets": [
  {
   "cells": [
    {
     "cell_type": "markdown",
     "metadata": {},
     "source": [
      "![](https://raw.github.com/profLewis/geogg122/master/ucl_logo.png)"
     ]
    },
    {
     "cell_type": "markdown",
     "metadata": {},
     "source": [
      "<table border=\"0\">\n",
      "<tr>\n",
      "  <td>[<a href=\"http://nbviewer.ipython.org/urls/raw.github.com/profLewis/geogg122/master/unix_intro_answers.ipynb\">Prev</a>]\n",
      "  <td>[<a href=\"http://nbviewer.ipython.org/urls/raw.github.com/profLewis/geogg122/master/index.ipynb\">Home</a>]\n",
      "  <td>[<a href=\"https://github.com/profLewis/geogg122\">GitHub</a>]\n",
      "  <td>[<a href=\"http://nbviewer.ipython.org/urls/raw.github.com/profLewis/geogg122/master/unix_intro3.ipynb\">Next</a>]\n",
      "</table>"
     ]
    },
    {
     "cell_type": "heading",
     "level": 1,
     "metadata": {},
     "source": [
      "Making and breaking things in Unix"
     ]
    },
    {
     "cell_type": "heading",
     "level": 3,
     "metadata": {},
     "source": [
      "In this section"
     ]
    },
    {
     "cell_type": "markdown",
     "metadata": {},
     "source": [
      "In this section, you will be been introduced to ....\n",
      "\n",
      "You should have an understanding of:\n",
      "\n",
      "\n",
      "If you run through this exercise multiple times, you will probably want to delete the directory `~/Data/foo` and its contents before starting:"
     ]
    },
    {
     "cell_type": "code",
     "collapsed": false,
     "input": [
      "rm -rf ~/Data/foo"
     ],
     "language": "python",
     "metadata": {},
     "outputs": [],
     "prompt_number": 1
    },
    {
     "cell_type": "heading",
     "level": 2,
     "metadata": {},
     "source": [
      "Making and removing directories"
     ]
    },
    {
     "cell_type": "heading",
     "level": 4,
     "metadata": {},
     "source": [
      "mkdir - make directory"
     ]
    },
    {
     "cell_type": "markdown",
     "metadata": {},
     "source": [
      "The command `mkdir` is used to create ('make') a directory. You will want to do this to organise your files (e.g. put all of the files for a practical in one place). \n",
      "\n",
      "In the unix system you have here, there is (should be) a data directory (called `Data` or `DATA`). This is a large storage disk that you can use to put large exercises and data. Note that this disk is not so regularly backed up as your home directory, but it is much larger (and does not have a quota, as your home area does).\n",
      "\n",
      "Lets first move to the data directory:"
     ]
    },
    {
     "cell_type": "code",
     "collapsed": false,
     "input": [
      "cd ~/Data"
     ],
     "language": "python",
     "metadata": {},
     "outputs": [
      {
       "output_type": "stream",
       "stream": "stdout",
       "text": [
        "/Users/plewis/Data"
       ]
      },
      {
       "output_type": "stream",
       "stream": "stdout",
       "text": [
        "\n"
       ]
      }
     ],
     "prompt_number": 2
    },
    {
     "cell_type": "markdown",
     "metadata": {},
     "source": [
      "and check where we are:"
     ]
    },
    {
     "cell_type": "code",
     "collapsed": false,
     "input": [
      "pwd"
     ],
     "language": "python",
     "metadata": {},
     "outputs": [
      {
       "output_type": "pyout",
       "prompt_number": 3,
       "text": [
        "u'/Users/plewis/Data'"
       ]
      }
     ],
     "prompt_number": 3
    },
    {
     "cell_type": "markdown",
     "metadata": {},
     "source": [
      "Now let's create a directory that we might call `foo`, and move (i.e. change directory) into it:"
     ]
    },
    {
     "cell_type": "code",
     "collapsed": false,
     "input": [
      "mkdir foo"
     ],
     "language": "python",
     "metadata": {},
     "outputs": [],
     "prompt_number": 4
    },
    {
     "cell_type": "code",
     "collapsed": false,
     "input": [
      "cd foo"
     ],
     "language": "python",
     "metadata": {},
     "outputs": [
      {
       "output_type": "stream",
       "stream": "stdout",
       "text": [
        "/Users/plewis/Data/foo"
       ]
      },
      {
       "output_type": "stream",
       "stream": "stdout",
       "text": [
        "\n"
       ]
      }
     ],
     "prompt_number": 5
    },
    {
     "cell_type": "markdown",
     "metadata": {},
     "source": [
      "or alternatively, to go straight there:"
     ]
    },
    {
     "cell_type": "code",
     "collapsed": false,
     "input": [
      "cd ~/Data/foo"
     ],
     "language": "python",
     "metadata": {},
     "outputs": [
      {
       "output_type": "stream",
       "stream": "stdout",
       "text": [
        "/Users/plewis/Data/foo\n"
       ]
      }
     ],
     "prompt_number": 6
    },
    {
     "cell_type": "code",
     "collapsed": false,
     "input": [
      "ls"
     ],
     "language": "python",
     "metadata": {},
     "outputs": [],
     "prompt_number": 7
    },
    {
     "cell_type": "markdown",
     "metadata": {},
     "source": [
      "There should be no files in this new directory, so `ls` will tell us that.\n",
      "\n",
      "It is instructive to see what happens if we try to create a directory that already exists:"
     ]
    },
    {
     "cell_type": "code",
     "collapsed": false,
     "input": [
      "mkdir ~/Data/foo"
     ],
     "language": "python",
     "metadata": {},
     "outputs": [
      {
       "output_type": "stream",
       "stream": "stdout",
       "text": [
        "mkdir: /Users/plewis/Data/foo: File exists\r\n"
       ]
      }
     ],
     "prompt_number": 8
    },
    {
     "cell_type": "markdown",
     "metadata": {},
     "source": [
      "So, the command *complains* that the file already exists.\n",
      "\n",
      "If we want to avoid this behaviour and create it is it doesn't exist or just leave it if it already does, we can use the *command line option* `-p` for `mkdir`:"
     ]
    },
    {
     "cell_type": "code",
     "collapsed": false,
     "input": [
      "mkdir -p ~/Data/foo"
     ],
     "language": "python",
     "metadata": {},
     "outputs": [],
     "prompt_number": 9
    },
    {
     "cell_type": "markdown",
     "metadata": {},
     "source": [
      "Command line options (that are normally preceeded by a `-` character or `--` in some cases) change the behaviour of a command."
     ]
    },
    {
     "cell_type": "heading",
     "level": 4,
     "metadata": {},
     "source": [
      "rmdir - remove directory"
     ]
    },
    {
     "cell_type": "markdown",
     "metadata": {},
     "source": [
      "Now suppose we don't want the directory any more. \n",
      "\n",
      "To remove an *empty* directory, we use the command `rmdir` (remove directory).\n",
      "\n",
      "Its not a good idea to try to remove the directory we are in, so let's `cd` home first:"
     ]
    },
    {
     "cell_type": "code",
     "collapsed": false,
     "input": [
      "cd ~"
     ],
     "language": "python",
     "metadata": {},
     "outputs": [
      {
       "output_type": "stream",
       "stream": "stdout",
       "text": [
        "/Users/plewis"
       ]
      },
      {
       "output_type": "stream",
       "stream": "stdout",
       "text": [
        "\n"
       ]
      }
     ],
     "prompt_number": 10
    },
    {
     "cell_type": "code",
     "collapsed": false,
     "input": [
      "rmdir ~/Data/foo"
     ],
     "language": "python",
     "metadata": {},
     "outputs": [],
     "prompt_number": 11
    },
    {
     "cell_type": "code",
     "collapsed": false,
     "input": [
      "ls ~/Data/"
     ],
     "language": "python",
     "metadata": {},
     "outputs": [
      {
       "output_type": "stream",
       "stream": "stdout",
       "text": [
        "\u001b[34mbar\u001b[m\u001b[m/\r\n"
       ]
      }
     ],
     "prompt_number": 12
    },
    {
     "cell_type": "markdown",
     "metadata": {},
     "source": [
      "Using the command `ls` we should be able to confirm that the directory has gone."
     ]
    },
    {
     "cell_type": "markdown",
     "metadata": {},
     "source": [
      "Again, it is instructive to see what happens if things 'go wrong', so let's create a directory that is *not* empty, and try to use `rmdir` to delete it:"
     ]
    },
    {
     "cell_type": "code",
     "collapsed": false,
     "input": [
      "mkdir -p ~/Data/foo/bar"
     ],
     "language": "python",
     "metadata": {},
     "outputs": [],
     "prompt_number": 13
    },
    {
     "cell_type": "markdown",
     "metadata": {},
     "source": [
      "We can see that another use of the `-p` option in `mkdir` is to allow us to create a hierarchy of directories at one shot, so now, in the directory `~/Data/foo` we have a sub-directory `~/Data/foo/bar':"
     ]
    },
    {
     "cell_type": "code",
     "collapsed": false,
     "input": [
      "ls ~/Data/foo"
     ],
     "language": "python",
     "metadata": {},
     "outputs": [
      {
       "output_type": "stream",
       "stream": "stdout",
       "text": [
        "\u001b[34mbar\u001b[m\u001b[m/\r\n"
       ]
      }
     ],
     "prompt_number": 14
    },
    {
     "cell_type": "code",
     "collapsed": false,
     "input": [
      "rmdir ~/Data/foo"
     ],
     "language": "python",
     "metadata": {},
     "outputs": [
      {
       "output_type": "stream",
       "stream": "stdout",
       "text": [
        "rmdir: /Users/plewis/Data/foo: Directory not empty\r\n"
       ]
      }
     ],
     "prompt_number": 15
    },
    {
     "cell_type": "markdown",
     "metadata": {},
     "source": [
      "So, `rmdir` complains that the directory is not empty, and so doesn't delete it. We will see below that we use another command in this case."
     ]
    },
    {
     "cell_type": "heading",
     "level": 2,
     "metadata": {},
     "source": [
      "Wildcards"
     ]
    },
    {
     "cell_type": "markdown",
     "metadata": {},
     "source": [
      "Very often, we don't want to have to refer to the *full* file or directory name. Equally, we might often want to refer to multiple filenames or directories.\n",
      "\n",
      "To do this in unix, we use *wildcards*. The wildcard symbols are: `*` and `?`.\n",
      "\n",
      "`*` is interpreted as *zero or more characters*\n",
      "`?` is a single (wildcard) character\n",
      "\n",
      "We use these to form *patterns* of filenames.\n",
      "\n",
      "So, if we wanted to get a listing of all of the files in the directory `~plewis/msc` that end with the suffix `.dat` we would type:"
     ]
    },
    {
     "cell_type": "code",
     "collapsed": false,
     "input": [
      "ls ~plewis/msc/*.dat"
     ],
     "language": "python",
     "metadata": {},
     "outputs": [
      {
       "output_type": "stream",
       "stream": "stdout",
       "text": [
        "/Users/plewis/msc/atm.dat         /Users/plewis/msc/helloWorld.dat\r\n",
        "/Users/plewis/msc/country.dat     /Users/plewis/msc/landsat.dat\r\n",
        "/Users/plewis/msc/dem.dat         /Users/plewis/msc/listing.dat\r\n",
        "/Users/plewis/msc/forest.dat      /Users/plewis/msc/max.dat\r\n",
        "/Users/plewis/msc/head.dat        /Users/plewis/msc/points.dat\r\n",
        "/Users/plewis/msc/header.dat      /Users/plewis/msc/popden.dat\r\n",
        "/Users/plewis/msc/hello.dat\r\n"
       ]
      }
     ],
     "prompt_number": 16
    },
    {
     "cell_type": "markdown",
     "metadata": {},
     "source": [
      "If we wanted only files that had three characters, then the suffix `.dat`, we would type:"
     ]
    },
    {
     "cell_type": "code",
     "collapsed": false,
     "input": [
      "ls ~plewis/msc/???.dat"
     ],
     "language": "python",
     "metadata": {},
     "outputs": [
      {
       "output_type": "stream",
       "stream": "stdout",
       "text": [
        "/Users/plewis/msc/atm.dat  /Users/plewis/msc/max.dat\r\n",
        "/Users/plewis/msc/dem.dat\r\n"
       ]
      }
     ],
     "prompt_number": 17
    },
    {
     "cell_type": "markdown",
     "metadata": {},
     "source": [
      "You can use these ideas in combination to refine what it is that you want to refer to, e.g.:"
     ]
    },
    {
     "cell_type": "code",
     "collapsed": false,
     "input": [
      "ls ~plewis/*/l*.dat"
     ],
     "language": "python",
     "metadata": {},
     "outputs": [
      {
       "output_type": "stream",
       "stream": "stdout",
       "text": [
        "/Users/plewis/msc/landsat.dat  /Users/plewis/msc/listing.dat\r\n"
       ]
      }
     ],
     "prompt_number": 18
    },
    {
     "cell_type": "code",
     "collapsed": false,
     "input": [
      "ls ~plewis/m??/l*n?.dat"
     ],
     "language": "python",
     "metadata": {},
     "outputs": [
      {
       "output_type": "stream",
       "stream": "stdout",
       "text": [
        "/Users/plewis/msc/listing.dat\r\n"
       ]
      }
     ],
     "prompt_number": 19
    },
    {
     "cell_type": "heading",
     "level": 2,
     "metadata": {},
     "source": [
      "Copying, moving and deleting files"
     ]
    },
    {
     "cell_type": "heading",
     "level": 4,
     "metadata": {},
     "source": [
      "cp - copy"
     ]
    },
    {
     "cell_type": "markdown",
     "metadata": {},
     "source": [
      "The command for copying a file is `cp`, e.g.:"
     ]
    },
    {
     "cell_type": "code",
     "collapsed": false,
     "input": [
      "mkdir -p ~/Data/foo"
     ],
     "language": "python",
     "metadata": {},
     "outputs": [],
     "prompt_number": 20
    },
    {
     "cell_type": "code",
     "collapsed": false,
     "input": [
      "cp -n ~plewis/msc/hello.dat ~/Data/foo"
     ],
     "language": "python",
     "metadata": {},
     "outputs": [],
     "prompt_number": 21
    },
    {
     "cell_type": "markdown",
     "metadata": {},
     "source": [
      "First, we created the directory `~/Data/foo`, then we used the command `cp` to copy a file *from* `~plewis/msc/hello.dat` *to* the directory `~/Data/foo`.\n",
      "\n",
      "*Usually* you will be able to simply type:\n",
      "\n",
      "`cp ~plewis/msc/hello.dat ~/Data/foo`\n",
      "\n",
      "i.e. without the `-n` option we have put here, but on some systems / setups you will find that `cp` might complain if one or more of the files you are trying to copy to already exist (this is a safety mechanism to stop you overwriting something you might not have meant to!).\n",
      "\n",
      "The `-n` option makes `cp` copy the files, but not overwrite an existing file.\n",
      "\n",
      "Note that if `cp` detects an attempt to copy a file to itself, the copy will fail."
     ]
    },
    {
     "cell_type": "markdown",
     "metadata": {},
     "source": [
      "**Check that the file has been correctly copied using an appropriate command.** \n",
      "\n",
      "Note the *whitespace* between the command `cp` and the two *arguments* `~plewis/msc/hello.dat` and `~/Data/foo`, as well as the use of the `-n` option here.\n",
      "\n",
      "A common mistake people make when first using this command is not giving two (actually, two or more) arguments, but if you think about what information you would need to give to the computer to copy a file from somewhere to somewhere else, you will soon learn that you need at least two arguments.\n",
      "\n",
      "We can copy more than one file at a time using wildcard characters. \n",
      "\n",
      "To explore this, lets get a listing of all of the files that end with `.dat` but start with `h` in the directory `~plewis/msc`:"
     ]
    },
    {
     "cell_type": "code",
     "collapsed": false,
     "input": [
      "ls ~plewis/msc/h*.dat"
     ],
     "language": "python",
     "metadata": {},
     "outputs": [
      {
       "output_type": "stream",
       "stream": "stdout",
       "text": [
        "/Users/plewis/msc/head.dat        /Users/plewis/msc/hello.dat\r\n",
        "/Users/plewis/msc/header.dat      /Users/plewis/msc/helloWorld.dat\r\n"
       ]
      }
     ],
     "prompt_number": 22
    },
    {
     "cell_type": "markdown",
     "metadata": {},
     "source": [
      "To copy multiple files to the same place then, we could simply list the names:"
     ]
    },
    {
     "cell_type": "code",
     "collapsed": false,
     "input": [
      "cp -n ~plewis/msc/hello.dat ~plewis/msc/helloWorld.dat ~/Data/foo"
     ],
     "language": "python",
     "metadata": {},
     "outputs": [],
     "prompt_number": 23
    },
    {
     "cell_type": "markdown",
     "metadata": {},
     "source": [
      "In this case, the command has three arguments. The final argument (`~/Data/foo`) is interpreted as the place we want to copy the files *to*, and everything before that is a list of files we want to copy there\n",
      "\n",
      "If we knew we'd want all of the files `h*.dat`, then we can more simply type:"
     ]
    },
    {
     "cell_type": "code",
     "collapsed": false,
     "input": [
      "cp -n ~plewis/msc/h*.dat ~/Data/foo"
     ],
     "language": "python",
     "metadata": {},
     "outputs": [],
     "prompt_number": 24
    },
    {
     "cell_type": "markdown",
     "metadata": {},
     "source": [
      "Again, after you have done this, check to see what files are in the directory `~/Data/foo`."
     ]
    },
    {
     "cell_type": "code",
     "collapsed": false,
     "input": [
      "ls ~/Data/foo"
     ],
     "language": "python",
     "metadata": {},
     "outputs": [
      {
       "output_type": "stream",
       "stream": "stdout",
       "text": [
        "\u001b[34mbar\u001b[m\u001b[m/            head.dat        header.dat      hello.dat       helloWorld.dat\r\n"
       ]
      }
     ],
     "prompt_number": 25
    },
    {
     "cell_type": "markdown",
     "metadata": {},
     "source": [
      "You can use the option `-R` to do a recursive copy, i.e. copy a directory and everything below it, e.g.:"
     ]
    },
    {
     "cell_type": "code",
     "collapsed": false,
     "input": [
      "mkdir -p ~/Data/testCp"
     ],
     "language": "python",
     "metadata": {},
     "outputs": [],
     "prompt_number": 56
    },
    {
     "cell_type": "code",
     "collapsed": false,
     "input": [
      "cp -R ~plewis/msc ~/Data/testCp"
     ],
     "language": "python",
     "metadata": {},
     "outputs": [],
     "prompt_number": 57
    },
    {
     "cell_type": "code",
     "collapsed": false,
     "input": [
      "ls ~/Data/testCp"
     ],
     "language": "python",
     "metadata": {},
     "outputs": [
      {
       "output_type": "stream",
       "stream": "stdout",
       "text": [
        "\u001b[34mmsc\u001b[m\u001b[m/\r\n"
       ]
      }
     ],
     "prompt_number": 58
    },
    {
     "cell_type": "code",
     "collapsed": false,
     "input": [
      "ls ~/Data/testCp/msc"
     ],
     "language": "python",
     "metadata": {},
     "outputs": [
      {
       "output_type": "stream",
       "stream": "stdout",
       "text": [
        "Datafile        dem.dat         hello.dat       max.dat         popden.dat\r\n",
        "b3.gif          forest.dat      helloWorld.dat  out.ras         unix\r\n",
        "chris.hips      head.dat        landsat.dat     plot1.py\r\n",
        "country.dat     header.dat      listing.dat     points.dat\r\n"
       ]
      }
     ],
     "prompt_number": 59
    },
    {
     "cell_type": "heading",
     "level": 4,
     "metadata": {},
     "source": [
      "rm - remove"
     ]
    },
    {
     "cell_type": "markdown",
     "metadata": {},
     "source": [
      "The command `rm` is used to remove (delete) a file. For new users, we normally set the default behaviour of this (through something called an *alias*) to `rm -i` which then prompts the user about whether they *really* wanted to delete that file.\n",
      "\n",
      "The opposite of this (i.e. force a delete) is `rm -f` that we will illustrate here."
     ]
    },
    {
     "cell_type": "code",
     "collapsed": false,
     "input": [
      "rm -f ~/Data/foo/header.dat"
     ],
     "language": "python",
     "metadata": {},
     "outputs": [],
     "prompt_number": 26
    },
    {
     "cell_type": "code",
     "collapsed": false,
     "input": [
      "ls ~/Data/foo"
     ],
     "language": "python",
     "metadata": {},
     "outputs": [
      {
       "output_type": "stream",
       "stream": "stdout",
       "text": [
        "\u001b[34mbar\u001b[m\u001b[m/            head.dat        hello.dat       helloWorld.dat\r\n"
       ]
      }
     ],
     "prompt_number": 27
    },
    {
     "cell_type": "markdown",
     "metadata": {},
     "source": [
      "so we see the file has gone from that directory.\n",
      "\n",
      "*Normally*, especially when you are just starting to use unix, you should probably avoid using the `-f` option to `rm`."
     ]
    },
    {
     "cell_type": "markdown",
     "metadata": {},
     "source": [
      "As an exercise, use `rm` and wildcards to delete all of the files in `~/Data/foo` that start with `hel` and end in `.dat`, and confirm that what you wanted to happen actually has."
     ]
    },
    {
     "cell_type": "code",
     "collapsed": false,
     "input": [
      "rm -f ~/Data/foo/hel*.dat"
     ],
     "language": "python",
     "metadata": {},
     "outputs": [],
     "prompt_number": 28
    },
    {
     "cell_type": "code",
     "collapsed": false,
     "input": [
      "ls ~/Data/foo"
     ],
     "language": "python",
     "metadata": {},
     "outputs": [
      {
       "output_type": "stream",
       "stream": "stdout",
       "text": [
        "\u001b[34mbar\u001b[m\u001b[m/      head.dat\r\n"
       ]
      }
     ],
     "prompt_number": 29
    },
    {
     "cell_type": "markdown",
     "metadata": {},
     "source": [
      "You can use the option `-R` to make `rm` do a hierarchical ('recursive') deletion, e.g. delete everything from some directory downwards.\n",
      "\n",
      "This can be rather a dangerous command to use, as you might (if you are not careful) delete everything on your system, but of course it is of great practical use.\n",
      "\n",
      "But we will use it here to delete the directory `~/Data/foo` and all of its contents."
     ]
    },
    {
     "cell_type": "code",
     "collapsed": false,
     "input": [
      "rm -Rf ~/Data/foo"
     ],
     "language": "python",
     "metadata": {},
     "outputs": [],
     "prompt_number": 30
    },
    {
     "cell_type": "code",
     "collapsed": false,
     "input": [
      "ls  ~/Data/"
     ],
     "language": "python",
     "metadata": {},
     "outputs": [
      {
       "output_type": "stream",
       "stream": "stdout",
       "text": [
        "\u001b[34mbar\u001b[m\u001b[m/\r\n"
       ]
      }
     ],
     "prompt_number": 31
    },
    {
     "cell_type": "markdown",
     "metadata": {},
     "source": [
      "so now its gone."
     ]
    },
    {
     "cell_type": "heading",
     "level": 4,
     "metadata": {},
     "source": [
      "mv - move"
     ]
    },
    {
     "cell_type": "markdown",
     "metadata": {},
     "source": [
      "If we want to *move* files or directories or *rename* them, then you should use the `mv` command.\n",
      "\n",
      "Let's make a new directories `~/Data/bar`, `~/Data/foo` and copy some files into `~/Data/bar`:"
     ]
    },
    {
     "cell_type": "code",
     "collapsed": false,
     "input": [
      "mkdir -p ~/Data/bar ~/Data/foo"
     ],
     "language": "python",
     "metadata": {},
     "outputs": [],
     "prompt_number": 32
    },
    {
     "cell_type": "code",
     "collapsed": false,
     "input": [
      "cp -n ~plewis/msc/h*dat ~/Data/bar"
     ],
     "language": "python",
     "metadata": {},
     "outputs": [],
     "prompt_number": 33
    },
    {
     "cell_type": "markdown",
     "metadata": {},
     "source": [
      "You should check that the files you expect to see in `~/Data/bar` are there:"
     ]
    },
    {
     "cell_type": "code",
     "collapsed": false,
     "input": [
      "ls ~/Data/bar"
     ],
     "language": "python",
     "metadata": {},
     "outputs": [
      {
       "output_type": "stream",
       "stream": "stdout",
       "text": [
        "head.dat        header.dat      hello.dat       helloWorld.dat\r\n"
       ]
      }
     ],
     "prompt_number": 34
    },
    {
     "cell_type": "markdown",
     "metadata": {},
     "source": [
      "Now, let's move the files `hello.dat` and `helloWorld.dat` into a directory `~/Data/foo` (using wildcards):"
     ]
    },
    {
     "cell_type": "code",
     "collapsed": false,
     "input": [
      "mv -n ~/Data/bar/hello*dat ~/Data/foo"
     ],
     "language": "python",
     "metadata": {},
     "outputs": [],
     "prompt_number": 35
    },
    {
     "cell_type": "code",
     "collapsed": false,
     "input": [
      "ls ~/Data/bar ~/Data/foo"
     ],
     "language": "python",
     "metadata": {},
     "outputs": [
      {
       "output_type": "stream",
       "stream": "stdout",
       "text": [
        "/Users/plewis/Data/bar:\r\n",
        "head.dat    header.dat\r\n",
        "\r\n",
        "/Users/plewis/Data/foo:\r\n",
        "hello.dat       helloWorld.dat\r\n"
       ]
      }
     ],
     "prompt_number": 36
    },
    {
     "cell_type": "markdown",
     "metadata": {},
     "source": [
      "To use `mv` to rename a file is in effect the same as moving it to a file of a different name:"
     ]
    },
    {
     "cell_type": "code",
     "collapsed": false,
     "input": [
      "mv ~/Data/bar/head.dat ~/Data/bar/tail.dat"
     ],
     "language": "python",
     "metadata": {},
     "outputs": [],
     "prompt_number": 37
    },
    {
     "cell_type": "code",
     "collapsed": false,
     "input": [
      "ls ~/Data/bar"
     ],
     "language": "python",
     "metadata": {},
     "outputs": [
      {
       "output_type": "stream",
       "stream": "stdout",
       "text": [
        "header.dat  tail.dat\r\n"
       ]
      }
     ],
     "prompt_number": 38
    },
    {
     "cell_type": "heading",
     "level": 2,
     "metadata": {},
     "source": [
      "Getting more control"
     ]
    },
    {
     "cell_type": "markdown",
     "metadata": {},
     "source": [
      "You should now have some understanding of the main unix commands for dealing with directories and files. \n",
      "\n",
      "We will now introduce a few concepts that give you more control over what you are doing on the system.\n",
      "\n",
      "**NOTE**: Although in the examples above, we have been able to type some basic system commands into the python, we can't do this for some of the commands we will use below. A more general interface to unix (shell) commands from a python prompt involves putting an exclamation mark (`!`, known as *'bang'*) in front of the command. In these notes then, where you see *bang* (`!`) in front of a command, you leave that out when using the command at the unix prompt."
     ]
    },
    {
     "cell_type": "heading",
     "level": 4,
     "metadata": {},
     "source": [
      "quota - disk quota"
     ]
    },
    {
     "cell_type": "markdown",
     "metadata": {},
     "source": [
      "We mentioned above that your home directories have a quota associated with them. This means that when you try to go over that quota, you will no longer be able to write to your home area.\n",
      "\n",
      "This can be a cause of confusion with new students, in particular because when you log into to a windowing session on the unix computers, several files tend to be written to your user area on startup. So, if you are over your quota, you will find that your attempt to login fails. This can be confusing because you may just imagine that the system is 'broken', or perhaps you have typed the wrong password. These are things that *can* happen of course, but by far the most common reason for your being unable to log in to a windowing session (and probably somethiong that will happen to most of you at some point over the year) is that you have gone over your quota.\n",
      "\n",
      "The unix command to check your quota is, helpfully, `quota`, though you would usually use the `-v` option:"
     ]
    },
    {
     "cell_type": "code",
     "collapsed": false,
     "input": [
      "!quota -v"
     ],
     "language": "python",
     "metadata": {},
     "outputs": [
      {
       "output_type": "stream",
       "stream": "stdout",
       "text": [
        "dyld: DYLD_ environment variables being ignored because main executable (/usr/bin/quota) is setuid or setgid\r\n",
        "Disk quotas for user plewis (uid 501): none\r\n"
       ]
      }
     ],
     "prompt_number": 10
    },
    {
     "cell_type": "markdown",
     "metadata": {},
     "source": [
      "If you happen to be on a system where no quota is set (e.g. your own computer), this command will tell you that."
     ]
    },
    {
     "cell_type": "heading",
     "level": 4,
     "metadata": {},
     "source": [
      "ssh - secure shell"
     ]
    },
    {
     "cell_type": "markdown",
     "metadata": {},
     "source": [
      "That's all very well to be able to find out if you are over your quota, but how can you do that if you can't log in?\n",
      "\n",
      "Well, in that case, you need to find another terminal somewhere (e.g. 'borrow' a window on another user's display, with their permission) and you can check it from there.\n",
      "\n",
      "One way to do this is to use the command `ssh` which you can use to spawn a process on a remote machine.\n",
      "\n",
      "For example, you have tried to log in to a computer called `berlin.geog.ucl.ac.uk` but the login fails. You then go to a friend who is logged in to another computer and ask if you can check your quota from there. You open a new terminal, and type:"
     ]
    },
    {
     "cell_type": "raw",
     "metadata": {},
     "source": [
      "ssh plewis@berlin.geog.ucl.ac.uk \"quota -v\""
     ]
    },
    {
     "cell_type": "markdown",
     "metadata": {},
     "source": [
      "which will then prompt you for your password and return the result of running the command `quota -v` on the computer `berlin.geog.ucl.ac.uk` as the user `plewis` (obviously, you replace `plewis` by your user name).\n",
      "\n",
      "We will see some further use of `ssh` later on, but knowing that you can use it to run a remote process is very useful."
     ]
    },
    {
     "cell_type": "heading",
     "level": 4,
     "metadata": {},
     "source": [
      "du - disk usage"
     ]
    },
    {
     "cell_type": "code",
     "collapsed": false,
     "input": [],
     "language": "python",
     "metadata": {},
     "outputs": []
    },
    {
     "cell_type": "heading",
     "level": 4,
     "metadata": {},
     "source": [
      "df - disk free"
     ]
    },
    {
     "cell_type": "markdown",
     "metadata": {},
     "source": []
    },
    {
     "cell_type": "heading",
     "level": 4,
     "metadata": {},
     "source": [
      "ls -l - long listing"
     ]
    },
    {
     "cell_type": "markdown",
     "metadata": {},
     "source": [
      "First, we will look at a useful option for the command `ls` that gives you a *long* (verbose) listing of files or directories.\n",
      "\n",
      "We will first make move the directory `~/Data/bar` into the directory `~/Data/foo`, then look at a long listing of what there is in `~/Data/foo`:"
     ]
    },
    {
     "cell_type": "code",
     "collapsed": false,
     "input": [
      "mv ~/Data/bar ~/Data/foo"
     ],
     "language": "python",
     "metadata": {},
     "outputs": [],
     "prompt_number": 61
    },
    {
     "cell_type": "code",
     "collapsed": false,
     "input": [
      "ls -l ~/Data/foo"
     ],
     "language": "python",
     "metadata": {},
     "outputs": [
      {
       "output_type": "stream",
       "stream": "stdout",
       "text": [
        "total 16\r\n",
        "drwxr-xr-x  4 plewis  staff  136 26 Sep 17:07 \u001b[34mbar\u001b[m\u001b[m/\r\n",
        "-rw-r--r--  1 plewis  staff   14 26 Sep 17:05 hello.dat\r\n",
        "-rw-r--r--  1 plewis  staff   13 26 Sep 17:05 helloWorld.dat\r\n"
       ]
      }
     ],
     "prompt_number": 62
    },
    {
     "cell_type": "markdown",
     "metadata": {},
     "source": [
      "The long listing displays information on the owner of a file (`plewis` here), the size of the file (e.g. ~/Data/foo/hello.dat is 14 bytes), and when it was last modified (26 Sep 17:05). The first field that you see (e.g. `drwxr-xr-x`) is a series of codes that tells you about what type of file it is (d in the first element means that it is a directory) then there are three sets of three elements that may be set to `rwx` or unset as in `---`. These refer to read `r`, write `w` and execute `x` permissions for this file (or directory), so that if you see e.g. `rw-` that means that read and write permission are set but not execute. Note that directories have the `x` bit set if you are to be able to see into that directory, but you will not generally alter that.\n",
      "\n",
      "The three groupings refer to *user* `u`, *group* `g` and *other* `o`."
     ]
    },
    {
     "cell_type": "markdown",
     "metadata": {},
     "source": [
      "A useful additional option to `ls` is the `-h` option, that gives file sizes in 'human readable' format (i.e. something easier to understand):"
     ]
    },
    {
     "cell_type": "code",
     "collapsed": false,
     "input": [
      "ls -lh ~/Data/foo"
     ],
     "language": "python",
     "metadata": {},
     "outputs": [
      {
       "output_type": "stream",
       "stream": "stdout",
       "text": [
        "total 16\r\n",
        "drwxr-xr-x  5 plewis  staff   170B 27 Sep 11:36 \u001b[34mbar\u001b[m\u001b[m/\r\n",
        "-rw-r--r--  1 plewis  staff    14B 26 Sep 17:05 hello.dat\r\n",
        "-rw-r--r--  1 plewis  staff    13B 26 Sep 17:05 helloWorld.dat\r\n"
       ]
      }
     ],
     "prompt_number": 2
    },
    {
     "cell_type": "markdown",
     "metadata": {},
     "source": [
      "where the `B` at the end of the size field tells us the size is in bytes (or `K` for Kilobytes, `M` for Megabytes, `G` for Gigabytes etc)."
     ]
    },
    {
     "cell_type": "heading",
     "level": 4,
     "metadata": {},
     "source": [
      "chmod - change mode"
     ]
    },
    {
     "cell_type": "markdown",
     "metadata": {},
     "source": [
      "So, using `ls -l` give us information on what the file (/directory) permissions are. By default this will tend to be a sensible but open `-rw-r--r--` for files, i.e. read permission for the user, groups and the rest of the world but only write permission for the user themselves. For directories, the default is generally similar, but the `x` bit is set as well.\n",
      "\n",
      "We can manipulate the file permission settings, e.g. to remove read permission for some secure piece of work we are doing, or to open up write permission for other users on some shared piece of work, using the command `chmod`.\n",
      "\n",
      "If you have followed the material above, you should have a file called `hello.dat` in the directory `~/Data/foo` (check that this is the case) and we will make a new sub-directory in there called `foobar` from which we will *remove* all write permissions. \n",
      "\n"
     ]
    },
    {
     "cell_type": "code",
     "collapsed": false,
     "input": [
      "mkdir ~/Data/foo/foobar"
     ],
     "language": "python",
     "metadata": {},
     "outputs": [],
     "prompt_number": 3
    },
    {
     "cell_type": "code",
     "collapsed": false,
     "input": [
      "ls -l ~/Data/foo"
     ],
     "language": "python",
     "metadata": {},
     "outputs": [
      {
       "output_type": "stream",
       "stream": "stdout",
       "text": [
        "total 16\r\n",
        "drwxr-xr-x  5 plewis  staff  170 27 Sep 11:36 \u001b[34mbar\u001b[m\u001b[m/\r\n",
        "drwxr-xr-x  2 plewis  staff   68 27 Sep 11:41 \u001b[34mfoobar\u001b[m\u001b[m/\r\n",
        "-rw-r--r--  1 plewis  staff   14 26 Sep 17:05 hello.dat\r\n",
        "-rw-r--r--  1 plewis  staff   13 26 Sep 17:05 helloWorld.dat\r\n"
       ]
      }
     ],
     "prompt_number": 4
    },
    {
     "cell_type": "code",
     "collapsed": false,
     "input": [
      "!chmod uog-w ~/Data/foo/foobar"
     ],
     "language": "python",
     "metadata": {},
     "outputs": [],
     "prompt_number": 5
    },
    {
     "cell_type": "code",
     "collapsed": false,
     "input": [
      "ls -l ~/Data/foo"
     ],
     "language": "python",
     "metadata": {},
     "outputs": [
      {
       "output_type": "stream",
       "stream": "stdout",
       "text": [
        "total 16\r\n",
        "drwxr-xr-x  5 plewis  staff  170 27 Sep 11:36 \u001b[34mbar\u001b[m\u001b[m/\r\n",
        "dr-xr-xr-x  2 plewis  staff   68 27 Sep 11:41 \u001b[34mfoobar\u001b[m\u001b[m/\r\n",
        "-rw-r--r--  1 plewis  staff   14 26 Sep 17:05 hello.dat\r\n",
        "-rw-r--r--  1 plewis  staff   13 26 Sep 17:05 helloWorld.dat\r\n"
       ]
      }
     ],
     "prompt_number": 6
    },
    {
     "cell_type": "markdown",
     "metadata": {},
     "source": [
      "From which we see that the `w` bit on the directory `~/Data/foo/foobar` has been removed (unset). The `uog` part refers to *user*, *group* and *other*. The `-` part means *remove* and the `w` part refers to the write bit.\n",
      "\n",
      "So, if we now try to copy or move a file into the `bar` directory, we would expect it to fail:"
     ]
    },
    {
     "cell_type": "code",
     "collapsed": false,
     "input": [
      "cp -f ~/Data/foo/hello.dat ~/Data/foo/foobar"
     ],
     "language": "python",
     "metadata": {},
     "outputs": [
      {
       "output_type": "stream",
       "stream": "stdout",
       "text": [
        "cp: /Users/plewis/Data/foo/foobar/hello.dat: Permission denied\r\n"
       ]
      }
     ],
     "prompt_number": 7
    },
    {
     "cell_type": "markdown",
     "metadata": {},
     "source": []
    },
    {
     "cell_type": "markdown",
     "metadata": {},
     "source": [
      "<table border=\"0\">\n",
      "<tr>\n",
      "  <td>[<a href=\"http://nbviewer.ipython.org/urls/raw.github.com/profLewis/geogg122/master/unix_intro_answers.ipynb\">Prev</a>]\n",
      "  <td>[<a href=\"http://nbviewer.ipython.org/urls/raw.github.com/profLewis/geogg122/master/index.ipynb\">Home</a>]\n",
      "  <td>[<a href=\"https://github.com/profLewis/geogg122\">GitHub</a>]\n",
      "  <td>[<a href=\"http://nbviewer.ipython.org/urls/raw.github.com/profLewis/geogg122/master/unix_intro3.ipynb\">Next</a>]\n",
      "</table>"
     ]
    }
   ],
   "metadata": {}
  }
 ]
}