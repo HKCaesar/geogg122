{
 "metadata": {
  "name": "python101"
 },
 "nbformat": 3,
 "nbformat_minor": 0,
 "worksheets": [
  {
   "cells": [
    {
     "cell_type": "heading",
     "level": 1,
     "metadata": {},
     "source": [
      "1. Introduction to Python"
     ]
    },
    {
     "cell_type": "markdown",
     "metadata": {},
     "source": [
      "[Python](http://www.python.org/) is a high level programming language that is freely available, relatively easy to learn and portable across different computing systems. In Python, you can rapidly develop solutions for the sorts of problems you might need to solve in your MSc courses and in the world beyond. Code written in Python is also easy to maintain, is (or should be) self-documented, and can easily be linked to code written in other languages.\n",
      "\n",
      "Relevant features include: \n",
      "\n",
      "- it is automatically compiled and executed \n",
      "- code is portable provided you have the appropriate Python modules. \n",
      "- for compute intensive tasks, you can easily make calls to methods written in (faster) lower-level languages such as C or FORTRAN \n",
      "- there is an active user and development community, which means that new capabilities appear over time and there are many existing extensions and enhancements easily available to you.\n",
      "\n",
      "For further background on Python, look over the material on [Advanced Scientific Programming in Python](https://python.g-node.org/wiki/schedule) and/or the [software-carpentry.org](http://software-carpentry.org/v3/py01.html) and [python.org](http://www.python.org/) web sites."
     ]
    },
    {
     "cell_type": "heading",
     "level": 2,
     "metadata": {},
     "source": [
      "1.1 Introduction"
     ]
    },
    {
     "cell_type": "markdown",
     "metadata": {},
     "source": [
      "In this session, you will be introduced to some of the basic concepts in Python."
     ]
    },
    {
     "cell_type": "heading",
     "level": 2,
     "metadata": {},
     "source": [
      "1.2 Running Python Programs"
     ]
    },
    {
     "cell_type": "markdown",
     "metadata": {},
     "source": [
      "### 1.2.1 Requirements\n",
      "\n",
      "For this course, we suggest you use the [anaconda](https://store.continuum.io/cshop/anaconda/) Python distribution (this is what is installed in the unix lab computers), though you are free to use whichever version of it you like on your own computers.\n",
      "\n",
      "If you are intending to use these notes on your opwn computer, you will need a relatively comprehensive installation of Python (such as that from [anaconda](https://store.continuum.io/cshop/anaconda/)), and will also need [GDAL](http://www.gdal.org/) installed for some of the work. You may also find it of value to have [git](http://git-scm.com/) installed.\n",
      "\n",
      "We are assuming that you are new to computing in this course, but that you are aware of the basic unix material covered in the previous lecture.\n"
     ]
    },
    {
     "cell_type": "markdown",
     "metadata": {},
     "source": [
      "### 1.2.2 Running Python  \n",
      "\n",
      "We will generally use the `ipython` interpreter for running interactive Python programs.\n",
      "\n",
      "You will probably want to run each session and store scripts in your `Data` (or `DATA`) directory.\n",
      "\n",
      "If you want to run the session directly in the notebook, you will need to download the course material from [github](https://github.com/profLewis/geogg122) and run the notebook with e.g.:\n",
      "\n",
      "```\n",
      "berlin% cd ~/Data\n",
      "berlin% git clone https://github.com/profLewis/geogg122.git\n",
      "```\n",
      "\n",
      "to obtain the notes. \n",
      "\n",
      "You should next check that you are using the version of Python that we intend:\n",
      "\n",
      "```\n",
      "berlin% which ipython\n",
      "/opt/anaconda/bin/ipython\n",
      "```\n",
      "\n",
      "If this isn't the version of Python that you are picking up (note the use of the unix command `which` here), then you can either just type the full path name:\n",
      "\n",
      "```\n",
      "berlin% /opt/anaconda/bin/ipython  \n",
      "```\n",
      "\n",
      "in place of where it says `ipython` in these notes, or modify your shell initialisation file (`~/.bashrc` if you are using `bash` or `~/.cshrc` for `tcsh` or `csh`) to include `/opt/anaconda/bin` early on in the `PATH`.\n",
      "\n",
      "To go to the directory for this session:  \n",
      "```\n",
      "berlin% cd ~/Data/geogg122/Chapter2_Python_intro\n",
      "berlin% ipython notebook python101.ipynb --pylab=inline\n",
      "```\n",
      "\n",
      "You quit an `ipython` notebook session with `^C` (`Control C`).\n",
      "\n",
      "To exectute ('run') blocks of Python code in the notebook, use `^<return>` (`SHIFT` and `RETURN` keys together).\n",
      "\n",
      "Alternatively, just run `ipython`:  \n",
      "```\n",
      "berlin% cd ~/Data/geogg122/Chapter2_Python_intro\n",
      "berlin% ipython --pylab=inline\n",
      "```\n",
      "\n",
      "and type your own commands in at the prompt, following the class or the material on the webpages.\n",
      "\n",
      "\n"
     ]
    },
    {
     "cell_type": "heading",
     "level": 2,
     "metadata": {},
     "source": [
      "1.3 Getting Started"
     ]
    },
    {
     "cell_type": "heading",
     "level": 3,
     "metadata": {},
     "source": [
      "1.3.1 Variables, Values and Data types"
     ]
    },
    {
     "cell_type": "markdown",
     "metadata": {},
     "source": [
      "The idea of **variables** is fundamental to any programming. You can think of this as the *name* of *something*, so it is a way of allowing us to refer to some object in the language.\n",
      "\n",
      "What the variable *is* set to is called its **value**.\n",
      "\n",
      "So let's start with a variable we will call (*declare to be*) `x`.\n",
      "\n",
      "We will give the *value* `1` to this variable:"
     ]
    },
    {
     "cell_type": "code",
     "collapsed": false,
     "input": [
      "x = 1"
     ],
     "language": "python",
     "metadata": {},
     "outputs": [],
     "prompt_number": 2
    },
    {
     "cell_type": "markdown",
     "metadata": {},
     "source": [
      "In a computing language, the *sort of thing* the variable can be set to is called its **data type**.\n",
      "\n",
      "In the example above, the datatype is an **integer** number (e.g. `1, 2, 3, 4`).\n",
      "\n",
      "In 'natural language', we might read the example above as 'x is one'.\n",
      "\n",
      "This is different to:"
     ]
    },
    {
     "cell_type": "code",
     "collapsed": false,
     "input": [
      "x = 'one'"
     ],
     "language": "python",
     "metadata": {},
     "outputs": [],
     "prompt_number": 3
    },
    {
     "cell_type": "markdown",
     "metadata": {},
     "source": [
      "because here we have set value of the variable `x` to a **string** (i.e. some text).\n",
      "\n",
      "A string is enclosed in quotes, e.g. `\"one\"` or `'one'`, or even `\"'one'\"` or `'\"one\"'`.\n",
      "\n"
     ]
    },
    {
     "cell_type": "code",
     "collapsed": false,
     "input": [
      "print \"one\"\n",
      "print 'one'\n",
      "print \"'one'\"\n",
      "print '\"one\"'"
     ],
     "language": "python",
     "metadata": {},
     "outputs": [
      {
       "output_type": "stream",
       "stream": "stdout",
       "text": [
        "one\n",
        "one\n",
        "'one'\n",
        "\"one\"\n"
       ]
      }
     ],
     "prompt_number": 1
    },
    {
     "cell_type": "markdown",
     "metadata": {},
     "source": [
      "This is different to:"
     ]
    },
    {
     "cell_type": "code",
     "collapsed": false,
     "input": [
      "x = 1.0"
     ],
     "language": "python",
     "metadata": {},
     "outputs": [],
     "prompt_number": 4
    },
    {
     "cell_type": "markdown",
     "metadata": {},
     "source": [
      "because here we have set value of the variable `x` to a **floating point** number (these are treated and stored differently to integers in computing).\n",
      "\n",
      "This is different to:"
     ]
    },
    {
     "cell_type": "code",
     "collapsed": false,
     "input": [
      "x = True"
     ],
     "language": "python",
     "metadata": {},
     "outputs": [],
     "prompt_number": 5
    },
    {
     "cell_type": "markdown",
     "metadata": {},
     "source": [
      "where `True` is a **logical** or **boolean** datatype (something is `True` or `False`).\n",
      "\n",
      "We have so far seen three datatypes:\n",
      "\n",
      "- integer (`int`): 32 bits long on most machines\n",
      "- (double-precision) floating point (`float`): (64 bits long)\n",
      "- Boolean (`bool`)\n",
      "- string (`str`)\n",
      "\n",
      "but we will come across more (and even create our own!) as we go through the course."
     ]
    },
    {
     "cell_type": "heading",
     "level": 4,
     "metadata": {},
     "source": [
      "type"
     ]
    },
    {
     "cell_type": "markdown",
     "metadata": {},
     "source": [
      "In each of these cases above, we have used the variable `x` to contain these different data types. If you want to know what the data type of a variable is, you can use the method `type()`"
     ]
    },
    {
     "cell_type": "code",
     "collapsed": false,
     "input": [
      "print type(1);\n",
      "print type(1.0);\n",
      "print type('one');\n",
      "print type(True);"
     ],
     "language": "python",
     "metadata": {},
     "outputs": [
      {
       "output_type": "stream",
       "stream": "stdout",
       "text": [
        "<type 'int'>\n",
        "<type 'float'>\n",
        "<type 'str'>\n",
        "<type 'bool'>\n"
       ]
      }
     ],
     "prompt_number": 16
    },
    {
     "cell_type": "markdown",
     "metadata": {},
     "source": [
      "You can explicitly convert between data types, e.g.:"
     ]
    },
    {
     "cell_type": "code",
     "collapsed": false,
     "input": [
      "print 'int(1.1) = ',int(1.1)\n",
      "print 'float(1) = ',float(1)\n",
      "print 'str(1) = ',str(1)\n",
      "print 'bool(1) = ',bool(1)"
     ],
     "language": "python",
     "metadata": {},
     "outputs": [
      {
       "output_type": "stream",
       "stream": "stdout",
       "text": [
        "int(1.1) =  1\n",
        "float(1) =  1.0\n",
        "str(1) =  1\n",
        "bool(1) =  True\n"
       ]
      }
     ],
     "prompt_number": 6
    },
    {
     "cell_type": "markdown",
     "metadata": {},
     "source": [
      "but inly when it makes sense:"
     ]
    },
    {
     "cell_type": "code",
     "collapsed": false,
     "input": [
      "print \"converting the string '1' to an integer makes sense:\",int('1')"
     ],
     "language": "python",
     "metadata": {},
     "outputs": [
      {
       "output_type": "stream",
       "stream": "stdout",
       "text": [
        "converting the string '1' to an integer makes sense: 1\n"
       ]
      }
     ],
     "prompt_number": 10
    },
    {
     "cell_type": "code",
     "collapsed": false,
     "input": [
      "print \"converting the string 'one' to an integer doesn't:\",int('one')"
     ],
     "language": "python",
     "metadata": {},
     "outputs": [
      {
       "ename": "ValueError",
       "evalue": "invalid literal for int() with base 10: 'one'",
       "output_type": "pyerr",
       "traceback": [
        "\u001b[0;31m---------------------------------------------------------------------------\u001b[0m\n\u001b[0;31mValueError\u001b[0m                                Traceback (most recent call last)",
        "\u001b[0;32m<ipython-input-11-20c6d9c1fc49>\u001b[0m in \u001b[0;36m<module>\u001b[0;34m()\u001b[0m\n\u001b[0;32m----> 1\u001b[0;31m \u001b[0;32mprint\u001b[0m \u001b[0;34m\"converting the string 'one' to an integer doesn't:\"\u001b[0m\u001b[0;34m,\u001b[0m\u001b[0mint\u001b[0m\u001b[0;34m(\u001b[0m\u001b[0;34m'one'\u001b[0m\u001b[0;34m)\u001b[0m\u001b[0;34m\u001b[0m\u001b[0m\n\u001b[0m",
        "\u001b[0;31mValueError\u001b[0m: invalid literal for int() with base 10: 'one'"
       ]
      },
      {
       "output_type": "stream",
       "stream": "stdout",
       "text": [
        "converting the string 'one' to an integer doesn't:"
       ]
      }
     ],
     "prompt_number": 11
    },
    {
     "cell_type": "markdown",
     "metadata": {},
     "source": [
      "When you get an error (such as above), you will need to learn to *read* the error message to work out what you did wrong.\n",
      "\n",
      "You can make your code tolerant to potential errors with a `try` statement:"
     ]
    },
    {
     "cell_type": "code",
     "collapsed": false,
     "input": [
      "try:\n",
      "    print \"converting the string 'one' to an integer:\",int('one')\n",
      "except ValueError:\n",
      "    print \"That wasn't a sensible thing to do\""
     ],
     "language": "python",
     "metadata": {},
     "outputs": [
      {
       "output_type": "stream",
       "stream": "stdout",
       "text": [
        "converting the string 'one' to an integer: That wasn't a sensible thing to do\n"
       ]
      }
     ],
     "prompt_number": 15
    },
    {
     "cell_type": "markdown",
     "metadata": {},
     "source": [
      "but you don't always want to do that, as you mostly want to be clear when something has gone wrong."
     ]
    },
    {
     "cell_type": "heading",
     "level": 4,
     "metadata": {},
     "source": [
      "del"
     ]
    },
    {
     "cell_type": "markdown",
     "metadata": {},
     "source": [
      "You can delete a variable with `del`:"
     ]
    },
    {
     "cell_type": "code",
     "collapsed": false,
     "input": [
      "x = 100.\n",
      "print x"
     ],
     "language": "python",
     "metadata": {},
     "outputs": []
    },
    {
     "cell_type": "code",
     "collapsed": false,
     "input": [
      "x = 100.\n",
      "del x\n",
      "print x"
     ],
     "language": "python",
     "metadata": {},
     "outputs": [
      {
       "ename": "NameError",
       "evalue": "name 'x' is not defined",
       "output_type": "pyerr",
       "traceback": [
        "\u001b[0;31m---------------------------------------------------------------------------\u001b[0m\n\u001b[0;31mNameError\u001b[0m                                 Traceback (most recent call last)",
        "\u001b[0;32m<ipython-input-68-7d42ddd20add>\u001b[0m in \u001b[0;36m<module>\u001b[0;34m()\u001b[0m\n\u001b[1;32m      1\u001b[0m \u001b[0mx\u001b[0m \u001b[0;34m=\u001b[0m \u001b[0;36m100.\u001b[0m\u001b[0;34m\u001b[0m\u001b[0m\n\u001b[1;32m      2\u001b[0m \u001b[0;32mdel\u001b[0m \u001b[0mx\u001b[0m\u001b[0;34m\u001b[0m\u001b[0m\n\u001b[0;32m----> 3\u001b[0;31m \u001b[0;32mprint\u001b[0m \u001b[0mx\u001b[0m\u001b[0;34m\u001b[0m\u001b[0m\n\u001b[0m",
        "\u001b[0;31mNameError\u001b[0m: name 'x' is not defined"
       ]
      }
     ],
     "prompt_number": 68
    },
    {
     "cell_type": "code",
     "collapsed": false,
     "input": [
      "# example trapping this error\n",
      "\n",
      "x = 100.\n",
      "del x\n",
      "\n",
      "try:\n",
      "    print x\n",
      "except NameError:\n",
      "    print \"name 'x' is not defined\""
     ],
     "language": "python",
     "metadata": {},
     "outputs": [
      {
       "output_type": "stream",
       "stream": "stdout",
       "text": [
        "name 'x' is not defined\n"
       ]
      }
     ],
     "prompt_number": 70
    },
    {
     "cell_type": "heading",
     "level": 3,
     "metadata": {},
     "source": [
      "1.3.2 Arithmetic"
     ]
    },
    {
     "cell_type": "markdown",
     "metadata": {},
     "source": [
      "Often we will want to do some [arithmetic](http://www.tutorialspoint.com/python/python_basic_operators.htm) with numbers in a program, and we use the 'normal' (derived from C) operators for this.\n",
      "\n",
      "Note the way this works for integers and floating point representations."
     ]
    },
    {
     "cell_type": "code",
     "collapsed": false,
     "input": [
      "'''\n",
      "    Some examples of arithmetic operations in Python\n",
      "\n",
      "    Note how, if we mix float and int, the result is raised to float\n",
      "    (as the more general form)\n",
      "'''\n",
      "\n",
      "print 10 + 100     # int addition\n",
      "print 10. - 100    # float subtraction\n",
      "print 1./2.        # float division\n",
      "print 1/2          # int division\n",
      "print 10.*20.      # float multiplication\n",
      "print 2 ** 3.      # float exponent\n",
      "print 8%2          # int remainder\n",
      "\n",
      "print '========'\n",
      "# demonstration of floor (//) and remainder (%)\n",
      "number    = 9.5\n",
      "base      = 2.0\n",
      "remainder = number%base # float remainder\n",
      "floor     = number//base # 'floor' operation\n",
      "print number,'is',floor,'times',base,'plus',remainder"
     ],
     "language": "python",
     "metadata": {},
     "outputs": [
      {
       "output_type": "stream",
       "stream": "stdout",
       "text": [
        "110\n",
        "-90.0\n",
        "0.5\n",
        "0\n",
        "200.0\n",
        "8.0\n",
        "0\n",
        "========\n",
        "9.5 is 4.0 times 2.0 plus 1.5\n"
       ]
      }
     ],
     "prompt_number": 47
    },
    {
     "cell_type": "markdown",
     "metadata": {},
     "source": [
      "### Exercise\n",
      "\n",
      "Change the numbers in the examples above to make sure you understand these basic operations.\n",
      "\n",
      "Try combining operations and use brackets () to check that that works as expected."
     ]
    },
    {
     "cell_type": "code",
     "collapsed": false,
     "input": [
      "'''\n",
      "    Assignment operators\n",
      "\n",
      "    x = 3   assigns the value 3 to the variable x\n",
      "    x += 2  adds 2 onto the value of x\n",
      "            so is the same as x = x + 2\n",
      "            similarly /=, *=, -=\n",
      "    x %= 2  is the same as x = x % 2\n",
      "    x **= 2 is the same as x = x ** 2\n",
      "    x //= 2 is the same as x = x // 2\n",
      "\n",
      "    A 'magic' trick\n",
      "    ===============\n",
      "\n",
      "    http://www.wikihow.com/Read-Someone\\\n",
      "        %27s-Mind-With-Math-%28Math-Trick%29\n",
      "\n",
      "    whatever you put as myNumber, the answer is 3\n",
      "\n",
      "    Try this with integers or floating point numbers ...\n",
      "'''\n",
      "\n",
      "# pick a number \n",
      "myNumber = 34.67\n",
      "\n",
      "# assign this to the variable x\n",
      "x = myNumber\n",
      "\n",
      "# multiply it by 2\n",
      "x *= 2\n",
      "\n",
      "# multiply this by 5\n",
      "x *= 5\n",
      "\n",
      "# divide by the original number\n",
      "x /= myNumber\n",
      "\n",
      "# subtract 7\n",
      "x -= 7\n",
      "\n",
      "# The answer will always be 3\n",
      "print x"
     ],
     "language": "python",
     "metadata": {},
     "outputs": [
      {
       "output_type": "stream",
       "stream": "stdout",
       "text": [
        "3.0\n"
       ]
      }
     ],
     "prompt_number": 84
    },
    {
     "cell_type": "code",
     "collapsed": false,
     "input": [
      "'''\n",
      "    Logical operators\n",
      "'''\n",
      "alive = True\n",
      "dead = not alive\n",
      "print 'dead or alive is',dead or alive\n",
      "print 'dead and alive is',dead and alive"
     ],
     "language": "python",
     "metadata": {},
     "outputs": [
      {
       "output_type": "stream",
       "stream": "stdout",
       "text": [
        "dead or alive is True\n",
        "dead and alive is False\n"
       ]
      }
     ],
     "prompt_number": 38
    },
    {
     "cell_type": "markdown",
     "metadata": {},
     "source": [
      "The result of running comparison operators will give a logical (i.e. `bool`) output.\n",
      "\n",
      "Most of this should be obvious, but consider carefully how this works for string data types."
     ]
    },
    {
     "cell_type": "code",
     "collapsed": false,
     "input": [
      "'''\n",
      "    Related, comparison operators:\n",
      "    \n",
      "    ==  : equvalence\n",
      "    !=  : not equivalent\n",
      "    >   : greater than\n",
      "    >=  : greater than or equal to\n",
      "    <   : less than\n",
      "    <=  : less than or equal to    \n",
      "'''\n",
      "\n",
      "print \"is one plus one equal to two?\"\n",
      "print 1 + 1 == 2\n",
      "\n",
      "print \"is one less than or equal to 0.999?\"\n",
      "print 1 <= 0.999\n",
      "\n",
      "print \"is one plus one not equal to two?\"\n",
      "print 1 + 1 != 2\n",
      "\n",
      "# note the use of double quotes inside a single quoted string here\n",
      "print 'is \"Hello\" not the same as \"hello\"?'\n",
      "print 'Hello' != 'hello'\n",
      "\n",
      "# note the use of single quotes inside a double quoted string here\n",
      "print \"is 'more' greater than 'less'?\"\n",
      "print \"more\" > \"less\"\n",
      "\n",
      "print \"is '100' less than '2'?\"\n",
      "print '100' < '2'\n",
      "\n",
      "print \"is 100 less than 2?\"\n",
      "print 100 < 2\n",
      "\n",
      "# a boolean example just to see what happens\n",
      "print \"is True greater than False?\"\n",
      "print True > False"
     ],
     "language": "python",
     "metadata": {},
     "outputs": [
      {
       "output_type": "stream",
       "stream": "stdout",
       "text": [
        "is one plus one equal to two?\n",
        "True\n",
        "is one less than or equal to 0.999?\n",
        "False\n",
        "is one plus one not equal to two?\n",
        "False\n",
        "is \"Hello\" not the same as \"hello\"?\n",
        "True\n",
        "is 'more' greater than 'less'?\n",
        "True\n",
        "is '100' less than '2'?\n",
        "True\n",
        "is 100 less than 2?\n",
        "False\n",
        "is True greater than False?\n",
        "True\n"
       ]
      }
     ],
     "prompt_number": 34
    },
    {
     "cell_type": "markdown",
     "metadata": {},
     "source": [
      "We can combine such logical statements, bracketing the terms as required:"
     ]
    },
    {
     "cell_type": "code",
     "collapsed": false,
     "input": [
      "print (1 < 2) and (True or False)"
     ],
     "language": "python",
     "metadata": {},
     "outputs": [
      {
       "output_type": "stream",
       "stream": "stdout",
       "text": [
        "True\n"
       ]
      }
     ],
     "prompt_number": 42
    },
    {
     "cell_type": "code",
     "collapsed": false,
     "input": [
      "# hunger threshold in hours\n",
      "hungerThreshold = 3.0\n",
      "# sleep threshold in hours\n",
      "sleepThreshold = 8.0\n",
      "\n",
      "# time since fed, in hours\n",
      "timeSinceFed = 4.0\n",
      "# time since sleep, in hours\n",
      "timeSinceSleep = 3.0\n",
      "\n",
      "# Note use of \\ as line continuation here\n",
      "#\u00a0It is poor style to have code lines > 79 characters\n",
      "#\n",
      "# see http://www.python.org/dev/peps/pep-0008/#maximum-line-length\n",
      "#\n",
      "print \"Tired and hungry?\",(timeSinceSleep >= sleepThreshold) and \\\n",
      "                            (timeSinceFed >= hungerThreshold)\n",
      "print \"Just tired?\",(timeSinceSleep >= sleepThreshold) and \\\n",
      "                            (not (timeSinceFed >= hungerThreshold))\n",
      "print \"Just hungry?\",(not (timeSinceSleep >= sleepThreshold)) and \\\n",
      "                            (timeSinceFed >= hungerThreshold)"
     ],
     "language": "python",
     "metadata": {},
     "outputs": [
      {
       "output_type": "stream",
       "stream": "stdout",
       "text": [
        "Tired and hungry? False\n",
        "Just tired? False\n",
        "Just hungry? True\n"
       ]
      }
     ],
     "prompt_number": 5
    },
    {
     "cell_type": "heading",
     "level": 3,
     "metadata": {},
     "source": [
      "Exercise 2.1"
     ]
    },
    {
     "cell_type": "markdown",
     "metadata": {},
     "source": [
      "The code above works fine, but the large blocks of logical tests are not very clear or readable, and contain repeated items.\n",
      "\n",
      "Modify this block of code to be clearer by assigning the individual logical tests to variables, \n",
      "\n",
      "e.g.\n",
      "\n",
      "`tired = timeSinceSleep >= sleepThreshold`"
     ]
    },
    {
     "cell_type": "code",
     "collapsed": false,
     "input": [
      "\n",
      "# For string comparisons, the elements of the string\n",
      "# are comapred as an ASCII sequence\n",
      "sep = \"--------------------------------\"\n",
      "\n",
      "'''\n",
      "    We can have refined control in strings\n",
      "    by using codes in the string to represent \n",
      "    the intended data types of values, e.g. \n",
      "        %d  :  integer\n",
      "        %s  :  string\n",
      "        %f  :  float\n",
      "    and then putting a form of list called a tuple\n",
      "    after the string, connecting them with %\n",
      "\n",
      "    We can also insert other control characters\n",
      "    such as:\n",
      "    \n",
      "        \\n  : newline\n",
      "        \\t  : tab\n",
      "'''\n"
     ],
     "language": "python",
     "metadata": {},
     "outputs": []
    },
    {
     "cell_type": "code",
     "collapsed": false,
     "input": [
      "loops\n",
      "conditional\n",
      "\n",
      "maybe:\n",
      "    \n",
      "lists, dict\n",
      "include fields.items\n",
      "\n",
      "file handling\n",
      "\n",
      "functions\n",
      "\n",
      "some string basics\n",
      "\n",
      "+ some good exercises!!!\n",
      "\n",
      "parse config file to generate a url\n"
     ],
     "language": "python",
     "metadata": {},
     "outputs": []
    },
    {
     "cell_type": "heading",
     "level": 2,
     "metadata": {},
     "source": [
      "1.4 Groups of things"
     ]
    },
    {
     "cell_type": "heading",
     "level": 3,
     "metadata": {},
     "source": [
      "1.4.1 tuples, lists and dictionaries"
     ]
    },
    {
     "cell_type": "markdown",
     "metadata": {},
     "source": [
      "Very often, we will want to group items together. \n",
      "\n",
      "There are several main mechanisms for doing this in Python, known as:\n",
      "\n",
      "- tuple, e.g. (1, 2, 3)\n",
      "- list, e.g. [1, 2, 3]\n",
      "- dict, e.g. {1:'one', 2:'two', 3:'three'}\n",
      "\n",
      "You will notice that each of these grouping structures uses a different form of bracket."
     ]
    },
    {
     "cell_type": "heading",
     "level": 4,
     "metadata": {},
     "source": [
      "tuple"
     ]
    },
    {
     "cell_type": "markdown",
     "metadata": {},
     "source": [
      "A `tuple` is a group of items separated by commas.\n"
     ]
    },
    {
     "cell_type": "code",
     "collapsed": false,
     "input": [
      "t = 1, 2, 'three', False\n",
      "print t"
     ],
     "language": "python",
     "metadata": {},
     "outputs": [
      {
       "output_type": "stream",
       "stream": "stdout",
       "text": [
        "(1, 2, 'three', False)\n"
       ]
      }
     ],
     "prompt_number": 17
    },
    {
     "cell_type": "markdown",
     "metadata": {},
     "source": [
      "Note that when you declare the tuple, you don't need to put the braces (brackets) as this is implicit.\n",
      "\n",
      "Often though, it is a good idea to do so."
     ]
    },
    {
     "cell_type": "code",
     "collapsed": false,
     "input": [
      "t = (1, 2, 'three', False)\n",
      "print t"
     ],
     "language": "python",
     "metadata": {},
     "outputs": [
      {
       "output_type": "stream",
       "stream": "stdout",
       "text": [
        "(1, 2, 'three', False)\n"
       ]
      }
     ],
     "prompt_number": 18
    },
    {
     "cell_type": "markdown",
     "metadata": {},
     "source": [
      "If there is only one element in a tuple, you must put a comma `,` at the end, otherwise it is *not* interpreted as a tuple:"
     ]
    },
    {
     "cell_type": "code",
     "collapsed": false,
     "input": [
      "t = (1)\n",
      "print t,type(t)"
     ],
     "language": "python",
     "metadata": {},
     "outputs": [
      {
       "output_type": "stream",
       "stream": "stdout",
       "text": [
        "1 <type 'int'>\n"
       ]
      }
     ],
     "prompt_number": 75
    },
    {
     "cell_type": "code",
     "collapsed": false,
     "input": [
      "t = (1,)\n",
      "print t,type(t)"
     ],
     "language": "python",
     "metadata": {},
     "outputs": [
      {
       "output_type": "stream",
       "stream": "stdout",
       "text": [
        "(1,) <type 'tuple'>\n"
       ]
      }
     ],
     "prompt_number": 74
    },
    {
     "cell_type": "markdown",
     "metadata": {},
     "source": [
      "You can have an *empty* tuple though:"
     ]
    },
    {
     "cell_type": "code",
     "collapsed": false,
     "input": [
      "t = ()\n",
      "print t,type(t)"
     ],
     "language": "python",
     "metadata": {},
     "outputs": [
      {
       "output_type": "stream",
       "stream": "stdout",
       "text": [
        "() <type 'tuple'>\n"
       ]
      }
     ],
     "prompt_number": 76
    },
    {
     "cell_type": "markdown",
     "metadata": {},
     "source": [
      "Notice that the tuple can contain data of different types. \n",
      "\n",
      "It can also be nested (i.e. a tuple can contain a tuple):"
     ]
    },
    {
     "cell_type": "code",
     "collapsed": false,
     "input": [
      "t = ('one', 2), 3, ((4,5),6)\n",
      "print t"
     ],
     "language": "python",
     "metadata": {},
     "outputs": [
      {
       "output_type": "stream",
       "stream": "stdout",
       "text": [
        "(('one', 2), 3, ((4, 5), 6))\n"
       ]
      }
     ],
     "prompt_number": 19
    },
    {
     "cell_type": "markdown",
     "metadata": {},
     "source": [
      "Some operations we can perform on tuples include:\n",
      "\n",
      "- length : `len()`\n",
      "- selection ('slice') : []\n"
     ]
    },
    {
     "cell_type": "code",
     "collapsed": false,
     "input": [
      "# set up a simple tuple\n",
      "t = (1,2,3)\n",
      "print \"The length of the tuple (1,2,3) is\",len(t)\n",
      "\n",
      "# a nested example\n",
      "t = (1,('2a','2b'),3)\n",
      "print \"The length of the tuple (1,2,3) is\",len(t)"
     ],
     "language": "python",
     "metadata": {},
     "outputs": [
      {
       "output_type": "stream",
       "stream": "stdout",
       "text": [
        "The length of the tuple (1,2,3) is 3\n",
        "The length of the tuple (1,2,3) is 3\n"
       ]
      }
     ],
     "prompt_number": 24
    },
    {
     "cell_type": "code",
     "collapsed": false,
     "input": [
      "# select an item with []\n",
      "# note the first item is 0, i.e. we start counting at 0\n",
      "# Python uses a 0-based indexing system\n",
      "\n",
      "t = ('it','is','a','truth','universally','acknowledged')\n",
      "\n",
      "print 'item 0',t[0]\n",
      "print 'item 4',t[4]"
     ],
     "language": "python",
     "metadata": {},
     "outputs": [
      {
       "output_type": "stream",
       "stream": "stdout",
       "text": [
        "item 0 it\n",
        "item 4 universally\n"
       ]
      }
     ],
     "prompt_number": 49
    },
    {
     "cell_type": "code",
     "collapsed": false,
     "input": [
      "# using negative to count from the end\n",
      "# so -1 is the last item, -2 the second to last etc\n",
      "\n",
      "t = ('it','is','a','truth','universally','acknowledged')\n",
      "\n",
      "print 'item -1',t[-1]\n",
      "print 'item -3',t[-3]"
     ],
     "language": "python",
     "metadata": {},
     "outputs": [
      {
       "output_type": "stream",
       "stream": "stdout",
       "text": [
        "item -1: acknowledged\n",
        "item -3: truth\n"
       ]
      }
     ],
     "prompt_number": 34
    },
    {
     "cell_type": "code",
     "collapsed": false,
     "input": [
      "# select a range (a 'slice') of items with [start:end:step]\n",
      "\n",
      "t = ('it','is','a','truth','universally','acknowledged')\n",
      "\n",
      "print 'items 0:1\\t',t[0:1]        # 0 to 1, so only item 0\n",
      "print 'items 0:2\\t',t[0:2]        # 0 to 2, so items 0 and 1\n",
      "print 'items :4:2\\t',t[:4:2]      # :4:2 so items 0 (implicit) to 4, in steps of 2\n",
      "                                  # so items 0 and 3\n",
      "print 'items ::-1\\t',t[::-1]      # 0 to end in steps of -1, so reverse order\n",
      "print 'items 1:-1:2\\t',t[1:-1:2]  # 1 to -1 in steps of 2 so items 1 and 3\n",
      "\n",
      "# Note the use of \\t in the strings above e.g. 'items 0:1\\t'\n",
      "# where \\t is a tab character (for prettier formatting)"
     ],
     "language": "python",
     "metadata": {},
     "outputs": [
      {
       "output_type": "stream",
       "stream": "stdout",
       "text": [
        "items 0:1\t('it',)\n",
        "items 0:2\t('it', 'is')\n",
        "items :4:2\t('it', 'a')\n",
        "items ::-1\t('acknowledged', 'universally', 'truth', 'a', 'is', 'it')\n",
        "items 1:-1:2\t('is', 'truth')\n"
       ]
      }
     ],
     "prompt_number": 100
    },
    {
     "cell_type": "markdown",
     "metadata": {},
     "source": [
      "In effect, when we set up a tuple, we are *packing* some group of items together:"
     ]
    },
    {
     "cell_type": "code",
     "collapsed": false,
     "input": [
      "t = ('the', 'past', ('is', 'a', 'foreign', 'country'))"
     ],
     "language": "python",
     "metadata": {},
     "outputs": [],
     "prompt_number": 51
    },
    {
     "cell_type": "markdown",
     "metadata": {},
     "source": [
      "And we can similarly *unpack*:"
     ]
    },
    {
     "cell_type": "code",
     "collapsed": false,
     "input": [
      "a, b, c = t\n",
      "\n",
      "print 'a:',a\n",
      "print 'b:',b\n",
      "print 'c:',c"
     ],
     "language": "python",
     "metadata": {},
     "outputs": [
      {
       "output_type": "stream",
       "stream": "stdout",
       "text": [
        "a: the\n",
        "b: past\n",
        "c: ('is', 'a', 'foreign', 'country')\n"
       ]
      }
     ],
     "prompt_number": 52
    },
    {
     "cell_type": "code",
     "collapsed": false,
     "input": [
      "t = ('As', 'Gregor', 'Samsa', 'awoke', 'one', 'morning')\n",
      "\n",
      "a,b = t[1:4:2]\n",
      "print 'a:',a\n",
      "print 'b:',b"
     ],
     "language": "python",
     "metadata": {},
     "outputs": [
      {
       "output_type": "stream",
       "stream": "stdout",
       "text": [
        "a: Gregor\n",
        "b: awoke\n"
       ]
      }
     ],
     "prompt_number": 59
    },
    {
     "cell_type": "markdown",
     "metadata": {},
     "source": [
      "The set of operations we can perform on tuples includes:\n",
      "\n",
      "<table>\n",
      "    <tr><td><b>Name</b></td><td><b>Example</b></td><td><b>Result</b></td><td><b>Meaning</b></td></tr>\n",
      "    <tr><td><pre>len()</pre></td><td><pre>len((1,2,(3,4))</pre></td><td><pre>3</pre></td><td>Length</td></tr>\n",
      "    <tr><td><pre>+</pre></td><td><pre>(1,2) + (3,4,5)</pre></td><td><pre>(1,2,3,4,5)</pre></td><td>Concatenate (join)</td></tr>\n",
      "    <tr><td><pre>*</pre></td><td><pre>(1,2) * 3</pre></td><td><pre>(1, 2, 1, 2, 1, 2, 1, 2)</pre></td><td>Repetition</td></tr>\n",
      "    <tr><td><pre>in</pre></td><td><pre>2 in (1,2,3,4)</pre></td><td><pre>True</pre></td><td>Membership</td></tr>\n",
      "\n",
      "    <tr><td><pre>index</pre></td><td><pre>('a','b','c','d').index('c')</pre></td><td><pre>2</pre></td><td><p>Index</p><p>T.index(value, [start, [stop]]) -> integer -- return first index of value.</p><p>Raises ValueError if the value is not present</p></td></tr>    \n",
      "    \n",
      "    <tr><td><pre>count</pre></td><td><pre>('a','b','c','c','d','c').count('c')</pre></td><td><pre>3</pre></td><td><p>Count</p><p>T.count(value) -> integer -- return number of occurrences of value</p></td></tr>    \n",
      "    \n",
      "    <tr><td><pre>min(), max()</pre></td><td><p><pre>min(('a','b','c'))</pre></p><p><pre>max((3,4,1))</pre></p></td><td><p><pre>'a'</pre></p><p><pre>4</pre></p></td><td>Minimum, maximum</td></tr>\n",
      "    <tr><td><pre>tuple()</pre></td><td><p><pre>tuple([1,2,3])</pre></p><p><pre>tuple('hello')</pre></p><p><pre>tuple({1:'one',2:'two'})</pre></p></td><td><p><pre>(1,2,3)</pre></p><p><pre>('h', 'e', 'l', 'l', 'o')</pre></p><p><pre>(1,2)</pre></p></td><td>Convert to tuple</td></tr>\n",
      "</table>"
     ]
    },
    {
     "cell_type": "code",
     "collapsed": false,
     "input": [
      "# some examples\n",
      "\n",
      "print \"\\ntuple('hello world'):\\n\\t\",tuple('hello world')\n",
      "print \"\\ntuple('hello world').count('o'):\\n\\t\",tuple('hello world').count('o')\n",
      "print \"\\n('1',)*5 + (1,)*5:\\n\\t\",('1',)*5 + (1,)*5\n",
      "\n",
      "# Note use of \\t in string for tab and \\n for newline"
     ],
     "language": "python",
     "metadata": {},
     "outputs": [
      {
       "output_type": "stream",
       "stream": "stdout",
       "text": [
        "\n",
        "tuple('hello world'):\n",
        "\t('h', 'e', 'l', 'l', 'o', ' ', 'w', 'o', 'r', 'l', 'd')\n",
        "\n",
        "tuple('hello world').count('o'):\n",
        "\t2\n",
        "\n",
        "('1',)*5 + (1,)*5:\n",
        "\t('1', '1', '1', '1', '1', 1, 1, 1, 1, 1)\n"
       ]
      }
     ],
     "prompt_number": 126
    },
    {
     "cell_type": "markdown",
     "metadata": {},
     "source": [
      "You **cannot** directly replace an element in a tuple:\n"
     ]
    },
    {
     "cell_type": "code",
     "collapsed": false,
     "input": [
      "t = (1,2,3,4)\n",
      "t[2] = 'three'"
     ],
     "language": "python",
     "metadata": {},
     "outputs": [
      {
       "ename": "TypeError",
       "evalue": "'tuple' object does not support item assignment",
       "output_type": "pyerr",
       "traceback": [
        "\u001b[0;31m---------------------------------------------------------------------------\u001b[0m\n\u001b[0;31mTypeError\u001b[0m                                 Traceback (most recent call last)",
        "\u001b[0;32m<ipython-input-92-0dc2fa4129fe>\u001b[0m in \u001b[0;36m<module>\u001b[0;34m()\u001b[0m\n\u001b[1;32m      1\u001b[0m \u001b[0mt\u001b[0m \u001b[0;34m=\u001b[0m \u001b[0;34m(\u001b[0m\u001b[0;36m1\u001b[0m\u001b[0;34m,\u001b[0m\u001b[0;36m2\u001b[0m\u001b[0;34m,\u001b[0m\u001b[0;36m3\u001b[0m\u001b[0;34m,\u001b[0m\u001b[0;36m4\u001b[0m\u001b[0;34m)\u001b[0m\u001b[0;34m\u001b[0m\u001b[0m\n\u001b[0;32m----> 2\u001b[0;31m \u001b[0mt\u001b[0m\u001b[0;34m[\u001b[0m\u001b[0;36m2\u001b[0m\u001b[0;34m]\u001b[0m \u001b[0;34m=\u001b[0m \u001b[0;34m'three'\u001b[0m\u001b[0;34m\u001b[0m\u001b[0m\n\u001b[0m",
        "\u001b[0;31mTypeError\u001b[0m: 'tuple' object does not support item assignment"
       ]
      }
     ],
     "prompt_number": 92
    },
    {
     "cell_type": "markdown",
     "metadata": {},
     "source": [
      "so you would need to find another way to do this, e.g."
     ]
    },
    {
     "cell_type": "code",
     "collapsed": false,
     "input": [
      "t = (1,2,3,4)\n",
      "\n",
      "t = t[:2] + ('three',) + t[3:]\n",
      "print t"
     ],
     "language": "python",
     "metadata": {},
     "outputs": [
      {
       "output_type": "stream",
       "stream": "stdout",
       "text": [
        "(1, 2, 'three', 4)\n"
       ]
      }
     ],
     "prompt_number": 96
    },
    {
     "cell_type": "markdown",
     "metadata": {},
     "source": [
      "Neither can you delete an item in a tuple:"
     ]
    },
    {
     "cell_type": "code",
     "collapsed": false,
     "input": [
      "t = (1,2,3,4)\n",
      "\n",
      "del t[2]\n",
      "print t"
     ],
     "language": "python",
     "metadata": {},
     "outputs": [
      {
       "ename": "TypeError",
       "evalue": "'tuple' object doesn't support item deletion",
       "output_type": "pyerr",
       "traceback": [
        "\u001b[0;31m---------------------------------------------------------------------------\u001b[0m\n\u001b[0;31mTypeError\u001b[0m                                 Traceback (most recent call last)",
        "\u001b[0;32m<ipython-input-97-b33678abdb80>\u001b[0m in \u001b[0;36m<module>\u001b[0;34m()\u001b[0m\n\u001b[1;32m      1\u001b[0m \u001b[0mt\u001b[0m \u001b[0;34m=\u001b[0m \u001b[0;34m(\u001b[0m\u001b[0;36m1\u001b[0m\u001b[0;34m,\u001b[0m\u001b[0;36m2\u001b[0m\u001b[0;34m,\u001b[0m\u001b[0;36m3\u001b[0m\u001b[0;34m,\u001b[0m\u001b[0;36m4\u001b[0m\u001b[0;34m)\u001b[0m\u001b[0;34m\u001b[0m\u001b[0m\n\u001b[1;32m      2\u001b[0m \u001b[0;34m\u001b[0m\u001b[0m\n\u001b[0;32m----> 3\u001b[0;31m \u001b[0;32mdel\u001b[0m \u001b[0mt\u001b[0m\u001b[0;34m[\u001b[0m\u001b[0;36m2\u001b[0m\u001b[0;34m]\u001b[0m\u001b[0;34m\u001b[0m\u001b[0m\n\u001b[0m\u001b[1;32m      4\u001b[0m \u001b[0;32mprint\u001b[0m \u001b[0mt\u001b[0m\u001b[0;34m\u001b[0m\u001b[0m\n",
        "\u001b[0;31mTypeError\u001b[0m: 'tuple' object doesn't support item deletion"
       ]
      }
     ],
     "prompt_number": 97
    },
    {
     "cell_type": "code",
     "collapsed": false,
     "input": [
      "# again, find another way around\n",
      "\n",
      "t = (1,2,3,4)\n",
      "\n",
      "t = t[:2] + t[3:]\n",
      "print t"
     ],
     "language": "python",
     "metadata": {},
     "outputs": [
      {
       "output_type": "stream",
       "stream": "stdout",
       "text": [
        "(1, 2, 4)\n"
       ]
      }
     ],
     "prompt_number": 99
    },
    {
     "cell_type": "heading",
     "level": 4,
     "metadata": {},
     "source": [
      "files"
     ]
    },
    {
     "cell_type": "markdown",
     "metadata": {},
     "source": [
      "open some txt file and read a string"
     ]
    },
    {
     "cell_type": "heading",
     "level": 4,
     "metadata": {},
     "source": [
      "strings"
     ]
    },
    {
     "cell_type": "markdown",
     "metadata": {},
     "source": [
      "split the string \n",
      "\n",
      "find + a few more\n",
      "\n",
      "introduce looping\n",
      "\n",
      "-> list"
     ]
    },
    {
     "cell_type": "heading",
     "level": 4,
     "metadata": {},
     "source": [
      "list"
     ]
    },
    {
     "cell_type": "markdown",
     "metadata": {},
     "source": [
      "*lists* or *sequences* are contained within square brackets `[]`:\n",
      "\n",
      "The operators available for tuple work in much the same way as for lists (more formally, sequences):"
     ]
    },
    {
     "cell_type": "code",
     "collapsed": false,
     "input": [
      "t = ['It', 'was', 'the', 'best', 'of', 'times']\n",
      "print t\n",
      "\n",
      "\"\"\"slicing is the same as for tuples\"\"\"\n",
      "t = ['It', 'was', 'the', 'best', 'of', 'times']\n",
      "\n",
      "print \"\\n----slice----\"\n",
      "print 't[:4:2]:\\n\\t',t[:4:2]       # 0th item to 4th in steps of 2, so 0,2\n",
      "print 't[::-1]:\\n\\t',t[::-1]       # reversal\n",
      "\n",
      "\n",
      "\"\"\"index\"\"\"\n",
      "t = ['It', 'was', 'the', 'best', 'of', 'times']\n",
      "\n",
      "print \"\\n----index----\"\n",
      "print 't.index(\"best\"):\\n\\t',t.index('best')\n",
      "\n",
      "\n",
      "\"\"\"plus\"\"\"\n",
      "t = ['It', 'was'] + ['the', 'best', 'of', 'times']\n",
      "\n",
      "print \"\\n----plus----\"\n",
      "print \"t = ['It', 'was'] + ['the', 'best', 'of', 'times']\\n\\t\",t\n",
      "\n",
      "\n",
      "\"\"\"multiply\"\"\"\n",
      "t = ['It', 'was', 'the'] + ['best'] * 3 + ['of', 'times']\n",
      "\n",
      "print \"\\n----multiply----\"\n",
      "print \"t = ['It', 'was', 'the'] + ['best'] * 3 + ['of', 'times']\\n\\t\",t\n",
      "\n"
     ],
     "language": "python",
     "metadata": {},
     "outputs": [
      {
       "output_type": "stream",
       "stream": "stdout",
       "text": [
        "['It', 'was', 'the', 'best', 'of', 'times']\n",
        "\n",
        "----slice----\n",
        "t[:4:2]:\n",
        "\t['It', 'the']\n",
        "t[::-1]:\n",
        "\t['times', 'of', 'best', 'the', 'was', 'It']\n",
        "\n",
        "----index----\n",
        "t.index(\"best\"):\n",
        "\t3\n",
        "\n",
        "----plus----\n",
        "t = ['It', 'was'] + ['the', 'best', 'of', 'times']\n",
        "\t['It', 'was', 'the', 'best', 'of', 'times']\n",
        "\n",
        "----multiply----\n",
        "t = ['It', 'was', 'the'] + ['best'] * 3 + ['of', 'times']\n",
        "\t['It', 'was', 'the', 'best', 'best', 'best', 'of', 'times']\n"
       ]
      }
     ],
     "prompt_number": 178
    },
    {
     "cell_type": "markdown",
     "metadata": {},
     "source": [
      "But there are many other things one can do with a sequence, e.g.:"
     ]
    },
    {
     "cell_type": "code",
     "collapsed": false,
     "input": [
      "\"\"\"replace\"\"\"\n",
      "t = ['It', 'was', 'the', 'best', 'of', 'times']\n",
      "\n",
      "print \"\\n----replace----\"\n",
      "t[3:5] = ['New','York']\n",
      "print \"t[3:5] = 'New York':\\n\\t\",t\n",
      "\n",
      "\n",
      "\"\"\"index and replace\"\"\"\n",
      "t = ['It', 'was', 'the', 'best', 'of', 'times']\n",
      "\n",
      "print \"\\n----index and replace----\"\n",
      "t[t.index('best')] = 'worst'\n",
      "print 't[t.index(\"best\")] = \"worst\":\\n\\t',t\n",
      "\n",
      "\n",
      "\"\"\"can delete one or more items\"\"\"\n",
      "t = ['It', 'was', 'the', 'best', 'of', 'times']\n",
      "\n",
      "print \"\\n----del item----\"\n",
      "del t[2:4]                         # delete items 2 to 4, i.e. 2, 3 \n",
      "                                   # i.e. 'the', 'best'\n",
      "print 'del t[2:4]:\\n\\t',t\n",
      "\n",
      "\n",
      "\"\"\"can sort\"\"\"\n",
      "t = ['It', 'was', 'the', 'best', 'of', 'times']\n",
      "\n",
      "print \"\\n----sort----\"\n",
      "t.sort()                           # sort inplace\n",
      "\n",
      "print 't.sort():\\n\\t',t\n",
      "\n",
      "\n",
      "\"\"\"can insert\"\"\"\n",
      "t = ['It', 'was', 'the', 'best', 'of', 'times']\n",
      "\n",
      "print \"\\n----insert----\"\n",
      "t.insert(1,'really')               # insert inplace \n",
      "\n",
      "print \"t.insert(1,'really'):\\n\\t\",t\n"
     ],
     "language": "python",
     "metadata": {},
     "outputs": [
      {
       "output_type": "stream",
       "stream": "stdout",
       "text": [
        "\n",
        "----replace----\n",
        "t[3:5] = 'New York':\n",
        "\t['It', 'was', 'the', 'New', 'York', 'times']\n",
        "\n",
        "----index and replace----\n",
        "t[t.index(\"best\")] = \"worst\":\n",
        "\t['It', 'was', 'the', 'worst', 'of', 'times']\n",
        "\n",
        "----del item----\n",
        "del t[2:4]:\n",
        "\t['It', 'was', 'of', 'times']\n",
        "\n",
        "----sort----\n",
        "t.sort():\n",
        "\t['It', 'best', 'of', 'the', 'times', 'was']\n",
        "\n",
        "----insert----\n",
        "t.insert(1,'really'):\n",
        "\t['It', 'really', 'was', 'the', 'best', 'of', 'times']\n"
       ]
      }
     ],
     "prompt_number": 187
    },
    {
     "cell_type": "heading",
     "level": 2,
     "metadata": {},
     "source": [
      "Exercise 2.2"
     ]
    },
    {
     "cell_type": "markdown",
     "metadata": {},
     "source": [
      "### Average Temperature\n",
      "\n",
      "We want to calculate the long-term average temperature (tmax degC) using observational data at one or more meteorological stations. Such data are [relevant to understanding climate and its dynamics](http://www.carbonbrief.org/profiles/global-temperatures/).\n",
      "\n",
      "We choose the period 1960 to 1990 (30 years average to even out natural variability).\n",
      "\n",
      "We can obtain monthly average data for a number of UK stations from the [UK Met. Office](http://www.metoffice.gov.uk/climate/uk/stationdata).\n",
      "\n",
      "Not all station records are complete enough for this calculation, so we select, for example [Heathrow](http://www.metoffice.gov.uk/climate/uk/stationdata/heathrowdata.txt).\n",
      "\n",
      "Just with the Python skills you have learned so far, you should be able to solve a problem of this nature.\n",
      "\n",
      "Before diving into this though, you need to think through **what steps** you need to go through to achieve your aim?\n",
      "\n",
      "At a 'high' level, this could be:\n",
      "\n",
      "1. Get hold of the data\n",
      "2. Read the data into the computer program\n",
      "3. Select which years you want\n",
      "4. Average the data for each month over all selected years\n",
      "5. Print the results\n",
      "\n",
      "So now we need to think about how to implement these steps.\n",
      "\n",
      "For the first step, there are many ways you could do this."
     ]
    },
    {
     "cell_type": "code",
     "collapsed": false,
     "input": [
      "import urllib2\n",
      "\n",
      "#as files\n",
      "url = \"http://www.metoffice.gov.uk/climate/uk/stationdata/heathrowdata.txt\"\n",
      "\n",
      "req = urllib2.Request ( url )\n",
      "html = urllib2.urlopen(req).readlines()\n",
      "html = html[7:] # Skip headers\n",
      "\n",
      "# set up the problem\n",
      "start_year = 1960\n",
      "end_year = 1990\n",
      "\n",
      "tmax = []\n",
      "\n",
      "for l in html:\n",
      "    s = l.split()\n",
      "    year = int( s[0] )\n",
      "    if year >= start_year and year < end_year:\n",
      "        month = int ( s[1] )\n",
      "        if month == 1:\n",
      "            tmax.append([])\n",
      "        tmax[-1].append(float ( s[2] ))\n",
      "\n",
      "for l in tmax:\n",
      "    print l"
     ],
     "language": "python",
     "metadata": {},
     "outputs": [
      {
       "output_type": "stream",
       "stream": "stdout",
       "text": [
        "[6.9, 7.9, 10.2, 14.3, 18.4, 22.1, 20.1, 20.3, 18.5, 14.2, 11.2, 6.9]\n",
        "[6.9, 10.3, 13.9, 15.0, 16.8, 21.7, 22.1, 21.7, 20.9, 15.6, 9.9, 6.8]\n",
        "[7.9, 7.6, 7.4, 12.7, 15.0, 20.4, 20.6, 20.0, 17.8, 15.7, 9.1, 5.0]\n",
        "[0.8, 2.8, 10.7, 13.6, 16.0, 20.8, 21.1, 19.8, 18.0, 14.8, 11.8, 5.4]\n",
        "[5.8, 7.6, 7.6, 12.8, 19.6, 19.3, 22.8, 22.3, 21.1, 13.7, 11.2, 7.1]\n",
        "[6.6, 5.9, 10.5, 13.4, 16.8, 19.7, 19.3, 20.8, 17.4, 16.2, 8.4, 8.4]\n",
        "[5.3, 9.3, 10.9, 12.2, 17.0, 21.8, 20.1, 20.6, 19.6, 14.7, 8.8, 9.3]\n",
        "[7.3, 9.3, 11.6, 12.5, 15.6, 20.1, 23.5, 21.5, 18.5, 15.0, 9.7, 7.2]\n",
        "[7.2, 5.7, 11.1, 13.7, 15.4, 20.6, 20.7, 20.2, 18.8, 16.5, 9.5, 5.4]\n",
        "[8.9, 4.9, 8.0, 13.6, 17.1, 20.6, 23.9, 21.8, 19.6, 18.2, 9.6, 6.1]\n",
        "[7.1, 7.2, 8.1, 11.4, 19.2, 23.6, 21.3, 22.3, 20.3, 15.7, 11.9, 7.0]\n",
        "[7.8, 8.6, 9.1, 12.2, 18.1, 17.8, 24.1, 21.3, 20.7, 17.2, 10.4, 9.3]\n",
        "[6.9, 7.9, 12.4, 12.9, 16.0, 17.5, 22.3, 21.8, 17.3, 15.6, 9.9, 9.4]\n",
        "[7.3, 8.1, 11.5, 12.5, 16.9, 21.9, 21.4, 23.7, 20.7, 13.9, 10.3, 8.6]\n",
        "[9.6, 9.2, 10.3, 14.0, 17.0, 20.1, 20.9, 21.5, 17.5, 11.0, 10.6, 11.0]\n",
        "[10.3, 9.3, 8.4, 13.3, 15.1, 21.8, 24.1, 25.9, 19.5, 14.4, 10.1, 7.6]\n",
        "[8.8, 7.8, 9.5, 13.7, 19.3, 25.5, 26.6, 25.1, 19.0, 14.9, 9.9, 5.6]\n",
        "[6.1, 9.6, 11.2, 12.2, 16.4, 17.4, 22.4, 20.3, 18.0, 16.3, 10.4, 9.2]\n",
        "[6.7, 6.2, 11.3, 10.7, 17.2, 19.7, 20.5, 20.7, 20.1, 17.1, 12.6, 7.8]\n",
        "[3.8, 4.5, 9.2, 12.7, 15.9, 19.0, 22.5, 21.0, 19.6, 16.4, 10.8, 9.2]\n",
        "[6.0, 9.9, 9.0, 14.0, 17.3, 19.8, 19.7, 21.9, 20.1, 14.0, 9.3, 8.9]\n",
        "[8.1, 7.1, 11.8, 12.9, 16.1, 18.5, 22.0, 22.8, 20.3, 12.9, 11.5, 4.4]\n",
        "[6.9, 8.4, 11.1, 14.3, 18.0, 21.5, 22.7, 22.2, 20.8, 14.1, 11.4, 8.2]\n",
        "[10.0, 5.5, 10.8, 12.4, 15.6, 20.8, 27.6, 24.5, 19.3, 15.1, 11.3, 9.2]\n",
        "[8.0, 7.4, 8.9, 14.6, 14.9, 21.3, 24.2, 24.4, 18.6, 15.8, 12.2, 8.7]\n",
        "[4.1, 6.3, 9.4, 14.0, 16.4, 18.5, 22.9, 20.3, 20.6, 16.1, 8.1, 10.0]\n",
        "[7.2, 1.7, 10.1, 10.9, 16.3, 21.8, 22.6, 20.0, 17.4, 16.4, 12.1, 9.7]\n",
        "[3.6, 7.7, 8.5, 15.8, 16.3, 18.6, 21.8, 21.8, 19.3, 15.0, 9.8, 8.9]\n",
        "[8.8, 8.7, 10.7, 13.5, 18.0, 19.7, 20.0, 21.8, 18.8, 15.5, 9.9, 10.4]\n",
        "[9.5, 10.2, 12.9, 11.5, 21.0, 22.1, 25.8, 24.2, 20.7, 17.1, 10.9, 9.4]\n"
       ]
      }
     ],
     "prompt_number": 212
    },
    {
     "cell_type": "code",
     "collapsed": false,
     "input": [
      "month_names = [ \"Jan\", \"Feb\", \"Mar\", \"Apr\", \\\n",
      "    \"May\", \"Jun\", \"Jul\", \"Aug\", \"Sep\", \"Oct\", \"Nov\", \"Dec\" ]\n",
      "\n",
      "monthly_avg = []\n",
      "n_years = len(tmax)\n",
      "print \"T results for\",n_years,\"years:\",start_year,\"to\",end_year\n",
      "\n",
      "for month in xrange ( len(month_names) ):\n",
      "    temp = 0.\n",
      "    for year in xrange (n_years):\n",
      "        temp += tmax[year][month]\n",
      "    monthly_avg.append(temp/n_years)\n",
      "\n",
      "\n"
     ],
     "language": "python",
     "metadata": {},
     "outputs": [
      {
       "output_type": "stream",
       "stream": "stdout",
       "text": [
        "T results for 30 years: 1960 to 1990\n",
        "\n",
        "\tMonth\tTmaxAvg\n",
        "\n",
        "\tJan \t7.00666666667\n",
        "\tFeb \t7.42\n",
        "\tMar \t10.2033333333\n",
        "\tApr \t13.11\n",
        "\tMay \t16.9566666667\n",
        "\tJun \t20.4666666667\n",
        "\tJul \t22.32\n",
        "\tAug \t21.8833333333\n",
        "\tSep \t19.2933333333\n",
        "\tOct \t15.3033333333\n",
        "\tNov \t10.42\n",
        "\tDec \t8.00333333333\n"
       ]
      }
     ],
     "prompt_number": 227
    },
    {
     "cell_type": "markdown",
     "metadata": {},
     "source": [
      "dict\n",
      "\n",
      "\n",
      "make a config file (in unix) (or copy from XXX)\n",
      "\n",
      "read the file, split -> put in dict\n",
      "\n",
      "dict useful as have keys & values\n",
      "\n",
      "\n"
     ]
    }
   ],
   "metadata": {}
  }
 ]
}