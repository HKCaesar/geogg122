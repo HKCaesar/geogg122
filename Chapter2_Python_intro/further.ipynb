{
 "metadata": {
  "name": ""
 },
 "nbformat": 3,
 "nbformat_minor": 0,
 "worksheets": [
  {
   "cells": [
    {
     "cell_type": "markdown",
     "metadata": {},
     "source": [
      "This section of the notes is intended for follow-up after the class and future reference. We will not go through this in detail in the teaching sessions.\n",
      "\n",
      "This material and the exercises are more advanced than in the main notes. You are not *required* to do these, but may like to do so if you want to stretch yourself. "
     ]
    },
    {
     "cell_type": "heading",
     "level": 2,
     "metadata": {},
     "source": [
      "A2.1 Binary Operators"
     ]
    },
    {
     "cell_type": "heading",
     "level": 3,
     "metadata": {},
     "source": [
      "A2.1.1 Basic Logic"
     ]
    },
    {
     "cell_type": "markdown",
     "metadata": {},
     "source": [
      "Quite often (data masks in data products, being the most typical example), you will need to deal with binary numbers and binary operations, so we will introduce the concepts you need here.\n",
      "\n",
      "We came across *logical* or *Boolean* operations in the main session (with the data type `bool`). In logic, something can be `True` or `False`, and operations such as [`not`](http://en.wikipedia.org/wiki/Logical_NOT), [`and`](http://en.wikipedia.org/wiki/Logical_AND) and [`or`](http://en.wikipedia.org/wiki/Logical_OR) have quite obvious meanings. More generally in logic (and electronics) we may come across other logical operators such as [`nand`](http://en.wikipedia.org/wiki/Logical_NAND) (`not and`) and [`nor`](http://en.wikipedia.org/wiki/Logical_NOR) (`not or`) and [`xor`](http://en.wikipedia.org/wiki/Logical_XOR) (exclusive `or`: *either but not both*), but these are not defined in Python (they can of course be *derived* though).\n",
      "\n",
      "You should first make sure that you understand the results of the `and`, `or` and `not` `bool` operators:"
     ]
    },
    {
     "cell_type": "code",
     "collapsed": false,
     "input": [
      "print 'False and False =',False and False\n",
      "print 'False and True  =',False and True\n",
      "print 'True  and False =',True and False\n",
      "print 'True  and True  =',True and True"
     ],
     "language": "python",
     "metadata": {},
     "outputs": [
      {
       "output_type": "stream",
       "stream": "stdout",
       "text": [
        "False and False = False\n",
        "False and True  = False\n",
        "True  and False = False\n",
        "True  and True  = True\n"
       ]
      }
     ],
     "prompt_number": 1
    },
    {
     "cell_type": "code",
     "collapsed": false,
     "input": [
      "print 'False or False =',False or False\n",
      "print 'False or True  =',False or True\n",
      "print 'True  or False =',True or False\n",
      "print 'True  or True  =',True or True"
     ],
     "language": "python",
     "metadata": {},
     "outputs": [
      {
       "output_type": "stream",
       "stream": "stdout",
       "text": [
        "False or False = False\n",
        "False or True  = True\n",
        "True  or False = True\n",
        "True  or True  = True\n"
       ]
      }
     ],
     "prompt_number": 2
    },
    {
     "cell_type": "code",
     "collapsed": false,
     "input": [
      "print 'not False =',not False\n",
      "print 'not True  =',not True"
     ],
     "language": "python",
     "metadata": {},
     "outputs": [
      {
       "output_type": "stream",
       "stream": "stdout",
       "text": [
        "not False = True\n",
        "not True  = False\n"
       ]
      }
     ],
     "prompt_number": 3
    },
    {
     "cell_type": "heading",
     "level": 3,
     "metadata": {},
     "source": [
      "Exercise A2.1"
     ]
    },
    {
     "cell_type": "markdown",
     "metadata": {},
     "source": [
      "As an exercise for this, you could see if you can simulate the logical combinations `xor`, `nor` and `nand`, e.g.:"
     ]
    },
    {
     "cell_type": "code",
     "collapsed": false,
     "input": [
      "# nand test:\n",
      "#\u00a0see http://en.wikipedia.org/wiki/Logical_NAND\n",
      "# (A nand B) is not (A and B)\n",
      "\n",
      "ABList = [(False,False),(False,True),(True,False),(True,True)]\n",
      "for A,B in ABList:\n",
      "  print '%s nand %s  ='%(str(A),str(B)),not (A and B)"
     ],
     "language": "python",
     "metadata": {},
     "outputs": [
      {
       "output_type": "stream",
       "stream": "stdout",
       "text": [
        "False nand False  = True\n",
        "False nand True  = True\n",
        "True nand False  = True\n",
        "True nand True  = False\n"
       ]
      }
     ],
     "prompt_number": 4
    },
    {
     "cell_type": "heading",
     "level": 3,
     "metadata": {},
     "source": [
      "A2.1.2 Binary"
     ]
    },
    {
     "cell_type": "heading",
     "level": 3,
     "metadata": {},
     "source": [
      "Endianness"
     ]
    },
    {
     "cell_type": "markdown",
     "metadata": {},
     "source": [
      "It is of value to have some understanding of binary operations and representation(s):\n",
      "\n",
      "- you will come across these in encoded data products (such as the QA information in MODIS and other satellite products) as it is a more efficient way of enconding multiple sets of logical information  \n",
      "- this is the form in which the computer ultimately stores and processes information, so it is useful to have some appreciation of that  \n",
      "- you will sometimes need to consider how large a number representation is (e.g. byte or short integer or long integer) as this can impact computer memory and storage requirements  \n",
      "- you may come across different binary representations for different datasets\n",
      "\n",
      "There are two main number representations used in computing, which depend on the interpretation of the  [MSB](http://en.wikipedia.org/wiki/Most_significant_bit), Most Significant Bit or 'high bit order' (or Byte) and [LSB](http://en.wikipedia.org/wiki/Least_significant_bit), Least Significant Bit or 'low bit order' (or Byte). \n",
      "\n",
      "Which system is used is sometimes refered to as ['endianness'](http://en.wikipedia.org/wiki/Endianness) so we may refer to a 'big-endian' or 'little-endian' representation. In a big-endian representation, the left-most byte represents the highest number. In a little-endian system, this is the lowest number.\n",
      "\n",
      "It is probably easiest to understand this with decimal numbers:\n",
      "\n",
      "So, in a big-endian decimal representation:\n",
      "\n",
      "    152\n",
      "    \n",
      "represents one hundred and fifty two (`(1 x 10^2) + (5 x 10^1) + (2 x 10^0)`)\n",
      "\n",
      "In a little-endian system, this is interpreted the other way around, so `152` is `(2 x 10^2) + (5 x 10^1) + (1 x 10^0)`, so is actually two hundred and fifty one.\n",
      "\n",
      "The term comes from Jonathan Swift's [Gulliver's travels](http://www.gutenberg.org/files/829/829-h/829-h.htm), if you are interested, refering to the which end of an egg the people of Lilliput and Blefuscu believe you should open:\n",
      "\n",
      "``\"(The people of Lilliput and Blefuscu have) been engaged in a most obstinate war for six-and-thirty moons past.  It began upon the following occasion.  It is allowed on all hands, that the primitive way of breaking eggs, before we eat them, was upon the larger end; but his present majesty\u2019s grandfather, while he was a boy, going to eat an egg, and breaking it according to the ancient practice, happened to cut one of his fingers.  Whereupon the emperor his father published an edict, commanding all his subjects, upon great penalties, to break the smaller end of their eggs.  The people so highly resented this law, that our histories tell us, there have been six rebellions raised on that account; wherein one emperor lost his life, and another his crown.  These civil commotions were constantly fomented by the monarchs of Blefuscu; and when they were quelled, the exiles always fled for refuge to that empire.  It is computed that eleven thousand persons have at several times suffered death, rather than submit to break their eggs at the smaller end.  Many hundred large volumes have been published upon this controversy: but the books of the Big-endians have been long forbidden, and the whole party rendered incapable by law of holding employments.\"``\n",
      "\n",
      "\n",
      "Endianness then (like which end of an egg you should break), is ultimately arbitrary, but we must still have conventions so that information on one computer system can be interpreted by another.\n",
      "\n",
      "At present, probably most computers you use will be little-endian (the 'Intel convention' as it has come to be known), but you may also come across data stored in big-endian (so-called 'Motorola convention') format. \n",
      "\n",
      "Endianness is mainly implemented at the byte level, so if you are considering a signle byte, which 'end you open the egg' has no consequence.\n",
      "\n",
      "For longer number representations though (e.g. a 2-byte or 4-byte integer) it can have significant consequences, and you need to be aware of the endianness of data that you might try to be reading. Many file formats will explicitly store the endinaness that data were written in, so a correct interpretation will be handled by low level reading routines. But, if you get binary data that are of more than one byte that look rather odd when you display them, one possible reason is that you have assumed a different endinaness to what the data were written in.\n"
     ]
    },
    {
     "cell_type": "heading",
     "level": 3,
     "metadata": {},
     "source": [
      "Binary numbers"
     ]
    },
    {
     "cell_type": "markdown",
     "metadata": {},
     "source": [
      "When we are working with *binary* numbers *for a single bit*, we represent `False` by `0` and `True` by `1`.\n",
      "\n",
      "In Python, these representations can essentially be used interchangably with logical operators, (but we use the function `bool()` to convert to a boolean representation)"
     ]
    },
    {
     "cell_type": "code",
     "collapsed": false,
     "input": [
      "print True or False"
     ],
     "language": "python",
     "metadata": {},
     "outputs": [
      {
       "output_type": "stream",
       "stream": "stdout",
       "text": [
        "True\n"
       ]
      }
     ],
     "prompt_number": 5
    },
    {
     "cell_type": "code",
     "collapsed": false,
     "input": [
      "print 1 or 0"
     ],
     "language": "python",
     "metadata": {},
     "outputs": [
      {
       "output_type": "stream",
       "stream": "stdout",
       "text": [
        "1\n"
       ]
      }
     ],
     "prompt_number": 6
    },
    {
     "cell_type": "code",
     "collapsed": false,
     "input": [
      "print bool(1 or 0)"
     ],
     "language": "python",
     "metadata": {},
     "outputs": [
      {
       "output_type": "stream",
       "stream": "stdout",
       "text": [
        "True\n"
       ]
      }
     ],
     "prompt_number": 7
    },
    {
     "cell_type": "code",
     "collapsed": false,
     "input": [
      "whatTheySay = True\n",
      "\n",
      "if whatTheySay:\n",
      "    print \"it's true what they say ...\"\n",
      "else:\n",
      "    print \"it's not true what they say ...\""
     ],
     "language": "python",
     "metadata": {},
     "outputs": [
      {
       "output_type": "stream",
       "stream": "stdout",
       "text": [
        "it's true what they say ...\n"
       ]
      }
     ],
     "prompt_number": 8
    },
    {
     "cell_type": "code",
     "collapsed": false,
     "input": [
      "whatTheySay = 1\n",
      "\n",
      "if whatTheySay:\n",
      "    print \"it's true what they say ...\"\n",
      "else:\n",
      "    print \"it's not true what they say ...\""
     ],
     "language": "python",
     "metadata": {},
     "outputs": [
      {
       "output_type": "stream",
       "stream": "stdout",
       "text": [
        "it's true what they say ...\n"
       ]
      }
     ],
     "prompt_number": 9
    },
    {
     "cell_type": "markdown",
     "metadata": {},
     "source": [
      "A binary representation of a number is a representation in [base 2](http://en.wikipedia.org/wiki/Binary_number), where we may use multiple [bits](http://en.wikipedia.org/wiki/Bit) to represent numbers.\n",
      "\n",
      "Some number representations (such as [floating point](http://en.wikipedia.org/wiki/IEEE_floating_point)) are stored in a more complicated manner, but [ASCII codes](http://www.asciitable.com/) for string representation and integers are in a more straightforward binary format.\n",
      "\n",
      "So, e.g. the (integer) **decimal** number 3 is `11` in binary (base 2):"
     ]
    },
    {
     "cell_type": "code",
     "collapsed": false,
     "input": [
      "3 == (1 * 2**1) + \\\n",
      "     (1 * 2**0)"
     ],
     "language": "python",
     "metadata": {},
     "outputs": [
      {
       "metadata": {},
       "output_type": "pyout",
       "prompt_number": 10,
       "text": [
        "True"
       ]
      }
     ],
     "prompt_number": 10
    },
    {
     "cell_type": "markdown",
     "metadata": {},
     "source": [
      "We can use the Python function `bin()` to get this more directly:"
     ]
    },
    {
     "cell_type": "code",
     "collapsed": false,
     "input": [
      "print bin(3)"
     ],
     "language": "python",
     "metadata": {},
     "outputs": [
      {
       "output_type": "stream",
       "stream": "stdout",
       "text": [
        "0b11\n"
       ]
      }
     ],
     "prompt_number": 11
    },
    {
     "cell_type": "code",
     "collapsed": false,
     "input": [
      "print 0b11"
     ],
     "language": "python",
     "metadata": {},
     "outputs": [
      {
       "output_type": "stream",
       "stream": "stdout",
       "text": [
        "3\n"
       ]
      }
     ],
     "prompt_number": 12
    },
    {
     "cell_type": "markdown",
     "metadata": {},
     "source": [
      "Similarly, the decimal number `101` is `1100101` in binary:"
     ]
    },
    {
     "cell_type": "code",
     "collapsed": false,
     "input": [
      "101 ==  (1 * 2**6) + \\\n",
      "        (1 * 2**5) + \\\n",
      "        (0 * 2**4) + \\\n",
      "        (0 * 2**3) + \\\n",
      "        (1 * 2**2) + \\\n",
      "        (0 * 2**1) + \\\n",
      "        (1 * 2**0)"
     ],
     "language": "python",
     "metadata": {},
     "outputs": [
      {
       "metadata": {},
       "output_type": "pyout",
       "prompt_number": 13,
       "text": [
        "True"
       ]
      }
     ],
     "prompt_number": 13
    },
    {
     "cell_type": "code",
     "collapsed": false,
     "input": [
      "print bin(101)"
     ],
     "language": "python",
     "metadata": {},
     "outputs": [
      {
       "output_type": "stream",
       "stream": "stdout",
       "text": [
        "0b1100101\n"
       ]
      }
     ],
     "prompt_number": 14
    },
    {
     "cell_type": "heading",
     "level": 3,
     "metadata": {},
     "source": [
      "Exercise A2.2"
     ]
    },
    {
     "cell_type": "markdown",
     "metadata": {},
     "source": [
      "a. Work out what the following decimal numbers are in binary:\n",
      "\n",
      "    7  \n",
      "    493  \n",
      "    127    \n",
      "    255  \n",
      "    1024  \n",
      "\n",
      "  and check your result using the approach we took to confirming `101`:\n",
      "\n",
      "    101 ==  (1 * 2**6) + \\\n",
      "            (1 * 2**5) + \\\n",
      "            (0 * 2**4) + \\\n",
      "            (0 * 2**3) + \\\n",
      "            (1 * 2**2) + \\\n",
      "            (0 * 2**1) + \\\n",
      "            (1 * 2**0)\n",
      "        \n",
      "b. How many bits are needed to represent each of these numbers?\n",
      "\n",
      "c. What is the largest number you could represent in: (i) a 32 bit representation; (b) a 64 bit representation?\n",
      "\n",
      "d. Recalling that there are 8 bits in a [byte](http://en.wikipedia.org/wiki/Byte), what is the largest number you could represent in: (a) a single byte; (b) two bytes? "
     ]
    },
    {
     "cell_type": "code",
     "collapsed": false,
     "input": [
      "'''\n",
      "    Explorations in binary!\n",
      "\n",
      "    We can represent:\n",
      "   \n",
      "    binary numbers, e.g.    0b010101\n",
      "    octal numbers, e.g.     0o755\n",
      "    hexadecimal, e.g.       0x2A2FF\n",
      "\n",
      "    but if we print these, \n",
      "    by default they are printed as the decimal equivalents.\n",
      "    \n",
      "    We can convert to binary, octal or hex string with \n",
      "    bin(), oct(), hex()\n",
      "'''\n",
      "x = 0b111101101\n",
      "print bin(x),'is',x,'in decimal'\n",
      "print bin(x),'is',oct(x),'in octal'\n",
      "print bin(x),'is',hex(x),'in hexadecimal'"
     ],
     "language": "python",
     "metadata": {},
     "outputs": [
      {
       "output_type": "stream",
       "stream": "stdout",
       "text": [
        "0b111101101 is 493 in decimal\n",
        "0b111101101 is 0755 in octal\n",
        "0b111101101 is 0x1ed in hexadecimal\n"
       ]
      }
     ],
     "prompt_number": 15
    },
    {
     "cell_type": "heading",
     "level": 3,
     "metadata": {},
     "source": [
      "A2.1.2 Bitwise Operators"
     ]
    },
    {
     "cell_type": "markdown",
     "metadata": {},
     "source": [
      "In Python (and most other computer languages) you have access to bitwise operators. As you might expect, these are operators that are executed on individual bits in a binary representation of a number.\n",
      "\n",
      "The bitwise operators available in Python are:\n",
      "\n",
      "- `&` bitwise and\n",
      "- `|` bitwise or\n",
      "- `^` bitwise `xor` (exclusive or)\n",
      "- `~` bitwise ones complement\n",
      "- `<<` bitwise left shift\n",
      "- `>>` bitwise right shift\n",
      "\n",
      "\n",
      "The `&` operator simply performs a logical `and` operation on two sets of binary representations, so:\n",
      "\n",
      "    1 & 0 == 0\n",
      "    \n",
      "is the same as a logical `True and False` operation that we saw above .\n",
      "\n",
      "The `|` operator simply performs a logical `or` operation on two sets of binary representations, so:\n",
      "\n",
      "    1 | 0 == 1\n",
      "    \n",
      "is the same as a logical `True or False` operation that we saw above.\n",
      "\n",
      "Similarly, \n",
      "\n",
      "    1 ^ 0 == 1\n",
      "    1 ^ 1 == 0\n",
      "    \n",
      "and\n",
      "\n",
      "    ~1 == 0\n",
      "    ~0 == 1\n",
      "    \n",
      "These same rules apply then to all bit fields:\n",
      "\n",
      "    ~1010 == 0101\n",
      "    \n",
      "etc.\n",
      "\n",
      "The shift operators are interesting: \n",
      "\n",
      "left shift by 1, for example is equivalent to multiplying by 2, and right shift by 1 a division by 2.\n",
      "\n",
      "They are also very useful in sorting out 'bit masks' for data products."
     ]
    },
    {
     "cell_type": "code",
     "collapsed": false,
     "input": [
      "'''\n",
      "    Bitwise operators: \n",
      "'''\n",
      "\n",
      "A = 521\n",
      "B = 523\n",
      "# print as binary:\n",
      "print A,'\\tA:\\t',bin(A)\n",
      "print B,'\\tB:\\t',bin(B)\n",
      "\n",
      "# some operations\n",
      "print '\\tA | B:\\t',bin(A|B),'\\t',A|B\n",
      "print '\\tA ^ B:\\t',bin(A^B),'\\t\\t',A^B\n",
      "print '\\tA & B:\\t',bin(A&B),'\\t',A&B"
     ],
     "language": "python",
     "metadata": {},
     "outputs": [
      {
       "output_type": "stream",
       "stream": "stdout",
       "text": [
        "521 \tA:\t0b1000001001\n",
        "523 \tB:\t0b1000001011\n",
        "\tA | B:\t0b1000001011 \t523\n",
        "\tA ^ B:\t0b10 \t\t2\n",
        "\tA & B:\t0b1000001001 \t521\n"
       ]
      }
     ],
     "prompt_number": 16
    },
    {
     "cell_type": "code",
     "collapsed": false,
     "input": [
      "'''\n",
      "    Bitwise shift operators: \n",
      "'''\n",
      "\n",
      "A = 531\n",
      "print '\\tA:\\t',bin(A),'\\t',A\n",
      "print '\\tA>>1:\\t',bin(A>>1),'\\t',A>>1\n",
      "print '\\tA>>1:\\t',bin(A<<1),'\\t',A<<1\n",
      "print '\\tA>>3:\\t',bin(A>>3),'\\t',A>>3\n",
      "print '\\tA>>3:\\t',bin(A<<3),'\\t',A<<3"
     ],
     "language": "python",
     "metadata": {},
     "outputs": [
      {
       "output_type": "stream",
       "stream": "stdout",
       "text": [
        "\tA:\t0b1000010011 \t531\n",
        "\tA>>1:\t0b100001001 \t265\n",
        "\tA>>1:\t0b10000100110 \t1062\n",
        "\tA>>3:\t0b1000010 \t66\n",
        "\tA>>3:\t0b1000010011000 \t4248\n"
       ]
      }
     ],
     "prompt_number": 17
    },
    {
     "cell_type": "markdown",
     "metadata": {},
     "source": [
      "As an example of data masking, consider the QA mask in the [MODIS Leaf Area Index (LAI)](https://lpdaac.usgs.gov/products/modis_products_table/leaf_area_index_fraction_of_photosynthetically_active_radiation/8_day_l4_global_1km/mod15a2) product:\n",
      "\n",
      "\n",
      "<table>\n",
      "<tr>\n",
      "<td>Bit number</td>\n",
      "<td>Parameter Name</td>\n",
      "<td>Bit combination</td>\n",
      "<td>Interpretation</td>\n",
      "</tr><tr>\n",
      "\n",
      "<td>0</td>\n",
      "<td>MODLAND_QC bits</td>\n",
      "<td>0</td>\n",
      "<td>Good quality (main algorithm with or without saturation)</td>\n",
      "</tr><tr>\n",
      "\n",
      "<td></td>\n",
      "<td></td>\n",
      "<td>1</td>\n",
      "<td>Other Quality (back-up algorithm or fill values)</td>\n",
      "</tr><tr>\n",
      "\n",
      "<td>1</td>\n",
      "<td>Sensor</td>\n",
      "<td>0</td>\n",
      "<td>Terra</td>\n",
      "</tr><tr>\n",
      "\n",
      "<td></td>\n",
      "<td></td>\n",
      "<td>1</td>\n",
      "<td>Aqua</td>\n",
      "</tr><tr>\n",
      "\n",
      "<td>2</td>\n",
      "<td>DeadDetector</td>\n",
      "<td>0</td>\n",
      "<td>Detectors apparently fine for up to 50% of channels</td>\n",
      "</tr><tr>\n",
      "\n",
      "<td></td>\n",
      "<td></td>\n",
      "<td>1</td>\n",
      "<td>Dead detectors caused >50% adjacent detector retrieval</td>\n",
      "</tr><tr>\n",
      "\n",
      "<td>3-4</td>\n",
      "<td>CloudState</td>\n",
      "<td>00</td>\n",
      "<td>Significant clouds NOT present (clear)</td>\n",
      "</tr><tr>\n",
      "\n",
      "<td></td>\n",
      "<td></td>\n",
      "<td>01</td>\n",
      "<td>Significant clouds WERE present</td>\n",
      "</tr><tr>\n",
      "\n",
      "<td></td>\n",
      "<td></td>\n",
      "<td>10</td>\n",
      "<td>Mixed cloud present on pixel</td>\n",
      "</tr><tr>\n",
      "\n",
      "<td></td>\n",
      "<td></td>\n",
      "<td>11</td>\n",
      "<td>Cloud state not defined (assumed clear)</td>\n",
      "</tr><tr>\n",
      "\n",
      "<td>5-7</td>\n",
      "<td>CF_QC</td>\n",
      "<td>000</td>\n",
      "<td>Main (RT) method used (best result possible (no saturation))</td>\n",
      "</tr><tr>\n",
      "\n",
      "<td></td>\n",
      "<td></td>\n",
      "<td>001</td>\n",
      "<td>Main (RT) method used with saturation. (usable)</td>\n",
      "</tr><tr>\n",
      "\n",
      "<td></td>\n",
      "<td></td>\n",
      "<td>010</td>\n",
      "<td>Main (RT) method failed due to bad geometry (empirical algorithm used)</td>\n",
      "</tr><tr>\n",
      "\n",
      "<td></td>\n",
      "<td></td>\n",
      "<td>010</td>\n",
      "<td>Main (RT) method failed due to problems other than geometry (empirical algorithm used)</td>\n",
      "</tr><tr>\n",
      "\n",
      "<td></td>\n",
      "<td></td>\n",
      "<td>010</td>\n",
      "<td>Pixel not produced at all.</td>\n",
      "</tr>\n",
      "</table>\n"
     ]
    },
    {
     "cell_type": "markdown",
     "metadata": {},
     "source": [
      "So, the MODIS LAI QA information is contained in one byte (8 bits), which encodes data about five different categories of QA information.\n",
      "\n",
      "When using such data, we need to make choices about what quality of data we are willing to accept.\n",
      "\n",
      "How can we use our understanding of bitwise operations to pull out these datasets?\n",
      "\n",
      "First, we can try to pull out the different categories.\n",
      "\n",
      "One way to do this is using a set of 'bit masks' for each of the bit fields we want to cover.\n",
      "\n",
      "If then perform a bitwise and operation with these, only relevant bits will 'show' through."
     ]
    },
    {
     "cell_type": "code",
     "collapsed": false,
     "input": [
      "# an example QA value: fill all fields\n",
      "qa = 0b11111111\n",
      "\n",
      "print 'qa',qa\n",
      "print 'binary qa',bin(qa)\n",
      "\n",
      "# set up masks for the different parameters\n",
      "mask1 = 0b00000001    # bit 0\n",
      "mask2 = 0b00000010    # bit 1\n",
      "mask3 = 0b00000100    # bit 2\n",
      "mask4 = 0b00011000    # bit 3-4\n",
      "mask5 = 0b11100000    # bit 5-7\n",
      "\n",
      "qa1 = qa & mask1\n",
      "qa2 = qa & mask2\n",
      "qa3 = qa & mask3\n",
      "qa4 = qa & mask4\n",
      "qa5 = qa & mask5\n",
      "\n",
      "print 'qa1',bin(qa1)\n",
      "print 'qa2',bin(qa2)\n",
      "print 'qa3',bin(qa3)\n",
      "print 'qa4',bin(qa4)\n",
      "print 'qa5',bin(qa5)\n"
     ],
     "language": "python",
     "metadata": {},
     "outputs": [
      {
       "output_type": "stream",
       "stream": "stdout",
       "text": [
        "qa 255\n",
        "binary qa 0b11111111\n",
        "qa1 0b1\n",
        "qa2 0b10\n",
        "qa3 0b100\n",
        "qa4 0b11000\n",
        "qa5 0b11100000\n"
       ]
      }
     ],
     "prompt_number": 18
    },
    {
     "cell_type": "markdown",
     "metadata": {},
     "source": [
      "We gave an example qa value with `1` in all bit fields, and can see that this information has been passed through above, but we still need to remove the trailing zeros to the right of the bit field.\n",
      "\n",
      "We can easily do this with a right shift operator:"
     ]
    },
    {
     "cell_type": "code",
     "collapsed": false,
     "input": [
      "qa1 = (qa & 0b00000001) >> 0    # bit 0\n",
      "qa2 = (qa & 0b00000010) >> 1    # bit 1\n",
      "qa3 = (qa & 0b00000100) >> 2    # bit 2\n",
      "qa4 = (qa & 0b00011000) >> 3    # bit 3-4\n",
      "qa5 = (qa & 0b11100000) >> 5    # bit 5-7\n",
      "\n",
      "print 'qa1',bin(qa1)\n",
      "print 'qa2',bin(qa2)\n",
      "print 'qa3',bin(qa3)\n",
      "print 'qa4',bin(qa4)\n",
      "print 'qa5',bin(qa5)"
     ],
     "language": "python",
     "metadata": {},
     "outputs": [
      {
       "output_type": "stream",
       "stream": "stdout",
       "text": [
        "qa1 0b1\n",
        "qa2 0b1\n",
        "qa3 0b1\n",
        "qa4 0b11\n",
        "qa5 0b111\n"
       ]
      }
     ],
     "prompt_number": 19
    },
    {
     "cell_type": "markdown",
     "metadata": {},
     "source": [
      "And now we see that we have *just* the information we required.\n",
      "\n",
      "There are many ways to achieve the same result in filtering such QA masks, but it is quite easy to make a mistake in doing so, so the *clearest* way to do this is generally as above:\n",
      "\n",
      "- develop a bit mask with `1` in the required fields \n",
      "    - e.g. `mask4 = 0b00011000    # bit 3-4`\n",
      "    - e.g. `mask1 = 0b00000001    # bit 0`\n",
      "- do a bitwise and (`&`) between the data and the bit mask\n",
      "- and right shift the result by the 'starting' bit\n",
      "    - e.g. `(qa & 0b00011000) >> 3    # bit 3-4`\n",
      "\n",
      "It is always a good idea to test the application of such masks by setting `1` in all fields, as you can easily see if you get the result you should be expecting."
     ]
    },
    {
     "cell_type": "heading",
     "level": 3,
     "metadata": {},
     "source": [
      "Exercise A2.3"
     ]
    },
    {
     "cell_type": "markdown",
     "metadata": {},
     "source": [
      "Develop some code to repeat the QA bit masking done above, but make the code generate the bit masks itself from knowledge of the first and last of the bit fields you require (assuming they are sequential).\n",
      "\n",
      "If possible, do this in a function.\n",
      "\n",
      "Demonstrate its operation with several example bit masks."
     ]
    }
   ],
   "metadata": {}
  }
 ]
}