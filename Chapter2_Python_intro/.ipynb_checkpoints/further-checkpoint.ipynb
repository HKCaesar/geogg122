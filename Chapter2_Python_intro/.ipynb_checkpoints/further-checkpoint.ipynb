{
 "metadata": {
  "name": ""
 },
 "nbformat": 3,
 "nbformat_minor": 0,
 "worksheets": [
  {
   "cells": [
    {
     "cell_type": "heading",
     "level": 2,
     "metadata": {},
     "source": [
      "A2.1 Binary Operators"
     ]
    },
    {
     "cell_type": "heading",
     "level": 3,
     "metadata": {},
     "source": [
      "A2.1.1 Basic Logic"
     ]
    },
    {
     "cell_type": "markdown",
     "metadata": {},
     "source": [
      "Quite often (data masks in data products, being the most typical example), you will need to deal with binary numbers and binary operations, so we will introduce the concepts you need here.\n",
      "\n",
      "This section of the notes is intended for follow-up after the class and future reference. We will not go through this in detail in the teaching sessions.\n",
      "\n",
      "We came across *logical* or *Boolean* operations in the main session (with the data type `bool`). In logic, something can be `True` or `False`, and operations such as [`not`](http://en.wikipedia.org/wiki/Logical_NOT), [`and`](http://en.wikipedia.org/wiki/Logical_AND) and [`or`](http://en.wikipedia.org/wiki/Logical_OR) have quite obvious meanings. More generally in logic (and electronics) we may come across other logical operators such as [`nand`](http://en.wikipedia.org/wiki/Logical_NAND) (`not and`) and [`nor`](http://en.wikipedia.org/wiki/Logical_NOR) (`not or`) and [`xor`](http://en.wikipedia.org/wiki/Logical_XOR) (exclusive `or`: *either but not both*), but these are not defined in Python (they can of course be *derived* though).\n",
      "\n",
      "You should first make sure that you understand the results of the `and`, `or` and `not` `bool` operators:"
     ]
    },
    {
     "cell_type": "code",
     "collapsed": false,
     "input": [
      "print 'False and False =',False and False\n",
      "print 'False and True  =',False and True\n",
      "print 'True  and False =',True and False\n",
      "print 'True  and True  =',True and True"
     ],
     "language": "python",
     "metadata": {},
     "outputs": [
      {
       "output_type": "stream",
       "stream": "stdout",
       "text": [
        "False and False = False\n",
        "False and True  = False\n",
        "True  and False = False\n",
        "True  and True  = True\n"
       ]
      }
     ],
     "prompt_number": 13
    },
    {
     "cell_type": "code",
     "collapsed": false,
     "input": [
      "print 'False or False =',False or False\n",
      "print 'False or True  =',False or True\n",
      "print 'True  or False =',True or False\n",
      "print 'True  or True  =',True or True"
     ],
     "language": "python",
     "metadata": {},
     "outputs": [
      {
       "output_type": "stream",
       "stream": "stdout",
       "text": [
        "False or False = False\n",
        "False or True  = True\n",
        "True  or False = True\n",
        "True  or True  = True\n"
       ]
      }
     ],
     "prompt_number": 14
    },
    {
     "cell_type": "code",
     "collapsed": false,
     "input": [
      "print 'not False =',not False\n",
      "print 'not True  =',not True"
     ],
     "language": "python",
     "metadata": {},
     "outputs": [
      {
       "output_type": "stream",
       "stream": "stdout",
       "text": [
        "not False = True\n",
        "not True  = False\n"
       ]
      }
     ],
     "prompt_number": 15
    },
    {
     "cell_type": "markdown",
     "metadata": {},
     "source": [
      "### Exercise A2.1\n",
      "\n",
      "As an exercise for this, you could see if you can simulate the logical combinations `xor`, `nor` and `nand`, e.g.:"
     ]
    },
    {
     "cell_type": "code",
     "collapsed": false,
     "input": [
      "# nand test:\n",
      "#\u00a0see http://en.wikipedia.org/wiki/Logical_NAND\n",
      "# (A nand B) is not (A and B)\n",
      "\n",
      "ABList = [(False,False),(False,True),(True,False),(True,True)]\n",
      "for A,B in ABList:\n",
      "  print '%s nand %s  ='%(str(A),str(B)),not (A and B)"
     ],
     "language": "python",
     "metadata": {},
     "outputs": [
      {
       "output_type": "stream",
       "stream": "stdout",
       "text": [
        "False nand False  = True\n",
        "False nand True  = True\n",
        "True nand False  = True\n",
        "True nand True  = False\n"
       ]
      }
     ],
     "prompt_number": 19
    },
    {
     "cell_type": "heading",
     "level": 3,
     "metadata": {},
     "source": [
      "A2.1.2 Binary"
     ]
    },
    {
     "cell_type": "markdown",
     "metadata": {},
     "source": [
      "When we are working with *binary* numbers *for a single bit*, we represent `False` by `0` and `True` by `1`.\n",
      "\n",
      "In Python, these representations can essentially be used interchangably with logical operators, (but we use the function `bool()` to convert to a boolean representation)"
     ]
    },
    {
     "cell_type": "code",
     "collapsed": false,
     "input": [
      "print True or False"
     ],
     "language": "python",
     "metadata": {},
     "outputs": [
      {
       "output_type": "stream",
       "stream": "stdout",
       "text": [
        "True\n"
       ]
      }
     ],
     "prompt_number": 20
    },
    {
     "cell_type": "code",
     "collapsed": false,
     "input": [
      "print 1 or 0"
     ],
     "language": "python",
     "metadata": {},
     "outputs": [
      {
       "output_type": "stream",
       "stream": "stdout",
       "text": [
        "1\n"
       ]
      }
     ],
     "prompt_number": 23
    },
    {
     "cell_type": "code",
     "collapsed": false,
     "input": [
      "print bool(1 or 0)"
     ],
     "language": "python",
     "metadata": {},
     "outputs": [
      {
       "output_type": "stream",
       "stream": "stdout",
       "text": [
        "True\n"
       ]
      }
     ],
     "prompt_number": 22
    },
    {
     "cell_type": "code",
     "collapsed": false,
     "input": [
      "whatTheySay = True\n",
      "\n",
      "if whatTheySay:\n",
      "    print \"it's true what they say ...\"\n",
      "else:\n",
      "    print \"it's not true what they say ...\""
     ],
     "language": "python",
     "metadata": {},
     "outputs": [
      {
       "output_type": "stream",
       "stream": "stdout",
       "text": [
        "it's true what they say ...\n"
       ]
      }
     ],
     "prompt_number": 24
    },
    {
     "cell_type": "code",
     "collapsed": false,
     "input": [
      "whatTheySay = 1\n",
      "\n",
      "if whatTheySay:\n",
      "    print \"it's true what they say ...\"\n",
      "else:\n",
      "    print \"it's not true what they say ...\""
     ],
     "language": "python",
     "metadata": {},
     "outputs": [
      {
       "output_type": "stream",
       "stream": "stdout",
       "text": [
        "it's true what they say ...\n"
       ]
      }
     ],
     "prompt_number": 25
    },
    {
     "cell_type": "markdown",
     "metadata": {},
     "source": [
      "A binary representation of a number is a representation in [base 2](http://en.wikipedia.org/wiki/Binary_number)."
     ]
    },
    {
     "cell_type": "code",
     "collapsed": false,
     "input": [
      "'''\n",
      "    Explorations in binary!\n",
      "\n",
      "    We can represent:\n",
      "   \n",
      "    binary numbers, e.g.    0b010101\n",
      "    octal numbers, e.g.     0o755\n",
      "    hexadecimal, e.g.       0x2A2FF\n",
      "\n",
      "    but if we print these, \n",
      "    by default they are printed as the decimal equivalents.\n",
      "    \n",
      "    We can convert to binary, octal or hex string with \n",
      "    bin(), oct(), hex()\n",
      "'''\n",
      "x = 0b111101101\n",
      "print bin(x),'is',x,'in decimal'\n",
      "print bin(x),'is',oct(x),'in octal'\n",
      "print bin(x),'is',hex(x),'in hexadecimal'"
     ],
     "language": "python",
     "metadata": {},
     "outputs": [
      {
       "output_type": "stream",
       "stream": "stdout",
       "text": [
        "0b111101101 is 493 in decimal\n",
        "0b111101101 is 0755 in octal\n",
        "0b111101101 is 0x1ed in hexadecimal\n"
       ]
      }
     ],
     "prompt_number": 2
    },
    {
     "cell_type": "code",
     "collapsed": false,
     "input": [
      "'''\n",
      "    Bitwise operators: \n",
      "\n",
      "    You will come across a need for these a lot in data products\n",
      "    e.g. MOD09 QA\n",
      "'''\n",
      "# I have some 8 bit data with the value 213\n",
      "# I am told that the first 3 bits give me\n",
      "# a code relating to data quality\n",
      "data = 213\n",
      "print data,'as binary is',bin(data)\n",
      "\n",
      "# I generate a bit mask for the first 3 bits\n",
      "mask = 0b11100000\n",
      "\n",
      "# and logically and this with the data\n",
      "print bin(mask & data)\n",
      "\n",
      "# and right shift 5 bits\n",
      "print bin((mask & data)>>5)"
     ],
     "language": "python",
     "metadata": {},
     "outputs": [
      {
       "output_type": "stream",
       "stream": "stdout",
       "text": [
        "213 as binary is 0b11010101\n",
        "0b11000000\n",
        "0b110\n"
       ]
      }
     ],
     "prompt_number": 3
    },
    {
     "cell_type": "code",
     "collapsed": false,
     "input": [],
     "language": "python",
     "metadata": {},
     "outputs": []
    }
   ],
   "metadata": {}
  }
 ]
}