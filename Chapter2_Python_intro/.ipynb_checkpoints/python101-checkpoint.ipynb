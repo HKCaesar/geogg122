{
 "metadata": {
  "name": ""
 },
 "nbformat": 3,
 "nbformat_minor": 0,
 "worksheets": [
  {
   "cells": [
    {
     "cell_type": "heading",
     "level": 1,
     "metadata": {},
     "source": [
      "1. Introduction to Python"
     ]
    },
    {
     "cell_type": "markdown",
     "metadata": {},
     "source": [
      "[Python](http://www.python.org/) is a high level programming language that is freely available, relatively easy to learn and portable across different computing systems. In Python, you can rapidly develop solutions for the sorts of problems you might need to solve in your MSc courses and in the world beyond. Code written in Python is also easy to maintain, is (or should be) self-documented, and can easily be linked to code written in other languages.\n",
      "\n",
      "Relevant features include: \n",
      "\n",
      "- it is automatically compiled and executed \n",
      "- code is portable provided you have the appropriate Python modules. \n",
      "- for compute intensive tasks, you can easily make calls to methods written in (faster) lower-level languages such as C or FORTRAN \n",
      "- there is an active user and development community, which means that new capabilities appear over time and there are many existing extensions and enhancements easily available to you.\n",
      "\n",
      "For further background on Python, look over the material on [Advanced Scientific Programming in Python](https://python.g-node.org/wiki/schedule) and/or the [software-carpentry.org](http://software-carpentry.org/v3/py01.html) and [python.org](http://www.python.org/) web sites."
     ]
    },
    {
     "cell_type": "heading",
     "level": 2,
     "metadata": {},
     "source": [
      "1.1 Introduction"
     ]
    },
    {
     "cell_type": "markdown",
     "metadata": {},
     "source": [
      "In this session, you will be introduced to some of the basic concepts in Python."
     ]
    },
    {
     "cell_type": "heading",
     "level": 2,
     "metadata": {},
     "source": [
      "1.2 Running Python Programs"
     ]
    },
    {
     "cell_type": "markdown",
     "metadata": {},
     "source": [
      "### 1.2.1 Requirements\n",
      "\n",
      "For this course, we suggest you use the [anaconda](https://store.continuum.io/cshop/anaconda/) Python distribution (this is what is installed in the unix lab computers), though you are free to use whichever version of it you like on your own computers.\n",
      "\n",
      "If you are intending to use these notes on your opwn computer, you will need a relatively comprehensive installation of Python (such as that from [anaconda](https://store.continuum.io/cshop/anaconda/)), and will also need [GDAL](http://www.gdal.org/) installed for some of the work. You may also find it of value to have [git](http://git-scm.com/) installed.\n",
      "\n",
      "We are assuming that you are new to computing in this course, but that you are aware of the basic unix material covered in the previous lecture.\n"
     ]
    },
    {
     "cell_type": "markdown",
     "metadata": {},
     "source": [
      "### 1.2.2 Running Python  \n",
      "\n",
      "We will generally use the `ipython` interpreter for running interactive Python programs.\n",
      "\n",
      "You will probably want to run each session and store scripts in your `Data` (or `DATA`) directory.\n",
      "\n",
      "If you want to run the session directly in the notebook, you will need to download the course material from [github](https://github.com/profLewis/geogg122) and run the notebook with e.g.:\n",
      "\n",
      "```\n",
      "berlin% cd ~/Data\n",
      "berlin% git clone https://github.com/profLewis/geogg122.git\n",
      "```\n",
      "\n",
      "to obtain the notes. \n",
      "\n",
      "You should next check that you are using the version of Python that we intend:\n",
      "\n",
      "```\n",
      "berlin% which ipython\n",
      "/opt/anaconda/bin/ipython\n",
      "```\n",
      "\n",
      "If this isn't the version of Python that you are picking up (note the use of the unix command `which` here), then you can either just type the full path name:\n",
      "\n",
      "```\n",
      "berlin% /opt/anaconda/bin/ipython  \n",
      "```\n",
      "\n",
      "in place of where it says `ipython` in these notes, or modify your shell initialisation file (`~/.bashrc` if you are using `bash` or `~/.cshrc` for `tcsh` or `csh`) to include `/opt/anaconda/bin` early on in the `PATH`.\n",
      "\n",
      "To go to the directory for this session:  \n",
      "```\n",
      "berlin% cd ~/Data/geogg122/Chapter2_Python_intro\n",
      "berlin% ipython notebook python101.ipynb --pylab=inline\n",
      "```\n",
      "\n",
      "You quit an `ipython` notebook session with `^C` (`Control C`).\n",
      "\n",
      "To exectute ('run') blocks of Python code in the notebook, use `^<return>` (`SHIFT` and `RETURN` keys together).\n",
      "\n",
      "Alternatively, just run `ipython`:  \n",
      "```\n",
      "berlin% cd ~/Data/geogg122/Chapter2_Python_intro\n",
      "berlin% ipython --pylab=inline\n",
      "```\n",
      "\n",
      "and type your own commands in at the prompt, following the class or the material on the webpages.\n",
      "\n",
      "\n"
     ]
    },
    {
     "cell_type": "heading",
     "level": 2,
     "metadata": {},
     "source": [
      "1.3 Getting Started"
     ]
    },
    {
     "cell_type": "heading",
     "level": 3,
     "metadata": {},
     "source": [
      "1.3.1 Variables, Values and Data types"
     ]
    },
    {
     "cell_type": "markdown",
     "metadata": {},
     "source": [
      "The idea of **variables** is fundamental to any programming. You can think of this as the *name* of *something*, so it is a way of allowing us to refer to some object in the language.\n",
      "\n",
      "What the variable *is* set to is called its **value**.\n",
      "\n",
      "So let's start with a variable we will call (*declare to be*) `x`.\n",
      "\n",
      "We will give the *value* `1` to this variable:"
     ]
    },
    {
     "cell_type": "code",
     "collapsed": false,
     "input": [
      "x = 1"
     ],
     "language": "python",
     "metadata": {},
     "outputs": [],
     "prompt_number": 2
    },
    {
     "cell_type": "markdown",
     "metadata": {},
     "source": [
      "In a computing language, the *sort of thing* the variable can be set to is called its **data type**.\n",
      "\n",
      "In the example above, the datatype is an **integer** number (e.g. `1, 2, 3, 4`).\n",
      "\n",
      "In 'natural language', we might read the example above as 'x is one'.\n",
      "\n",
      "This is different to:"
     ]
    },
    {
     "cell_type": "code",
     "collapsed": false,
     "input": [
      "x = 'one'"
     ],
     "language": "python",
     "metadata": {},
     "outputs": [],
     "prompt_number": 3
    },
    {
     "cell_type": "markdown",
     "metadata": {},
     "source": [
      "because here we have set value of the variable `x` to a **string** (i.e. some text).\n",
      "\n",
      "A string is enclosed in quotes, e.g. `\"one\"` or `'one'`, or even `\"'one'\"` or `'\"one\"'`.\n",
      "\n"
     ]
    },
    {
     "cell_type": "code",
     "collapsed": false,
     "input": [
      "print \"one\"\n",
      "print 'one'\n",
      "print \"'one'\"\n",
      "print '\"one\"'"
     ],
     "language": "python",
     "metadata": {},
     "outputs": [
      {
       "output_type": "stream",
       "stream": "stdout",
       "text": [
        "one\n",
        "one\n",
        "'one'\n",
        "\"one\"\n"
       ]
      }
     ],
     "prompt_number": 1
    },
    {
     "cell_type": "markdown",
     "metadata": {},
     "source": [
      "This is different to:"
     ]
    },
    {
     "cell_type": "code",
     "collapsed": false,
     "input": [
      "x = 1.0"
     ],
     "language": "python",
     "metadata": {},
     "outputs": [],
     "prompt_number": 4
    },
    {
     "cell_type": "markdown",
     "metadata": {},
     "source": [
      "because here we have set value of the variable `x` to a **floating point** number (these are treated and stored differently to integers in computing).\n",
      "\n",
      "This is different to:"
     ]
    },
    {
     "cell_type": "code",
     "collapsed": false,
     "input": [
      "x = True"
     ],
     "language": "python",
     "metadata": {},
     "outputs": [],
     "prompt_number": 5
    },
    {
     "cell_type": "markdown",
     "metadata": {},
     "source": [
      "where `True` is a **logical** or **boolean** datatype (something is `True` or `False`).\n",
      "\n",
      "We have so far seen three datatypes:\n",
      "\n",
      "- integer (`int`): 32 bits long on most machines\n",
      "- (double-precision) floating point (`float`): (64 bits long)\n",
      "- Boolean (`bool`)\n",
      "- string (`str`)\n",
      "\n",
      "but we will come across more (and even create our own!) as we go through the course."
     ]
    },
    {
     "cell_type": "heading",
     "level": 4,
     "metadata": {},
     "source": [
      "type"
     ]
    },
    {
     "cell_type": "markdown",
     "metadata": {},
     "source": [
      "In each of these cases above, we have used the variable `x` to contain these different data types. If you want to know what the data type of a variable is, you can use the method `type()`"
     ]
    },
    {
     "cell_type": "code",
     "collapsed": false,
     "input": [
      "print type(1);\n",
      "print type(1.0);\n",
      "print type('one');\n",
      "print type(True);"
     ],
     "language": "python",
     "metadata": {},
     "outputs": [
      {
       "output_type": "stream",
       "stream": "stdout",
       "text": [
        "<type 'int'>\n",
        "<type 'float'>\n",
        "<type 'str'>\n",
        "<type 'bool'>\n"
       ]
      }
     ],
     "prompt_number": 16
    },
    {
     "cell_type": "markdown",
     "metadata": {},
     "source": [
      "You can explicitly convert between data types, e.g.:"
     ]
    },
    {
     "cell_type": "code",
     "collapsed": false,
     "input": [
      "print 'int(1.1) = ',int(1.1)\n",
      "print 'float(1) = ',float(1)\n",
      "print 'str(1) = ',str(1)\n",
      "print 'bool(1) = ',bool(1)"
     ],
     "language": "python",
     "metadata": {},
     "outputs": [
      {
       "output_type": "stream",
       "stream": "stdout",
       "text": [
        "int(1.1) =  1\n",
        "float(1) =  1.0\n",
        "str(1) =  1\n",
        "bool(1) =  True\n"
       ]
      }
     ],
     "prompt_number": 6
    },
    {
     "cell_type": "markdown",
     "metadata": {},
     "source": [
      "but only when it makes sense:"
     ]
    },
    {
     "cell_type": "code",
     "collapsed": false,
     "input": [
      "print \"converting the string '1' to an integer makes sense:\",int('1')"
     ],
     "language": "python",
     "metadata": {},
     "outputs": [
      {
       "output_type": "stream",
       "stream": "stdout",
       "text": [
        "converting the string '1' to an integer makes sense: 1\n"
       ]
      }
     ],
     "prompt_number": 10
    },
    {
     "cell_type": "code",
     "collapsed": false,
     "input": [
      "print \"converting the string 'one' to an integer doesn't:\",int('one')"
     ],
     "language": "python",
     "metadata": {},
     "outputs": [
      {
       "ename": "ValueError",
       "evalue": "invalid literal for int() with base 10: 'one'",
       "output_type": "pyerr",
       "traceback": [
        "\u001b[0;31m---------------------------------------------------------------------------\u001b[0m\n\u001b[0;31mValueError\u001b[0m                                Traceback (most recent call last)",
        "\u001b[0;32m<ipython-input-11-20c6d9c1fc49>\u001b[0m in \u001b[0;36m<module>\u001b[0;34m()\u001b[0m\n\u001b[0;32m----> 1\u001b[0;31m \u001b[0;32mprint\u001b[0m \u001b[0;34m\"converting the string 'one' to an integer doesn't:\"\u001b[0m\u001b[0;34m,\u001b[0m\u001b[0mint\u001b[0m\u001b[0;34m(\u001b[0m\u001b[0;34m'one'\u001b[0m\u001b[0;34m)\u001b[0m\u001b[0;34m\u001b[0m\u001b[0m\n\u001b[0m",
        "\u001b[0;31mValueError\u001b[0m: invalid literal for int() with base 10: 'one'"
       ]
      },
      {
       "output_type": "stream",
       "stream": "stdout",
       "text": [
        "converting the string 'one' to an integer doesn't:"
       ]
      }
     ],
     "prompt_number": 11
    },
    {
     "cell_type": "markdown",
     "metadata": {},
     "source": [
      "When you get an error (such as above), you will need to learn to *read* the error message to work out what you did wrong.\n"
     ]
    },
    {
     "cell_type": "heading",
     "level": 4,
     "metadata": {},
     "source": [
      "del"
     ]
    },
    {
     "cell_type": "markdown",
     "metadata": {},
     "source": [
      "You can delete a variable with `del`:"
     ]
    },
    {
     "cell_type": "code",
     "collapsed": false,
     "input": [
      "x = 100.\n",
      "print x"
     ],
     "language": "python",
     "metadata": {},
     "outputs": []
    },
    {
     "cell_type": "code",
     "collapsed": false,
     "input": [
      "x = 100.\n",
      "del x\n",
      "\n",
      "# so now if we try to do anything with the variable\n",
      "# x, it should fail as x is no longer defined\n",
      "print x"
     ],
     "language": "python",
     "metadata": {},
     "outputs": [
      {
       "ename": "NameError",
       "evalue": "name 'x' is not defined",
       "output_type": "pyerr",
       "traceback": [
        "\u001b[0;31m---------------------------------------------------------------------------\u001b[0m\n\u001b[0;31mNameError\u001b[0m                                 Traceback (most recent call last)",
        "\u001b[0;32m<ipython-input-1-f602427acddb>\u001b[0m in \u001b[0;36m<module>\u001b[0;34m()\u001b[0m\n\u001b[1;32m      4\u001b[0m \u001b[0;31m# so now if we try to do anything with the variable\u001b[0m\u001b[0;34m\u001b[0m\u001b[0;34m\u001b[0m\u001b[0m\n\u001b[1;32m      5\u001b[0m \u001b[0;31m# x, it should fail as x is no longer defined\u001b[0m\u001b[0;34m\u001b[0m\u001b[0;34m\u001b[0m\u001b[0m\n\u001b[0;32m----> 6\u001b[0;31m \u001b[0;32mprint\u001b[0m \u001b[0mx\u001b[0m\u001b[0;34m\u001b[0m\u001b[0m\n\u001b[0m",
        "\u001b[0;31mNameError\u001b[0m: name 'x' is not defined"
       ]
      }
     ],
     "prompt_number": 1
    },
    {
     "cell_type": "heading",
     "level": 3,
     "metadata": {},
     "source": [
      "1.3.2 Arithmetic"
     ]
    },
    {
     "cell_type": "markdown",
     "metadata": {},
     "source": [
      "Often we will want to do some [arithmetic](http://www.tutorialspoint.com/python/python_basic_operators.htm) with numbers in a program, and we use the 'normal' (derived from C) operators for this.\n",
      "\n",
      "Note the way this works for integers and floating point representations."
     ]
    },
    {
     "cell_type": "code",
     "collapsed": false,
     "input": [
      "'''\n",
      "    Some examples of arithmetic operations in Python\n",
      "\n",
      "    Note how, if we mix float and int, the result is raised to float\n",
      "    (as the more general form)\n",
      "'''\n",
      "\n",
      "print 10 + 100     # int addition\n",
      "print 10. - 100    # float subtraction\n",
      "print 1./2.        # float division\n",
      "print 1/2          # int division\n",
      "print 10.*20.      # float multiplication\n",
      "print 2 ** 3.      # float exponent\n",
      "print 8%2          # int remainder\n",
      "\n",
      "print '========'\n",
      "# demonstration of floor (//) and remainder (%)\n",
      "number    = 9.5\n",
      "base      = 2.0\n",
      "remainder = number%base # float remainder\n",
      "floor     = number//base # 'floor' operation\n",
      "print number,'is',floor,'times',base,'plus',remainder"
     ],
     "language": "python",
     "metadata": {},
     "outputs": [
      {
       "output_type": "stream",
       "stream": "stdout",
       "text": [
        "110\n",
        "-90.0\n",
        "0.5\n",
        "0\n",
        "200.0\n",
        "8.0\n",
        "0\n",
        "========\n",
        "9.5 is 4.0 times 2.0 plus 1.5\n"
       ]
      }
     ],
     "prompt_number": 47
    },
    {
     "cell_type": "markdown",
     "metadata": {},
     "source": [
      "### Exercise\n",
      "\n",
      "Change the numbers in the examples above to make sure you understand these basic operations.\n",
      "\n",
      "Try combining operations and use brackets () to check that that works as expected."
     ]
    },
    {
     "cell_type": "heading",
     "level": 3,
     "metadata": {},
     "source": [
      "1.3.3 Assignment Operators"
     ]
    },
    {
     "cell_type": "code",
     "collapsed": false,
     "input": [
      "'''\n",
      "    Assignment operators\n",
      "\n",
      "    x = 3   assigns the value 3 to the variable x\n",
      "    x += 2  adds 2 onto the value of x\n",
      "            so is the same as x = x + 2\n",
      "            similarly /=, *=, -=\n",
      "    x %= 2  is the same as x = x % 2\n",
      "    x **= 2 is the same as x = x ** 2\n",
      "    x //= 2 is the same as x = x // 2\n",
      "\n",
      "    A 'magic' trick\n",
      "    ===============\n",
      "\n",
      "    http://www.wikihow.com/Read-Someone\\\n",
      "        %27s-Mind-With-Math-%28Math-Trick%29\n",
      "\n",
      "    whatever you put as myNumber, the answer is 3\n",
      "\n",
      "    Try this with integers or floating point numbers ...\n",
      "'''\n",
      "\n",
      "# pick a number \n",
      "myNumber = 34.67\n",
      "\n",
      "# assign this to the variable x\n",
      "x = myNumber\n",
      "\n",
      "# multiply it by 2\n",
      "x *= 2\n",
      "\n",
      "# multiply this by 5\n",
      "x *= 5\n",
      "\n",
      "# divide by the original number\n",
      "x /= myNumber\n",
      "\n",
      "# subtract 7\n",
      "x -= 7\n",
      "\n",
      "# The answer will always be 3\n",
      "print x"
     ],
     "language": "python",
     "metadata": {},
     "outputs": [
      {
       "output_type": "stream",
       "stream": "stdout",
       "text": [
        "3.0\n"
       ]
      }
     ],
     "prompt_number": 84
    },
    {
     "cell_type": "heading",
     "level": 3,
     "metadata": {},
     "source": [
      "1.3.4 Logical Operators"
     ]
    },
    {
     "cell_type": "code",
     "collapsed": false,
     "input": [
      "'''\n",
      "    Logical operators\n",
      "'''\n",
      "alive = True\n",
      "dead = not alive\n",
      "print 'dead or alive is',dead or alive\n",
      "print 'dead and alive is',dead and alive"
     ],
     "language": "python",
     "metadata": {},
     "outputs": [
      {
       "output_type": "stream",
       "stream": "stdout",
       "text": [
        "dead or alive is True\n",
        "dead and alive is False\n"
       ]
      }
     ],
     "prompt_number": 38
    },
    {
     "cell_type": "markdown",
     "metadata": {},
     "source": [
      "The result of running comparison operators will give a logical (i.e. `bool`) output.\n",
      "\n",
      "Most of this should be obvious, but consider carefully how this works for string data types."
     ]
    },
    {
     "cell_type": "heading",
     "level": 3,
     "metadata": {},
     "source": [
      "1.3.5 Comparison Operators"
     ]
    },
    {
     "cell_type": "code",
     "collapsed": false,
     "input": [
      "'''\n",
      "    Related, comparison operators:\n",
      "    \n",
      "    ==  : equvalence\n",
      "    !=  : not equivalent\n",
      "    >   : greater than\n",
      "    >=  : greater than or equal to\n",
      "    <   : less than\n",
      "    <=  : less than or equal to    \n",
      "'''\n",
      "\n",
      "print \"is one plus one equal to two?\"\n",
      "print 1 + 1 == 2\n",
      "\n",
      "print \"is one less than or equal to 0.999?\"\n",
      "print 1 <= 0.999\n",
      "\n",
      "print \"is one plus one not equal to two?\"\n",
      "print 1 + 1 != 2\n",
      "\n",
      "# note the use of double quotes inside a single quoted string here\n",
      "print 'is \"Hello\" not the same as \"hello\"?'\n",
      "print 'Hello' != 'hello'\n",
      "\n",
      "# note the use of single quotes inside a double quoted string here\n",
      "print \"is 'more' greater than 'less'?\"\n",
      "print \"more\" > \"less\"\n",
      "\n",
      "print \"is '100' less than '2'?\"\n",
      "print '100' < '2'\n",
      "\n",
      "print \"is 100 less than 2?\"\n",
      "print 100 < 2\n",
      "\n",
      "# a boolean example just to see what happens\n",
      "print \"is True greater than False?\"\n",
      "print True > False"
     ],
     "language": "python",
     "metadata": {},
     "outputs": [
      {
       "output_type": "stream",
       "stream": "stdout",
       "text": [
        "is one plus one equal to two?\n",
        "True\n",
        "is one less than or equal to 0.999?\n",
        "False\n",
        "is one plus one not equal to two?\n",
        "False\n",
        "is \"Hello\" not the same as \"hello\"?\n",
        "True\n",
        "is 'more' greater than 'less'?\n",
        "True\n",
        "is '100' less than '2'?\n",
        "True\n",
        "is 100 less than 2?\n",
        "False\n",
        "is True greater than False?\n",
        "True\n"
       ]
      }
     ],
     "prompt_number": 34
    },
    {
     "cell_type": "markdown",
     "metadata": {},
     "source": [
      "We can combine such logical statements, bracketing the terms as required:"
     ]
    },
    {
     "cell_type": "code",
     "collapsed": false,
     "input": [
      "print (1 < 2) and (True or False)"
     ],
     "language": "python",
     "metadata": {},
     "outputs": [
      {
       "output_type": "stream",
       "stream": "stdout",
       "text": [
        "True\n"
       ]
      }
     ],
     "prompt_number": 42
    },
    {
     "cell_type": "code",
     "collapsed": false,
     "input": [
      "#!/usr/bin/env python\n",
      "\n",
      "\"\"\"Exercise in logical statements\n",
      "  \n",
      "   P. Lewis p.lewis@ucl.ac.uk\n",
      "\n",
      "   Tue  8 Oct 2013 10:11:03 BST\n",
      "\"\"\"\n",
      "\n",
      "# hunger threshold in hours\n",
      "hungerThreshold = 3.0\n",
      "# sleep threshold in hours\n",
      "sleepThreshold = 8.0\n",
      "\n",
      "# time since fed, in hours\n",
      "timeSinceFed = 4.0\n",
      "# time since sleep, in hours\n",
      "timeSinceSleep = 3.0\n",
      "\n",
      "# Note use of \\ as line continuation here\n",
      "#\u00a0It is poor style to have code lines > 79 characters\n",
      "#\n",
      "# see http://www.python.org/dev/peps/pep-0008/#maximum-line-length\n",
      "#\n",
      "print \"Tired and hungry?\",(timeSinceSleep >= sleepThreshold) and \\\n",
      "                            (timeSinceFed >= hungerThreshold)\n",
      "print \"Just tired?\",(timeSinceSleep >= sleepThreshold) and \\\n",
      "                            (not (timeSinceFed >= hungerThreshold))\n",
      "print \"Just hungry?\",(not (timeSinceSleep >= sleepThreshold)) and \\\n",
      "                            (timeSinceFed >= hungerThreshold)"
     ],
     "language": "python",
     "metadata": {},
     "outputs": [
      {
       "output_type": "stream",
       "stream": "stdout",
       "text": [
        "Tired and hungry? False\n",
        "Just tired? False\n",
        "Just hungry? True\n"
       ]
      }
     ],
     "prompt_number": 1
    },
    {
     "cell_type": "heading",
     "level": 3,
     "metadata": {},
     "source": [
      "Exercise 2.1"
     ]
    },
    {
     "cell_type": "markdown",
     "metadata": {},
     "source": [
      "The code above works fine, but the large blocks of logical tests are not very clear or readable, and contain repeated items.\n",
      "\n",
      "Type the code into a file (or [download it](files/python/hungry.py)).\n",
      "\n",
      "Modify this block of code to be clearer by assigning the individual logical tests to variables, \n",
      "\n",
      "e.g.\n",
      "\n",
      "`tired = timeSinceSleep >= sleepThreshold`"
     ]
    },
    {
     "cell_type": "heading",
     "level": 2,
     "metadata": {},
     "source": [
      "1.4 Groups of things"
     ]
    },
    {
     "cell_type": "heading",
     "level": 3,
     "metadata": {},
     "source": [
      "1.4.1 tuples, lists and dictionaries"
     ]
    },
    {
     "cell_type": "markdown",
     "metadata": {},
     "source": [
      "Very often, we will want to group items together. \n",
      "\n",
      "There are several main mechanisms for doing this in Python, known as:\n",
      "\n",
      "- tuple, e.g. (1, 2, 3)\n",
      "- list, e.g. [1, 2, 3]\n",
      "- dict, e.g. {1:'one', 2:'two', 3:'three'}\n",
      "\n",
      "You will notice that each of these grouping structures uses a different form of bracket."
     ]
    },
    {
     "cell_type": "heading",
     "level": 4,
     "metadata": {},
     "source": [
      "tuple"
     ]
    },
    {
     "cell_type": "markdown",
     "metadata": {},
     "source": [
      "A `tuple` is a group of items separated by commas.\n"
     ]
    },
    {
     "cell_type": "code",
     "collapsed": false,
     "input": [
      "t = 1, 2, 'three', False\n",
      "print t"
     ],
     "language": "python",
     "metadata": {},
     "outputs": [
      {
       "output_type": "stream",
       "stream": "stdout",
       "text": [
        "(1, 2, 'three', False)\n"
       ]
      }
     ],
     "prompt_number": 17
    },
    {
     "cell_type": "markdown",
     "metadata": {},
     "source": [
      "Note that when you declare the tuple, you don't need to put the braces (brackets) as this is implicit.\n",
      "\n",
      "Often though, it is a good idea to do so."
     ]
    },
    {
     "cell_type": "code",
     "collapsed": false,
     "input": [
      "t = (1, 2, 'three', False)\n",
      "print t"
     ],
     "language": "python",
     "metadata": {},
     "outputs": [
      {
       "output_type": "stream",
       "stream": "stdout",
       "text": [
        "(1, 2, 'three', False)\n"
       ]
      }
     ],
     "prompt_number": 18
    },
    {
     "cell_type": "markdown",
     "metadata": {},
     "source": [
      "If there is only one element in a tuple, you must put a comma `,` at the end, otherwise it is *not* interpreted as a tuple:"
     ]
    },
    {
     "cell_type": "code",
     "collapsed": false,
     "input": [
      "t = (1)\n",
      "print t,type(t)"
     ],
     "language": "python",
     "metadata": {},
     "outputs": [
      {
       "output_type": "stream",
       "stream": "stdout",
       "text": [
        "1 <type 'int'>\n"
       ]
      }
     ],
     "prompt_number": 75
    },
    {
     "cell_type": "code",
     "collapsed": false,
     "input": [
      "t = (1,)\n",
      "print t,type(t)"
     ],
     "language": "python",
     "metadata": {},
     "outputs": [
      {
       "output_type": "stream",
       "stream": "stdout",
       "text": [
        "(1,) <type 'tuple'>\n"
       ]
      }
     ],
     "prompt_number": 74
    },
    {
     "cell_type": "markdown",
     "metadata": {},
     "source": [
      "You can have an *empty* tuple though:"
     ]
    },
    {
     "cell_type": "code",
     "collapsed": false,
     "input": [
      "t = ()\n",
      "print t,type(t)"
     ],
     "language": "python",
     "metadata": {},
     "outputs": [
      {
       "output_type": "stream",
       "stream": "stdout",
       "text": [
        "() <type 'tuple'>\n"
       ]
      }
     ],
     "prompt_number": 76
    },
    {
     "cell_type": "markdown",
     "metadata": {},
     "source": [
      "Notice that the tuple can contain data of different types. \n",
      "\n",
      "It can also be nested (i.e. a tuple can contain a tuple):"
     ]
    },
    {
     "cell_type": "code",
     "collapsed": false,
     "input": [
      "t = ('one', 2), 3, ((4,5),6)\n",
      "print t"
     ],
     "language": "python",
     "metadata": {},
     "outputs": [
      {
       "output_type": "stream",
       "stream": "stdout",
       "text": [
        "(('one', 2), 3, ((4, 5), 6))\n"
       ]
      }
     ],
     "prompt_number": 19
    },
    {
     "cell_type": "markdown",
     "metadata": {},
     "source": [
      "Some operations we can perform on tuples include:\n",
      "\n",
      "- length : `len()`\n",
      "- selection ('slice') : []\n"
     ]
    },
    {
     "cell_type": "heading",
     "level": 4,
     "metadata": {},
     "source": [
      "len"
     ]
    },
    {
     "cell_type": "code",
     "collapsed": false,
     "input": [
      "# set up a simple tuple\n",
      "t = (1,2,3)\n",
      "print \"The length of the tuple (1,2,3) is\",len(t)\n",
      "\n",
      "# a nested example\n",
      "t = (1,('2a','2b'),3)\n",
      "print \"The length of the tuple (1,2,3) is\",len(t)"
     ],
     "language": "python",
     "metadata": {},
     "outputs": [
      {
       "output_type": "stream",
       "stream": "stdout",
       "text": [
        "The length of the tuple (1,2,3) is 3\n",
        "The length of the tuple (1,2,3) is 3\n"
       ]
      }
     ],
     "prompt_number": 24
    },
    {
     "cell_type": "heading",
     "level": 4,
     "metadata": {},
     "source": [
      "slice"
     ]
    },
    {
     "cell_type": "code",
     "collapsed": false,
     "input": [
      "# select an item with []\n",
      "# note the first item is 0, i.e. we start counting at 0\n",
      "# Python uses a 0-based indexing system\n",
      "\n",
      "t = ('it','is','a','truth','universally','acknowledged')\n",
      "\n",
      "print 'item 0',t[0]\n",
      "print 'item 4',t[4]"
     ],
     "language": "python",
     "metadata": {},
     "outputs": [
      {
       "output_type": "stream",
       "stream": "stdout",
       "text": [
        "item 0 it\n",
        "item 4 universally\n"
       ]
      }
     ],
     "prompt_number": 49
    },
    {
     "cell_type": "code",
     "collapsed": false,
     "input": [
      "# using negative to count from the end\n",
      "# so -1 is the last item, -2 the second to last etc\n",
      "\n",
      "t = ('it','is','a','truth','universally','acknowledged')\n",
      "\n",
      "print 'item -1',t[-1]\n",
      "print 'item -3',t[-3]"
     ],
     "language": "python",
     "metadata": {},
     "outputs": [
      {
       "output_type": "stream",
       "stream": "stdout",
       "text": [
        "item -1: acknowledged\n",
        "item -3: truth\n"
       ]
      }
     ],
     "prompt_number": 34
    },
    {
     "cell_type": "code",
     "collapsed": false,
     "input": [
      "# select a range (a 'slice') of items with [start:end:step]\n",
      "\n",
      "t = ('it','is','a','truth','universally','acknowledged')\n",
      "\n",
      "print 'items 0:1\\t',t[0:1]        # 0 to 1, so only item 0\n",
      "print 'items 0:2\\t',t[0:2]        # 0 to 2, so items 0 and 1\n",
      "print 'items :4:2\\t',t[:4:2]      # :4:2 so items 0 (implicit) to 4, in steps of 2\n",
      "                                  # so items 0 and 3\n",
      "print 'items ::-1\\t',t[::-1]      # 0 to end in steps of -1, so reverse order\n",
      "print 'items 1:-1:2\\t',t[1:-1:2]  # 1 to -1 in steps of 2 so items 1 and 3\n",
      "\n",
      "# Note the use of \\t in the strings above e.g. 'items 0:1\\t'\n",
      "# where \\t is a tab character (for prettier formatting)"
     ],
     "language": "python",
     "metadata": {},
     "outputs": [
      {
       "output_type": "stream",
       "stream": "stdout",
       "text": [
        "items 0:1\t('it',)\n",
        "items 0:2\t('it', 'is')\n",
        "items :4:2\t('it', 'a')\n",
        "items ::-1\t('acknowledged', 'universally', 'truth', 'a', 'is', 'it')\n",
        "items 1:-1:2\t('is', 'truth')\n"
       ]
      }
     ],
     "prompt_number": 100
    },
    {
     "cell_type": "markdown",
     "metadata": {},
     "source": [
      "In effect, when we set up a tuple, we are *packing* some group of items together:"
     ]
    },
    {
     "cell_type": "code",
     "collapsed": false,
     "input": [
      "t = ('the', 'past', ('is', 'a', 'foreign', 'country'))"
     ],
     "language": "python",
     "metadata": {},
     "outputs": [],
     "prompt_number": 51
    },
    {
     "cell_type": "markdown",
     "metadata": {},
     "source": [
      "And we can similarly *unpack*:"
     ]
    },
    {
     "cell_type": "code",
     "collapsed": false,
     "input": [
      "a, b, c = t\n",
      "\n",
      "print 'a:',a\n",
      "print 'b:',b\n",
      "print 'c:',c"
     ],
     "language": "python",
     "metadata": {},
     "outputs": [
      {
       "output_type": "stream",
       "stream": "stdout",
       "text": [
        "a: the\n",
        "b: past\n",
        "c: ('is', 'a', 'foreign', 'country')\n"
       ]
      }
     ],
     "prompt_number": 52
    },
    {
     "cell_type": "code",
     "collapsed": false,
     "input": [
      "t = ('As', 'Gregor', 'Samsa', 'awoke', 'one', 'morning')\n",
      "\n",
      "a,b = t[1:4:2]\n",
      "print 'a:',a\n",
      "print 'b:',b"
     ],
     "language": "python",
     "metadata": {},
     "outputs": [
      {
       "output_type": "stream",
       "stream": "stdout",
       "text": [
        "a: Gregor\n",
        "b: awoke\n"
       ]
      }
     ],
     "prompt_number": 59
    },
    {
     "cell_type": "markdown",
     "metadata": {},
     "source": [
      "The set of operations we can perform on tuples includes:\n",
      "\n",
      "<table>\n",
      "    <tr><td><b>Name</b></td><td><b>Example</b></td><td><b>Result</b></td><td><b>Meaning</b></td></tr>\n",
      "    <tr><td><pre>len()</pre></td><td><pre>len((1,2,(3,4))</pre></td><td><pre>3</pre></td><td>Length</td></tr>\n",
      "    <tr><td><pre>+</pre></td><td><pre>(1,2) + (3,4,5)</pre></td><td><pre>(1,2,3,4,5)</pre></td><td>Concatenate (join)</td></tr>\n",
      "    <tr><td><pre>\\*</pre></td><td><pre>(1,2) * 3</pre></td><td><pre>(1, 2, 1, 2, 1, 2, 1, 2)</pre></td><td>Repetition</td></tr>\n",
      "    <tr><td><pre>in</pre></td><td><pre>2 in (1,2,3,4)</pre></td><td><pre>True</pre></td><td>Membership</td></tr>\n",
      "\n",
      "    <tr><td><pre>index</pre></td><td><pre>('a','b','c','d').index('c')</pre></td><td><pre>2</pre></td><td><p>Index</p><p>T.index(value, [start, [stop]]) -> integer -- return first index of value.</p><p>Raises ValueError if the value is not present</p></td></tr>    \n",
      "    \n",
      "    <tr><td><pre>count</pre></td><td><pre>('a','b','c','c','d','c').count('c')</pre></td><td><pre>3</pre></td><td><p>Count</p><p>T.count(value) -> integer -- return number of occurrences of value</p></td></tr>    \n",
      "    \n",
      "    <tr><td><pre>min(), max()</pre></td><td><p><pre>min(('a','b','c'))</pre></p><p><pre>max((3,4,1))</pre></p></td><td><p><pre>'a'</pre></p><p><pre>4</pre></p></td><td>Minimum, maximum</td></tr>\n",
      "    <tr><td><pre>tuple()</pre></td><td><p><pre>tuple([1,2,3])</pre></p><p><pre>tuple('hello')</pre></p><p><pre>tuple({1:'one',2:'two'})</pre></p></td><td><p><pre>(1,2,3)</pre></p><p><pre>('h', 'e', 'l', 'l', 'o')</pre></p><p><pre>(1,2)</pre></p></td><td>Convert to tuple</td></tr>\n",
      "</table>"
     ]
    },
    {
     "cell_type": "markdown",
     "metadata": {},
     "source": [
      "You will find that these basic operators work with any of the group types, so you should make sure you are aware of them."
     ]
    },
    {
     "cell_type": "code",
     "collapsed": false,
     "input": [
      "# some examples\n",
      "\n",
      "print \"\\ntuple('hello world'):\\n\\t\",tuple('hello world')\n",
      "print \"\\ntuple('hello world').count('o'):\\n\\t\",tuple('hello world').count('o')\n",
      "print \"\\n('1',)*5 + (1,)*5:\\n\\t\",('1',)*5 + (1,)*5\n",
      "\n",
      "# Note use of \\t in string for tab and \\n for newline"
     ],
     "language": "python",
     "metadata": {},
     "outputs": [
      {
       "output_type": "stream",
       "stream": "stdout",
       "text": [
        "\n",
        "tuple('hello world'):\n",
        "\t('h', 'e', 'l', 'l', 'o', ' ', 'w', 'o', 'r', 'l', 'd')\n",
        "\n",
        "tuple('hello world').count('o'):\n",
        "\t2\n",
        "\n",
        "('1',)*5 + (1,)*5:\n",
        "\t('1', '1', '1', '1', '1', 1, 1, 1, 1, 1)\n"
       ]
      }
     ],
     "prompt_number": 126
    },
    {
     "cell_type": "markdown",
     "metadata": {},
     "source": [
      "You **cannot** directly replace an element in a tuple:\n"
     ]
    },
    {
     "cell_type": "code",
     "collapsed": false,
     "input": [
      "t = (1,2,3,4)\n",
      "t[2] = 'three'"
     ],
     "language": "python",
     "metadata": {},
     "outputs": [
      {
       "ename": "TypeError",
       "evalue": "'tuple' object does not support item assignment",
       "output_type": "pyerr",
       "traceback": [
        "\u001b[0;31m---------------------------------------------------------------------------\u001b[0m\n\u001b[0;31mTypeError\u001b[0m                                 Traceback (most recent call last)",
        "\u001b[0;32m<ipython-input-92-0dc2fa4129fe>\u001b[0m in \u001b[0;36m<module>\u001b[0;34m()\u001b[0m\n\u001b[1;32m      1\u001b[0m \u001b[0mt\u001b[0m \u001b[0;34m=\u001b[0m \u001b[0;34m(\u001b[0m\u001b[0;36m1\u001b[0m\u001b[0;34m,\u001b[0m\u001b[0;36m2\u001b[0m\u001b[0;34m,\u001b[0m\u001b[0;36m3\u001b[0m\u001b[0;34m,\u001b[0m\u001b[0;36m4\u001b[0m\u001b[0;34m)\u001b[0m\u001b[0;34m\u001b[0m\u001b[0m\n\u001b[0;32m----> 2\u001b[0;31m \u001b[0mt\u001b[0m\u001b[0;34m[\u001b[0m\u001b[0;36m2\u001b[0m\u001b[0;34m]\u001b[0m \u001b[0;34m=\u001b[0m \u001b[0;34m'three'\u001b[0m\u001b[0;34m\u001b[0m\u001b[0m\n\u001b[0m",
        "\u001b[0;31mTypeError\u001b[0m: 'tuple' object does not support item assignment"
       ]
      }
     ],
     "prompt_number": 92
    },
    {
     "cell_type": "markdown",
     "metadata": {},
     "source": [
      "so you would need to find another way to do this, e.g."
     ]
    },
    {
     "cell_type": "code",
     "collapsed": false,
     "input": [
      "t = (1,2,3,4)\n",
      "\n",
      "t = t[:2] + ('three',) + t[3:]\n",
      "print t"
     ],
     "language": "python",
     "metadata": {},
     "outputs": [
      {
       "output_type": "stream",
       "stream": "stdout",
       "text": [
        "(1, 2, 'three', 4, 1, 2, 'three', 4)\n"
       ]
      }
     ],
     "prompt_number": 2
    },
    {
     "cell_type": "markdown",
     "metadata": {},
     "source": [
      "Neither can you delete an item in a tuple:"
     ]
    },
    {
     "cell_type": "code",
     "collapsed": false,
     "input": [
      "t = (1,2,3,4)\n",
      "\n",
      "del t[2]\n",
      "print t"
     ],
     "language": "python",
     "metadata": {},
     "outputs": [
      {
       "ename": "TypeError",
       "evalue": "'tuple' object doesn't support item deletion",
       "output_type": "pyerr",
       "traceback": [
        "\u001b[0;31m---------------------------------------------------------------------------\u001b[0m\n\u001b[0;31mTypeError\u001b[0m                                 Traceback (most recent call last)",
        "\u001b[0;32m<ipython-input-97-b33678abdb80>\u001b[0m in \u001b[0;36m<module>\u001b[0;34m()\u001b[0m\n\u001b[1;32m      1\u001b[0m \u001b[0mt\u001b[0m \u001b[0;34m=\u001b[0m \u001b[0;34m(\u001b[0m\u001b[0;36m1\u001b[0m\u001b[0;34m,\u001b[0m\u001b[0;36m2\u001b[0m\u001b[0;34m,\u001b[0m\u001b[0;36m3\u001b[0m\u001b[0;34m,\u001b[0m\u001b[0;36m4\u001b[0m\u001b[0;34m)\u001b[0m\u001b[0;34m\u001b[0m\u001b[0m\n\u001b[1;32m      2\u001b[0m \u001b[0;34m\u001b[0m\u001b[0m\n\u001b[0;32m----> 3\u001b[0;31m \u001b[0;32mdel\u001b[0m \u001b[0mt\u001b[0m\u001b[0;34m[\u001b[0m\u001b[0;36m2\u001b[0m\u001b[0;34m]\u001b[0m\u001b[0;34m\u001b[0m\u001b[0m\n\u001b[0m\u001b[1;32m      4\u001b[0m \u001b[0;32mprint\u001b[0m \u001b[0mt\u001b[0m\u001b[0;34m\u001b[0m\u001b[0m\n",
        "\u001b[0;31mTypeError\u001b[0m: 'tuple' object doesn't support item deletion"
       ]
      }
     ],
     "prompt_number": 97
    },
    {
     "cell_type": "code",
     "collapsed": false,
     "input": [
      "# again, find another way around\n",
      "\n",
      "t = (1,2,3,4)\n",
      "\n",
      "t = t[:2] + t[3:]\n",
      "print t"
     ],
     "language": "python",
     "metadata": {},
     "outputs": [
      {
       "output_type": "stream",
       "stream": "stdout",
       "text": [
        "(1, 2, 4)\n"
       ]
      }
     ],
     "prompt_number": 99
    },
    {
     "cell_type": "heading",
     "level": 4,
     "metadata": {},
     "source": [
      "string as a group"
     ]
    },
    {
     "cell_type": "markdown",
     "metadata": {},
     "source": [
      "You might have noticed that a string data type `str` acts as a collection of individual characters, e.g.:"
     ]
    },
    {
     "cell_type": "code",
     "collapsed": false,
     "input": [
      "word = 'hello world'\n",
      "\n",
      "print \"word =\\t\",word,\"\\n\"\n",
      "\n",
      "print \"tuple(word) =\\t\",tuple(word)\n",
      "# slice\n",
      "print \"word[2:5] =\\t\",word[2:5]\n",
      "# len\n",
      "print \"len(word) =\\t\",len(word)\n",
      "# max (similarly min)\n",
      "print \"max(word) =\\t\",max(word)\n",
      "# in (membership)\n",
      "print \"'w' in word =\\t\",'w' in word\n",
      "# count\n",
      "print \"word.count('l')=\\t\",word.count('l')\n",
      "# index\n",
      "print \"word.index('l')=\\t\",word.index('l')\n",
      "# + (concatenation)\n",
      "print \"word + ' again'=\\t\",word + ' again'\n",
      "# * (repetition)\n",
      "print \"word * 2=\\t\",word*2"
     ],
     "language": "python",
     "metadata": {},
     "outputs": [
      {
       "output_type": "stream",
       "stream": "stdout",
       "text": [
        "word =\thello world \n",
        "\n",
        "tuple(word) =\t('h', 'e', 'l', 'l', 'o', ' ', 'w', 'o', 'r', 'l', 'd')\n",
        "word[2:5] =\tllo\n",
        "len(word) =\t11\n",
        "max(word) =\tw\n",
        "'w' in word =\tTrue\n",
        "word.count('l')=\t3\n",
        "word.index('l')=\t2\n",
        "word + ' again'=\thello world again\n",
        "word * 2=\thello worldhello world\n"
       ]
      }
     ],
     "prompt_number": 23
    },
    {
     "cell_type": "markdown",
     "metadata": {},
     "source": [
      "This sort of consistency or operation is one of the things that makes Python a good language to program in.\n",
      "\n"
     ]
    },
    {
     "cell_type": "heading",
     "level": 4,
     "metadata": {},
     "source": [
      "list"
     ]
    },
    {
     "cell_type": "markdown",
     "metadata": {},
     "source": [
      "*lists* or *sequences* are contained within square brackets `[]`:\n",
      "\n",
      "The operators available for tuple work in much the same way as for lists (more formally, sequences):"
     ]
    },
    {
     "cell_type": "code",
     "collapsed": false,
     "input": [
      "t = ['It', 'was', 'the', 'best', 'of', 'times']\n",
      "print t\n",
      "\n",
      "\"\"\"slicing is the same as for tuples\"\"\"\n",
      "t = ['It', 'was', 'the', 'best', 'of', 'times']\n",
      "\n",
      "print \"\\n----slice----\"\n",
      "print 't[:4:2]:\\n\\t',t[:4:2]       # 0th item to 4th in steps of 2, so 0,2\n",
      "print 't[::-1]:\\n\\t',t[::-1]       # reversal\n",
      "\n",
      "\n",
      "\"\"\"index\"\"\"\n",
      "t = ['It', 'was', 'the', 'best', 'of', 'times']\n",
      "\n",
      "print \"\\n----index----\"\n",
      "print 't.index(\"best\"):\\n\\t',t.index('best')\n",
      "\n",
      "\n",
      "\"\"\"plus\"\"\"\n",
      "t = ['It', 'was'] + ['the', 'best', 'of', 'times']\n",
      "\n",
      "print \"\\n----plus----\"\n",
      "print \"t = ['It', 'was'] + ['the', 'best', 'of', 'times']\\n\\t\",t\n",
      "\n",
      "\n",
      "\"\"\"multiply\"\"\"\n",
      "t = ['It', 'was', 'the'] + ['best'] * 3 + ['of', 'times']\n",
      "\n",
      "print \"\\n----multiply----\"\n",
      "print \"t = ['It', 'was', 'the'] + ['best'] * 3 + ['of', 'times']\\n\\t\",t\n",
      "\n"
     ],
     "language": "python",
     "metadata": {},
     "outputs": [
      {
       "output_type": "stream",
       "stream": "stdout",
       "text": [
        "['It', 'was', 'the', 'best', 'of', 'times']\n",
        "\n",
        "----slice----\n",
        "t[:4:2]:\n",
        "\t['It', 'the']\n",
        "t[::-1]:\n",
        "\t['times', 'of', 'best', 'the', 'was', 'It']\n",
        "\n",
        "----index----\n",
        "t.index(\"best\"):\n",
        "\t3\n",
        "\n",
        "----plus----\n",
        "t = ['It', 'was'] + ['the', 'best', 'of', 'times']\n",
        "\t['It', 'was', 'the', 'best', 'of', 'times']\n",
        "\n",
        "----multiply----\n",
        "t = ['It', 'was', 'the'] + ['best'] * 3 + ['of', 'times']\n",
        "\t['It', 'was', 'the', 'best', 'best', 'best', 'of', 'times']\n"
       ]
      }
     ],
     "prompt_number": 178
    },
    {
     "cell_type": "markdown",
     "metadata": {},
     "source": [
      "But there are many other things one can do with a sequence, e.g.:"
     ]
    },
    {
     "cell_type": "code",
     "collapsed": false,
     "input": [
      "\"\"\"replace\"\"\"\n",
      "t = ['It', 'was', 'the', 'best', 'of', 'times']\n",
      "\n",
      "print \"\\n----replace----\"\n",
      "t[3:5] = ['New','York']\n",
      "print \"t[3:5] = 'New York':\\n\\t\",t\n",
      "\n",
      "\n",
      "\"\"\"index and replace\"\"\"\n",
      "t = ['It', 'was', 'the', 'best', 'of', 'times']\n",
      "\n",
      "print \"\\n----index and replace----\"\n",
      "t[t.index('best')] = 'worst'\n",
      "print 't[t.index(\"best\")] = \"worst\":\\n\\t',t\n",
      "\n",
      "\n",
      "\"\"\"can delete one or more items\"\"\"\n",
      "t = ['It', 'was', 'the', 'best', 'of', 'times']\n",
      "\n",
      "print \"\\n----del item----\"\n",
      "del t[2:4]                         # delete items 2 to 4, i.e. 2, 3 \n",
      "                                   # i.e. 'the', 'best'\n",
      "print 'del t[2:4]:\\n\\t',t\n",
      "\n",
      "\n",
      "\"\"\"can sort\"\"\"\n",
      "t = ['It', 'was', 'the', 'best', 'of', 'times']\n",
      "\n",
      "print \"\\n----sort----\"\n",
      "t.sort()                           # sort inplace\n",
      "\n",
      "print 't.sort():\\n\\t',t\n",
      "\n",
      "\n",
      "\"\"\"can insert\"\"\"\n",
      "t = ['It', 'was', 'the', 'best', 'of', 'times']\n",
      "\n",
      "print \"\\n----insert----\"\n",
      "t.insert(1,'really')               # insert inplace \n",
      "\n",
      "print \"t.insert(1,'really'):\\n\\t\",t\n"
     ],
     "language": "python",
     "metadata": {},
     "outputs": [
      {
       "output_type": "stream",
       "stream": "stdout",
       "text": [
        "\n",
        "----replace----\n",
        "t[3:5] = 'New York':\n",
        "\t['It', 'was', 'the', 'New', 'York', 'times']\n",
        "\n",
        "----index and replace----\n",
        "t[t.index(\"best\")] = \"worst\":\n",
        "\t['It', 'was', 'the', 'worst', 'of', 'times']\n",
        "\n",
        "----del item----\n",
        "del t[2:4]:\n",
        "\t['It', 'was', 'of', 'times']\n",
        "\n",
        "----sort----\n",
        "t.sort():\n",
        "\t['It', 'best', 'of', 'the', 'times', 'was']\n",
        "\n",
        "----insert----\n",
        "t.insert(1,'really'):\n",
        "\t['It', 'really', 'was', 'the', 'best', 'of', 'times']\n"
       ]
      }
     ],
     "prompt_number": 23
    },
    {
     "cell_type": "heading",
     "level": 4,
     "metadata": {},
     "source": [
      "range"
     ]
    },
    {
     "cell_type": "markdown",
     "metadata": {},
     "source": [
      "Many functions that return multiple items will make use of a list to do so.\n",
      "\n",
      "An example of this that we will use below is [`range(start,stop,step)`](http://docs.python.org/2/library/functions.html#range) that returns a list of integers from `start` to (but not including) `stop` in steps of `step`."
     ]
    },
    {
     "cell_type": "code",
     "collapsed": false,
     "input": [
      "print range(10)"
     ],
     "language": "python",
     "metadata": {},
     "outputs": [
      {
       "output_type": "stream",
       "stream": "stdout",
       "text": [
        "[0, 1, 2, 3, 4, 5, 6, 7, 8, 9]\n"
       ]
      }
     ],
     "prompt_number": 101
    },
    {
     "cell_type": "code",
     "collapsed": false,
     "input": [
      "print range(1,3)"
     ],
     "language": "python",
     "metadata": {},
     "outputs": [
      {
       "output_type": "stream",
       "stream": "stdout",
       "text": [
        "[1, 2]\n"
       ]
      }
     ],
     "prompt_number": 107
    },
    {
     "cell_type": "code",
     "collapsed": false,
     "input": [
      "print range(-10,10,2)"
     ],
     "language": "python",
     "metadata": {},
     "outputs": [
      {
       "output_type": "stream",
       "stream": "stdout",
       "text": [
        "[-10, -8, -6, -4, -2, 0, 2, 4, 6, 8]\n"
       ]
      }
     ],
     "prompt_number": 103
    },
    {
     "cell_type": "code",
     "collapsed": false,
     "input": [
      "# set a value 3 to the variable x\n",
      "x = 3\n",
      "\n",
      "# range(10) produces the lis\n",
      "# [0, 1, 2, 3, 4, 5, 6, 7, 8, 9]\n",
      "x in range(10)"
     ],
     "language": "python",
     "metadata": {},
     "outputs": [
      {
       "metadata": {},
       "output_type": "pyout",
       "prompt_number": 24,
       "text": [
        "True"
       ]
      }
     ],
     "prompt_number": 24
    },
    {
     "cell_type": "heading",
     "level": 2,
     "metadata": {},
     "source": [
      "1.6 Loops and Conditional Statements: if, for, while"
     ]
    },
    {
     "cell_type": "heading",
     "level": 4,
     "metadata": {},
     "source": [
      "if"
     ]
    },
    {
     "cell_type": "markdown",
     "metadata": {},
     "source": [
      "So far, we have come across the ideas of variables, data types, and two ways of grouping objects together (tuples and lists).\n",
      "\n",
      "Another fundamental aspect of any programming language is conditional statements. The simplest form of this is an `if ... else ...` statement:"
     ]
    },
    {
     "cell_type": "code",
     "collapsed": false,
     "input": [
      "pockets = ['phone','keys','wallet','frog'] \n",
      "\n",
      "this_item = 'nothing'\n",
      "\n",
      "# test if something is in the list \n",
      "if this_item in pockets:\n",
      "    print \"You do have\",this_item,'in your pocket'\n",
      "else:\n",
      "    print \"You don't have\",this_item,'in your pocket'"
     ],
     "language": "python",
     "metadata": {},
     "outputs": [
      {
       "output_type": "stream",
       "stream": "stdout",
       "text": [
        "You don't have nothing in your pocket\n"
       ]
      }
     ],
     "prompt_number": 150
    },
    {
     "cell_type": "markdown",
     "metadata": {},
     "source": [
      "Here, \n",
      "\n",
      "    this_item in pockets\n",
      "\n",
      "is a membership test as we have seen above (it returns `True` or `False`).\n",
      "\n",
      "If it's `True`, the code block\n",
      "\n",
      "    print \"You do have\",this_item,'in your pocket'\n",
      "\n",
      "is executed. If `False`, then the next condition is checked. \n",
      "\n",
      "\n",
      "Note the use of indentation here (using `tab` or spaces) to represent the structure of the conditional statements.  \n",
      "\n",
      "Note also the use of a colon (`:`) to mark the end of the conditional test."
     ]
    },
    {
     "cell_type": "code",
     "collapsed": false,
     "input": [
      "'''An if example\n",
      "\n",
      "   Threshold the value of x at zero\n",
      "'''\n",
      "\n",
      "x = 3\n",
      "\n",
      "# threshold at zero\n",
      "# and print some information about what we did\n",
      "\n",
      "if x < 0:\n",
      "    print 'x less than 0'\n",
      "    x = 0\n",
      "elif x == 0:\n",
      "    print 'x is zero'\n",
      "else:\n",
      "    print 'x is more than zero'\n",
      "    \n",
      "print 'thresholded x = ',x"
     ],
     "language": "python",
     "metadata": {},
     "outputs": [
      {
       "output_type": "stream",
       "stream": "stdout",
       "text": [
        "x is more than zero\n",
        "thresholded x =  3\n"
       ]
      }
     ],
     "prompt_number": 91
    },
    {
     "cell_type": "markdown",
     "metadata": {},
     "source": [
      "The syntax of this is:\n",
      "\n",
      "```python\n",
      "    if condition1 is True:\n",
      "        ...\n",
      "    elif condition2 is True:\n",
      "        ...\n",
      "    else:\n",
      "        ...\n",
      "```\n",
      "where `condition1` and `condition2` are logical tests (e.g. `this_item in pockets`, `today == \"Wednesday\"`, `x > 10` etc.) and the `is True` part of the syntax is implicit (i.e. you don't need to type `is True`).\n",
      "\n",
      "The word `elif` means `else if`. The tests are considered in the order they are givem so that if `condition1` is `not True`, we examine `condition2`. If that is `not True`, we fall through to the final `else` block.\n"
     ]
    },
    {
     "cell_type": "code",
     "collapsed": false,
     "input": [
      "# nested conditional statements: If\n",
      "\n",
      "what_you_keep = 'your head'\n",
      "when_you_do_it = 'all about you are losing theirs'\n",
      "whom_you_trust_when_all_men_doubt_you = 'yourself'\n",
      "\n",
      "# first tests\n",
      "if ( what_you_keep == 'your head' ) and \\\n",
      "    (when_you_do_it == 'all about you are losing theirs'):\n",
      "\n",
      "    # second level tests\n",
      "    if whom_you_trust_when_all_men_doubt_you == 'yourself':\n",
      "        print \"Yours is the Earth and everything that\u2019s in it ...\"\n",
      "    else:\n",
      "        print \"Nearly there ...\"\n",
      "\n",
      "else:\n",
      "    print \"Have a look at http://www.poetryfoundation.org/poem/175772\""
     ],
     "language": "python",
     "metadata": {},
     "outputs": [
      {
       "output_type": "stream",
       "stream": "stdout",
       "text": [
        "Yours is the Earth and everything that\u2019s in it ...\n"
       ]
      }
     ],
     "prompt_number": 26
    },
    {
     "cell_type": "heading",
     "level": 3,
     "metadata": {},
     "source": [
      "Exercise 2.2"
     ]
    },
    {
     "cell_type": "heading",
     "level": 4,
     "metadata": {},
     "source": [
      "A."
     ]
    },
    {
     "cell_type": "markdown",
     "metadata": {},
     "source": [
      "A small piece of Python code that will set the variable `today` to be a string with the day of the week today is:"
     ]
    },
    {
     "cell_type": "code",
     "collapsed": false,
     "input": [
      "# This imports a module that we can use to access dates\n",
      "from datetime import datetime\n",
      "\n",
      "# set up a list of days of the week, starting Monday\n",
      "# Note the line continuation here with \\\n",
      "week = ['Monday','Tuesday','Wednesday','Thursday',\\\n",
      "        'Friday','Saturday','Sunday']\n",
      "\n",
      "# This part gives the day of the week\n",
      "# as an integer, 0 -> Monday, 1 -> Tuesday etc.\n",
      "day_number = datetime.now().weekday()\n",
      "\n",
      "today = week[day_number]\n",
      "\n",
      "# print item day_number in the list week\n",
      "print \"today is\",today"
     ],
     "language": "python",
     "metadata": {},
     "outputs": [
      {
       "output_type": "stream",
       "stream": "stdout",
       "text": [
        "today is Tuesday\n"
       ]
      }
     ],
     "prompt_number": 27
    },
    {
     "cell_type": "markdown",
     "metadata": {},
     "source": [
      "Based on the example below, **set up a diary for youself for the week to print out what you should be doing today, using the conditional structure `if .. elif ... else`.**"
     ]
    },
    {
     "cell_type": "code",
     "collapsed": false,
     "input": [
      "if day_number == 2:\n",
      "    print \"Remember to wake up early to get to the Python class at UCL\"\n",
      "elif day_number == 4:\n",
      "    print \"Remember to wake up early to go to classes at Imperial College\"\n",
      "else:\n",
      "    print \"get some sleep\""
     ],
     "language": "python",
     "metadata": {},
     "outputs": [
      {
       "output_type": "stream",
       "stream": "stdout",
       "text": [
        "get some sleep\n"
       ]
      }
     ],
     "prompt_number": 44
    },
    {
     "cell_type": "heading",
     "level": 4,
     "metadata": {},
     "source": [
      "B."
     ]
    },
    {
     "cell_type": "markdown",
     "metadata": {},
     "source": [
      "You could set up the basic calendar for the week in a list, with the first entry representing Monday, the second Tuesday etc."
     ]
    },
    {
     "cell_type": "code",
     "collapsed": false,
     "input": [
      "my_diary = ['Spend the day practicing Python',\\\n",
      "            'Do some reading in the library at UCL', \\\n",
      "            'Remember to wake up early to get to the Python class at UCL',\\\n",
      "            'Spend the day practicing Python',\\\n",
      "            'Remember to wake up early to go to classes at Imperial College',\\\n",
      "            'Work at Python exercises from home',\\\n",
      "            'Work at Python exercises from home']"
     ],
     "language": "python",
     "metadata": {},
     "outputs": [],
     "prompt_number": 49
    },
    {
     "cell_type": "markdown",
     "metadata": {},
     "source": [
      "Using a list of this sort, **print the diary entry for today *without* using conditional statements.**\n",
      "\n",
      "Criticise the code you develop and make suggestions for improvement."
     ]
    },
    {
     "cell_type": "heading",
     "level": 4,
     "metadata": {},
     "source": [
      "for"
     ]
    },
    {
     "cell_type": "markdown",
     "metadata": {},
     "source": [
      "Very commonly, we need to iterate or 'loop' over some set of items.\n",
      "\n",
      "The basic stucture for doing this (in Python, and many other languages) is `for ... in ...`:"
     ]
    },
    {
     "cell_type": "code",
     "collapsed": false,
     "input": [
      "count_list = range(1,4)\n",
      "\n",
      "# for loop\n",
      "for count in count_list:\n",
      "    '''print counter in loop'''\n",
      "    print count\n",
      "    \n",
      "print 'blast off'"
     ],
     "language": "python",
     "metadata": {},
     "outputs": [
      {
       "output_type": "stream",
       "stream": "stdout",
       "text": [
        "1\n",
        "2\n",
        "3\n",
        "blast off\n"
       ]
      }
     ],
     "prompt_number": 155
    },
    {
     "cell_type": "markdown",
     "metadata": {},
     "source": [
      "which has the syntax:\n",
      "\n",
      "    for var in list:\n",
      "        ...\n",
      "\n",
      "\n",
      "where the variable `var` is set to each of the items in `list`, in the order in which they appear in `list`."
     ]
    },
    {
     "cell_type": "heading",
     "level": 4,
     "metadata": {},
     "source": [
      "xrange"
     ]
    },
    {
     "cell_type": "markdown",
     "metadata": {},
     "source": [
      "When we have a loop, there nust be something that defines what it is we loop over. In the example above, this was a list, `count_list`, which here is `[1, 2, 3]`.\n",
      "\n",
      "In Python, we can use either use some explicit list, tuple etc. to define what we loop over, or, we can use a [generator expression](http://python.net/~goodger/projects/pycon/2007/idiomatic/handout.html#generator-expressions-1), which is something that returns one of its members at a time.\n",
      "\n",
      "Normally then, instead or using `range` above, which involves an *explicit* calculation and storage of all elements of the list, we use a generator function, [`xrange`](http://docs.python.org/2/library/functions.html#xrange), which, in essence, returns the elements 'on demand' as needed in the loop (and so uses less memory, though there is little real difference except for very large loops).\n",
      "\n"
     ]
    },
    {
     "cell_type": "code",
     "collapsed": false,
     "input": [
      "# for loop\n",
      "for count in xrange(1,4):\n",
      "    '''print counter in loop'''\n",
      "    print count\n",
      "    \n",
      "print 'blast off'"
     ],
     "language": "python",
     "metadata": {},
     "outputs": [
      {
       "output_type": "stream",
       "stream": "stdout",
       "text": [
        "1\n",
        "2\n",
        "3\n",
        "blast off\n"
       ]
      }
     ],
     "prompt_number": 153
    },
    {
     "cell_type": "markdown",
     "metadata": {},
     "source": [
      "If you need to force an [`iterable`](http://docs.python.org/2/glossary.html#term-iterable) to e.g. return a list, you can convert the data type to `list`:"
     ]
    },
    {
     "cell_type": "code",
     "collapsed": false,
     "input": [
      "print xrange(1,4)"
     ],
     "language": "python",
     "metadata": {},
     "outputs": [
      {
       "output_type": "stream",
       "stream": "stdout",
       "text": [
        "xrange(1, 4)\n"
       ]
      }
     ],
     "prompt_number": 29
    },
    {
     "cell_type": "code",
     "collapsed": false,
     "input": [
      "print list(xrange(1,4))"
     ],
     "language": "python",
     "metadata": {},
     "outputs": [
      {
       "output_type": "stream",
       "stream": "stdout",
       "text": [
        "[1, 2, 3]\n"
       ]
      }
     ],
     "prompt_number": 30
    },
    {
     "cell_type": "heading",
     "level": 4,
     "metadata": {},
     "source": [
      "enumerate"
     ]
    },
    {
     "cell_type": "markdown",
     "metadata": {},
     "source": [
      "Commonly, when iterating over a set of items, we also need access to a counter, telling us which item in the list we are currently on.\n",
      "\n",
      "This is done using the function [`enumerate()`](http://docs.python.org/2/library/functions.html#enumerate). This returns the `tuple` `(count,item)` where `count` is the index of `item` in `list`."
     ]
    },
    {
     "cell_type": "code",
     "collapsed": false,
     "input": [
      "word_list = ['Call', 'me', 'Ishmael']\n",
      "\n",
      "for i,w in enumerate(word_list):\n",
      "    print 'The',i,'th','word is',w"
     ],
     "language": "python",
     "metadata": {},
     "outputs": [
      {
       "output_type": "stream",
       "stream": "stdout",
       "text": [
        "The 0 th word is Call\n",
        "The 1 th word is me\n",
        "The 2 th word is Ishmael\n"
       ]
      }
     ],
     "prompt_number": 137
    },
    {
     "cell_type": "markdown",
     "metadata": {},
     "source": [
      "Here the syntax:\n",
      "\n",
      "    for count,var in enumerate(list):\n",
      "        ..."
     ]
    },
    {
     "cell_type": "heading",
     "level": 2,
     "metadata": {},
     "source": [
      "1.5 Strings and things"
     ]
    },
    {
     "cell_type": "markdown",
     "metadata": {},
     "source": [
      "We have seen the data type `str` above and noted some of the operations we can use of strings.\n",
      "\n",
      "You can look over some more [detailed notes](http://docs.python.org/2/library/string.html_) on strings at some point, but here we will now go through some other typical operations you will use in scientific computing:"
     ]
    },
    {
     "cell_type": "heading",
     "level": 3,
     "metadata": {},
     "source": [
      "1.5.1 Some basic string operations"
     ]
    },
    {
     "cell_type": "markdown",
     "metadata": {},
     "source": [
      "As a recap, with some slightly more complicated examples:"
     ]
    },
    {
     "cell_type": "code",
     "collapsed": false,
     "input": [
      "word = 'hello world'\n",
      "\n",
      "print \"word \\n\\t=\",word,\"\\n\"\n",
      "\n",
      "print \"list(word) \\n\\t=\",list(word)\n",
      "\n",
      "# slice\n",
      "print \"word[::-1] \\n\\t=\",word[::-1]\n",
      "# len\n",
      "print \"len(word) \\n\\t=\",len(word)\n",
      "# min (similarly max)\n",
      "print \"min(word) \\n\\t=\",min(word),'\\n\\t... what was printed there?'\n",
      "# in (membership)\n",
      "print \"'n' in word \\n\\t=\",'n' in word\n",
      "# count\n",
      "print \"word.count('p')\\n\\t=\",word.count('p')\n",
      "# + (concatenation)\n",
      "print \"'hey!' + word[len('hello')::2]\\n\\t=\",'hey!' + word[len('hello')::2]\n",
      "# * (repetition)\n",
      "print \"word[:6]* 3\\n\\t=\",word[:6]*3"
     ],
     "language": "python",
     "metadata": {},
     "outputs": [
      {
       "output_type": "stream",
       "stream": "stdout",
       "text": [
        "word \n",
        "\t= hello world \n",
        "\n",
        "list(word) \n",
        "\t= ['h', 'e', 'l', 'l', 'o', ' ', 'w', 'o', 'r', 'l', 'd']\n",
        "word[::-1] \n",
        "\t= dlrow olleh\n",
        "len(word) \n",
        "\t= 11\n",
        "min(word) \n",
        "\t=   \n",
        "\t... what was printed there?\n",
        "'n' in word \n",
        "\t= False\n",
        "word.count('p')\n",
        "\t= 0\n",
        "'hey!' + word[len('hello')::2]\n",
        "\t= hey! ol\n",
        "word[:6]* 3\n",
        "\t= hello hello hello \n"
       ]
      }
     ],
     "prompt_number": 72
    },
    {
     "cell_type": "code",
     "collapsed": false,
     "input": [
      "# look what happens if we call index\n",
      "# for something that doesn't exist in the string\n",
      "print \"word.index('x')=\\t\",word.index('x')\n"
     ],
     "language": "python",
     "metadata": {},
     "outputs": [
      {
       "ename": "ValueError",
       "evalue": "substring not found",
       "output_type": "pyerr",
       "traceback": [
        "\u001b[0;31m---------------------------------------------------------------------------\u001b[0m\n\u001b[0;31mValueError\u001b[0m                                Traceback (most recent call last)",
        "\u001b[0;32m<ipython-input-55-515f07310ca9>\u001b[0m in \u001b[0;36m<module>\u001b[0;34m()\u001b[0m\n\u001b[1;32m      1\u001b[0m \u001b[0;31m# look what happens if we call index\u001b[0m\u001b[0;34m\u001b[0m\u001b[0;34m\u001b[0m\u001b[0m\n\u001b[1;32m      2\u001b[0m \u001b[0;31m# for something that doesn't exist in the string\u001b[0m\u001b[0;34m\u001b[0m\u001b[0;34m\u001b[0m\u001b[0m\n\u001b[0;32m----> 3\u001b[0;31m \u001b[0;32mprint\u001b[0m \u001b[0;34m\"word.index('x')=\\t\"\u001b[0m\u001b[0;34m,\u001b[0m\u001b[0mword\u001b[0m\u001b[0;34m.\u001b[0m\u001b[0mindex\u001b[0m\u001b[0;34m(\u001b[0m\u001b[0;34m'x'\u001b[0m\u001b[0;34m)\u001b[0m\u001b[0;34m\u001b[0m\u001b[0m\n\u001b[0m",
        "\u001b[0;31mValueError\u001b[0m: substring not found"
       ]
      },
      {
       "output_type": "stream",
       "stream": "stdout",
       "text": [
        "word.index('x')=\t"
       ]
      }
     ],
     "prompt_number": 55
    },
    {
     "cell_type": "code",
     "collapsed": false,
     "input": [
      "# Sometimes, we might wish to use \n",
      "# the string operator find instead\n",
      "print \"word.find('x')=\\t\",word.find('x')\n"
     ],
     "language": "python",
     "metadata": {},
     "outputs": [
      {
       "output_type": "stream",
       "stream": "stdout",
       "text": [
        "word.find('x')=\t-1\n"
       ]
      }
     ],
     "prompt_number": 54
    },
    {
     "cell_type": "heading",
     "level": 3,
     "metadata": {},
     "source": [
      "1.5.2 split"
     ]
    },
    {
     "cell_type": "markdown",
     "metadata": {},
     "source": [
      "Suppose we have some data that are presented to us as a string with white space separating each data element, e.g.:"
     ]
    },
    {
     "cell_type": "code",
     "collapsed": false,
     "input": [
      "data = \"1964 1220 1974 2470 1984 2706 1994 4812 2004 2707\""
     ],
     "language": "python",
     "metadata": {},
     "outputs": []
    },
    {
     "cell_type": "markdown",
     "metadata": {},
     "source": [
      "These data are total fossil fuel emissions for Zimbabwe (thousand metric tons of C) for selected years (dataset [doi 10.3334/CDIAC/00001_V2011](ftp://cdiac.ornl.gov/pub/trends/emissions/zim.dat)).\n",
      "\n",
      "The even elements are the year (`1964`, `1974` etc.) and the odd elements (`1220`, `2470`) the data for that year.\n",
      "\n",
      "We can use the string operator `split()` to separate this into a list of strings:\n"
     ]
    },
    {
     "cell_type": "code",
     "collapsed": false,
     "input": [
      "data = \"1964 1220 1974 2470 1984 2706 1994 4812 2004 2707\"\n",
      "sdata = data.split()\n",
      "print sdata"
     ],
     "language": "python",
     "metadata": {},
     "outputs": [
      {
       "output_type": "stream",
       "stream": "stdout",
       "text": [
        "['1964', '1220', '1974', '2470', '1984', '2706', '1994', '4812', '2004', '2707']\n"
       ]
      }
     ],
     "prompt_number": 74
    },
    {
     "cell_type": "markdown",
     "metadata": {},
     "source": [
      "We could the convert these to integer:"
     ]
    },
    {
     "cell_type": "code",
     "collapsed": false,
     "input": [
      "data = \"1964 1220 1974 2470 1984 2706 1994 4812 2004 2707\"\n",
      "sdata = data.split()\n",
      "\n",
      "# how many items are there?\n",
      "# use len(), and divide by 2 in this case\n",
      "n_items = len(sdata)\n",
      "\n",
      "# create an empty list: years\n",
      "years = []\n",
      "\n",
      "# create an empty list: emissions\n",
      "emissions = []\n",
      "\n",
      "# loop over sdata in steps of 2\n",
      "# and append years and emissions\n",
      "# data as int\n",
      "\n",
      "# xrange(0,n_items,2) because\n",
      "# we want to step every 2 in this case\n",
      "for i in xrange(0,n_items,2):\n",
      "    years.append(int(sdata[i]))\n",
      "    emissions.append(int(sdata[i+1]))\n",
      "print years\n",
      "print emissions"
     ],
     "language": "python",
     "metadata": {},
     "outputs": [
      {
       "output_type": "stream",
       "stream": "stdout",
       "text": [
        "[1964, 1974, 1984, 1994, 2004]\n",
        "[1220, 2470, 2706, 4812, 2707]\n"
       ]
      }
     ],
     "prompt_number": 75
    },
    {
     "cell_type": "heading",
     "level": 3,
     "metadata": {},
     "source": [
      "1.5.3 join"
     ]
    },
    {
     "cell_type": "markdown",
     "metadata": {},
     "source": [
      "The 'opposite' of `split` is `join`.\n",
      "\n",
      "This returns an iterable of the form `S.join(list)`, where `S` is the separator and `list` is a **list of strings** e.g.:"
     ]
    },
    {
     "cell_type": "code",
     "collapsed": false,
     "input": [
      "str1 = 'hello'\n",
      "str2 = 'world'\n",
      "\n",
      "# joint with space\n",
      "print ' '.join([str1,str2])\n",
      "# joint with no space\n",
      "print ''.join([str1,str2])\n",
      "# join with tab\n",
      "print '\\t'.join([str1,str1,str2])\n",
      "# join with colon :\n",
      "# note what happens we pass a \n",
      "# string, rather than a list\n",
      "print ':'.join(str1)"
     ],
     "language": "python",
     "metadata": {},
     "outputs": [
      {
       "output_type": "stream",
       "stream": "stdout",
       "text": [
        "hello world\n",
        "helloworld\n",
        "hello\thello\tworld\n",
        "h:e:l:l:o\n"
       ]
      }
     ],
     "prompt_number": 81
    },
    {
     "cell_type": "code",
     "collapsed": false,
     "input": [
      "# remember that it has to be a list\n",
      "# of strings: years here is a list\n",
      "# of integers\n",
      "print ' '.join(years)"
     ],
     "language": "python",
     "metadata": {},
     "outputs": [
      {
       "ename": "TypeError",
       "evalue": "sequence item 0: expected string, int found",
       "output_type": "pyerr",
       "traceback": [
        "\u001b[0;31m---------------------------------------------------------------------------\u001b[0m\n\u001b[0;31mTypeError\u001b[0m                                 Traceback (most recent call last)",
        "\u001b[0;32m<ipython-input-83-795783cbd46a>\u001b[0m in \u001b[0;36m<module>\u001b[0;34m()\u001b[0m\n\u001b[1;32m      2\u001b[0m \u001b[0;31m# of strings: years here is a list\u001b[0m\u001b[0;34m\u001b[0m\u001b[0;34m\u001b[0m\u001b[0m\n\u001b[1;32m      3\u001b[0m \u001b[0;31m# of integers\u001b[0m\u001b[0;34m\u001b[0m\u001b[0;34m\u001b[0m\u001b[0m\n\u001b[0;32m----> 4\u001b[0;31m \u001b[0;32mprint\u001b[0m \u001b[0;34m' '\u001b[0m\u001b[0;34m.\u001b[0m\u001b[0mjoin\u001b[0m\u001b[0;34m(\u001b[0m\u001b[0myears\u001b[0m\u001b[0;34m)\u001b[0m\u001b[0;34m\u001b[0m\u001b[0m\n\u001b[0m",
        "\u001b[0;31mTypeError\u001b[0m: sequence item 0: expected string, int found"
       ]
      }
     ],
     "prompt_number": 83
    },
    {
     "cell_type": "code",
     "collapsed": false,
     "input": [
      "data = \"1964 1220 1974 2470 1984 2706 1994 4812 2004 2707\"\n",
      "sdata = data.split()\n",
      "\n",
      "for i in xrange(0,len(sdata),2):\n",
      "    print ' '.join(sdata[i:i+2])"
     ],
     "language": "python",
     "metadata": {},
     "outputs": [
      {
       "output_type": "stream",
       "stream": "stdout",
       "text": [
        "1964 1220\n",
        "1974 2470\n",
        "1984 2706\n",
        "1994 4812\n",
        "2004 2707\n"
       ]
      }
     ],
     "prompt_number": 90
    },
    {
     "cell_type": "heading",
     "level": 3,
     "metadata": {},
     "source": [
      "1.5.4 listcomp"
     ]
    },
    {
     "cell_type": "markdown",
     "metadata": {},
     "source": [
      "That is a perfectly fine way to pull these data out of a string, but it's not very ['Pythonic'](http://python.net/~goodger/projects/pycon/2007/idiomatic/handout.html) (it does'nt make best use of some of the elegant features of this language).\n",
      "\n",
      "Better in this sense is what are known as [listcomps](http://python.net/~goodger/projects/pycon/2007/idiomatic/handout.html#list-comprehensions) (list comprehensions).\n",
      "\n",
      "With a listcomp, you define a list (enclosed in `[`, `]`), with two or three terms. The first term is some function `fn(item)`. The second is a for statement. The third, if present, is a conditional (`if`) statement. \n",
      "\n",
      "For example:"
     ]
    },
    {
     "cell_type": "code",
     "collapsed": false,
     "input": [
      "fdata = [int(s) for s in data.split()]\n",
      "\n",
      "print fdata"
     ],
     "language": "python",
     "metadata": {},
     "outputs": [
      {
       "output_type": "stream",
       "stream": "stdout",
       "text": [
        "[1964, 1220, 1974, 2470, 1984, 2706, 1994, 4812, 2004, 2707]\n"
       ]
      }
     ],
     "prompt_number": 208
    },
    {
     "cell_type": "markdown",
     "metadata": {},
     "source": [
      "This generates a list. Within this list, we iterate over the loop `for s in data.split()`, and enter the result of the function `int(s)`.\n",
      "\n",
      "So this example is directly equivalent to:"
     ]
    },
    {
     "cell_type": "code",
     "collapsed": false,
     "input": [
      "data = \"1964 1220 1974 2470 1984 2706 1994 4812 2004 2707\"\n",
      "\n",
      "fdata = []\n",
      "for s in data.split():\n",
      "    fdata.append(int(s))\n",
      "        \n",
      "print fdata"
     ],
     "language": "python",
     "metadata": {},
     "outputs": [
      {
       "output_type": "stream",
       "stream": "stdout",
       "text": [
        "[1964, 1220, 1974, 2470, 1984, 2706, 1994, 4812, 2004, 2707]\n"
       ]
      }
     ],
     "prompt_number": 91
    },
    {
     "cell_type": "markdown",
     "metadata": {},
     "source": [
      "You will very commonly use listcomps of this nature when performing some function over elements in a list where you have to perform the function on each element at a time."
     ]
    },
    {
     "cell_type": "code",
     "collapsed": false,
     "input": [
      "data = \"1964 1220 1974 2470 1984 2706 1994 4812 2004 2707\"\n",
      "fdata = [int(s) for s in data.split()]\n",
      "\n",
      "# use slicing to separate the odd\n",
      "# and even data\n",
      "years     = fdata[0::2]\n",
      "emissions = fdata[1::2]\n",
      "\n",
      "print years\n",
      "print emissions"
     ],
     "language": "python",
     "metadata": {},
     "outputs": [
      {
       "output_type": "stream",
       "stream": "stdout",
       "text": [
        "[1964, 1974, 1984, 1994, 2004]\n",
        "[1220, 2470, 2706, 4812, 2707]\n"
       ]
      }
     ],
     "prompt_number": 210
    },
    {
     "cell_type": "markdown",
     "metadata": {},
     "source": [
      "Listcomps can be very convenient, as they are a compact way of specifying a loop (with a conditonal statement oif required).\n",
      "\n",
      "Don't use listcomps if they obscure the meaning of what you are doing though.\n"
     ]
    },
    {
     "cell_type": "heading",
     "level": 3,
     "metadata": {},
     "source": [
      "1.5.5 generator expressions"
     ]
    },
    {
     "cell_type": "markdown",
     "metadata": {},
     "source": [
      "A listcomp generates everything in the list, then returns the list.\n",
      "\n",
      "Sometimes, you only need one element at a time (e.g. within a loop). In such cases, it is better to use generator expressions.\n",
      "\n",
      "These look much like listcomps but use `()` rather than `[]`"
     ]
    },
    {
     "cell_type": "code",
     "collapsed": false,
     "input": [
      "fdata = (int(s) for s in data.split())\n",
      "print fdata\n",
      "\n",
      "for i in fdata:\n",
      "    print i"
     ],
     "language": "python",
     "metadata": {},
     "outputs": [
      {
       "output_type": "stream",
       "stream": "stdout",
       "text": [
        "<generator object <genexpr> at 0x10be38280>\n",
        "1964\n",
        "1220\n",
        "1974\n",
        "2470\n",
        "1984\n",
        "2706\n",
        "1994\n",
        "4812\n",
        "2004\n",
        "2707\n"
       ]
      }
     ],
     "prompt_number": 216
    },
    {
     "cell_type": "markdown",
     "metadata": {},
     "source": [
      "but only return one item at a time, on demand in the loop."
     ]
    },
    {
     "cell_type": "heading",
     "level": 3,
     "metadata": {},
     "source": [
      "1.5.6 replace"
     ]
    },
    {
     "cell_type": "markdown",
     "metadata": {},
     "source": [
      "Another useful string operator is `replace`, e.g.:"
     ]
    },
    {
     "cell_type": "code",
     "collapsed": false,
     "input": [
      "# change white space separation to comma separation\n",
      "data = \"1964 1220 1974 2470 1984 2706 1994 4812 2004 2707\"\n",
      "print data.replace(' ',',')"
     ],
     "language": "python",
     "metadata": {},
     "outputs": [
      {
       "output_type": "stream",
       "stream": "stdout",
       "text": [
        "1964,1220,1974,2470,1984,2706,1994,4812,2004,2707\n"
       ]
      }
     ],
     "prompt_number": 100
    },
    {
     "cell_type": "heading",
     "level": 3,
     "metadata": {},
     "source": [
      "1.5.7 More complex splitting examples"
     ]
    },
    {
     "cell_type": "heading",
     "level": 4,
     "metadata": {},
     "source": [
      "Splitting data fields"
     ]
    },
    {
     "cell_type": "code",
     "collapsed": false,
     "input": [
      "# We can use separators other than whitespace with split:\n",
      "    \n",
      "data = \"1964,1220\\n1974,2470\\n1984,2706\\n1994,4812\\n2004,2707\"\n",
      "print \"data.split('\\\\n'):\\n\\t\",data.split('\\n')\n",
      "# note '\\\\n' in here as '\\n' would have printed a newline\n",
      "# \\ is an escape character (as in unix)\n"
     ],
     "language": "python",
     "metadata": {},
     "outputs": [
      {
       "output_type": "stream",
       "stream": "stdout",
       "text": [
        "data.split('\\n'):\n",
        "\t['1964,1220', '1974,2470', '1984,2706', '1994,4812', '2004,2707']\n"
       ]
      }
     ],
     "prompt_number": 104
    },
    {
     "cell_type": "code",
     "collapsed": false,
     "input": [
      "# using a generator expressions\n",
      "\n",
      "fdata1 = (i.split() for i in data.split('\\n'))\n",
      "\n",
      "print list(fdata1)"
     ],
     "language": "python",
     "metadata": {},
     "outputs": [
      {
       "output_type": "stream",
       "stream": "stdout",
       "text": [
        "[['1964,1220'], ['1974,2470'], ['1984,2706'], ['1994,4812'], ['2004,2707']]\n"
       ]
      }
     ],
     "prompt_number": 105
    },
    {
     "cell_type": "code",
     "collapsed": false,
     "input": [
      "# two listcomps to split first \n",
      "# on \\n and then each of these on comma\n",
      "\n",
      "fdata1 = [i.split() for i in data.split('\\n')]\n",
      "\n",
      "fdata2 = [j[0].split(',') for j in fdata1]\n",
      "\n",
      "print fdata2"
     ],
     "language": "python",
     "metadata": {},
     "outputs": [
      {
       "output_type": "stream",
       "stream": "stdout",
       "text": [
        "[['1964', '1220'], ['1974', '2470'], ['1984', '2706'], ['1994', '4812'], ['2004', '2707']]\n"
       ]
      }
     ],
     "prompt_number": 116
    },
    {
     "cell_type": "code",
     "collapsed": false,
     "input": [
      "fdata1 = [i.split() for i in data.split('\\n')]\n",
      "fdata2 = [j[0].split(',') for j in fdata1]\n",
      "fdata = [[int(l) for l in k] for k in fdata2]\n",
      "\n",
      "print fdata"
     ],
     "language": "python",
     "metadata": {},
     "outputs": [
      {
       "output_type": "stream",
       "stream": "stdout",
       "text": [
        "[[1964, 1220], [1974, 2470], [1984, 2706], [1994, 4812], [2004, 2707]]\n"
       ]
      }
     ],
     "prompt_number": 134
    },
    {
     "cell_type": "code",
     "collapsed": false,
     "input": [
      "# or all at once, which works\n",
      "# but now the meaning of code is too obscure\n",
      "# so this is poor style\n",
      "\n",
      "fdata = [[int(l) for l in k] for k in [j[0].split(',') \\\n",
      "            for j in [i.split() for i in data.split('\\n')]]]\n",
      "\n",
      "print fdata"
     ],
     "language": "python",
     "metadata": {},
     "outputs": [
      {
       "output_type": "stream",
       "stream": "stdout",
       "text": [
        "[[1964, 1220], [1974, 2470], [1984, 2706], [1994, 4812], [2004, 2707]]\n"
       ]
      }
     ],
     "prompt_number": 135
    },
    {
     "cell_type": "code",
     "collapsed": false,
     "input": [
      "# It might be comprehensible if laid out better\n",
      "\n",
      "fdata = [[int(l) \\\n",
      "            for l in k] \\\n",
      "                for k in [j[0].split(',') \\\n",
      "                    for j in [i.split() \\\n",
      "                        for i in data.split('\\n')]]]\n",
      "\n",
      "# even so you might find this confusing\n",
      "# and prefer to do it is smaller chunks\n",
      "\n",
      "print fdata"
     ],
     "language": "python",
     "metadata": {},
     "outputs": [
      {
       "output_type": "stream",
       "stream": "stdout",
       "text": [
        "[[1964, 1220], [1974, 2470], [1984, 2706], [1994, 4812], [2004, 2707]]\n"
       ]
      }
     ],
     "prompt_number": 136
    },
    {
     "cell_type": "heading",
     "level": 4,
     "metadata": {},
     "source": [
      "Splitting file names"
     ]
    },
    {
     "cell_type": "code",
     "collapsed": false,
     "input": [
      "# another example, with directory names\n",
      "\n",
      "# glob unix style pattern matching for files and directories\n",
      "import glob\n",
      "\n",
      "# returns a list (or [] if empty)\n",
      "file_list = glob.glob(\"files/data/*.txt\")\n",
      "print \"file_list:\\n\\t\",file_list\n",
      "\n",
      "# e.g. the first string in the list\n",
      "this_file = file_list[0]\n",
      "\n",
      "# split the filename on the field '/'\n",
      "print \"\\nthis_file.split('/'):\\n\\t\",this_file.split('/')\n",
      "\n",
      "# so the filename is just the last element in this list\n",
      "print \"\\nthis_file.split('/')[-1]:\\n\\t\",this_file.split('/')[-1]"
     ],
     "language": "python",
     "metadata": {},
     "outputs": [
      {
       "output_type": "stream",
       "stream": "stdout",
       "text": [
        "file_list:\n",
        "\t['files/data/HadSEEP_monthly_qc.txt', 'files/data/modis_files.txt']\n",
        "\n",
        "this_file.split('/'):\n",
        "\t['files', 'data', 'HadSEEP_monthly_qc.txt']\n",
        "\n",
        "this_file.split('/')[-1]:\n",
        "\tHadSEEP_monthly_qc.txt\n"
       ]
      }
     ],
     "prompt_number": 139
    },
    {
     "cell_type": "code",
     "collapsed": false,
     "input": [
      "# another example, with directory names\n",
      "\n",
      "# glob unix style pattern matching for files and directories\n",
      "import glob\n",
      "\n",
      "# returns a list\n",
      "file_list = glob.glob(\"files/data/*.txt\")\n",
      "print \"file_list:\\n\\t\",file_list\n",
      "\n",
      "print \"\\nfile names:\"\n",
      "# loop over the list of file namnes\n",
      "for this_file in file_list:\n",
      "    # for each of these\n",
      "    # split the filename on the field '/'\n",
      "    print \"\\t\",this_file.split('/')[-1]\n",
      "    "
     ],
     "language": "python",
     "metadata": {},
     "outputs": [
      {
       "output_type": "stream",
       "stream": "stdout",
       "text": [
        "file_list:\n",
        "\t['files/data/HadSEEP_monthly_qc.txt', 'files/data/modis_files.txt']\n",
        "\n",
        "file names:\n",
        "\tHadSEEP_monthly_qc.txt\n",
        "\tmodis_files.txt\n"
       ]
      }
     ],
     "prompt_number": 142
    },
    {
     "cell_type": "heading",
     "level": 3,
     "metadata": {},
     "source": [
      "1.5.8 format"
     ]
    },
    {
     "cell_type": "markdown",
     "metadata": {},
     "source": [
      "The most common way you are likely to be formatting strings is using expressions such as:"
     ]
    },
    {
     "cell_type": "code",
     "collapsed": false,
     "input": [
      "how_many = 10\n",
      "how_much = \"hours\"\n",
      "\n",
      "print \"There are only %d things to learn.\\\n",
      "        \\nBut\\tit will take you %s to do so.\"%(how_many,how_much)"
     ],
     "language": "python",
     "metadata": {},
     "outputs": [
      {
       "output_type": "stream",
       "stream": "stdout",
       "text": [
        "There are only 10 things to learn.        \n",
        "But\tit will take you hours to do so.\n"
       ]
      }
     ],
     "prompt_number": 144
    },
    {
     "cell_type": "markdown",
     "metadata": {},
     "source": [
      "Using this style of string formatting, you put control characters into the string, e.g.:\n",
      "\n",
      "    \"%d: hello %s\"\n",
      "    \n",
      "and put a tuple of variables after the string, separated by `%` which are inserted into the string in the order in which they appear:\n",
      "\n",
      "    \"%d: hello %s\"%(10,'ten')\n",
      "    \n",
      "Note that you must get the data types correct, or you will generate an error.\n",
      "\n",
      "The most common formatting codes are:\n",
      "\n",
      "- `%d` represents an integer\n",
      "- `%s` represents a string\n",
      "- `%f` represents a float\n",
      "- `%e` represents a float in exponential form\n",
      "\n",
      "e.g.:"
     ]
    },
    {
     "cell_type": "code",
     "collapsed": false,
     "input": [
      "print \"\\\n",
      "        integer     %d\\n\\\n",
      "        float       %f\\n\\\n",
      "        string      %s\\n\\\n",
      "        exponential %e\"%(3,3.1415926536,\"pies are squared\",3.1415926536)"
     ],
     "language": "python",
     "metadata": {},
     "outputs": [
      {
       "output_type": "stream",
       "stream": "stdout",
       "text": [
        "        integer     3\n",
        "        float       3.141593\n",
        "        string      pies are squared\n",
        "        exponential 3.141593e+00\n"
       ]
      }
     ],
     "prompt_number": 155
    },
    {
     "cell_type": "markdown",
     "metadata": {},
     "source": [
      "You can control spaces, and precision e.g.:"
     ]
    },
    {
     "cell_type": "code",
     "collapsed": false,
     "input": [
      "print \"%20s %s\"%('hello','world')\n",
      "print \"%-20s %s\"%('hello','world')"
     ],
     "language": "python",
     "metadata": {},
     "outputs": [
      {
       "output_type": "stream",
       "stream": "stdout",
       "text": [
        "               hello world\n",
        "hello                world\n"
       ]
      }
     ],
     "prompt_number": 171
    },
    {
     "cell_type": "code",
     "collapsed": false,
     "input": [
      "pi = 3.1415926536\n",
      "for format in [\"%3.2f\",\"%3.20f\",\"%9.5f\",\"%020.3f\"]:\n",
      "    print format,'\\n\\t:',format%pi"
     ],
     "language": "python",
     "metadata": {},
     "outputs": [
      {
       "output_type": "stream",
       "stream": "stdout",
       "text": [
        "%3.2f \n",
        "\t: 3.14\n",
        "%3.20f \n",
        "\t: 3.14159265360000006240\n",
        "%9.5f \n",
        "\t:   3.14159\n",
        "%020.3f \n",
        "\t: 0000000000000003.142\n"
       ]
      }
     ],
     "prompt_number": 209
    },
    {
     "cell_type": "code",
     "collapsed": false,
     "input": [
      "pi = 3.1415926536\n",
      "for format in [\"%3.2e\",\"%3.20e\",\"%9.5e\",\"%020.3e\"]:\n",
      "    print format,'\\n\\t:',format%pi"
     ],
     "language": "python",
     "metadata": {},
     "outputs": [
      {
       "output_type": "stream",
       "stream": "stdout",
       "text": [
        "%3.2e \n",
        "\t: 3.14e+00\n",
        "%3.20e \n",
        "\t: 3.14159265360000006240e+00\n",
        "%9.5e \n",
        "\t: 3.14159e+00\n",
        "%020.3e \n",
        "\t: 000000000003.142e+00\n"
       ]
      }
     ],
     "prompt_number": 208
    },
    {
     "cell_type": "code",
     "collapsed": false,
     "input": [
      "i = 100\n",
      "for format in [\"%i\",\"%3i\",\"%5i\",\"%08i\"]:\n",
      "    print format,'\\n\\t:',format%i"
     ],
     "language": "python",
     "metadata": {},
     "outputs": [
      {
       "output_type": "stream",
       "stream": "stdout",
       "text": [
        "%i \n",
        "\t: 100\n",
        "%3i \n",
        "\t: 100\n",
        "%5i \n",
        "\t:   100\n",
        "%08i \n",
        "\t: 00000100\n"
       ]
      }
     ],
     "prompt_number": 205
    },
    {
     "cell_type": "heading",
     "level": 2,
     "metadata": {},
     "source": [
      "Exercise 2.3 Filenames"
     ]
    },
    {
     "cell_type": "code",
     "collapsed": false,
     "input": [],
     "language": "python",
     "metadata": {},
     "outputs": []
    },
    {
     "cell_type": "heading",
     "level": 2,
     "metadata": {},
     "source": [
      "1.6 Files"
     ]
    },
    {
     "cell_type": "code",
     "collapsed": false,
     "input": [
      "fdata = [int(s) for s in data.split()]"
     ],
     "language": "python",
     "metadata": {},
     "outputs": []
    },
    {
     "cell_type": "code",
     "collapsed": false,
     "input": [
      "import glob\n",
      "# /data/geospatial_19/ucfajlg/fire/Angola/MOD09/*.hdf > /tmp/modis_files.txt\n",
      "fp = open('files/data/modis_files.txt','r')\n",
      "for line in fp.readlines():\n",
      "    filename = line.split('/')[-1]\n",
      "    details = filename.split('.')\n",
      "    doy = int(details[1][-3:])\n",
      "    if (doy > 181) and (doy < 214):\n",
      "        print filename\n",
      "fp.close()"
     ],
     "language": "python",
     "metadata": {},
     "outputs": [
      {
       "output_type": "stream",
       "stream": "stdout",
       "text": [
        "MOD09GA.A2004182.h19v10.005.2008159051703.hdf\n",
        "\n",
        "MOD09GA.A2004183.h19v10.005.2008159025455.hdf\n",
        "\n",
        "MOD09GA.A2004184.h19v10.005.2008159033859.hdf\n",
        "\n",
        "MOD09GA.A2004185.h19v10.005.2008159214905.hdf\n",
        "\n",
        "MOD09GA.A2004186.h19v10.005.2008160123218.hdf\n",
        "\n",
        "MOD09GA.A2004187.h19v10.005.2008160142508.hdf\n",
        "\n",
        "MOD09GA.A2004188.h19v10.005.2008160035745.hdf\n",
        "\n",
        "MOD09GA.A2004189.h19v10.005.2008160000534.hdf\n",
        "\n",
        "MOD09GA.A2004190.h19v10.005.2008160041649.hdf\n",
        "\n",
        "MOD09GA.A2004191.h19v10.005.2008160071926.hdf\n",
        "\n",
        "MOD09GA.A2004192.h19v10.005.2008160102843.hdf\n",
        "\n",
        "MOD09GA.A2004193.h19v10.005.2008160163430.hdf\n",
        "\n",
        "MOD09GA.A2004194.h19v10.005.2008161012838.hdf\n",
        "\n",
        "MOD09GA.A2004195.h19v10.005.2008161031408.hdf\n",
        "\n",
        "MOD09GA.A2004196.h19v10.005.2008161062852.hdf\n",
        "\n",
        "MOD09GA.A2004197.h19v10.005.2008161073753.hdf\n",
        "\n",
        "MOD09GA.A2004198.h19v10.005.2008161090410.hdf\n",
        "\n",
        "MOD09GA.A2004199.h19v10.005.2008161122057.hdf\n",
        "\n",
        "MOD09GA.A2004200.h19v10.005.2008164023312.hdf\n",
        "\n",
        "MOD09GA.A2004201.h19v10.005.2008162034555.hdf\n",
        "\n",
        "MOD09GA.A2004202.h19v10.005.2008161230400.hdf\n",
        "\n",
        "MOD09GA.A2004203.h19v10.005.2008164060253.hdf\n",
        "\n",
        "MOD09GA.A2004204.h19v10.005.2008162053359.hdf\n",
        "\n",
        "MOD09GA.A2004205.h19v10.005.2008164041259.hdf\n",
        "\n",
        "MOD09GA.A2004206.h19v10.005.2008162113624.hdf\n",
        "\n",
        "MOD09GA.A2004207.h19v10.005.2008163005909.hdf\n",
        "\n",
        "MOD09GA.A2004208.h19v10.005.2008163035140.hdf\n",
        "\n",
        "MOD09GA.A2004209.h19v10.005.2010053061538.hdf\n",
        "\n",
        "MOD09GA.A2004210.h19v10.005.2010051134615.hdf\n",
        "\n",
        "MOD09GA.A2004211.h19v10.005.2010051224801.hdf\n",
        "\n",
        "MOD09GA.A2004212.h19v10.005.2010052013519.hdf\n",
        "\n",
        "MOD09GA.A2004213.h19v10.005.2010052082035.hdf\n",
        "\n"
       ]
      }
     ],
     "prompt_number": 146
    },
    {
     "cell_type": "code",
     "collapsed": false,
     "input": [
      "loops\n",
      "conditional\n",
      "\n",
      "maybe:\n",
      "    \n",
      "lists, dict\n",
      "include fields.items\n",
      "\n",
      "file handling\n",
      "\n",
      "functions\n",
      "\n",
      "some string basics\n",
      "\n",
      "+ some good exercises!!!\n",
      "\n",
      "parse config file to generate a url\n"
     ],
     "language": "python",
     "metadata": {},
     "outputs": []
    },
    {
     "cell_type": "heading",
     "level": 3,
     "metadata": {},
     "source": [
      "1.4.2 Doing Some Science"
     ]
    },
    {
     "cell_type": "heading",
     "level": 3,
     "metadata": {},
     "source": [
      "Maximum Precipitation "
     ]
    },
    {
     "cell_type": "heading",
     "level": 4,
     "metadata": {},
     "source": [
      "The Problem  "
     ]
    },
    {
     "cell_type": "markdown",
     "metadata": {},
     "source": [
      "\n",
      "We want to calculate the **maximum** monthly precipitation for regions of the UK for all years in the 20th Century.  "
     ]
    },
    {
     "cell_type": "heading",
     "level": 4,
     "metadata": {},
     "source": [
      "The Data  "
     ]
    },
    {
     "cell_type": "markdown",
     "metadata": {},
     "source": [
      "\n",
      "We have access to monthly average precipitation data as regional totals from the [UK Met Office](http://www.metoffice.gov.uk/hadobs/hadukp/data/download.html).  \n",
      "\n",
      "These data are in ASCII format, available over the internet. \n",
      "\n",
      "e.g. http://www.metoffice.gov.uk/hadobs/hadukp/data/monthly/HadSEEP_monthly_qc.txt\n",
      "\n",
      "for South East England.  \n"
     ]
    },
    {
     "cell_type": "heading",
     "level": 4,
     "metadata": {},
     "source": [
      "Solving the Problem  "
     ]
    },
    {
     "cell_type": "markdown",
     "metadata": {},
     "source": [
      "With just the Python skills you have learned so far, you should be able to solve a problem of this nature.\n",
      "\n",
      "Before diving into this though, you need to think through **what steps** you need to go through to achieve your aim?\n",
      "\n",
      "At a 'high' level, this could be:\n",
      "\n",
      "1. Examine the data\n",
      "2. Read the data into the computer program\n",
      "3. Select which years you want\n",
      "4. Find the maximum value for each year over all months\n",
      "5. Print the results\n",
      "\n",
      "So now we need to think about how to implement these steps."
     ]
    },
    {
     "cell_type": "heading",
     "level": 4,
     "metadata": {},
     "source": [
      "Examine the data"
     ]
    },
    {
     "cell_type": "markdown",
     "metadata": {},
     "source": [
      "For the first step, there are many ways you could do this.\n",
      "\n",
      "You will probably want to look at the data set [in a browser](http://www.metoffice.gov.uk/hadobs/hadukp/data/monthly/HadSEEP_monthly_qc.txt).\n",
      "\n",
      "You should see that the data are 'white space' separated.\n",
      "\n",
      "The first 4 lines are 'header' text, giving contextual information on the data.\n",
      "\n",
      "Subsequent lines have the **year** in the first column, then 12 columns of monthly precipitation, then an annual total.\n"
     ]
    },
    {
     "cell_type": "heading",
     "level": 4,
     "metadata": {},
     "source": [
      "Read the data into the computer program"
     ]
    },
    {
     "cell_type": "markdown",
     "metadata": {},
     "source": [
      "a. You could simply save the file using 'Save As ...' from the browser.\n",
      "\n",
      "b. You could, if you really wanted, just copy and paste the data into a file on the local system.\n",
      "\n",
      "c. You could use the unix command `wget`:\n",
      "\n",
      "`berlin% mkdir -p ~/Data/python/Chapter2`  \n",
      "`berlin% cd ~/Data/python/Chapter2`  \n",
      "`berlin% wget http://www.metoffice.gov.uk/hadobs/hadukp/data/monthly/HadSEEP_monthly_qc.txt`  \n",
      "\n",
      "d. You could download and read the file directly from Python:"
     ]
    },
    {
     "cell_type": "code",
     "collapsed": false,
     "input": [
      "import urllib2\n",
      "\n",
      "#as files\n",
      "url = \"http://www.metoffice.gov.uk/hadobs/hadukp/data/monthly/HadSEEP_monthly_qc.txt\"\n",
      "\n",
      "req = urllib2.Request ( url )\n",
      "raw_data = urllib2.urlopen(req).readlines()"
     ],
     "language": "python",
     "metadata": {},
     "outputs": [],
     "prompt_number": 239
    },
    {
     "cell_type": "markdown",
     "metadata": {},
     "source": [
      "In doing it this way, we have made use of a Python module called [urllib2](http://docs.python.org/2/howto/urllib2.html).\n",
      "\n",
      "This is 'loaded' into your workspace using the instruction `import`.\n",
      "\n",
      "We then refer to methods as e.g. `urllib2.Request()`.\n",
      "\n",
      "At this point, we are not too bothered about the details of this. The main point to realise is that the variable `raw_data` now contains a list of strings. "
     ]
    },
    {
     "cell_type": "code",
     "collapsed": false,
     "input": [
      "print raw_data[:10]"
     ],
     "language": "python",
     "metadata": {},
     "outputs": [
      {
       "output_type": "stream",
       "stream": "stdout",
       "text": [
        "['Monthly Southeast England precipitation (mm). Daily automated values used after 1996.\\n', 'Wigley & Jones (J.Climatol.,1987), Gregory et al. (Int.J.Clim.,1991)\\n', 'Jones & Conway (Int.J.Climatol.,1997), Alexander & Jones (ASL,2001). Values may change after QC.\\n', 'YEAR   JAN   FEB   MAR   APR   MAY   JUN   JUL   AUG   SEP   OCT   NOV   DEC   ANN\\n', ' 1873  87.1  50.4  52.9  19.9  41.1  63.6  53.2  56.4  62.0  86.0  59.4  15.7  647.7\\n', ' 1874  46.8  44.9  15.8  48.4  24.1  49.9  28.3  43.6  79.4  96.1  63.9  52.3  593.5\\n', ' 1875  96.9  39.7  22.9  37.0  39.1  76.1 125.1  40.8  54.7 137.7 106.4  27.1  803.5\\n', ' 1876  31.8  71.9  79.5  63.6  16.5  37.2  22.3  66.3 118.2  34.1  89.0 162.9  793.3\\n', ' 1877 146.0  47.7  56.2  66.4  62.3  24.9  78.5  82.4  38.4  58.1 144.5  54.2  859.6\\n', ' 1878  39.9  44.7  34.2  76.6  96.0  46.8  42.3 133.1  35.7  72.9  94.1  40.7  757.0\\n']\n"
       ]
      }
     ],
     "prompt_number": 240
    },
    {
     "cell_type": "markdown",
     "metadata": {},
     "source": [
      "Let us suppose that instead of using this method, you had downloaded the file and saved it as `~/Data/python/Chapter2/HadSEEP_monthly_qc.txt`.\n",
      "\n",
      "In this case, we would use:"
     ]
    },
    {
     "cell_type": "code",
     "collapsed": false,
     "input": [
      "filename = '/Users/plewis/Data/python/Chapter2/HadSEEP_monthly_qc.txt'\n",
      "\n",
      "fp = open(filename,'r')\n",
      "raw_data = fp.readlines()\n",
      "fp.close()\n",
      "\n",
      "print raw_data[:10]"
     ],
     "language": "python",
     "metadata": {},
     "outputs": [
      {
       "output_type": "stream",
       "stream": "stdout",
       "text": [
        "['Monthly Southeast England precipitation (mm). Daily automated values used after 1996.\\n', 'Wigley & Jones (J.Climatol.,1987), Gregory et al. (Int.J.Clim.,1991)\\n', 'Jones & Conway (Int.J.Climatol.,1997), Alexander & Jones (ASL,2001). Values may change after QC.\\n', 'YEAR   JAN   FEB   MAR   APR   MAY   JUN   JUL   AUG   SEP   OCT   NOV   DEC   ANN\\n', ' 1873  87.1  50.4  52.9  19.9  41.1  63.6  53.2  56.4  62.0  86.0  59.4  15.7  647.7\\n', ' 1874  46.8  44.9  15.8  48.4  24.1  49.9  28.3  43.6  79.4  96.1  63.9  52.3  593.5\\n', ' 1875  96.9  39.7  22.9  37.0  39.1  76.1 125.1  40.8  54.7 137.7 106.4  27.1  803.5\\n', ' 1876  31.8  71.9  79.5  63.6  16.5  37.2  22.3  66.3 118.2  34.1  89.0 162.9  793.3\\n', ' 1877 146.0  47.7  56.2  66.4  62.3  24.9  78.5  82.4  38.4  58.1 144.5  54.2  859.6\\n', ' 1878  39.9  44.7  34.2  76.6  96.0  46.8  42.3 133.1  35.7  72.9  94.1  40.7  757.0\\n']\n"
       ]
      }
     ],
     "prompt_number": 238
    },
    {
     "cell_type": "markdown",
     "metadata": {},
     "source": [
      "So we have read the data in well enough, but it's not really in a convenient format.\n",
      "\n",
      "First, it has 4 lines at the top that we don't want.  \n",
      "Second, although the data are in a list for each line, each line is stored as a string.\n",
      "\n",
      "Since we know about lists, we might suppose that it would be better to have each line as a list, with each 'white space' separated item being an element of the list.\n",
      "\n",
      "If we have a string such as:\n",
      "\n",
      "`' 1873  87.1  50.4  52.9  19.9  41.1  63.6  53.2  56.4  62.0  86.0  59.4  15.7  647.7\\n'`\n",
      "\n",
      "one way to achieve this would be to use `split()`:"
     ]
    },
    {
     "cell_type": "code",
     "collapsed": false,
     "input": [
      "line_data = ' 1873 87.1 50.4 52.9 19.9 41.1 63.6 53.2 56.4 62.0 86.0 59.4 15.7 647.7\\n'\n",
      "year_data = line_data.split()\n",
      "print year_data"
     ],
     "language": "python",
     "metadata": {},
     "outputs": [
      {
       "output_type": "stream",
       "stream": "stdout",
       "text": [
        "['1873', '87.1', '50.4', '52.9', '19.9', '41.1', '63.6', '53.2', '56.4', '62.0', '86.0', '59.4', '15.7', '647.7']\n"
       ]
      }
     ],
     "prompt_number": 252
    },
    {
     "cell_type": "markdown",
     "metadata": {},
     "source": [
      "Thats useful, and we could loop over each line and perform this to get line lists with the first element as the year, second as precipitation in January, etc.\n",
      "\n",
      "But each element is still a string, and really, we want these as `float`.\n",
      "\n",
      "We can convert `str` to `float` using `float()`, but we have to do this for each string individually.\n",
      "\n",
      "We can do this in a loop:"
     ]
    },
    {
     "cell_type": "code",
     "collapsed": false,
     "input": [
      "line_data = ' 1873 87.1 50.4 52.9 19.9 41.1 63.6 53.2 56.4 62.0 86.0 59.4 15.7 647.7\\n'\n",
      "year_data = line_data.split()\n",
      "\n",
      "for column,this_element in enumerate(year_data):\n",
      "    year_data[column] = float(this_element)\n",
      "\n",
      "print 'format now',type(year_data[0])\n",
      "print year_data"
     ],
     "language": "python",
     "metadata": {},
     "outputs": [
      {
       "output_type": "stream",
       "stream": "stdout",
       "text": [
        "format now <type 'float'>\n",
        "[1873.0, 87.1, 50.4, 52.9, 19.9, 41.1, 63.6, 53.2, 56.4, 62.0, 86.0, 59.4, 15.7, 647.7]\n"
       ]
      }
     ],
     "prompt_number": 255
    },
    {
     "cell_type": "markdown",
     "metadata": {},
     "source": [
      "Now we know how to convert each line of data into a list of floating point numbers.\n",
      "\n",
      "In practice, we will see later in the course that there are simpler ways of achieving (using [`numpy`](http://www.numpy.org/)).\n",
      "\n",
      "We should first chop off the first 4 lines of data:"
     ]
    },
    {
     "cell_type": "code",
     "collapsed": false,
     "input": [
      "required_data = raw_data[4:]\n",
      "\n",
      "# lets check what the first line is now\n",
      "print required_data[0]"
     ],
     "language": "python",
     "metadata": {},
     "outputs": [
      {
       "output_type": "stream",
       "stream": "stdout",
       "text": [
        " 1873  87.1  50.4  52.9  19.9  41.1  63.6  53.2  56.4  62.0  86.0  59.4  15.7  647.7\n",
        "\n"
       ]
      }
     ],
     "prompt_number": 256
    },
    {
     "cell_type": "markdown",
     "metadata": {},
     "source": [
      "Putting all of this together:"
     ]
    },
    {
     "cell_type": "code",
     "collapsed": false,
     "input": [
      "# specify filename\n",
      "filename = '/Users/plewis/Data/python/Chapter2/HadSEEP_monthly_qc.txt'\n",
      "\n",
      "# read the data, chop off first 4 lines \n",
      "# and store in required_data\n",
      "fp = open(filename,'r')\n",
      "raw_data = fp.readlines()\n",
      "fp.close()\n",
      "required_data = raw_data[4:]\n",
      "\n",
      "# set up list to store data in\n",
      "data = []\n",
      "\n",
      "\n",
      "# loop over each line\n",
      "for line_data in required_data:\n",
      "    # split on white space\n",
      "    year_data = line_data.split()\n",
      "    \n",
      "    # convert data to float\n",
      "    for column,this_element in enumerate(year_data):\n",
      "        year_data[column] = float(this_element)\n",
      "    data.append(year_data)"
     ],
     "language": "python",
     "metadata": {},
     "outputs": [],
     "prompt_number": 247
    },
    {
     "cell_type": "markdown",
     "metadata": {},
     "source": [
      "Now we have the data read in, as floating point values, in the 2-D list called `data`:"
     ]
    },
    {
     "cell_type": "code",
     "collapsed": false,
     "input": [
      "print data[0]\n",
      "print data[1]"
     ],
     "language": "python",
     "metadata": {},
     "outputs": [
      {
       "output_type": "stream",
       "stream": "stdout",
       "text": [
        "[1873.0, 87.1, 50.4, 52.9, 19.9, 41.1, 63.6, 53.2, 56.4, 62.0, 86.0, 59.4, 15.7, 647.7]\n",
        "[1874.0, 46.8, 44.9, 15.8, 48.4, 24.1, 49.9, 28.3, 43.6, 79.4, 96.1, 63.9, 52.3, 593.5]\n"
       ]
      }
     ],
     "prompt_number": 250
    },
    {
     "cell_type": "markdown",
     "metadata": {},
     "source": [
      "and we can compare this with the [original data we saw on the web](http://www.metoffice.gov.uk/hadobs/hadukp/data/monthly/HadSEEP_monthly_qc.txt) or the [file we downloaded](files/data/HadSEEP_monthly_qc.txt) to check it's been read in correctly."
     ]
    },
    {
     "cell_type": "heading",
     "level": 4,
     "metadata": {},
     "source": [
      "Select which years you want"
     ]
    },
    {
     "cell_type": "markdown",
     "metadata": {},
     "source": [
      "We want years 1900 to 1999.\n",
      "\n",
      "The year is stored in the first column, e.g. `data[10][0]`, and we want columns `1` to `-1` (i.e. skip the first and last column):"
     ]
    },
    {
     "cell_type": "code",
     "collapsed": false,
     "input": [
      "print data[10][0]\n",
      "print data[10][1:-1]"
     ],
     "language": "python",
     "metadata": {},
     "outputs": [
      {
       "output_type": "stream",
       "stream": "stdout",
       "text": [
        "1883.0\n",
        "[60.2, 97.4, 23.6, 36.5, 48.1, 53.3, 69.7, 21.7, 100.6, 58.1, 97.8, 22.5]\n"
       ]
      }
     ],
     "prompt_number": 264
    },
    {
     "cell_type": "code",
     "collapsed": false,
     "input": [
      "c20_data = []\n",
      "for line in data:\n",
      "    if (line[0] >= 1900) and (line[0] < 2000):\n",
      "        c20_data.append(line[1:-1])"
     ],
     "language": "python",
     "metadata": {},
     "outputs": [],
     "prompt_number": 265
    },
    {
     "cell_type": "heading",
     "level": 4,
     "metadata": {},
     "source": [
      "Find the maximum value for each year over all months"
     ]
    },
    {
     "cell_type": "markdown",
     "metadata": {},
     "source": [
      "We want to find the maximum value in each row of `c20_data` now.\n",
      "\n",
      "If we consider row 0, we can use e.g.:"
     ]
    },
    {
     "cell_type": "code",
     "collapsed": false,
     "input": [
      "print c20_data[0]\n",
      "print max(c20_data[0])"
     ],
     "language": "python",
     "metadata": {},
     "outputs": [
      {
       "output_type": "stream",
       "stream": "stdout",
       "text": [
        "[92.8, 125.9, 23.3, 30.7, 30.0, 74.6, 31.0, 73.3, 22.3, 56.1, 72.1, 88.2]\n",
        "125.9\n"
       ]
      }
     ],
     "prompt_number": 267
    },
    {
     "cell_type": "markdown",
     "metadata": {},
     "source": [
      "i.e. in the year 1900 (row 0), for S.E. England, the maximum rainfall was in February."
     ]
    },
    {
     "cell_type": "code",
     "collapsed": false,
     "input": [
      "# Aside: show which month that was\n",
      "month_names = [ \"Jan\", \"Feb\", \"Mar\", \"Apr\", \\\n",
      "    \"May\", \"Jun\", \"Jul\", \"Aug\", \"Sep\", \"Oct\", \"Nov\", \"Dec\" ]\n",
      "\n",
      "print \"In South East England\"\n",
      "for row in xrange(0,100,10):\n",
      "    year = 1900 + row\n",
      "    max_precip = max(c20_data[row])\n",
      "    month = c20_data[row].index(max_precip)\n",
      "\n",
      "    print \"In the year\",year,\"the rainiest month was\",month_names[month],\"with\",max_precip,\"mm\""
     ],
     "language": "python",
     "metadata": {},
     "outputs": [
      {
       "output_type": "stream",
       "stream": "stdout",
       "text": [
        "In South East England\n",
        "In the year 1900 the rainiest month was Feb with 125.9 mm\n",
        "In the year 1910 the rainiest month was Dec with 119.4 mm\n",
        "In the year 1920 the rainiest month was Jul with 116.9 mm\n",
        "In the year 1930 the rainiest month was Nov with 121.0 mm\n",
        "In the year 1940 the rainiest month was Nov with 203.0 mm\n",
        "In the year 1950 the rainiest month was Nov with 137.9 mm\n",
        "In the year 1960 the rainiest month was Oct with 167.0 mm\n",
        "In the year 1970 the rainiest month was Nov with 186.4 mm\n",
        "In the year 1980 the rainiest month was Oct with 110.1 mm\n",
        "In the year 1990 the rainiest month was Feb with 122.3 mm\n"
       ]
      }
     ],
     "prompt_number": 279
    },
    {
     "cell_type": "code",
     "collapsed": false,
     "input": [
      "# max precip for all years\n",
      "\n",
      "result = []\n",
      "for row in xrange(100):\n",
      "    result.append(max(c20_data[row]))"
     ],
     "language": "python",
     "metadata": {},
     "outputs": [],
     "prompt_number": 276
    },
    {
     "cell_type": "heading",
     "level": 4,
     "metadata": {},
     "source": [
      "Print the results"
     ]
    },
    {
     "cell_type": "code",
     "collapsed": false,
     "input": [
      "print \"In South East England, the maximum value for the years 1900 to 1999 is\"\n",
      "print result\n",
      "print \"The highest rainfall in a month was\",max(result),\"mm\"\n",
      "print \"It occurred in\",result.index(max(result))+1900"
     ],
     "language": "python",
     "metadata": {},
     "outputs": [
      {
       "output_type": "stream",
       "stream": "stdout",
       "text": [
        "In South East England, the maximum value for the years 1900 to 1999 is\n",
        "[125.9, 98.7, 97.2, 188.4, 96.0, 104.5, 127.3, 129.5, 83.8, 143.9, 119.4, 153.6, 151.6, 106.5, 190.2, 163.9, 110.7, 135.1, 151.1, 121.4, 116.9, 70.8, 92.2, 142.5, 110.2, 98.1, 143.8, 138.5, 137.0, 175.6, 121.0, 101.3, 146.4, 74.1, 176.3, 148.2, 112.8, 124.9, 93.6, 154.0, 203.0, 117.3, 94.3, 130.2, 117.0, 103.8, 126.7, 150.7, 125.3, 189.3, 137.9, 161.9, 99.9, 87.5, 131.0, 110.5, 113.7, 97.7, 107.4, 143.4, 167.0, 102.0, 94.0, 141.0, 97.7, 126.9, 129.1, 126.6, 135.5, 108.4, 186.4, 134.4, 94.0, 76.6, 164.7, 122.8, 141.5, 132.8, 144.9, 122.6, 110.1, 131.2, 143.0, 98.5, 112.4, 103.7, 110.1, 198.7, 143.8, 143.8, 122.3, 102.0, 132.8, 133.9, 115.6, 143.1, 122.6, 100.6, 128.1, 109.5]\n",
        "The highest rainfall in a month was 203.0 mm\n",
        "It occurred in 1940\n"
       ]
      }
     ],
     "prompt_number": 282
    },
    {
     "cell_type": "heading",
     "level": 2,
     "metadata": {},
     "source": [
      "Exercise 2.2"
     ]
    },
    {
     "cell_type": "markdown",
     "metadata": {},
     "source": [
      "That is quite an achievement, given the limited amount of programming you know so far.\n",
      "\n",
      "If you go through this though, you will (should) see that it is really not very efficient.\n",
      "\n",
      "For example:\n",
      "\n",
      "- we read all the data in and then filter out the years we want (what if the dataset were **huge**?)\n",
      "- we loop over the 100 years multiple times\n",
      "- we store intermediate results\n",
      "\n",
      "For this exercise, you should look through the code we developed and try to make it more efficient.\n",
      "\n",
      "Efficiency should not override clarity and understanding though, so make sure you can understand what is going on at each stage."
     ]
    },
    {
     "cell_type": "heading",
     "level": 2,
     "metadata": {},
     "source": [
      "Exercise 2.3"
     ]
    },
    {
     "cell_type": "markdown",
     "metadata": {},
     "source": [
      "### Average Temperature\n",
      "\n",
      "We want to calculate the long-term average temperature (tmax degC) using observational data at one or more meteorological stations. Such data are [relevant to understanding climate and its dynamics](http://www.carbonbrief.org/profiles/global-temperatures/).\n",
      "\n",
      "We choose the period 1960 to 1990 (30 years average to even out natural variability).\n",
      "\n",
      "We can obtain monthly average data for a number of UK stations from the [UK Met. Office](http://www.metoffice.gov.uk/climate/uk/stationdata).\n",
      "\n",
      "Not all station records are complete enough for this calculation, so we select, for example [Heathrow](http://www.metoffice.gov.uk/climate/uk/stationdata/heathrowdata.txt).\n",
      "\n",
      "Just with the Python skills you have learned so far, you should be able to solve a problem of this nature.\n",
      "\n",
      "Before diving into this though, you need to think through **what steps** you need to go through to achieve your aim?\n",
      "\n",
      "At a 'high' level, this could be:\n",
      "\n",
      "1. Get hold of the data\n",
      "2. Read the data into the computer program\n",
      "3. Select which years you want\n",
      "4. Average the data for each month over all selected years\n",
      "5. Print the results\n",
      "\n",
      "So now we need to think about how to implement these steps.\n",
      "\n",
      "For the first step, there are many ways you could do this."
     ]
    },
    {
     "cell_type": "code",
     "collapsed": false,
     "input": [
      "import urllib2\n",
      "\n",
      "#as files\n",
      "url = \"http://www.metoffice.gov.uk/climate/uk/stationdata/heathrowdata.txt\"\n",
      "\n",
      "req = urllib2.Request ( url )\n",
      "html = urllib2.urlopen(req).readlines()\n",
      "html = html[7:] # Skip headers\n",
      "\n",
      "# set up the problem\n",
      "start_year = 1960\n",
      "end_year = 1990\n",
      "\n",
      "tmax = []\n",
      "\n",
      "for l in html:\n",
      "    s = l.split()\n",
      "    year = int( s[0] )\n",
      "    if year >= start_year and year < end_year:\n",
      "        month = int ( s[1] )\n",
      "        if month == 1:\n",
      "            tmax.append([])\n",
      "        tmax[-1].append(float ( s[2] ))\n",
      "\n",
      "for l in tmax:\n",
      "    print l"
     ],
     "language": "python",
     "metadata": {},
     "outputs": [
      {
       "output_type": "stream",
       "stream": "stdout",
       "text": [
        "[6.9, 7.9, 10.2, 14.3, 18.4, 22.1, 20.1, 20.3, 18.5, 14.2, 11.2, 6.9]\n",
        "[6.9, 10.3, 13.9, 15.0, 16.8, 21.7, 22.1, 21.7, 20.9, 15.6, 9.9, 6.8]\n",
        "[7.9, 7.6, 7.4, 12.7, 15.0, 20.4, 20.6, 20.0, 17.8, 15.7, 9.1, 5.0]\n",
        "[0.8, 2.8, 10.7, 13.6, 16.0, 20.8, 21.1, 19.8, 18.0, 14.8, 11.8, 5.4]\n",
        "[5.8, 7.6, 7.6, 12.8, 19.6, 19.3, 22.8, 22.3, 21.1, 13.7, 11.2, 7.1]\n",
        "[6.6, 5.9, 10.5, 13.4, 16.8, 19.7, 19.3, 20.8, 17.4, 16.2, 8.4, 8.4]\n",
        "[5.3, 9.3, 10.9, 12.2, 17.0, 21.8, 20.1, 20.6, 19.6, 14.7, 8.8, 9.3]\n",
        "[7.3, 9.3, 11.6, 12.5, 15.6, 20.1, 23.5, 21.5, 18.5, 15.0, 9.7, 7.2]\n",
        "[7.2, 5.7, 11.1, 13.7, 15.4, 20.6, 20.7, 20.2, 18.8, 16.5, 9.5, 5.4]\n",
        "[8.9, 4.9, 8.0, 13.6, 17.1, 20.6, 23.9, 21.8, 19.6, 18.2, 9.6, 6.1]\n",
        "[7.1, 7.2, 8.1, 11.4, 19.2, 23.6, 21.3, 22.3, 20.3, 15.7, 11.9, 7.0]\n",
        "[7.8, 8.6, 9.1, 12.2, 18.1, 17.8, 24.1, 21.3, 20.7, 17.2, 10.4, 9.3]\n",
        "[6.9, 7.9, 12.4, 12.9, 16.0, 17.5, 22.3, 21.8, 17.3, 15.6, 9.9, 9.4]\n",
        "[7.3, 8.1, 11.5, 12.5, 16.9, 21.9, 21.4, 23.7, 20.7, 13.9, 10.3, 8.6]\n",
        "[9.6, 9.2, 10.3, 14.0, 17.0, 20.1, 20.9, 21.5, 17.5, 11.0, 10.6, 11.0]\n",
        "[10.3, 9.3, 8.4, 13.3, 15.1, 21.8, 24.1, 25.9, 19.5, 14.4, 10.1, 7.6]\n",
        "[8.8, 7.8, 9.5, 13.7, 19.3, 25.5, 26.6, 25.1, 19.0, 14.9, 9.9, 5.6]\n",
        "[6.1, 9.6, 11.2, 12.2, 16.4, 17.4, 22.4, 20.3, 18.0, 16.3, 10.4, 9.2]\n",
        "[6.7, 6.2, 11.3, 10.7, 17.2, 19.7, 20.5, 20.7, 20.1, 17.1, 12.6, 7.8]\n",
        "[3.8, 4.5, 9.2, 12.7, 15.9, 19.0, 22.5, 21.0, 19.6, 16.4, 10.8, 9.2]\n",
        "[6.0, 9.9, 9.0, 14.0, 17.3, 19.8, 19.7, 21.9, 20.1, 14.0, 9.3, 8.9]\n",
        "[8.1, 7.1, 11.8, 12.9, 16.1, 18.5, 22.0, 22.8, 20.3, 12.9, 11.5, 4.4]\n",
        "[6.9, 8.4, 11.1, 14.3, 18.0, 21.5, 22.7, 22.2, 20.8, 14.1, 11.4, 8.2]\n",
        "[10.0, 5.5, 10.8, 12.4, 15.6, 20.8, 27.6, 24.5, 19.3, 15.1, 11.3, 9.2]\n",
        "[8.0, 7.4, 8.9, 14.6, 14.9, 21.3, 24.2, 24.4, 18.6, 15.8, 12.2, 8.7]\n",
        "[4.1, 6.3, 9.4, 14.0, 16.4, 18.5, 22.9, 20.3, 20.6, 16.1, 8.1, 10.0]\n",
        "[7.2, 1.7, 10.1, 10.9, 16.3, 21.8, 22.6, 20.0, 17.4, 16.4, 12.1, 9.7]\n",
        "[3.6, 7.7, 8.5, 15.8, 16.3, 18.6, 21.8, 21.8, 19.3, 15.0, 9.8, 8.9]\n",
        "[8.8, 8.7, 10.7, 13.5, 18.0, 19.7, 20.0, 21.8, 18.8, 15.5, 9.9, 10.4]\n",
        "[9.5, 10.2, 12.9, 11.5, 21.0, 22.1, 25.8, 24.2, 20.7, 17.1, 10.9, 9.4]\n"
       ]
      }
     ],
     "prompt_number": 212
    },
    {
     "cell_type": "code",
     "collapsed": false,
     "input": [
      "month_names = [ \"Jan\", \"Feb\", \"Mar\", \"Apr\", \\\n",
      "    \"May\", \"Jun\", \"Jul\", \"Aug\", \"Sep\", \"Oct\", \"Nov\", \"Dec\" ]\n",
      "\n",
      "monthly_avg = []\n",
      "n_years = len(tmax)\n",
      "print \"T results for\",n_years,\"years:\",start_year,\"to\",end_year\n",
      "\n",
      "for month in xrange ( len(month_names) ):\n",
      "    temp = 0.\n",
      "    for year in xrange (n_years):\n",
      "        temp += tmax[year][month]\n",
      "    monthly_avg.append(temp/n_years)\n",
      "\n",
      "\n"
     ],
     "language": "python",
     "metadata": {},
     "outputs": [
      {
       "output_type": "stream",
       "stream": "stdout",
       "text": [
        "T results for 30 years: 1960 to 1990\n",
        "\n",
        "\tMonth\tTmaxAvg\n",
        "\n",
        "\tJan \t7.00666666667\n",
        "\tFeb \t7.42\n",
        "\tMar \t10.2033333333\n",
        "\tApr \t13.11\n",
        "\tMay \t16.9566666667\n",
        "\tJun \t20.4666666667\n",
        "\tJul \t22.32\n",
        "\tAug \t21.8833333333\n",
        "\tSep \t19.2933333333\n",
        "\tOct \t15.3033333333\n",
        "\tNov \t10.42\n",
        "\tDec \t8.00333333333\n"
       ]
      }
     ],
     "prompt_number": 227
    },
    {
     "cell_type": "markdown",
     "metadata": {},
     "source": [
      "dict\n",
      "\n",
      "\n",
      "make a config file (in unix) (or copy from XXX)\n",
      "\n",
      "read the file, split -> put in dict\n",
      "\n",
      "dict useful as have keys & values\n",
      "\n",
      "\n"
     ]
    }
   ],
   "metadata": {}
  }
 ]
}