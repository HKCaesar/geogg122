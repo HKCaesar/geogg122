{
 "metadata": {
  "name": "main_answers"
 },
 "nbformat": 3,
 "nbformat_minor": 0,
 "worksheets": [
  {
   "cells": [
    {
     "cell_type": "heading",
     "level": 1,
     "metadata": {},
     "source": [
      "E2. Exercises"
     ]
    },
    {
     "cell_type": "markdown",
     "metadata": {},
     "source": [
      "This notebook contains answers and notes for the following exercises:\n",
      "\n",
      "- [Exercise 2.1](#Exercise_2.1)"
     ]
    },
    {
     "cell_type": "heading",
     "level": 2,
     "metadata": {},
     "source": [
      "Exercise 2.1"
     ]
    },
    {
     "cell_type": "markdown",
     "metadata": {},
     "source": [
      "You were given some code:"
     ]
    },
    {
     "cell_type": "code",
     "collapsed": false,
     "input": [
      "# hunger threshold in hours\n",
      "hungerThreshold = 3.0\n",
      "# sleep threshold in hours\n",
      "sleepThreshold = 8.0\n",
      "\n",
      "# time since fed, in hours\n",
      "timeSinceFed = 4.0\n",
      "# time since sleep, in hours\n",
      "timeSinceSleep = 3.0\n",
      "\n",
      "# Note use of \\ as line continuation here\n",
      "# It is poor style to have code lines > 79 characters\n",
      "#\n",
      "# see http://www.python.org/dev/peps/pep-0008/#maximum-line-length\n",
      "#\n",
      "print \"Tired and hungry?\",(timeSinceSleep >= sleepThreshold) and \\\n",
      "                            (timeSinceFed >= hungerThreshold)\n",
      "print \"Just tired?\",(timeSinceSleep >= sleepThreshold) and \\\n",
      "                            (not (timeSinceFed >= hungerThreshold))\n",
      "print \"Just hungry?\",(not (timeSinceSleep >= sleepThreshold)) and \\\n",
      "                            (timeSinceFed >= hungerThreshold)"
     ],
     "language": "python",
     "metadata": {},
     "outputs": [
      {
       "output_type": "stream",
       "stream": "stdout",
       "text": [
        "Tired and hungry? False\n",
        "Just tired? False\n",
        "Just hungry? True\n"
       ]
      }
     ],
     "prompt_number": 1
    },
    {
     "cell_type": "markdown",
     "metadata": {},
     "source": [
      "The code above works fine, but the large blocks of logical tests are not very clear or readable, and contain repeated items.\n",
      "\n",
      "Modify this block of code to be clearer by assigning the individual logical tests to variables, \n",
      "\n",
      "e.g.\n",
      "\n",
      "`tired = timeSinceSleep >= sleepThreshold`"
     ]
    },
    {
     "cell_type": "heading",
     "level": 2,
     "metadata": {},
     "source": [
      "Answer"
     ]
    },
    {
     "cell_type": "markdown",
     "metadata": {},
     "source": [
      "This is quite easily made clearer, and is also improved by making sure you comment what you are doing.\n",
      "\n",
      "It is normally a good idea to put some information on what the purpose of the code is etc.\n",
      "\n",
      "It is also a good idea if you get into the practice of describing what changes you have made\n",
      "to the code from the original version that this is based on, to give full attribution.\n",
      "We will see that this is important with regard to plagiarism in coursework submission.\n",
      "\n",
      "Hasve a look at the [Python styleguide](http://www.python.org/dev/peps/pep-0008/#code-lay-out) for ideas on what makes good clear code.\n",
      "\n",
      "You wouldn't have been expected to do *all* of these things (the code below is mainly to give you some ideas for what to do next time!), but hopefully you will have at least set the variables:\n",
      "\n",
      "`tired  = (timeSinceSleep >= sleepThreshold)`  \n",
      "`hungry = (timeSinceFed >= hungerThreshold)`\n",
      "\n",
      "and used them in the code for greater clarity."
     ]
    },
    {
     "cell_type": "code",
     "collapsed": false,
     "input": [
      "\"\"\" Exercise 2.1 Scientific Computing\n",
      "    \n",
      "    Thu  3 Oct 2013 10:46:58 BST\n",
      "    \n",
      "    P. Lewis : p.lewis@ucl.ac.uk\n",
      "  \n",
      "    This code prints information on whether\n",
      "    I am tired and/or hungry.\n",
      "    \n",
      "    It is controlled by the variables:\n",
      "        timeSinceFed\n",
      "        timeSinceSleep\n",
      "        \n",
      "    which are checked against hunger and\n",
      "    sleep thresholds:\n",
      "        hungerThreshold\n",
      "        sleepThreshold\n",
      "        \n",
      "    All times given as float, in hours\n",
      "        \n",
      "        \n",
      "    It is a modification of the code in Exercise 2.1\n",
      "    of Scientific Computing (https://github.com/profLewis/geogg122)\n",
      "    \n",
      "    Edits made from original:\n",
      "        - added detailed comment strings\n",
      "        - neatened up the comments\n",
      "        - made code easier to read by setting variables\n",
      "          tired and hungry.\n",
      "        - added a new result for 'tired or hungry'\n",
      "        - added tabs (\\t) to the print statements to get\n",
      "          neater output formatting.\n",
      "          \n",
      "\"\"\"\n",
      "\n",
      "# Thresholds\n",
      "hungerThreshold = 3.0    # hunger threshold in hours\n",
      "sleepThreshold  = 8.0    # sleep threshold in hours\n",
      "\n",
      "# Control variables\n",
      "timeSinceFed   = 4.0     # time since fed, in hour\n",
      "timeSinceSleep = 3.0     # time since sleep, in hours\n",
      "\n",
      "# logical tests for tired and hungry\n",
      "tired  = (timeSinceSleep >= sleepThreshold)\n",
      "hungry = (timeSinceFed >= hungerThreshold)\n",
      "\n",
      "# print results\n",
      "print \"Tired and hungry?\\t\",  tired and hungry    \n",
      "print \"Tired or hungry?\\t\\t\", tired or hungry    \n",
      "print \"Just tired?\\t\\t\",      tired and not hungry\n",
      "print \"Just hungry?\\t\\t\",     hungry and not tired"
     ],
     "language": "python",
     "metadata": {},
     "outputs": [
      {
       "output_type": "stream",
       "stream": "stdout",
       "text": [
        "Tired and hungry?\tFalse\n",
        "Tired or hungry?\t\tTrue\n",
        "Just tired?\t\tFalse\n",
        "Just hungry?\t\tTrue\n"
       ]
      }
     ],
     "prompt_number": 2
    },
    {
     "cell_type": "heading",
     "level": 3,
     "metadata": {},
     "source": [
      "Exercise 2.2"
     ]
    },
    {
     "cell_type": "heading",
     "level": 4,
     "metadata": {},
     "source": [
      "A."
     ]
    },
    {
     "cell_type": "markdown",
     "metadata": {},
     "source": [
      "A small piece of Python code that will set the variable `today` to be a string with the day of the week today is:"
     ]
    },
    {
     "cell_type": "code",
     "collapsed": false,
     "input": [
      "# This imports a module that we can use to access dates\n",
      "from datetime import datetime\n",
      "\n",
      "# set up a list of days of the week, starting Monday\n",
      "# Note the line continuation here with \\\n",
      "week = ['Monday','Tuesday','Wednesday','Thursday',\\\n",
      "        'Friday','Saturday','Sunday']\n",
      "\n",
      "# This part gives the day of the week\n",
      "# as an integer, 0 -> Monday, 1 -> Tuesday etc.\n",
      "day_number = datetime.now().weekday()\n",
      "\n",
      "# print item day_number in the list week\n",
      "print \"today is\",week[day_number]"
     ],
     "language": "python",
     "metadata": {},
     "outputs": [
      {
       "output_type": "stream",
       "stream": "stdout",
       "text": [
        "today is Monday\n"
       ]
      }
     ],
     "prompt_number": 1
    },
    {
     "cell_type": "markdown",
     "metadata": {},
     "source": [
      "Based on the example below, **set up a diary for youself for the week to print out what you should be doing today, using the conditional structure `if .. elif ... else`.**"
     ]
    },
    {
     "cell_type": "heading",
     "level": 3,
     "metadata": {},
     "source": [
      "Answer"
     ]
    },
    {
     "cell_type": "code",
     "collapsed": false,
     "input": [
      "'''\n",
      "    Exercise 2.2A Scientific Computing\n",
      "    \n",
      "    Mon  7 Oct 2013 10:43:38 BST\n",
      "    \n",
      "    P. Lewis : p.lewis@ucl.ac.uk\n",
      "  \n",
      "    This code prints a diary for today.\n",
      "    \n",
      "'''\n",
      "\n",
      "'''The following code block is taken verbatim from \n",
      "   The Scientific Computing notes\n",
      "'''\n",
      "# This imports a module that we can use to access dates\n",
      "from datetime import datetime\n",
      "\n",
      "# set up a list of days of the week, starting Monday\n",
      "# Note the line continuation here with \\\n",
      "week = ['Monday','Tuesday','Wednesday','Thursday',\\\n",
      "        'Friday','Saturday','Sunday']\n",
      "\n",
      "# This part gives the day of the week\n",
      "# as an integer, 0 -> Monday, 1 -> Tuesday etc.\n",
      "day_number = datetime.now().weekday()\n",
      "\n",
      "# print item day_number in the list week\n",
      "print \"Today is\",week[day_number]\n",
      "\n",
      "'''New code: my own work\n",
      "   Following the example in the question for E2.2A\n",
      "'''\n",
      "\n",
      "if day_number == 0:   # Monday\n",
      "    print 'Spend the day learning Python'\n",
      "elif day_number == 1: # Tuesday\n",
      "    print 'Spend the day learning Python'\n",
      "elif day_number == 2: # Wednesday\n",
      "    print 'Go to Python class'\n",
      "elif day_number == 3: # Thursday\n",
      "    print 'Spend the day learning Python'\n",
      "elif day_number == 4: # Friday\n",
      "    print 'Spend the day learning Python'\n",
      "elif day_number == 5: # Saturday\n",
      "    print 'Spend the day learning Python'\n",
      "elif day_number == 6: # Sunday\n",
      "    print 'Spend the day learning Python'\n",
      "else:\n",
      "    print \"get some sleep\"\n"
     ],
     "language": "python",
     "metadata": {},
     "outputs": [
      {
       "output_type": "stream",
       "stream": "stdout",
       "text": [
        "Today is Monday\n",
        "Spend the day learning Python\n"
       ]
      }
     ],
     "prompt_number": 6
    },
    {
     "cell_type": "markdown",
     "metadata": {},
     "source": [
      "You should see from this that this is a rather awkward way to set up something of this nature, and it is prone to error in typing (you could easily miss a day out or type something else wrong)."
     ]
    },
    {
     "cell_type": "heading",
     "level": 4,
     "metadata": {},
     "source": [
      "B."
     ]
    },
    {
     "cell_type": "markdown",
     "metadata": {},
     "source": [
      "You could set up the basic calendar for the week in a list, with the first entry representing Monday, the second Tuesday etc."
     ]
    },
    {
     "cell_type": "code",
     "collapsed": false,
     "input": [
      "my_diary = ['Spend the day practicing Python',\\\n",
      "            'Spend the day practicing Python',\\\n",
      "            'Do some reading in the library at UCL', \\\n",
      "            'Remember to wake up early to get to the Python class at UCL',\\\n",
      "            'Spend the day practicing Python',\\\n",
      "            'Remember to wake up early to go to classes at Imperial College',\\\n",
      "            'Work at Python exercises from home',\\\n",
      "            'Work at Python exercises from home']"
     ],
     "language": "python",
     "metadata": {},
     "outputs": [],
     "prompt_number": 9
    },
    {
     "cell_type": "markdown",
     "metadata": {},
     "source": [
      "Using a list of this sort, **print the diary entry for today *without* using conditional statements.**\n",
      "\n",
      "Criticise the code you develop and make suggestions for improvement."
     ]
    },
    {
     "cell_type": "heading",
     "level": 3,
     "metadata": {},
     "source": [
      "Answer"
     ]
    },
    {
     "cell_type": "code",
     "collapsed": false,
     "input": [
      "'''\n",
      "    Exercise 2.2B Scientific Computing\n",
      "    \n",
      "    Mon  7 Oct 2013 10:43:38 BST\n",
      "    \n",
      "    P. Lewis : p.lewis@ucl.ac.uk\n",
      "  \n",
      "    This code prints a diary for today.\n",
      "    \n",
      "'''\n",
      "\n",
      "'''The following code block is taken verbatim from \n",
      "   The Scientific Computing notes\n",
      "'''\n",
      "# This imports a module that we can use to access dates\n",
      "from datetime import datetime\n",
      "\n",
      "# set up a list of days of the week, starting Monday\n",
      "# Note the line continuation here with \\\n",
      "week = ['Monday','Tuesday','Wednesday','Thursday',\\\n",
      "        'Friday','Saturday','Sunday']\n",
      "\n",
      "# This part gives the day of the week\n",
      "# as an integer, 0 -> Monday, 1 -> Tuesday etc.\n",
      "day_number = datetime.now().weekday()\n",
      "\n",
      "'''New code: my own work\n",
      "   Following the example in the question for E2.2B\n",
      "'''\n",
      "\n",
      "my_diary = ['spend the day doing Python',\\\n",
      "            'do some reading in the library at UCL', \\\n",
      "            'remember to wake up early to get to the Python class at UCL',\\\n",
      "            'spend the day doing Python',\\\n",
      "            'remember to wake up early to go to classes at Imperial College',\\\n",
      "            'work at Python exercises from home',\\\n",
      "            'work at Python exercises from home']\n",
      "\n",
      "\n",
      "print \"Today is\",week[day_number],'so',my_diary[day_number]\n"
     ],
     "language": "python",
     "metadata": {},
     "outputs": [
      {
       "output_type": "stream",
       "stream": "stdout",
       "text": [
        "Today is Monday so spend the day doing Python\n"
       ]
      }
     ],
     "prompt_number": 15
    },
    {
     "cell_type": "markdown",
     "metadata": {},
     "source": [
      "This is a bit better, but it's still too easy to get the entries in the list wrong, or get confused that Monday is day 0, so we would typically use a dictionary (`dict`) for something of this nature."
     ]
    },
    {
     "cell_type": "code",
     "collapsed": false,
     "input": [
      "'''\n",
      "    Exercise 2.2B Scientific Computing\n",
      "    \n",
      "    Mon  7 Oct 2013 10:43:38 BST\n",
      "    \n",
      "    P. Lewis : p.lewis@ucl.ac.uk\n",
      "  \n",
      "    This code prints a diary for today.\n",
      "    \n",
      "'''\n",
      "\n",
      "'''The following code block is taken verbatim from \n",
      "   The Scientific Computing notes\n",
      "'''\n",
      "# This imports a module that we can use to access dates\n",
      "from datetime import datetime\n",
      "\n",
      "# This part gives the day of the week\n",
      "# as an integer, 0 -> Monday, 1 -> Tuesday etc.\n",
      "day_number = datetime.now().weekday()\n",
      "\n",
      "'''New code: my own work\n",
      "   Following the example in the question for E2.2B\n",
      "'''\n",
      "\n",
      "week = {0: 'Monday',\\\n",
      "        1: 'Tuesday',\\\n",
      "        2: 'Wednesday',\\\n",
      "        3: 'Thursday',\\\n",
      "        4: 'Friday',\\\n",
      "        5: 'Saturday',\\\n",
      "        6: 'Sunday'}\n",
      "\n",
      "\n",
      "my_diary = {'Monday':    'spend the day doing Python',\\\n",
      "            'Tuesday':   'do some reading in the library at UCL',\\\n",
      "            'Wednesday': 'remember to wake up early to get to the Python class at UCL',\\\n",
      "            'Thursday':  'spend the day doing Python',\\\n",
      "            'Friday':    'remember to wake up early to go to classes at Imperial College',\\\n",
      "            'Saturday':  'work at Python exercises from home',\\\n",
      "            'Sunday':    'work at Python exercises from home'}\n",
      "\n",
      "today = week[day_number]\n",
      "print \"Today is\",today,'so',my_diary[today]\n"
     ],
     "language": "python",
     "metadata": {},
     "outputs": [
      {
       "output_type": "stream",
       "stream": "stdout",
       "text": [
        "Today is Monday so spend the day doing Python\n"
       ]
      }
     ],
     "prompt_number": 14
    },
    {
     "cell_type": "heading",
     "level": 3,
     "metadata": {},
     "source": [
      "Exercise 2.3"
     ]
    },
    {
     "cell_type": "markdown",
     "metadata": {},
     "source": [
      "### Average Temperature\n",
      "\n",
      "We want to calculate the long-term average temperature (tmax degC) using observational data at one or more meteorological stations. Such data are [relevant to understanding climate and its dynamics](http://www.carbonbrief.org/profiles/global-temperatures/).\n",
      "\n",
      "We choose the period 1960 to 1990 (30 years average to even out natural variability).\n",
      "\n",
      "We can obtain monthly average data for a number of UK stations from the [UK Met. Office](http://www.metoffice.gov.uk/climate/uk/stationdata).\n",
      "\n",
      "Not all station records are complete enough for this calculation, so we select, for example [Heathrow](http://www.metoffice.gov.uk/climate/uk/stationdata/heathrowdata.txt).\n",
      "\n",
      "Just with the Python skills you have learned so far, you should be able to solve a problem of this nature."
     ]
    },
    {
     "cell_type": "heading",
     "level": 3,
     "metadata": {},
     "source": [
      "Answer"
     ]
    },
    {
     "cell_type": "markdown",
     "metadata": {},
     "source": [
      "Before diving into this though, you need to think through **what steps** you need to go through to achieve your aim?\n",
      "\n",
      "At a 'high' level, this could be:\n",
      "\n",
      "1. Get hold of the data\n",
      "2. Read the data into the computer program\n",
      "3. Select which years you want\n",
      "4. Average the data for each month over all selected years\n",
      "5. Print the results\n",
      "\n",
      "So now we need to think about how to implement these steps.\n",
      "\n",
      "For the first step, there are many ways you could do this."
     ]
    },
    {
     "cell_type": "code",
     "collapsed": false,
     "input": [
      "import urllib2\n",
      "\n",
      "#as files\n",
      "url = \"http://www.metoffice.gov.uk/climate/uk/stationdata/heathrowdata.txt\"\n",
      "\n",
      "req = urllib2.Request ( url )\n",
      "html = urllib2.urlopen(req).readlines()\n",
      "html = html[7:] # Skip headers\n"
     ],
     "language": "python",
     "metadata": {},
     "outputs": [],
     "prompt_number": 1
    },
    {
     "cell_type": "code",
     "collapsed": false,
     "input": [
      "# set up the problem\n",
      "start_year = 1960\n",
      "end_year = 1990\n",
      "\n",
      "tmax = []\n",
      "\n",
      "for l in html:\n",
      "    s = l.split()\n",
      "    year = int( s[0] )\n",
      "    if year >= start_year and year < end_year:\n",
      "        month = int ( s[1] )\n",
      "        if month == 1:\n",
      "            tmax.append([])\n",
      "        tmax[-1].append(float ( s[2] ))\n",
      "\n",
      "for l in tmax:\n",
      "    print l"
     ],
     "language": "python",
     "metadata": {},
     "outputs": [
      {
       "output_type": "stream",
       "stream": "stdout",
       "text": [
        "[6.9, 7.9, 10.2, 14.3, 18.4, 22.1, 20.1, 20.3, 18.5, 14.2, 11.2, 6.9]\n",
        "[6.9, 10.3, 13.9, 15.0, 16.8, 21.7, 22.1, 21.7, 20.9, 15.6, 9.9, 6.8]\n",
        "[7.9, 7.6, 7.4, 12.7, 15.0, 20.4, 20.6, 20.0, 17.8, 15.7, 9.1, 5.0]\n",
        "[0.8, 2.8, 10.7, 13.6, 16.0, 20.8, 21.1, 19.8, 18.0, 14.8, 11.8, 5.4]\n",
        "[5.8, 7.6, 7.6, 12.8, 19.6, 19.3, 22.8, 22.3, 21.1, 13.7, 11.2, 7.1]\n",
        "[6.6, 5.9, 10.5, 13.4, 16.8, 19.7, 19.3, 20.8, 17.4, 16.2, 8.4, 8.4]\n",
        "[5.3, 9.3, 10.9, 12.2, 17.0, 21.8, 20.1, 20.6, 19.6, 14.7, 8.8, 9.3]\n",
        "[7.3, 9.3, 11.6, 12.5, 15.6, 20.1, 23.5, 21.5, 18.5, 15.0, 9.7, 7.2]\n",
        "[7.2, 5.7, 11.1, 13.7, 15.4, 20.6, 20.7, 20.2, 18.8, 16.5, 9.5, 5.4]\n",
        "[8.9, 4.9, 8.0, 13.6, 17.1, 20.6, 23.9, 21.8, 19.6, 18.2, 9.6, 6.1]\n",
        "[7.1, 7.2, 8.1, 11.4, 19.2, 23.6, 21.3, 22.3, 20.3, 15.7, 11.9, 7.0]\n",
        "[7.8, 8.6, 9.1, 12.2, 18.1, 17.8, 24.1, 21.3, 20.7, 17.2, 10.4, 9.3]\n",
        "[6.9, 7.9, 12.4, 12.9, 16.0, 17.5, 22.3, 21.8, 17.3, 15.6, 9.9, 9.4]\n",
        "[7.3, 8.1, 11.5, 12.5, 16.9, 21.9, 21.4, 23.7, 20.7, 13.9, 10.3, 8.6]\n",
        "[9.6, 9.2, 10.3, 14.0, 17.0, 20.1, 20.9, 21.5, 17.5, 11.0, 10.6, 11.0]\n",
        "[10.3, 9.3, 8.4, 13.3, 15.1, 21.8, 24.1, 25.9, 19.5, 14.4, 10.1, 7.6]\n",
        "[8.8, 7.8, 9.5, 13.7, 19.3, 25.5, 26.6, 25.1, 19.0, 14.9, 9.9, 5.6]\n",
        "[6.1, 9.6, 11.2, 12.2, 16.4, 17.4, 22.4, 20.3, 18.0, 16.3, 10.4, 9.2]\n",
        "[6.7, 6.2, 11.3, 10.7, 17.2, 19.7, 20.5, 20.7, 20.1, 17.1, 12.6, 7.8]\n",
        "[3.8, 4.5, 9.2, 12.7, 15.9, 19.0, 22.5, 21.0, 19.6, 16.4, 10.8, 9.2]\n",
        "[6.0, 9.9, 9.0, 14.0, 17.3, 19.8, 19.7, 21.9, 20.1, 14.0, 9.3, 8.9]\n",
        "[8.1, 7.1, 11.8, 12.9, 16.1, 18.5, 22.0, 22.8, 20.3, 12.9, 11.5, 4.4]\n",
        "[6.9, 8.4, 11.1, 14.3, 18.0, 21.5, 22.7, 22.2, 20.8, 14.1, 11.4, 8.2]\n",
        "[10.0, 5.5, 10.8, 12.4, 15.6, 20.8, 27.6, 24.5, 19.3, 15.1, 11.3, 9.2]\n",
        "[8.0, 7.4, 8.9, 14.6, 14.9, 21.3, 24.2, 24.4, 18.6, 15.8, 12.2, 8.7]\n",
        "[4.1, 6.3, 9.4, 14.0, 16.4, 18.5, 22.9, 20.3, 20.6, 16.1, 8.1, 10.0]\n",
        "[7.2, 1.7, 10.1, 10.9, 16.3, 21.8, 22.6, 20.0, 17.4, 16.4, 12.1, 9.7]\n",
        "[3.6, 7.7, 8.5, 15.8, 16.3, 18.6, 21.8, 21.8, 19.3, 15.0, 9.8, 8.9]\n",
        "[8.8, 8.7, 10.7, 13.5, 18.0, 19.7, 20.0, 21.8, 18.8, 15.5, 9.9, 10.4]\n",
        "[9.5, 10.2, 12.9, 11.5, 21.0, 22.1, 25.8, 24.2, 20.7, 17.1, 10.9, 9.4]\n"
       ]
      }
     ],
     "prompt_number": 2
    },
    {
     "cell_type": "code",
     "collapsed": false,
     "input": [
      "\n",
      "monthly_avg = []\n",
      "n_years = len(tmax)\n",
      "\n",
      "\n",
      "for month in xrange ( len(tmax[0]) ):\n",
      "    temp = 0.\n",
      "    for year in xrange (n_years):\n",
      "        temp += tmax[year][month]\n",
      "    monthly_avg.append(temp/n_years)\n"
     ],
     "language": "python",
     "metadata": {},
     "outputs": [
      {
       "output_type": "stream",
       "stream": "stdout",
       "text": [
        "T results for 30 years: 1960 to 1990\n"
       ]
      }
     ],
     "prompt_number": 3
    },
    {
     "cell_type": "code",
     "collapsed": false,
     "input": [
      "print \"T results for\",n_years,\"years:\",start_year,\"to\",end_year\n",
      "\n",
      "month_names = [ \"Jan\", \"Feb\", \"Mar\", \"Apr\", \\\n",
      "    \"May\", \"Jun\", \"Jul\", \"Aug\", \"Sep\", \"Oct\", \"Nov\", \"Dec\" ]\n",
      "\n",
      "print \"\\n\\tMonth\\tTmaxAvg\\n\"\n",
      "for i, mname in enumerate ( month_names ):\n",
      "    print '\\t',mname,'\\t',monthly_avg[i]"
     ],
     "language": "python",
     "metadata": {},
     "outputs": [
      {
       "output_type": "stream",
       "stream": "stdout",
       "text": [
        "T results for 30 years: 1960 to 1990\n",
        "\n",
        "\tMonth\tTmaxAvg\n",
        "\n",
        "\tJan \t7.00666666667\n",
        "\tFeb \t7.42\n",
        "\tMar \t10.2033333333\n",
        "\tApr \t13.11\n",
        "\tMay \t16.9566666667\n",
        "\tJun \t20.4666666667\n",
        "\tJul \t22.32\n",
        "\tAug \t21.8833333333\n",
        "\tSep \t19.2933333333\n",
        "\tOct \t15.3033333333\n",
        "\tNov \t10.42\n",
        "\tDec \t8.00333333333\n"
       ]
      }
     ],
     "prompt_number": 5
    },
    {
     "cell_type": "code",
     "collapsed": false,
     "input": [],
     "language": "python",
     "metadata": {},
     "outputs": []
    }
   ],
   "metadata": {}
  }
 ]
}