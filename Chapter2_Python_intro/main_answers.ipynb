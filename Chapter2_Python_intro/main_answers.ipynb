{
 "metadata": {
  "name": "main_answers"
 },
 "nbformat": 3,
 "nbformat_minor": 0,
 "worksheets": [
  {
   "cells": [
    {
     "cell_type": "heading",
     "level": 1,
     "metadata": {},
     "source": [
      "E2. Exercises"
     ]
    },
    {
     "cell_type": "markdown",
     "metadata": {},
     "source": [
      "This notebook contains answers and notes for the following exercises:\n",
      "\n",
      "- [Exercise 2.1](#Exercise_2.1)"
     ]
    },
    {
     "cell_type": "heading",
     "level": 2,
     "metadata": {},
     "source": [
      "Exercise 2.1"
     ]
    },
    {
     "cell_type": "markdown",
     "metadata": {},
     "source": [
      "You were given some code:"
     ]
    },
    {
     "cell_type": "code",
     "collapsed": false,
     "input": [
      "# hunger threshold in hours\n",
      "hungerThreshold = 3.0\n",
      "# sleep threshold in hours\n",
      "sleepThreshold = 8.0\n",
      "\n",
      "# time since fed, in hours\n",
      "timeSinceFed = 4.0\n",
      "# time since sleep, in hours\n",
      "timeSinceSleep = 3.0\n",
      "\n",
      "# Note use of \\ as line continuation here\n",
      "# It is poor style to have code lines > 79 characters\n",
      "#\n",
      "# see http://www.python.org/dev/peps/pep-0008/#maximum-line-length\n",
      "#\n",
      "print \"Tired and hungry?\",(timeSinceSleep >= sleepThreshold) and \\\n",
      "                            (timeSinceFed >= hungerThreshold)\n",
      "print \"Just tired?\",(timeSinceSleep >= sleepThreshold) and \\\n",
      "                            (not (timeSinceFed >= hungerThreshold))\n",
      "print \"Just hungry?\",(not (timeSinceSleep >= sleepThreshold)) and \\\n",
      "                            (timeSinceFed >= hungerThreshold)"
     ],
     "language": "python",
     "metadata": {},
     "outputs": [
      {
       "output_type": "stream",
       "stream": "stdout",
       "text": [
        "Tired and hungry? False\n",
        "Just tired? False\n",
        "Just hungry? True\n"
       ]
      }
     ],
     "prompt_number": 1
    },
    {
     "cell_type": "markdown",
     "metadata": {},
     "source": [
      "The code above works fine, but the large blocks of logical tests are not very clear or readable, and contain repeated items.\n",
      "\n",
      "Modify this block of code to be clearer by assigning the individual logical tests to variables, \n",
      "\n",
      "e.g.\n",
      "\n",
      "`tired = timeSinceSleep >= sleepThreshold`"
     ]
    },
    {
     "cell_type": "heading",
     "level": 2,
     "metadata": {},
     "source": [
      "Answer"
     ]
    },
    {
     "cell_type": "markdown",
     "metadata": {},
     "source": [
      "This is quite easily made clearer, and is also improved by making sure you comment what you are doing.\n",
      "\n",
      "It is normally a good idea to put some information on what the purpose of the code is etc.\n",
      "\n",
      "It is also a good idea if you get into the practice of describing what changes you have made\n",
      "to the code from the original version that this is based on, to give full attribution.\n",
      "We will see that this is important with regard to plagiarism in coursework submission.\n",
      "\n",
      "Hasve a look at the [Python styleguide](http://www.python.org/dev/peps/pep-0008/#code-lay-out) for ideas on what makes good clear code.\n",
      "\n",
      "You wouldn't have been expected to do *all* of these things (the code below is mainly to give you some ideas for what to do next time!), but hopefully you will have at least set the variables:\n",
      "\n",
      "`tired  = (timeSinceSleep >= sleepThreshold)`  \n",
      "`hungry = (timeSinceFed >= hungerThreshold)`\n",
      "\n",
      "and used them in the code for greater clarity."
     ]
    },
    {
     "cell_type": "code",
     "collapsed": false,
     "input": [
      "\"\"\" Exercise 2.1 Scientific Computing\n",
      "    \n",
      "    Thu  3 Oct 2013 10:46:58 BST\n",
      "    \n",
      "    P. Lewis : p.lewis@ucl.ac.uk\n",
      "  \n",
      "    This code prints information on whether\n",
      "    I am tired and/or hungry.\n",
      "    \n",
      "    It is controlled by the variables:\n",
      "        timeSinceFed\n",
      "        timeSinceSleep\n",
      "        \n",
      "    which are checked against hunger and\n",
      "    sleep thresholds:\n",
      "        hungerThreshold\n",
      "        sleepThreshold\n",
      "        \n",
      "    All times given as float, in hours\n",
      "        \n",
      "        \n",
      "    It is a modification of the code in Exercise 2.1\n",
      "    of Scientific Computing (https://github.com/profLewis/geogg122)\n",
      "    \n",
      "    Edits made from original:\n",
      "        - added detailed comment strings\n",
      "        - neatened up the comments\n",
      "        - made code easier to read by setting variables\n",
      "          tired and hungry.\n",
      "        - added a new result for 'tired or hungry'\n",
      "        - added tabs (\\t) to the print statements to get\n",
      "          neater output formatting.\n",
      "          \n",
      "\"\"\"\n",
      "\n",
      "# Thresholds\n",
      "hungerThreshold = 3.0    # hunger threshold in hours\n",
      "sleepThreshold  = 8.0    # sleep threshold in hours\n",
      "\n",
      "# Control variables\n",
      "timeSinceFed   = 4.0     # time since fed, in hour\n",
      "timeSinceSleep = 3.0     # time since sleep, in hours\n",
      "\n",
      "# logical tests for tired and hungry\n",
      "tired  = (timeSinceSleep >= sleepThreshold)\n",
      "hungry = (timeSinceFed >= hungerThreshold)\n",
      "\n",
      "# print results\n",
      "print \"Tired and hungry?\\t\",  tired and hungry    \n",
      "print \"Tired or hungry?\\t\\t\", tired or hungry    \n",
      "print \"Just tired?\\t\\t\",      tired and not hungry\n",
      "print \"Just hungry?\\t\\t\",     hungry and not tired"
     ],
     "language": "python",
     "metadata": {},
     "outputs": [
      {
       "output_type": "stream",
       "stream": "stdout",
       "text": [
        "Tired and hungry?\tFalse\n",
        "Tired or hungry?\t\tTrue\n",
        "Just tired?\t\tFalse\n",
        "Just hungry?\t\tTrue\n"
       ]
      }
     ],
     "prompt_number": 2
    },
    {
     "cell_type": "code",
     "collapsed": false,
     "input": [],
     "language": "python",
     "metadata": {},
     "outputs": []
    }
   ],
   "metadata": {}
  }
 ]
}