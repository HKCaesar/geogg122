{
 "cells": [
  {
   "cell_type": "markdown",
   "metadata": {},
   "source": [
    "# GDAL and related codes and libraries"
   ]
  },
  {
   "cell_type": "markdown",
   "metadata": {},
   "source": [
    "GDAL does not always come with your Python distribution. \n",
    "\n",
    "It can sometimes be a little tricky to install.\n",
    "\n",
    "Yopu **do not** need it for this class as you can always run things on the UCL Geography system via `ssh`, but *might like* to install it, so we'll try to keep some notes up to date here on how to do that (and typical problems you encounter).\n",
    "\n",
    "Since it relies on libraries not written in Python, you need to get these libraries installed. You may also want to install the GDAL tools.\n",
    "\n",
    "There are many ways of doing this that you can find by searching on the internet.\n",
    "\n",
    "A good place to start is [trac.osgeo.org](http://trac.osgeo.org/gdal/wiki/DownloadingGdalBinaries).\n",
    "\n",
    "Here, we try to give some practical guidance. (Note: I've note been able to test this under windows, so [give me some feedback](mailto:p.lewis@ucl.ac.uk) about what works or doesn't)."
   ]
  },
  {
   "cell_type": "markdown",
   "metadata": {},
   "source": [
    "## OS X"
   ]
  },
  {
   "cell_type": "markdown",
   "metadata": {},
   "source": [
    "### Pre-compiled GDAL utilities"
   ]
  },
  {
   "cell_type": "markdown",
   "metadata": {},
   "source": [
    "There are several places you can download pre-compiled versions of the GDAL utilities from.\n",
    "\n",
    "Oner example is [http://www.kyngchaos.com/software:frameworks](http://www.kyngchaos.com/software:frameworks). If you install `GDAL complete` from there, you should find the GDAL utilities in `/Library/Frameworks/GDAL.framework/Programs`:"
   ]
  },
  {
   "cell_type": "code",
   "execution_count": 1,
   "metadata": {
    "collapsed": false
   },
   "outputs": [
    {
     "name": "stdout",
     "output_type": "stream",
     "text": [
      "\u001b[31mepsg_tr.py\u001b[m\u001b[m         \u001b[31mgdal_fillnodata.py\u001b[m\u001b[m \u001b[31mgdalchksum.py\u001b[m\u001b[m      \u001b[31mgdaltindex\u001b[m\u001b[m\r\n",
      "\u001b[31mesri2wkt.py\u001b[m\u001b[m        \u001b[31mgdal_grid\u001b[m\u001b[m          \u001b[31mgdaldem\u001b[m\u001b[m            \u001b[31mgdaltransform\u001b[m\u001b[m\r\n",
      "\u001b[31mgcps2vec.py\u001b[m\u001b[m        \u001b[31mgdal_merge.py\u001b[m\u001b[m      \u001b[31mgdalenhance\u001b[m\u001b[m        \u001b[31mgdalwarp\u001b[m\u001b[m\r\n",
      "\u001b[31mgcps2wld.py\u001b[m\u001b[m        \u001b[31mgdal_polygonize.py\u001b[m\u001b[m \u001b[31mgdalident.py\u001b[m\u001b[m       \u001b[31mmkgraticule.py\u001b[m\u001b[m\r\n",
      "\u001b[31mgdal-config\u001b[m\u001b[m        \u001b[31mgdal_proximity.py\u001b[m\u001b[m  \u001b[31mgdalimport.py\u001b[m\u001b[m      \u001b[31mnearblack\u001b[m\u001b[m\r\n",
      "\u001b[31mgdal2tiles.py\u001b[m\u001b[m      \u001b[31mgdal_rasterize\u001b[m\u001b[m     \u001b[31mgdalinfo\u001b[m\u001b[m           \u001b[31mogr2ogr\u001b[m\u001b[m\r\n",
      "\u001b[31mgdal2xyz.py\u001b[m\u001b[m        \u001b[31mgdal_retile.py\u001b[m\u001b[m     \u001b[31mgdallocationinfo\u001b[m\u001b[m   \u001b[31mogrinfo\u001b[m\u001b[m\r\n",
      "\u001b[31mgdal_auth.py\u001b[m\u001b[m       \u001b[31mgdal_sieve.py\u001b[m\u001b[m      \u001b[31mgdalmanage\u001b[m\u001b[m         \u001b[31mogrtindex\u001b[m\u001b[m\r\n",
      "\u001b[31mgdal_calc.py\u001b[m\u001b[m       \u001b[31mgdal_translate\u001b[m\u001b[m     \u001b[31mgdalmove.py\u001b[m\u001b[m        \u001b[31mpct2rgb.py\u001b[m\u001b[m\r\n",
      "\u001b[31mgdal_contour\u001b[m\u001b[m       \u001b[31mgdaladdo\u001b[m\u001b[m           \u001b[31mgdalserver\u001b[m\u001b[m         \u001b[31mrgb2pct.py\u001b[m\u001b[m\r\n",
      "\u001b[31mgdal_edit.py\u001b[m\u001b[m       \u001b[31mgdalbuildvrt\u001b[m\u001b[m       \u001b[31mgdalsrsinfo\u001b[m\u001b[m        \u001b[31mtestepsg\u001b[m\u001b[m\r\n"
     ]
    }
   ],
   "source": [
    "!ls /Library/Frameworks/GDAL.framework/Programs"
   ]
  },
  {
   "cell_type": "markdown",
   "metadata": {},
   "source": [
    "If you want this in your path, put the following line at the bottom of the file `~/.bashrc` (if using `bash`):\n",
    "\n",
    "`export PATH=/Library/Frameworks/GDAL.framework/Programs:$PATH`\n",
    "\n",
    "or, if using `tcsh` or `csh`, puth this at the end of your file `~/.cshrc`:\n",
    "\n",
    "`setenv PATH \"/Library/Frameworks/GDAL.framework/Programs:${PATH}\"`\n",
    "\n",
    "or \n",
    "\n",
    "`set path = (/Library/Frameworks/GDAL.framework/Programs $path)`\n",
    "\n",
    "and then type:\n",
    "\n",
    "`source ~/.bashrc`\n",
    "\n",
    "or \n",
    "\n",
    "`source ~/.cshrc`\n",
    "\n",
    "as appropriate (or open new shells).\n",
    "\n",
    "You can test that you can access the gdal commands with e.g.:"
   ]
  },
  {
   "cell_type": "code",
   "execution_count": 2,
   "metadata": {
    "collapsed": false
   },
   "outputs": [
    {
     "name": "stdout",
     "output_type": "stream",
     "text": [
      "/Library/Frameworks/GDAL.framework/Programs/gdalinfo\r\n",
      "GDAL 1.10.1, released 2013/08/26\r\n"
     ]
    }
   ],
   "source": [
    "!which gdalinfo\n",
    "!gdalinfo --version"
   ]
  },
  {
   "cell_type": "markdown",
   "metadata": {},
   "source": [
    "### Compiling source (use `homebrew`)"
   ]
  },
  {
   "cell_type": "markdown",
   "metadata": {},
   "source": [
    "If you want to compile `GDAL` yourself for OS X, it is probably easiest to install the [Homebrew](http://brew.sh/) software, type:\n",
    "\n",
    "`rehash`\n",
    "\n",
    "at the unix prompt (to update your path) and  follow any instructions it gives you to sort out any conflicts you might have, then simply:\n",
    "\n",
    "`brew install gdal`"
   ]
  }
 ],
 "metadata": {},
 "nbformat": 4,
 "nbformat_minor": 0
}