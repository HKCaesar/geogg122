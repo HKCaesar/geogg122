{
 "metadata": {
  "name": ""
 },
 "nbformat": 3,
 "nbformat_minor": 0,
 "worksheets": [
  {
   "cells": [
    {
     "cell_type": "heading",
     "level": 1,
     "metadata": {},
     "source": [
      "Exercise 4.1"
     ]
    },
    {
     "cell_type": "markdown",
     "metadata": {},
     "source": [
      "You are given the MODIS LAI data files for the year 2012 in the directory `files/data` for the UK (MODIS tile .\n",
      "\n",
      "Read the LAI datasets into a masked array, using QA bit 0 to mask the data (i.e. good quality data only) and generate a movie of LAI."
     ]
    },
    {
     "cell_type": "heading",
     "level": 2,
     "metadata": {},
     "source": [
      "Answer 4.1"
     ]
    },
    {
     "cell_type": "markdown",
     "metadata": {},
     "source": [
      "You ought be gettiong familiar with this sort of problem, as it is very common.\n",
      "\n",
      "Since we have the code in the main notes to read a single data dataset:"
     ]
    },
    {
     "cell_type": "code",
     "collapsed": false,
     "input": [
      "import gdal # Import GDAL library bindings\n",
      "import numpy as np\n",
      "\n",
      "# The file that we shall be using\n",
      "# Needs to be on current directory\n",
      "filename = 'files/data/MCD15A2.A2011185.h09v05.005.2011213154534.hdf'\n",
      "\n",
      "product = 'MOD15A2'\n",
      "\n",
      "\n",
      "g = gdal.Open(filename)\n",
      "# g should now be a GDAL dataset, but if the file isn't found\n",
      "# g will be none. Let's test this:\n",
      "if g is None:\n",
      "    print \"Problem opening file %s!\" % filename\n",
      "else:\n",
      "    print \"File %s opened fine\" % filename\n",
      "    \n",
      "    \n",
      "subdatasets = g.GetSubDatasets()\n",
      "for fname, name in subdatasets:\n",
      "    print name\n",
      "    print \"\\t\", fname\n",
      "\n",
      "# Let's create a list with the selected layer names\n",
      "selected_layers = [  \"Lai_1km\", \"FparLai_QC\" ]\n",
      "# We will store the data in a dictionary\n",
      "# Initialise an empty dictionary\n",
      "data = {}\n",
      "# for convenience, we will use string substitution to create a \n",
      "# template for GDAL filenames, which we'll substitute on the fly:\n",
      "file_template = 'HDF4_EOS:EOS_GRID:\"%s\":MOD_Grid_%s:%s'%product\n",
      "for i, layer in enumerate ( selected_layers ):\n",
      "    this_file = file_template % ( filename, layer )\n",
      "    print \"Opening Layer %d: %s\" % (i+1, this_file )\n",
      "    g = gdal.Open ( this_file )\n",
      "    \n",
      "    if g is None:\n",
      "        raise IOError\n",
      "    data[layer] = g.ReadAsArray() \n",
      "    print \"\\t>>> Read %s!\" % layer\n",
      "\n",
      "# scale the LAI    \n",
      "lai = data['Lai_1km'] * 0.1\n",
      "\n",
      "# pull out the QC \n",
      "qc = data['FparLai_QC']\n",
      "# find bit 0\n",
      "qc = qc & 1\n",
      "\n",
      "# generate the masked array\n",
      "laim = np.ma.array ( lai, mask=qc )"
     ],
     "language": "python",
     "metadata": {},
     "outputs": [
      {
       "ename": "ImportError",
       "evalue": "No module named gdal",
       "output_type": "pyerr",
       "traceback": [
        "\u001b[0;31m---------------------------------------------------------------------------\u001b[0m\n\u001b[0;31mImportError\u001b[0m                               Traceback (most recent call last)",
        "\u001b[0;32m<ipython-input-4-b4adde649c46>\u001b[0m in \u001b[0;36m<module>\u001b[0;34m()\u001b[0m\n\u001b[0;32m----> 1\u001b[0;31m \u001b[0;32mimport\u001b[0m \u001b[0mgdal\u001b[0m \u001b[0;31m# Import GDAL library bindings\u001b[0m\u001b[0;34m\u001b[0m\u001b[0m\n\u001b[0m\u001b[1;32m      2\u001b[0m \u001b[0;32mimport\u001b[0m \u001b[0mnumpy\u001b[0m \u001b[0;32mas\u001b[0m \u001b[0mnp\u001b[0m\u001b[0;34m\u001b[0m\u001b[0m\n\u001b[1;32m      3\u001b[0m \u001b[0;34m\u001b[0m\u001b[0m\n\u001b[1;32m      4\u001b[0m \u001b[0;31m# The file that we shall be using\u001b[0m\u001b[0;34m\u001b[0m\u001b[0;34m\u001b[0m\u001b[0m\n\u001b[1;32m      5\u001b[0m \u001b[0;31m# Needs to be on current directory\u001b[0m\u001b[0;34m\u001b[0m\u001b[0;34m\u001b[0m\u001b[0m\n",
        "\u001b[0;31mImportError\u001b[0m: No module named gdal"
       ]
      }
     ],
     "prompt_number": 4
    },
    {
     "cell_type": "markdown",
     "metadata": {},
     "source": [
      "We can use this as a function that reads a single dataset:"
     ]
    },
    {
     "cell_type": "code",
     "collapsed": false,
     "input": [
      "def read_modis_lai(filename):\n",
      "    '''  Read MODIS LAI data from filename\n",
      "         and return masked array\n",
      "    '''\n",
      "    product = 'MOD15A2'\n",
      "    \n",
      "    g = gdal.Open(filename)\n",
      "    # g should now be a GDAL dataset, but if the file isn't found\n",
      "    # g will be none. Let's test this:\n",
      "    if g is None:\n",
      "        print \"Problem opening file %s!\" % filename\n",
      "    else:\n",
      "        print \"File %s opened fine\" % filename\n",
      "        \n",
      "        \n",
      "    subdatasets = g.GetSubDatasets()\n",
      "    for fname, name in subdatasets:\n",
      "        print name\n",
      "        print \"\\t\", fname\n",
      "    \n",
      "    # Let's create a list with the selected layer names\n",
      "    selected_layers = [  \"Lai_1km\", \"FparLai_QC\" ]\n",
      "    # We will store the data in a dictionary\n",
      "    # Initialise an empty dictionary\n",
      "    data = {}\n",
      "    # for convenience, we will use string substitution to create a \n",
      "    # template for GDAL filenames, which we'll substitute on the fly:\n",
      "    file_template = 'HDF4_EOS:EOS_GRID:\"%s\":MOD_Grid_%s:%s'%product\n",
      "    for i, layer in enumerate ( selected_layers ):\n",
      "        this_file = file_template % ( filename, layer )\n",
      "        print \"Opening Layer %d: %s\" % (i+1, this_file )\n",
      "        g = gdal.Open ( this_file )\n",
      "        \n",
      "        if g is None:\n",
      "            raise IOError\n",
      "        data[layer] = g.ReadAsArray() \n",
      "        print \"\\t>>> Read %s!\" % layer\n",
      "    \n",
      "    # scale the LAI    \n",
      "    lai = data['Lai_1km'] * 0.1\n",
      "    \n",
      "    # pull out the QC \n",
      "    qc = data['FparLai_QC']\n",
      "    # find bit 0\n",
      "    qc = qc & 1\n",
      "    \n",
      "    # generate the masked array\n",
      "    laim = np.ma.array ( lai, mask=qc )\n",
      "    \n",
      "    return laim"
     ],
     "language": "python",
     "metadata": {},
     "outputs": [
      {
       "metadata": {},
       "output_type": "pyout",
       "prompt_number": 6,
       "text": [
        "[]"
       ]
      }
     ],
     "prompt_number": 6
    },
    {
     "cell_type": "markdown",
     "metadata": {},
     "source": [
      "and then loop:"
     ]
    },
    {
     "cell_type": "code",
     "collapsed": false,
     "input": [
      "import glob\n",
      "\n",
      "year = 2012\n",
      "tile = 'h17v03'\n",
      "files = glob.glob('files/data/MCD15A2.A%d*.%s.*.hdf'%(year,tile))\n",
      "\n",
      "lai = []\n",
      "for f in files:\n",
      "    lai.append(read_modis_lai(f))\n",
      "    \n",
      "# force it to be a masked array\n",
      "lai = np.ma.array(lai)"
     ],
     "language": "python",
     "metadata": {},
     "outputs": [],
     "prompt_number": 5
    },
    {
     "cell_type": "code",
     "collapsed": false,
     "input": [
      "# plot the data\n",
      "\n",
      "lai_max = np.max(lai)\n",
      "\n",
      "for i,f in enumerate(files):\n",
      "    plt.imshow(lai,interpolatiopn='none',vmin=0.,vmax=lai_max)\n",
      "    # remember filenames of the form\n",
      "    # files/data/MCD15A2.A2011185.h09v05.005.2011213154534.hdf'\n",
      "    file_id = f.splitf('/')[-1].split('.')[-5][1:]\n",
      "    plt.title(file_id)\n",
      "    plt.colorbar()\n",
      "    plt.savefig('files/images/lai_uk_%s.jpg'%file_id)"
     ],
     "language": "python",
     "metadata": {},
     "outputs": [
      {
       "ename": "NameError",
       "evalue": "name 'lai' is not defined",
       "output_type": "pyerr",
       "traceback": [
        "\u001b[0;31m---------------------------------------------------------------------------\u001b[0m\n\u001b[0;31mNameError\u001b[0m                                 Traceback (most recent call last)",
        "\u001b[0;32m<ipython-input-8-38d38d526294>\u001b[0m in \u001b[0;36m<module>\u001b[0;34m()\u001b[0m\n\u001b[1;32m      1\u001b[0m \u001b[0;31m# plot the data\u001b[0m\u001b[0;34m\u001b[0m\u001b[0;34m\u001b[0m\u001b[0m\n\u001b[1;32m      2\u001b[0m \u001b[0;34m\u001b[0m\u001b[0m\n\u001b[0;32m----> 3\u001b[0;31m \u001b[0mlai_max\u001b[0m \u001b[0;34m=\u001b[0m \u001b[0mnp\u001b[0m\u001b[0;34m.\u001b[0m\u001b[0mmax\u001b[0m\u001b[0;34m(\u001b[0m\u001b[0mlai\u001b[0m\u001b[0;34m)\u001b[0m\u001b[0;34m\u001b[0m\u001b[0m\n\u001b[0m\u001b[1;32m      4\u001b[0m \u001b[0;34m\u001b[0m\u001b[0m\n\u001b[1;32m      5\u001b[0m \u001b[0;32mfor\u001b[0m \u001b[0mi\u001b[0m\u001b[0;34m,\u001b[0m\u001b[0mf\u001b[0m \u001b[0;32min\u001b[0m \u001b[0menumerate\u001b[0m\u001b[0;34m(\u001b[0m\u001b[0mfiles\u001b[0m\u001b[0;34m)\u001b[0m\u001b[0;34m:\u001b[0m\u001b[0;34m\u001b[0m\u001b[0m\n",
        "\u001b[0;31mNameError\u001b[0m: name 'lai' is not defined"
       ]
      }
     ],
     "prompt_number": 8
    },
    {
     "cell_type": "code",
     "collapsed": false,
     "input": [
      "import os\n",
      "\n",
      "for f in glob.glob('files/images/lai_uk_*.jpg'):\n",
      "    cmd = 'convert %s %s'%(f,f.replace('jpg','gif'))\n",
      "    os.system(cmd)\n",
      "\n",
      "cmd = 'convert -delay 100  -loop 0  files/images/lai_uk_*.gif files/images/lai_uk.gif'"
     ],
     "language": "python",
     "metadata": {},
     "outputs": []
    }
   ],
   "metadata": {}
  }
 ]
}