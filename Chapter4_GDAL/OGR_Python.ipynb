{
 "metadata": {
  "name": ""
 },
 "nbformat": 3,
 "nbformat_minor": 0,
 "worksheets": [
  {
   "cells": [
    {
     "cell_type": "heading",
     "level": 1,
     "metadata": {},
     "source": [
      "Working with vector data: OGR"
     ]
    },
    {
     "cell_type": "heading",
     "level": 2,
     "metadata": {},
     "source": [
      "Vector data"
     ]
    },
    {
     "cell_type": "markdown",
     "metadata": {},
     "source": [
      "Sometimes, geospatial data is acquired and recorded for particular geometric objects such as polygons or lines. An example is a road layout, where each road is represented as a geometric object (a line, with points given in a geographical projection), with a number of added *features* associated with it, such as the road name, whether it is a toll road, or whether it is dual-carriageway, etc. This data is quite different to a raster, where the entire scene is tessellated into pixels, and each pixel holds a value (or an array of value in the case of multiband rasterfiles). \n",
      "\n",
      "If you are familiar with databases, vector files are effectively a database, where one of the fields is a geometry object (a line in our previous road example, or a polygon if you consider a cadastral system). We can thus select different records by writing queries on the features. Some of these queries might be spatial (e.g. check whether a point is inside a particular country polygon).\n",
      "\n",
      "The most common format for vector data is the **ESRI Shapfile**, which is a multifile format (i.e., several files are needed in order to access the data). We'll start by getting hold of a shapefile that contains the countries of the world as polygons, together with information on country name, capital name, population, etc. The file is available [here](http://aprsworld.net/gisdata/world/world.zip).\n",
      "\n",
      "![World](http://aprsworld.net/gisdata/world/political-world-aprs-small.png)"
     ]
    },
    {
     "cell_type": "markdown",
     "metadata": {},
     "source": [
      "We will download the file with `wget` (or `curl` if you want to), and uncompress it using `unzip` in the shell:"
     ]
    },
    {
     "cell_type": "code",
     "collapsed": false,
     "input": [
      "# Downloads the data using wget\n",
      "!wget http://aprsworld.net/gisdata/world/world.zip\n",
      "# or if you want to use curl...\n",
      "#! curl http://aprsworld.net/gisdata/world/world.zip -o world.zip\n",
      "!unzip -o -x world.zip"
     ],
     "language": "python",
     "metadata": {},
     "outputs": [
      {
       "output_type": "stream",
       "stream": "stdout",
       "text": [
        "--2013-10-22 15:47:43--  http://aprsworld.net/gisdata/world/world.zip\r\n",
        "Resolving aprsworld.net... "
       ]
      },
      {
       "output_type": "stream",
       "stream": "stdout",
       "text": [
        "72.251.203.219\r\n",
        "Connecting to aprsworld.net|72.251.203.219|:80... "
       ]
      },
      {
       "output_type": "stream",
       "stream": "stdout",
       "text": [
        "connected.\r\n",
        "HTTP request sent, awaiting response... "
       ]
      },
      {
       "output_type": "stream",
       "stream": "stdout",
       "text": [
        "200 OK\r\n",
        "Length: 3436277 (3.3M) [application/zip]\r\n",
        "Saving to: `world.zip.1'\r\n",
        "\r\n",
        "\r",
        " 0% [                                       ] 0           --.-K/s              "
       ]
      },
      {
       "output_type": "stream",
       "stream": "stdout",
       "text": [
        "\r",
        " 0% [                                       ] 31,434       145K/s              "
       ]
      },
      {
       "output_type": "stream",
       "stream": "stdout",
       "text": [
        "\r",
        " 4% [>                                      ] 140,454      322K/s              "
       ]
      },
      {
       "output_type": "stream",
       "stream": "stdout",
       "text": [
        "\r",
        "15% [=====>                                 ] 535,134      816K/s              "
       ]
      },
      {
       "output_type": "stream",
       "stream": "stdout",
       "text": [
        "\r",
        "49% [==================>                    ] 1,699,854   1.89M/s              "
       ]
      },
      {
       "output_type": "stream",
       "stream": "stdout",
       "text": [
        "\r",
        "100%[======================================>] 3,436,277   3.28M/s   in 1.0s    \r\n",
        "\r\n"
       ]
      },
      {
       "output_type": "stream",
       "stream": "stdout",
       "text": [
        "2013-10-22 15:47:45 (3.28 MB/s) - `world.zip.1' saved [3436277/3436277]\r\n",
        "\r\n"
       ]
      },
      {
       "output_type": "stream",
       "stream": "stdout",
       "text": [
        "Archive:  world.zip\r\n",
        "  inflating: world.dbf               \r\n",
        "  inflating: world.shp               "
       ]
      },
      {
       "output_type": "stream",
       "stream": "stdout",
       "text": [
        "\r\n",
        "  inflating: world.shx               \r\n"
       ]
      }
     ],
     "prompt_number": 1
    },
    {
     "cell_type": "markdown",
     "metadata": {},
     "source": [
      "We need to import `ogr`, and then open the file. As with GDAL, we get a handler to the file, (`g` in this case). OGR files can have different layers, although Shapefiles only have one. We need to select the layer using `GetLayer(0)` (selecting the first layer)."
     ]
    },
    {
     "cell_type": "code",
     "collapsed": false,
     "input": [
      "from osgeo import ogr\n",
      "\n",
      "g = ogr.Open( \"world.shp\" )\n",
      "layer = g.GetLayer( 0 )"
     ],
     "language": "python",
     "metadata": {},
     "outputs": [],
     "prompt_number": 2
    },
    {
     "cell_type": "markdown",
     "metadata": {},
     "source": [
      "In order to see a field (the field `NAME`) we can loop over the features in the layer, and use the `GetField('NAME')` method. We'll only do ten features here:"
     ]
    },
    {
     "cell_type": "code",
     "collapsed": false,
     "input": [
      "\n",
      "n_feat = 0\n",
      "for feat in layer:\n",
      "    \n",
      "    print feat.GetField('NAME')\n",
      "    \n",
      "    n_feat += 1\n",
      "    if n_feat == 10:\n",
      "        break"
     ],
     "language": "python",
     "metadata": {},
     "outputs": [
      {
       "output_type": "stream",
       "stream": "stdout",
       "text": [
        "GUATEMALA\n",
        "BOLIVIA\n",
        "PARAGUAY\n",
        "URUGUAY\n",
        "SURINAME\n",
        "FRENCH GUIANA\n",
        "WESTERN SAHARA\n",
        "GAMBIA\n",
        "MOROCCO\n",
        "MALI\n"
       ]
      }
     ],
     "prompt_number": 3
    },
    {
     "cell_type": "markdown",
     "metadata": {},
     "source": [
      "If you wanted to see the different layers, we could do this using:"
     ]
    },
    {
     "cell_type": "code",
     "collapsed": false,
     "input": [
      "layerDefinition = layer.GetLayerDefn()\n",
      "\n",
      "\n",
      "for i in range(layerDefinition.GetFieldCount()):\n",
      "    print \"Field %d: %s\" % ( i+1, layerDefinition.GetFieldDefn(i).GetName() )"
     ],
     "language": "python",
     "metadata": {},
     "outputs": [
      {
       "output_type": "stream",
       "stream": "stdout",
       "text": [
        "Field 1: NAME\n",
        "Field 2: CAPITAL\n",
        "Field 3: APPROX\n",
        "Field 4: AREA\n",
        "Field 5: SOURCETHM\n"
       ]
      }
     ],
     "prompt_number": 4
    },
    {
     "cell_type": "markdown",
     "metadata": {},
     "source": [
      "Each feature, in addition to the fields shown agove, will have a `Geometry` field. We get a handle to this using the `GetGeometryRef()` method. Geometries have many methods, such as `ExportToKML()` to export to KML (Google Maps/Earth format):"
     ]
    },
    {
     "cell_type": "code",
     "collapsed": false,
     "input": [
      "the_geometry = feat.GetGeometryRef()\n",
      "the_geometry.ExportToKML()"
     ],
     "language": "python",
     "metadata": {},
     "outputs": [
      {
       "metadata": {},
       "output_type": "pyout",
       "prompt_number": 5,
       "text": [
        "'<Polygon><outerBoundaryIs><LinearRing><coordinates>-12.0443,14.669667 -11.87845,14.8252 -11.76455,15.039033 -11.63345,15.335633 -11.58515,15.634533 -11.52995,15.6713 -11.34705,15.6736 -11.26425,15.6529 -11.2125,15.549433 -11.1849,15.3092 -11.0503,15.097667 -10.9675,15.086167 -10.53275,15.365533 -9.70465,15.364367 -9.52175,15.373567 -9.4631,15.440233 -9.43205,15.619567 -9.37685,15.658667 -9.13185,15.656367 -9.1385,15.489433 -8.1165,15.487567 -6.83415,15.504167 -5.513,15.483867 -5.25265,16.2627 -5.2693,16.3033 -5.58505,16.439867 -5.63765,16.5635 -5.7623,17.728033 -5.8814,18.589933 -6.02265,19.525633 -6.1362,20.697567 -6.3107,21.8621 -6.4575,22.952833 -6.4686,23.543433 -6.52675,23.8627 -6.7123,24.997733 -5.05065,24.9834 -5.00065,24.982967 -4.51805,24.628633 -2.77295,23.4557 -2.17905,23.0869 -1.6281,22.7265 -0.5692,22.030967 0.6009,21.241133 1.0281,21.001933 1.10095,20.985233 1.21475,20.9807 1.21475,20.807767 1.24435,20.7486 1.40825,20.609033 1.5517,20.5514 1.6678,20.3724 1.9421,20.185067 2.0514,20.172933 2.2221,20.168367 2.27785,20.157 2.3348,20.1312 2.4031,20.028033 2.4486,20.009833 2.6307,19.971933 2.8208,19.887733 3.12355,19.778533 3.21345,19.6458 3.19755,19.4501 3.15885,19.3242 3.10535,19.174767 3.13495,19.065567 3.2738,18.875933 3.3091,18.853933 3.3774,18.852433 3.52535,18.9131 3.82355,18.996533 4.34825,19.149 4.34725,19.115667 4.3451,19.045533 4.29825,18.466367 4.23895,17.8664 4.1984,17.276833 4.1766,16.666467 4.1423,16.331633 3.97065,16.208933 3.8864,16.099767 3.85205,15.8315 3.8146,15.700467 3.6305,15.5809 3.4245,15.5081 3.07805,15.428033 2.75035,15.396833 2.3197,15.323 2.10435,15.2731 1.8297,15.216967 1.62995,15.213833 1.41145,15.120267 1.05565,15.0402 0.8809,15.046433 0.6905,15.0402 0.61245,14.965333 0.52195,14.890467 0.419,14.856167 0.238,14.858267 0.1196,14.8782 -0.2863,15.048533 -0.614,15.108833 -0.75445,15.1109 -0.82935,15.094267 -0.94485,15.018367 -1.285,14.7418 -1.4754,14.625333 -1.6439,14.5723 -1.94035,14.462067 -2.16195,14.312333 -2.24625,14.2094 -2.3118,14.0472 -2.42415,13.939067 -2.69255,13.824667 -2.77995,13.596967 -3.1014,13.524167 -3.3573,13.452433 -3.53205,13.248633 -3.6725,13.2341 -3.84105,13.232 -4.0564,13.2653 -4.1001,13.256967 -4.22805,13.0386 -4.24135,12.8486 -4.5398,12.277633 -4.72495,12.088433 -4.7833,12.04 -4.8209,12.017533 -4.8687,12.0 -5.03205,11.943633 -5.40485,11.807433 -5.4576,11.7805 -5.46435,11.758033 -5.39025,11.609867 -5.38015,11.431733 -5.43175,11.337433 -5.443,11.246133 -5.39135,11.051533 -5.40035,10.9767 -5.5171,10.836 -5.52835,10.806067 -5.5073,10.733367 -5.5285,10.681033 -5.5168,10.6259 -5.46805,10.575 -5.4553,10.5029 -5.46805,10.409567 -5.50265,10.376233 -5.5873,10.2946 -5.72715,10.208567 -5.8078,10.1817 -5.96645,10.1602 -6.0444,10.1602 -6.13045,10.187067 -6.1466,10.212167 -6.1466,10.260567 -6.0928,10.3466 -6.13855,10.4595 -6.17615,10.486367 -6.20305,10.486367 -6.238,10.477433 -6.2837,10.429033 -6.3469,10.4165 -6.40875,10.421867 -6.5405,10.4595 -6.5835,10.450533 -6.6319,10.423667 -6.6561,10.3878 -6.66415,10.307167 -6.7018,10.267733 -6.74755,10.256967 -6.8228,10.256967 -6.87255,10.239033 -6.9801,10.151233 -7.06885,10.1315 -7.20595,10.1315 -7.30005,10.1602 -7.33095,10.194267 -7.35785,10.310767 -7.41165,10.341233 -7.45735,10.353767 -7.7101,10.351967 -7.7531,10.4882 -7.8284,10.525833 -7.9427,10.529433 -8.19545,10.5366 -8.26805,10.545533 -8.33525,10.5814 -8.3339,10.619033 -8.28015,10.7176 -8.17795,10.921933 -8.20755,10.9524 -8.3124,10.982867 -8.385,10.9739 -8.42265,10.947033 -8.51945,10.807233 -8.627,10.771367 -8.67,10.7696 -8.68615,10.783933 -8.68615,10.8162 -8.6458,10.889667 -8.6458,10.904 -8.68885,10.9273 -8.6915,10.9775 -8.68615,11.038433 -8.666,11.102967 -8.6176,11.149567 -8.28955,11.3449 -8.4401,11.4435 -8.77625,11.5761 -8.86635,11.6263 -8.8986,11.674667 -8.88245,11.7123 -8.76415,11.8969 -8.748,11.998 -8.75615,12.0537 -8.9702,12.136333 -8.90365,12.335867 -9.1426,12.388267 -9.36645,12.279433 -9.7355,12.1323 -9.80655,12.0866 -9.96635,12.0 -10.0388,11.958267 -10.1407,11.925833 -10.31445,11.925867 -10.3944,11.966 -10.4546,11.986067 -10.4917,11.987633 -10.5241,11.975267 -10.5465,11.9559 -10.5583,11.948633 -10.56825,11.944533 -10.5777,11.943933 -10.58715,11.9458 -10.6018,11.9581 -10.6155,11.973867 -10.6342,12.0 -10.6706,12.034 -10.6969,12.058533 -10.72995,12.058533 -10.8209,12.019967 -10.8457,12.019967 -10.8953,12.053 -10.92835,12.149433 -10.91185,12.3257 -10.9201,12.3615 -10.97385,12.358733 -11.12265,12.237567 -11.17225,12.033733 -11.4244,12.141167 -11.56495,12.254067 -11.60215,12.303667 -11.3913,12.429 -11.4946,12.489567 -11.4326,12.610767 -11.5401,12.6824 -11.5649,12.7237 -11.57315,12.756767 -11.4905,12.988133 -11.5194,13.096933 -11.7385,13.336567 -11.8625,13.325567 -11.9989,13.344833 -12.08155,13.416433 -12.08985,13.4798 -12.0774,13.866767 -12.0443,14.669667</coordinates></LinearRing></outerBoundaryIs></Polygon>'"
       ]
      }
     ],
     "prompt_number": 5
    },
    {
     "cell_type": "markdown",
     "metadata": {},
     "source": [
      "Many of the methods that don't start with `__` are interesting. Let's see what these are. typically, the interesting methods start with an upper case letter, so we'll only show those:"
     ]
    },
    {
     "cell_type": "code",
     "collapsed": false,
     "input": [
      "for m in dir ( the_geometry ):\n",
      "    if m[0].isupper():\n",
      "        print m"
     ],
     "language": "python",
     "metadata": {},
     "outputs": [
      {
       "output_type": "stream",
       "stream": "stdout",
       "text": [
        "AddGeometry\n",
        "AddGeometryDirectly\n",
        "AddPoint\n",
        "AddPoint_2D\n",
        "Area\n",
        "AssignSpatialReference\n",
        "Boundary\n",
        "Buffer\n",
        "Centroid\n",
        "Clone\n",
        "CloseRings\n",
        "Contains\n",
        "ConvexHull\n",
        "Crosses\n",
        "Destroy\n",
        "Difference\n",
        "Disjoint\n",
        "Distance\n",
        "Empty\n",
        "Equal\n",
        "Equals\n",
        "ExportToGML\n",
        "ExportToJson\n",
        "ExportToKML\n",
        "ExportToWkb\n",
        "ExportToWkt\n",
        "FlattenTo2D\n",
        "GetArea\n",
        "GetBoundary\n",
        "GetCoordinateDimension\n",
        "GetDimension\n",
        "GetEnvelope\n",
        "GetEnvelope3D\n",
        "GetGeometryCount\n",
        "GetGeometryName\n",
        "GetGeometryRef\n",
        "GetGeometryType\n",
        "GetPoint\n",
        "GetPointCount\n",
        "GetPoint_2D\n",
        "GetPoints\n",
        "GetSpatialReference\n",
        "GetX\n",
        "GetY\n",
        "GetZ\n",
        "Intersect\n",
        "Intersection\n",
        "Intersects\n",
        "IsEmpty\n",
        "IsRing\n",
        "IsSimple\n",
        "IsValid\n",
        "Length\n",
        "Overlaps\n",
        "PointOnSurface\n",
        "Segmentize\n",
        "SetCoordinateDimension\n",
        "SetPoint\n",
        "SetPoint_2D\n",
        "Simplify\n",
        "SimplifyPreserveTopology\n",
        "SymDifference\n",
        "SymmetricDifference\n",
        "Touches\n",
        "Transform\n",
        "TransformTo\n",
        "Union\n",
        "UnionCascaded\n",
        "Within\n",
        "WkbSize\n"
       ]
      }
     ],
     "prompt_number": 6
    },
    {
     "cell_type": "markdown",
     "metadata": {},
     "source": [
      "You'll notice that many of these mechanisms e.g. `Overlaps` or `Touches` are effectively geoprocessing operations (they operate on geometries and return `True` if one geometry overlaps or touches, respectively, the other). Other operations, such as `Buffer` return a buffered version of the same geometry. This allows you to actually do fairly complicated geoprocessing operations with OGR. However, if you want to do geoprocessing in earnest, you should really be using [Shapely](http://toblerity.org/shapely/manual.html). \n"
     ]
    },
    {
     "cell_type": "markdown",
     "metadata": {},
     "source": [
      "A particularly useful webpage for this section is [available in the OGR cookbook](http://pcjericks.github.io/py-gdalogr-cookbook/). Have a look through that if you want more in depth information."
     ]
    },
    {
     "cell_type": "heading",
     "level": 2,
     "metadata": {},
     "source": [
      "Selecting attributes and/or data extents"
     ]
    },
    {
     "cell_type": "markdown",
     "metadata": {},
     "source": [
      "OGR provides an easy way to select attributes on a given layer. This is done using a SQL-like syntax (you can read more on [OGR's SQL subset here](http://www.gdal.org/ogr/ogr_sql.html). The main point is that the *attribute filter* is applied to a complete layer. For example, let's say that we want to select only countries with a population (field APPROX) larger than 90 000 000 inhabitants:"
     ]
    },
    {
     "cell_type": "code",
     "collapsed": false,
     "input": [
      "g = ogr.Open ( \"world.shp\" )\n",
      "lyr = g.GetLayer( 0 )\n",
      "lyr.SetAttributeFilter ( \"APPROX > 90000000\" )\n",
      "for feat in lyr:\n",
      "    print feat.GetFieldAsString ( \"NAME\") + \" has %d inhabitants\" % \\\n",
      "        feat.GetFieldAsInteger(\"APPROX\")"
     ],
     "language": "python",
     "metadata": {},
     "outputs": [
      {
       "output_type": "stream",
       "stream": "stdout",
       "text": [
        "PAKISTAN has 123490000 inhabitants\n",
        "JAPAN has 124710000 inhabitants\n",
        "RUSSIAN FEDERATION has 150500000 inhabitants\n",
        "INDIA has 873850000 inhabitants\n",
        "BANGLADESH has 120850000 inhabitants\n",
        "BRAZIL has 159630000 inhabitants\n",
        "NIGERIA has 91700000 inhabitants\n",
        "CHINA has 1179030000 inhabitants\n",
        "INDONESIA has 186180000 inhabitants\n",
        "JOHNSTON ATOLL has 256420000 inhabitants\n",
        "KINGMAN REEF - PALMYRA ATOLL has 256420000 inhabitants\n",
        "UNITED STATES has 256420000 inhabitants\n"
       ]
      }
     ],
     "prompt_number": 7
    },
    {
     "cell_type": "markdown",
     "metadata": {},
     "source": [
      "So we get a list of popoulous countries (note that Johnston Atoll and Palmyra are part of the US, and report the sample popuation as the US!)\n",
      "\n",
      "An additional way to filter the data is by geographical extent. Let's say we wanted a list of all the countries in (broadly speaking) Europe, *i.e.* a geographical extent in longitude from 14W to 37E, and in latitude from 72N to 38N. We can use `SetSpatialFilterRect` to do this:"
     ]
    },
    {
     "cell_type": "code",
     "collapsed": false,
     "input": [
      "g = ogr.Open ( \"world.shp\" )\n",
      "lyr = g.GetLayer( 0 )\n",
      "lyr.SetSpatialFilterRect ( -14, 37, 38, 72)\n",
      "for feat in lyr:\n",
      "    print feat.GetFieldAsString ( \"NAME\") + \" ---- \" + feat.GetFieldAsString ( \"CAPITAL\") "
     ],
     "language": "python",
     "metadata": {},
     "outputs": [
      {
       "output_type": "stream",
       "stream": "stdout",
       "text": [
        "ALGERIA ---- ALGIERS\n",
        "BELGIUM ---- BRUSSELS\n",
        "LUXEMBOURG ---- LUXEMBOURG\n",
        "SAN MARINO ---- SAN MARINO\n",
        "AUSTRIA ---- VIENNA\n",
        "CZECH REPUBLIC ---- PRAGUE\n",
        "SLOVENIA ---- LJUBLJANA\n",
        "HUNGARY ---- BUDAPEST\n",
        "SLOVAKIA ---- BRATISLAVA\n",
        "YUGOSLAVIA ---- BELGRADE [BEOGRADE]\n",
        "BOSNIA AND HERZEGOVINA ---- SARAJEVO\n",
        "ALBANIA ---- TIRANE\n",
        "MACEDONIA, THE FORMER YUGOSLAV REPUBLIC ---- SKOPJE\n",
        "LITHUANIA ---- VILNIUS\n",
        "LATVIA ---- RIGA\n",
        "BULGARIA ---- SOFIA\n",
        "BELARUS ---- MINSK\n",
        "MOLDOVA, REPUBLIC OF ---- KISHINEV\n",
        "IRELAND ---- DUBLIN\n",
        "ICELAND ---- REYKJAVIK\n",
        "SPAIN ---- MADRID\n",
        "SWEDEN ---- STOCKHOLM\n",
        "FINLAND ---- HELSINKI\n",
        "TURKEY ---- ANKARA\n",
        "RUSSIAN FEDERATION ---- MOSCOW\n",
        "GREECE ---- ATHENS\n",
        "PORTUGAL ---- LISBON\n",
        "POLAND ---- WARSAW\n",
        "NORWAY ---- OSLO\n",
        "GERMANY ---- BERLIN\n",
        "ESTONIA ---- TALLINN\n",
        "TUNISIA ---- TUNIS\n",
        "CROATIA ---- ZAGREB\n",
        "ROMANIA ---- BUCURESTI\n",
        "UKRAINE ---- KIEV\n",
        "NETHERLANDS ---- AMSTERDAM\n",
        "JERSEY ---- SAINT HELIER\n",
        "GUERNSEY ---- SAINT PETER PORT\n",
        "FAROE ISLANDS ---- TORSHAVN\n",
        "DENMARK ---- COPENHAGEN\n",
        "MONACO ---- MONACO\n",
        "ANDORRA ---- ANDORRA LA VELLA\n",
        "LIECHTENSTEIN ---- VADUZ\n",
        "SWITZERLAND ---- BERN\n",
        "ISLE OF MAN ---- DOUGLAS\n",
        "UNITED KINGDOM ---- LONDON\n",
        "FRANCE ---- PARIS\n",
        "VATICAN CITY (HOLY SEE) ---- VATICAN CITY\n",
        "ITALY ---- ROME\n"
       ]
      }
     ],
     "prompt_number": 8
    },
    {
     "cell_type": "heading",
     "level": 2,
     "metadata": {},
     "source": [
      "Saving a vector file"
     ]
    },
    {
     "cell_type": "markdown",
     "metadata": {},
     "source": [
      "Saving a vector file using OGR requires a number of steps:\n",
      "\n",
      "1. Definition of the format\n",
      "2. Definition of the layer projection and geometry type (e.g. lines, polygons...)\n",
      "3. Definition of the data type of the different fields\n",
      "4. Creation of a feature, population of the different fields, and setting a geometry\n",
      "5. Addition of the feature to the layer\n",
      "6. Destruction of the feature\n",
      "\n",
      "This appears quite involved, but let's see how this works. Note that when you generate a new vector file, OGR will fail if the file already exists. You might want to use `os.remove()` to get rid of the file if it exists. \n",
      "\n",
      "Let's see how this is done with an example which is a snippet that creates a GeoJSON file with the location of the different national parks. GeoJSON is a nice geographic format, and [github allows you to display it easily as a map](https://github.com/blog/1528-there-s-a-map-for-that)."
     ]
    },
    {
     "cell_type": "code",
     "collapsed": false,
     "input": [
      "# National park information, separated by TABs\n",
      "import os\n",
      "from osgeo import ogr,osr\n",
      "\n",
      "\n",
      "parks = \"\"\"Dartmoor national park\\t-3.904\\t50.58\n",
      "New forest national park\\t-1.595\\t50.86\n",
      "Exmoor national park\\t-3.651\\t51.14\n",
      "Pembrokeshire coast national park\\t-4.694\\t51.64\n",
      "Brecon beacons national park\\t-3.432\\t51.88\n",
      "Pembrokeshire coast national park\\t-4.79\\t51.99\n",
      "Norfolk and suffolk broads\\t1.569\\t52.62\n",
      "Snowdonia national park\\t-3.898\\t52.9\n",
      "Peak district national park\\t-1.802\\t53.3\n",
      "Yorkshire dales national park\\t-2.157\\t54.23\n",
      "North yorkshire moors national park\\t-0.8855\\t54.37\n",
      "Lake district national park\\t-3.084\\t54.47\n",
      "Galloway forest park\\t-4.171\\t54.87\n",
      "Northumberland national park\\t-2.228\\t55.28\n",
      "Loch lomond and the trossachs national park\\t-4.593\\t56.24\n",
      "Tay forest park\\t-4.025\\t56.59\n",
      "Cairngorms national park\\t-3.545\\t57.08\"\"\"\n",
      "\n",
      "# See if the file exists from a previous run of this snippet\n",
      "if os.path.exists ( \"parks.json\"):\n",
      "    # It does exist, so remove it\n",
      "    os.remove ( \"parks.json\" )\n",
      "\n",
      "# We need the output projection to bet set to Lat/Long\n",
      "latlong = osr.SpatialReference()\n",
      "latlong.ImportFromEPSG( 4326 )\n",
      "\n",
      "# Invoke the GeoJSON driver\n",
      "drv = ogr.GetDriverByName( 'GeoJSON' )  \n",
      "# This is the output filename\n",
      "dst_ds = drv.CreateDataSource( 'parks.json' )\n",
      "# This is a single layer dataset. The layer needs to be of points\n",
      "# and needs to have the WGS84 projection, which we defined above\n",
      "dst_layer = dst_ds.CreateLayer('', srs =latlong , \\\n",
      "                               geom_type=ogr.wkbPoint )  \n",
      "\n",
      "# We just need a field with the Park's name, and its type is a String\n",
      "field_defn=ogr.FieldDefn( 'name', ogr.OFTString )\n",
      "dst_layer.CreateField( field_defn )\n",
      "\n",
      "\n",
      "# Algorithm is as follows:\n",
      "# 1. Loop over lines\n",
      "# 2. Split line into park name, longitude, latitude\n",
      "# 3. Create WKT of the point\n",
      "# 4. Set the attribute name to name of park\n",
      "# 5. Clean up\n",
      "\n",
      "for park_id, line in enumerate( parks.split( \"\\n\" ) ):\n",
      "    # Get the relevant information\n",
      "    park_name, lon, lat = line.split(\"\\t\")\n",
      "    # Create a geogrpahical representation of the current park\n",
      "    wkt = \"POINT ( %f %f )\" % ( float(lon), float(lat) )\n",
      "    # Create a feature, using the attributes/fields that are\n",
      "    # required for this layer\n",
      "    feat = ogr.Feature(feature_def=dst_layer.GetLayerDefn())\n",
      "    # Feed the WKT into a geometry\n",
      "    p = ogr.CreateGeometryFromWkt( wkt )\n",
      "    # Feed the geometry into a WKT\n",
      "    feat.SetGeometryDirectly( p )\n",
      "    # Set the name field to its value\n",
      "    feat.SetField ( \"name\", park_name )\n",
      "    # Attach the feature to the layer\n",
      "    dst_layer.CreateFeature( feat )\n",
      "    # Clean up\n",
      "    feat.Destroy()\n",
      "\n",
      "# Close file    \n",
      "dst_ds = None\n"
     ],
     "language": "python",
     "metadata": {},
     "outputs": [],
     "prompt_number": 11
    },
    {
     "cell_type": "markdown",
     "metadata": {},
     "source": [
      "You can see the result of this on [github](https://gist.github.com/jgomezdans/6811102). \n",
      "\n",
      "Additionally, note that if we had defined a coordinate transformation as in the raster session, we could apply this transformation to an OGR geometry entity (in the snippet above, `p` would be such), and it would be reprojected.\n",
      "\n",
      "**Exercise**\n",
      "Modify the above snippet to output a GeoJSON file for the Peak District National Park, whose UTM30N ([EPSG code: 32630](http://spatialreference.org/ref/epsg/32630/)) co-ordinates are  $577659, 5911841$."
     ]
    },
    {
     "cell_type": "heading",
     "level": 2,
     "metadata": {},
     "source": [
      "Rasterising"
     ]
    },
    {
     "cell_type": "markdown",
     "metadata": {},
     "source": [
      "A very frequent problem one finds is how to mask out an area in a raster file that is defined as polygon in a shapefile. For example, if you have a raster of the worlds population density, and you want to extract all the pixels that belong to one particular country, how do you go about that? One way around this is to *rasterise* the polygon(s), which translates into \"burning\" pixels that fall within the polygon with a number, resulting in a mask.\n",
      "\n",
      "The way to do this is to use GDAL's `RasterizeLayer` method. The method takes a handle to a GDAL dataset (one that you create yourself, with the right projection and geotransform, as you've seen above), and a OGR layer. The syntax for `RasterizeLayer` is\n",
      "\n",
      "    err = gdal.RasterizeLayer ( raster_ds, [raster_band_no], ogr_layer, burn_values=[burn_val] )\n",
      "    \n",
      "where `raster_ds` is the GDAL raster datasource (note that it needs to be georreferenced, *i.e.* it requires projection and geotransform), `raster_band_no` is the band of the GDAL dataset where we want to burn pixels, `ogr_layer` is the vector layer object, and `burn_val` is the value that we want to burn.\n",
      "\n",
      "Let's use `gdal.RasterizeLayer` in conjunction with all that we have covered above. Say we want to create a mask that only selects the UK or Ireland in `world.shp`, and we want to apply this mask to the MODIS landcover product that we used in the GDAL session (h17v03 tile ), file `lc_h17v03.tif`. We find that in this case, `world.shp` is in longitude latitude, and the MODIS data is in the MODIS projection, so we will reproject the vector data to match the MODIS data (so the latter is not interpolated and artifacts introduced). To make this efficient and avoid saving to disk, we shall use *in-memory vector and rasters*, and we will output a numpy array as our mask. Note then the steps:\n",
      "\n",
      "1. Crate the projection conversion object (as for GDAL before)\n",
      "2. Create an in memory **raster** dataset to store the mask, using `lc_h17v03.tif` as a reference for geotransforms, array size and projection.\n",
      "3. Create an in memory **vector** dataset to hold the features that will be reprojected\n",
      "4. Open `world.shp` and apply an `AttributeFilter` to select a country\n",
      "5. Select a geometry from `world.shp`, project it and store it in the destination in memory vector layer\n",
      "6. Once this is done, use `gdal.RasterizeLayer` with both in-memory raster and vector datasets\n",
      "7. Read the in memory raster into an array\n",
      "\n",
      "This is a particularly good exercise that will stress all that we have learned so far."
     ]
    },
    {
     "cell_type": "code",
     "collapsed": false,
     "input": [
      "from osgeo import ogr,osr\n",
      "import gdal\n",
      "\n",
      "reference_filename = \"lc_h17v03.tif\"\n",
      "target_vector_file = \"world.shp\"\n",
      "attribute_filter = \"NAME = 'IRELAND'\" \n",
      "burn_value = 1\n",
      "\n",
      "# First, open the file that we'll be taking as a reference\n",
      "# We will need to gleam the size in pixels, as well as projection\n",
      "# and geotransform.\n",
      "\n",
      "g = gdal.Open( reference_filename )\n",
      "\n",
      "# We now create an in-memory raster, with the appropriate dimensions\n",
      "drv = gdal.GetDriverByName('MEM')\n",
      "target_ds = drv.Create('', g.RasterXSize, g.RasterXSize, 1,  gdal.GDT_Byte)\n",
      "target_ds.SetGeoTransform( g.GetGeoTransform() )\n",
      "\n",
      "# We set up a transform object as we saw in the previous notebook.\n",
      "# This goes from WGS84 to the projection in the reference datasets\n",
      "\n",
      "wgs84 = osr.SpatialReference( ) # Define a SpatialReference object\n",
      "wgs84.ImportFromEPSG( 4326 ) # And set it to WGS84 using the EPSG code\n",
      "\n",
      "# Now for the target projection, Ordnance Survey's British National Grid\n",
      "to_proj = osr.SpatialReference() # define the SpatialReference object\n",
      "# In this case, we get the projection from a Proj4 string\n",
      "\n",
      "# or, if using the proj4 representation\n",
      "to_proj.ImportFromWkt( g.GetProjectionRef() )\n",
      "target_ds.SetProjection ( to_proj.ExportToWkt() )\n",
      "# Now, we define a coordinate transformtion object, *from* wgs84 *to* OSNG\n",
      "tx = osr.CoordinateTransformation( wgs84, to_proj )\n",
      "\n",
      "# We define an output in-memory OGR dataset\n",
      "# You could also do select a driver for an eg \"ESRI Shapefile\" here\n",
      "# and give it a sexier name than out!\n",
      "\n",
      "drv = ogr.GetDriverByName( 'Memory' )  \n",
      "dst_ds = drv.CreateDataSource( 'out' )\n",
      "# This is a single layer dataset. The layer needs to be of polygons\n",
      "# and needs to have the target files' projection\n",
      "dst_layer = dst_ds.CreateLayer('', srs = to_proj, geom_type=ogr.wkbPolygon )  \n",
      "\n",
      "# Open the original shapefile, get the first layer, and filter by attribute\n",
      "vector_ds = ogr.Open( target_vector_file )\n",
      "lyr = vector_ds.GetLayer ( 0 )\n",
      "lyr.SetAttributeFilter( attribute_filter )\n",
      "\n",
      "\n",
      "# Get a field definition from the original vector file. \n",
      "# We don't need much more detail here\n",
      "feature = lyr.GetFeature(0)\n",
      "field = feature.GetFieldDefnRef( 0 )\n",
      "# Apply the field definition from the original to the output\n",
      "dst_layer.CreateField( field )\n",
      "feature_defn = dst_layer.GetLayerDefn()\n",
      "# Reset the original layer so we can read all features\n",
      "lyr.ResetReading()\n",
      "for feat in lyr:\n",
      "    # For each feature, get the geometry\n",
      "    geom = feat.GetGeometryRef()\n",
      "    # transform it to the reference projection\n",
      "    geom.Transform ( tx )\n",
      "    # Create an output feature\n",
      "    out_geom = ogr.Feature ( feature_defn )\n",
      "    # Set the geometry to be the reprojected/transformed geometry\n",
      "    out_geom.SetGeometry ( geom )\n",
      "    # Add the feature with its geometry to the output yaer\n",
      "    dst_layer.CreateFeature(out_geom )\n",
      "    # Clear things up\n",
      "    out_geom.Destroy\n",
      "    geom.Destroy\n",
      "# Done adding geometries\n",
      "# Reset the output layer to the 0th geometry\n",
      "dst_layer.ResetReading()\n",
      "\n",
      "# Now, we rastertize the output vector in-memory file\n",
      "# into the in-memory output raster file\n",
      "\n",
      "err = gdal.RasterizeLayer(target_ds, [1], dst_layer,\n",
      "            burn_values=[burn_value])\n",
      "if err != 0:\n",
      "    print(\"error:\", err)\n",
      "\n",
      "# Read the data from the raster, this is your mask\n",
      "data = target_ds.ReadAsArray()\n",
      "\n",
      "\n",
      "\n",
      "# Plotting to see whether this makes sense.\n",
      "\n",
      "ndata = g.ReadAsArray()\n",
      "plt.imshow ( ndata, interpolation='nearest', cmap=plt.cm.gray, vmin=0, vmax=1, alpha=0.3 )\n",
      "plt.hold ( True )\n",
      "\n",
      "plt.imshow ( data, interpolation='nearest', cmap=plt.cm.gray, alpha=0.7 )\n",
      "plt.grid ( False )\n",
      "plt.show()"
     ],
     "language": "python",
     "metadata": {},
     "outputs": [
      {
       "metadata": {},
       "output_type": "display_data",
       "png": "[encoded data removed]",
       "text": [
        "<matplotlib.figure.Figure at 0x17419890>"
       ]
      }
     ],
     "prompt_number": 12
    },
    {
     "cell_type": "heading",
     "level": 2,
     "metadata": {},
     "source": [
      "Using matplotlib to plot geometries"
     ]
    },
    {
     "cell_type": "markdown",
     "metadata": {},
     "source": [
      "Using matplotlib to plot geometries from OGR can be quite tedious. Here's an example of plotting a map of Angola from the `world.shp`. In the same vein of recommending Shapely and Fiona above for serious geoprocessing of vector data, you are encouraged to use [descartes](https://bitbucket.org/sgillies/descartes/) for plotting vector data!"
     ]
    },
    {
     "cell_type": "code",
     "collapsed": false,
     "input": [
      "import matplotlib.path as mpath\n",
      "import matplotlib.patches as mpatches\n",
      "\n",
      "\n",
      "# Extract first layer of features from shapefile using OGR\n",
      "ds = ogr.Open('world.shp')\n",
      "lyr = ds.GetLayer(0)\n",
      "\n",
      "\n",
      "# Prepare figure\n",
      "plt.ioff()\n",
      "plt.subplot(1,1,1)\n",
      "ax = plt.gca()\n",
      "\n",
      "\n",
      "paths = []\n",
      "lyr.ResetReading()\n",
      "\n",
      "lyr.SetAttributeFilter ( \" NAME = 'ANGOLA' \")\n",
      "ax.set_xlim(11, 24.5 )\n",
      "ax.set_ylim(-20, -2)\n",
      "# Read all features in layer and store as paths\n",
      "\n",
      "for feat in lyr:\n",
      "\n",
      "    for geom in feat.GetGeometryRef():\n",
      "        envelope = np.array( geom.GetEnvelope() )\n",
      "        # check if geom is polygon\n",
      "        if geom.GetGeometryType() == ogr.wkbPolygon:\n",
      "            codes = []\n",
      "            all_x = []\n",
      "            all_y = []\n",
      "            for i in range(geom.GetGeometryCount()):\n",
      "                # Read ring geometry and create path\n",
      "                r = geom.GetGeometryRef(i)\n",
      "                x = [r.GetX(j) for j in range(r.GetPointCount())]\n",
      "                y = [r.GetY(j) for j in range(r.GetPointCount())]\n",
      "                # skip boundary between individual rings\n",
      "                codes += [mpath.Path.MOVETO] + \\\n",
      "                             (len(x)-1)*[mpath.Path.LINETO]\n",
      "                all_x += x\n",
      "                all_y += y\n",
      "            path = mpath.Path(np.column_stack((all_x,all_y)), codes)\n",
      "            paths.append(path)\n",
      "    # Add paths as patches to axes\n",
      "    for path in paths:\n",
      "        patch = mpatches.PathPatch(path, \\\n",
      "                facecolor='0.8', edgecolor='black')\n",
      "        ax.add_patch(patch)\n",
      "\n",
      "\n",
      "\n",
      "ax.set_aspect(1.0)\n",
      "plt.show()"
     ],
     "language": "python",
     "metadata": {},
     "outputs": [
      {
       "metadata": {},
       "output_type": "display_data",
       "png": "[encoded data removed]",
       "text": [
        "<matplotlib.figure.Figure at 0x2b99a416f350>"
       ]
      }
     ],
     "prompt_number": 13
    }
   ],
   "metadata": {}
  }
 ]
}