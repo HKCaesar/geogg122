{
 "cells": [
  {
   "cell_type": "markdown",
   "metadata": {},
   "source": [
    "# GDAL and OGR libraries"
   ]
  },
  {
   "cell_type": "markdown",
   "metadata": {},
   "source": [
    "In the previous session, we used the GDAL library to open HDF files. GDAL is not limited to a single file format, but can actually cope with many different raster file formats semalessly. For *vector* data (i.e., data that is stored by features, each being made up of fields containing different types of information, one of them being a *geometry*, such as polygon, line or point), GDAL has a sister library called OGR. The usefulness of these two libraries is that they allow the user to deal with many of the different file formats in a consistent way. \n",
    "\n",
    "It is important to note that both GDAL and OGR come with a suite of command line tools that let you do many complex tasks on the command line directly. A listing of the GDAL command line tools is available [here](http://www.gdal.org/gdal_utilities.html), but bear in mind that many blogs etc. carry out examples of using GDAL tools in practice. For OGR, most of the library can be accessed using [ogr2ogr](http://www.gdal.org/ogr2ogr.html), but as usual, you might find more useful information on [blogs](http://www.bostongis.com/PrinterFriendly.aspx?content_name=ogr_cheatsheet) etc."
   ]
  },
  {
   "cell_type": "markdown",
   "metadata": {},
   "source": [
    "## GDAL data type"
   ]
  },
  {
   "cell_type": "markdown",
   "metadata": {},
   "source": [
    "GDAL provides a very handy way of dealing with raster data in many different formats, not only by making access to the data easy, but also abstracting the nuances and complications of different file formats. In GDAL, a raster file is made up of the actual raster data (i.e.,  the values of each pixel of LAI that we saw before), and of some *metadata*. Metadata is data that describes something, and in this case it could be the projection, the location of corners and pixel spacing, etc."
   ]
  },
  {
   "cell_type": "markdown",
   "metadata": {},
   "source": [
    "### The GeoTransform"
   ]
  },
  {
   "cell_type": "markdown",
   "metadata": {},
   "source": [
    "GDAL stores information about the location of each pixel using the GeoTransform. The GeoTransform contains the coordinates (in some projection) of the upper left (UL) corner of the image (taken to be the **borders of the pixel** in the UL corner, not the center), the pixel spacing and an additional rotation. By knowing these figures, we can calculate the location of each pixel in the image easily. Let's see how this works with an easy example. We have prepared a GeoTIFF file (GeoTIFF is the more ubiquitous file format for EO data) of the MODIS landcover product for the UK. The data has been extracted from the HDF-EOS files that are similar to the LAI product that we have seen before, and converted. The file is [`lc_h17v03.tif`](https://raw.github.com/jgomezdans/geogg122/master/ChapterX_GDAL/lc_h17v03.tif). We will open the file in Python, and have a look at finding a particular location.\n",
    "\n",
    "Assume we are interested in locating [Kinder Scout](http://toolserver.org/~rhaworth/os/coor_g.php?pagename=Kinder_Scout&params=SK086875_region%3AGB_scale%3A25000), a moorland in the Peak District National Park. Its coordinates are 1.871417W, 53.384726N. In the MODIS integerised sinusoidal projection, the coordinates are (-124114.3, 5936117.4) (you can use the [MODLAND tile calculator website](http://landweb.nascom.nasa.gov/cgi-bin/developer/tilemap.cgi) to do this calculation yourself)."
   ]
  },
  {
   "cell_type": "code",
   "execution_count": 1,
   "metadata": {
    "collapsed": false
   },
   "outputs": [
    {
     "name": "stdout",
     "output_type": "stream",
     "text": [
      "(-1111950.519667, 463.3127165279167, 0.0, 6671703.118, 0.0, -463.3127165279165)\n",
      "2400 2400\n"
     ]
    }
   ],
   "source": [
    "import gdal # Import GDAL library\n",
    "\n",
    "# have to make sure have access to gdal data files \n",
    "import os\n",
    "if 'GDAL_DATA' not in os.environ:\n",
    "    os.environ[\"GDAL_DATA\"] = '/opt/anaconda/share/gdal'\n",
    "\n",
    "\n",
    "g = gdal.Open ( \"lc_h17v03.tif\" ) # Open the file\n",
    "if g is None:\n",
    "    print \"Could not open the file!\"\n",
    "geo_transform = g.GetGeoTransform ()\n",
    "print geo_transform\n",
    "print g.RasterXSize, g.RasterYSize"
   ]
  },
  {
   "cell_type": "markdown",
   "metadata": {},
   "source": [
    "In the previous code, we open the file (we just use the filename), and then query the object for its GeoTransform, which we then print out. The 6-element tuple comprises \n",
    "\n",
    "1. The Upper Left *easting* coordinate (i.e., *horizontal*)\n",
    "2. The E-W pixel spacing\n",
    "3. The rotation (0 degrees if image is \"North Up\")\n",
    "4. The Upper left *northing* coordinate (i.e., *vertical*)\n",
    "5. The rotation (0 degrees)\n",
    "6. The N-S pixel spacing, negative as we will be counting from the UL corner\n",
    "\n",
    "We have also seen that the dataset is of size 2400x2400, using `RasterXSize` and `RasterYSize`. The goal is to find the pixel number $(i,j), \\;\\;0\\le i,j < 2400$ that corresponds to Kinder Scout. To do this, we use the following calculations:"
   ]
  },
  {
   "cell_type": "code",
   "execution_count": 2,
   "metadata": {
    "collapsed": false
   },
   "outputs": [
    {
     "name": "stdout",
     "output_type": "stream",
     "text": [
      "2132.11549009 1587.66572071\n"
     ]
    }
   ],
   "source": [
    "pixel_x = (-124114.3 - geo_transform[0])/geo_transform[1] \\\n",
    "        # The difference in distance between the UL corner (geot[0] \\\n",
    "        #and point of interest. Scaled by geot[1] to get pixel number\n",
    "\n",
    "pixel_y = (5936117.4 - geo_transform[3])/(geo_transform[5]) # Like for pixel_x, \\\n",
    "        #but in vertical direction. Note the different elements of geot \\\n",
    "        #being used\n",
    "\n",
    "print pixel_x, pixel_y"
   ]
  },
  {
   "cell_type": "markdown",
   "metadata": {},
   "source": [
    "So the pixel number is a floating point number, which we might need to round off as an integer. Let's plot the entire raster map (with minimum value 0 to ignore the ocean) using [`plt.imshow`](http://matplotlib.org/api/pyplot_api.html#matplotlib.pyplot.imshow) and plot the location of Kinder Scout using [`plt.plot`](http://matplotlib.org/api/pyplot_api.html#matplotlib.pyplot.plt). We will also use [`plt.annotate`](http://matplotlib.org/api/pyplot_api.html#matplotlib.pyplot.annotate) to add a label with an arrow:"
   ]
  },
  {
   "cell_type": "code",
   "execution_count": 3,
   "metadata": {
    "collapsed": false
   },
   "outputs": [
    {
     "data": {
      "text/plain": [
       "([], <a list of 0 Text yticklabel objects>)"
      ]
     },
     "execution_count": 3,
     "metadata": {},
     "output_type": "execute_result"
    },
    {
     "data": {
      "image/png": "[encoded data removed]",
      "text/plain": [
       "<matplotlib.figure.Figure at 0x7f3a43cebf90>"
      ]
     },
     "metadata": {},
     "output_type": "display_data"
    }
   ],
   "source": [
    "lc = g.ReadAsArray() # Read raster data\n",
    "# Now plot the raster data using gist_earth palette\n",
    "plt.imshow ( lc, interpolation='nearest', vmin=0, cmap=plt.cm.gist_earth )\n",
    "# Plot location of our area of interest as a red dot ('ro')\n",
    "plt.plot ( pixel_x, pixel_y, 'ro')\n",
    "# Annotate\n",
    "plt.annotate('Kinder Scout', xy=(pixel_x, pixel_y),  \\\n",
    "        xycoords='data', xytext=(-150, -60), \\\n",
    "        textcoords='offset points',  size=12, \\\n",
    "        bbox=dict(boxstyle=\"round4,pad=.5\", fc=\"0.8\"), \\\n",
    "        arrowprops=dict(arrowstyle=\"->\", \\\n",
    "        connectionstyle=\"angle,angleA=0,angleB=-90,rad=10\", \\\n",
    "        color='w'), )\n",
    "# Remove vertical and horizontal ticks\n",
    "plt.xticks([])\n",
    "plt.yticks([])"
   ]
  },
  {
   "cell_type": "markdown",
   "metadata": {},
   "source": [
    "#### Try it out in some other places!"
   ]
  },
  {
   "cell_type": "markdown",
   "metadata": {},
   "source": [
    "Find the longitude and latitude of some places of interest in the British isles (West of Greenwich!) and using the MODLAND MODIS tile calculator and the geotransform, repeat the above experiment. Note that the [MODIS calculator](http://landweb.nascom.nasa.gov/cgi-bin/developer/tilemap.cgi) calculates both the projected coordinates in the MODIS sinusoidal projection, as well as the pixel number, so it is a helpful way to check whether you got the right result.\n",
    "<td>\n",
    "</td>\n",
    "<table>\n",
    "<tr>\n",
    "<th>Park name</th><th>Longitude [deg]</th><th>Latitude [deg]</th>\n",
    "</tr>\n",
    "<tr>\n",
    "<td>Dartmoor national park</td>\t<td>-3.904</td><td>\t50.58</td>\n",
    "</tr>\n",
    "<tr>\n",
    "<td>New forest national park</td><td>\t-1.595</td><td>\t50.86</td>\n",
    "</tr>\n",
    "<tr>\n",
    "<td>Exmoor national park</td><td>\t-3.651</td><td>\t51.14</td>\n",
    "</tr>\n",
    "<tr>\n",
    "<td>Pembrokeshire coast national park</td><td>\t-4.694</td><td>\t51.64</td>\n",
    "</tr>\n",
    "<tr>\n",
    "<td>Brecon beacons national park\t</td><td>-3.432</td><td>\t51.88</td>\n",
    "</tr>\n",
    "<tr>\n",
    "<td>Pembrokeshire coast national park</td><td>\t-4.79</td><td>\t51.99</td>\n",
    "</tr>\n",
    "<tr>\n",
    "<td>Norfolk and suffolk broads\t</td><td>1.569</td><td>\t52.62</td>\n",
    "</tr>\n",
    "<tr>\n",
    "<td>Snowdonia national park</td><td>\t-3.898\t</td><td>52.9</td>\n",
    "</tr>\n",
    "<tr>\n",
    "<td>Peak district national park\t</td><td>-1.802\t</td><td>53.3</td>\n",
    "</tr>\n",
    "<tr>\n",
    "<td>Yorkshire dales national park</td><td>\t-2.157\t</td><td>54.23</td>\n",
    "</tr>\n",
    "<tr>\n",
    "<td>North yorkshire moors national park\t</td><td>-0.8855\t</td><td>54.37</td>\n",
    "</tr>\n",
    "<tr>\n",
    "<td>Lake district national park\t</td><td>-3.084\t</td><td>54.47</td>\n",
    "</tr>\n",
    "<tr>\n",
    "<td>Galloway forest park\t</td><td>-4.171\t</td><td>54.87</td>\n",
    "</tr>\n",
    "<tr>\n",
    "<td>Northumberland national park\t</td><td>-2.228\t</td><td>55.28</td>\n",
    "</tr>\n",
    "<tr>\n",
    "<td>Loch lomond and the trossachs national park\t</td><td>-4.593\t</td><td>56.24</td>\n",
    "</tr>\n",
    "<tr>\n",
    "<td>Tay forest park\t</td><td>-4.025</td><td>\t56.59</td>\n",
    "</tr>\n",
    "<tr>\n",
    "<td>Cairngorms national park\t</td><td>-3.545\t</td><td>57.08</td>\n",
    "</tr>\n",
    "</table>\n"
   ]
  },
  {
   "cell_type": "markdown",
   "metadata": {},
   "source": [
    "## The projection"
   ]
  },
  {
   "cell_type": "markdown",
   "metadata": {},
   "source": [
    "Projections in GDAL objects are stored can be accessed by querying the dataset using the `GetProjection()` method. If we do that on the currently opened dataset (stored in variable `g`), we get:"
   ]
  },
  {
   "cell_type": "code",
   "execution_count": 4,
   "metadata": {
    "collapsed": false
   },
   "outputs": [
    {
     "name": "stdout",
     "output_type": "stream",
     "text": [
      "PROJCS[\"unnamed\",GEOGCS[\"Unknown datum based upon the custom spheroid\",DATUM[\"Not_specified_based_on_custom_spheroid\",SPHEROID[\"Custom spheroid\",6371007.181,0]],PRIMEM[\"Greenwich\",0],UNIT[\"degree\",0.0174532925199433]],PROJECTION[\"Sinusoidal\"],PARAMETER[\"longitude_of_center\",0],PARAMETER[\"false_easting\",0],PARAMETER[\"false_northing\",0],UNIT[\"metre\",1,AUTHORITY[\"EPSG\",\"9001\"]]]\n"
     ]
    }
   ],
   "source": [
    "print g.GetProjection()"
   ]
  },
  {
   "cell_type": "markdown",
   "metadata": {},
   "source": [
    "The above is the description of the projection (in this case, MODIS sinusoidal) in `WKT` (well-known text) format. There are a number of different ways of specifying projections, the most important being\n",
    "\n",
    "* WKT\n",
    "* Proj4\n",
    "* EPSG codes\n",
    "\n",
    "The site [spatialreference.org](http://spatialreference.org) allows you to search a large collection of projections, and get the representation that you want to use. "
   ]
  },
  {
   "cell_type": "markdown",
   "metadata": {},
   "source": [
    "## Saving files"
   ]
  },
  {
   "cell_type": "markdown",
   "metadata": {},
   "source": [
    "So far, we have read data from files, but lets see how we can save raster data **to** a new file. We will use the previous landcover map as an example. We will write a method to save the data in a format provided by the user. The procedure is fairly straightforward: we get a handler to a driver (e.g. a GeoTIFF or Erdas Imagine format), we create the output file (giving a filename, number of rows, columns, bands, the data type), and then add the relevant metadata (projection, geotransform, ...). We then select a band from the output and copy the array that we want to write to that band."
   ]
  },
  {
   "cell_type": "code",
   "execution_count": 5,
   "metadata": {
    "collapsed": false
   },
   "outputs": [],
   "source": [
    "g = gdal.Open ( \"lc_h17v03.tif\" ) # Open original file\n",
    "# Get the x, y and number of bands from the original file\n",
    "x_size, y_size, n_bands = g.RasterXSize, g.RasterYSize, g.RasterCount\n",
    "data = g.ReadAsArray ()\n",
    "driver = gdal.GetDriverByName ( \"HFA\" ) # Get a handler to a driver\n",
    "                                        # Maybe try \"GeoTIFF\" here\n",
    "# Next line creates the output dataset with\n",
    "# 1. The filename (\"test_lc_h17v03.img\")\n",
    "# 2. The raster size (x_size, y_size)\n",
    "# 3. The number of bands\n",
    "# 4.The data type (in this case, Byte.\n",
    "#     Other typical values might be gdal.GDT_Int16 \n",
    "#     or gdal.GDT_Float32)\n",
    "\n",
    "dataset_out = driver.Create ( \"test_lc_h17v03.img\", x_size, y_size, n_bands, \\\n",
    "                             gdal.GDT_Byte )\n",
    "# Set the output geotransform by reading the input one\n",
    "dataset_out.SetGeoTransform ( g.GetGeoTransform() )\n",
    "# Set the output projection by reading the input one\n",
    "dataset_out.SetProjection ( g.GetProjectionRef() )\n",
    "# Now, get band # 1, and write our data array. \n",
    "# Note that the data array needs to have the same type\n",
    "# as the one specified for dataset_out\n",
    "dataset_out.GetRasterBand ( 1 ).WriteArray ( data )\n",
    "# This bit forces GDAL to close the file and write to it\n",
    "dataset_out = None"
   ]
  },
  {
   "cell_type": "markdown",
   "metadata": {},
   "source": [
    "The output file should hopefully exist in this directory. Let's use [`gdalinfo`](http://www.gdal.org/gdalinfo.html) to find out about it"
   ]
  },
  {
   "cell_type": "code",
   "execution_count": 6,
   "metadata": {
    "collapsed": false
   },
   "outputs": [
    {
     "name": "stdout",
     "output_type": "stream",
     "text": [
      "gdalinfo: error while loading shared libraries: libxerces-c-3.1.so: cannot open shared object file: No such file or directory\r\n"
     ]
    }
   ],
   "source": [
    "!gdalinfo test_lc_h17v03.img"
   ]
  },
  {
   "cell_type": "markdown",
   "metadata": {},
   "source": [
    "So the previous code works. Since this is something we typically do (read some data from one or more files, manipulate it and save the result in output files), it makes a lot of sense to try to put this code in a method that is more or less generic, that we can test and then re-use. Here's a first attempt at it:"
   ]
  },
  {
   "cell_type": "code",
   "execution_count": 7,
   "metadata": {
    "collapsed": false
   },
   "outputs": [],
   "source": [
    "def save_raster ( output_name, raster_data, dataset, driver=\"GTiff\" ):\n",
    "    \"\"\"\n",
    "    A function to save a 1-band raster using GDAL to the file indicated\n",
    "    by ``output_name``. It requires a GDAL-accesible dataset to collect \n",
    "    the projection and geotransform.\n",
    "    \n",
    "    Parameters\n",
    "    ----------\n",
    "    output_name: str\n",
    "        The output filename, with full path and extension if required\n",
    "    raster_data: array\n",
    "        The array that we want to save\n",
    "    dataset: str\n",
    "        Filename of a GDAL-friendly dataset that we want to use to\n",
    "        read geotransform & projection information\n",
    "    driver: str\n",
    "        A GDAL driver string, like GTiff or HFA.\n",
    "    \"\"\"\n",
    "    \n",
    "    # Open the reference dataset\n",
    "    g = gdal.Open ( dataset )\n",
    "    # Get the Geotransform vector\n",
    "    geo_transform = g.GetGeoTransform ()\n",
    "    x_size = g.RasterXSize # Raster xsize\n",
    "    y_size = g.RasterYSize # Raster ysize\n",
    "    srs = g.GetProjectionRef () # Projection\n",
    "    # Need a driver object. By default, we use GeoTIFF\n",
    "    driver = gdal.GetDriverByName ( driver )\n",
    "    dataset_out = driver.Create ( output_name, x_size, y_size, 1, \\\n",
    "            gdal.GDT_Float32 )\n",
    "    dataset_out.SetGeoTransform ( geo_transform )\n",
    "    dataset_out.SetProjection ( srs )\n",
    "    dataset_out.GetRasterBand ( 1 ).WriteArray ( \\\n",
    "            raster_data.astype(np.float32) )\n",
    "    dataset_out = None"
   ]
  },
  {
   "cell_type": "markdown",
   "metadata": {},
   "source": [
    "Now try modifying that method so that you can\n",
    "\n",
    "1. Select the output data type diffrent to Float32\n",
    "2. Provide a given projection and geotransform (e.g. if you don't have a GDAL filename)"
   ]
  },
  {
   "cell_type": "markdown",
   "metadata": {},
   "source": [
    "## Reprojecting things"
   ]
  },
  {
   "cell_type": "markdown",
   "metadata": {},
   "source": [
    "Previously, we have used the [MODLAND grid converter](http://landweb.nascom.nasa.gov/cgi-bin/developer/tilemap.cgi) site to go from latitude/longitude pairs to MODIS projection. However, in practice, we might want to use a range of different projections, and convert many points at the same time, so how do we go about that?\n",
    "\n",
    "In GDAL/OGR, most projection-related tools are in the `osr` package, which needs to be imported like e.g. `gdal` itself. The main tools are the `osr.SpatialReference` object, which defines a projection object (with no projection to start with), and the `osr.CoordinateTransformation` object. \n",
    "\n",
    "Once you instantiate `osr.SpatialReference`, it holds no projection information. You need to use methods to set it up, using EPSG codes, Proj4 strings, or whatever. These methods typically start by `ImportFrom` (e.g. `ImportFromEPSG`, `ImportFromProj4`, ...).\n",
    "\n",
    "The `CoordinateTransformation` requires a source and destination spatial references that have been configured. Once this is done, it expose the method `TransformPoint` to convert coordinates from the source to the destination projection.\n",
    "\n",
    "Let's see how this works by converting some latitude/longitude pairs to the Ordnance Survey's [National Grid](http://en.wikipedia.org/wiki/Ordnance_Survey_National_Grid) projection. The projection is also available in [spatialreference.org](http://spatialreference.org/ref/epsg/27700/), where we can gleam its EPSG code (27700). The EPSG code for longitude latitude is [4326](http://spatialreference.org/ref/epsg/4326/). Let's see this in practice:\n"
   ]
  },
  {
   "cell_type": "code",
   "execution_count": 8,
   "metadata": {
    "collapsed": false
   },
   "outputs": [
    {
     "name": "stdout",
     "output_type": "stream",
     "text": [
      "Snowdonia national park -3.898 52.9 272430.177073 335304.936492 -51.8129037432\n"
     ]
    }
   ],
   "source": [
    "from osgeo import osr, ogr\n",
    "\n",
    "# Define the source projection, WGS84 lat/lon. \n",
    "wgs84 = osr.SpatialReference( ) # Define a SpatialReference object\n",
    "wgs84.ImportFromEPSG( 4326 ) # And set it to WGS84 using the EPSG code\n",
    "\n",
    "# Now for the target projection, Ordnance Survey's British National Grid\n",
    "osng = osr.SpatialReference() # define the SpatialReference object\n",
    "# In this case, we get the projection from a Proj4 string\n",
    "osng.ImportFromEPSG( 27700)\n",
    "# or, if using the proj4 representation\n",
    "#osng.ImportFromProj4 ( \"+proj=tmerc +lat_0=49 +lon_0=-2 \" + \\\n",
    "#                      \"+k=0.9996012717 +x_0=400000 +y_0=-100000 \" + \\\n",
    "#                      \"+ellps=airy +datum=OSGB36 +units=m +no_defs\" )\n",
    "\n",
    "\n",
    "# Now, we define a coordinate transformtion object, *from* wgs84 *to* OSNG\n",
    "tx = osr.CoordinateTransformation( wgs84, osng)\n",
    "# We loop over the lines of park_data, \n",
    "#         using the split method to split by newline characters\n",
    "park_name, lon, lat = \"Snowdonia national park\", -3.898,52.9\n",
    "\n",
    "# create a geometry from coordinates\n",
    "point = ogr.Geometry(ogr.wkbPoint)\n",
    "point.AddPoint(lon, lat)\n",
    "\n",
    "# Actually do the transformation using the TransformPoint method\n",
    "point.Transform ( tx )\n",
    "\n",
    "osng_x = point.GetX()\n",
    "osng_y = point.GetY()\n",
    "osng_z = point.GetZ()\n",
    "\n",
    "# Print out\n",
    "print park_name, lon, lat, osng_x, osng_y, osng_z"
   ]
  },
  {
   "cell_type": "markdown",
   "metadata": {},
   "source": [
    "You can test the result is reasonable by feeding the data for `osng_x` and `osng_y` in  the OS own [coordinate conversion website](http://www.ordnancesurvey.co.uk/gps/transformation) and making sure that the calculated longitude latitude pair is the same as the one you started with."
   ]
  },
  {
   "cell_type": "markdown",
   "metadata": {},
   "source": [
    "## Reprojecting whole rasters"
   ]
  },
  {
   "cell_type": "markdown",
   "metadata": {},
   "source": [
    "### Using command line tools"
   ]
  },
  {
   "cell_type": "markdown",
   "metadata": {},
   "source": [
    "The easiest way to reproject a raster file is to use GDAL's [`gdalwarp`](http://www.gdal.org/gdalwarp.html) tool. As an example, let's say we want to reproject the landcover file from earlier on into latitude/longitude (WGS84):"
   ]
  },
  {
   "cell_type": "code",
   "execution_count": 9,
   "metadata": {
    "collapsed": false
   },
   "outputs": [
    {
     "name": "stderr",
     "output_type": "stream",
     "text": [
      "Output dataset lc_h17v03_wgs84.tif exists,\n",
      "but some commandline options were provided indicating a new dataset\n",
      "should be created.  Please delete existing dataset and run again.\n"
     ]
    }
   ],
   "source": [
    "%%bash\n",
    "# in case you don't have library path set\n",
    "# use 'locate libnetcdf` or similar if its not in here\n",
    "LD_LIBRARY_PATH=/opt/anaconda/lib:$LD_LIBRARY_PATH\n",
    "export LD_LIBRARY_PATH\n",
    "\n",
    "gdalwarp -of GTiff -t_srs \"EPSG:4326\" -ts 2400 2400 test_lc_h17v03.img  lc_h17v03_wgs84.tif"
   ]
  },
  {
   "cell_type": "markdown",
   "metadata": {},
   "source": [
    "We see here that the command takes a number of arguments:\n",
    "\n",
    "1. `-of GTiff` is the outut format (in this case GeoTIFF)\n",
    "2. `-t_srs \"EPSG:4326\"` is the **to** projection (the **from** projection is already specified in the source dataset), in this case, lat/long WGS84, known by its [EPSG code](http://spatialreference.org/ref/epsg/4326/)\n",
    "3. `-ts 2400 2400` instructs `gdalwarp` to use an output of size `2400*2400`.\n",
    "3. `test_lc_h17v03.img` is the **input dataset**\n",
    "4. `lc_h17v03_wgs84.tif` is the **output dataset**\n",
    "\n",
    "Note that `gdalwarp` will reproject the data, and decide on the pixel size based on some considerations. This can result in the size of the raster changing. If you wanted to still keep the same raster size, we use the `-ts 2400 2400` option, or select an appropriate pixel size using `-tr xres yres` (note it has to be in the target projection, so degrees in this case). We can use `gdalinfo` to see what we've done."
   ]
  },
  {
   "cell_type": "code",
   "execution_count": 10,
   "metadata": {
    "collapsed": false
   },
   "outputs": [
    {
     "name": "stdout",
     "output_type": "stream",
     "text": [
      "/home/plewis/p/geogg122/Chapter4_GDAL\n",
      "Driver: HFA/Erdas Imagine Images (.img)\n",
      "Files: test_lc_h17v03.img\n",
      "Size is 2400, 2400\n",
      "Coordinate System is:\n",
      "PROJCS[\"Sinusoidal\",\n",
      "    GEOGCS[\"GCS_Unknown datum based upon the custom spheroid\",\n",
      "        DATUM[\"Not_specified_based_on_custom_spheroid\",\n",
      "            SPHEROID[\"Custom_spheroid\",6371007.181,0]],\n",
      "        PRIMEM[\"Greenwich\",0],\n",
      "        UNIT[\"Degree\",0.017453292519943295]],\n",
      "    PROJECTION[\"Sinusoidal\"],\n",
      "    PARAMETER[\"longitude_of_center\",0],\n",
      "    PARAMETER[\"false_easting\",0],\n",
      "    PARAMETER[\"false_northing\",0],\n",
      "    UNIT[\"Meter\",1]]\n",
      "Origin = (-1111950.519667000044137,6671703.117999999783933)\n",
      "Pixel Size = (463.312716527916677,-463.312716527916507)\n",
      "Corner Coordinates:\n",
      "Upper Left  (-1111950.520, 6671703.118) ( 20d 0' 0.00\"W, 60d 0' 0.00\"N)\n",
      "Lower Left  (-1111950.520, 5559752.598) ( 15d33'26.06\"W, 50d 0' 0.00\"N)\n",
      "Upper Right (       0.000, 6671703.118) (  0d 0' 0.01\"E, 60d 0' 0.00\"N)\n",
      "Lower Right (       0.000, 5559752.598) (  0d 0' 0.01\"E, 50d 0' 0.00\"N)\n",
      "Center      ( -555975.260, 6115727.858) (  8d43' 2.04\"W, 55d 0' 0.00\"N)\n",
      "Band 1 Block=64x64 Type=Byte, ColorInterp=Undefined\n",
      "  Description = Layer_1\n",
      "  Metadata:\n",
      "    LAYER_TYPE=athematic\n",
      "\n"
     ]
    }
   ],
   "source": [
    "%%bash\n",
    "# in case you don't have library path set\n",
    "# use 'locate libnetcdf` or similar if its not in here\n",
    "LD_LIBRARY_PATH=/opt/anaconda/lib:$LD_LIBRARY_PATH\n",
    "export LD_LIBRARY_PATH\n",
    "\n",
    "pwd\n",
    "gdalinfo test_lc_h17v03.img"
   ]
  },
  {
   "cell_type": "code",
   "execution_count": 11,
   "metadata": {
    "collapsed": false
   },
   "outputs": [
    {
     "name": "stdout",
     "output_type": "stream",
     "text": [
      "Driver: GTiff/GeoTIFF\n",
      "Files: lc_h17v03_wgs84.tif\n",
      "Size is 2400, 2400\n",
      "Coordinate System is:\n",
      "GEOGCS[\"WGS 84\",\n",
      "    DATUM[\"WGS_1984\",\n",
      "        SPHEROID[\"WGS 84\",6378137,298.257223563,\n",
      "            AUTHORITY[\"EPSG\",\"7030\"]],\n",
      "        AUTHORITY[\"EPSG\",\"6326\"]],\n",
      "    PRIMEM[\"Greenwich\",0],\n",
      "    UNIT[\"degree\",0.0174532925199433],\n",
      "    AUTHORITY[\"EPSG\",\"4326\"]]\n",
      "Origin = (-19.999999994952233,59.999999994611805)\n",
      "Pixel Size = (0.008333919248404,-0.004166959624202)\n",
      "Metadata:\n",
      "  AREA_OR_POINT=Area\n",
      "Image Structure Metadata:\n",
      "  INTERLEAVE=BAND\n",
      "Corner Coordinates:\n",
      "Upper Left  ( -20.0000000,  60.0000000) ( 20d 0' 0.00\"W, 60d 0' 0.00\"N)\n",
      "Lower Left  ( -20.0000000,  49.9992969) ( 20d 0' 0.00\"W, 49d59'57.47\"N)\n",
      "Upper Right (   0.0014062,  60.0000000) (  0d 0' 5.06\"E, 60d 0' 0.00\"N)\n",
      "Lower Right (   0.0014062,  49.9992969) (  0d 0' 5.06\"E, 49d59'57.47\"N)\n",
      "Center      (  -9.9992969,  54.9996484) (  9d59'57.47\"W, 54d59'58.73\"N)\n",
      "Band 1 Block=2400x3 Type=Byte, ColorInterp=Gray\n",
      "  Description = Layer_1\n",
      "  Metadata:\n",
      "    LAYER_TYPE=athematic\n"
     ]
    }
   ],
   "source": [
    "%%bash\n",
    "# in case you don't have library path set\n",
    "# use 'locate libnetcdf` or similar if its not in here\n",
    "LD_LIBRARY_PATH=/opt/anaconda/lib:$LD_LIBRARY_PATH\n",
    "export LD_LIBRARY_PATH\n",
    "\n",
    "gdalinfo lc_h17v03_wgs84.tif"
   ]
  },
  {
   "cell_type": "markdown",
   "metadata": {},
   "source": [
    "Let's see how different these two datasets are:"
   ]
  },
  {
   "cell_type": "code",
   "execution_count": 12,
   "metadata": {
    "collapsed": false
   },
   "outputs": [
    {
     "data": {
      "text/plain": [
       "<matplotlib.image.AxesImage at 0x7f3a4014f310>"
      ]
     },
     "execution_count": 12,
     "metadata": {},
     "output_type": "execute_result"
    },
    {
     "data": {
      "image/png": "[encoded data removed]",
      "text/plain": [
       "<matplotlib.figure.Figure at 0x7f3a43d303d0>"
      ]
     },
     "metadata": {},
     "output_type": "display_data"
    }
   ],
   "source": [
    "g = gdal.Open ( \"lc_h17v03_wgs84.tif\" )\n",
    "wgs84 = g.ReadAsArray()\n",
    "g = gdal.Open(\"test_lc_h17v03.img\")\n",
    "modis = g.ReadAsArray()\n",
    "plt.subplot ( 1, 2, 1 )\n",
    "plt.imshow ( modis, interpolation='nearest', vmin=0, cmap=plt.cm.gist_earth )\n",
    "plt.subplot ( 1, 2, 2 )\n",
    "plt.imshow ( wgs84, interpolation='nearest', vmin=0, cmap=plt.cm.gist_earth )"
   ]
  },
  {
   "cell_type": "markdown",
   "metadata": {},
   "source": [
    "### Reprojecting using the Python bindings"
   ]
  },
  {
   "cell_type": "markdown",
   "metadata": {},
   "source": [
    "The previous section demonstrated how you can reproject raster files using command line tools. Sometimes, you might want to do this from inside a Python script. Ideally, you would have a python method that would perform the projection for you. GDAL allows this by defining in-memory raster files. These are normal GDAL datasets, but that don’t exist on the filesystem, only in the computer’s memory. They are a convenient “scratchpad” for quick intermediate calculations. GDAL also makes available a function, gdal.ReprojectImage that exposes most of the abilities of gdalwarp. We shall combine these two tricks to carry out the reprojection. As an example, we shall look at the case where the landcover data for the British Isles mentioned in the previous section needs to be reprojected to the Ordnance Survey National Grid, an appropriate projection for the UK.\n",
    "\n",
    "The main complication comes from the need of gdal.ReprojectImage to operate on GDAL datasets. In the previous section, we saved the data to a GeoTIFF file, so this gives us a starting dataset. We still need to create the output dataset. This means that we need to define the geotransform and size of the output dataset before the projection is made. This entails gathering information on the extent of the original dataset, projecting it to the destination projection, and calculating the number of pixels and geotransform parameters from there. This is a (heavily commented) function that performs just that task:"
   ]
  },
  {
   "cell_type": "code",
   "execution_count": 13,
   "metadata": {
    "collapsed": false
   },
   "outputs": [],
   "source": [
    "def reproject_dataset ( dataset, \\\n",
    "            pixel_spacing=463., epsg_from=4326, epsg_to=27700 ):\n",
    "    \"\"\"\n",
    "    A sample function to reproject and resample a GDAL dataset from within \n",
    "    Python. The idea here is to reproject from one system to another, as well\n",
    "    as to change the pixel size. The procedure is slightly long-winded, but\n",
    "    goes like this:\n",
    "    \n",
    "    1. Set up the two Spatial Reference systems.\n",
    "    2. Open the original dataset, and get the geotransform\n",
    "    3. Calculate bounds of new geotransform by projecting the UL corners \n",
    "    4. Calculate the number of pixels with the new projection & spacing\n",
    "    5. Create an in-memory raster dataset\n",
    "    6. Perform the projection\n",
    "    \"\"\"\n",
    "    # Define the UK OSNG, see <http://spatialreference.org/ref/epsg/27700/>\n",
    "    osng = osr.SpatialReference ()\n",
    "    osng.ImportFromEPSG ( epsg_to )\n",
    "    wgs84 = osr.SpatialReference ()\n",
    "    wgs84.ImportFromEPSG ( epsg_from )\n",
    "    tx = osr.CoordinateTransformation ( wgs84, osng )\n",
    "    # Up to here, all  the projection have been defined, as well as a \n",
    "    # transformation from the from to the  to :)\n",
    "    # We now open the dataset\n",
    "    g = gdal.Open ( dataset )\n",
    "    \n",
    "    # Get the Geotransform vector\n",
    "    geo_t = g.GetGeoTransform ()\n",
    "    x_size = g.RasterXSize # Raster xsize\n",
    "    y_size = g.RasterYSize # Raster ysize\n",
    "    \n",
    "    # Work out the boundaries of the new dataset in the target projection\n",
    "    (ulx, uly, ulz ) = tx.TransformPoint( geo_t[0], geo_t[3])\n",
    "    (lrx, lry, lrz ) = tx.TransformPoint( geo_t[0] + geo_t[1]*x_size, \\\n",
    "                                          geo_t[3] + geo_t[5]*y_size )\n",
    "    print ulx, uly, ulz\n",
    "    print lrx, lry, lrz\n",
    "    # See how using 27700 and WGS84 introduces a z-value!\n",
    "    # Now, we create an in-memory raster\n",
    "    mem_drv = gdal.GetDriverByName( 'MEM' )\n",
    "    # The size of the raster is given the new projection and pixel spacing\n",
    "    # Using the values we calculated above. Also, setting it to store one band\n",
    "    # and to use Float32 data type.\n",
    "    dest = mem_drv.Create('', int((lrx - ulx)/pixel_spacing), \\\n",
    "            int((uly - lry)/pixel_spacing), 1, gdal.GDT_Float32)\n",
    "    # Calculate the new geotransform\n",
    "    new_geo = ( ulx, pixel_spacing, geo_t[2], \\\n",
    "                uly, geo_t[4], -pixel_spacing )\n",
    "    # Set the geotransform\n",
    "    dest.SetGeoTransform( new_geo )\n",
    "    dest.SetProjection ( osng.ExportToWkt() )\n",
    "    # Perform the projection/resampling \n",
    "    res = gdal.ReprojectImage( g, dest, \\\n",
    "                wgs84.ExportToWkt(), osng.ExportToWkt(), \\\n",
    "                gdal.GRA_Bilinear )\n",
    "    return dest"
   ]
  },
  {
   "cell_type": "markdown",
   "metadata": {},
   "source": [
    "The function returns a GDAL in-memory file object, where you can `ReadAsArray` etc. As it stands, `reproject_dataset` does not write to disk. However, we can save the in-memory raster to any format supported by GDAL very conveniently by making a copy of the dataset. This takes a few lines of code:\n"
   ]
  },
  {
   "cell_type": "code",
   "execution_count": 14,
   "metadata": {
    "collapsed": false
   },
   "outputs": [
    {
     "name": "stdout",
     "output_type": "stream",
     "text": [
      "-595472.202548 1261034.77555 -55.2326775854\n",
      "543532.18509 12933.1712342 -43.993001678\n"
     ]
    }
   ],
   "source": [
    "# Do in memory reprojection\n",
    "reprojected_dataset = reproject_dataset ( \"lc_h17v03_wgs84.tif\" )\n",
    "# Output driver, as before\n",
    "driver = gdal.GetDriverByName ( \"GTiff\" )\n",
    "# Create a copy of the in memory dataset `reprojected_dataset`, and save it\n",
    "dst_ds = driver.CreateCopy( \"test_lc_h17v03_OSNG.tif\", reprojected_dataset, 0 )\n",
    "dst_ds = None # Flush the dataset to disk\n"
   ]
  },
  {
   "cell_type": "markdown",
   "metadata": {},
   "source": [
    "Let's see how the different projections look like by plotting them side by side"
   ]
  },
  {
   "cell_type": "code",
   "execution_count": 15,
   "metadata": {
    "collapsed": false
   },
   "outputs": [
    {
     "data": {
      "text/plain": [
       "<matplotlib.text.Text at 0x7f3a37661650>"
      ]
     },
     "execution_count": 15,
     "metadata": {},
     "output_type": "execute_result"
    },
    {
     "data": {
      "image/png": "[encoded data removed]",
      "text/plain": [
       "<matplotlib.figure.Figure at 0x7f3a40174250>"
      ]
     },
     "metadata": {},
     "output_type": "display_data"
    }
   ],
   "source": [
    "plt.subplot ( 1, 3, 1 )\n",
    "plt.title (\"MODIS sinusoidal\")\n",
    "plt.imshow ( modis, interpolation='nearest', vmin=0, cmap=plt.cm.gist_earth )\n",
    "plt.subplot ( 1, 3, 2 )\n",
    "plt.imshow ( wgs84, interpolation='nearest', vmin=0, cmap=plt.cm.gist_earth )\n",
    "g = gdal.Open(\"test_lc_h17v03_OSNG.tif\" )\n",
    "osng = g.ReadAsArray()\n",
    "plt.title (\"WGS84, Lat/Long\")\n",
    "plt.subplot ( 1, 3, 3 )\n",
    "plt.imshow ( osng, interpolation='nearest', vmin=0, cmap=plt.cm.gist_earth )\n",
    "plt.title(\"OSNG\")"
   ]
  }
 ],
 "metadata": {},
 "nbformat": 4,
 "nbformat_minor": 0
}