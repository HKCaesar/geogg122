{
 "cells": [
  {
   "cell_type": "markdown",
   "metadata": {},
   "source": [
    "### Exercise Unix-1 answers"
   ]
  },
  {
   "cell_type": "markdown",
   "metadata": {},
   "source": [
    "If you get 'lost' or confused in any part of this exercise, don't panic, just use these basic tools to make sure you know where you are on the system (`pwd`) and/or change directory back to your home (`cd ~`) and start again."
   ]
  },
  {
   "cell_type": "markdown",
   "metadata": {},
   "source": [
    "Your session for the exercise with `cd`, `ls` and `pwd` should have gone something like this:"
   ]
  },
  {
   "cell_type": "markdown",
   "metadata": {},
   "source": [
    "#### Using ~ to mean 'home':"
   ]
  },
  {
   "cell_type": "code",
   "execution_count": 1,
   "metadata": {
    "collapsed": false
   },
   "outputs": [
    {
     "name": "stdout",
     "output_type": "stream",
     "text": [
      "/Users/plewis\n"
     ]
    }
   ],
   "source": [
    "cd ~"
   ]
  },
  {
   "cell_type": "code",
   "execution_count": 2,
   "metadata": {
    "collapsed": false
   },
   "outputs": [
    {
     "data": {
      "text/plain": [
       "u'/Users/plewis'"
      ]
     },
     "execution_count": 2,
     "metadata": {},
     "output_type": "execute_result"
    }
   ],
   "source": [
    "pwd"
   ]
  },
  {
   "cell_type": "markdown",
   "metadata": {},
   "source": [
    "Now, let's make sure we understand *dot* `.`:"
   ]
  },
  {
   "cell_type": "code",
   "execution_count": 3,
   "metadata": {
    "collapsed": false
   },
   "outputs": [
    {
     "name": "stdout",
     "output_type": "stream",
     "text": [
      "/Users/plewis\n"
     ]
    }
   ],
   "source": [
    "cd ."
   ]
  },
  {
   "cell_type": "markdown",
   "metadata": {},
   "source": [
    "Get a listing (this will be different for different users!):"
   ]
  },
  {
   "cell_type": "code",
   "execution_count": 4,
   "metadata": {
    "collapsed": false
   },
   "outputs": [
    {
     "name": "stdout",
     "output_type": "stream",
     "text": [
      "\u001b[34mDesktop\u001b[m\u001b[m/     \u001b[34mDropbox\u001b[m\u001b[m/     \u001b[34mMusic\u001b[m\u001b[m/       \u001b[34mSites\u001b[m\u001b[m/       \u001b[34mstuff\u001b[m\u001b[m/\r\n",
      "\u001b[34mDocuments\u001b[m\u001b[m/   \u001b[34mLibrary\u001b[m\u001b[m/     \u001b[34mPictures\u001b[m\u001b[m/    \u001b[34mgeogg122\u001b[m\u001b[m/\r\n",
      "\u001b[34mDownloads\u001b[m\u001b[m/   \u001b[34mMovies\u001b[m\u001b[m/      \u001b[34mPublic\u001b[m\u001b[m/      \u001b[34mpublic_html\u001b[m\u001b[m/\r\n"
     ]
    }
   ],
   "source": [
    "ls"
   ]
  },
  {
   "cell_type": "code",
   "execution_count": 5,
   "metadata": {
    "collapsed": false
   },
   "outputs": [
    {
     "name": "stdout",
     "output_type": "stream",
     "text": [
      "/Users/ucfajlg\n"
     ]
    }
   ],
   "source": [
    "cd ~ucfajlg"
   ]
  },
  {
   "cell_type": "code",
   "execution_count": 6,
   "metadata": {
    "collapsed": false
   },
   "outputs": [
    {
     "data": {
      "text/plain": [
       "u'/Users/ucfajlg'"
      ]
     },
     "execution_count": 6,
     "metadata": {},
     "output_type": "execute_result"
    }
   ],
   "source": [
    "pwd"
   ]
  },
  {
   "cell_type": "code",
   "execution_count": 7,
   "metadata": {
    "collapsed": false
   },
   "outputs": [
    {
     "name": "stdout",
     "output_type": "stream",
     "text": [
      "\u001b[34mDesktop\u001b[m\u001b[m/   \u001b[34mDownloads\u001b[m\u001b[m/ \u001b[34mMovies\u001b[m\u001b[m/    \u001b[34mPictures\u001b[m\u001b[m/  \u001b[34mSites\u001b[m\u001b[m/\r\n",
      "\u001b[34mDocuments\u001b[m\u001b[m/ \u001b[34mLibrary\u001b[m\u001b[m/   \u001b[34mMusic\u001b[m\u001b[m/     \u001b[34mPublic\u001b[m\u001b[m/\r\n"
     ]
    }
   ],
   "source": [
    "ls"
   ]
  },
  {
   "cell_type": "markdown",
   "metadata": {},
   "source": [
    "Or, get a listing without changing directory:"
   ]
  },
  {
   "cell_type": "code",
   "execution_count": 8,
   "metadata": {
    "collapsed": false
   },
   "outputs": [
    {
     "name": "stdout",
     "output_type": "stream",
     "text": [
      "\u001b[34mDesktop\u001b[m\u001b[m/     \u001b[34mDropbox\u001b[m\u001b[m/     \u001b[34mMusic\u001b[m\u001b[m/       \u001b[34mSites\u001b[m\u001b[m/       \u001b[34mstuff\u001b[m\u001b[m/\r\n",
      "\u001b[34mDocuments\u001b[m\u001b[m/   \u001b[34mLibrary\u001b[m\u001b[m/     \u001b[34mPictures\u001b[m\u001b[m/    \u001b[34mgeogg122\u001b[m\u001b[m/\r\n",
      "\u001b[34mDownloads\u001b[m\u001b[m/   \u001b[34mMovies\u001b[m\u001b[m/      \u001b[34mPublic\u001b[m\u001b[m/      \u001b[34mpublic_html\u001b[m\u001b[m/\r\n"
     ]
    }
   ],
   "source": [
    "ls ~plewis"
   ]
  },
  {
   "cell_type": "code",
   "execution_count": 9,
   "metadata": {
    "collapsed": false
   },
   "outputs": [
    {
     "name": "stdout",
     "output_type": "stream",
     "text": [
      "\u001b[34mDesktop\u001b[m\u001b[m/   \u001b[34mDownloads\u001b[m\u001b[m/ \u001b[34mMovies\u001b[m\u001b[m/    \u001b[34mPictures\u001b[m\u001b[m/  \u001b[34mSites\u001b[m\u001b[m/\r\n",
      "\u001b[34mDocuments\u001b[m\u001b[m/ \u001b[34mLibrary\u001b[m\u001b[m/   \u001b[34mMusic\u001b[m\u001b[m/     \u001b[34mPublic\u001b[m\u001b[m/\r\n"
     ]
    }
   ],
   "source": [
    "ls ~ucfajlg"
   ]
  },
  {
   "cell_type": "code",
   "execution_count": 10,
   "metadata": {
    "collapsed": false
   },
   "outputs": [
    {
     "name": "stdout",
     "output_type": "stream",
     "text": [
      "\u001b[34miTunes\u001b[m\u001b[m/\r\n"
     ]
    }
   ],
   "source": [
    "ls ~plewis/Music"
   ]
  },
  {
   "cell_type": "markdown",
   "metadata": {},
   "source": [
    "#### Using absolute path names:"
   ]
  },
  {
   "cell_type": "code",
   "execution_count": 11,
   "metadata": {
    "collapsed": false
   },
   "outputs": [
    {
     "name": "stdout",
     "output_type": "stream",
     "text": [
      "/Users/plewis\n"
     ]
    }
   ],
   "source": [
    "cd /Users/plewis"
   ]
  },
  {
   "cell_type": "code",
   "execution_count": 12,
   "metadata": {
    "collapsed": false
   },
   "outputs": [
    {
     "data": {
      "text/plain": [
       "u'/Users/plewis'"
      ]
     },
     "execution_count": 12,
     "metadata": {},
     "output_type": "execute_result"
    }
   ],
   "source": [
    "pwd"
   ]
  },
  {
   "cell_type": "code",
   "execution_count": 13,
   "metadata": {
    "collapsed": false
   },
   "outputs": [
    {
     "name": "stdout",
     "output_type": "stream",
     "text": [
      "/Users/ucfajlg\n"
     ]
    }
   ],
   "source": [
    "cd /Users/ucfajlg"
   ]
  },
  {
   "cell_type": "markdown",
   "metadata": {},
   "source": [
    "Not get a listing of the contents:"
   ]
  },
  {
   "cell_type": "code",
   "execution_count": 14,
   "metadata": {
    "collapsed": false
   },
   "outputs": [
    {
     "name": "stdout",
     "output_type": "stream",
     "text": [
      "\u001b[34mDesktop\u001b[m\u001b[m/     \u001b[34mDropbox\u001b[m\u001b[m/     \u001b[34mMusic\u001b[m\u001b[m/       \u001b[34mSites\u001b[m\u001b[m/       \u001b[34mstuff\u001b[m\u001b[m/\r\n",
      "\u001b[34mDocuments\u001b[m\u001b[m/   \u001b[34mLibrary\u001b[m\u001b[m/     \u001b[34mPictures\u001b[m\u001b[m/    \u001b[34mgeogg122\u001b[m\u001b[m/\r\n",
      "\u001b[34mDownloads\u001b[m\u001b[m/   \u001b[34mMovies\u001b[m\u001b[m/      \u001b[34mPublic\u001b[m\u001b[m/      \u001b[34mpublic_html\u001b[m\u001b[m/\r\n"
     ]
    }
   ],
   "source": [
    "ls /Users/plewis"
   ]
  },
  {
   "cell_type": "code",
   "execution_count": 15,
   "metadata": {
    "collapsed": false
   },
   "outputs": [
    {
     "name": "stdout",
     "output_type": "stream",
     "text": [
      "\u001b[34mDesktop\u001b[m\u001b[m/   \u001b[34mDownloads\u001b[m\u001b[m/ \u001b[34mMovies\u001b[m\u001b[m/    \u001b[34mPictures\u001b[m\u001b[m/  \u001b[34mSites\u001b[m\u001b[m/\r\n",
      "\u001b[34mDocuments\u001b[m\u001b[m/ \u001b[34mLibrary\u001b[m\u001b[m/   \u001b[34mMusic\u001b[m\u001b[m/     \u001b[34mPublic\u001b[m\u001b[m/\r\n"
     ]
    }
   ],
   "source": [
    "ls ."
   ]
  },
  {
   "cell_type": "markdown",
   "metadata": {},
   "source": [
    "#### Using relative pathnames. First make sure you are in your home directory:"
   ]
  },
  {
   "cell_type": "code",
   "execution_count": 16,
   "metadata": {
    "collapsed": false
   },
   "outputs": [
    {
     "name": "stdout",
     "output_type": "stream",
     "text": [
      "/Users/plewis\n"
     ]
    }
   ],
   "source": [
    "cd ~"
   ]
  },
  {
   "cell_type": "code",
   "execution_count": 17,
   "metadata": {
    "collapsed": false
   },
   "outputs": [
    {
     "data": {
      "text/plain": [
       "u'/Users/plewis'"
      ]
     },
     "execution_count": 17,
     "metadata": {},
     "output_type": "execute_result"
    }
   ],
   "source": [
    "pwd"
   ]
  },
  {
   "cell_type": "code",
   "execution_count": 18,
   "metadata": {
    "collapsed": false
   },
   "outputs": [
    {
     "name": "stdout",
     "output_type": "stream",
     "text": [
      "\u001b[34mDesktop\u001b[m\u001b[m/     \u001b[34mDropbox\u001b[m\u001b[m/     \u001b[34mMusic\u001b[m\u001b[m/       \u001b[34mSites\u001b[m\u001b[m/       \u001b[34mstuff\u001b[m\u001b[m/\r\n",
      "\u001b[34mDocuments\u001b[m\u001b[m/   \u001b[34mLibrary\u001b[m\u001b[m/     \u001b[34mPictures\u001b[m\u001b[m/    \u001b[34mgeogg122\u001b[m\u001b[m/\r\n",
      "\u001b[34mDownloads\u001b[m\u001b[m/   \u001b[34mMovies\u001b[m\u001b[m/      \u001b[34mPublic\u001b[m\u001b[m/      \u001b[34mpublic_html\u001b[m\u001b[m/\r\n"
     ]
    }
   ],
   "source": [
    "ls"
   ]
  },
  {
   "cell_type": "markdown",
   "metadata": {},
   "source": [
    "Now we will move relative to this:"
   ]
  },
  {
   "cell_type": "code",
   "execution_count": 19,
   "metadata": {
    "collapsed": false
   },
   "outputs": [
    {
     "name": "stdout",
     "output_type": "stream",
     "text": [
      "/Users/ucfajlg\n"
     ]
    }
   ],
   "source": [
    "cd ../ucfajlg"
   ]
  },
  {
   "cell_type": "code",
   "execution_count": 20,
   "metadata": {
    "collapsed": false
   },
   "outputs": [
    {
     "data": {
      "text/plain": [
       "u'/Users/ucfajlg'"
      ]
     },
     "execution_count": 20,
     "metadata": {},
     "output_type": "execute_result"
    }
   ],
   "source": [
    "pwd"
   ]
  },
  {
   "cell_type": "code",
   "execution_count": 21,
   "metadata": {
    "collapsed": false
   },
   "outputs": [
    {
     "name": "stdout",
     "output_type": "stream",
     "text": [
      "\u001b[34mDesktop\u001b[m\u001b[m/   \u001b[34mDownloads\u001b[m\u001b[m/ \u001b[34mMovies\u001b[m\u001b[m/    \u001b[34mPictures\u001b[m\u001b[m/  \u001b[34mSites\u001b[m\u001b[m/\r\n",
      "\u001b[34mDocuments\u001b[m\u001b[m/ \u001b[34mLibrary\u001b[m\u001b[m/   \u001b[34mMusic\u001b[m\u001b[m/     \u001b[34mPublic\u001b[m\u001b[m/\r\n"
     ]
    }
   ],
   "source": [
    "ls"
   ]
  },
  {
   "cell_type": "code",
   "execution_count": 22,
   "metadata": {
    "collapsed": false
   },
   "outputs": [
    {
     "name": "stdout",
     "output_type": "stream",
     "text": [
      "\u001b[34mDesktop\u001b[m\u001b[m/   \u001b[34mDownloads\u001b[m\u001b[m/ \u001b[34mMovies\u001b[m\u001b[m/    \u001b[34mPictures\u001b[m\u001b[m/  \u001b[34mSites\u001b[m\u001b[m/\r\n",
      "\u001b[34mDocuments\u001b[m\u001b[m/ \u001b[34mLibrary\u001b[m\u001b[m/   \u001b[34mMusic\u001b[m\u001b[m/     \u001b[34mPublic\u001b[m\u001b[m/\r\n"
     ]
    }
   ],
   "source": [
    "ls ../ucfajlg"
   ]
  },
  {
   "cell_type": "code",
   "execution_count": 23,
   "metadata": {
    "collapsed": false
   },
   "outputs": [
    {
     "name": "stdout",
     "output_type": "stream",
     "text": [
      "/Users/plewis\n"
     ]
    }
   ],
   "source": [
    "cd ../plewis"
   ]
  },
  {
   "cell_type": "code",
   "execution_count": 24,
   "metadata": {
    "collapsed": false
   },
   "outputs": [
    {
     "data": {
      "text/plain": [
       "u'/Users/plewis'"
      ]
     },
     "execution_count": 24,
     "metadata": {},
     "output_type": "execute_result"
    }
   ],
   "source": [
    "pwd"
   ]
  }
 ],
 "metadata": {},
 "nbformat": 4,
 "nbformat_minor": 0
}