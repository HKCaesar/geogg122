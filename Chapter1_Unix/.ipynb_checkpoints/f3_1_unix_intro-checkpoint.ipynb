{
 "metadata": {
  "name": ""
 },
 "nbformat": 3,
 "nbformat_minor": 0,
 "worksheets": [
  {
   "cells": [
    {
     "cell_type": "code",
     "collapsed": false,
     "input": [
      "# style sheet\n",
      "from IPython.core.display import HTML\n",
      "def css_styling():\n",
      "    styles = open(\"../styles/custom.css\", \"r\").read()\n",
      "    return HTML(styles)\n",
      "css_styling()"
     ],
     "language": "python",
     "metadata": {},
     "outputs": [
      {
       "html": [
        "<style>\n",
        "    @font-face {\n",
        "        font-family: \"Computer Modern\";\n",
        "        src: url('http://mirrors.ctan.org/fonts/cm-unicode/fonts/otf/cmunss.otf');\n",
        "    }\n",
        "    div#ipython-main-app {\n",
        "      background: url('images/logo.png') no-repeat top left;\n",
        "    }\n",
        "    div.cell{\n",
        "        width:800px;\n",
        "        margin-left:16% !important;\n",
        "        margin-right:auto;\n",
        "    }\n",
        "    h1 {\n",
        "        font-family: Helvetica, serif;\n",
        "    }\n",
        "    h4{\n",
        "        margin-top:12px;\n",
        "        margin-bottom: 3px;\n",
        "       }\n",
        "    div.text_cell_render{\n",
        "        font-family: Computer Modern, \"Helvetica Neue\", Arial, Helvetica, Geneva, sans-serif;\n",
        "        line-height: 145%;\n",
        "        font-size: 130%;\n",
        "        width:800px;\n",
        "        margin-left:auto;\n",
        "        margin-right:auto;\n",
        "    }\n",
        "    .CodeMirror{\n",
        "            font-family: \"Source Code Pro\", source-code-pro,Consolas, monospace;\n",
        "    }\n",
        "    .prompt{\n",
        "        display: None;\n",
        "    }\n",
        "    .text_cell_render h5 {\n",
        "        font-weight: 300;\n",
        "        font-size: 22pt;\n",
        "        color: #4057A1;\n",
        "        font-style: italic;\n",
        "        margin-bottom: .5em;\n",
        "        margin-top: 0.5em;\n",
        "        display: block;\n",
        "    }\n",
        "    \n",
        "    .warning{\n",
        "        color: rgb( 240, 20, 20 )\n",
        "        }  \n",
        "</style>\n",
        "<script>\n",
        "    MathJax.Hub.Config({\n",
        "                        TeX: {\n",
        "                           extensions: [\"AMSmath.js\"]\n",
        "                           },\n",
        "                tex2jax: {\n",
        "                    inlineMath: [ ['$','$'], [\"\\\\(\",\"\\\\)\"] ],\n",
        "                    displayMath: [ ['$$','$$'], [\"\\\\[\",\"\\\\]\"] ]\n",
        "                },\n",
        "                displayAlign: 'center', // Change this to 'center' to center equations.\n",
        "                \"HTML-CSS\": {\n",
        "                    styles: {'.MathJax_Display': {\"margin\": 4}}\n",
        "                }\n",
        "        });\n",
        "</script>\n"
       ],
       "metadata": {},
       "output_type": "pyout",
       "prompt_number": 1,
       "text": [
        "<IPython.core.display.HTML at 0x108435110>"
       ]
      }
     ],
     "prompt_number": 1
    },
    {
     "cell_type": "heading",
     "level": 1,
     "metadata": {},
     "source": [
      "Index"
     ]
    },
    {
     "cell_type": "markdown",
     "metadata": {},
     "source": [
      "[1. A Brief Introduction to Unix](#1.-A-Brief-Introduction-to-Unix)  \n",
      "[2. Making and breaking things in Unix](#2.-Making-and-breaking-things-in-Unix)  \n",
      "[3. Some more Unix and associated tools](#3.-Some-more-Unix-and-associated-tools)  \n",
      "[4. Summary of all commands](#4.-Summary-of-all-commands)"
     ]
    },
    {
     "cell_type": "heading",
     "level": 1,
     "metadata": {},
     "source": [
      "1. A Brief Introduction to Unix"
     ]
    },
    {
     "cell_type": "heading",
     "level": 2,
     "metadata": {},
     "source": [
      "1.1 In this section"
     ]
    },
    {
     "cell_type": "markdown",
     "metadata": {},
     "source": [
      "In this section, you will be introduced to python notebooks and the unix operating system.\n",
      "\n",
      "You should have an understanding of:\n",
      "\n",
      "1. Unix as an operating system\n",
      "2. How to change your password (`passwd`).\n",
      "3. Directory structures in unix\n",
      "4. Relative and absolute pathnames\n",
      "5. The role and meaning of the characters `~` `.` and `..` (*twiddle*, *dot* and *dot-dot*)\n",
      "6. The unix commands `pwd`, `cd`, and `ls`"
     ]
    },
    {
     "cell_type": "heading",
     "level": 4,
     "metadata": {},
     "source": [
      "Commands in this section"
     ]
    },
    {
     "cell_type": "markdown",
     "metadata": {},
     "source": [
      "\\[[`cd`](#cd)\\]    : change directory   \n",
      "\\[[`.` ](#dot)\\]: dot (current level)   \n",
      "\\[[`..`](#dotdot)\\] : dot dot (up one level)   \n",
      "\\[[`ls`](#passwd)\\] : change password    \n",
      "\\[[`passwd`](#ls)\\]  : list    \n",
      "\\[[`pwd` ](#pwd)\\]: print working directory  \n",
      "\\[[`~` ](#twiddle)\\]: tilde (twiddle) - home  "
     ]
    },
    {
     "cell_type": "heading",
     "level": 2,
     "metadata": {},
     "source": [
      "1.2 Unix"
     ]
    },
    {
     "cell_type": "markdown",
     "metadata": {},
     "source": [
      "\n",
      "This course will be taught mainly under a Unix operating system. The operating system allows you access to the running of the computer (and associated devices on the network), and enables you to be able to control what you want the computer to do. \n",
      "\n",
      "There is some overhead to learning this (like learning a new language), but we will introduce you to the basic operations you will need in this session.\n",
      "\n",
      "There are many online tutorials on unix. A good place to start backup material and some more features for the material we will cover today is [software-carpentry.org](http://software-carpentry.org/v3/shell01.html)\n"
     ]
    },
    {
     "cell_type": "heading",
     "level": 3,
     "metadata": {},
     "source": [
      "1.2.1 Using these notes"
     ]
    },
    {
     "cell_type": "markdown",
     "metadata": {},
     "source": [
      "The interface for these notes is done using something called *ipython notebooks*, that we will return more to later.\n",
      "\n",
      "Not surprisingly, this is mainly aimed at running commands in the python programming language.\n",
      "\n",
      "In this section of the notes, we will be using *unix* commands, where we are working directly with the operating system (rather than in the python language and environment that is on top of the underlying system). \n",
      "\n",
      "One really convenient feature of ipython notebooks is that you, the student, can simply download then (using the `Download notebook` button in the corner of the browser display) and then run them on your local computer. When you have downloaded a notebook, you can use it by typing:\n",
      "\n",
      "`berlin% ipython notebook`  \n",
      "\n",
      "which will open a web browser with an interface tou your notebooks.\n",
      "\n",
      "You *can* execute ('run') each block of code by selecting the code block (click on it) and simply hitting the return key. This conveniently works with basic unix commands as well as python commands.\n",
      "\n",
      "As an example of some commands we will use later"
     ]
    },
    {
     "cell_type": "code",
     "collapsed": false,
     "input": [
      "cd ~"
     ],
     "language": "python",
     "metadata": {},
     "outputs": [
      {
       "output_type": "stream",
       "stream": "stdout",
       "text": [
        "/Users/plewis\n"
       ]
      }
     ],
     "prompt_number": 2
    },
    {
     "cell_type": "code",
     "collapsed": false,
     "input": [
      "pwd"
     ],
     "language": "python",
     "metadata": {},
     "outputs": [
      {
       "metadata": {},
       "output_type": "pyout",
       "prompt_number": 3,
       "text": [
        "u'/Users/plewis'"
       ]
      }
     ],
     "prompt_number": 3
    },
    {
     "cell_type": "markdown",
     "metadata": {},
     "source": [
      "These two commands (`cd ~` and `pwd`) are *unix* commands (that we happen to have run here through the ipython interpreter). You can, as we have suggested, simply download the notebook and hit `<return>` to run these, but to get used to using the underlying operatoring system, you will want to open a *terminal* or *shell tool* (or `xterm` in some cases). This is a 'window' which has a *command line prompt* at which you can type and execute unix commands.\n",
      "\n",
      "It will look something like this:"
     ]
    },
    {
     "cell_type": "markdown",
     "metadata": {},
     "source": [
      "![](files/images/terminal.png)"
     ]
    },
    {
     "cell_type": "markdown",
     "metadata": {},
     "source": [
      "where, in this case the command line prompt is `pallas% `, where `pallas` happens to be the name of one of the computers we might use. \n",
      "\n",
      "You type the commands at the prompt, then hit `<return>` (i.e. the return key) to execute (run) the command.\n",
      "\n",
      "When you open a new 'terminal', you will usually be *located* in your *home directory*. We will discuss this further below.\n",
      "\n",
      "Let's check that now, and introduce the command `pwd` (print working directory) that will print (in the terminal) where we currently are working."
     ]
    },
    {
     "cell_type": "markdown",
     "metadata": {},
     "source": [
      "![](files/images/terminal1.png)"
     ]
    },
    {
     "cell_type": "markdown",
     "metadata": {},
     "source": [
      "So, whilst you *can* simply hit `<enter>` in the code blocks here, we will want you to run the unix commands in todays session in a terminal.\n",
      "\n",
      "**Open a terminal now, and run the command `pwd` to get used to this.**"
     ]
    },
    {
     "cell_type": "heading",
     "level": 2,
     "metadata": {},
     "source": [
      "1.3 What is Unix?"
     ]
    },
    {
     "cell_type": "markdown",
     "metadata": {},
     "source": [
      "UNIX is a multi-user operating system: that is, a suite of programs which run on a computer and allows interface to the hardware and software available. It allows many users to share a powerful machine and all the available resources, each user running their own processes simultaneously. This true multi-tasking aspect of UNIX allows a far greater flexibility than is possible with other operating systems, even more recent multi-tasking versions of popular PC operating systems (note that the linux is simply a \u2018flavour\u2019 of UNIX & that the Mac operating system OS-X has a good deal of UNIX system within it). The advantages of a truly flexible multi-tasking operating system has been demonstrated with the popularity of UNIX in the scientific, engineering and financial communities, along with the rise of Linux and OS-X.\n",
      "\n",
      "X11 is the windowing system that you will generally use to interface with the operating system. A key aspect of this has always been the idea of remote graphical user interfaces via X11, which allows a user to run and visualise processes on different Unix machines. You are not limited to accessing the computer you are sat in front of, but can easily make wider use of local or external resources. You will find this useful as you can log on to the UCL Geography Unix computers from outside UCL (from pretty well any other operating system) and (with appropriate X11 software such as cygwin or exceed, if you are working from a Windows computer, or directly from any Unix/linux computer os OS-X machine) run windowing sessions the same as if you were physically at the UCL computer (given sufficient bandwidth)."
     ]
    },
    {
     "cell_type": "heading",
     "level": 3,
     "metadata": {},
     "source": [
      "1.3.1 Workstations and networks"
     ]
    },
    {
     "cell_type": "markdown",
     "metadata": {},
     "source": [
      "Workstations that run UNIX are not like the way most people use PCs running Windows... At any time of the day or night a UNIX machine is running literally hundreds of processes simultaneously: Some are long-term user processes (such as research experiments) placed at low priority to avoid affecting other users, which may run for weeks, but most are concerned with the second by second activities of maintaining the network.\n",
      "\n",
      "Physically, the network consists of 'wires' (ethernet cables, phone lines, fibre-optic cables etc.) or wireless connections (locally and externally) running between computers both at local and remote sites. At the local level (within a University Dept. for example) the wires literally connect every machine to every other, either in a loop, or in a star-like arrangement with machines linked around central communications hubs. Such arrangements of connections, machines and attached peripheral devices is known as a Local Area Network or LAN. Larger arrangements of connections, for instance between departments in a university rather than individual computers, are known as Wide Area Networks or WANs.\n",
      "\n",
      "It is through this ability to transparently network computers together that UNIX really gains its power. Very often the data a user processes on one computer is actually stored on another (a paradigm that has (indirectly) led to the development of the Internet and World Wide Web). Similarly it is commonplace to process data on one machine whilst physically sitting in quite a different location (even on a different continent!). The limiting idea of the machine that you are sitting in front of being the machine you are using for processing (as in the PC-based computing environment) is very much obsolete in the case of UNIX computing. Using the network, it is also possible to break large processes into a number of smaller jobs and distribute them across multiple machines simultaneously, thereby reducing execution times dramatically. In a properly set-up UNIX LAN network, the storage of a users data on a remote machine, or their working on a remote machine should be a relatively transparent operation. Such concepts of networking are not confined to UNIX machines, although UNIX (in all its varieties) is far and away the most common from of operating system used for wide area networking.\n",
      "\n",
      "Because a UNIX machine never stops processing, the are **never switched off** by anyone other than the system manager or a relevant member of staff. Simply switching off as you might with a PC can cause irreparable damage to a UNIX machine and/or the data stored on it - remember, your data/project could be on the disk you just killed, so don\u2019t do it! If you think that there is something wrong with a machine, do not attempt to fix it yourself: call or email the system manager or ask a knowledgeable person for advice. Under no circumstances should you attempt to reboot a workstation yourself, as unless shut down properly damage to data, both yours and that of others is likely to result.\n",
      "\n",
      "Many workstations you will come across have a simple power-saving device: the screen turns itself off if the keyboard hasn\u2019t been used for a few minutes. To turn the screen back on, simply press a key on the keyboard such as shift, ctrl or the space bar. Often the monitor will have been turned off by the last user to save power (and to stop the lab heating up!) - in most cases, the monitors have a switch or button located on the lower right front of the monitor. If the monitor is on, a small green LED will light up. This is the only switch you should ever touch on the workstations. If it\u2019s not on the front of the monitor, please leave it alone."
     ]
    },
    {
     "cell_type": "heading",
     "level": 3,
     "metadata": {},
     "source": [
      "1.3.2 Accounts and passwords"
     ]
    },
    {
     "cell_type": "heading",
     "level": 4,
     "metadata": {},
     "source": [
      "passwd"
     ]
    },
    {
     "cell_type": "markdown",
     "metadata": {},
     "source": [
      "The UNIX prompt is a sequence of characters that the part of the operating system (OS) that you interact with, known as the *shell*, places at the start of each line when it is expecting you to enter a command. Often this prompt will be formed by the name of the machine to which you are logged in, followed by a `%` sign. For instance:"
     ]
    },
    {
     "cell_type": "raw",
     "metadata": {},
     "source": [
      "berlin%"
     ]
    },
    {
     "cell_type": "markdown",
     "metadata": {},
     "source": [
      "which will indicate that you are logged on through a window (which you might call a terminal or a shell though these are subtly different things).\n",
      "\n",
      "The nature of the prompt will vary from system to system, but the Geography machines have a prompt as above. When you become experienced you can customise the prompt to your own liking. The cursor (a small solid rectangle or underscore symbol) placed after the prompt tells you where your current typing position is (clicking in the window with the mouse doesn\u2019t mover the cursor - it always remians at the end of the current line you\u2019re on). The current line with the prompt is therefore known as the command line. Depending on the particular shell you are using and the sort of keyboard you have, you may be able to use up and down arrows to quickly go back through commands that you have typed at that prompt (in that shell session) (i.e. your history)."
     ]
    },
    {
     "cell_type": "markdown",
     "metadata": {},
     "source": [
      "The first time you log in, you will be given a default password (this is the same for all students).\n",
      "\n",
      "You should make sure that you change your password as soon as possible, but this needs to be something you will remember (as with all passwords) and secure enough that it can't easily be guessed.\n",
      "You could possibkly use the same password that you have for your ucl system account (or a variant of it). UCL will force you to change it every 3-6 months, so make sure youy also change your password on the system here. If you forget your password, you will need to see or email the system manager to get them to reset it (it is encrypted so they can't know what it is, but they can reset it).\n",
      "\n",
      "To change your password, type `passwd` at the command prompt and follow the instructions:"
     ]
    },
    {
     "cell_type": "raw",
     "metadata": {},
     "source": [
      "berlin% passwd"
     ]
    },
    {
     "cell_type": "heading",
     "level": 3,
     "metadata": {},
     "source": [
      "1.3.3 Logging out"
     ]
    },
    {
     "cell_type": "markdown",
     "metadata": {},
     "source": [
      "When you have finished your session at the computer, you must log off. To achieve this from a remote PC/Mac connection, simply type logout or exit at the prompt. From within a windowing session at the machine itself, select the logout option from your root menu (see the section on the windowing system for more details), and then confirm the logout by clicking on yes. If you leave yourself logged on then other people may come along and use your account, access your email etc. Whilst in a University environment this is not necessarily a problem - the next user will probably come along and log you out so that they can log on themselves it is important to log out so that other people don\u2019t waste time wondering whether you have finished, or have just popped out for a few minutes. Don\u2019t lock your workstation - this is anti-social behaviour as it prevents anyone else using it, and if we see it we\u2019ll log you out anyway, and probably take all your pocket money away. If you leave for more than a few minutes, log yourself out. One of the advantages of a UNIX system is that you can leave a job running in the \u2018background\u2019 (don\u2019t worry, we\u2019ll get to that later) which means it\u2019ll keep running for as long as you want even after you log out."
     ]
    },
    {
     "cell_type": "heading",
     "level": 2,
     "metadata": {},
     "source": [
      "1.4 The UNIX file system"
     ]
    },
    {
     "cell_type": "markdown",
     "metadata": {},
     "source": [
      "All information in UNIX, whether it is a program, data or text, is stored in files. These files are maintained by the operating system on hard disks (usually), and read into the computer\u2019s memory when required. Files may be grouped together in directories (equivalent to folders), and these directories may themselves contain other directories and/or files. In fact, directories are really a special kind of file, but the user perceives the whole structure as forming a hierarchy of files and directories. This hierarchy is known as the filesystem. When UNIX computers are networked, the filesystem is not contained within one single machine, but spans the entire network. Each file and directory within the network filesystem is addressable via its own unique name - its filename, or directory name, and to the user the fact that the filesystem straddles multiple machines and hard disks goes largely unnoticed.\n",
      "\n",
      "The filesystem may be visualised as the roots of a tree. At the very top level of the filesystem on each individual machine resides the root directory, denoted / (slash).\n",
      "\n",
      "Beneath this directory lie the other directories containing files and further directories, including data and references to data stored elsewhere on the network."
     ]
    },
    {
     "cell_type": "markdown",
     "metadata": {},
     "source": [
      "![](https://raw.github.com/profLewis/geogg122/master/diagramSystem1.png)"
     ]
    },
    {
     "cell_type": "heading",
     "level": 3,
     "metadata": {},
     "source": [
      "1.4.1 Absolute and relative path names"
     ]
    },
    {
     "cell_type": "heading",
     "level": 4,
     "metadata": {},
     "source": [
      "dotdot"
     ]
    },
    {
     "cell_type": "markdown",
     "metadata": {},
     "source": [
      "We have already mentioned that every file or directory in the filesystem is uniquely addressable by its filename or directory name. In fact a file\u2019s full name is a description of the path from the root of the file system to the file itself. For instance, the directory `plewis` under the `home` directory has the full name:"
     ]
    },
    {
     "cell_type": "raw",
     "metadata": {},
     "source": [
      "/home/plewis"
     ]
    },
    {
     "cell_type": "markdown",
     "metadata": {},
     "source": [
      "Note that as well as being the root of the filesystem, `/` is also used as a directory separator for full filenames and paths (note that is the opposite of the Windows/DOS directory separator `\\`). Here the directory `plewis` is reached by starting at the root of the system, `/`, going into the `home` directory. A directory contained within another directory is known as a sub-directory of its parent, or container, directory. The `/home/` section of the full filename is known as the absolute path(name) to the file - absolute because it starts at the root of the system. With this nomenclature we are able to move around the filesystem.  \n",
      "\n",
      "Similarly, relative pathnames are permissible, describing the route to another path or directory from the current directory: the file `country.dat` in the directory `/home/plewis` may be addressed either absolutely as:"
     ]
    },
    {
     "cell_type": "raw",
     "metadata": {},
     "source": [
      "/home/plewis/country.dat"
     ]
    },
    {
     "cell_type": "markdown",
     "metadata": {},
     "source": [
      "or relative to e.g. the directory `/home/mdisney` as:"
     ]
    },
    {
     "cell_type": "raw",
     "metadata": {},
     "source": [
      "../plewis/country.dat"
     ]
    },
    {
     "cell_type": "markdown",
     "metadata": {},
     "source": [
      "where `..` is a special symbol meaning \u2018up one directory level\u2019. An analogy is the address of your next door neighbour\u2019s house. If you wanted to tell a friend what next door\u2019s address is, you could give them the house number, the street, the city, the post code, and even the country. That\u2019s the absolute path name to your neighbour\u2019s house. Of course it\u2019s much easier to specify \u201cone house up from mine\u201d or \u201cnumber 18\u201d etc. This is the relative path (relative to yours)."
     ]
    },
    {
     "cell_type": "heading",
     "level": 4,
     "metadata": {},
     "source": [
      "dot"
     ]
    },
    {
     "cell_type": "markdown",
     "metadata": {},
     "source": [
      "Since `..` (dot-dot) means 'up one level' in unix, we can also note at this point that the symbol `.` (dot) means 'the current directory', so:"
     ]
    },
    {
     "cell_type": "raw",
     "metadata": {},
     "source": [
      "./country.dat"
     ]
    },
    {
     "cell_type": "markdown",
     "metadata": {},
     "source": [
      "would refer to a file called `country.dat` that is in the current directory."
     ]
    },
    {
     "cell_type": "heading",
     "level": 2,
     "metadata": {},
     "source": [
      "1.5 Negotiating the file system"
     ]
    },
    {
     "cell_type": "markdown",
     "metadata": {},
     "source": [
      "Each user in a UNIX network system has specific area of the filesystem belonging to them known as their home directory in which they are initially placed when they log on. Armed with a basic knowledge of the structure of the filesystem, each user is free to explore and visit almost any area of the system unless it has been specifically protected by its owner."
     ]
    },
    {
     "cell_type": "heading",
     "level": 4,
     "metadata": {},
     "source": [
      "pwd"
     ]
    },
    {
     "cell_type": "markdown",
     "metadata": {},
     "source": [
      "A good place to start is to be aware of *where you are* in the current shell.\n",
      "\n"
     ]
    },
    {
     "cell_type": "markdown",
     "metadata": {},
     "source": [
      "When you opened your shell, you should normally be in your *home* directory, which will be something like `/home/fbloggs` on our system (if your username were fbloggs) (or on a mac, under OS X, it might be `/Users/fbloggs`).\n",
      "\n",
      "The command to tell you where you are (in this shell) on the system is `pwd` (print working directory).\n",
      "\n",
      "Try this for yourself now **in a shell** and confirm that this is the case. Make sure to hit the `return` key to execute the command."
     ]
    },
    {
     "cell_type": "code",
     "collapsed": false,
     "input": [
      "pwd"
     ],
     "language": "python",
     "metadata": {},
     "outputs": [
      {
       "metadata": {},
       "output_type": "pyout",
       "prompt_number": 4,
       "text": [
        "u'/Users/plewis'"
       ]
      }
     ],
     "prompt_number": 4
    },
    {
     "cell_type": "heading",
     "level": 4,
     "metadata": {},
     "source": [
      "twiddle"
     ]
    },
    {
     "cell_type": "markdown",
     "metadata": {},
     "source": [
      "The home directory is a special place ... it's the part of the system that you 'own' and have control over.\n",
      "\n",
      "There is a special symbol in unix (formally, the *tilde* symbol `~`, though we often call it *twiddle*). In '*unix speak*' then we might refer to the home directory of the user `plewis` and '*twiddle plewis*', which we would write as `~plewis`.\n",
      "\n",
      "If you want to refer to your *own* home directory, you can shortcut this to just '*twiddle*', i.e. `~`."
     ]
    },
    {
     "cell_type": "heading",
     "level": 4,
     "metadata": {},
     "source": [
      "cd"
     ]
    },
    {
     "cell_type": "markdown",
     "metadata": {},
     "source": [
      "So, we know how to find out where we are. How do we get somewhere else on the system?\n",
      "\n",
      "To change your working directory to somewhere else, use the command `cd` (change directory).\n",
      "\n",
      "*Let's use that now (in a shell) to change our working directory to the root of the file system.*"
     ]
    },
    {
     "cell_type": "code",
     "collapsed": false,
     "input": [
      "cd /"
     ],
     "language": "python",
     "metadata": {},
     "outputs": [
      {
       "output_type": "stream",
       "stream": "stdout",
       "text": [
        "/\n"
       ]
      }
     ],
     "prompt_number": 5
    },
    {
     "cell_type": "markdown",
     "metadata": {},
     "source": [
      "which will (once you hit the return key to execute the command) change your location, your \u2018working directory\u2019 to the root directory `/`. \n",
      "\n",
      "A few things to pay attention to when first coming across this:\n",
      "\n",
      "*    first, there is space (\u2018white space\u2019 as we call it) between the command cd and the \u2018argument\u2019 `/`. This is one or more spaces or tab characters so that the shell can understand that you want to run the command cd and give it some extra information (where to change directory to in this case), rather than, for example typing `cd/` in which case the shell will interpret `cd/` as the command you are trying to run;\n",
      "*    second, if you think about what you want to achieve with the command, (change directory to somewhere) it should be quite apparent that apart from the command, you also need to give the shell an indication of where you want to go (`/` here) so you (normally) will have to type cd somewhere where somewhere is where you want to go. When you are first using these commands, pausing and thinking about what you want to achive is particularly important. Later, it will generally become second nature (as when you learn any new language).\n",
      "\n",
      "Now, if you type e.g.:"
     ]
    },
    {
     "cell_type": "code",
     "collapsed": false,
     "input": [
      "cd usr/bin"
     ],
     "language": "python",
     "metadata": {},
     "outputs": [
      {
       "output_type": "stream",
       "stream": "stdout",
       "text": [
        "/usr/bin\n"
       ]
      }
     ],
     "prompt_number": 6
    },
    {
     "cell_type": "markdown",
     "metadata": {},
     "source": [
      "You will change directory to the subdirectory `bin` of the subdirectory `usr` of `/`, which is the same as doing (using an absolute pathname):"
     ]
    },
    {
     "cell_type": "code",
     "collapsed": false,
     "input": [
      "cd /usr/bin"
     ],
     "language": "python",
     "metadata": {},
     "outputs": [
      {
       "output_type": "stream",
       "stream": "stdout",
       "text": [
        "/usr/bin\n"
       ]
      }
     ],
     "prompt_number": 7
    },
    {
     "cell_type": "markdown",
     "metadata": {},
     "source": [
      "These look similar at first glance, but the second importantly has a `/` at the front of the directory name, and so is an absolute pathname, whereas the first does not, so it is a relative pathname.\n",
      "\n",
      "The idea should be simple and intuitive once you get the idea of / being a separator and / being the top of the directory tree (the root directory)."
     ]
    },
    {
     "cell_type": "markdown",
     "metadata": {},
     "source": [
      "We can also practice using the symbol `.` (dot) at this point ... what does the following command do? (hint: check which directory you are in, run the command below, then chack again to see where you are)."
     ]
    },
    {
     "cell_type": "code",
     "collapsed": false,
     "input": [
      "cd ."
     ],
     "language": "python",
     "metadata": {},
     "outputs": [
      {
       "output_type": "stream",
       "stream": "stdout",
       "text": [
        "/usr/bin\n"
       ]
      }
     ],
     "prompt_number": 8
    },
    {
     "cell_type": "heading",
     "level": 4,
     "metadata": {},
     "source": [
      "ls"
     ]
    },
    {
     "cell_type": "markdown",
     "metadata": {},
     "source": [
      "The unix command to give a listing of files or directories is `ls` (list). e.g.:"
     ]
    },
    {
     "cell_type": "code",
     "collapsed": false,
     "input": [
      "cd /usr/local"
     ],
     "language": "python",
     "metadata": {},
     "outputs": [
      {
       "output_type": "stream",
       "stream": "stdout",
       "text": [
        "/usr/local\n"
       ]
      }
     ],
     "prompt_number": 9
    },
    {
     "cell_type": "code",
     "collapsed": false,
     "input": [
      "ls"
     ],
     "language": "python",
     "metadata": {},
     "outputs": [
      {
       "output_type": "stream",
       "stream": "stdout",
       "text": [
        "\u001b[35mCUDA-4.0\u001b[m\u001b[m@     \u001b[34mcuda\u001b[m\u001b[m/         \u001b[34minclude\u001b[m\u001b[m/      \u001b[34mlib\u001b[m\u001b[m/          \u001b[34mshare\u001b[m\u001b[m/\r\n",
        "\u001b[34mbin\u001b[m\u001b[m/          \u001b[34metc\u001b[m\u001b[m/          \u001b[34minfo\u001b[m\u001b[m/         \u001b[34mlibexec\u001b[m\u001b[m/      \u001b[34mtexlive\u001b[m\u001b[m/\r\n",
        "\u001b[34mboost_1_53_0\u001b[m\u001b[m/ \u001b[34mgit\u001b[m\u001b[m/          \u001b[35mitt\u001b[m\u001b[m@          \u001b[34mman\u001b[m\u001b[m/\r\n"
       ]
      }
     ],
     "prompt_number": 10
    },
    {
     "cell_type": "markdown",
     "metadata": {},
     "source": [
      "This tells us that in the system directory `/usr/local/` there are (on this particular computer) a set of directories called `bin`, `etc` and so on.\n",
      "\n",
      "We could have a look to see what is in those direcories e.g.:"
     ]
    },
    {
     "cell_type": "code",
     "collapsed": false,
     "input": [
      "ls /usr/local/share"
     ],
     "language": "python",
     "metadata": {},
     "outputs": [
      {
       "output_type": "stream",
       "stream": "stdout",
       "text": [
        "\u001b[34mdoc\u001b[m\u001b[m/         \u001b[34mgcc-4.8.0\u001b[m\u001b[m/   \u001b[34mghostscript\u001b[m\u001b[m/ \u001b[34mgraphviz\u001b[m\u001b[m/    \u001b[34mlocale\u001b[m\u001b[m/      \u001b[34mmplayer\u001b[m\u001b[m/\r\n",
        "\u001b[34memacs\u001b[m\u001b[m/       \u001b[34mgdal\u001b[m\u001b[m/        \u001b[34mgnuplot\u001b[m\u001b[m/     \u001b[34minfo\u001b[m\u001b[m/        \u001b[34mman\u001b[m\u001b[m/\r\n"
       ]
      }
     ],
     "prompt_number": 11
    },
    {
     "cell_type": "markdown",
     "metadata": {},
     "source": [
      "so we find some more sub-directories.\n",
      "\n",
      "Note that just typing:"
     ]
    },
    {
     "cell_type": "code",
     "collapsed": false,
     "input": [
      "ls"
     ],
     "language": "python",
     "metadata": {},
     "outputs": [
      {
       "output_type": "stream",
       "stream": "stdout",
       "text": [
        "\u001b[35mCUDA-4.0\u001b[m\u001b[m@     \u001b[34mcuda\u001b[m\u001b[m/         \u001b[34minclude\u001b[m\u001b[m/      \u001b[34mlib\u001b[m\u001b[m/          \u001b[34mshare\u001b[m\u001b[m/\r\n",
        "\u001b[34mbin\u001b[m\u001b[m/          \u001b[34metc\u001b[m\u001b[m/          \u001b[34minfo\u001b[m\u001b[m/         \u001b[34mlibexec\u001b[m\u001b[m/      \u001b[34mtexlive\u001b[m\u001b[m/\r\n",
        "\u001b[34mboost_1_53_0\u001b[m\u001b[m/ \u001b[34mgit\u001b[m\u001b[m/          \u001b[35mitt\u001b[m\u001b[m@          \u001b[34mman\u001b[m\u001b[m/\r\n"
       ]
      }
     ],
     "prompt_number": 12
    },
    {
     "cell_type": "markdown",
     "metadata": {},
     "source": [
      "has the same effect as typing:"
     ]
    },
    {
     "cell_type": "code",
     "collapsed": false,
     "input": [
      "ls ."
     ],
     "language": "python",
     "metadata": {},
     "outputs": [
      {
       "output_type": "stream",
       "stream": "stdout",
       "text": [
        "\u001b[35mCUDA-4.0\u001b[m\u001b[m@     \u001b[34mcuda\u001b[m\u001b[m/         \u001b[34minclude\u001b[m\u001b[m/      \u001b[34mlib\u001b[m\u001b[m/          \u001b[34mshare\u001b[m\u001b[m/\r\n",
        "\u001b[34mbin\u001b[m\u001b[m/          \u001b[34metc\u001b[m\u001b[m/          \u001b[34minfo\u001b[m\u001b[m/         \u001b[34mlibexec\u001b[m\u001b[m/      \u001b[34mtexlive\u001b[m\u001b[m/\r\n",
        "\u001b[34mboost_1_53_0\u001b[m\u001b[m/ \u001b[34mgit\u001b[m\u001b[m/          \u001b[35mitt\u001b[m\u001b[m@          \u001b[34mman\u001b[m\u001b[m/\r\n"
       ]
      }
     ],
     "prompt_number": 13
    },
    {
     "cell_type": "heading",
     "level": 2,
     "metadata": {},
     "source": [
      "1.6 Exercise Unix-1"
     ]
    },
    {
     "cell_type": "markdown",
     "metadata": {},
     "source": [
      "1. Change directory back to your home. Check where you are when you get there.  \n",
      "2. Use an appropriate unix command to find out which files and directories you have in your home.\n",
      "2. Change directory to your neighbour's home (you will need to ask them their username). Check where you are when you get there, and see what files they have.\n",
      "3. Repeat these two exercises, (a) using `~`; (b) using absolute pathnames; (c) using relative path names, perhaps throwing in the symbol `.` to make sure you understand that."
     ]
    },
    {
     "cell_type": "heading",
     "level": 2,
     "metadata": {},
     "source": [
      "1.7 Summary"
     ]
    },
    {
     "cell_type": "markdown",
     "metadata": {},
     "source": [
      "In this section, you have been introduced to the unix file system and some basic unix commands for navigation around the system."
     ]
    },
    {
     "cell_type": "heading",
     "level": 4,
     "metadata": {},
     "source": [
      "commands in this section"
     ]
    },
    {
     "cell_type": "markdown",
     "metadata": {},
     "source": [
      "\\[[`cd`](#cd)\\]    : change directory   \n",
      "\\[[`.` ](#dot)\\]: dot (current level)   \n",
      "\\[[`..`](#dotdot)\\] : dot dot (up one level)   \n",
      "\\[[`ls`](#passwd)\\] : change password    \n",
      "\\[[`passwd`](#ls)\\]  : list    \n",
      "\\[[`pwd` ](#pwd)\\]: print working directory  \n",
      "\\[[`~` ](#twiddle)\\]: tilde (twiddle) - home  "
     ]
    },
    {
     "cell_type": "heading",
     "level": 1,
     "metadata": {},
     "source": [
      "2. Making and breaking things in Unix"
     ]
    },
    {
     "cell_type": "heading",
     "level": 2,
     "metadata": {},
     "source": [
      "2.0 In this section"
     ]
    },
    {
     "cell_type": "markdown",
     "metadata": {},
     "source": [
      "In this section, you will be introduced to some new unix commands to create, copy, move and remove directories and files, as well as some concepts to start to give you more control of your environment.\n",
      "\n",
      "\\[[`chmod`](#chmod)\\] : change mode  \n",
      "\\[[`cp`](#cp)\\]     : copy  \n",
      "\\[[`df`](#df)\\] : disk free   \n",
      "\\[[`du`](#du)\\] : disk usage   \n",
      "\\[[`ls -l`](#ls--l)\\] : long listing   \n",
      "\\[[`mkdir`](#mkdir)\\] : make directory  \n",
      "\\[[`mv`](#mv)\\] : move   \n",
      "\\[[`quota`](#quota)\\] : personal disk quota  \n",
      "\\[[`rm`](#rm)\\] : remove    \n",
      "\\[[`rmdir`](#rmdir)\\] : remove (empty) directory   \n",
      "\\[[`ssh`](#ssh)\\] : secure shell   \n",
      "\\[[`*?`](#Wildcards)\\] : wildcards  \n",
      "\n",
      "If you run through this exercise multiple times, you will probably want to delete the directories `~/Data/bar`, `~/Data/foo` and `~/Data/testCp` and their contents before starting:"
     ]
    },
    {
     "cell_type": "code",
     "collapsed": false,
     "input": [
      "rm -rf ~/Data/foo"
     ],
     "language": "python",
     "metadata": {},
     "outputs": [],
     "prompt_number": 14
    },
    {
     "cell_type": "code",
     "collapsed": false,
     "input": [
      "rm -rf ~/Data/testCp"
     ],
     "language": "python",
     "metadata": {},
     "outputs": [],
     "prompt_number": 15
    },
    {
     "cell_type": "code",
     "collapsed": false,
     "input": [
      "rm -rf ~/Data/bar"
     ],
     "language": "python",
     "metadata": {},
     "outputs": [],
     "prompt_number": 16
    },
    {
     "cell_type": "heading",
     "level": 2,
     "metadata": {},
     "source": [
      "2.1 Making and removing directories"
     ]
    },
    {
     "cell_type": "heading",
     "level": 4,
     "metadata": {},
     "source": [
      "mkdir"
     ]
    },
    {
     "cell_type": "markdown",
     "metadata": {},
     "source": [
      "The command `mkdir` (make directory) is used to create ('make') a directory. You will want to do this to organise your files (e.g. put all of the files for a practical in one place). \n",
      "\n",
      "In the unix system you have here, there is (should be) a data directory (called `Data` or `DATA`). This is a large storage disk that you can use to put large exercises and data. Note that this disk is not so regularly backed up as your home directory, but it is much larger (and does not have a quota, as your home area does).\n",
      "\n",
      "Lets first move to the data directory:"
     ]
    },
    {
     "cell_type": "code",
     "collapsed": false,
     "input": [
      "cd ~/Data"
     ],
     "language": "python",
     "metadata": {},
     "outputs": [
      {
       "output_type": "stream",
       "stream": "stdout",
       "text": [
        "/Users/plewis/Data\n"
       ]
      }
     ],
     "prompt_number": 17
    },
    {
     "cell_type": "markdown",
     "metadata": {},
     "source": [
      "and check where we are:"
     ]
    },
    {
     "cell_type": "code",
     "collapsed": false,
     "input": [
      "pwd"
     ],
     "language": "python",
     "metadata": {},
     "outputs": [
      {
       "metadata": {},
       "output_type": "pyout",
       "prompt_number": 18,
       "text": [
        "u'/Users/plewis/Data'"
       ]
      }
     ],
     "prompt_number": 18
    },
    {
     "cell_type": "markdown",
     "metadata": {},
     "source": [
      "Now let's create a directory that we might call foo, and move (i.e. change directory) into it:"
     ]
    },
    {
     "cell_type": "code",
     "collapsed": false,
     "input": [
      "mkdir foo"
     ],
     "language": "python",
     "metadata": {},
     "outputs": [],
     "prompt_number": 19
    },
    {
     "cell_type": "code",
     "collapsed": false,
     "input": [
      "cd foo"
     ],
     "language": "python",
     "metadata": {},
     "outputs": [
      {
       "output_type": "stream",
       "stream": "stdout",
       "text": [
        "/Users/plewis/Data/foo\n"
       ]
      }
     ],
     "prompt_number": 20
    },
    {
     "cell_type": "markdown",
     "metadata": {},
     "source": [
      "or alternatively, to go straight there:"
     ]
    },
    {
     "cell_type": "code",
     "collapsed": false,
     "input": [
      "cd ~/Data/foo"
     ],
     "language": "python",
     "metadata": {},
     "outputs": [
      {
       "output_type": "stream",
       "stream": "stdout",
       "text": [
        "/Users/plewis/Data/foo\n"
       ]
      }
     ],
     "prompt_number": 21
    },
    {
     "cell_type": "code",
     "collapsed": false,
     "input": [
      "ls"
     ],
     "language": "python",
     "metadata": {},
     "outputs": [],
     "prompt_number": 22
    },
    {
     "cell_type": "markdown",
     "metadata": {},
     "source": [
      "There should be no files in this new directory, so ls will tell us that.\n",
      "\n",
      "It is instructive to see what happens if we try to create a directory that already exists:"
     ]
    },
    {
     "cell_type": "code",
     "collapsed": false,
     "input": [
      "mkdir ~/Data/foo"
     ],
     "language": "python",
     "metadata": {},
     "outputs": [
      {
       "output_type": "stream",
       "stream": "stdout",
       "text": [
        "mkdir: /Users/plewis/Data/foo: File exists\r\n"
       ]
      }
     ],
     "prompt_number": 23
    },
    {
     "cell_type": "markdown",
     "metadata": {},
     "source": [
      "So, the command *complains* that the file already exists.\n",
      "\n",
      "If we want to avoid this behaviour and create it is it doesn't exist or just leave it if it already does, we can use the *command line option* `-p` for `mkdir`:"
     ]
    },
    {
     "cell_type": "code",
     "collapsed": false,
     "input": [
      "mkdir -p ~/Data/foo"
     ],
     "language": "python",
     "metadata": {},
     "outputs": [],
     "prompt_number": 24
    },
    {
     "cell_type": "markdown",
     "metadata": {},
     "source": [
      "Command line options (that are normally preceeded by a `-` character or `--` in some cases) change the behaviour of a command."
     ]
    },
    {
     "cell_type": "heading",
     "level": 4,
     "metadata": {},
     "source": [
      "rmdir"
     ]
    },
    {
     "cell_type": "markdown",
     "metadata": {},
     "source": [
      "Now suppose we don't want the directory any more. \n",
      "\n",
      "To remove an *empty* directory, we use the command `rmdir` (remove directory).\n",
      "\n",
      "Its not a good idea to try to remove the directory we are in, so let's `cd` home first:"
     ]
    },
    {
     "cell_type": "code",
     "collapsed": false,
     "input": [
      "cd ~"
     ],
     "language": "python",
     "metadata": {},
     "outputs": [
      {
       "output_type": "stream",
       "stream": "stdout",
       "text": [
        "/Users/plewis\n"
       ]
      }
     ],
     "prompt_number": 25
    },
    {
     "cell_type": "code",
     "collapsed": false,
     "input": [
      "rmdir ~/Data/foo"
     ],
     "language": "python",
     "metadata": {},
     "outputs": [],
     "prompt_number": 26
    },
    {
     "cell_type": "code",
     "collapsed": false,
     "input": [
      "ls ~/Data/"
     ],
     "language": "python",
     "metadata": {},
     "outputs": [
      {
       "output_type": "stream",
       "stream": "stdout",
       "text": [
        "brdf_WW_1_A_1.kernelFiltered.dat  \u001b[34moutput\u001b[m\u001b[m/\r\n",
        "\u001b[34mmeris\u001b[m\u001b[m/                            \u001b[34mplots\u001b[m\u001b[m/\r\n",
        "\u001b[34mmsc\u001b[m\u001b[m/                              \u001b[34munix\u001b[m\u001b[m/\r\n"
       ]
      }
     ],
     "prompt_number": 27
    },
    {
     "cell_type": "markdown",
     "metadata": {},
     "source": [
      "Using the command `ls` we should be able to confirm that the directory has gone.  \n",
      "Again, it is instructive to see what happens if things 'go wrong', so let's create a directory that is not empty, and try to use rmdir to delete it:"
     ]
    },
    {
     "cell_type": "code",
     "collapsed": false,
     "input": [
      "mkdir -p ~/Data/foo/bar"
     ],
     "language": "python",
     "metadata": {},
     "outputs": [],
     "prompt_number": 28
    },
    {
     "cell_type": "markdown",
     "metadata": {},
     "source": [
      "We can see that another use of the `-p` option in `mkdir` is to allow us to create a hierarchy of directories at one shot, so now, in the directory `~/Data/foo` we have a sub-directory `~/Data/foo/bar':"
     ]
    },
    {
     "cell_type": "code",
     "collapsed": false,
     "input": [
      "ls ~/Data/foo"
     ],
     "language": "python",
     "metadata": {},
     "outputs": [
      {
       "output_type": "stream",
       "stream": "stdout",
       "text": [
        "\u001b[34mbar\u001b[m\u001b[m/\r\n"
       ]
      }
     ],
     "prompt_number": 29
    },
    {
     "cell_type": "code",
     "collapsed": false,
     "input": [
      "rmdir ~/Data/foo"
     ],
     "language": "python",
     "metadata": {},
     "outputs": [
      {
       "output_type": "stream",
       "stream": "stdout",
       "text": [
        "rmdir: /Users/plewis/Data/foo: Directory not empty\r\n"
       ]
      }
     ],
     "prompt_number": 30
    },
    {
     "cell_type": "markdown",
     "metadata": {},
     "source": [
      "So, `rmdir` complains that the directory is not empty, and so doesn't delete it. We will see below that we use another command in this case."
     ]
    },
    {
     "cell_type": "heading",
     "level": 2,
     "metadata": {},
     "source": [
      "2.2 Wildcards"
     ]
    },
    {
     "cell_type": "markdown",
     "metadata": {},
     "source": [
      "Very often, we don't want to have to refer to the *full* file or directory name. Equally, we might often want to refer to multiple filenames or directories.\n",
      "\n",
      "To do this in unix, we use *wildcards*. The wildcard symbols are: `*` and `?`.\n",
      "\n",
      "`*` is interpreted as *zero or more characters*\n",
      "`?` is a single (wildcard) character\n",
      "\n",
      "We use these to form *patterns* of filenames.\n",
      "\n",
      "So, if we wanted to get a listing of all of the files in the directory `~plewis/msc` that end with the suffix `.dat` we would type:"
     ]
    },
    {
     "cell_type": "code",
     "collapsed": false,
     "input": [
      "ls ~plewis/msc/*.dat"
     ],
     "language": "python",
     "metadata": {},
     "outputs": [
      {
       "output_type": "stream",
       "stream": "stdout",
       "text": [
        "/Users/plewis/msc/atm.dat         /Users/plewis/msc/helloWorld.dat\r\n",
        "/Users/plewis/msc/country.dat     /Users/plewis/msc/landsat.dat\r\n",
        "/Users/plewis/msc/dem.dat         /Users/plewis/msc/listing.dat\r\n",
        "/Users/plewis/msc/forest.dat      /Users/plewis/msc/max.dat\r\n",
        "/Users/plewis/msc/head.dat        /Users/plewis/msc/points.dat\r\n",
        "/Users/plewis/msc/header.dat      /Users/plewis/msc/popden.dat\r\n",
        "/Users/plewis/msc/hello.dat\r\n"
       ]
      }
     ],
     "prompt_number": 31
    },
    {
     "cell_type": "code",
     "collapsed": false,
     "input": [
      "ls ~plewis/*/l*.dat"
     ],
     "language": "python",
     "metadata": {},
     "outputs": [
      {
       "output_type": "stream",
       "stream": "stdout",
       "text": [
        "/Users/plewis/msc/landsat.dat  /Users/plewis/msc/listing.dat\r\n"
       ]
      }
     ],
     "prompt_number": 32
    },
    {
     "cell_type": "code",
     "collapsed": false,
     "input": [
      "ls ~plewis/m??/l*n?.dat"
     ],
     "language": "python",
     "metadata": {},
     "outputs": [
      {
       "output_type": "stream",
       "stream": "stdout",
       "text": [
        "/Users/plewis/msc/listing.dat\r\n"
       ]
      }
     ],
     "prompt_number": 33
    },
    {
     "cell_type": "heading",
     "level": 2,
     "metadata": {},
     "source": [
      "2.3 Copying, moving and deleting files"
     ]
    },
    {
     "cell_type": "heading",
     "level": 4,
     "metadata": {},
     "source": [
      "cp"
     ]
    },
    {
     "cell_type": "markdown",
     "metadata": {},
     "source": [
      "The command for copying a file is `cp` (copy), e.g.:"
     ]
    },
    {
     "cell_type": "code",
     "collapsed": false,
     "input": [
      "mkdir -p ~/Data/foo"
     ],
     "language": "python",
     "metadata": {},
     "outputs": [],
     "prompt_number": 34
    },
    {
     "cell_type": "code",
     "collapsed": false,
     "input": [
      "cp -n ~plewis/msc/hello.dat ~/Data/foo"
     ],
     "language": "python",
     "metadata": {},
     "outputs": [],
     "prompt_number": 35
    },
    {
     "cell_type": "markdown",
     "metadata": {},
     "source": [
      "First, we created the directory ~/Data/foo, then we used the command cp to copy a file from ~plewis/msc/hello.dat to the directory ~/Data/foo.\n",
      "\n",
      "Usually you will be able to simply type:\n",
      "\n",
      "cp ~plewis/msc/hello.dat ~/Data/foo\n",
      "\n",
      "i.e. without the -n option we have put here, but on some systems / setups you will find that cp might complain if one or more of the files you are trying to copy to already exist (this is a safety mechanism to stop you overwriting something you might not have meant to!).\n",
      "\n",
      "The -n option makes cp copy the files, but not overwrite an existing file.\n",
      "\n",
      "Note that if cp detects an attempt to copy a file to itself, the copy will fail.\n",
      "\n",
      "**Check that the file has been correctly copied using an appropriate command.** \n",
      "\n",
      "Note the *whitespace* between the command `cp` and the two *arguments* `~plewis/msc/hello.dat` and `~/Data/foo`, as well as the use of the `-n` option here.\n",
      "\n",
      "A common mistake people make when first using this command is not giving two (actually, two or more) arguments, but if you think about what information you would need to give to the computer to copy a file from somewhere to somewhere else, you will soon learn that you need at least two arguments.\n",
      "\n",
      "We can copy more than one file at a time using wildcard characters. \n",
      "\n",
      "To explore this, lets get a listing of all of the files that end with `.dat` but start with `h` in the directory `~plewis/msc`:"
     ]
    },
    {
     "cell_type": "code",
     "collapsed": false,
     "input": [
      "ls ~plewis/msc/h*.dat"
     ],
     "language": "python",
     "metadata": {},
     "outputs": [
      {
       "output_type": "stream",
       "stream": "stdout",
       "text": [
        "/Users/plewis/msc/head.dat        /Users/plewis/msc/hello.dat\r\n",
        "/Users/plewis/msc/header.dat      /Users/plewis/msc/helloWorld.dat\r\n"
       ]
      }
     ],
     "prompt_number": 36
    },
    {
     "cell_type": "markdown",
     "metadata": {},
     "source": [
      "To copy multiple files to the same place then, we could simply list the names:"
     ]
    },
    {
     "cell_type": "code",
     "collapsed": false,
     "input": [
      "cp -n ~plewis/msc/hello.dat ~plewis/msc/helloWorld.dat ~/Data/foo"
     ],
     "language": "python",
     "metadata": {},
     "outputs": [],
     "prompt_number": 37
    },
    {
     "cell_type": "markdown",
     "metadata": {},
     "source": [
      "In this case, the command has three arguments. The final argument (`~/Data/foo`) is interpreted as the place we want to copy the files *to*, and everything before that is a list of files we want to copy there\n",
      "\n",
      "If we knew we'd want all of the files `h*.dat`, then we can more simply type:"
     ]
    },
    {
     "cell_type": "code",
     "collapsed": false,
     "input": [
      "cp -n ~plewis/msc/h*.dat ~/Data/foo"
     ],
     "language": "python",
     "metadata": {},
     "outputs": [],
     "prompt_number": 38
    },
    {
     "cell_type": "markdown",
     "metadata": {},
     "source": [
      "Again, after you have done this, check to see what files are in the directory `~/Data/foo`."
     ]
    },
    {
     "cell_type": "code",
     "collapsed": false,
     "input": [
      "ls ~/Data/foo"
     ],
     "language": "python",
     "metadata": {},
     "outputs": [
      {
       "output_type": "stream",
       "stream": "stdout",
       "text": [
        "\u001b[34mbar\u001b[m\u001b[m/            head.dat        header.dat      hello.dat       helloWorld.dat\r\n"
       ]
      }
     ],
     "prompt_number": 39
    },
    {
     "cell_type": "markdown",
     "metadata": {},
     "source": [
      "You can use the option -R to do a recursive copy, i.e. copy a directory and everything below it, e.g.:"
     ]
    },
    {
     "cell_type": "code",
     "collapsed": false,
     "input": [
      "mkdir -p ~/Data/testCp"
     ],
     "language": "python",
     "metadata": {},
     "outputs": [],
     "prompt_number": 40
    },
    {
     "cell_type": "code",
     "collapsed": false,
     "input": [
      "cp -Rf ~plewis/msc ~/Data/testCp"
     ],
     "language": "python",
     "metadata": {},
     "outputs": [],
     "prompt_number": 41
    },
    {
     "cell_type": "code",
     "collapsed": false,
     "input": [
      "ls ~/Data/testCp"
     ],
     "language": "python",
     "metadata": {},
     "outputs": [
      {
       "output_type": "stream",
       "stream": "stdout",
       "text": [
        "\u001b[34mmsc\u001b[m\u001b[m/\r\n"
       ]
      }
     ],
     "prompt_number": 42
    },
    {
     "cell_type": "code",
     "collapsed": false,
     "input": [
      "ls ~/Data/testCp/msc"
     ],
     "language": "python",
     "metadata": {},
     "outputs": [
      {
       "output_type": "stream",
       "stream": "stdout",
       "text": [
        "atm.dat         forest.dat      hello.dat       listing.dat     popden.dat\r\n",
        "country.dat     head.dat        helloWorld.dat  max.dat\r\n",
        "dem.dat         header.dat      landsat.dat     points.dat\r\n"
       ]
      }
     ],
     "prompt_number": 43
    },
    {
     "cell_type": "heading",
     "level": 4,
     "metadata": {},
     "source": [
      "rm"
     ]
    },
    {
     "cell_type": "markdown",
     "metadata": {},
     "source": [
      "The command `rm` (remove) is used to remove (delete) a file. For new users, we normally set the default behaviour of this (through something called an *alias*) to `rm -i` which then prompts the user about whether they *really* wanted to delete that file.\n",
      "\n",
      "The opposite of this (i.e. force a delete) is `rm -f` that we will illustrate here."
     ]
    },
    {
     "cell_type": "code",
     "collapsed": false,
     "input": [
      "rm -f ~/Data/foo/header.dat"
     ],
     "language": "python",
     "metadata": {},
     "outputs": [],
     "prompt_number": 44
    },
    {
     "cell_type": "code",
     "collapsed": false,
     "input": [
      "ls ~/Data/foo"
     ],
     "language": "python",
     "metadata": {},
     "outputs": [
      {
       "output_type": "stream",
       "stream": "stdout",
       "text": [
        "\u001b[34mbar\u001b[m\u001b[m/            head.dat        hello.dat       helloWorld.dat\r\n"
       ]
      }
     ],
     "prompt_number": 45
    },
    {
     "cell_type": "markdown",
     "metadata": {},
     "source": [
      "so we see the file has gone from that directory.\n",
      "\n",
      "*Normally*, especially when you are just starting to use unix, you should probably avoid using the `-f` option to `rm`.\n",
      "\n",
      "As an exercise, use `rm` and wildcards to delete all of the files in `~/Data/foo` that start with `hel` and end in `.dat`, and confirm that what you wanted to happen actually has."
     ]
    },
    {
     "cell_type": "code",
     "collapsed": false,
     "input": [
      "rm -f ~/Data/foo/hel*.dat"
     ],
     "language": "python",
     "metadata": {},
     "outputs": [],
     "prompt_number": 46
    },
    {
     "cell_type": "code",
     "collapsed": false,
     "input": [
      "ls ~/Data/foo"
     ],
     "language": "python",
     "metadata": {},
     "outputs": [
      {
       "output_type": "stream",
       "stream": "stdout",
       "text": [
        "\u001b[34mbar\u001b[m\u001b[m/      head.dat\r\n"
       ]
      }
     ],
     "prompt_number": 47
    },
    {
     "cell_type": "markdown",
     "metadata": {},
     "source": [
      "You can use the option `-R` to make `rm` do a hierarchical ('recursive') deletion, e.g. delete everything from some directory downwards.\n",
      "\n",
      "This can be rather a dangerous command to use, as you might (if you are not careful) delete everything on your system, but of course it is of great practical use.\n",
      "\n",
      "But we will use it here to delete the directory `~/Data/foo` and all of its contents."
     ]
    },
    {
     "cell_type": "code",
     "collapsed": false,
     "input": [
      "rm -Rf ~/Data/foo"
     ],
     "language": "python",
     "metadata": {},
     "outputs": [],
     "prompt_number": 48
    },
    {
     "cell_type": "code",
     "collapsed": false,
     "input": [
      "ls  ~/Data/"
     ],
     "language": "python",
     "metadata": {},
     "outputs": [
      {
       "output_type": "stream",
       "stream": "stdout",
       "text": [
        "brdf_WW_1_A_1.kernelFiltered.dat  \u001b[34mplots\u001b[m\u001b[m/\r\n",
        "\u001b[34mmeris\u001b[m\u001b[m/                            \u001b[34mtestCp\u001b[m\u001b[m/\r\n",
        "\u001b[34mmsc\u001b[m\u001b[m/                              \u001b[34munix\u001b[m\u001b[m/\r\n",
        "\u001b[34moutput\u001b[m\u001b[m/\r\n"
       ]
      }
     ],
     "prompt_number": 49
    },
    {
     "cell_type": "markdown",
     "metadata": {},
     "source": [
      "so now its gone."
     ]
    },
    {
     "cell_type": "heading",
     "level": 4,
     "metadata": {},
     "source": [
      "mv"
     ]
    },
    {
     "cell_type": "markdown",
     "metadata": {},
     "source": [
      "If we want to *move* files or directories or *rename* them, then you should use the `mv` (move) command.\n",
      "\n",
      "Let's make a new directories `~/Data/bar`, `~/Data/foo` and copy some files into `~/Data/bar`:"
     ]
    },
    {
     "cell_type": "code",
     "collapsed": false,
     "input": [
      "mkdir -p ~/Data/bar ~/Data/foo"
     ],
     "language": "python",
     "metadata": {},
     "outputs": [],
     "prompt_number": 50
    },
    {
     "cell_type": "code",
     "collapsed": false,
     "input": [
      "cp -n ~plewis/msc/h*dat ~/Data/bar"
     ],
     "language": "python",
     "metadata": {},
     "outputs": [],
     "prompt_number": 51
    },
    {
     "cell_type": "markdown",
     "metadata": {},
     "source": [
      "You should check that the files you expect to see in `~/Data/bar` are there:"
     ]
    },
    {
     "cell_type": "code",
     "collapsed": false,
     "input": [
      "ls ~/Data/bar"
     ],
     "language": "python",
     "metadata": {},
     "outputs": [
      {
       "output_type": "stream",
       "stream": "stdout",
       "text": [
        "head.dat        header.dat      hello.dat       helloWorld.dat\r\n"
       ]
      }
     ],
     "prompt_number": 52
    },
    {
     "cell_type": "markdown",
     "metadata": {},
     "source": [
      "Now, let's move the files `hello.dat` and `helloWorld.dat` into a directory `~/Data/foo` (using wildcards):"
     ]
    },
    {
     "cell_type": "code",
     "collapsed": false,
     "input": [
      "mv -n ~/Data/bar/hello*dat ~/Data/foo"
     ],
     "language": "python",
     "metadata": {},
     "outputs": [],
     "prompt_number": 53
    },
    {
     "cell_type": "code",
     "collapsed": false,
     "input": [
      "ls ~/Data/bar ~/Data/foo"
     ],
     "language": "python",
     "metadata": {},
     "outputs": [
      {
       "output_type": "stream",
       "stream": "stdout",
       "text": [
        "/Users/plewis/Data/bar:\r\n",
        "head.dat    header.dat\r\n",
        "\r\n",
        "/Users/plewis/Data/foo:\r\n",
        "hello.dat       helloWorld.dat\r\n"
       ]
      }
     ],
     "prompt_number": 54
    },
    {
     "cell_type": "markdown",
     "metadata": {},
     "source": [
      "To use `mv` to rename a file is in effect the same as moving it to a file of a different name:"
     ]
    },
    {
     "cell_type": "code",
     "collapsed": false,
     "input": [
      "mv ~/Data/bar/head.dat ~/Data/bar/tail.dat"
     ],
     "language": "python",
     "metadata": {},
     "outputs": [],
     "prompt_number": 55
    },
    {
     "cell_type": "code",
     "collapsed": false,
     "input": [
      "ls ~/Data/bar"
     ],
     "language": "python",
     "metadata": {},
     "outputs": [
      {
       "output_type": "stream",
       "stream": "stdout",
       "text": [
        "header.dat  tail.dat\r\n"
       ]
      }
     ],
     "prompt_number": 56
    },
    {
     "cell_type": "heading",
     "level": 2,
     "metadata": {},
     "source": [
      "2.4 Getting more control"
     ]
    },
    {
     "cell_type": "markdown",
     "metadata": {},
     "source": [
      "You should now have some understanding of the main unix commands for dealing with directories and files. \n",
      "\n",
      "We will now introduce a few concepts that give you more control over what you are doing on the system.\n",
      "\n",
      "**NOTE**: Although in the examples above, we have been able to type some basic system commands into the python, we can't do this for some of the commands we will use below. A more general interface to unix (shell) commands from a python prompt involves putting an exclamation mark (`!`, known as *'bang'*) in front of the command. In these notes then, where you see *bang* (`!`) in front of a command, you leave that out when using the command at the unix prompt. e.g.:"
     ]
    },
    {
     "cell_type": "code",
     "collapsed": false,
     "input": [
      "!ls ~/Data/foo"
     ],
     "language": "python",
     "metadata": {},
     "outputs": [
      {
       "output_type": "stream",
       "stream": "stdout",
       "text": [
        "hello.dat      helloWorld.dat\r\n"
       ]
      }
     ],
     "prompt_number": 57
    },
    {
     "cell_type": "markdown",
     "metadata": {},
     "source": [
      "You can also run shell commands by invoking the `bash` shell:"
     ]
    },
    {
     "cell_type": "code",
     "collapsed": false,
     "input": [
      "%%bash\n",
      "ls ~/Data/foo"
     ],
     "language": "python",
     "metadata": {},
     "outputs": [
      {
       "output_type": "stream",
       "stream": "stdout",
       "text": [
        "hello.dat\n",
        "helloWorld.dat\n"
       ]
      }
     ],
     "prompt_number": 58
    },
    {
     "cell_type": "heading",
     "level": 4,
     "metadata": {},
     "source": [
      "quota"
     ]
    },
    {
     "cell_type": "markdown",
     "metadata": {},
     "source": [
      "We mentioned above that your home directories have a quota associated with them. This means that when you try to go over that quota, you will no longer be able to write to your home area.\n",
      "\n",
      "This can be a cause of confusion with new students, in particular because when you log into to a windowing session on the unix computers, several files tend to be written to your user area on startup. So, if you are over your quota, you will find that your attempt to login fails. This can be confusing because you may just imagine that the system is 'broken', or perhaps you have typed the wrong password. These are things that *can* happen of course, but by far the most common reason for your being unable to log in to a windowing session (and probably somethiong that will happen to most of you at some point over the year) is that you have gone over your quota.\n",
      "\n",
      "The unix command to check your quota is, helpfully, `quota`, though you would usually use the `-v` option:"
     ]
    },
    {
     "cell_type": "code",
     "collapsed": false,
     "input": [
      "%%bash\n",
      "quota -v"
     ],
     "language": "python",
     "metadata": {},
     "outputs": [
      {
       "output_type": "stream",
       "stream": "stdout",
       "text": [
        "Disk quotas for user plewis (uid 501): none\n"
       ]
      },
      {
       "output_type": "stream",
       "stream": "stderr",
       "text": [
        "dyld: DYLD_ environment variables being ignored because main executable (/usr/bin/quota) is setuid or setgid\n"
       ]
      }
     ],
     "prompt_number": 59
    },
    {
     "cell_type": "markdown",
     "metadata": {},
     "source": [
      "If you happen to be on a system where no quota is set (e.g. your own computer), this command will tell you that."
     ]
    },
    {
     "cell_type": "heading",
     "level": 4,
     "metadata": {},
     "source": [
      "ssh"
     ]
    },
    {
     "cell_type": "markdown",
     "metadata": {},
     "source": [
      "That's all very well to be able to find out if you are over your quota, but how can you do that if you can't log in?\n",
      "\n",
      "Well, in that case, you need to find another terminal somewhere (e.g. 'borrow' a window on another user's display, with their permission) and you can check it from there.\n",
      "\n",
      "One way to do this is to use the command `ssh` which you can use to spawn a process on a remote machine.\n",
      "\n",
      "For example, you have tried to log in to a computer called `berlin.geog.ucl.ac.uk` but the login fails. You then go to a friend who is logged in to another computer and ask if you can check your quota from there. You open a new terminal, and use `ssh` (secure shell):\n",
      "\n",
      "```bash\n",
      "ssh plewis@berlin.geog.ucl.ac.uk \"quota -v\"\n",
      "```\n",
      "\n",
      "which will then prompt you for your password and return the result of running the command `quota -v` on the computer `berlin.geog.ucl.ac.uk` as the user `plewis` (obviously, you replace `plewis` by your user name).\n",
      "\n",
      "Alternatively, if you just type:\n",
      "\n",
      "```bash\n",
      "ssh plewis@berlin.geog.ucl.ac.uk\n",
      "```\n",
      "\n",
      "Then this will start an interactive session as the user `plewis` (or rather, your username) on that computer and you should then be able to check your quota and fix any issues you have.\n",
      "\n",
      "We will see some further use of `ssh` later on, but knowing that you can use it to run a remote process is very useful."
     ]
    },
    {
     "cell_type": "heading",
     "level": 4,
     "metadata": {},
     "source": [
      "df"
     ]
    },
    {
     "cell_type": "markdown",
     "metadata": {},
     "source": [
      "If you are using large datasets (that you may easily be doing in remote sensing), then you should have some awareness of how much space there is on the disk. If a disk gets full or nearly full, and you attempt to write to it, you may get unexpected results. You may also waste a lot of time.\n",
      "\n",
      "The command `df` (disk free) will also tell you how much disk space there is, and how much is used. It is generally of value to use the `-h` option that gives the results in 'human readable' form e.g.:"
     ]
    },
    {
     "cell_type": "code",
     "collapsed": false,
     "input": [
      "%%bash\n",
      "df -h ~/Data"
     ],
     "language": "python",
     "metadata": {},
     "outputs": [
      {
       "output_type": "stream",
       "stream": "stdout",
       "text": [
        "Filesystem     Size   Used  Avail Capacity   iused    ifree %iused  Mounted on\n",
        "/dev/disk0s2  931Gi  847Gi   83Gi    92% 222117307 21863435   91%   /\n"
       ]
      }
     ],
     "prompt_number": 60
    },
    {
     "cell_type": "markdown",
     "metadata": {},
     "source": [
      "The output of this command is also of value to you if you need to know the actual device name of some disk area. For example, what you see on the file system as e.g. `~/Data` may be physically on a device called `/dev/disk0s2`. Mostly, you won't need to know that level of detail about the system, but occasionally, and as you become more expert in using unix, you will so it is good to have these things at the back of your mind."
     ]
    },
    {
     "cell_type": "heading",
     "level": 4,
     "metadata": {},
     "source": [
      "du"
     ]
    },
    {
     "cell_type": "markdown",
     "metadata": {},
     "source": [
      "\n",
      "To check how much disk space *you are using*, use the command `du` (disk usage). Often, you would use this with the option `-s` which produces a summary. Again, it is often of value to use the `-h` option that gives the results in 'human readable' form e.g.:"
     ]
    },
    {
     "cell_type": "code",
     "collapsed": false,
     "input": [
      "%%bash\n",
      "du -sh ~/Data"
     ],
     "language": "python",
     "metadata": {},
     "outputs": [
      {
       "output_type": "stream",
       "stream": "stdout",
       "text": [
        "4.7M\t/Users/plewis/Data\n"
       ]
      }
     ],
     "prompt_number": 61
    },
    {
     "cell_type": "markdown",
     "metadata": {},
     "source": [
      "This summary disk usage information tells us (here in human readbale form) how much disk space is used in the directory `~/Data` and its subdirectories."
     ]
    },
    {
     "cell_type": "heading",
     "level": 4,
     "metadata": {},
     "source": [
      "ls -l"
     ]
    },
    {
     "cell_type": "markdown",
     "metadata": {},
     "source": [
      "We have come across the command `ls` earlier as the command to give a listing of directory contents.\n",
      "\n",
      "A useful option for the command `ls` that gives you a *long* (verbose) listing of files or directories is `ls -l` (long listing).\n",
      "\n",
      "We will first make move the directory `~/Data/bar` into the directory `~/Data/foo`, then look at a long listing of what there is in `~/Data/foo`:"
     ]
    },
    {
     "cell_type": "code",
     "collapsed": false,
     "input": [
      "%%bash\n",
      "mv ~/Data/bar ~/Data/foo\n",
      "ls -l ~/Data/foo"
     ],
     "language": "python",
     "metadata": {},
     "outputs": [
      {
       "output_type": "stream",
       "stream": "stdout",
       "text": [
        "total 16\n",
        "drwxr-xr-x  4 plewis  staff  136  1 Oct 14:53 bar\n",
        "-rw-r--r--  1 plewis  staff   14  1 Oct 14:53 hello.dat\n",
        "-rw-r--r--  1 plewis  staff   13  1 Oct 14:53 helloWorld.dat\n"
       ]
      }
     ],
     "prompt_number": 62
    },
    {
     "cell_type": "markdown",
     "metadata": {},
     "source": [
      "The long listing displays information on the owner of a file (`plewis` here), the size of the file (e.g. ~/Data/foo/hello.dat is 14 bytes), and when it was last modified (26 Sep 17:05). The first field that you see (e.g. `drwxr-xr-x`) is a series of codes that tells you about what type of file it is (d in the first element means that it is a directory) then there are three sets of three elements that may be set to `rwx` or unset as in `---`. These refer to read `r`, write `w` and execute `x` permissions for this file (or directory), so that if you see e.g. `rw-` that means that read and write permission are set but not execute. Note that directories have the `x` bit set if you are to be able to see into that directory, but you will not generally alter that.\n",
      "\n",
      "The three groupings refer to *user* `u`, *group* `g` and *other* `o`.\n",
      "\n",
      "A useful additional option to `ls` is the `-h` option, that gives file sizes in 'human readable' format (i.e. something easier to understand):"
     ]
    },
    {
     "cell_type": "code",
     "collapsed": false,
     "input": [
      "%%bash\n",
      "ls -lh ~/Data/foo"
     ],
     "language": "python",
     "metadata": {},
     "outputs": [
      {
       "output_type": "stream",
       "stream": "stdout",
       "text": [
        "total 16\n",
        "drwxr-xr-x  4 plewis  staff   136B  1 Oct 14:53 bar\n",
        "-rw-r--r--  1 plewis  staff    14B  1 Oct 14:53 hello.dat\n",
        "-rw-r--r--  1 plewis  staff    13B  1 Oct 14:53 helloWorld.dat\n"
       ]
      }
     ],
     "prompt_number": 63
    },
    {
     "cell_type": "markdown",
     "metadata": {},
     "source": [
      "where the `B` at the end of the size field tells us the size is in bytes (or `K` for Kilobytes, `M` for Megabytes, `G` for Gigabytes etc)."
     ]
    },
    {
     "cell_type": "heading",
     "level": 4,
     "metadata": {},
     "source": [
      "chmod"
     ]
    },
    {
     "cell_type": "markdown",
     "metadata": {},
     "source": [
      "So, using `ls -l` give us information on what the file (/directory) permissions are. By default this will tend to be a sensible but open `-rw-r--r--` for files, i.e. read permission for the user, groups and the rest of the world but only write permission for the user themselves. For directories, the default is generally similar, but the `x` bit is set as well.\n",
      "\n",
      "We can manipulate the file permission settings, e.g. to remove read permission for some secure piece of work we are doing, or to open up write permission for other users on some shared piece of work, using the command `chmod` (change mode).\n",
      "\n",
      "If you have followed the material above, you should have a file called `hello.dat` in the directory `~/Data/foo` (check that this is the case) and we will make a new sub-directory in there called `foobar` from which we will *remove* all write permissions. "
     ]
    },
    {
     "cell_type": "code",
     "collapsed": false,
     "input": [
      "%%bash\n",
      "mkdir -p ~/Data/foo/foobar\n",
      "ls -l ~/Data/foo\n",
      "chmod uog-w ~/Data/foo/foobar\n",
      "ls -l ~/Data/foo"
     ],
     "language": "python",
     "metadata": {},
     "outputs": [
      {
       "output_type": "stream",
       "stream": "stdout",
       "text": [
        "total 16\n",
        "drwxr-xr-x  4 plewis  staff  136  1 Oct 14:53 bar\n",
        "drwxr-xr-x  2 plewis  staff   68  1 Oct 14:53 foobar\n",
        "-rw-r--r--  1 plewis  staff   14  1 Oct 14:53 hello.dat\n",
        "-rw-r--r--  1 plewis  staff   13  1 Oct 14:53 helloWorld.dat\n",
        "total 16\n",
        "drwxr-xr-x  4 plewis  staff  136  1 Oct 14:53 bar\n",
        "dr-xr-xr-x  2 plewis  staff   68  1 Oct 14:53 foobar\n",
        "-rw-r--r--  1 plewis  staff   14  1 Oct 14:53 hello.dat\n",
        "-rw-r--r--  1 plewis  staff   13  1 Oct 14:53 helloWorld.dat\n"
       ]
      }
     ],
     "prompt_number": 64
    },
    {
     "cell_type": "markdown",
     "metadata": {},
     "source": [
      "From which we see that the `w` bit on the directory `~/Data/foo/foobar` has been removed (unset). The `uog` part refers to *user*, *group* and *other*. The `-` part means *remove* and the `w` part refers to the write bit.\n",
      "\n",
      "So, if we now try to copy or move a file into the `bar` directory, we would expect it to fail:"
     ]
    },
    {
     "cell_type": "code",
     "collapsed": false,
     "input": [
      "%%bash\n",
      "cp -f ~/Data/foo/hello.dat ~/Data/foo/foobar"
     ],
     "language": "python",
     "metadata": {},
     "outputs": [
      {
       "output_type": "stream",
       "stream": "stderr",
       "text": [
        "cp: /Users/plewis/Data/foo/foobar/hello.dat: Permission denied\n"
       ]
      }
     ],
     "prompt_number": 65
    },
    {
     "cell_type": "heading",
     "level": 2,
     "metadata": {},
     "source": [
      "2.5 Summary"
     ]
    },
    {
     "cell_type": "markdown",
     "metadata": {},
     "source": [
      "In this section, you should have learned how to deal with copying, moving files and directories and related issues such as file permissions.\n",
      "You should also have gained some understanding of how to control what is going on in the unix environment a little more.  \n",
      "\n",
      "#### Commands in this section    \n",
      "\n",
      "\\[[`chmod`](#chmod)\\] :  change mode   \n",
      "\\[[`cp`](#cp)\\] : copy   \n",
      "\\[[`df`](#df)\\] : disk free   \n",
      "\\[[`du`](#du)\\] : disk usage   \n",
      "\\[[`ls -l`](#ls--l)\\] : long listing   \n",
      "\\[[`mkdir`](#mkdir)\\] : make directory  \n",
      "\\[[`mv`](#mv)\\] : move   \n",
      "\\[[`quota`](#quota)\\] : personal disk quota  \n",
      "\\[[`rm`](#rm)\\] : remove    \n",
      "\\[[`rmdir`](#rmdir)\\] : remove (empty) directory   \n",
      "\\[[`ssh`](#ssh)\\] : secure shell   \n",
      "\\[[`*?`](#Wildcards)\\] : wildcards  "
     ]
    },
    {
     "cell_type": "heading",
     "level": 1,
     "metadata": {},
     "source": [
      "3. Some more Unix and associated tools"
     ]
    },
    {
     "cell_type": "heading",
     "level": 2,
     "metadata": {},
     "source": [
      "3.1 UNIX Command Structure, Data Flow and File Manipulation"
     ]
    },
    {
     "cell_type": "markdown",
     "metadata": {},
     "source": [
      "The previous sections dealt with the basic tools of Unix. Now, we will look at a few useful tools you have access to and some slightly more advanced concepts that again enable you to do more with the computer.  \n",
      "\n",
      "Before starting this section, let's create a directory in your `Data` area called `unix`:"
     ]
    },
    {
     "cell_type": "code",
     "collapsed": false,
     "input": [
      "%%bash\n",
      "mkdir -p ~/Data/unix"
     ],
     "language": "python",
     "metadata": {},
     "outputs": [],
     "prompt_number": 66
    },
    {
     "cell_type": "markdown",
     "metadata": {},
     "source": [
      "Remember that commands below that start with `!` (bang) should not have this symbol when you type them at the unix prompt: it is only because we are going through a python interpreter in these notes."
     ]
    },
    {
     "cell_type": "heading",
     "level": 3,
     "metadata": {},
     "source": [
      "3.1.1 Data Flow : stdin and stdout"
     ]
    },
    {
     "cell_type": "heading",
     "level": 4,
     "metadata": {},
     "source": [
      "streams"
     ]
    },
    {
     "cell_type": "markdown",
     "metadata": {},
     "source": [
      "Within unix all information is stored in files. Programs are 'told' (by the operating system) to read from and write to these files either by redirecting their input and output, or by modifying their action through the use of command line arguments or options. The channels through which the data flows to or from are known as *streams*. \n",
      "\n",
      "In the special case where data flows directly from one program into another, these channels are known as *pipes*.\n",
      "\n",
      "By default, with no options or arguments to specify otherwise, most commands will read their input form the keyboard and write their output to the screen. The data channels which attach the keyboard and the screen to the program are known as the standard input (stdin) and the standard output (stdout) respectively.\n",
      "\n",
      "Stdin and stdout can be redirected to and from files rather than the keyboard or screen using the unix `<` (\u201cread from\") and `>` (\u201cwrite to\u201d) symbols."
     ]
    },
    {
     "cell_type": "heading",
     "level": 4,
     "metadata": {},
     "source": [
      "echo"
     ]
    },
    {
     "cell_type": "markdown",
     "metadata": {},
     "source": [
      "The *shell* command `echo` will display text that you type after the command in the terminal (by default), e.g.:"
     ]
    },
    {
     "cell_type": "code",
     "collapsed": false,
     "input": [
      "%%bash\n",
      "echo \"my home is $HOME and my name is $USER\""
     ],
     "language": "python",
     "metadata": {},
     "outputs": [
      {
       "output_type": "stream",
       "stream": "stdout",
       "text": [
        "my home is /Users/plewis and my name is plewis\n"
       ]
      }
     ],
     "prompt_number": 67
    },
    {
     "cell_type": "markdown",
     "metadata": {},
     "source": [
      "Here, `HOME` is an *environment variable* that is passed through to programs to give contextual information about a users's environment (i.e. how things are set up). \n",
      "\n",
      "`USER` is another environment variable that gives your username ('login' or 'account' name). \n",
      "\n",
      "In unix shells, we refer to the *value* of an environment variable with a `$` symbol. Environment variables tend to be in upper case (capital letters) whereas another type of variable, shell variables (that refer only to a particular shell) are in lower case (small letters).\n",
      "\n",
      "Often, we would put quotes around the text:"
     ]
    },
    {
     "cell_type": "code",
     "collapsed": false,
     "input": [
      "%%bash\n",
      "echo \"hello world $USER\""
     ],
     "language": "python",
     "metadata": {},
     "outputs": [
      {
       "output_type": "stream",
       "stream": "stdout",
       "text": [
        "hello world plewis\n"
       ]
      }
     ],
     "prompt_number": 68
    },
    {
     "cell_type": "markdown",
     "metadata": {},
     "source": [
      "This makes it a bit neater to see what we are doing, but is not strictly necessary in this case. \n",
      "\n",
      "There are different quotes that we use in unix. The double quote `\"` allows shell variables to be interpreted in the *string* enclosed by the quotes, but a single quote `'` does not."
     ]
    },
    {
     "cell_type": "code",
     "collapsed": false,
     "input": [
      "%%bash\n",
      "echo 'hello world $USER'"
     ],
     "language": "python",
     "metadata": {},
     "outputs": [
      {
       "output_type": "stream",
       "stream": "stdout",
       "text": [
        "hello world $USER\n"
       ]
      }
     ],
     "prompt_number": 69
    },
    {
     "cell_type": "heading",
     "level": 4,
     "metadata": {},
     "source": [
      "stdout"
     ]
    },
    {
     "cell_type": "markdown",
     "metadata": {},
     "source": [
      "So, when we use the unix command `echo`, the *result* of running that command appears in the terminal we are using.\n",
      "\n",
      "In fact, it is directed to the standard output channel `stdout`, which allows us to redirect it, e.g. to a file:"
     ]
    },
    {
     "cell_type": "code",
     "collapsed": false,
     "input": [
      "%%bash\n",
      "echo \"hello world\" > ~/Data/unix/hello.dat"
     ],
     "language": "python",
     "metadata": {},
     "outputs": [],
     "prompt_number": 70
    },
    {
     "cell_type": "markdown",
     "metadata": {},
     "source": [
      "Now, nothing should have appeared in the terminal ... the text resulting from the `echo` command went instead to the file `~/Data/unix/hello.dat`. \n",
      "\n",
      "We can check to see how big this file is to see if that makes sense:"
     ]
    },
    {
     "cell_type": "code",
     "collapsed": false,
     "input": [
      "%%bash\n",
      "ls -lh ~/Data/unix/hello.dat"
     ],
     "language": "python",
     "metadata": {},
     "outputs": [
      {
       "output_type": "stream",
       "stream": "stdout",
       "text": [
        "-rw-r--r--  1 plewis  staff    12B  1 Oct 14:53 /Users/plewis/Data/unix/hello.dat\n"
       ]
      }
     ],
     "prompt_number": 71
    },
    {
     "cell_type": "markdown",
     "metadata": {},
     "source": [
      "We see that the file *exists* and is of size 12 bytes. "
     ]
    },
    {
     "cell_type": "heading",
     "level": 4,
     "metadata": {},
     "source": [
      "wc"
     ]
    },
    {
     "cell_type": "markdown",
     "metadata": {},
     "source": [
      "We could count up the number of characters in `\"hello world\"` and see that it has 11 (including the space). We might infer from that that the file representation uses 1 byte per character for text, which is in fact the case. The *encoding* used is normally the [ASCII character set](http://en.wikipedia.org/wiki/ASCII).\n",
      "\n",
      "Why is the file 12 bytes though? The answer is that there is an additional character at the end of the file that tells the operating system that this is the end of the file. Not surprisingly, this is called the end of file marker or more properly, end of transmission `EOT`. This is represented as by the character `^D` (`control D`) in the [ASCII character set](http://en.wikipedia.org/wiki/ASCII).\n",
      "\n",
      "Sometimes it's too much effort to count up the characters in a string or a file. In unix, we can use the command `wc` (word count):"
     ]
    },
    {
     "cell_type": "code",
     "collapsed": false,
     "input": [
      "%%bash\n",
      "wc < ~/Data/unix/hello.dat"
     ],
     "language": "python",
     "metadata": {},
     "outputs": [
      {
       "output_type": "stream",
       "stream": "stdout",
       "text": [
        "       1       2      12\n"
       ]
      }
     ],
     "prompt_number": 72
    },
    {
     "cell_type": "markdown",
     "metadata": {},
     "source": [
      "By default, this displays the number of *lines* (`1` here), *words* (`2` here) and *bytes* (`12` here) in the file.\n",
      "\n",
      "Useful modifcations of behaviour are e.g.:"
     ]
    },
    {
     "cell_type": "code",
     "collapsed": false,
     "input": [
      "%%bash\n",
      "wc -l < ~/Data/unix/hello.dat"
     ],
     "language": "python",
     "metadata": {},
     "outputs": [
      {
       "output_type": "stream",
       "stream": "stdout",
       "text": [
        "       1\n"
       ]
      }
     ],
     "prompt_number": 73
    },
    {
     "cell_type": "markdown",
     "metadata": {},
     "source": [
      "which reports only the number of lines (similarly `wc -w` for words or `wc -c` for characters)."
     ]
    },
    {
     "cell_type": "heading",
     "level": 4,
     "metadata": {},
     "source": [
      "stdin"
     ]
    },
    {
     "cell_type": "markdown",
     "metadata": {},
     "source": [
      "You may have noticed that we used the `stdin` symbol `<` here, which redirects the contents of the file `~/Data/unix/hello.dat` *into* the command `wc`."
     ]
    },
    {
     "cell_type": "heading",
     "level": 4,
     "metadata": {},
     "source": [
      "pipe"
     ]
    },
    {
     "cell_type": "markdown",
     "metadata": {},
     "source": [
      "One powerful concept in unix is the idea of *pipes*. This allows us to take the `stdout` resulting from one program and direct it to the `stdin` of another. \n",
      "\n",
      "This means we can e.g. avoid writing files out where all we want to do with the information is to pass it to another program.\n",
      "\n",
      "So, for the examples above, we could write:"
     ]
    },
    {
     "cell_type": "code",
     "collapsed": false,
     "input": [
      "%%bash\n",
      "echo \"hello world\" | wc -c"
     ],
     "language": "python",
     "metadata": {},
     "outputs": [
      {
       "output_type": "stream",
       "stream": "stdout",
       "text": [
        "      12\n"
       ]
      }
     ],
     "prompt_number": 74
    },
    {
     "cell_type": "markdown",
     "metadata": {},
     "source": [
      "where `|` is the `pipe` symbol."
     ]
    },
    {
     "cell_type": "heading",
     "level": 4,
     "metadata": {},
     "source": [
      "sed"
     ]
    },
    {
     "cell_type": "markdown",
     "metadata": {},
     "source": [
      "This sort of idea is very useful if a sequence of programs (unix commands) that you want to run essentially work as 'filters'. \n",
      "\n",
      "The command `sed` (stream editor) can be very useful in this regard for dealing with text. The syntax of `sed` can be a little awkward for users to begin with, but we will just show a few examples here."
     ]
    },
    {
     "cell_type": "code",
     "collapsed": false,
     "input": [
      "%%bash\n",
      "echo \"welcome $USER to using a computer\"\n",
      "echo \"welcome $USER to using a computer\" | sed 's/a computer/unix/'"
     ],
     "language": "python",
     "metadata": {},
     "outputs": [
      {
       "output_type": "stream",
       "stream": "stdout",
       "text": [
        "welcome plewis to using a computer\n",
        "welcome plewis to using unix\n"
       ]
      }
     ],
     "prompt_number": 75
    },
    {
     "cell_type": "markdown",
     "metadata": {},
     "source": [
      "The `s` part of the `sed` command means 'substitute'. It then changes an occurrence of the string `a computer` into the string `unix`.\n",
      "\n",
      "If you wanted to change *all* occurrences of the string, use a `g` at the end, e.g.:"
     ]
    },
    {
     "cell_type": "code",
     "collapsed": false,
     "input": [
      "%%bash\n",
      "echo \"welcome $USER to using a computer. How do you like using a computer?\" | sed 's/a computer/unix/'\n",
      "echo \"welcome $USER to using a computer. How do you like using a computer?\" | sed 's/a computer/unix/g'"
     ],
     "language": "python",
     "metadata": {},
     "outputs": [
      {
       "output_type": "stream",
       "stream": "stdout",
       "text": [
        "welcome plewis to using unix. How do you like using a computer?\n",
        "welcome plewis to using unix. How do you like using unix?\n"
       ]
      }
     ],
     "prompt_number": 76
    },
    {
     "cell_type": "heading",
     "level": 4,
     "metadata": {},
     "source": [
      "awk"
     ]
    },
    {
     "cell_type": "markdown",
     "metadata": {},
     "source": [
      "You are not limited to a single pipe of course, but can pipe through multiple commands.\n",
      "\n",
      "To illustrate this, we introduce a new command awk that is a pattern scanning and interpretation language. You can use awk (or variants such as nawk or gawk) for many things but it is particularly useful for doing operations on columns of text or data that are in ASCII (i.e. text) format. For example:"
     ]
    },
    {
     "cell_type": "code",
     "collapsed": false,
     "input": [
      "%%bash\n",
      "echo \"1 2 3 4 5\" | awk '{print $1+$3}'"
     ],
     "language": "python",
     "metadata": {},
     "outputs": [
      {
       "output_type": "stream",
       "stream": "stdout",
       "text": [
        "4\n"
       ]
      }
     ],
     "prompt_number": 77
    },
    {
     "cell_type": "markdown",
     "metadata": {},
     "source": [
      "will output the sum of numbers in columns 1 and 3. To use it below, we can note here that the term `$0` refers to the complete input string and that there is a reasonably rich syntax for performing operations on columsn of data."
     ]
    },
    {
     "cell_type": "code",
     "collapsed": false,
     "input": [
      "%%bash\n",
      "echo \"1 2 3 4 5\"\n",
      "echo \"1 2 3 4 5\" | awk '{for(i=1;i<=NF;i++)sum+=$i} END{print \"the sum is\",sum}'\n",
      "echo \"1 2 3 4 5\" | sed 's/1/one/'\n",
      "echo \"1 2 3 4 5\" | sed 's/1/one/' | sed 's/2/two/' | sed 's/3/three/' | sed 's/4/four/' \\\n",
      "                         | sed 's/5/five/' | awk '{print $0 \", once I caught a fish alive\"}'"
     ],
     "language": "python",
     "metadata": {},
     "outputs": [
      {
       "output_type": "stream",
       "stream": "stdout",
       "text": [
        "1 2 3 4 5\n",
        "the sum is 15\n",
        "one 2 3 4 5\n",
        "one two three four five, once I caught a fish alive\n"
       ]
      }
     ],
     "prompt_number": 78
    },
    {
     "cell_type": "heading",
     "level": 4,
     "metadata": {},
     "source": [
      "cat"
     ]
    },
    {
     "cell_type": "markdown",
     "metadata": {},
     "source": [
      "The unix command `cat` (concatenate) is used for a variety of purposes, but normally you will use it to *concatenate* (join together) files.\n",
      "\n",
      "If you specify a filename as `-` then the information of `stdin` is used, e.g.:"
     ]
    },
    {
     "cell_type": "code",
     "collapsed": false,
     "input": [
      "%%bash\n",
      "echo \"hello\" | cat -"
     ],
     "language": "python",
     "metadata": {},
     "outputs": [
      {
       "output_type": "stream",
       "stream": "stdout",
       "text": [
        "hello\n"
       ]
      }
     ],
     "prompt_number": 79
    },
    {
     "cell_type": "markdown",
     "metadata": {},
     "source": [
      "Let's create some files of one line and join them together."
     ]
    },
    {
     "cell_type": "code",
     "collapsed": false,
     "input": [
      "%%bash\n",
      "echo \"hello $USER\" > ~/Data/unix/hello.dat\n",
      "echo \"welcome to the world of unix\" > ~/Data/unix/hello2.dat"
     ],
     "language": "python",
     "metadata": {},
     "outputs": [],
     "prompt_number": 80
    },
    {
     "cell_type": "heading",
     "level": 4,
     "metadata": {},
     "source": [
      "date"
     ]
    },
    {
     "cell_type": "code",
     "collapsed": false,
     "input": [
      "%%bash\n",
      "date | cat - ~/Data/unix/hello.dat ~/Data/unix/hello2.dat "
     ],
     "language": "python",
     "metadata": {},
     "outputs": [
      {
       "output_type": "stream",
       "stream": "stdout",
       "text": [
        "Tue  1 Oct 2013 14:53:22 BST\n",
        "hello plewis\n",
        "welcome to the world of unix\n"
       ]
      }
     ],
     "prompt_number": 81
    },
    {
     "cell_type": "markdown",
     "metadata": {},
     "source": [
      "Here, we ran the command `date` that prints the current date (time) to `stdout`, concatenated the files `~/Data/unix/hello.dat` and `~/Data/unix/hello2.dat` to the end of this and sent the result to `stdout` (the terminal).\n",
      "\n",
      "If we wanted to send this to another file, we would simply redirect the output:"
     ]
    },
    {
     "cell_type": "code",
     "collapsed": false,
     "input": [
      "%%bash\n",
      "date | cat - ~/Data/unix/hello.dat ~/Data/unix/hello2.dat > ~/Data/unix/helloWorld.dat"
     ],
     "language": "python",
     "metadata": {},
     "outputs": [],
     "prompt_number": 82
    },
    {
     "cell_type": "markdown",
     "metadata": {},
     "source": [
      "We can also use the command `cat` to simply put the contents of its `stdin` channel to `stdout`, which is one way to display the contents of an ASCII file at the terminal."
     ]
    },
    {
     "cell_type": "code",
     "collapsed": false,
     "input": [
      "%%bash\n",
      "cat < ~/Data/unix/helloWorld.dat"
     ],
     "language": "python",
     "metadata": {},
     "outputs": [
      {
       "output_type": "stream",
       "stream": "stdout",
       "text": [
        "Tue  1 Oct 2013 14:53:23 BST\n",
        "hello plewis\n",
        "welcome to the world of unix\n"
       ]
      }
     ],
     "prompt_number": 83
    },
    {
     "cell_type": "heading",
     "level": 4,
     "metadata": {},
     "source": [
      "appending"
     ]
    },
    {
     "cell_type": "markdown",
     "metadata": {},
     "source": [
      "When we redirect `stdout` using the `>` symbol, this will create a file if it doesn't already exist, but will overwrite one if it does exist:"
     ]
    },
    {
     "cell_type": "code",
     "collapsed": false,
     "input": [
      "%%bash\n",
      "echo \"Now you see me\" > ~/Data/unix/test.dat\n",
      "cat ~/Data/unix/test.dat\n",
      "echo \"now you don't\" > ~/Data/unix/test.dat\n",
      "cat ~/Data/unix/test.dat"
     ],
     "language": "python",
     "metadata": {},
     "outputs": [
      {
       "output_type": "stream",
       "stream": "stdout",
       "text": [
        "Now you see me\n",
        "now you don't\n"
       ]
      }
     ],
     "prompt_number": 84
    },
    {
     "cell_type": "markdown",
     "metadata": {},
     "source": [
      "If you want to *append* to a file, rather than writing over the contents, you can use the `>>` symbol:"
     ]
    },
    {
     "cell_type": "code",
     "collapsed": false,
     "input": [
      "%%bash\n",
      "echo \"Now you see me\" > ~/Data/unix/test.dat\n",
      "echo \"now you still see me\" >> ~/Data/unix/test.dat\n",
      "cat ~/Data/unix/test.dat"
     ],
     "language": "python",
     "metadata": {},
     "outputs": [
      {
       "output_type": "stream",
       "stream": "stdout",
       "text": [
        "Now you see me\n",
        "now you still see me\n"
       ]
      }
     ],
     "prompt_number": 1
    },
    {
     "cell_type": "markdown",
     "metadata": {},
     "source": [
      "and you can continue adding lines in this way:"
     ]
    },
    {
     "cell_type": "code",
     "collapsed": false,
     "input": [
      "%%bash\n",
      "echo \"ad nauseam\" >> ~/Data/unix/test.dat\n",
      "cat ~/Data/unix/test.dat"
     ],
     "language": "python",
     "metadata": {},
     "outputs": [
      {
       "output_type": "stream",
       "stream": "stdout",
       "text": [
        "Now you see me\n",
        "now you still see me\n",
        "ad nauseam\n"
       ]
      }
     ],
     "prompt_number": 2
    },
    {
     "cell_type": "heading",
     "level": 4,
     "metadata": {},
     "source": [
      "more"
     ]
    },
    {
     "cell_type": "markdown",
     "metadata": {},
     "source": [
      "If the text file you are looking at has a lot of lines, it can scroll off the screen, which can be a bit frustrating.\n",
      "\n",
      "The unix command `more` lets you view a file one page at a time.\n",
      "\n",
      "First, let's create a long file:\n",
      "\n"
     ]
    },
    {
     "cell_type": "code",
     "collapsed": false,
     "input": [
      "%%bash\n",
      "echo \"this is the start of file\" > ~/Data/unix/test2.dat\n",
      "cat ~/Data/unix/test.dat >> ~/Data/unix/test2.dat\n",
      "cat ~/Data/unix/test.dat >> ~/Data/unix/test2.dat\n",
      "cat ~/Data/unix/test.dat >> ~/Data/unix/test2.dat\n",
      "cat ~/Data/unix/test.dat >> ~/Data/unix/test2.dat\n",
      "cat ~/Data/unix/test.dat >> ~/Data/unix/test2.dat\n",
      "cat ~/Data/unix/test.dat >> ~/Data/unix/test2.dat\n",
      "cat ~/Data/unix/test.dat >> ~/Data/unix/test2.dat\n",
      "cat ~/Data/unix/test.dat >> ~/Data/unix/test2.dat\n",
      "cat ~/Data/unix/test.dat >> ~/Data/unix/test2.dat\n",
      "cat ~/Data/unix/test.dat >> ~/Data/unix/test2.dat\n",
      "cat ~/Data/unix/test.dat >> ~/Data/unix/test2.dat\n",
      "cat ~/Data/unix/test.dat >> ~/Data/unix/test2.dat\n",
      "cat ~/Data/unix/test.dat >> ~/Data/unix/test2.dat\n",
      "echo \"this is the end of file\" >> ~/Data/unix/test2.dat\n",
      "cat ~/Data/unix/test2.dat"
     ],
     "language": "python",
     "metadata": {},
     "outputs": [
      {
       "output_type": "stream",
       "stream": "stdout",
       "text": [
        "this is the start of file\n",
        "Now you see me\n",
        "now you still see me\n",
        "ad nauseam\n",
        "Now you see me\n",
        "now you still see me\n",
        "ad nauseam\n",
        "Now you see me\n",
        "now you still see me\n",
        "ad nauseam\n",
        "Now you see me\n",
        "now you still see me\n",
        "ad nauseam\n",
        "Now you see me\n",
        "now you still see me\n",
        "ad nauseam\n",
        "Now you see me\n",
        "now you still see me\n",
        "ad nauseam\n",
        "Now you see me\n",
        "now you still see me\n",
        "ad nauseam\n",
        "Now you see me\n",
        "now you still see me\n",
        "ad nauseam\n",
        "Now you see me\n",
        "now you still see me\n",
        "ad nauseam\n",
        "Now you see me\n",
        "now you still see me\n",
        "ad nauseam\n",
        "Now you see me\n",
        "now you still see me\n",
        "ad nauseam\n",
        "Now you see me\n",
        "now you still see me\n",
        "ad nauseam\n",
        "Now you see me\n",
        "now you still see me\n",
        "ad nauseam\n",
        "this is the end of file\n"
       ]
      }
     ],
     "prompt_number": 5
    },
    {
     "cell_type": "markdown",
     "metadata": {},
     "source": [
      "This is probably long enough to scroll off your terminal.\n",
      "\n",
      "Instead of using `cat` to view such a file, use `more`.\n",
      "\n",
      "You can use the `space bar` to go down one page at a time, or `return` for a line at a time (also `b` to go back, `:3` to go to line 3, `/end` to search for the string `end`, etc.)"
     ]
    },
    {
     "cell_type": "code",
     "collapsed": false,
     "input": [
      "%%bash\n",
      "more ~/Data/unix/test2.dat"
     ],
     "language": "python",
     "metadata": {},
     "outputs": [
      {
       "output_type": "stream",
       "stream": "stdout",
       "text": [
        "this is the start of file\n",
        "Now you see me\n",
        "now you still see me\n",
        "ad nauseam\n",
        "Now you see me\n",
        "now you still see me\n",
        "ad nauseam\n",
        "Now you see me\n",
        "now you still see me\n",
        "ad nauseam\n",
        "Now you see me\n",
        "now you still see me\n",
        "ad nauseam\n",
        "Now you see me\n",
        "now you still see me\n",
        "ad nauseam\n",
        "Now you see me\n",
        "now you still see me\n",
        "ad nauseam\n",
        "Now you see me\n",
        "now you still see me\n",
        "ad nauseam\n",
        "Now you see me\n",
        "now you still see me\n",
        "ad nauseam\n",
        "Now you see me\n",
        "now you still see me\n",
        "ad nauseam\n",
        "Now you see me\n",
        "now you still see me\n",
        "ad nauseam\n",
        "Now you see me\n",
        "now you still see me\n",
        "ad nauseam\n",
        "Now you see me\n",
        "now you still see me\n",
        "ad nauseam\n",
        "Now you see me\n",
        "now you still see me\n",
        "ad nauseam\n",
        "this is the end of file\n"
       ]
      }
     ],
     "prompt_number": 6
    },
    {
     "cell_type": "heading",
     "level": 4,
     "metadata": {},
     "source": [
      "less"
     ]
    },
    {
     "cell_type": "markdown",
     "metadata": {},
     "source": [
      "In some ways better that `more` is `less`. Try that on the file now."
     ]
    },
    {
     "cell_type": "code",
     "collapsed": false,
     "input": [
      "%%bash\n",
      "less ~/Data/unix/test2.dat"
     ],
     "language": "python",
     "metadata": {},
     "outputs": [
      {
       "output_type": "stream",
       "stream": "stdout",
       "text": [
        "this is the start of file\n",
        "Now you see me\n",
        "now you still see me\n",
        "ad nauseam\n",
        "Now you see me\n",
        "now you still see me\n",
        "ad nauseam\n",
        "Now you see me\n",
        "now you still see me\n",
        "ad nauseam\n",
        "Now you see me\n",
        "now you still see me\n",
        "ad nauseam\n",
        "Now you see me\n",
        "now you still see me\n",
        "ad nauseam\n",
        "Now you see me\n",
        "now you still see me\n",
        "ad nauseam\n",
        "Now you see me\n",
        "now you still see me\n",
        "ad nauseam\n",
        "Now you see me\n",
        "now you still see me\n",
        "ad nauseam\n",
        "Now you see me\n",
        "now you still see me\n",
        "ad nauseam\n",
        "Now you see me\n",
        "now you still see me\n",
        "ad nauseam\n",
        "Now you see me\n",
        "now you still see me\n",
        "ad nauseam\n",
        "Now you see me\n",
        "now you still see me\n",
        "ad nauseam\n",
        "Now you see me\n",
        "now you still see me\n",
        "ad nauseam\n",
        "this is the end of file\n"
       ]
      }
     ],
     "prompt_number": 7
    },
    {
     "cell_type": "heading",
     "level": 4,
     "metadata": {},
     "source": [
      "grep"
     ]
    },
    {
     "cell_type": "markdown",
     "metadata": {},
     "source": [
      "Another very useful utility is grep ('globally search a regular expression and print'). You will commonly use this to find lines in a file that match some pattern. E.g.:"
     ]
    },
    {
     "cell_type": "code",
     "collapsed": false,
     "input": [
      "%%bash\n",
      "grep see < ~/Data/unix/test.dat"
     ],
     "language": "python",
     "metadata": {},
     "outputs": [
      {
       "output_type": "stream",
       "stream": "stdout",
       "text": [
        "Now you see me\n",
        "now you still see me\n"
       ]
      }
     ],
     "prompt_number": 87
    },
    {
     "cell_type": "markdown",
     "metadata": {},
     "source": [
      "We told `grep` to return (i.e. put on `stdout`) lines of input that contain the string `see` in this case.\n",
      "\n",
      "By default, the pattern we search for is case sensitive (so, `Now` is different from `now`).\n",
      "\n",
      "We can use the `-v` option to ignore the case (i.e. whether it is lower case or upper case):"
     ]
    },
    {
     "cell_type": "code",
     "collapsed": false,
     "input": [
      "%%bash\n",
      "grep now < ~/Data/unix/test.dat"
     ],
     "language": "python",
     "metadata": {},
     "outputs": [
      {
       "output_type": "stream",
       "stream": "stdout",
       "text": [
        "now you still see me\n"
       ]
      }
     ],
     "prompt_number": 88
    },
    {
     "cell_type": "code",
     "collapsed": false,
     "input": [
      "%%bash\n",
      "grep -i now < ~/Data/unix/test.dat"
     ],
     "language": "python",
     "metadata": {},
     "outputs": [
      {
       "output_type": "stream",
       "stream": "stdout",
       "text": [
        "Now you see me\n",
        "now you still see me\n"
       ]
      }
     ],
     "prompt_number": 89
    },
    {
     "cell_type": "markdown",
     "metadata": {},
     "source": [
      "Usefully, we can also return lines that *don't* match the pattern using the `-v` option:"
     ]
    },
    {
     "cell_type": "code",
     "collapsed": false,
     "input": [
      "%%bash\n",
      "grep -v see < ~/Data/unix/test.dat"
     ],
     "language": "python",
     "metadata": {},
     "outputs": [
      {
       "output_type": "stream",
       "stream": "stdout",
       "text": [
        "ad nauseam\n"
       ]
      }
     ],
     "prompt_number": 90
    },
    {
     "cell_type": "heading",
     "level": 4,
     "metadata": {},
     "source": [
      "stderr"
     ]
    },
    {
     "cell_type": "markdown",
     "metadata": {},
     "source": [
      "Some commands make use of the `stderr` channel for reporting information to the shell (or e.g. a log file) whilst not interfering with information going to `stdout`.\n",
      "\n",
      "To redirect the `stderr` channel to a file, use `>&` in `csh` or `tcsh` but `2>` in [`bash`](http://tldp.org/HOWTO/Bash-Prog-Intro-HOWTO-3.html) and similar shells."
     ]
    },
    {
     "cell_type": "heading",
     "level": 2,
     "metadata": {},
     "source": [
      "3.2 Creating and editing text files"
     ]
    },
    {
     "cell_type": "heading",
     "level": 3,
     "metadata": {},
     "source": [
      "3.2.1 Creating text files with cat"
     ]
    },
    {
     "cell_type": "markdown",
     "metadata": {},
     "source": [
      "A common thing you will want to do is create or edit a text file (ASCII text file).\n",
      "\n",
      "We have seen that you can redirect the standard output of unix commands to a file, so if the commands output ASCII, this is obviously one way you can create a file.\n",
      "\n",
      "We have also mentioned that the default input for `stdin` is what you type at the keyboard, so we can use that to create some text in a file.\n",
      "\n",
      "We can use the command `cat` for this.\n",
      "\n",
      "If you type `cat` at the prompt:\n",
      "\n",
      "```%berlin cat```\n",
      "\n",
      "then what you type after that will be read into `cat` and sent to `stdout`.\n",
      "\n",
      "Try that now. \n",
      "\n",
      "To end the input (end the file) we type a `^D` character (the `control` and `D` keys together).\n",
      "\n",
      "for example, type or copy and paste some text such as:\n",
      "\n",
      "```%berlin cat\n",
      "Gallia est omnis divisa in partes tres; unam\n",
      "partem incolunt Belgae, aliam Aquitani, tertiam\n",
      "qui ipsorum lingua Celtae, nostra Galli, appellantur.\n",
      "^D  ```\n",
      "\n",
      "You should find that the lines you type are 'echoed' to the terminal when you hit `return` at the end of each line. This is because you are sending information to `cat` from the keyboard (visualised in the terminal so you can see what you are typing) on `stdin` and the output is also going to the terminal on `stdout`.\n",
      "\n",
      "If you wanted to type information that will go into a file, you can redirect the output of `cat` to a file:\n",
      "\n",
      "```%berlin cat > ~/Data/unix/gettysburg.dat\n",
      "The world will little note, \n",
      "nor long remember what we say here, \n",
      "but it can never forget what they did here.\n",
      "^D  ```\n",
      "\n",
      "This will now be stored in the file `~/Data/unix/gettysburg.dat`.\n",
      "\n",
      "That's all very well, and often you will use this methbod to create some text in a file, but if you make a mistake, you will find that you can't easily edit it, which can be rather inconvenient."
     ]
    },
    {
     "cell_type": "heading",
     "level": 3,
     "metadata": {},
     "source": [
      "3.2.2 text editing"
     ]
    },
    {
     "cell_type": "markdown",
     "metadata": {},
     "source": [
      "There are many text editors available for unix, and what you use day-to-day will depend a lot on personal preferences.\n",
      "\n",
      "A short tutorial introducing some of these is available [here](https://github.com/profLewis/geogg122/blob/master/Text%20processing.pdf?raw=true).\n",
      "\n",
      "Most of these will open a new 'window', which will then have buttons and menus and other convenient gizmos, much like a word processor. Although you obviously *can* type and `process` `words` in such tools, you should remember that these are *not* really the same as word processors as the aim is to type and manipulate text represented as ASCII characters (i.e. not in MS word or rtf format or whatever). That said, some texteditors *can* store files in formats other than ASCII (e.g. rtf), and also some word processing formats are simply ASCII text representations.\n"
     ]
    },
    {
     "cell_type": "heading",
     "level": 4,
     "metadata": {},
     "source": [
      "vi"
     ]
    },
    {
     "cell_type": "markdown",
     "metadata": {},
     "source": [
      "In these notes and the associated lecture, we will introduce you to one of the **most basic** unix text editors, `vi` (which is similar to its varaint `vim` that you will sometimes come across).\n",
      "\n",
      "Whilst there is some learning overhead on this, two very good reasons for knowing the bare bones of this are:\n",
      "\n",
      "1. it is available on *any* unix system\n",
      "2. you use it through a terminal, so it doesn't require any windowing system\n",
      "\n",
      "This latter point could become important to you e.g. if you had broken or corrupted your unix installation or e.g. if you were working remotely over a connection that was slow.\n",
      "\n",
      "It is worthwhile then learning these basics,but you can also follow a good short tutorial on this called [vi for smarties](http://jerrywang.net/vi/)."
     ]
    },
    {
     "cell_type": "markdown",
     "metadata": {},
     "source": [
      "##### vi commands  \n",
      "`:w` - write  \n",
      "`:q` - quit  \n",
      "`:w somethingElse.dat` - write to file `somethingElse.dat`  \n",
      "`:wq` - write and quit  \n",
      "`:q!` - force quit (without saving)  \n",
      "`:u` - undo  \n",
      "`:100` - go to line 100 (etc)\n",
      "\n",
      "##### escape (and general panic button)\n",
      "`ESC` - exit insert mode (escape key)\n",
      "\n",
      "##### navigation (or use arrow keys)\n",
      "`h` - left  \n",
      "`j` - down  \n",
      "`k` - up  \n",
      "`l` - right  \n",
      "\n",
      "##### other\n",
      "`/` - search for (regular expression), e.g. `/here`  \n",
      "`n` - next (regular expression)  \n",
      "\n",
      "##### insert/delete\n",
      "`i` - insert (before). N.B. puts you into insert mode, until you hit `ESC`.  \n",
      "`a` - insert (after) (i.e. append) N.B. puts you into insert mode, until you hit `ESC`.\n",
      "`x` - delete current character  \n",
      "`10x` - delete next 10 characters (etc.)  \n",
      "`dw` - delete word (so, `10dw` etc)  \n",
      "`dd` - delete line (do `10dd` etc.)  \n",
      "`J` - delete end of line (so bring next line up)"
     ]
    },
    {
     "cell_type": "heading",
     "level": 3,
     "metadata": {},
     "source": [
      "3.2.3 Exercise"
     ]
    },
    {
     "cell_type": "markdown",
     "metadata": {},
     "source": [
      "Use vi now to edit a file you have created, e.g.\n",
      "\n",
      "```berlin% vi ~/Data/unix/gettysburg.dat```\n",
      "\n",
      "Practice adding some more lines, changing the words etc., and save your edited file to `~/Data/unix/myGettysburg.dat`"
     ]
    },
    {
     "cell_type": "heading",
     "level": 2,
     "metadata": {},
     "source": [
      "3.3 Process control"
     ]
    },
    {
     "cell_type": "heading",
     "level": 3,
     "metadata": {},
     "source": [
      "3.3.1 Foreground and background"
     ]
    },
    {
     "cell_type": "heading",
     "level": 4,
     "metadata": {},
     "source": [
      "foreground"
     ]
    },
    {
     "cell_type": "markdown",
     "metadata": {},
     "source": [
      "When you start a process that opens another window, you may have noticed that no prompt was returned and that any subsequent typing in the parent window was ignored until you exited the command (or it finished some other way). This was because tool you started has taken over input to and output from the parent window, or more accurately, the shell running the window. In this state the program you started is said to be running in the foreground - that is no further processes can be started from that window/shell until textedit relinquishes control.\n",
      "\n",
      "As an example, try:\n",
      "\n",
      "```berlin% xv ~plewis/msc/sar.jpg```\n",
      "\n",
      "This should open a window on your computer and display a SAR image (of Barton Bendish in Norfolk).\n",
      "\n",
      "![](files/images/sar.jpg)\n",
      "\n",
      "The problem you will find is that if you go back to the terminal you ran the command from, you will now longer be able to run any other commands.\n",
      "\n",
      "Try typing `ls` for example, your terminal will *seem* to be 'stuck':\n",
      "\n",
      "``berlin% xv ~plewis/msc/sar.jpg\n",
      "ls``\n",
      "\n",
      "The reason for this is that the terminal will not accept any further commands until you quit the current process (or job, we might call it), which is `xv` here.\n",
      "\n",
      "Quit `xv` by hitting `q` with the mouse over the `xv` window.\n",
      "\n",
      "Now, any commands that you had stacked up will run ... which probably isn't what you wanted to happen.\n",
      "\n",
      "When we run a process in this way, we say that it is in the *foreground*."
     ]
    },
    {
     "cell_type": "heading",
     "level": 4,
     "metadata": {},
     "source": [
      "background"
     ]
    },
    {
     "cell_type": "markdown",
     "metadata": {},
     "source": [
      "Sometimes then, we want to run a job in the *background*. This effectively means that the process will run independently of the shell, which means that the shell prompt will be freed up for further commands.  \n",
      "\n",
      "We do this by putting an ampersand (`&`) at the end of the command:\n",
      "\n",
      "```berlin% ~plewis/msc/sar.jpg &\n",
      "berlin%```\n",
      "\n",
      "And now you should see the command line prompt appear again (so you can nbow type `ls` if thats what you wanted to do).\n",
      "\n",
      "You should also have notices something else appearing which would be something like:\n",
      "\n",
      "```[1] 3568```\n",
      "\n",
      "The [n] indicates this is the nth job to be started in this shell, and n is the unique job number by which the process may be referenced within that shell (window). The second number on the line (3568) is known as the process ID (PID) of the program. This is the number by which the central processor of the workstation refers to the job. This number is unique to the program you have started, and may be used in any window to refer to this process, as will be see."
     ]
    },
    {
     "cell_type": "heading",
     "level": 4,
     "metadata": {},
     "source": [
      "bg"
     ]
    },
    {
     "cell_type": "markdown",
     "metadata": {},
     "source": [
      "If the process you wish to place in the background is already running, it can be stopped using `^Z` (`Control Z`). \n",
      "\n",
      "The prompt will then return, and the job is placed in the background using the `bg` command (note: all *you* type here (after typing `xv ~plewis/msc/sar.jpg`) is `^Z` and `bg`):\n",
      "\n",
      "```bash\n",
      "berlin% xv ~plewis/msc/sar.jpg \n",
      "^Z\n",
      "\n",
      "Suspended  \n",
      "berlin% bg  \n",
      "[1] 3568    \n",
      "berlin%```  \n",
      "\n",
      "so xv is now running in the background, and the prompt should appear again so you can type new commands."
     ]
    },
    {
     "cell_type": "heading",
     "level": 2,
     "metadata": {},
     "source": [
      "3.4 Killing a job running in the foreground"
     ]
    },
    {
     "cell_type": "markdown",
     "metadata": {},
     "source": [
      "Normally, you can terminate a job running in the foreground with `^C` (`control` and `c`). If that does not work, try `^Z` as above, followed by `jobs` to see the number of the job to be killed, then kill it (see below)."
     ]
    },
    {
     "cell_type": "heading",
     "level": 3,
     "metadata": {},
     "source": [
      "3.4.1 Job control within the Shell"
     ]
    },
    {
     "cell_type": "heading",
     "level": 4,
     "metadata": {},
     "source": [
      "fg"
     ]
    },
    {
     "cell_type": "markdown",
     "metadata": {},
     "source": [
      "Within its parent window, a job may be referred to in certain commands a `%n`, where `n` is the number that was given in square brackets when the process was started.\n",
      "\n",
      "The job may be brought back into the foreground using:\n",
      "\n",
      "```berlin% fg %n```  \n",
      "\n",
      "no prompt will be returned until either the job finishes or is placed back into the background."
     ]
    },
    {
     "cell_type": "heading",
     "level": 4,
     "metadata": {},
     "source": [
      "kill"
     ]
    },
    {
     "cell_type": "markdown",
     "metadata": {},
     "source": [
      "The job may be killled using:\n",
      "\n",
      "```berlin% kill %n```  \n",
      "\n",
      "or \n",
      "\n",
      "```berlin% kill -9 %n```\n",
      "\n",
      "if it refuses to die the first time.\n",
      "\n",
      "The priority of the job may be changed to let other people share the workstation:\n",
      "\n",
      "```berlin% renice +19 %n\n",
      "0: old priority 0, new priority 19```"
     ]
    },
    {
     "cell_type": "heading",
     "level": 4,
     "metadata": {},
     "source": [
      "jobs"
     ]
    },
    {
     "cell_type": "markdown",
     "metadata": {},
     "source": [
      "A list of jobs currently running within the shell may be obtained using the `jobs` command. On some systems, `jobs -l` will give the most useful information. e.g.:\n",
      "\n",
      "```bash\n",
      "berlin% xv ~plewis/msc/sar.jpg\n",
      "^Z  \n",
      "\n",
      "Suspended  \n",
      "berlin% jobs -l  \n",
      "[1]  +  9524 Suspended           xv ~plewis/msc/sar.jpg```"
     ]
    },
    {
     "cell_type": "heading",
     "level": 3,
     "metadata": {},
     "source": [
      "3.4.2 Killing or changing the priority of a job from outside its parent shell"
     ]
    },
    {
     "cell_type": "markdown",
     "metadata": {},
     "source": [
      "If you made a note of the `PID` of each process when it started, then `kill` and `renice` can be used as before, but using the `PID` instead of job number:\n",
      "\n",
      "```berlin% renice +19 3568\n",
      "3568 : old priority 0, new priority 19\n",
      "berlin% kill 3568```\n",
      "\n",
      "If you didn\u2019t note the PID, there are two ways to find it:\n",
      "\n",
      "* run the `top` command in another window and look at the process in the display\n",
      "* use `ps` (e.g. `ps auxww`)\n"
     ]
    },
    {
     "cell_type": "heading",
     "level": 4,
     "metadata": {},
     "source": [
      "top"
     ]
    },
    {
     "cell_type": "markdown",
     "metadata": {},
     "source": [
      "`top` is a program used to display the processes currently using the most CPU (processing capacity) on a workstation. Typing `top` in a shelltool should result in a display similar to:\n",
      "\n"
     ]
    },
    {
     "cell_type": "markdown",
     "metadata": {},
     "source": [
      "```bash\n",
      "last pid : 3609; load averages : 0.00, 0.00, 0.00 03:47:19\n",
      "\n",
      "49 processes : 48 sleeping, 1 running\n",
      " \n",
      "Cpu states : % user, % nice, % system, % idle\n",
      " \n",
      "Memory : 11984K available, 11812K in use, 172K free, 2572K locked\n",
      " \n",
      "PID Username PRI NICE SIZE RES STATE TIME WCPU CPU COMMAND\n",
      " \n",
      "3598 plewis   15 19 125K 99K run 9:20 12:49% 0.95% xv\n",
      "3609 plewis   26 0 225K 472K run 10:29 7.69% 0.22% textedit  \n",
      "3607 plewis   36 0 422K 432K sleep 0.00 3.23% 0.12% csh```\n"
     ]
    },
    {
     "cell_type": "markdown",
     "metadata": {},
     "source": [
      "\n",
      "Look for your program in the far right column, and get its PID from the far left column (in this format). Typing `i` may reveal more processes if yours is not shown. Typing `u` and then your username will show only your jobs. Jobs can be killed (`k`) and reniced (`r`) from inside `top` - see `?`? for more details."
     ]
    },
    {
     "cell_type": "heading",
     "level": 4,
     "metadata": {},
     "source": [
      "ps"
     ]
    },
    {
     "cell_type": "markdown",
     "metadata": {},
     "source": [
      "`ps` is similar to `top`, but just lists the processes rather than providing a continuously updated display:  \n",
      "\n",
      "\n",
      "```berlin% ps auxww | less\n",
      "USER       PID %CPU %MEM    VSZ   RSS TTY      STAT START   TIME COMMAND\n",
      "root         1  0.0  0.0  10368   696 ?        Ss   Sep13   0:04 init [5]  \n",
      "rpcuser   4034  0.0  0.0  10180   796 ?        Ss   Sep13   0:00 rpc.statd```  \n"
     ]
    },
    {
     "cell_type": "heading",
     "level": 4,
     "metadata": {},
     "source": [
      "nice"
     ]
    },
    {
     "cell_type": "markdown",
     "metadata": {},
     "source": [
      "Whenever a job that will either use a lot of the machines processing power (such as an image processing command) or take a long time to run is started, it must be \u2018nice\u2019d up\u2019. That is, the priority of the job must be set so that other users can make use of the workstation whilst your job is running. This is achieved using either the `renice` command, as above, or preferably by using the `nice` command as the job is started:\n",
      "\n",
      "```berlin% nice +19 xv ~plewis/msc/sar.jpg &\n",
      "[2] 3610\n",
      "```\n",
      "\n",
      "This starts `xv` in the background, and sets its priority to allow fair use of the machine by other people. In fact, xv is not a process that would normally need to be niced, as, unless image processing operations are being performed it usually takes virtually no processing power. It is used here simply as an example."
     ]
    },
    {
     "cell_type": "heading",
     "level": 2,
     "metadata": {},
     "source": [
      "3.5 remote access"
     ]
    },
    {
     "cell_type": "heading",
     "level": 4,
     "metadata": {},
     "source": [
      "ping"
     ]
    },
    {
     "cell_type": "markdown",
     "metadata": {},
     "source": [
      "`ping` sends some test packets to a remote computer and reports on what is returned. Normally, e.g. to check the status of a machine called `socrates.ucl.ac.uk` you just type:\n",
      "\n",
      "```berlin% ping socrates.ucl.ac.uk``` \n",
      "\n",
      "which will report e.g.:\n",
      "\n",
      "```PING socrates.ucl.ac.uk (144.82.110.1) 56(84) bytes of data.\n",
      "64 bytes from socrates.ucl.ac.uk (144.82.110.1): icmp_seq=1 ttl=252 time=0.527 ms\n",
      "64 bytes from socrates.ucl.ac.uk (144.82.110.1): icmp_seq=2 ttl=252 time=0.342 ms\n",
      "64 bytes from socrates.ucl.ac.uk (144.82.110.1): icmp_seq=3 ttl=252 time=0.355 ms\n",
      "\n",
      "--- socrates.ucl.ac.uk ping statistics ---\n",
      "3 packets transmitted, 3 received, 0% packet loss, time 2001ms\n",
      "rtt min/avg/max/mdev = 0.342/0.408/0.527/0.084 ms```\n",
      "\n",
      "Use `^C` to quit `ping`.\n",
      "\n",
      "If nothing happens for some time, the machine is probably not available (because it is down or the network in unreachable). You can wait for a timeout, or use `^C` (`Control` and `C`) at the same time) to quit the command. To limit the call to a certain number of attempts, use:\n",
      "\n",
      "```berlin% ping -c 10 socrates.ucl.ac.uk```\n",
      "\n",
      "If the response is:\n",
      "\n",
      "```--- socrates.ucl.ac.uk ping statistics ---\n",
      "10 packets transmitted, 0 packets received, 100.0% packet loss```\n",
      "\n",
      "Then you can\u2019t currently access the machine.\n"
     ]
    },
    {
     "cell_type": "heading",
     "level": 4,
     "metadata": {},
     "source": [
      "sftp"
     ]
    },
    {
     "cell_type": "markdown",
     "metadata": {},
     "source": [
      "Secure file transfer using `ssh` protocols. If working from a terminal (shell) and you want to transfer files from your local machine to a machine e.g. `shankly.geog.ucl.ac.uk`, `cd` to where the files are on the local machine, then type:\n",
      "\n",
      "```berlin% sftp shankly.geog.ucl.ac.uk```\n",
      "\n",
      "at which point you will normally be prompted for a password. If the username on the local and remote machines are different, you should use:\n",
      "\n",
      "```berlin% sftp plewis@shankly.geog.ucl.ac.uk```\n",
      "\n",
      "You can then use the [limited command set](http://kb.iu.edu/data/akqg.html) within `sftp` to change directory etc. and copy the files to or from the remote machine. A typical session then would be something along the lines of:\n",
      "\n",
      "```sftp> cd whereIWantToPutTheData \n",
      "sftp> put theFileIWantToTransfer.dat```\n",
      "\n",
      "to copy the local file `theFileIWantToTransfer.dat` into the directory `whereIWantToPutTheData` on the remote machine. Similarly to pull a file from the remote machine, use `get` rather than `put`.\n",
      "\n",
      "Use `exit` to exit the `sftp` session."
     ]
    },
    {
     "cell_type": "heading",
     "level": 4,
     "metadata": {},
     "source": [
      "scp"
     ]
    },
    {
     "cell_type": "markdown",
     "metadata": {},
     "source": [
      "Sometimes, it is convenient to use `scp`, a secure copy command that you can use over digfferent machines on the network when they do not have common disk access. The syntax is of the form:\n",
      "\n",
      "```scp plewis@shankly.geog.ucl.ac.uk:///home/plewis/msc/hello.dat ~/Data/helloLewis.dat```"
     ]
    },
    {
     "cell_type": "heading",
     "level": 4,
     "metadata": {},
     "source": [
      "ssh"
     ]
    },
    {
     "cell_type": "markdown",
     "metadata": {},
     "source": [
      "Securely connect (\u2018log in\u2019) to a shell on a remote computer. To set up an interactive session, from a terminal or `ssh` client type:\n",
      "\n",
      "```home% ssh plewis@shankly.geog.ucl.ac.uk```\n",
      "\n",
      "and respond to any confirmation request (the first time you connect two machines) and the request for your password.\n",
      "\n",
      "If you wish to run a session that uses X11, you need to set X11 tunneling:\n",
      "\n",
      "```home% ssh -X plewis@shankly.geog.ucl.ac.uk```\n",
      "\n",
      "on most unix/linux machines, or:\n",
      "\n",
      "```home% ssh -Y ucfaabc@shankly.geog.ucl.ac.uk``` \n",
      "\n",
      "from OS X.\n",
      "\n",
      "From a Windows machine, you should be able to connect using a client such as `putty`, but this does not directly allow `X11` sessions. To do that, you need some `X11` software (on the Windows machine) such as `exceed`. You can purchase that software, or at no cost, use a WTS session (see above) to start up [exceed](http://faq.rutgers.edu/?q=node/836) and then use e.g. `putty` (or tools in exceed) with `X11` forwarding. \n",
      "\n",
      "There are several alternatives to this from a Windows machine, one of which is to set up a unix environment within windows using `cygwin` but that might be too complex for novice users. \n",
      "\n",
      "Another is to make your Windows computer dual boot and install a linux system such as `ubuntu` on it. \n",
      "\n",
      "Yet another is to run linux as a virtual machine on top of Windows (or the other way around!). \n",
      "\n",
      "Another alternative is `Xming` that will run X11 on top of windows. \n",
      "\n",
      "Please note that whilst there are all of these potential solutions, we do not endorse or provide support for any particular solution. If you want to be able to do this and think it would be useful, try it out yourself and use the internet for resources to help you solve any problems you come across. If you have particular problems you think are connected with the UCL end of things, you can try asking the Geography System Manager, or ISD (if it is a UCL issue), or at a push, Professor Lewis in his office hours.\n",
      "\n",
      "**Important**: Note that you cannot use `ssh` (or `sftp`) to connect to *any* of the UCL Geography computers, as we only have a small number open to the UCL firewall (such as `shankly.geog.ucl.ac.uk`) and the machines we do have open are not ones you would normally want to do any processing on (or at least, we don\u2019t want everyone processing on these gateway machines, as noone else will be able to get in). \n",
      "\n",
      "You will normally have to use `ssh` to get on to one of these firewall gateway machines, then `ssh` (normally `ssh -X` if you want to maintain X11 port forwarding) from there to a machine (e.g. one in the classroom) to do any processing. This might seem a little \u2018roundabout\u2019, but you will soon get used to it and it is like this for good security reasons.\n",
      "\n",
      "N.B. if your username is different on the two machines, use e.g. `ssh -X ucfaabc@socrates.ucl.ac.uk` or `ssh -X socrates.ucl.ac.uk -l ucfaabc` to give the correct username for the remote machine (the one you are trying to log on to), otherwise you can just use `ssh -X socrates.ucl.ac.uk`.\n",
      "\n",
      "Once you (think you have) established a remote session with X11, you should test it out, trying to open a simple application such as `xclock` or `xv` or `xeyes` from the remote machine onto your local machine.\n",
      "\n",
      "If you are sure you are on a secure machine, you can set things up so that you don\u2019t have to keep typing the password when you connect (see here) but remember that anybody else will be able to connect those machines without a password.\n",
      "\n",
      "Finally, if what you want to do with `ssh` is not to run an interactive session, but to run a process on the remote machine (e.g. for some parallel processing), then you would normally use `ssh -f` for this, with the option `-X` (or `-Y` for OS X) if the processing requires `X11`. A simple example would be, get a listing of your home directory:\n",
      "\n",
      "```home% ssh -f ucfaabc@shankly.geog.ucl.ac.uk \"ls -l /home/plewis\"```\n",
      "\n",
      "This will execute the sequence of commands in quotes on the remote machine, then, when completed, terminate the session (that is what the `-f` flag does). If you want to ssh from that machine onto another (to run a process) that is a little more involved.\n",
      "\n",
      "One way to do this would be e.g.:\n",
      "\n",
      "```home% ssh -f shankly.geog.ucl.ac.uk 'ssh -f berlin.geog.ucl.ac.uk \"uname -a;pwd; cd /home/plewis ; ls -l\"'```\n",
      "\n",
      "which will `ssh` onto `shankly.geog.ucl.ac.uk` and from there run an `ssh` process onto `berlin` and then run the requested sequence of commands. Note that in this case you will have needed to previously ssh'd from `shankly` to `berlin` to have responded to the authentification request. This is a littler convoluted, especially the use of quotes here but is it feasible and sometimes useful to do this. You are much more likely to make use of this sort of command directly from within the UCL Geography system, in which case you do not need multiple levels of `ssh` calls to get through the firewall."
     ]
    },
    {
     "cell_type": "heading",
     "level": 2,
     "metadata": {},
     "source": [
      "3.6 Summary"
     ]
    },
    {
     "cell_type": "markdown",
     "metadata": {},
     "source": [
      "In this section, you should have learned a wider set of commands to control what is going on in the unix environment a little more. You may not remember all of these to start with, but can use this page as a reference as you explore what you can do with the operating system.\n",
      "\n",
      "#### Commands in this section    \n",
      "\n",
      "\\[[`awk`](#awk)\\] : pattern scanning and interpretation language    \n",
      "\\[[`>>`](#appending)\\] : appending to file  \n",
      "\\[[`bg`](#background)\\] : background process  \n",
      "\\[[`cat`](#cat)\\] : concatenate    \n",
      "\\[[`date`](#date)\\] : date    \n",
      "\\[[`echo`](#echo)\\] : echo    \n",
      "\\[[`fg`](#fg)\\] : foreground    \n",
      "\\[[`grep`](#grep)\\] : globally search a regular expression and print    \n",
      "\\[[`jobs`](#jobs)\\] : process jobs   \n",
      "\\[[`kill`](#kill)\\] : kill a process   \n",
      "\\[[`less`](#less)\\] : less    \n",
      "\\[[`more`](#more)\\] : more    \n",
      "\\[[`nice`](#nice)\\] : nice a process   \n",
      "\\[[`ping`](#ping)\\] : ping  \n",
      "\\[[`|`](#pipe)\\] : pipe  \n",
      "\\[[`ps`](#ps)\\] : process show  \n",
      "\\[[`sed`](#sed)\\] : stream editor    \n",
      "\\[[`scp`](#sfscptp)\\] : secure copy   \n",
      "\\[[`sftp`](#sftp)\\] : secure file transfer protocol    \n",
      "\\[[`ssh`](#ssh)\\] : secure shell  \n",
      "\\[[`>&`](#stderr)\\] : standard error `>&` or `2>`   \n",
      "\\[[`<`](#stdin)\\] : standard input `<`   \n",
      "\\[[`>`](#stdout)\\] : standard output  `>`   \n",
      "\\[[`streams`](#streams)\\] :  streams      \n",
      "\\[[`top`](#top)\\] :  top processes    \n",
      "\\[[`vi`](#vi)\\] : vi editor    \n",
      "\\[[`wc`](#wc)\\] : wc    \n"
     ]
    },
    {
     "cell_type": "heading",
     "level": 1,
     "metadata": {},
     "source": [
      "4. Summary of all commands"
     ]
    },
    {
     "cell_type": "markdown",
     "metadata": {},
     "source": [
      "\\[[`awk`](#awk)\\] : pattern scanning and interpretation language    \n",
      "\\[[`>>`](#appending)\\] : appending to file  \n",
      "\\[[`bg`](#background)\\] : background process  \n",
      "\\[[`cat`](#cat)\\] : concatenate    \n",
      "\\[[`cd`](#cd)\\]    : change directory   \n",
      "\\[[`chmod`](#chmod)\\] :  change mode   \n",
      "\\[[`cp`](#cp)\\] : copy   \n",
      "\\[[`date`](#date)\\] : date    \n",
      "\\[[`df`](#df)\\] : disk free   \n",
      "\\[[`du`](#du)\\] : disk usage   \n",
      "\\[[`.` ](#dot)\\]: dot (current level)   \n",
      "\\[[`..`](#dotdot)\\] : dot dot (up one level) \n",
      "\\[[`echo`](#echo)\\] : echo    \n",
      "\\[[`fg`](#fg)\\] : foreground    \n",
      "\\[[`grep`](#grep)\\] : globally search a regular expression and print    \n",
      "\\[[`jobs`](#jobs)\\] : process jobs   \n",
      "\\[[`kill`](#kill)\\] : kill a process   \n",
      "\\[[`less`](#less)\\] : less    \n",
      "\\[[`ls`](#passwd)\\] : list    \n",
      "\\[[`ls -l`](#ls--l)\\] : long listing   \n",
      "\\[[`more`](#more)\\] : more    \n",
      "\\[[`mkdir`](#mkdir)\\] : make directory  \n",
      "\\[[`mv`](#mv)\\] : move   \n",
      "\\[[`nice`](#nice)\\] : nice a process   \n",
      "\\[[`passwd`](#ls)\\]  : change password    \n",
      "\\[[`ping`](#ping)\\] : ping  \n",
      "\\[[`|`](#pipe)\\] : pipe  \n",
      "\\[[`ps`](#ps)\\] : process show  \n",
      "\\[[`pwd` ](#pwd)\\]: print working directory  \n",
      "\\[[`quota`](#quota)\\] : personal disk quota  \n",
      "\\[[`rm`](#rm)\\] : remove    \n",
      "\\[[`rmdir`](#rmdir)\\] : remove (empty) directory   \n",
      "\\[[`sed`](#sed)\\] : stream editor  \n",
      "\\[[`scp`](#sfscptp)\\] : secure copy   \n",
      "\\[[`sftp`](#sftp)\\] : secure file transfer protocol  \n",
      "\\[[`ssh`](#ssh)\\] : secure shell  \n",
      "\\[[`>&`](#stderr)\\] : standard error `>&` or `2>`   \n",
      "\\[[`<`](#stdin)\\] : standard input `<`   \n",
      "\\[[`>`](#stdout)\\] : standard output  `>`   \n",
      "\\[[`streams`](#streams)\\] :  streams      \n",
      "\\[[`top`](#top)\\] :  top processes    \n",
      "\\[[`~` ](#twiddle)\\]: tilde (twiddle) - home  \n",
      "\\[[`vi`](#vi)\\] : vi editor    \n",
      "\\[[`wc`](#wc)\\] : wc    \n",
      "\\[[`*?`](#Wildcards)\\] : wildcards  \n",
      "\n",
      "  \n"
     ]
    }
   ],
   "metadata": {}
  }
 ]
}