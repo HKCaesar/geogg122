{
 "metadata": {
  "name": ""
 },
 "nbformat": 3,
 "nbformat_minor": 0,
 "worksheets": [
  {
   "cells": [
    {
     "cell_type": "markdown",
     "metadata": {},
     "source": [
      "<table border=\"\" width=100% cellpadding=0><tr>\n",
      "<td bgcolor=\"#232323\" border=\"\">\n",
      "<img src=\"https://raw.github.com/profLewis/geogg122/master/images/logo.png\"></td>\n",
      "</tr>\n",
      "<td bgcolor=\"#9ABAE2\" border=\"\">\n",
      "</td>\n",
      "</table>"
     ]
    },
    {
     "cell_type": "heading",
     "level": 1,
     "metadata": {},
     "source": [
      "GDAL and OGR libraries"
     ]
    },
    {
     "cell_type": "markdown",
     "metadata": {},
     "source": [
      "In the previous session, we used the GDAL library to open HDF files. GDAL is not limited to a single file format, but can actually cope with many different raster file formats semalessly. For *vector* data (i.e., data that is stored by features, each being made up of fields containing different types of information, one of them being a *geometry*, such as polygon, line or point), GDAL has a sister library called OGR. The usefulness of these two libraries is that they allow the user to deal with many of the different file formats in a consistent way. \n",
      "\n",
      "It is important to note that both GDAL and OGR come with a suite of command line tools that let you do many complex tasks on the command line directly. A listing of the GDAL command line tools is available [here](http://www.gdal.org/gdal_utilities.html), but bear in mind that many blogs etc. carry out examples of using GDAL tools in practice. For OGR, most of the library can be accessed using [ogr2ogr](http://www.gdal.org/ogr2ogr.html), but as usual, you might find more useful information on [blogs](http://www.bostongis.com/PrinterFriendly.aspx?content_name=ogr_cheatsheet) etc."
     ]
    },
    {
     "cell_type": "heading",
     "level": 2,
     "metadata": {},
     "source": [
      "GDAL data type"
     ]
    },
    {
     "cell_type": "markdown",
     "metadata": {},
     "source": [
      "GDAL provides a very handy way of dealing with raster data in many different formats, not only by making access to the data easy, but also abstracting the nuances and complications of different file formats. In GDAL, a raster file is made up of the actual raster data (i.e.,  the values of each pixel of LAI that we saw before), and of some *metadata*. Metadata is data that describes something, and in this case it could be the projection, the location of corners and pixel spacing, etc."
     ]
    },
    {
     "cell_type": "heading",
     "level": 3,
     "metadata": {},
     "source": [
      "The GeoTransform"
     ]
    },
    {
     "cell_type": "markdown",
     "metadata": {},
     "source": [
      "GDAL stores information about the location of each pixel using the GeoTransform. The GeoTransform contains the coordinates (in some projection) of the upper left (UL) corner of the image (taken to be the **borders of the pixel** in the UL corner, not the center), the pixel spacing and an additional rotation. By knowing these figures, we can calculate the location of each pixel in the image easily. Let's see how this works with an easy example. We have prepared a GeoTIFF file (GeoTIFF is the more ubiquitous file format for EO data) of the MODIS landcover product for the UK. The data has been extracted from the HDF-EOS files that are similar to the LAI product that we have seen before, and converted. The file is [`lc_h17v03.tif`](https://raw.github.com/jgomezdans/geogg122/master/ChapterX_GDAL/lc_h17v03.tif). We will open the file in Python, and have a look at finding a particular location.\n",
      "\n",
      "Assume we are interested in locating [Kinder Scout](http://toolserver.org/~rhaworth/os/coor_g.php?pagename=Kinder_Scout&params=SK086875_region%3AGB_scale%3A25000), a moorland in the Peak District National Park. Its coordinates are 1.871417W, 53.384726N. In the MODIS integerised sinusoidal projection, the coordinates are (-124114.3, 5936117.4) (you can use the [MODLAND tile calculator website](http://landweb.nascom.nasa.gov/cgi-bin/developer/tilemap.cgi) to do this calculation yourself)."
     ]
    },
    {
     "cell_type": "code",
     "collapsed": false,
     "input": [
      "import gdal # Import GDAL library\n",
      "g = gdal.Open ( \"lc_h17v03.tif\" ) # Open the file\n",
      "if g is None:\n",
      "    print \"Could not open the file!\"\n",
      "geo_transform = g.GetGeoTransform ()\n",
      "print geo_transform\n",
      "print g.RasterXSize, g.RasterYSize"
     ],
     "language": "python",
     "metadata": {},
     "outputs": [
      {
       "output_type": "stream",
       "stream": "stdout",
       "text": [
        "(-1111950.519667, 463.3127165279167, 0.0, 6671703.118, 0.0, -463.3127165279165)\n",
        "2400 2400\n"
       ]
      }
     ],
     "prompt_number": 7
    },
    {
     "cell_type": "markdown",
     "metadata": {},
     "source": [
      "In the previous code, we open the file (we just use the filename), and then query the object for its GeoTransform, which we then print out. The 6-element tuple comprises \n",
      "\n",
      "1. The Upper Left *easting* coordinate (i.e., *horizontal*)\n",
      "2. The E-W pixel spacing\n",
      "3. The rotation (0 degrees if image is \"North Up\")\n",
      "4. The Upper left *northing* coordinate (i.e., *vertical*)\n",
      "5. The rotation (0 degrees)\n",
      "6. The N-S pixel spacing, negative as we will be counting from the UL corner\n",
      "\n",
      "We have also seen that the dataset is of size 2400x2400, using `RasterXSize` and `RasterYSize`. The goal is to find the pixel number $(i,j), \\;\\;0\\le i,j < 2400$ that corresponds to Kinder Scout. To do this, we use the following calculations:"
     ]
    },
    {
     "cell_type": "code",
     "collapsed": false,
     "input": [
      "pixel_x = (-124114.3 - geo_transform[0])/geo_transform[1] \\\n",
      "        # The difference in distance between the UL corner (geot[0] \\\n",
      "        #and point of interest. Scaled by geot[1] to get pixel number\n",
      "\n",
      "pixel_y = (5936117.4 - geo_transform[3])/(geo_transform[5]) # Like for pixel_x, \\\n",
      "        #but in vertical direction. Note the different elements of geot \\\n",
      "        #being used\n",
      "\n",
      "print pixel_x, pixel_y"
     ],
     "language": "python",
     "metadata": {},
     "outputs": [
      {
       "output_type": "stream",
       "stream": "stdout",
       "text": [
        "2132.11549009 1587.66572071\n"
       ]
      }
     ],
     "prompt_number": 9
    },
    {
     "cell_type": "markdown",
     "metadata": {},
     "source": [
      "So the pixel number is a floating point number, which we might need to round off as an integer. Let's plot the entire raster map (with minimum value 0 to ignore the ocean) using [`plt.imshow`](http://matplotlib.org/api/pyplot_api.html#matplotlib.pyplot.imshow) and plot the location of Kinder Scout using [`plt.plot`](http://matplotlib.org/api/pyplot_api.html#matplotlib.pyplot.plt). We will also use [`plt.annotate`](http://matplotlib.org/api/pyplot_api.html#matplotlib.pyplot.annotate) to add a label with an arrow:"
     ]
    },
    {
     "cell_type": "code",
     "collapsed": false,
     "input": [
      "lc = g.ReadAsArray() # Read raster data\n",
      "# Now plot the raster data using gist_earth palette\n",
      "plt.imshow ( lc, interpolation='nearest', vmin=0, cmap=plt.cm.gist_earth )\n",
      "# Plot location of our area of interest as a red dot ('ro')\n",
      "plt.plot ( pixel_x, pixel_y, 'ro')\n",
      "# Annotate\n",
      "plt.annotate('Kinder Scout', xy=(pixel_x, pixel_y),  \\\n",
      "        xycoords='data', xytext=(-150, -60), \\\n",
      "        textcoords='offset points',  size=12, \\\n",
      "        bbox=dict(boxstyle=\"round4,pad=.5\", fc=\"0.8\"), \\\n",
      "        arrowprops=dict(arrowstyle=\"->\", \\\n",
      "        connectionstyle=\"angle,angleA=0,angleB=-90,rad=10\", \\\n",
      "        color='w'), )\n",
      "# Remove vertical and horizontal ticks\n",
      "plt.xticks([])\n",
      "plt.yticks([])"
     ],
     "language": "python",
     "metadata": {},
     "outputs": [
      {
       "metadata": {},
       "output_type": "pyout",
       "prompt_number": 20,
       "text": [
        "([], <a list of 0 Text yticklabel objects>)"
       ]
      },
      {
       "metadata": {},
       "output_type": "display_data",
       "png": "[encoded data removed]",
       "text": [
        "<matplotlib.figure.Figure at 0x2e106190>"
       ]
      }
     ],
     "prompt_number": 20
    },
    {
     "cell_type": "heading",
     "level": 4,
     "metadata": {},
     "source": [
      "Try it out in some other places!"
     ]
    },
    {
     "cell_type": "markdown",
     "metadata": {},
     "source": [
      "Find the longitude and latitude of some places of interest in the British isles (West of Greenwich!) and using the MODLAND MODIS tile calculator and the geotransform, repeat the above experiment. Note that the [MODIS calculator](http://landweb.nascom.nasa.gov/cgi-bin/developer/tilemap.cgi) calculates both the projected coordinates in the MODIS sinusoidal projection, as well as the pixel number, so it is a helpful way to check whether you got the right result.\n",
      "<td>\n",
      "</td>\n",
      "<table>\n",
      "<tr>\n",
      "<th>Park name</th><th>Longitude [deg]</th><th>Latitude [deg]</th>\n",
      "</tr>\n",
      "<tr>\n",
      "<td>Dartmoor national park</td>\t<td>-3.904</td><td>\t50.58</td>\n",
      "</tr>\n",
      "<tr>\n",
      "<td>New forest national park</td><td>\t-1.595</td><td>\t50.86</td>\n",
      "</tr>\n",
      "<tr>\n",
      "<td>Exmoor national park</td><td>\t-3.651</td><td>\t51.14</td>\n",
      "</tr>\n",
      "<tr>\n",
      "<td>Pembrokeshire coast national park</td><td>\t-4.694</td><td>\t51.64</td>\n",
      "</tr>\n",
      "<tr>\n",
      "<td>Brecon beacons national park\t</td><td>-3.432</td><td>\t51.88</td>\n",
      "</tr>\n",
      "<tr>\n",
      "<td>Pembrokeshire coast national park</td><td>\t-4.79</td><td>\t51.99</td>\n",
      "</tr>\n",
      "<tr>\n",
      "<td>Norfolk and suffolk broads\t</td><td>1.569</td><td>\t52.62</td>\n",
      "</tr>\n",
      "<tr>\n",
      "<td>Snowdonia national park</td><td>\t-3.898\t</td><td>52.9</td>\n",
      "</tr>\n",
      "<tr>\n",
      "<td>Peak district national park\t</td><td>-1.802\t</td><td>53.3</td>\n",
      "</tr>\n",
      "<tr>\n",
      "<td>Yorkshire dales national park</td><td>\t-2.157\t</td><td>54.23</td>\n",
      "</tr>\n",
      "<tr>\n",
      "<td>North yorkshire moors national park\t</td><td>-0.8855\t</td><td>54.37</td>\n",
      "</tr>\n",
      "<tr>\n",
      "<td>Lake district national park\t</td><td>-3.084\t</td><td>54.47</td>\n",
      "</tr>\n",
      "<tr>\n",
      "<td>Galloway forest park\t</td><td>-4.171\t</td><td>54.87</td>\n",
      "</tr>\n",
      "<tr>\n",
      "<td>Northumberland national park\t</td><td>-2.228\t</td><td>55.28</td>\n",
      "</tr>\n",
      "<tr>\n",
      "<td>Loch lomond and the trossachs national park\t</td><td>-4.593\t</td><td>56.24</td>\n",
      "</tr>\n",
      "<tr>\n",
      "<td>Tay forest park\t</td><td>-4.025</td><td>\t56.59</td>\n",
      "</tr>\n",
      "<tr>\n",
      "<td>Cairngorms national park\t</td><td>-3.545\t</td><td>57.08</td>\n",
      "</tr>\n",
      "</table>\n"
     ]
    },
    {
     "cell_type": "code",
     "collapsed": false,
     "input": [],
     "language": "python",
     "metadata": {},
     "outputs": []
    },
    {
     "cell_type": "heading",
     "level": 2,
     "metadata": {},
     "source": [
      "The projection"
     ]
    },
    {
     "cell_type": "markdown",
     "metadata": {},
     "source": [
      "Projections in GDAL objects are stored can be accessed by querying the dataset using the `GetProjection()` method. If we do that on the currently opened dataset (stored in variable `g`), we get:"
     ]
    },
    {
     "cell_type": "code",
     "collapsed": false,
     "input": [
      "print g.GetProjection()"
     ],
     "language": "python",
     "metadata": {},
     "outputs": [
      {
       "output_type": "stream",
       "stream": "stdout",
       "text": [
        "PROJCS[\"unnamed\",GEOGCS[\"Unknown datum based upon the custom spheroid\",DATUM[\"Not_specified_based_on_custom_spheroid\",SPHEROID[\"Custom spheroid\",6371007.181,0]],PRIMEM[\"Greenwich\",0],UNIT[\"degree\",0.0174532925199433]],PROJECTION[\"Sinusoidal\"],PARAMETER[\"longitude_of_center\",0],PARAMETER[\"false_easting\",0],PARAMETER[\"false_northing\",0],UNIT[\"metre\",1,AUTHORITY[\"EPSG\",\"9001\"]]]\n"
       ]
      }
     ],
     "prompt_number": 22
    },
    {
     "cell_type": "markdown",
     "metadata": {},
     "source": [
      "The above is the description of the projection (in this case, MODIS sinusoidal) in `WKT` (well-known text) format. There are a number of different ways of specifying projections, the most important being\n",
      "\n",
      "* WKT\n",
      "* Proj4\n",
      "* EPSG codes\n",
      "\n",
      "The site [spatialreference.org](http://spatialreference.org) allows you to search a large collection of projections, and get the representation that you want to use."
     ]
    },
    {
     "cell_type": "code",
     "collapsed": false,
     "input": [],
     "language": "python",
     "metadata": {},
     "outputs": []
    },
    {
     "cell_type": "code",
     "collapsed": false,
     "input": [],
     "language": "python",
     "metadata": {},
     "outputs": []
    },
    {
     "cell_type": "code",
     "collapsed": false,
     "input": [],
     "language": "python",
     "metadata": {},
     "outputs": []
    },
    {
     "cell_type": "code",
     "collapsed": false,
     "input": [
      "def css_styling():\n",
      "    from IPython.display import display, HTML\n",
      "    styles = \"https://github.com/CamDavidsonPilon/Probabilistic-Programming-and-Bayesian-Methods-for-Hackers/raw/master/styles/custom.css\"\n",
      "    return HTML(styles)\n",
      "css_styling()"
     ],
     "language": "python",
     "metadata": {},
     "outputs": [
      {
       "html": [
        "<style>\n",
        "    @font-face {\n",
        "        font-family: \"Computer Modern\";\n",
        "        src: url('http://mirrors.ctan.org/fonts/cm-unicode/fonts/otf/cmunss.otf');\n",
        "    }\n",
        "    div.cell{\n",
        "        width:800px;\n",
        "        margin-left:16% !important;\n",
        "        margin-right:auto;\n",
        "    }\n",
        "    h1 {\n",
        "        font-family: Helvetica, serif;\n",
        "    }\n",
        "    h4{\n",
        "        margin-top:12px;\n",
        "        margin-bottom: 3px;\n",
        "       }\n",
        "    div.text_cell_render{\n",
        "        font-family: Computer Modern, \"Helvetica Neue\", Arial, Helvetica, Geneva, sans-serif;\n",
        "        line-height: 145%;\n",
        "        font-size: 130%;\n",
        "        width:800px;\n",
        "        margin-left:auto;\n",
        "        margin-right:auto;\n",
        "    }\n",
        "    .CodeMirror{\n",
        "            font-family: \"Source Code Pro\", source-code-pro,Consolas, monospace;\n",
        "    }\n",
        "    .prompt{\n",
        "        display: None;\n",
        "    }\n",
        "    .text_cell_render h5 {\n",
        "        font-weight: 300;\n",
        "        font-size: 22pt;\n",
        "        color: #4057A1;\n",
        "        font-style: italic;\n",
        "        margin-bottom: .5em;\n",
        "        margin-top: 0.5em;\n",
        "        display: block;\n",
        "    }\n",
        "    \n",
        "    .warning{\n",
        "        color: rgb( 240, 20, 20 )\n",
        "        }  \n",
        "</style>\n",
        "<script>\n",
        "    MathJax.Hub.Config({\n",
        "                        TeX: {\n",
        "                           extensions: [\"AMSmath.js\"]\n",
        "                           },\n",
        "                tex2jax: {\n",
        "                    inlineMath: [ ['$','$'], [\"\\\\(\",\"\\\\)\"] ],\n",
        "                    displayMath: [ ['$$','$$'], [\"\\\\[\",\"\\\\]\"] ]\n",
        "                },\n",
        "                displayAlign: 'center', // Change this to 'center' to center equations.\n",
        "                \"HTML-CSS\": {\n",
        "                    styles: {'.MathJax_Display': {\"margin\": 4}}\n",
        "                }\n",
        "        });\n",
        "</script>"
       ],
       "metadata": {},
       "output_type": "pyout",
       "prompt_number": 1,
       "text": [
        "<IPython.core.display.HTML at 0x20e9f390>"
       ]
      }
     ],
     "prompt_number": 1
    },
    {
     "cell_type": "code",
     "collapsed": false,
     "input": [],
     "language": "python",
     "metadata": {},
     "outputs": []
    }
   ],
   "metadata": {}
  }
 ]
}