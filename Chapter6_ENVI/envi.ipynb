{
 "metadata": {
  "name": ""
 },
 "nbformat": 3,
 "nbformat_minor": 0,
 "worksheets": [
  {
   "cells": [
    {
     "cell_type": "heading",
     "level": 1,
     "metadata": {},
     "source": [
      "ENVI"
     ]
    },
    {
     "cell_type": "markdown",
     "metadata": {},
     "source": [
      "The purpose of this week's practical (Reading Week) is for you to become familiar with using the software package ENVI.\n",
      "\n",
      "You should do one oby following the [Classification](http://www2.geog.ucl.ac.uk/~plewis/geog2021/classificationPractical/) practical.\n",
      "\n",
      "There is no direct supervision for this session.\n",
      "\n",
      "You are expected to get on with this yourselves.\n",
      "\n"
     ]
    }
   ],
   "metadata": {}
  }
 ]
}