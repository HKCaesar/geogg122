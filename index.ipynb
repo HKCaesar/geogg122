{
 "metadata": {
  "name": "index"
 },
 "nbformat": 3,
 "nbformat_minor": 0,
 "worksheets": [
  {
   "cells": [
    {
     "cell_type": "markdown",
     "metadata": {},
     "source": [
      "![](https://raw.github.com/profLewis/geogg122/master/ucl_logo.png)"
     ]
    },
    {
     "cell_type": "markdown",
     "metadata": {},
     "source": [
      "<table border=\"0\">\n",
      "<tr>\n",
      "  <td>[<a href=\"http://nbviewer.ipython.org/urls/raw.github.com/profLewis/geogg122/master/index.ipynb\">Prev</a>]\n",
      "  <td>[<a href=\"http://nbviewer.ipython.org/urls/raw.github.com/profLewis/geogg122/master/index.ipynb\">Home</a>]\n",
      "  <td>[<a href=\"https://github.com/profLewis/geogg122\">GitHub</a>]\n",
      "  <td>[<a href=\"http://nbviewer.ipython.org/urls/raw.github.com/profLewis/geogg122/master/intro.ipynb\">Next</a>]\n",
      "</table>"
     ]
    },
    {
     "cell_type": "markdown",
     "metadata": {},
     "source": [
      "# Welcome to GeogG122: Scientific Computing\n",
      "\n",
      "## Course information\n",
      "\n",
      "### Course Convenor\n",
      "\n",
      "[Prof P. Lewis](http://www.geog.ucl.ac.uk/~plewis)\n",
      "\n",
      "### Course Staff\n",
      "[Prof P. Lewis](http://www.geog.ucl.ac.uk/~plewis)  \n",
      "[Dr. Qingling Wu](http://www.geog.ucl.ac.uk/about-the-department/people/academic-staff/qingling-wu)  \n",
      "        \n",
      "\n",
      "### Useful links\n",
      "\n",
      "[Course Moodle page](http://moodle.ucl.ac.uk/course/view.php?id=13891)  \n",
      "\n",
      "[A useful reading list for basic and advanced Unix.](http://www.ee.surrey.ac.uk/Teaching/Unix/books-uk.html)  \n",
      "\n",
      "## Course notes\n",
      "\n",
      "* <a href=\"http://nbviewer.ipython.org/urls/raw.github.com/profLewis/geogg122/master/intro.ipynb\">Introduction to the Course</a>\n",
      "\n",
      "    + The Structure of the Course<structure>\n",
      "   Introduction to Unix<unix_intro>    \n",
      "   Some Unix Tools and Concepts<unix_two>"
     ]
    },
    {
     "cell_type": "markdown",
     "metadata": {},
     "source": [
      "<table border=\"0\">\n",
      "<tr>\n",
      "  <td>[<a href=\"http://nbviewer.ipython.org/urls/raw.github.com/profLewis/geogg122/master/index.ipynb\">Prev</a>]\n",
      "  <td>[<a href=\"http://nbviewer.ipython.org/urls/raw.github.com/profLewis/geogg122/master/index.ipynb\">Home</a>]\n",
      "  <td>[<a href=\"https://github.com/profLewis/geogg122\">GitHub</a>]\n",
      "  <td>[<a href=\"intro.ipynb\">Next</a>]\n",
      "</table>\n",
      "    "
     ]
    }
   ],
   "metadata": {}
  }
 ]
}