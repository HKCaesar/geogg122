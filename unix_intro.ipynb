{
 "metadata": {
  "name": "unix_intro"
 },
 "nbformat": 3,
 "nbformat_minor": 0,
 "worksheets": [
  {
   "cells": [
    {
     "cell_type": "markdown",
     "metadata": {},
     "source": [
      "A Brief Introduction to Unix\n",
      "=============================\n",
      "\n",
      "This course will be taught mainly under a Unix operating system. This part of the introduction is intended for background reading and we will not go through it in quite the same way in class.\n",
      "\n",
      "Unix commands and and a few options learned here:\n",
      "\n",
      "\n",
      "    [alias] [cd] [chmod] [cp] [df] [ls] [mkdir] [mv] [pwd] [quota] [rm] [rmdir]\n",
      "\n",
      "with a few options:\n",
      "\n",
      "    [cp-R] [ls-l] [rm-f] [rm-i] [rm-r]\n",
      "\n",
      "The Unix symbols come across are:\n",
      "\n",
      "    [/: slash] [\\: backslash] [dotdot: ..] [dot: .] [tilde/twiddle: ~] [star/wildcard: *] [single wildcard: ?]\n",
      "\n",
      "We will cover this material in week 1 of the class. You will need to have become familiar with the basic concepts and commands to progress through week 2 and beyond."
     ]
    },
    {
     "cell_type": "code",
     "collapsed": false,
     "input": [],
     "language": "python",
     "metadata": {},
     "outputs": []
    }
   ],
   "metadata": {}
  }
 ]
}