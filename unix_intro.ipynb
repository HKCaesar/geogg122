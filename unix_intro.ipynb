{
 "metadata": {
  "name": "unix_intro"
 },
 "nbformat": 3,
 "nbformat_minor": 0,
 "worksheets": [
  {
   "cells": [
    {
     "cell_type": "markdown",
     "metadata": {},
     "source": [
      "![](https://raw.github.com/profLewis/geogg122/master/ucl_logo.png)"
     ]
    },
    {
     "cell_type": "markdown",
     "metadata": {},
     "source": [
      "<table border=\"0\">\n",
      "<tr>\n",
      "  <td>[<a href=\"http://nbviewer.ipython.org/urls/raw.github.com/profLewis/geogg122/master/intro.ipynb\">Prev</a>]\n",
      "  <td>[<a href=\"http://nbviewer.ipython.org/urls/raw.github.com/profLewis/geogg122/master/index.ipynb\">Home</a>]\n",
      "  <td>[<a href=\"https://github.com/profLewis/geogg122\">GitHub</a>]\n",
      "  <td>[<a href=\"http://nbviewer.ipython.org/urls/raw.github.com/profLewis/geogg122/master/unix_intro_answers.ipynb\">Next</a>]\n",
      "</table>"
     ]
    },
    {
     "cell_type": "heading",
     "level": 1,
     "metadata": {},
     "source": [
      "A Brief Introduction to Unix"
     ]
    },
    {
     "cell_type": "heading",
     "level": 2,
     "metadata": {},
     "source": [
      "In this section"
     ]
    },
    {
     "cell_type": "markdown",
     "metadata": {},
     "source": [
      "In this section, you will be introduced to python notebooks and the unix operating system.\n",
      "\n",
      "You should have an understanding of:\n",
      "\n",
      "1. Unix as an operating system\n",
      "2. How to change your password (`passwd`).\n",
      "3. How directory structures in unix\n",
      "4. Relative and absolute pathnames\n",
      "5. The role and meaning of the characters `~` `.` and `..` (*twiddle*, *dot* and *dot-dot*)\n",
      "6. The unix commands `pwd`, `cd`, and `ls`"
     ]
    },
    {
     "cell_type": "heading",
     "level": 2,
     "metadata": {},
     "source": [
      "Unix"
     ]
    },
    {
     "cell_type": "markdown",
     "metadata": {},
     "source": [
      "\n",
      "This course will be taught mainly under a Unix operating system. The operating system allows you access to the running of the computer (and associated devices on the network), and enables you to be able to control what you want the computer to do. \n",
      "\n",
      "There is some overhead to learning this (like learning a new language), but we will introduce you to the basic operations you will need in this session.\n",
      "\n",
      "There are many online tutorials on unix. A good place to start backup material and some more features for the material we will cover today is [software-carpentry.org](http://software-carpentry.org/v3/shell01.html)\n"
     ]
    },
    {
     "cell_type": "heading",
     "level": 3,
     "metadata": {},
     "source": [
      "Using these notes"
     ]
    },
    {
     "cell_type": "markdown",
     "metadata": {},
     "source": [
      "The interface for these notes is done using something called *ipython notebooks*, that we will return more to later.\n",
      "\n",
      "Not surprisingly, this is mainly aimed at running commands in the python programming language.\n",
      "\n",
      "In this section of the notes, we will be using *unix* commands, where we are working directly with the operating system (rather than in the python language and environment that is on top of the underlying system). \n",
      "\n",
      "One really convenient feature of ipython notebooks is that you, the student, can simply download then (using the `Download notebook` button in the corner of the browser display) and then run them on your local computer. When you have downloaded a notebook, you can use it by typing:\n",
      "\n",
      "`berlin% ipython notebook`  \n",
      "\n",
      "which will open a web browser with an interface tou your notebooks.\n",
      "\n",
      "You *can* execute ('run') each block of code by selecting the code block (click on it) and simply hitting the return key. This conveniently works with basic unix commands as well as python commands.\n",
      "\n",
      "As an example of some commands we will use later"
     ]
    },
    {
     "cell_type": "code",
     "collapsed": false,
     "input": [
      "cd ~"
     ],
     "language": "python",
     "metadata": {},
     "outputs": [
      {
       "output_type": "stream",
       "stream": "stdout",
       "text": [
        "/Users/plewis\n"
       ]
      }
     ],
     "prompt_number": 1
    },
    {
     "cell_type": "code",
     "collapsed": false,
     "input": [
      "pwd"
     ],
     "language": "python",
     "metadata": {},
     "outputs": [
      {
       "output_type": "pyout",
       "prompt_number": 2,
       "text": [
        "u'/Users/plewis'"
       ]
      }
     ],
     "prompt_number": 2
    },
    {
     "cell_type": "markdown",
     "metadata": {},
     "source": [
      "These two commands (`cd ~` and `pwd`) are *unix* commands (that we happen to have run here through the ipython interpreter). You can, as we have suggested, simply download the notebook and hit `<return>` to run these, but to get used to using the underlying operatoring system, you will want to open a *terminal* or *shell tool* (or `xterm` in some cases). This is a 'window' which has a *command line prompt* at which you can type and execute unix commands.\n",
      "\n",
      "It will look something like this:"
     ]
    },
    {
     "cell_type": "markdown",
     "metadata": {},
     "source": [
      "![](https://raw.github.com/profLewis/geogg122/master/terminal.png)"
     ]
    },
    {
     "cell_type": "markdown",
     "metadata": {},
     "source": [
      "where, in this case the command line prompt is `pallas% `, where `pallas` happens to be the name of one of the computers we might use. \n",
      "\n",
      "You type the commands at the prompt, then hit `<return>` (i.e. the return key) to execute (run) the command.\n",
      "\n",
      "When you open a new 'terminal', you will usually be *located* in your *home directory*. We will discuss this further below.\n",
      "\n",
      "Let's check that now, and introduce the command `pwd` (print working directory) that will print (in the terminal) where we currently are working."
     ]
    },
    {
     "cell_type": "markdown",
     "metadata": {},
     "source": [
      "![](https://raw.github.com/profLewis/geogg122/master/terminal1.png)"
     ]
    },
    {
     "cell_type": "markdown",
     "metadata": {},
     "source": [
      "So, whilst you *can* simply hit `<enter>` in the code blocks here, we will want you to run the unix commands in todays session in a terminal.\n",
      "\n",
      "**Open a terminal now, and run the command `pwd` to get used to this.**"
     ]
    },
    {
     "cell_type": "heading",
     "level": 2,
     "metadata": {},
     "source": [
      "What is Unix?"
     ]
    },
    {
     "cell_type": "markdown",
     "metadata": {},
     "source": [
      "UNIX is a multi-user operating system: that is, a suite of programs which run on a computer and allows interface to the hardware and software available. It allows many users to share a powerful machine and all the available resources, each user running their own processes simultaneously. This true multi-tasking aspect of UNIX allows a far greater flexibility than is possible with other operating systems, even more recent multi-tasking versions of popular PC operating systems (note that the linux is simply a \u2018flavour\u2019 of UNIX & that the Mac operating system OS-X has a good deal of UNIX system within it). The advantages of a truly flexible multi-tasking operating system has been demonstrated with the popularity of UNIX in the scientific, engineering and financial communities, along with the rise of Linux and OS-X.\n",
      "\n",
      "X11 is the windowing system that you will generally use to interface with the operating system. A key aspect of this has always been the idea of remote graphical user interfaces via X11, which allows a user to run and visualise processes on different Unix machines. You are not limited to accessing the computer you are sat in front of, but can easily make wider use of local or external resources. You will find this useful as you can log on to the UCL Geography Unix computers from outside UCL (from pretty well any other operating system) and (with appropriate X11 software such as cygwin or exceed, if you are working from a Windows computer, or directly from any Unix/linux computer os OS-X machine) run windowing sessions the same as if you were physically at the UCL computer (given sufficient bandwidth)."
     ]
    },
    {
     "cell_type": "heading",
     "level": 3,
     "metadata": {},
     "source": [
      "Workstations and networks"
     ]
    },
    {
     "cell_type": "markdown",
     "metadata": {},
     "source": [
      "Workstations that run UNIX are not like the way most people use PCs running Windows... At any time of the day or night a UNIX machine is running literally hundreds of processes simultaneously: Some are long-term user processes (such as research experiments) placed at low priority to avoid affecting other users, which may run for weeks, but most are concerned with the second by second activities of maintaining the network.\n",
      "\n",
      "Physically, the network consists of 'wires' (ethernet cables, phone lines, fibre-optic cables etc.) or wireless connections (locally and externally) running between computers both at local and remote sites. At the local level (within a University Dept. for example) the wires literally connect every machine to every other, either in a loop, or in a star-like arrangement with machines linked around central communications hubs. Such arrangements of connections, machines and attached peripheral devices is known as a Local Area Network or LAN. Larger arrangements of connections, for instance between departments in a university rather than individual computers, are known as Wide Area Networks or WANs.\n",
      "\n",
      "It is through this ability to transparently network computers together that UNIX really gains its power. Very often the data a user processes on one computer is actually stored on another (a paradigm that has (indirectly) led to the development of the Internet and World Wide Web). Similarly it is commonplace to process data on one machine whilst physically sitting in quite a different location (even on a different continent!). The limiting idea of the machine that you are sitting in front of being the machine you are using for processing (as in the PC-based computing environment) is very much obsolete in the case of UNIX computing. Using the network, it is also possible to break large processes into a number of smaller jobs and distribute them across multiple machines simultaneously, thereby reducing execution times dramatically. In a properly set-up UNIX LAN network, the storage of a users data on a remote machine, or their working on a remote machine should be a relatively transparent operation. Such concepts of networking are not confined to UNIX machines, although UNIX (in all its varieties) is far and away the most common from of operating system used for wide area networking.\n",
      "\n",
      "Because a UNIX machine never stops processing, the are **never switched off** by anyone other than the system manager or a relevant member of staff. Simply switching off as you might with a PC can cause irreparable damage to a UNIX machine and/or the data stored on it - remember, your data/project could be on the disk you just killed, so don\u2019t do it! If you think that there is something wrong with a machine, do not attempt to fix it yourself: call or email the system manager or ask a knowledgeable person for advice. Under no circumstances should you attempt to reboot a workstation yourself, as unless shut down properly damage to data, both yours and that of others is likely to result.\n",
      "\n",
      "Many workstations you will come across have a simple power-saving device: the screen turns itself off if the keyboard hasn\u2019t been used for a few minutes. To turn the screen back on, simply press a key on the keyboard such as shift, ctrl or the space bar. Often the monitor will have been turned off by the last user to save power (and to stop the lab heating up!) - in most cases, the monitors have a switch or button located on the lower right front of the monitor. If the monitor is on, a small green LED will light up. This is the only switch you should ever touch on the workstations. If it\u2019s not on the front of the monitor, please leave it alone."
     ]
    },
    {
     "cell_type": "heading",
     "level": 3,
     "metadata": {},
     "source": [
      "Accounts and passwords"
     ]
    },
    {
     "cell_type": "markdown",
     "metadata": {},
     "source": [
      "The UNIX prompt is a sequence of characters that the part of the operating system (OS) that you interact with, known as the *shell*, places at the start of each line when it is expecting you to enter a command. Often this prompt will be formed by the name of the machine to which you are logged in, followed by a `%` sign. For instance:"
     ]
    },
    {
     "cell_type": "raw",
     "metadata": {},
     "source": [
      "berlin%"
     ]
    },
    {
     "cell_type": "markdown",
     "metadata": {},
     "source": [
      "which will indicate that you are logged on through a window (which you might call a terminal or a shell though these are subtly different things).\n",
      "\n",
      "The nature of the prompt will vary from system to system, but the Geography machines have a prompt as above. When you become experienced you can customise the prompt to your own liking. The cursor (a small solid rectangle or underscore symbol) placed after the prompt tells you where your current typing position is (clicking in the window with the mouse doesn\u2019t mover the cursor - it always remians at the end of the current line you\u2019re on). The current line with the prompt is therefore known as the command line. Depending on the particular shell you are using and the sort of keyboard you have, you may be able to use up and down arrows to quickly go back through commands that you have typed at that prompt (in that shell session) (i.e. your history)."
     ]
    },
    {
     "cell_type": "markdown",
     "metadata": {},
     "source": [
      "The first time you log in, you will be given a default password (this is the same for all students).\n",
      "\n",
      "You should make sure that you change your password as soon as possible, but this needs to be something you will remember (as with all passwords) and secure enough that it can't easily be guessed.\n",
      "You could possibkly use the same password that you have for your ucl system account (or a variant of it). UCL will force you to change it every 3-6 months, so make sure youy also change your password on the system here. If you forget your password, you will need to see or email the system manager to get them to reset it (it is encrypted so they can't know what it is, but they can reset it).\n",
      "\n",
      "To change your password, type `passwd` at the command prompt and follow the instructions:"
     ]
    },
    {
     "cell_type": "raw",
     "metadata": {},
     "source": [
      "berlin% passwd"
     ]
    },
    {
     "cell_type": "heading",
     "level": 3,
     "metadata": {},
     "source": [
      "Logging out"
     ]
    },
    {
     "cell_type": "markdown",
     "metadata": {},
     "source": [
      "When you have finished your session at the computer, you must log off. To achieve this from a remote PC/Mac connection, simply type logout or exit at the prompt. From within a windowing session at the machine itself, select the logout option from your root menu (see the section on the windowing system for more details), and then confirm the logout by clicking on yes. If you leave yourself logged on then other people may come along and use your account, access your email etc. Whilst in a University environment this is not necessarily a problem - the next user will probably come along and log you out so that they can log on themselves it is important to log out so that other people don\u2019t waste time wondering whether you have finished, or have just popped out for a few minutes. Don\u2019t lock your workstation - this is anti-social behaviour as it prevents anyone else using it, and if we see it we\u2019ll log you out anyway, and probably take all your pocket money away. If you leave for more than a few minutes, log yourself out. One of the advantages of a UNIX system is that you can leave a job running in the \u2018background\u2019 (don\u2019t worry, we\u2019ll get to that later) which means it\u2019ll keep running for as long as you want even after you log out."
     ]
    },
    {
     "cell_type": "heading",
     "level": 2,
     "metadata": {},
     "source": [
      "The UNIX file system"
     ]
    },
    {
     "cell_type": "markdown",
     "metadata": {},
     "source": [
      "All information in UNIX, whether it is a program, data or text, is stored in files. These files are maintained by the operating system on hard disks (usually), and read into the computer\u2019s memory when required. Files may be grouped together in directories (equivalent to folders), and these directories may themselves contain other directories and/or files. In fact, directories are really a special kind of file, but the user perceives the whole structure as forming a hierarchy of files and directories. This hierarchy is known as the filesystem. When UNIX computers are networked, the filesystem is not contained within one single machine, but spans the entire network. Each file and directory within the network filesystem is addressable via its own unique name - its filename, or directory name, and to the user the fact that the filesystem straddles multiple machines and hard disks goes largely unnoticed.\n",
      "\n",
      "The filesystem may be visualised as the roots of a tree. At the very top level of the filesystem on each individual machine resides the root directory, denoted / (slash).\n",
      "\n",
      "Beneath this directory lie the other directories containing files and further directories, including data and references to data stored elsewhere on the network."
     ]
    },
    {
     "cell_type": "markdown",
     "metadata": {},
     "source": [
      "![](https://raw.github.com/profLewis/geogg122/master/diagramSystem1.png)"
     ]
    },
    {
     "cell_type": "heading",
     "level": 2,
     "metadata": {},
     "source": [
      "Absolute and relative path names"
     ]
    },
    {
     "cell_type": "markdown",
     "metadata": {},
     "source": [
      "We have already mentioned that every file or directory in the filesystem is uniquely addressable by its filename or directory name. In fact a file\u2019s full name is a description of the path from the root of the file system to the file itself. For instance, the directory `plewis` under the `home` directory has the full name:"
     ]
    },
    {
     "cell_type": "raw",
     "metadata": {},
     "source": [
      "/home/plewis"
     ]
    },
    {
     "cell_type": "markdown",
     "metadata": {},
     "source": [
      "Note that as well as being the root of the filesystem, `/` is also used as a directory separator for full filenames and paths (note that is the opposite of the Windows/DOS directory separator `\\`). Here the directory `plewis` is reached by starting at the root of the system, `/`, going into the `home` directory. A directory contained within another directory is known as a sub-directory of its parent, or container, directory. The `/home/` section of the full filename is known as the absolute path(name) to the file - absolute because it starts at the root of the system. With this nomenclature we are able to move around the filesystem.  \n",
      "\n",
      "Similarly, relative pathnames are permissible, describing the route to another path or directory from the current directory: the file `country.dat` in the directory `/home/plewis` may be addressed either absolutely as:"
     ]
    },
    {
     "cell_type": "raw",
     "metadata": {},
     "source": [
      "/home/plewis/country.dat"
     ]
    },
    {
     "cell_type": "markdown",
     "metadata": {},
     "source": [
      "or relative to e.g. the directory `/home/mdisney` as:"
     ]
    },
    {
     "cell_type": "raw",
     "metadata": {},
     "source": [
      "../plewis/country.dat"
     ]
    },
    {
     "cell_type": "markdown",
     "metadata": {},
     "source": [
      "where `..` is a special symbol meaning \u2018up one directory level\u2019. An analogy is the address of your next door neighbour\u2019s house. If you wanted to tell a friend what next door\u2019s address is, you could give them the house number, the street, the city, the post code, and even the country. That\u2019s the absolute path name to your neighbour\u2019s house. Of course it\u2019s much easier to specify \u201cone house up from mine\u201d or \u201cnumber 18\u201d etc. This is the relative path (relative to yours)."
     ]
    },
    {
     "cell_type": "markdown",
     "metadata": {},
     "source": [
      "Since `..` (dot-dot) means 'up one level' in unix, we can also note at this point that the symbol `.` (dot) means 'the current directory', so:"
     ]
    },
    {
     "cell_type": "raw",
     "metadata": {},
     "source": [
      "./country.dat"
     ]
    },
    {
     "cell_type": "markdown",
     "metadata": {},
     "source": [
      "would refer to a file called `country.dat` that is in the current directory."
     ]
    },
    {
     "cell_type": "heading",
     "level": 2,
     "metadata": {},
     "source": [
      "Negotiating the file system"
     ]
    },
    {
     "cell_type": "markdown",
     "metadata": {},
     "source": [
      "Each user in a UNIX network system has specific area of the filesystem belonging to them known as their home directory in which they are initially placed when they log on. Armed with a basic knowledge of the structure of the filesystem, each user is free to explore and visit almost any area of the system unless it has been specifically protected by its owner."
     ]
    },
    {
     "cell_type": "heading",
     "level": 4,
     "metadata": {},
     "source": [
      "pwd - print working directory (where am I in this shell?)"
     ]
    },
    {
     "cell_type": "markdown",
     "metadata": {},
     "source": [
      "A good place to start is to be aware of *where you are* in the current shell.\n",
      "\n"
     ]
    },
    {
     "cell_type": "markdown",
     "metadata": {},
     "source": [
      "When you opened your shell, you should normally be in your *home* directory, which will be something like `/home/fbloggs` on our system (if your username were fbloggs) (or on a mac, under OS X, it might be `/Users/fbloggs`).\n",
      "\n",
      "Try this for yourself now **in a shell** and confirm that this is the case. Make sure to hit the `return` key to execute the command."
     ]
    },
    {
     "cell_type": "code",
     "collapsed": false,
     "input": [
      "pwd"
     ],
     "language": "python",
     "metadata": {},
     "outputs": [
      {
       "output_type": "pyout",
       "prompt_number": 3,
       "text": [
        "u'/Users/plewis'"
       ]
      }
     ],
     "prompt_number": 3
    },
    {
     "cell_type": "markdown",
     "metadata": {},
     "source": [
      "The home directory is a special place ... it's the part of the system that you 'own' and have control over.\n",
      "\n",
      "There is a special symbol in unix (formally, the *tilde* symbol `~`, though we often call it *twiddle*). In '*unix speak*' then we might refer to the home directory of the user `plewis` and '*twiddle plewis*', which we would write as `~plewis`.\n",
      "\n",
      "If you want to refer to your *own* home directory, you can shortcut this to just '*twiddle*', i.e. `~`."
     ]
    },
    {
     "cell_type": "heading",
     "level": 4,
     "metadata": {},
     "source": [
      "cd - change directory"
     ]
    },
    {
     "cell_type": "markdown",
     "metadata": {},
     "source": [
      "So, we know how to find out where we are. How do we get somewhere else on the system?\n",
      "\n",
      "To change your working directory to somewhere else, use the command `cd` (change directory).\n",
      "\n",
      "*Let's use that now (in a shell) to change our working directory to the root of the file system.*"
     ]
    },
    {
     "cell_type": "code",
     "collapsed": false,
     "input": [
      "cd /"
     ],
     "language": "python",
     "metadata": {},
     "outputs": [
      {
       "output_type": "stream",
       "stream": "stdout",
       "text": [
        "/\n"
       ]
      }
     ],
     "prompt_number": 4
    },
    {
     "cell_type": "markdown",
     "metadata": {},
     "source": [
      "which will (once you hit the return key to execute the command) change your location, your \u2018working directory\u2019 to the root directory `/`. \n",
      "\n",
      "A few things to pay attention to when first coming across this:\n",
      "\n",
      "*    first, there is space (\u2018white space\u2019 as we call it) between the command cd and the \u2018argument\u2019 `/`. This is one or more spaces or tab characters so that the shell can understand that you want to run the command cd and give it some extra information (where to change directory to in this case), rather than, for example typing `cd/` in which case the shell will interpret `cd/` as the command you are trying to run;\n",
      "*    second, if you think about what you want to achieve with the command, (change directory to somewhere) it should be quite apparent that apart from the command, you also need to give the shell an indication of where you want to go (`/` here) so you (normally) will have to type cd somewhere where somewhere is where you want to go. When you are first using these commands, pausing and thinking about what you want to achive is particularly important. Later, it will generally become second nature (as when you learn any new language).\n",
      "\n",
      "Now, if you type e.g.:"
     ]
    },
    {
     "cell_type": "code",
     "collapsed": false,
     "input": [
      "cd usr/bin"
     ],
     "language": "python",
     "metadata": {},
     "outputs": [
      {
       "output_type": "stream",
       "stream": "stdout",
       "text": [
        "/usr/bin\n"
       ]
      }
     ],
     "prompt_number": 5
    },
    {
     "cell_type": "markdown",
     "metadata": {},
     "source": [
      "You will change directory to the subdirectory `bin` of the subdirectory `usr` of `/`, which is the same as doing (using an absolute pathname):"
     ]
    },
    {
     "cell_type": "code",
     "collapsed": false,
     "input": [
      "cd /usr/bin"
     ],
     "language": "python",
     "metadata": {},
     "outputs": [
      {
       "output_type": "stream",
       "stream": "stdout",
       "text": [
        "/usr/bin\n"
       ]
      }
     ],
     "prompt_number": 6
    },
    {
     "cell_type": "markdown",
     "metadata": {},
     "source": [
      "These look similar at first glance, but the second importantly has a `/` at the front of the directory name, and so is an absolute pathname, whereas the first does not, so it is a relative pathname.\n",
      "\n",
      "The idea should be simple and intuitive once you get the idea of / being a separator and / being the top of the directory tree (the root directory)."
     ]
    },
    {
     "cell_type": "markdown",
     "metadata": {},
     "source": [
      "We can also practice using the symbol `.` (dot) at this point ... what does the following command do? (hint: check which directory you are in, run the command below, then chack again to see where you are)."
     ]
    },
    {
     "cell_type": "code",
     "collapsed": false,
     "input": [
      "cd ."
     ],
     "language": "python",
     "metadata": {},
     "outputs": [
      {
       "output_type": "stream",
       "stream": "stdout",
       "text": [
        "/usr/bin\n"
       ]
      }
     ],
     "prompt_number": 7
    },
    {
     "cell_type": "heading",
     "level": 4,
     "metadata": {},
     "source": [
      "ls - list"
     ]
    },
    {
     "cell_type": "markdown",
     "metadata": {},
     "source": [
      "The unix command to give a listing of files or directories is `ls`. e.g.:"
     ]
    },
    {
     "cell_type": "code",
     "collapsed": false,
     "input": [
      "cd /usr/local"
     ],
     "language": "python",
     "metadata": {},
     "outputs": [
      {
       "output_type": "stream",
       "stream": "stdout",
       "text": [
        "/usr/local\n"
       ]
      }
     ],
     "prompt_number": 8
    },
    {
     "cell_type": "code",
     "collapsed": false,
     "input": [
      "ls"
     ],
     "language": "python",
     "metadata": {},
     "outputs": [
      {
       "output_type": "stream",
       "stream": "stdout",
       "text": [
        "\u001b[34mbin\u001b[m\u001b[m/     \u001b[34metc\u001b[m\u001b[m/     \u001b[34minclude\u001b[m\u001b[m/ \u001b[34mlib\u001b[m\u001b[m/     \u001b[34mlibexec\u001b[m\u001b[m/ \u001b[34msbin\u001b[m\u001b[m/    \u001b[34mshare\u001b[m\u001b[m/\r\n"
       ]
      }
     ],
     "prompt_number": 9
    },
    {
     "cell_type": "markdown",
     "metadata": {},
     "source": [
      "This tells us that in the system directory `/usr/local/` there are (on this particular computer) a set of directories called `bin`, `etc` and so on.\n",
      "\n",
      "We could have a look to see what is in those direcories e.g.:"
     ]
    },
    {
     "cell_type": "code",
     "collapsed": false,
     "input": [
      "ls /usr/local/share"
     ],
     "language": "python",
     "metadata": {},
     "outputs": [
      {
       "output_type": "stream",
       "stream": "stdout",
       "text": [
        "\u001b[34mdoc\u001b[m\u001b[m/      \u001b[34mgit-core\u001b[m\u001b[m/ \u001b[34minfo\u001b[m\u001b[m/     \u001b[34mlocale\u001b[m\u001b[m/   \u001b[34mman\u001b[m\u001b[m/\r\n"
       ]
      }
     ],
     "prompt_number": 10
    },
    {
     "cell_type": "markdown",
     "metadata": {},
     "source": [
      "so we find some more sub-directories.\n",
      "\n",
      "Note that just typing:"
     ]
    },
    {
     "cell_type": "code",
     "collapsed": false,
     "input": [
      "ls"
     ],
     "language": "python",
     "metadata": {},
     "outputs": [
      {
       "output_type": "stream",
       "stream": "stdout",
       "text": [
        "\u001b[34mbin\u001b[m\u001b[m/     \u001b[34metc\u001b[m\u001b[m/     \u001b[34minclude\u001b[m\u001b[m/ \u001b[34mlib\u001b[m\u001b[m/     \u001b[34mlibexec\u001b[m\u001b[m/ \u001b[34msbin\u001b[m\u001b[m/    \u001b[34mshare\u001b[m\u001b[m/\r\n"
       ]
      }
     ],
     "prompt_number": 11
    },
    {
     "cell_type": "markdown",
     "metadata": {},
     "source": [
      "has the same effect as typing:"
     ]
    },
    {
     "cell_type": "code",
     "collapsed": false,
     "input": [
      "ls ."
     ],
     "language": "python",
     "metadata": {},
     "outputs": [
      {
       "output_type": "stream",
       "stream": "stdout",
       "text": [
        "\u001b[34mbin\u001b[m\u001b[m/     \u001b[34metc\u001b[m\u001b[m/     \u001b[34minclude\u001b[m\u001b[m/ \u001b[34mlib\u001b[m\u001b[m/     \u001b[34mlibexec\u001b[m\u001b[m/ \u001b[34msbin\u001b[m\u001b[m/    \u001b[34mshare\u001b[m\u001b[m/\r\n"
       ]
      }
     ],
     "prompt_number": 12
    },
    {
     "cell_type": "heading",
     "level": 3,
     "metadata": {},
     "source": [
      "Exercise Unix-1"
     ]
    },
    {
     "cell_type": "markdown",
     "metadata": {},
     "source": [
      "1. Change directory back to your home. Check where you are when you get there.  \n",
      "2. Use an appropriate unix command to find out which files and directories you have in your home.\n",
      "2. Change directory to your neighbour's home (you will need to ask them their username). Check where you are when you get there, and see what files they have.\n",
      "3. Repeat these two exercises, (a) using `~`; (b) using absolute pathnames; (c) using relative path names, perhaps throwing in the symbol `.` to make sure you understand that."
     ]
    },
    {
     "cell_type": "markdown",
     "metadata": {},
     "source": [
      "<table border=\"0\">\n",
      "<tr>\n",
      "  <td>[<a href=\"http://nbviewer.ipython.org/urls/raw.github.com/profLewis/geogg122/master/intro.ipynb\">Prev</a>]\n",
      "  <td>[<a href=\"http://nbviewer.ipython.org/urls/raw.github.com/profLewis/geogg122/master/index.ipynb\">Home</a>]\n",
      "  <td>[<a href=\"https://github.com/profLewis/geogg122\">GitHub</a>]\n",
      "  <td>[<a href=\"http://nbviewer.ipython.org/urls/raw.github.com/profLewis/geogg122/master/unix_intro_answers.ipynb\">Next</a>]\n",
      "</table>"
     ]
    }
   ],
   "metadata": {}
  }
 ]
}