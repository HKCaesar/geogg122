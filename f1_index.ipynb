{
 "metadata": {
  "name": "f1_index"
 },
 "nbformat": 3,
 "nbformat_minor": 0,
 "worksheets": [
  {
   "cells": [
    {
     "cell_type": "markdown",
     "metadata": {},
     "source": [
      "![](https://raw.github.com/profLewis/geogg122/master/ucl_logo.png)"
     ]
    },
    {
     "cell_type": "markdown",
     "metadata": {},
     "source": [
      "<table border=\"0\">\n",
      "<tr>\n",
      "  <td>[<a href=\"http://nbviewer.ipython.org/urls/raw.github.com/profLewis/geogg122/master/index.ipynb\">Prev</a>]\n",
      "  <td>[<a href=\"http://nbviewer.ipython.org/urls/raw.github.com/profLewis/geogg122/master/index.ipynb\">Home</a>]\n",
      "  <td>[<a href=\"https://github.com/profLewis/geogg122\">GitHub</a>]\n",
      "  <td>[<a href=\"http://nbviewer.ipython.org/urls/raw.github.com/profLewis/geogg122/master/intro.ipynb\">Next</a>]\n",
      "</table>"
     ]
    },
    {
     "cell_type": "markdown",
     "metadata": {},
     "source": [
      "# Welcome to GeogG122: Scientific Computing\n",
      "\n",
      "## Course information\n",
      "\n",
      "### Course Convenor\n",
      "\n",
      "[Prof P. Lewis](http://www.geog.ucl.ac.uk/~plewis)\n",
      "\n",
      "### Course Staff\n",
      "[Prof P. Lewis](http://www.geog.ucl.ac.uk/~plewis)  \n",
      "[Dr. Qingling Wu](http://www.geog.ucl.ac.uk/about-the-department/people/academic-staff/qingling-wu)  \n",
      "        \n",
      "\n",
      "### Useful links\n",
      "\n",
      "[Course Moodle page](http://moodle.ucl.ac.uk/course/view.php?id=13891)  \n",
      "\n",
      "[A useful reading list for basic and advanced Unix.](http://www.ee.surrey.ac.uk/Teaching/Unix/books-uk.html)  \n",
      "\n",
      "## Course notes\n",
      "\n",
      "* <a href=\"http://nbviewer.ipython.org/urls/raw.github.com/profLewis/geogg122/master/intro.ipynb\">Introduction to the Course</a>\n",
      "\n",
      "    + The Structure of the Course<structure>\n",
      "   Introduction to Unix<unix_intro>    \n",
      "   Some Unix Tools and Concepts<unix_two>"
     ]
    },
    {
     "cell_type": "heading",
     "level": 2,
     "metadata": {},
     "source": [
      "Using these notes"
     ]
    },
    {
     "cell_type": "markdown",
     "metadata": {},
     "source": [
      "These notes are created in [ipython notebooks](http://ipython.org/ipython-doc/dev/interactive/notebook.html).\n",
      "\n",
      "You can download each notebook individually, or obtain the whole course from [github](https://github.com/profLewis/geogg122).\n",
      "\n",
      "To download the whole course, you can:\n",
      "    \n",
      "1. use the command `git`, if available:  \n",
      "     Create a place on the system that you want to work in (N.B., don't type `berlin%`: that represents the command line prompt), e.g.:  \n",
      "        \n",
      "   `berlin% mkdir -p ~/Data/msc`  \n",
      "   `berlin% cd ~/Data/msc`  \n",
      "   `berlin% git clone https://github.com/profLewis/geogg122.git`  \n",
      "   `berlin% cd ~/Data/msc/geogg122`\n",
      "            \n",
      "   This will create a directory `~/Data/msc/geogg122` which has the current versions of the notebooks for the course and associated files.\n",
      "            \n",
      "   If the course notes change at all (e.g. are updated), you can update your copy with:\n",
      "                \n",
      "   `berlin% \n",
      "            \n"
     ]
    },
    {
     "cell_type": "code",
     "collapsed": false,
     "input": [
      "from IPython.display import FileLink, FileLinks\n",
      "FileLinks('.','*',['.ipynb'])"
     ],
     "language": "python",
     "metadata": {},
     "outputs": [
      {
       "html": [
        "./<br>\n",
        "&nbsp;&nbsp;<a href='*./f1_index.ipynb' target='_blank'>f1_index.ipynb</a><br>\n",
        "&nbsp;&nbsp;<a href='*./f2_intro.ipynb' target='_blank'>f2_intro.ipynb</a><br>\n",
        "&nbsp;&nbsp;<a href='*./f3_1_unix_intro.ipynb' target='_blank'>f3_1_unix_intro.ipynb</a><br>\n",
        "&nbsp;&nbsp;<a href='*./f3_1a_unix_intro_answers.ipynb' target='_blank'>f3_1a_unix_intro_answers.ipynb</a><br>\n",
        "&nbsp;&nbsp;<a href='*./f3_2_unix_intro2.ipynb' target='_blank'>f3_2_unix_intro2.ipynb</a><br>\n",
        "&nbsp;&nbsp;<a href='*./f3_3_unix_intro3.ipynb' target='_blank'>f3_3_unix_intro3.ipynb</a><br>\n",
        "&nbsp;&nbsp;<a href='*./GDAL_HDF.ipynb' target='_blank'>GDAL_HDF.ipynb</a><br>"
       ],
       "output_type": "pyout",
       "prompt_number": 15,
       "text": [
        "./\n",
        "  f1_index.ipynb\n",
        "  f2_intro.ipynb\n",
        "  f3_1_unix_intro.ipynb\n",
        "  f3_1a_unix_intro_answers.ipynb\n",
        "  f3_2_unix_intro2.ipynb\n",
        "  f3_3_unix_intro3.ipynb\n",
        "  GDAL_HDF.ipynb"
       ]
      }
     ],
     "prompt_number": 15
    },
    {
     "cell_type": "markdown",
     "metadata": {},
     "source": [
      "<table border=\"0\">\n",
      "<tr>\n",
      "  <td>[<a href=\"http://nbviewer.ipython.org/urls/raw.github.com/profLewis/geogg122/master/index.ipynb\">Prev</a>]\n",
      "  <td>[<a href=\"http://nbviewer.ipython.org/urls/raw.github.com/profLewis/geogg122/master/index.ipynb\">Home</a>]\n",
      "  <td>[<a href=\"https://github.com/profLewis/geogg122\">GitHub</a>]\n",
      "  <td>[<a href=\"intro.ipynb\">Next</a>]\n",
      "</table>\n",
      "    "
     ]
    }
   ],
   "metadata": {}
  }
 ]
}