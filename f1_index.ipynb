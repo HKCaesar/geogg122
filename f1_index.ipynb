{
 "metadata": {
  "name": "f1_index"
 },
 "nbformat": 3,
 "nbformat_minor": 0,
 "worksheets": [
  {
   "cells": [
    {
     "cell_type": "markdown",
     "metadata": {},
     "source": [
      "![](https://raw.github.com/profLewis/geogg122/master/ucl_logo.png)"
     ]
    },
    {
     "cell_type": "markdown",
     "metadata": {},
     "source": [
      "<table border=\"0\">\n",
      "<tr>\n",
      "  <td>[<a href=\"http://nbviewer.ipython.org/urls/raw.github.com/profLewis/geogg122/master/f1_index.ipynb\">Prev</a>]\n",
      "  <td>[<a href=\"http://nbviewer.ipython.org/urls/raw.github.com/profLewis/geogg122/master/f1_index.ipynb\">Home</a>]\n",
      "  <td>[<a href=\"https://github.com/profLewis/geogg122\">GitHub</a>]\n",
      "  <td>[<a href=\"http://nbviewer.ipython.org/urls/raw.github.com/profLewis/geogg122/master/f2_intro.ipynb\">Next</a>]\n",
      "</table>"
     ]
    },
    {
     "cell_type": "markdown",
     "metadata": {},
     "source": [
      "# Welcome to GeogG122: Scientific Computing\n",
      "\n",
      "## Course information\n",
      "\n",
      "### Course Convenor\n",
      "\n",
      "[Prof P. Lewis](http://www.geog.ucl.ac.uk/~plewis)\n",
      "\n",
      "### Course Staff\n",
      "[Prof P. Lewis](http://www.geog.ucl.ac.uk/~plewis)  \n",
      "[Dr. Qingling Wu](http://www.geog.ucl.ac.uk/about-the-department/people/academic-staff/qingling-wu)  \n",
      "        \n",
      "\n",
      "### Useful links\n",
      "\n",
      "[Course Moodle page](http://moodle.ucl.ac.uk/course/view.php?id=13891)  \n",
      "\n",
      "[A useful reading list for basic and advanced Unix.](http://www.ee.surrey.ac.uk/Teaching/Unix/books-uk.html)  \n",
      "\n",
      "## Course notes\n",
      "\n",
      "* <a href=\"http://nbviewer.ipython.org/urls/raw.github.com/profLewis/geogg122/master/intro.ipynb\">Introduction to the Course</a>\n",
      "\n",
      "    + The Structure of the Course<structure>\n",
      "   Introduction to Unix<unix_intro>    \n",
      "   Some Unix Tools and Concepts<unix_two>"
     ]
    },
    {
     "cell_type": "heading",
     "level": 2,
     "metadata": {},
     "source": [
      "Using these notes"
     ]
    },
    {
     "cell_type": "markdown",
     "metadata": {},
     "source": [
      "There are several ways you can access this course material.\n",
      "\n",
      "These notes are created in [ipython notebooks](http://ipython.org/ipython-doc/dev/interactive/notebook.html).\n",
      "\n",
      "The course is all stored online in [github](https://github.com/profLewis/geogg122), so you can just navigate to that site and download the files as you like.\n",
      "\n",
      "One option is to access individual notebooks online through the [IPython Notebook Viewer](http://nbviewer.ipython.org/).\n",
      "\n",
      "For example, to view the notebook `https://github.com/profLewis/geogg122/blob/master/f2_intro.ipynb`, you use the web address [`http://nbviewer.ipython.org/urls/raw.github.com/profLewis/geogg122/master/f2_intro.ipynb`](http://nbviewer.ipython.org/urls/raw.github.com/profLewis/geogg122/master/f2_intro.ipynb).\n",
      "    \n",
      "From these viewers, you can download the notebook if you like, using the *Download Notebook* button (top right of the page).\n",
      "\n",
      "Provided you have a relatively up to date version of [`ipython`](http://ipython.org/ipython-doc/dev/interactive/nbconvert.html#nbconvert) and a few other tools such as [`pandoc`](http://johnmacfarlane.net/pandoc/installing.html) you can convert your own notebooks to other formats using `ipython`, e.g.:\n",
      "    \n",
      "`berlin% ipython nbconvert --to html f2_intro.ipynb`\n",
      "\n",
      "You can also convert the notebooks to other [formats](http://ipython.org/ipython-doc/rel-1.0.0/interactive/nbconvert.html) though you might need some other tools as well for this. If you have a working copy of `LaTeX` on your system (e.g. [MacTeX](http://tug.org/mactex/downloading.html) on OS X), you can convert the notebooks to pdf format:\n",
      "\n",
      "`berlin% ipython nbconvert --to latex --post PDF f2_intro.ipynb`"
     ]
    },
    {
     "cell_type": "heading",
     "level": 3,
     "metadata": {},
     "source": [
      "Obtaining the course material"
     ]
    },
    {
     "cell_type": "markdown",
     "metadata": {},
     "source": [
      "\n",
      "Alternatively, you can obtain the whole course from [github](https://github.com/profLewis/geogg122).\n",
      "\n",
      "To download the whole course, you can:\n",
      "    \n",
      "1. **using git**  \n",
      "\n",
      "   use the command [`git`](http://en.wikipedia.org/wiki/Git_%28software%29), if available:  \n",
      "     Create a place on the system that you want to work in (N.B., don't type `berlin%`: that represents the command line prompt), e.g.:  \n",
      "        \n",
      "   `berlin% mkdir -p ~/Data/msc`  \n",
      "   `berlin% cd ~/Data/msc`  \n",
      "   `berlin% git clone https://github.com/profLewis/geogg122.git`  \n",
      "   `berlin% cd ~/Data/msc/geogg122`\n",
      "            \n",
      "   This will create a directory `~/Data/msc/geogg122` which has the current versions of the notebooks for the course and associated files.\n",
      "            \n",
      "   If the course notes change at all (e.g. are updated), you can update your copy with:\n",
      "                \n",
      "   `berlin% git pull`\n",
      "   \n",
      "   To find out more about using `git`, type `git --help`, get [help online](http://www.siteground.com/tutorials/git/commands.htm) or download and use a [gui tool](http://git-scm.com/downloads).  \n",
      "   \n",
      "   \n",
      "   If you set up an account on [github](https://github.com/edu), you can fork the [course repository](https://github.com/profLewis/geogg122) to make your own version of the course notes, and add in your own comments and examples, if that helps you learn or remember things.\n",
      "\n",
      "   <p>\n",
      "   \n",
      "2. **using a zip file**  \n",
      "\n",
      "   Download the course as a zip file:\n",
      "        \n",
      "   `berlin% mkdir -p ~/Data/msc`  \n",
      "   `berlin% cd ~/Data/msc`  \n",
      "   `berlin% wget -O geogg122.zip https://github.com/profLewis/geogg122/archive/master.zip`  \n",
      "   `berlin% unzip geogg122.zip`  \n",
      "   `berlin% cd ~/Data/msc/geogg122-master`\n",
      "            \n"
     ]
    },
    {
     "cell_type": "markdown",
     "metadata": {},
     "source": [
      "In the course, you will find the following notebooks:"
     ]
    },
    {
     "cell_type": "heading",
     "level": 3,
     "metadata": {},
     "source": [
      "Using the course material"
     ]
    },
    {
     "cell_type": "markdown",
     "metadata": {},
     "source": [
      "Once you have copied the course material as described above (and have changed directory to where you have put the course (e.g. `~/Data/msc/geogg122-master` or `~/Data/msc/geogg122`) then you can start the notebooks with:\n",
      "                                                             \n",
      "`berlin% ipython notebook`\n",
      "\n",
      "This should launch a web browser with the address `http://127.0.0.1:8888/` or similar with links to the notebooks you have available. It should look something like the links below."
     ]
    },
    {
     "cell_type": "code",
     "collapsed": false,
     "input": [
      "from IPython.display import FileLink, FileLinks\n",
      "FileLinks('.','*',['.ipynb'])"
     ],
     "language": "python",
     "metadata": {},
     "outputs": [
      {
       "html": [
        "./<br>\n",
        "&nbsp;&nbsp;<a href='*./f1_index.ipynb' target='_blank'>f1_index.ipynb</a><br>\n",
        "&nbsp;&nbsp;<a href='*./f2_intro.ipynb' target='_blank'>f2_intro.ipynb</a><br>\n",
        "&nbsp;&nbsp;<a href='*./f3_1_unix_intro.ipynb' target='_blank'>f3_1_unix_intro.ipynb</a><br>\n",
        "&nbsp;&nbsp;<a href='*./f3_1a_unix_intro_answers.ipynb' target='_blank'>f3_1a_unix_intro_answers.ipynb</a><br>\n",
        "&nbsp;&nbsp;<a href='*./f3_2_unix_intro2.ipynb' target='_blank'>f3_2_unix_intro2.ipynb</a><br>\n",
        "&nbsp;&nbsp;<a href='*./f3_3_unix_intro3.ipynb' target='_blank'>f3_3_unix_intro3.ipynb</a><br>\n",
        "&nbsp;&nbsp;<a href='*./GDAL_HDF.ipynb' target='_blank'>GDAL_HDF.ipynb</a><br>"
       ],
       "output_type": "pyout",
       "prompt_number": 1,
       "text": [
        "./\n",
        "  f1_index.ipynb\n",
        "  f2_intro.ipynb\n",
        "  f3_1_unix_intro.ipynb\n",
        "  f3_1a_unix_intro_answers.ipynb\n",
        "  f3_2_unix_intro2.ipynb\n",
        "  f3_3_unix_intro3.ipynb\n",
        "  GDAL_HDF.ipynb"
       ]
      }
     ],
     "prompt_number": 1
    },
    {
     "cell_type": "markdown",
     "metadata": {},
     "source": [
      "To load a *specific* notebook, you can type e.g.:\n",
      "    \n",
      "`berlin% ipython notebook f1_index.ipynb`"
     ]
    },
    {
     "cell_type": "markdown",
     "metadata": {},
     "source": [
      "<table border=\"0\">\n",
      "<tr>\n",
      "  <td>[<a href=\"http://nbviewer.ipython.org/urls/raw.github.com/profLewis/geogg122/master/f1_index.ipynb\">Prev</a>]\n",
      "  <td>[<a href=\"http://nbviewer.ipython.org/urls/raw.github.com/profLewis/geogg122/master/f1_index.ipynb\">Home</a>]\n",
      "  <td>[<a href=\"https://github.com/profLewis/geogg122\">GitHub</a>]\n",
      "  <td>[<a href=\"http://nbviewer.ipython.org/urls/raw.github.com/profLewis/geogg122/master/f2_intro.ipynb\">Next</a>]\n",
      "</table>\n",
      "    "
     ]
    }
   ],
   "metadata": {}
  }
 ]
}