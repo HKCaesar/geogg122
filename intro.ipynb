{
 "metadata": {
  "name": "intro"
 },
 "nbformat": 3,
 "nbformat_minor": 0,
 "worksheets": [
  {
   "cells": [
    {
     "cell_type": "code",
     "collapsed": false,
     "input": [
      "print 'hello world'"
     ],
     "language": "python",
     "metadata": {},
     "outputs": [
      {
       "output_type": "stream",
       "stream": "stdout",
       "text": [
        "hello world\n"
       ]
      }
     ],
     "prompt_number": 1
    },
    {
     "cell_type": "code",
     "collapsed": false,
     "input": [
      "import urllib2\n",
      "import json\n",
      "data = urllib2.urlopen(\"http://127.0.0.1:8888/notebooks\")\n",
      "json_data=data.read()\n",
      "list_o_dicts=json.loads(json_data)\n",
      "for d in list_o_dicts:\n",
      "  if d['name'] == 'index':\n",
      "    print d['notebook_id']"
     ],
     "language": "python",
     "metadata": {},
     "outputs": [
      {
       "output_type": "stream",
       "stream": "stdout",
       "text": [
        "d58d9bf7-affc-4eff-8e3a-06dacff6d7e7\n"
       ]
      }
     ],
     "prompt_number": 4
    },
    {
     "cell_type": "code",
     "collapsed": false,
     "input": [],
     "language": "python",
     "metadata": {},
     "outputs": []
    }
   ],
   "metadata": {}
  }
 ]
}